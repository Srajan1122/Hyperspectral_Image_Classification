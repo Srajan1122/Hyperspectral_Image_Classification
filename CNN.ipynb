{
  "nbformat": 4,
  "nbformat_minor": 0,
  "metadata": {
    "colab": {
      "name": "CNN",
      "provenance": [],
      "authorship_tag": "ABX9TyN5Ezf+UNU7kEn/CWMVyeHg",
      "include_colab_link": true
    },
    "kernelspec": {
      "name": "python3",
      "display_name": "Python 3"
    }
  },
  "cells": [
    {
      "cell_type": "markdown",
      "metadata": {
        "id": "view-in-github",
        "colab_type": "text"
      },
      "source": [
        "<a href=\"https://colab.research.google.com/github/Srajan1122/Hyperspectral_Image_Classification/blob/srajan/CNN.ipynb\" target=\"_parent\"><img src=\"https://colab.research.google.com/assets/colab-badge.svg\" alt=\"Open In Colab\"/></a>"
      ]
    },
    {
      "cell_type": "code",
      "metadata": {
        "id": "pO-nUq2-KL7a",
        "colab_type": "code",
        "outputId": "a73c1a05-4c46-45e0-d926-dee773f14e57",
        "colab": {
          "base_uri": "https://localhost:8080/",
          "height": 34
        }
      },
      "source": [
        "from google.colab import drive\n",
        "drive.mount('/content/drive')"
      ],
      "execution_count": 112,
      "outputs": [
        {
          "output_type": "stream",
          "text": [
            "Drive already mounted at /content/drive; to attempt to forcibly remount, call drive.mount(\"/content/drive\", force_remount=True).\n"
          ],
          "name": "stdout"
        }
      ]
    },
    {
      "cell_type": "markdown",
      "metadata": {
        "id": "aXpp9_cwKqz1",
        "colab_type": "text"
      },
      "source": [
        "# Importing Libraries"
      ]
    },
    {
      "cell_type": "code",
      "metadata": {
        "id": "qVxnzfWvKN-K",
        "colab_type": "code",
        "colab": {}
      },
      "source": [
        "import pandas as pd\n",
        "import numpy as np\n",
        "from scipy import io\n",
        "from sklearn.model_selection import train_test_split\n",
        "from sklearn.preprocessing import OneHotEncoder \n",
        "from sklearn import preprocessing"
      ],
      "execution_count": 0,
      "outputs": []
    },
    {
      "cell_type": "markdown",
      "metadata": {
        "id": "UqasbIqPK0KM",
        "colab_type": "text"
      },
      "source": [
        "# Importing Dataset"
      ]
    },
    {
      "cell_type": "code",
      "metadata": {
        "id": "erOp3hTTKuzQ",
        "colab_type": "code",
        "colab": {}
      },
      "source": [
        "loaded_dataset = io.loadmat('/content/drive/My Drive/Srajan/Internship/SEM4-LeadingindiaAI/Tasks/Datasets/PaviaC/Pavia.mat')\n",
        "for key, value in loaded_dataset.items():\n",
        "  if isinstance(value, type(np.array([1]))):\n",
        "    image = loaded_dataset[key]"
      ],
      "execution_count": 0,
      "outputs": []
    },
    {
      "cell_type": "code",
      "metadata": {
        "id": "HjbphR_nK5O8",
        "colab_type": "code",
        "colab": {}
      },
      "source": [
        "ground_truth_1 = io.loadmat('/content/drive/My Drive/Srajan/Internship/SEM4-LeadingindiaAI/Tasks/Datasets/PaviaC/Pavia_gt.mat')\n",
        "for key, value in ground_truth_1.items():\n",
        "  if isinstance(value, type(np.array([1]))):\n",
        "    ground_truth = ground_truth_1[key]"
      ],
      "execution_count": 0,
      "outputs": []
    },
    {
      "cell_type": "markdown",
      "metadata": {
        "id": "_9l4ZElPK8xW",
        "colab_type": "text"
      },
      "source": [
        "## Class Labels"
      ]
    },
    {
      "cell_type": "code",
      "metadata": {
        "id": "JumPKdTvK_EY",
        "colab_type": "code",
        "colab": {}
      },
      "source": [
        "label_values = [\"Alfalfa\", \"Corn-notill\", \"Corn-mintill\",\n",
        "                        \"Corn\", \"Grass-pasture\", \"Grass-trees\",\n",
        "                        \"Grass-pasture-mowed\", \"Hay-windrowed\", \"Oats\",\n",
        "                        \"Soybean-notill\", \"Soybean-mintill\", \"Soybean-clean\",\n",
        "                        \"Wheat\", \"Woods\", \"Buildings-Grass-Trees-Drives\",\n",
        "                        \"Stone-Steel-Towers\"]"
      ],
      "execution_count": 0,
      "outputs": []
    },
    {
      "cell_type": "markdown",
      "metadata": {
        "id": "QYIFKIPmLCFV",
        "colab_type": "text"
      },
      "source": [
        "## Resizing the data"
      ]
    },
    {
      "cell_type": "code",
      "metadata": {
        "id": "UnRRsjn8K_zG",
        "colab_type": "code",
        "colab": {}
      },
      "source": [
        "image_with_gt = np.dstack((image, ground_truth))"
      ],
      "execution_count": 0,
      "outputs": []
    },
    {
      "cell_type": "code",
      "metadata": {
        "id": "P2hhElWJLF9V",
        "colab_type": "code",
        "colab": {}
      },
      "source": [
        "final_output = image_with_gt.reshape(ground_truth.size, image.shape[2]+1)"
      ],
      "execution_count": 0,
      "outputs": []
    },
    {
      "cell_type": "markdown",
      "metadata": {
        "id": "ZKGD0bRxLJff",
        "colab_type": "text"
      },
      "source": [
        "## Data Visualization in pandas"
      ]
    },
    {
      "cell_type": "code",
      "metadata": {
        "id": "4AWkTHdDLOwf",
        "colab_type": "code",
        "colab": {}
      },
      "source": [
        "data = pd.DataFrame(final_output)"
      ],
      "execution_count": 0,
      "outputs": []
    },
    {
      "cell_type": "code",
      "metadata": {
        "id": "9ctUP_zKLUpJ",
        "colab_type": "code",
        "outputId": "8a564909-6c1a-4a6f-d71c-6a9b12b83315",
        "colab": {
          "base_uri": "https://localhost:8080/",
          "height": 253
        }
      },
      "source": [
        "data.head()"
      ],
      "execution_count": 120,
      "outputs": [
        {
          "output_type": "execute_result",
          "data": {
            "text/html": [
              "<div>\n",
              "<style scoped>\n",
              "    .dataframe tbody tr th:only-of-type {\n",
              "        vertical-align: middle;\n",
              "    }\n",
              "\n",
              "    .dataframe tbody tr th {\n",
              "        vertical-align: top;\n",
              "    }\n",
              "\n",
              "    .dataframe thead th {\n",
              "        text-align: right;\n",
              "    }\n",
              "</style>\n",
              "<table border=\"1\" class=\"dataframe\">\n",
              "  <thead>\n",
              "    <tr style=\"text-align: right;\">\n",
              "      <th></th>\n",
              "      <th>0</th>\n",
              "      <th>1</th>\n",
              "      <th>2</th>\n",
              "      <th>3</th>\n",
              "      <th>4</th>\n",
              "      <th>5</th>\n",
              "      <th>6</th>\n",
              "      <th>7</th>\n",
              "      <th>8</th>\n",
              "      <th>9</th>\n",
              "      <th>10</th>\n",
              "      <th>11</th>\n",
              "      <th>12</th>\n",
              "      <th>13</th>\n",
              "      <th>14</th>\n",
              "      <th>15</th>\n",
              "      <th>16</th>\n",
              "      <th>17</th>\n",
              "      <th>18</th>\n",
              "      <th>19</th>\n",
              "      <th>20</th>\n",
              "      <th>21</th>\n",
              "      <th>22</th>\n",
              "      <th>23</th>\n",
              "      <th>24</th>\n",
              "      <th>25</th>\n",
              "      <th>26</th>\n",
              "      <th>27</th>\n",
              "      <th>28</th>\n",
              "      <th>29</th>\n",
              "      <th>30</th>\n",
              "      <th>31</th>\n",
              "      <th>32</th>\n",
              "      <th>33</th>\n",
              "      <th>34</th>\n",
              "      <th>35</th>\n",
              "      <th>36</th>\n",
              "      <th>37</th>\n",
              "      <th>38</th>\n",
              "      <th>39</th>\n",
              "      <th>...</th>\n",
              "      <th>63</th>\n",
              "      <th>64</th>\n",
              "      <th>65</th>\n",
              "      <th>66</th>\n",
              "      <th>67</th>\n",
              "      <th>68</th>\n",
              "      <th>69</th>\n",
              "      <th>70</th>\n",
              "      <th>71</th>\n",
              "      <th>72</th>\n",
              "      <th>73</th>\n",
              "      <th>74</th>\n",
              "      <th>75</th>\n",
              "      <th>76</th>\n",
              "      <th>77</th>\n",
              "      <th>78</th>\n",
              "      <th>79</th>\n",
              "      <th>80</th>\n",
              "      <th>81</th>\n",
              "      <th>82</th>\n",
              "      <th>83</th>\n",
              "      <th>84</th>\n",
              "      <th>85</th>\n",
              "      <th>86</th>\n",
              "      <th>87</th>\n",
              "      <th>88</th>\n",
              "      <th>89</th>\n",
              "      <th>90</th>\n",
              "      <th>91</th>\n",
              "      <th>92</th>\n",
              "      <th>93</th>\n",
              "      <th>94</th>\n",
              "      <th>95</th>\n",
              "      <th>96</th>\n",
              "      <th>97</th>\n",
              "      <th>98</th>\n",
              "      <th>99</th>\n",
              "      <th>100</th>\n",
              "      <th>101</th>\n",
              "      <th>102</th>\n",
              "    </tr>\n",
              "  </thead>\n",
              "  <tbody>\n",
              "    <tr>\n",
              "      <th>0</th>\n",
              "      <td>854</td>\n",
              "      <td>601</td>\n",
              "      <td>350</td>\n",
              "      <td>266</td>\n",
              "      <td>138</td>\n",
              "      <td>118</td>\n",
              "      <td>178</td>\n",
              "      <td>194</td>\n",
              "      <td>257</td>\n",
              "      <td>269</td>\n",
              "      <td>239</td>\n",
              "      <td>243</td>\n",
              "      <td>220</td>\n",
              "      <td>191</td>\n",
              "      <td>173</td>\n",
              "      <td>150</td>\n",
              "      <td>125</td>\n",
              "      <td>131</td>\n",
              "      <td>137</td>\n",
              "      <td>172</td>\n",
              "      <td>195</td>\n",
              "      <td>218</td>\n",
              "      <td>255</td>\n",
              "      <td>291</td>\n",
              "      <td>320</td>\n",
              "      <td>346</td>\n",
              "      <td>347</td>\n",
              "      <td>368</td>\n",
              "      <td>404</td>\n",
              "      <td>428</td>\n",
              "      <td>429</td>\n",
              "      <td>416</td>\n",
              "      <td>394</td>\n",
              "      <td>368</td>\n",
              "      <td>357</td>\n",
              "      <td>361</td>\n",
              "      <td>369</td>\n",
              "      <td>368</td>\n",
              "      <td>351</td>\n",
              "      <td>328</td>\n",
              "      <td>...</td>\n",
              "      <td>219</td>\n",
              "      <td>239</td>\n",
              "      <td>289</td>\n",
              "      <td>366</td>\n",
              "      <td>482</td>\n",
              "      <td>632</td>\n",
              "      <td>814</td>\n",
              "      <td>1005</td>\n",
              "      <td>1225</td>\n",
              "      <td>1464</td>\n",
              "      <td>1732</td>\n",
              "      <td>2044</td>\n",
              "      <td>2383</td>\n",
              "      <td>2716</td>\n",
              "      <td>2985</td>\n",
              "      <td>3203</td>\n",
              "      <td>3385</td>\n",
              "      <td>3538</td>\n",
              "      <td>3667</td>\n",
              "      <td>3696</td>\n",
              "      <td>3548</td>\n",
              "      <td>3608</td>\n",
              "      <td>3744</td>\n",
              "      <td>3792</td>\n",
              "      <td>3802</td>\n",
              "      <td>3815</td>\n",
              "      <td>3836</td>\n",
              "      <td>3827</td>\n",
              "      <td>3765</td>\n",
              "      <td>3752</td>\n",
              "      <td>3759</td>\n",
              "      <td>3773</td>\n",
              "      <td>3779</td>\n",
              "      <td>3752</td>\n",
              "      <td>3690</td>\n",
              "      <td>3671</td>\n",
              "      <td>3664</td>\n",
              "      <td>3636</td>\n",
              "      <td>3643</td>\n",
              "      <td>0</td>\n",
              "    </tr>\n",
              "    <tr>\n",
              "      <th>1</th>\n",
              "      <td>527</td>\n",
              "      <td>642</td>\n",
              "      <td>575</td>\n",
              "      <td>294</td>\n",
              "      <td>123</td>\n",
              "      <td>168</td>\n",
              "      <td>207</td>\n",
              "      <td>154</td>\n",
              "      <td>209</td>\n",
              "      <td>299</td>\n",
              "      <td>299</td>\n",
              "      <td>278</td>\n",
              "      <td>235</td>\n",
              "      <td>181</td>\n",
              "      <td>181</td>\n",
              "      <td>236</td>\n",
              "      <td>256</td>\n",
              "      <td>253</td>\n",
              "      <td>225</td>\n",
              "      <td>202</td>\n",
              "      <td>221</td>\n",
              "      <td>256</td>\n",
              "      <td>321</td>\n",
              "      <td>358</td>\n",
              "      <td>385</td>\n",
              "      <td>429</td>\n",
              "      <td>492</td>\n",
              "      <td>533</td>\n",
              "      <td>554</td>\n",
              "      <td>553</td>\n",
              "      <td>557</td>\n",
              "      <td>580</td>\n",
              "      <td>561</td>\n",
              "      <td>522</td>\n",
              "      <td>525</td>\n",
              "      <td>513</td>\n",
              "      <td>474</td>\n",
              "      <td>435</td>\n",
              "      <td>412</td>\n",
              "      <td>401</td>\n",
              "      <td>...</td>\n",
              "      <td>254</td>\n",
              "      <td>305</td>\n",
              "      <td>349</td>\n",
              "      <td>401</td>\n",
              "      <td>508</td>\n",
              "      <td>681</td>\n",
              "      <td>888</td>\n",
              "      <td>1076</td>\n",
              "      <td>1297</td>\n",
              "      <td>1577</td>\n",
              "      <td>1855</td>\n",
              "      <td>2117</td>\n",
              "      <td>2456</td>\n",
              "      <td>2772</td>\n",
              "      <td>3002</td>\n",
              "      <td>3205</td>\n",
              "      <td>3388</td>\n",
              "      <td>3526</td>\n",
              "      <td>3629</td>\n",
              "      <td>3665</td>\n",
              "      <td>3586</td>\n",
              "      <td>3653</td>\n",
              "      <td>3747</td>\n",
              "      <td>3813</td>\n",
              "      <td>3831</td>\n",
              "      <td>3829</td>\n",
              "      <td>3841</td>\n",
              "      <td>3885</td>\n",
              "      <td>3916</td>\n",
              "      <td>3907</td>\n",
              "      <td>3873</td>\n",
              "      <td>3902</td>\n",
              "      <td>3921</td>\n",
              "      <td>3861</td>\n",
              "      <td>3854</td>\n",
              "      <td>3882</td>\n",
              "      <td>3834</td>\n",
              "      <td>3725</td>\n",
              "      <td>3768</td>\n",
              "      <td>0</td>\n",
              "    </tr>\n",
              "    <tr>\n",
              "      <th>2</th>\n",
              "      <td>374</td>\n",
              "      <td>322</td>\n",
              "      <td>179</td>\n",
              "      <td>87</td>\n",
              "      <td>169</td>\n",
              "      <td>268</td>\n",
              "      <td>360</td>\n",
              "      <td>339</td>\n",
              "      <td>286</td>\n",
              "      <td>309</td>\n",
              "      <td>340</td>\n",
              "      <td>305</td>\n",
              "      <td>206</td>\n",
              "      <td>202</td>\n",
              "      <td>269</td>\n",
              "      <td>256</td>\n",
              "      <td>246</td>\n",
              "      <td>226</td>\n",
              "      <td>218</td>\n",
              "      <td>275</td>\n",
              "      <td>318</td>\n",
              "      <td>356</td>\n",
              "      <td>395</td>\n",
              "      <td>425</td>\n",
              "      <td>461</td>\n",
              "      <td>520</td>\n",
              "      <td>587</td>\n",
              "      <td>623</td>\n",
              "      <td>621</td>\n",
              "      <td>617</td>\n",
              "      <td>636</td>\n",
              "      <td>657</td>\n",
              "      <td>665</td>\n",
              "      <td>670</td>\n",
              "      <td>645</td>\n",
              "      <td>610</td>\n",
              "      <td>576</td>\n",
              "      <td>547</td>\n",
              "      <td>532</td>\n",
              "      <td>523</td>\n",
              "      <td>...</td>\n",
              "      <td>369</td>\n",
              "      <td>418</td>\n",
              "      <td>484</td>\n",
              "      <td>590</td>\n",
              "      <td>754</td>\n",
              "      <td>969</td>\n",
              "      <td>1201</td>\n",
              "      <td>1460</td>\n",
              "      <td>1716</td>\n",
              "      <td>2002</td>\n",
              "      <td>2319</td>\n",
              "      <td>2690</td>\n",
              "      <td>3055</td>\n",
              "      <td>3368</td>\n",
              "      <td>3666</td>\n",
              "      <td>3901</td>\n",
              "      <td>4082</td>\n",
              "      <td>4258</td>\n",
              "      <td>4372</td>\n",
              "      <td>4392</td>\n",
              "      <td>4231</td>\n",
              "      <td>4256</td>\n",
              "      <td>4419</td>\n",
              "      <td>4495</td>\n",
              "      <td>4501</td>\n",
              "      <td>4472</td>\n",
              "      <td>4486</td>\n",
              "      <td>4499</td>\n",
              "      <td>4453</td>\n",
              "      <td>4404</td>\n",
              "      <td>4443</td>\n",
              "      <td>4472</td>\n",
              "      <td>4428</td>\n",
              "      <td>4353</td>\n",
              "      <td>4306</td>\n",
              "      <td>4284</td>\n",
              "      <td>4318</td>\n",
              "      <td>4311</td>\n",
              "      <td>4321</td>\n",
              "      <td>0</td>\n",
              "    </tr>\n",
              "    <tr>\n",
              "      <th>3</th>\n",
              "      <td>706</td>\n",
              "      <td>520</td>\n",
              "      <td>560</td>\n",
              "      <td>572</td>\n",
              "      <td>425</td>\n",
              "      <td>243</td>\n",
              "      <td>271</td>\n",
              "      <td>272</td>\n",
              "      <td>258</td>\n",
              "      <td>276</td>\n",
              "      <td>299</td>\n",
              "      <td>313</td>\n",
              "      <td>320</td>\n",
              "      <td>336</td>\n",
              "      <td>299</td>\n",
              "      <td>274</td>\n",
              "      <td>322</td>\n",
              "      <td>361</td>\n",
              "      <td>358</td>\n",
              "      <td>377</td>\n",
              "      <td>387</td>\n",
              "      <td>396</td>\n",
              "      <td>415</td>\n",
              "      <td>486</td>\n",
              "      <td>564</td>\n",
              "      <td>624</td>\n",
              "      <td>668</td>\n",
              "      <td>680</td>\n",
              "      <td>696</td>\n",
              "      <td>728</td>\n",
              "      <td>753</td>\n",
              "      <td>721</td>\n",
              "      <td>700</td>\n",
              "      <td>713</td>\n",
              "      <td>690</td>\n",
              "      <td>642</td>\n",
              "      <td>592</td>\n",
              "      <td>560</td>\n",
              "      <td>542</td>\n",
              "      <td>547</td>\n",
              "      <td>...</td>\n",
              "      <td>384</td>\n",
              "      <td>418</td>\n",
              "      <td>481</td>\n",
              "      <td>568</td>\n",
              "      <td>693</td>\n",
              "      <td>865</td>\n",
              "      <td>1057</td>\n",
              "      <td>1259</td>\n",
              "      <td>1478</td>\n",
              "      <td>1714</td>\n",
              "      <td>1971</td>\n",
              "      <td>2261</td>\n",
              "      <td>2548</td>\n",
              "      <td>2818</td>\n",
              "      <td>3135</td>\n",
              "      <td>3377</td>\n",
              "      <td>3564</td>\n",
              "      <td>3731</td>\n",
              "      <td>3820</td>\n",
              "      <td>3814</td>\n",
              "      <td>3710</td>\n",
              "      <td>3770</td>\n",
              "      <td>3904</td>\n",
              "      <td>3976</td>\n",
              "      <td>3967</td>\n",
              "      <td>3973</td>\n",
              "      <td>4032</td>\n",
              "      <td>4078</td>\n",
              "      <td>4040</td>\n",
              "      <td>3992</td>\n",
              "      <td>3972</td>\n",
              "      <td>4006</td>\n",
              "      <td>4032</td>\n",
              "      <td>3975</td>\n",
              "      <td>3946</td>\n",
              "      <td>3954</td>\n",
              "      <td>3944</td>\n",
              "      <td>3936</td>\n",
              "      <td>3939</td>\n",
              "      <td>0</td>\n",
              "    </tr>\n",
              "    <tr>\n",
              "      <th>4</th>\n",
              "      <td>1120</td>\n",
              "      <td>1027</td>\n",
              "      <td>592</td>\n",
              "      <td>414</td>\n",
              "      <td>407</td>\n",
              "      <td>463</td>\n",
              "      <td>417</td>\n",
              "      <td>365</td>\n",
              "      <td>332</td>\n",
              "      <td>334</td>\n",
              "      <td>356</td>\n",
              "      <td>327</td>\n",
              "      <td>296</td>\n",
              "      <td>325</td>\n",
              "      <td>346</td>\n",
              "      <td>308</td>\n",
              "      <td>262</td>\n",
              "      <td>262</td>\n",
              "      <td>292</td>\n",
              "      <td>312</td>\n",
              "      <td>335</td>\n",
              "      <td>394</td>\n",
              "      <td>430</td>\n",
              "      <td>450</td>\n",
              "      <td>491</td>\n",
              "      <td>570</td>\n",
              "      <td>611</td>\n",
              "      <td>616</td>\n",
              "      <td>631</td>\n",
              "      <td>659</td>\n",
              "      <td>686</td>\n",
              "      <td>705</td>\n",
              "      <td>691</td>\n",
              "      <td>667</td>\n",
              "      <td>624</td>\n",
              "      <td>584</td>\n",
              "      <td>570</td>\n",
              "      <td>549</td>\n",
              "      <td>530</td>\n",
              "      <td>517</td>\n",
              "      <td>...</td>\n",
              "      <td>349</td>\n",
              "      <td>365</td>\n",
              "      <td>398</td>\n",
              "      <td>505</td>\n",
              "      <td>677</td>\n",
              "      <td>877</td>\n",
              "      <td>1116</td>\n",
              "      <td>1410</td>\n",
              "      <td>1717</td>\n",
              "      <td>2015</td>\n",
              "      <td>2339</td>\n",
              "      <td>2670</td>\n",
              "      <td>3028</td>\n",
              "      <td>3415</td>\n",
              "      <td>3713</td>\n",
              "      <td>3928</td>\n",
              "      <td>4131</td>\n",
              "      <td>4296</td>\n",
              "      <td>4445</td>\n",
              "      <td>4508</td>\n",
              "      <td>4305</td>\n",
              "      <td>4232</td>\n",
              "      <td>4422</td>\n",
              "      <td>4554</td>\n",
              "      <td>4550</td>\n",
              "      <td>4524</td>\n",
              "      <td>4532</td>\n",
              "      <td>4578</td>\n",
              "      <td>4584</td>\n",
              "      <td>4555</td>\n",
              "      <td>4502</td>\n",
              "      <td>4485</td>\n",
              "      <td>4479</td>\n",
              "      <td>4445</td>\n",
              "      <td>4364</td>\n",
              "      <td>4290</td>\n",
              "      <td>4268</td>\n",
              "      <td>4235</td>\n",
              "      <td>4272</td>\n",
              "      <td>0</td>\n",
              "    </tr>\n",
              "  </tbody>\n",
              "</table>\n",
              "<p>5 rows × 103 columns</p>\n",
              "</div>"
            ],
            "text/plain": [
              "    0     1    2    3    4    5    6    ...   96    97    98    99    100   101  102\n",
              "0   854   601  350  266  138  118  178  ...  3752  3690  3671  3664  3636  3643    0\n",
              "1   527   642  575  294  123  168  207  ...  3861  3854  3882  3834  3725  3768    0\n",
              "2   374   322  179   87  169  268  360  ...  4353  4306  4284  4318  4311  4321    0\n",
              "3   706   520  560  572  425  243  271  ...  3975  3946  3954  3944  3936  3939    0\n",
              "4  1120  1027  592  414  407  463  417  ...  4445  4364  4290  4268  4235  4272    0\n",
              "\n",
              "[5 rows x 103 columns]"
            ]
          },
          "metadata": {
            "tags": []
          },
          "execution_count": 120
        }
      ]
    },
    {
      "cell_type": "markdown",
      "metadata": {
        "id": "OLWjsfqaLZs0",
        "colab_type": "text"
      },
      "source": [
        "## Droping the rows if ground truth value is zero"
      ]
    },
    {
      "cell_type": "code",
      "metadata": {
        "id": "OlyctDjwLYkb",
        "colab_type": "code",
        "outputId": "b59ca417-6d03-4400-f4fb-16112922eccb",
        "colab": {
          "base_uri": "https://localhost:8080/",
          "height": 34
        }
      },
      "source": [
        "print(\"Percentage of column which will be droped\",(data.size - data[data.iloc[:, -1] == 0].size)/data.size,\"%\")"
      ],
      "execution_count": 121,
      "outputs": [
        {
          "output_type": "stream",
          "text": [
            "Percentage of column which will be droped 0.1890561992751774 %\n"
          ],
          "name": "stdout"
        }
      ]
    },
    {
      "cell_type": "code",
      "metadata": {
        "id": "_tJ0vUTCLhZx",
        "colab_type": "code",
        "colab": {}
      },
      "source": [
        "data = data[data.iloc[:, -1] != 0]"
      ],
      "execution_count": 0,
      "outputs": []
    },
    {
      "cell_type": "markdown",
      "metadata": {
        "id": "kE5Gc8BTLiAN",
        "colab_type": "text"
      },
      "source": [
        "# Spliting the data into feature and target"
      ]
    },
    {
      "cell_type": "code",
      "metadata": {
        "id": "FJ4dCIbILrwg",
        "colab_type": "code",
        "colab": {}
      },
      "source": [
        "X = data.iloc[:, :-1]\n",
        "y = data.iloc[:,-1]"
      ],
      "execution_count": 0,
      "outputs": []
    },
    {
      "cell_type": "markdown",
      "metadata": {
        "id": "CHPv8SimL1Iu",
        "colab_type": "text"
      },
      "source": [
        "# Feature Selection"
      ]
    },
    {
      "cell_type": "code",
      "metadata": {
        "id": "6aMaE8k8L0VV",
        "colab_type": "code",
        "colab": {}
      },
      "source": [
        "from sklearn.feature_selection import SelectKBest\n",
        "from sklearn.feature_selection import chi2, f_classif, mutual_info_classif\n",
        "\n",
        "X = SelectKBest(f_classif, k=int((image.shape[2]+1)*0.75)).fit_transform(X, y)"
      ],
      "execution_count": 0,
      "outputs": []
    },
    {
      "cell_type": "markdown",
      "metadata": {
        "id": "fijfR_5DL9IK",
        "colab_type": "text"
      },
      "source": [
        "# OneHotEncoding in target column"
      ]
    },
    {
      "cell_type": "code",
      "metadata": {
        "id": "_QoUCdAwMBAD",
        "colab_type": "code",
        "colab": {}
      },
      "source": [
        "onehotencoder = OneHotEncoder() \n",
        "y = onehotencoder.fit_transform(np.array(y).reshape(-1,1)).toarray() "
      ],
      "execution_count": 0,
      "outputs": []
    },
    {
      "cell_type": "markdown",
      "metadata": {
        "id": "IlNWTtSVMEjl",
        "colab_type": "text"
      },
      "source": [
        "# Standardizing the feature columna"
      ]
    },
    {
      "cell_type": "code",
      "metadata": {
        "id": "PPshPrqEMJvm",
        "colab_type": "code",
        "colab": {}
      },
      "source": [
        "X = preprocessing.scale(X)"
      ],
      "execution_count": 0,
      "outputs": []
    },
    {
      "cell_type": "markdown",
      "metadata": {
        "id": "DRtV7aDDqr5a",
        "colab_type": "text"
      },
      "source": [
        "# Spliting the data into training and testing set "
      ]
    },
    {
      "cell_type": "code",
      "metadata": {
        "id": "DattLTVzqr5b",
        "colab_type": "code",
        "colab": {}
      },
      "source": [
        "X_train, X_test, y_train, y_test = train_test_split(X, y, test_size=0.60, random_state=1)#0.25 0.15"
      ],
      "execution_count": 0,
      "outputs": []
    },
    {
      "cell_type": "code",
      "metadata": {
        "id": "2OngDFGdDdPx",
        "colab_type": "code",
        "colab": {}
      },
      "source": [
        "number = int(X_test.shape[0]/2)\n",
        "\n",
        "xx_test = X_test[:number, :]\n",
        "yy_test = y_test[:number, :]\n",
        "xx_val = X_test[number:, :]\n",
        "yy_val = y_test[number:, :]"
      ],
      "execution_count": 0,
      "outputs": []
    },
    {
      "cell_type": "code",
      "metadata": {
        "id": "9M33_KnJNu7n",
        "colab_type": "code",
        "colab": {}
      },
      "source": [
        "from keras import backend as K\n",
        "feature = X.shape[1]\n",
        "\n",
        "if K.image_data_format() == 'channels_first':\n",
        "    X_train = X_train.reshape(X_train.shape[0], 1, feature)\n",
        "    xx_test = xx_test.reshape(xx_test.shape[0], 1, feature)\n",
        "    xx_val = xx_val.reshape(xx_val.shape[0], 1, feature)\n",
        "    input_shape = (1, feature)\n",
        "else:\n",
        "    X_train = X_train.reshape(X_train.shape[0], feature, 1)\n",
        "    xx_test = xx_test.reshape(xx_test.shape[0], feature, 1)\n",
        "    xx_val = xx_val.reshape(xx_val.shape[0], feature, 1)\n",
        "    input_shape = (feature, 1)"
      ],
      "execution_count": 0,
      "outputs": []
    },
    {
      "cell_type": "markdown",
      "metadata": {
        "id": "TXoVZ9ibM34E",
        "colab_type": "text"
      },
      "source": [
        "# Building CNN Model\n"
      ]
    },
    {
      "cell_type": "code",
      "metadata": {
        "id": "QlapBK49M2QU",
        "colab_type": "code",
        "colab": {}
      },
      "source": [
        "from keras.models import Sequential\n",
        "from keras.layers import Dense, Dropout, Flatten, Conv1D, MaxPooling1D, BatchNormalization"
      ],
      "execution_count": 0,
      "outputs": []
    },
    {
      "cell_type": "code",
      "metadata": {
        "id": "AT7KyTCKM-27",
        "colab_type": "code",
        "outputId": "0d708164-6750-4efc-f4d3-b8c0739d3a60",
        "colab": {
          "base_uri": "https://localhost:8080/",
          "height": 1000
        }
      },
      "source": [
        "model = Sequential()\n",
        "model.add(Conv1D(8, kernel_size=3, activation='relu', input_shape=input_shape))\n",
        "model.add(Conv1D(8, kernel_size=3, activation='relu', input_shape=input_shape))\n",
        "model.add(BatchNormalization())\n",
        "model.add(MaxPooling1D(pool_size=2))\n",
        "model.add(Conv1D(16, 3, activation='relu'))\n",
        "model.add(Conv1D(16, 3, activation='relu'))\n",
        "model.add(BatchNormalization())\n",
        "model.add(MaxPooling1D(pool_size=2))\n",
        "model.add(Conv1D(32, 3, activation='relu'))\n",
        "model.add(Conv1D(32, 3, activation='relu'))\n",
        "model.add(BatchNormalization())\n",
        "model.add(MaxPooling1D(pool_size=2))\n",
        "model.add(Conv1D(64, 3, activation='relu'))\n",
        "model.add(Conv1D(64, 3, activation='relu'))\n",
        "model.add(BatchNormalization())\n",
        "model.add(MaxPooling1D(pool_size=2))\n",
        "model.add(Dropout(0.25))\n",
        "model.add(Flatten())\n",
        "model.add(Dense(64, activation='relu'))\n",
        "model.add(BatchNormalization())\n",
        "model.add(Dropout(0.5))\n",
        "model.add(Dense(32, activation='relu'))\n",
        "model.add(BatchNormalization())\n",
        "model.add(Dropout(0.5))\n",
        "model.add(Dense(16, activation='relu'))\n",
        "model.add(BatchNormalization())\n",
        "model.add(Dropout(0.5))\n",
        "model.add(Dense(9, activation='softmax'))\n",
        "model.summary()"
      ],
      "execution_count": 131,
      "outputs": [
        {
          "output_type": "stream",
          "text": [
            "Model: \"sequential_6\"\n",
            "_________________________________________________________________\n",
            "Layer (type)                 Output Shape              Param #   \n",
            "=================================================================\n",
            "conv1d_41 (Conv1D)           (None, 75, 8)             32        \n",
            "_________________________________________________________________\n",
            "conv1d_42 (Conv1D)           (None, 73, 8)             200       \n",
            "_________________________________________________________________\n",
            "batch_normalization_52 (Batc (None, 73, 8)             32        \n",
            "_________________________________________________________________\n",
            "max_pooling1d_21 (MaxPooling (None, 36, 8)             0         \n",
            "_________________________________________________________________\n",
            "conv1d_43 (Conv1D)           (None, 34, 16)            400       \n",
            "_________________________________________________________________\n",
            "conv1d_44 (Conv1D)           (None, 32, 16)            784       \n",
            "_________________________________________________________________\n",
            "batch_normalization_53 (Batc (None, 32, 16)            64        \n",
            "_________________________________________________________________\n",
            "max_pooling1d_22 (MaxPooling (None, 16, 16)            0         \n",
            "_________________________________________________________________\n",
            "conv1d_45 (Conv1D)           (None, 14, 32)            1568      \n",
            "_________________________________________________________________\n",
            "conv1d_46 (Conv1D)           (None, 12, 32)            3104      \n",
            "_________________________________________________________________\n",
            "batch_normalization_54 (Batc (None, 12, 32)            128       \n",
            "_________________________________________________________________\n",
            "max_pooling1d_23 (MaxPooling (None, 6, 32)             0         \n",
            "_________________________________________________________________\n",
            "conv1d_47 (Conv1D)           (None, 4, 64)             6208      \n",
            "_________________________________________________________________\n",
            "conv1d_48 (Conv1D)           (None, 2, 64)             12352     \n",
            "_________________________________________________________________\n",
            "batch_normalization_55 (Batc (None, 2, 64)             256       \n",
            "_________________________________________________________________\n",
            "max_pooling1d_24 (MaxPooling (None, 1, 64)             0         \n",
            "_________________________________________________________________\n",
            "dropout_21 (Dropout)         (None, 1, 64)             0         \n",
            "_________________________________________________________________\n",
            "flatten_6 (Flatten)          (None, 64)                0         \n",
            "_________________________________________________________________\n",
            "dense_21 (Dense)             (None, 64)                4160      \n",
            "_________________________________________________________________\n",
            "batch_normalization_56 (Batc (None, 64)                256       \n",
            "_________________________________________________________________\n",
            "dropout_22 (Dropout)         (None, 64)                0         \n",
            "_________________________________________________________________\n",
            "dense_22 (Dense)             (None, 32)                2080      \n",
            "_________________________________________________________________\n",
            "batch_normalization_57 (Batc (None, 32)                128       \n",
            "_________________________________________________________________\n",
            "dropout_23 (Dropout)         (None, 32)                0         \n",
            "_________________________________________________________________\n",
            "dense_23 (Dense)             (None, 16)                528       \n",
            "_________________________________________________________________\n",
            "batch_normalization_58 (Batc (None, 16)                64        \n",
            "_________________________________________________________________\n",
            "dropout_24 (Dropout)         (None, 16)                0         \n",
            "_________________________________________________________________\n",
            "dense_24 (Dense)             (None, 9)                 153       \n",
            "=================================================================\n",
            "Total params: 32,497\n",
            "Trainable params: 32,033\n",
            "Non-trainable params: 464\n",
            "_________________________________________________________________\n"
          ],
          "name": "stdout"
        }
      ]
    },
    {
      "cell_type": "code",
      "metadata": {
        "id": "3-VSlVynNBID",
        "colab_type": "code",
        "outputId": "0c86eef1-a24e-4845-ad62-17e24e2caca4",
        "colab": {
          "base_uri": "https://localhost:8080/",
          "height": 1000
        }
      },
      "source": [
        "import keras\n",
        "model.compile(loss=keras.losses.categorical_crossentropy,\n",
        "              optimizer=keras.optimizers.Adadelta(),\n",
        "              metrics=['accuracy'])\n",
        "\n",
        "model.fit(X_train, y_train,\n",
        "          batch_size=128,\n",
        "          epochs=100,\n",
        "          verbose=1,\n",
        "          validation_data=(xx_val, yy_val))"
      ],
      "execution_count": 132,
      "outputs": [
        {
          "output_type": "stream",
          "text": [
            "Train on 59260 samples, validate on 44446 samples\n",
            "Epoch 1/100\n",
            "59260/59260 [==============================] - 18s 311us/step - loss: 0.8699 - accuracy: 0.7321 - val_loss: 0.8816 - val_accuracy: 0.8102\n",
            "Epoch 2/100\n",
            "59260/59260 [==============================] - 16s 275us/step - loss: 0.3830 - accuracy: 0.8738 - val_loss: 0.1428 - val_accuracy: 0.9612\n",
            "Epoch 3/100\n",
            "59260/59260 [==============================] - 16s 273us/step - loss: 0.2725 - accuracy: 0.9120 - val_loss: 0.1316 - val_accuracy: 0.9467\n",
            "Epoch 4/100\n",
            "59260/59260 [==============================] - 16s 272us/step - loss: 0.2286 - accuracy: 0.9251 - val_loss: 0.0945 - val_accuracy: 0.9674\n",
            "Epoch 5/100\n",
            "59260/59260 [==============================] - 16s 273us/step - loss: 0.2010 - accuracy: 0.9339 - val_loss: 0.0798 - val_accuracy: 0.9707\n",
            "Epoch 6/100\n",
            "59260/59260 [==============================] - 16s 278us/step - loss: 0.1853 - accuracy: 0.9386 - val_loss: 0.0748 - val_accuracy: 0.9709\n",
            "Epoch 7/100\n",
            "59260/59260 [==============================] - 16s 273us/step - loss: 0.1714 - accuracy: 0.9431 - val_loss: 0.0886 - val_accuracy: 0.9742\n",
            "Epoch 8/100\n",
            "59260/59260 [==============================] - 16s 274us/step - loss: 0.1635 - accuracy: 0.9446 - val_loss: 0.0645 - val_accuracy: 0.9797\n",
            "Epoch 9/100\n",
            "59260/59260 [==============================] - 16s 271us/step - loss: 0.1536 - accuracy: 0.9464 - val_loss: 0.0744 - val_accuracy: 0.9743\n",
            "Epoch 10/100\n",
            "59260/59260 [==============================] - 16s 270us/step - loss: 0.1485 - accuracy: 0.9506 - val_loss: 0.0635 - val_accuracy: 0.9791\n",
            "Epoch 11/100\n",
            "59260/59260 [==============================] - 16s 267us/step - loss: 0.1469 - accuracy: 0.9511 - val_loss: 0.1117 - val_accuracy: 0.9670\n",
            "Epoch 12/100\n",
            "59260/59260 [==============================] - 16s 266us/step - loss: 0.1390 - accuracy: 0.9526 - val_loss: 0.0569 - val_accuracy: 0.9846\n",
            "Epoch 13/100\n",
            "59260/59260 [==============================] - 16s 273us/step - loss: 0.1374 - accuracy: 0.9537 - val_loss: 0.1222 - val_accuracy: 0.9624\n",
            "Epoch 14/100\n",
            "59260/59260 [==============================] - 16s 272us/step - loss: 0.1377 - accuracy: 0.9537 - val_loss: 0.0557 - val_accuracy: 0.9848\n",
            "Epoch 15/100\n",
            "59260/59260 [==============================] - 16s 277us/step - loss: 0.1286 - accuracy: 0.9574 - val_loss: 0.0570 - val_accuracy: 0.9842\n",
            "Epoch 16/100\n",
            "59260/59260 [==============================] - 16s 271us/step - loss: 0.1280 - accuracy: 0.9573 - val_loss: 0.0960 - val_accuracy: 0.9729\n",
            "Epoch 17/100\n",
            "59260/59260 [==============================] - 16s 274us/step - loss: 0.1286 - accuracy: 0.9579 - val_loss: 0.1854 - val_accuracy: 0.9502\n",
            "Epoch 18/100\n",
            "59260/59260 [==============================] - 17s 281us/step - loss: 0.1304 - accuracy: 0.9577 - val_loss: 0.0551 - val_accuracy: 0.9824\n",
            "Epoch 19/100\n",
            "59260/59260 [==============================] - 17s 281us/step - loss: 0.1203 - accuracy: 0.9600 - val_loss: 0.0682 - val_accuracy: 0.9795\n",
            "Epoch 20/100\n",
            "59260/59260 [==============================] - 17s 279us/step - loss: 0.1216 - accuracy: 0.9605 - val_loss: 0.0510 - val_accuracy: 0.9872\n",
            "Epoch 21/100\n",
            "59260/59260 [==============================] - 16s 275us/step - loss: 0.1194 - accuracy: 0.9611 - val_loss: 0.0516 - val_accuracy: 0.9837\n",
            "Epoch 22/100\n",
            "59260/59260 [==============================] - 16s 274us/step - loss: 0.1194 - accuracy: 0.9616 - val_loss: 0.0573 - val_accuracy: 0.9831\n",
            "Epoch 23/100\n",
            "59260/59260 [==============================] - 16s 275us/step - loss: 0.1169 - accuracy: 0.9620 - val_loss: 0.0554 - val_accuracy: 0.9856\n",
            "Epoch 24/100\n",
            "59260/59260 [==============================] - 16s 276us/step - loss: 0.1175 - accuracy: 0.9631 - val_loss: 0.0540 - val_accuracy: 0.9870\n",
            "Epoch 25/100\n",
            "59260/59260 [==============================] - 16s 277us/step - loss: 0.1144 - accuracy: 0.9647 - val_loss: 0.0494 - val_accuracy: 0.9872\n",
            "Epoch 26/100\n",
            "59260/59260 [==============================] - 16s 274us/step - loss: 0.1138 - accuracy: 0.9649 - val_loss: 0.0547 - val_accuracy: 0.9861\n",
            "Epoch 27/100\n",
            "59260/59260 [==============================] - 17s 281us/step - loss: 0.1122 - accuracy: 0.9636 - val_loss: 0.0539 - val_accuracy: 0.9832\n",
            "Epoch 28/100\n",
            "59260/59260 [==============================] - 16s 276us/step - loss: 0.1098 - accuracy: 0.9656 - val_loss: 0.0477 - val_accuracy: 0.9867\n",
            "Epoch 29/100\n",
            "59260/59260 [==============================] - 17s 279us/step - loss: 0.1081 - accuracy: 0.9658 - val_loss: 0.0459 - val_accuracy: 0.9875\n",
            "Epoch 30/100\n",
            "59260/59260 [==============================] - 16s 278us/step - loss: 0.1088 - accuracy: 0.9657 - val_loss: 0.0518 - val_accuracy: 0.9842\n",
            "Epoch 31/100\n",
            "59260/59260 [==============================] - 16s 278us/step - loss: 0.1113 - accuracy: 0.9655 - val_loss: 0.0420 - val_accuracy: 0.9888\n",
            "Epoch 32/100\n",
            "59260/59260 [==============================] - 16s 278us/step - loss: 0.1051 - accuracy: 0.9663 - val_loss: 0.0740 - val_accuracy: 0.9773\n",
            "Epoch 33/100\n",
            "59260/59260 [==============================] - 16s 275us/step - loss: 0.1088 - accuracy: 0.9667 - val_loss: 0.0402 - val_accuracy: 0.9892\n",
            "Epoch 34/100\n",
            "59260/59260 [==============================] - 16s 266us/step - loss: 0.1044 - accuracy: 0.9679 - val_loss: 0.1087 - val_accuracy: 0.9698\n",
            "Epoch 35/100\n",
            "59260/59260 [==============================] - 16s 268us/step - loss: 0.1049 - accuracy: 0.9682 - val_loss: 0.0439 - val_accuracy: 0.9878\n",
            "Epoch 36/100\n",
            "59260/59260 [==============================] - 16s 266us/step - loss: 0.1065 - accuracy: 0.9677 - val_loss: 0.0905 - val_accuracy: 0.9733\n",
            "Epoch 37/100\n",
            "59260/59260 [==============================] - 16s 274us/step - loss: 0.1070 - accuracy: 0.9670 - val_loss: 0.0695 - val_accuracy: 0.9806\n",
            "Epoch 38/100\n",
            "59260/59260 [==============================] - 17s 281us/step - loss: 0.1004 - accuracy: 0.9688 - val_loss: 0.0424 - val_accuracy: 0.9901\n",
            "Epoch 39/100\n",
            "59260/59260 [==============================] - 17s 284us/step - loss: 0.0975 - accuracy: 0.9691 - val_loss: 0.0542 - val_accuracy: 0.9845\n",
            "Epoch 40/100\n",
            "59260/59260 [==============================] - 16s 275us/step - loss: 0.0996 - accuracy: 0.9691 - val_loss: 0.0408 - val_accuracy: 0.9892\n",
            "Epoch 41/100\n",
            "59260/59260 [==============================] - 16s 273us/step - loss: 0.0975 - accuracy: 0.9699 - val_loss: 0.1703 - val_accuracy: 0.9491\n",
            "Epoch 42/100\n",
            "59260/59260 [==============================] - 16s 276us/step - loss: 0.0989 - accuracy: 0.9695 - val_loss: 0.0458 - val_accuracy: 0.9890\n",
            "Epoch 43/100\n",
            "59260/59260 [==============================] - 17s 282us/step - loss: 0.0999 - accuracy: 0.9694 - val_loss: 0.0405 - val_accuracy: 0.9899\n",
            "Epoch 44/100\n",
            "59260/59260 [==============================] - 17s 279us/step - loss: 0.0960 - accuracy: 0.9702 - val_loss: 0.0530 - val_accuracy: 0.9873\n",
            "Epoch 45/100\n",
            "59260/59260 [==============================] - 16s 277us/step - loss: 0.0959 - accuracy: 0.9704 - val_loss: 0.0496 - val_accuracy: 0.9860\n",
            "Epoch 46/100\n",
            "59260/59260 [==============================] - 17s 280us/step - loss: 0.0928 - accuracy: 0.9709 - val_loss: 0.0462 - val_accuracy: 0.9895\n",
            "Epoch 47/100\n",
            "59260/59260 [==============================] - 17s 279us/step - loss: 0.0973 - accuracy: 0.9706 - val_loss: 0.0386 - val_accuracy: 0.9896\n",
            "Epoch 48/100\n",
            "59260/59260 [==============================] - 17s 279us/step - loss: 0.0917 - accuracy: 0.9720 - val_loss: 0.0394 - val_accuracy: 0.9894\n",
            "Epoch 49/100\n",
            "59260/59260 [==============================] - 16s 278us/step - loss: 0.0932 - accuracy: 0.9715 - val_loss: 0.0484 - val_accuracy: 0.9871\n",
            "Epoch 50/100\n",
            "59260/59260 [==============================] - 16s 276us/step - loss: 0.0948 - accuracy: 0.9706 - val_loss: 0.1236 - val_accuracy: 0.9687\n",
            "Epoch 51/100\n",
            "59260/59260 [==============================] - 16s 277us/step - loss: 0.0943 - accuracy: 0.9712 - val_loss: 0.0461 - val_accuracy: 0.9886\n",
            "Epoch 52/100\n",
            "59260/59260 [==============================] - 16s 276us/step - loss: 0.0909 - accuracy: 0.9723 - val_loss: 0.0485 - val_accuracy: 0.9864\n",
            "Epoch 53/100\n",
            "59260/59260 [==============================] - 16s 277us/step - loss: 0.0920 - accuracy: 0.9718 - val_loss: 0.0402 - val_accuracy: 0.9896\n",
            "Epoch 54/100\n",
            "59260/59260 [==============================] - 17s 279us/step - loss: 0.0885 - accuracy: 0.9726 - val_loss: 0.0451 - val_accuracy: 0.9890\n",
            "Epoch 55/100\n",
            "59260/59260 [==============================] - 16s 278us/step - loss: 0.0918 - accuracy: 0.9711 - val_loss: 0.0699 - val_accuracy: 0.9813\n",
            "Epoch 56/100\n",
            "59260/59260 [==============================] - 17s 291us/step - loss: 0.0928 - accuracy: 0.9718 - val_loss: 0.0494 - val_accuracy: 0.9867\n",
            "Epoch 57/100\n",
            "59260/59260 [==============================] - 16s 277us/step - loss: 0.0849 - accuracy: 0.9735 - val_loss: 0.0453 - val_accuracy: 0.9879\n",
            "Epoch 58/100\n",
            "59260/59260 [==============================] - 17s 287us/step - loss: 0.0874 - accuracy: 0.9727 - val_loss: 0.0448 - val_accuracy: 0.9896\n",
            "Epoch 59/100\n",
            "59260/59260 [==============================] - 17s 285us/step - loss: 0.0911 - accuracy: 0.9721 - val_loss: 0.0563 - val_accuracy: 0.9860\n",
            "Epoch 60/100\n",
            "59260/59260 [==============================] - 17s 282us/step - loss: 0.0902 - accuracy: 0.9729 - val_loss: 0.0420 - val_accuracy: 0.9893\n",
            "Epoch 61/100\n",
            "59260/59260 [==============================] - 16s 273us/step - loss: 0.0864 - accuracy: 0.9739 - val_loss: 0.0468 - val_accuracy: 0.9894\n",
            "Epoch 62/100\n",
            "59260/59260 [==============================] - 16s 278us/step - loss: 0.0859 - accuracy: 0.9737 - val_loss: 0.0628 - val_accuracy: 0.9841\n",
            "Epoch 63/100\n",
            "59260/59260 [==============================] - 17s 281us/step - loss: 0.0894 - accuracy: 0.9725 - val_loss: 0.0413 - val_accuracy: 0.9908\n",
            "Epoch 64/100\n",
            "59260/59260 [==============================] - 16s 277us/step - loss: 0.0874 - accuracy: 0.9733 - val_loss: 0.0465 - val_accuracy: 0.9884\n",
            "Epoch 65/100\n",
            "59260/59260 [==============================] - 16s 276us/step - loss: 0.0913 - accuracy: 0.9730 - val_loss: 0.0532 - val_accuracy: 0.9865\n",
            "Epoch 66/100\n",
            "59260/59260 [==============================] - 17s 282us/step - loss: 0.0819 - accuracy: 0.9747 - val_loss: 0.0506 - val_accuracy: 0.9869\n",
            "Epoch 67/100\n",
            "59260/59260 [==============================] - 17s 279us/step - loss: 0.0820 - accuracy: 0.9749 - val_loss: 0.0439 - val_accuracy: 0.9899\n",
            "Epoch 68/100\n",
            "59260/59260 [==============================] - 17s 284us/step - loss: 0.0852 - accuracy: 0.9753 - val_loss: 0.0454 - val_accuracy: 0.9889\n",
            "Epoch 69/100\n",
            "59260/59260 [==============================] - 17s 286us/step - loss: 0.0849 - accuracy: 0.9745 - val_loss: 0.0436 - val_accuracy: 0.9891\n",
            "Epoch 70/100\n",
            "59260/59260 [==============================] - 17s 279us/step - loss: 0.0885 - accuracy: 0.9741 - val_loss: 0.0379 - val_accuracy: 0.9910\n",
            "Epoch 71/100\n",
            "59260/59260 [==============================] - 16s 272us/step - loss: 0.0827 - accuracy: 0.9740 - val_loss: 0.0490 - val_accuracy: 0.9879\n",
            "Epoch 72/100\n",
            "59260/59260 [==============================] - 16s 270us/step - loss: 0.0849 - accuracy: 0.9731 - val_loss: 0.0730 - val_accuracy: 0.9846\n",
            "Epoch 73/100\n",
            "59260/59260 [==============================] - 16s 275us/step - loss: 0.0839 - accuracy: 0.9753 - val_loss: 0.0420 - val_accuracy: 0.9897\n",
            "Epoch 74/100\n",
            "59260/59260 [==============================] - 17s 281us/step - loss: 0.0803 - accuracy: 0.9754 - val_loss: 0.0905 - val_accuracy: 0.9777\n",
            "Epoch 75/100\n",
            "59260/59260 [==============================] - 16s 275us/step - loss: 0.0788 - accuracy: 0.9750 - val_loss: 0.0927 - val_accuracy: 0.9785\n",
            "Epoch 76/100\n",
            "59260/59260 [==============================] - 17s 280us/step - loss: 0.0853 - accuracy: 0.9744 - val_loss: 0.0440 - val_accuracy: 0.9905\n",
            "Epoch 77/100\n",
            "59260/59260 [==============================] - 17s 287us/step - loss: 0.0782 - accuracy: 0.9752 - val_loss: 0.0449 - val_accuracy: 0.9905\n",
            "Epoch 78/100\n",
            "59260/59260 [==============================] - 16s 276us/step - loss: 0.0812 - accuracy: 0.9749 - val_loss: 0.0455 - val_accuracy: 0.9899\n",
            "Epoch 79/100\n",
            "59260/59260 [==============================] - 16s 275us/step - loss: 0.0824 - accuracy: 0.9753 - val_loss: 0.0408 - val_accuracy: 0.9905\n",
            "Epoch 80/100\n",
            "59260/59260 [==============================] - 16s 277us/step - loss: 0.0785 - accuracy: 0.9754 - val_loss: 0.0383 - val_accuracy: 0.9911\n",
            "Epoch 81/100\n",
            "59260/59260 [==============================] - 17s 280us/step - loss: 0.0785 - accuracy: 0.9752 - val_loss: 0.0411 - val_accuracy: 0.9900\n",
            "Epoch 82/100\n",
            "59260/59260 [==============================] - 17s 281us/step - loss: 0.0800 - accuracy: 0.9746 - val_loss: 0.0402 - val_accuracy: 0.9911\n",
            "Epoch 83/100\n",
            "59260/59260 [==============================] - 16s 277us/step - loss: 0.0783 - accuracy: 0.9754 - val_loss: 0.0478 - val_accuracy: 0.9901\n",
            "Epoch 84/100\n",
            "59260/59260 [==============================] - 16s 274us/step - loss: 0.0792 - accuracy: 0.9747 - val_loss: 0.0412 - val_accuracy: 0.9908\n",
            "Epoch 85/100\n",
            "59260/59260 [==============================] - 16s 275us/step - loss: 0.0768 - accuracy: 0.9759 - val_loss: 0.0400 - val_accuracy: 0.9915\n",
            "Epoch 86/100\n",
            "59260/59260 [==============================] - 16s 275us/step - loss: 0.0782 - accuracy: 0.9754 - val_loss: 0.1096 - val_accuracy: 0.9745\n",
            "Epoch 87/100\n",
            "59260/59260 [==============================] - 16s 278us/step - loss: 0.0799 - accuracy: 0.9752 - val_loss: 0.0448 - val_accuracy: 0.9897\n",
            "Epoch 88/100\n",
            "59260/59260 [==============================] - 16s 274us/step - loss: 0.0776 - accuracy: 0.9754 - val_loss: 0.0391 - val_accuracy: 0.9908\n",
            "Epoch 89/100\n",
            "59260/59260 [==============================] - 16s 271us/step - loss: 0.0762 - accuracy: 0.9756 - val_loss: 0.0582 - val_accuracy: 0.9875\n",
            "Epoch 90/100\n",
            "59260/59260 [==============================] - 16s 267us/step - loss: 0.0798 - accuracy: 0.9755 - val_loss: 0.0386 - val_accuracy: 0.9911\n",
            "Epoch 91/100\n",
            "59260/59260 [==============================] - 16s 269us/step - loss: 0.0781 - accuracy: 0.9763 - val_loss: 0.0427 - val_accuracy: 0.9908\n",
            "Epoch 92/100\n",
            "59260/59260 [==============================] - 16s 271us/step - loss: 0.0756 - accuracy: 0.9760 - val_loss: 0.0527 - val_accuracy: 0.9883\n",
            "Epoch 93/100\n",
            "59260/59260 [==============================] - 16s 273us/step - loss: 0.0764 - accuracy: 0.9761 - val_loss: 0.0435 - val_accuracy: 0.9906\n",
            "Epoch 94/100\n",
            "59260/59260 [==============================] - 17s 279us/step - loss: 0.0780 - accuracy: 0.9760 - val_loss: 0.0415 - val_accuracy: 0.9908\n",
            "Epoch 95/100\n",
            "59260/59260 [==============================] - 17s 282us/step - loss: 0.0767 - accuracy: 0.9749 - val_loss: 0.0402 - val_accuracy: 0.9911\n",
            "Epoch 96/100\n",
            "59260/59260 [==============================] - 17s 280us/step - loss: 0.0748 - accuracy: 0.9764 - val_loss: 0.0484 - val_accuracy: 0.9898\n",
            "Epoch 97/100\n",
            "59260/59260 [==============================] - 17s 279us/step - loss: 0.0762 - accuracy: 0.9760 - val_loss: 0.0419 - val_accuracy: 0.9903\n",
            "Epoch 98/100\n",
            "59260/59260 [==============================] - 17s 282us/step - loss: 0.0729 - accuracy: 0.9763 - val_loss: 0.0423 - val_accuracy: 0.9915\n",
            "Epoch 99/100\n",
            "59260/59260 [==============================] - 17s 280us/step - loss: 0.0746 - accuracy: 0.9761 - val_loss: 0.0408 - val_accuracy: 0.9913\n",
            "Epoch 100/100\n",
            "59260/59260 [==============================] - 16s 277us/step - loss: 0.0738 - accuracy: 0.9771 - val_loss: 0.0862 - val_accuracy: 0.9831\n"
          ],
          "name": "stdout"
        },
        {
          "output_type": "execute_result",
          "data": {
            "text/plain": [
              "<keras.callbacks.callbacks.History at 0x7f2169429390>"
            ]
          },
          "metadata": {
            "tags": []
          },
          "execution_count": 132
        }
      ]
    },
    {
      "cell_type": "code",
      "metadata": {
        "id": "LSGrC7sxNWhx",
        "colab_type": "code",
        "outputId": "3b3fe526-9b07-4d2b-cdb5-3f0498ece878",
        "colab": {
          "base_uri": "https://localhost:8080/",
          "height": 68
        }
      },
      "source": [
        "score = model.evaluate(xx_test, yy_test, verbose=1)\n",
        "print('Test loss:', score[0])\n",
        "print('Test accuracy:', score[1])"
      ],
      "execution_count": 133,
      "outputs": [
        {
          "output_type": "stream",
          "text": [
            "44446/44446 [==============================] - 4s 100us/step\n",
            "Test loss: 0.0861251611462413\n",
            "Test accuracy: 0.9818206429481506\n"
          ],
          "name": "stdout"
        }
      ]
    },
    {
      "cell_type": "code",
      "metadata": {
        "id": "GbIwG9dgjk-X",
        "colab_type": "code",
        "colab": {}
      },
      "source": [
        ""
      ],
      "execution_count": 0,
      "outputs": []
    }
  ]
}