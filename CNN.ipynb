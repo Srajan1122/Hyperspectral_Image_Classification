{
  "nbformat": 4,
  "nbformat_minor": 0,
  "metadata": {
    "colab": {
      "name": "CNN",
      "provenance": [],
      "toc_visible": true,
      "authorship_tag": "ABX9TyOXp546JFf6fNKh7NL7x/CN",
      "include_colab_link": true
    },
    "kernelspec": {
      "name": "python3",
      "display_name": "Python 3"
    }
  },
  "cells": [
    {
      "cell_type": "markdown",
      "metadata": {
        "id": "view-in-github",
        "colab_type": "text"
      },
      "source": [
        "<a href=\"https://colab.research.google.com/github/Srajan1122/Hyperspectral_Image_Classification/blob/srajan/CNN.ipynb\" target=\"_parent\"><img src=\"https://colab.research.google.com/assets/colab-badge.svg\" alt=\"Open In Colab\"/></a>"
      ]
    },
    {
      "cell_type": "code",
      "metadata": {
        "id": "pO-nUq2-KL7a",
        "colab_type": "code",
        "outputId": "28468b12-e864-4db0-de3b-ea0236dfae92",
        "colab": {
          "base_uri": "https://localhost:8080/",
          "height": 122
        }
      },
      "source": [
        "from google.colab import drive\n",
        "drive.mount('/content/drive')"
      ],
      "execution_count": 1,
      "outputs": [
        {
          "output_type": "stream",
          "text": [
            "Go to this URL in a browser: https://accounts.google.com/o/oauth2/auth?client_id=947318989803-6bn6qk8qdgf4n4g3pfee6491hc0brc4i.apps.googleusercontent.com&redirect_uri=urn%3aietf%3awg%3aoauth%3a2.0%3aoob&response_type=code&scope=email%20https%3a%2f%2fwww.googleapis.com%2fauth%2fdocs.test%20https%3a%2f%2fwww.googleapis.com%2fauth%2fdrive%20https%3a%2f%2fwww.googleapis.com%2fauth%2fdrive.photos.readonly%20https%3a%2f%2fwww.googleapis.com%2fauth%2fpeopleapi.readonly\n",
            "\n",
            "Enter your authorization code:\n",
            "··········\n",
            "Mounted at /content/drive\n"
          ],
          "name": "stdout"
        }
      ]
    },
    {
      "cell_type": "markdown",
      "metadata": {
        "id": "aXpp9_cwKqz1",
        "colab_type": "text"
      },
      "source": [
        "# Importing Libraries"
      ]
    },
    {
      "cell_type": "code",
      "metadata": {
        "id": "qVxnzfWvKN-K",
        "colab_type": "code",
        "outputId": "de7ba2df-d339-462b-8d0e-7da6e9fcc09b",
        "colab": {
          "base_uri": "https://localhost:8080/",
          "height": 34
        }
      },
      "source": [
        "import pandas as pd\n",
        "import numpy as np\n",
        "from scipy import io\n",
        "from sklearn.model_selection import train_test_split\n",
        "from sklearn.preprocessing import OneHotEncoder \n",
        "from sklearn import preprocessing\n",
        "import keras"
      ],
      "execution_count": 2,
      "outputs": [
        {
          "output_type": "stream",
          "text": [
            "Using TensorFlow backend.\n"
          ],
          "name": "stderr"
        }
      ]
    },
    {
      "cell_type": "markdown",
      "metadata": {
        "id": "UqasbIqPK0KM",
        "colab_type": "text"
      },
      "source": [
        "# Importing Dataset"
      ]
    },
    {
      "cell_type": "code",
      "metadata": {
        "id": "erOp3hTTKuzQ",
        "colab_type": "code",
        "colab": {}
      },
      "source": [
        "loaded_dataset = io.loadmat('/content/drive/My Drive/Srajan/Internship/SEM4-LeadingindiaAI/Tasks/Datasets/PaviaU/PaviaU.mat')\n",
        "for key, value in loaded_dataset.items():\n",
        "  if isinstance(value, type(np.array([1]))):\n",
        "    image = loaded_dataset[key]"
      ],
      "execution_count": 0,
      "outputs": []
    },
    {
      "cell_type": "code",
      "metadata": {
        "id": "HjbphR_nK5O8",
        "colab_type": "code",
        "colab": {}
      },
      "source": [
        "ground_truth_1 = io.loadmat('/content/drive/My Drive/Srajan/Internship/SEM4-LeadingindiaAI/Tasks/Datasets/PaviaU/PaviaU_gt.mat')\n",
        "for key, value in ground_truth_1.items():\n",
        "  if isinstance(value, type(np.array([1]))):\n",
        "    ground_truth = ground_truth_1[key]"
      ],
      "execution_count": 0,
      "outputs": []
    },
    {
      "cell_type": "markdown",
      "metadata": {
        "id": "_9l4ZElPK8xW",
        "colab_type": "text"
      },
      "source": [
        "## Class Labels"
      ]
    },
    {
      "cell_type": "code",
      "metadata": {
        "id": "JumPKdTvK_EY",
        "colab_type": "code",
        "colab": {}
      },
      "source": [
        "label_values = [\"Alfalfa\", \"Corn-notill\", \"Corn-mintill\",\n",
        "                        \"Corn\", \"Grass-pasture\", \"Grass-trees\",\n",
        "                        \"Grass-pasture-mowed\", \"Hay-windrowed\", \"Oats\",\n",
        "                        \"Soybean-notill\", \"Soybean-mintill\", \"Soybean-clean\",\n",
        "                        \"Wheat\", \"Woods\", \"Buildings-Grass-Trees-Drives\",\n",
        "                        \"Stone-Steel-Towers\"]"
      ],
      "execution_count": 0,
      "outputs": []
    },
    {
      "cell_type": "markdown",
      "metadata": {
        "id": "QYIFKIPmLCFV",
        "colab_type": "text"
      },
      "source": [
        "## Resizing the data"
      ]
    },
    {
      "cell_type": "code",
      "metadata": {
        "id": "UnRRsjn8K_zG",
        "colab_type": "code",
        "colab": {}
      },
      "source": [
        "image_with_gt = np.dstack((image, ground_truth))"
      ],
      "execution_count": 0,
      "outputs": []
    },
    {
      "cell_type": "code",
      "metadata": {
        "id": "P2hhElWJLF9V",
        "colab_type": "code",
        "colab": {}
      },
      "source": [
        "final_output = image_with_gt.reshape(ground_truth.size, image.shape[2]+1)"
      ],
      "execution_count": 0,
      "outputs": []
    },
    {
      "cell_type": "markdown",
      "metadata": {
        "id": "ZKGD0bRxLJff",
        "colab_type": "text"
      },
      "source": [
        "## Data Visualization in pandas"
      ]
    },
    {
      "cell_type": "code",
      "metadata": {
        "id": "4AWkTHdDLOwf",
        "colab_type": "code",
        "colab": {}
      },
      "source": [
        "data = pd.DataFrame(final_output)"
      ],
      "execution_count": 0,
      "outputs": []
    },
    {
      "cell_type": "code",
      "metadata": {
        "id": "9ctUP_zKLUpJ",
        "colab_type": "code",
        "outputId": "fa10a38c-5c2f-48fd-8737-416a1d7ed688",
        "colab": {
          "base_uri": "https://localhost:8080/",
          "height": 253
        }
      },
      "source": [
        "data.head()"
      ],
      "execution_count": 9,
      "outputs": [
        {
          "output_type": "execute_result",
          "data": {
            "text/html": [
              "<div>\n",
              "<style scoped>\n",
              "    .dataframe tbody tr th:only-of-type {\n",
              "        vertical-align: middle;\n",
              "    }\n",
              "\n",
              "    .dataframe tbody tr th {\n",
              "        vertical-align: top;\n",
              "    }\n",
              "\n",
              "    .dataframe thead th {\n",
              "        text-align: right;\n",
              "    }\n",
              "</style>\n",
              "<table border=\"1\" class=\"dataframe\">\n",
              "  <thead>\n",
              "    <tr style=\"text-align: right;\">\n",
              "      <th></th>\n",
              "      <th>0</th>\n",
              "      <th>1</th>\n",
              "      <th>2</th>\n",
              "      <th>3</th>\n",
              "      <th>4</th>\n",
              "      <th>5</th>\n",
              "      <th>6</th>\n",
              "      <th>7</th>\n",
              "      <th>8</th>\n",
              "      <th>9</th>\n",
              "      <th>10</th>\n",
              "      <th>11</th>\n",
              "      <th>12</th>\n",
              "      <th>13</th>\n",
              "      <th>14</th>\n",
              "      <th>15</th>\n",
              "      <th>16</th>\n",
              "      <th>17</th>\n",
              "      <th>18</th>\n",
              "      <th>19</th>\n",
              "      <th>20</th>\n",
              "      <th>21</th>\n",
              "      <th>22</th>\n",
              "      <th>23</th>\n",
              "      <th>24</th>\n",
              "      <th>25</th>\n",
              "      <th>26</th>\n",
              "      <th>27</th>\n",
              "      <th>28</th>\n",
              "      <th>29</th>\n",
              "      <th>30</th>\n",
              "      <th>31</th>\n",
              "      <th>32</th>\n",
              "      <th>33</th>\n",
              "      <th>34</th>\n",
              "      <th>35</th>\n",
              "      <th>36</th>\n",
              "      <th>37</th>\n",
              "      <th>38</th>\n",
              "      <th>39</th>\n",
              "      <th>...</th>\n",
              "      <th>64</th>\n",
              "      <th>65</th>\n",
              "      <th>66</th>\n",
              "      <th>67</th>\n",
              "      <th>68</th>\n",
              "      <th>69</th>\n",
              "      <th>70</th>\n",
              "      <th>71</th>\n",
              "      <th>72</th>\n",
              "      <th>73</th>\n",
              "      <th>74</th>\n",
              "      <th>75</th>\n",
              "      <th>76</th>\n",
              "      <th>77</th>\n",
              "      <th>78</th>\n",
              "      <th>79</th>\n",
              "      <th>80</th>\n",
              "      <th>81</th>\n",
              "      <th>82</th>\n",
              "      <th>83</th>\n",
              "      <th>84</th>\n",
              "      <th>85</th>\n",
              "      <th>86</th>\n",
              "      <th>87</th>\n",
              "      <th>88</th>\n",
              "      <th>89</th>\n",
              "      <th>90</th>\n",
              "      <th>91</th>\n",
              "      <th>92</th>\n",
              "      <th>93</th>\n",
              "      <th>94</th>\n",
              "      <th>95</th>\n",
              "      <th>96</th>\n",
              "      <th>97</th>\n",
              "      <th>98</th>\n",
              "      <th>99</th>\n",
              "      <th>100</th>\n",
              "      <th>101</th>\n",
              "      <th>102</th>\n",
              "      <th>103</th>\n",
              "    </tr>\n",
              "  </thead>\n",
              "  <tbody>\n",
              "    <tr>\n",
              "      <th>0</th>\n",
              "      <td>647</td>\n",
              "      <td>499</td>\n",
              "      <td>464</td>\n",
              "      <td>371</td>\n",
              "      <td>291</td>\n",
              "      <td>319</td>\n",
              "      <td>365</td>\n",
              "      <td>322</td>\n",
              "      <td>296</td>\n",
              "      <td>305</td>\n",
              "      <td>277</td>\n",
              "      <td>219</td>\n",
              "      <td>219</td>\n",
              "      <td>222</td>\n",
              "      <td>201</td>\n",
              "      <td>162</td>\n",
              "      <td>157</td>\n",
              "      <td>183</td>\n",
              "      <td>204</td>\n",
              "      <td>194</td>\n",
              "      <td>198</td>\n",
              "      <td>216</td>\n",
              "      <td>249</td>\n",
              "      <td>284</td>\n",
              "      <td>294</td>\n",
              "      <td>322</td>\n",
              "      <td>338</td>\n",
              "      <td>342</td>\n",
              "      <td>336</td>\n",
              "      <td>342</td>\n",
              "      <td>362</td>\n",
              "      <td>365</td>\n",
              "      <td>348</td>\n",
              "      <td>341</td>\n",
              "      <td>324</td>\n",
              "      <td>316</td>\n",
              "      <td>293</td>\n",
              "      <td>274</td>\n",
              "      <td>251</td>\n",
              "      <td>244</td>\n",
              "      <td>...</td>\n",
              "      <td>192</td>\n",
              "      <td>227</td>\n",
              "      <td>287</td>\n",
              "      <td>376</td>\n",
              "      <td>493</td>\n",
              "      <td>633</td>\n",
              "      <td>763</td>\n",
              "      <td>913</td>\n",
              "      <td>1149</td>\n",
              "      <td>1442</td>\n",
              "      <td>1759</td>\n",
              "      <td>2102</td>\n",
              "      <td>2425</td>\n",
              "      <td>2689</td>\n",
              "      <td>2895</td>\n",
              "      <td>3058</td>\n",
              "      <td>3196</td>\n",
              "      <td>3252</td>\n",
              "      <td>3195</td>\n",
              "      <td>3297</td>\n",
              "      <td>3542</td>\n",
              "      <td>3550</td>\n",
              "      <td>3537</td>\n",
              "      <td>3545</td>\n",
              "      <td>3514</td>\n",
              "      <td>3477</td>\n",
              "      <td>3468</td>\n",
              "      <td>3433</td>\n",
              "      <td>3408</td>\n",
              "      <td>3420</td>\n",
              "      <td>3416</td>\n",
              "      <td>3335</td>\n",
              "      <td>3256</td>\n",
              "      <td>3226</td>\n",
              "      <td>3205</td>\n",
              "      <td>3210</td>\n",
              "      <td>3221</td>\n",
              "      <td>3238</td>\n",
              "      <td>3250</td>\n",
              "      <td>0</td>\n",
              "    </tr>\n",
              "    <tr>\n",
              "      <th>1</th>\n",
              "      <td>604</td>\n",
              "      <td>546</td>\n",
              "      <td>527</td>\n",
              "      <td>455</td>\n",
              "      <td>378</td>\n",
              "      <td>377</td>\n",
              "      <td>336</td>\n",
              "      <td>314</td>\n",
              "      <td>324</td>\n",
              "      <td>329</td>\n",
              "      <td>328</td>\n",
              "      <td>326</td>\n",
              "      <td>275</td>\n",
              "      <td>215</td>\n",
              "      <td>197</td>\n",
              "      <td>217</td>\n",
              "      <td>239</td>\n",
              "      <td>258</td>\n",
              "      <td>246</td>\n",
              "      <td>233</td>\n",
              "      <td>241</td>\n",
              "      <td>261</td>\n",
              "      <td>279</td>\n",
              "      <td>300</td>\n",
              "      <td>329</td>\n",
              "      <td>344</td>\n",
              "      <td>341</td>\n",
              "      <td>362</td>\n",
              "      <td>362</td>\n",
              "      <td>367</td>\n",
              "      <td>368</td>\n",
              "      <td>359</td>\n",
              "      <td>345</td>\n",
              "      <td>344</td>\n",
              "      <td>327</td>\n",
              "      <td>302</td>\n",
              "      <td>281</td>\n",
              "      <td>271</td>\n",
              "      <td>270</td>\n",
              "      <td>261</td>\n",
              "      <td>...</td>\n",
              "      <td>152</td>\n",
              "      <td>190</td>\n",
              "      <td>242</td>\n",
              "      <td>301</td>\n",
              "      <td>391</td>\n",
              "      <td>505</td>\n",
              "      <td>633</td>\n",
              "      <td>774</td>\n",
              "      <td>960</td>\n",
              "      <td>1191</td>\n",
              "      <td>1454</td>\n",
              "      <td>1737</td>\n",
              "      <td>2001</td>\n",
              "      <td>2209</td>\n",
              "      <td>2363</td>\n",
              "      <td>2484</td>\n",
              "      <td>2594</td>\n",
              "      <td>2613</td>\n",
              "      <td>2541</td>\n",
              "      <td>2588</td>\n",
              "      <td>2821</td>\n",
              "      <td>2839</td>\n",
              "      <td>2738</td>\n",
              "      <td>2690</td>\n",
              "      <td>2678</td>\n",
              "      <td>2673</td>\n",
              "      <td>2712</td>\n",
              "      <td>2725</td>\n",
              "      <td>2657</td>\n",
              "      <td>2605</td>\n",
              "      <td>2583</td>\n",
              "      <td>2538</td>\n",
              "      <td>2509</td>\n",
              "      <td>2511</td>\n",
              "      <td>2501</td>\n",
              "      <td>2468</td>\n",
              "      <td>2442</td>\n",
              "      <td>2464</td>\n",
              "      <td>2528</td>\n",
              "      <td>0</td>\n",
              "    </tr>\n",
              "    <tr>\n",
              "      <th>2</th>\n",
              "      <td>621</td>\n",
              "      <td>746</td>\n",
              "      <td>556</td>\n",
              "      <td>360</td>\n",
              "      <td>285</td>\n",
              "      <td>300</td>\n",
              "      <td>274</td>\n",
              "      <td>276</td>\n",
              "      <td>332</td>\n",
              "      <td>319</td>\n",
              "      <td>278</td>\n",
              "      <td>255</td>\n",
              "      <td>232</td>\n",
              "      <td>207</td>\n",
              "      <td>210</td>\n",
              "      <td>209</td>\n",
              "      <td>168</td>\n",
              "      <td>139</td>\n",
              "      <td>137</td>\n",
              "      <td>154</td>\n",
              "      <td>168</td>\n",
              "      <td>202</td>\n",
              "      <td>225</td>\n",
              "      <td>231</td>\n",
              "      <td>244</td>\n",
              "      <td>257</td>\n",
              "      <td>263</td>\n",
              "      <td>262</td>\n",
              "      <td>266</td>\n",
              "      <td>276</td>\n",
              "      <td>285</td>\n",
              "      <td>291</td>\n",
              "      <td>285</td>\n",
              "      <td>272</td>\n",
              "      <td>271</td>\n",
              "      <td>241</td>\n",
              "      <td>208</td>\n",
              "      <td>194</td>\n",
              "      <td>179</td>\n",
              "      <td>157</td>\n",
              "      <td>...</td>\n",
              "      <td>116</td>\n",
              "      <td>153</td>\n",
              "      <td>188</td>\n",
              "      <td>243</td>\n",
              "      <td>322</td>\n",
              "      <td>413</td>\n",
              "      <td>492</td>\n",
              "      <td>591</td>\n",
              "      <td>737</td>\n",
              "      <td>933</td>\n",
              "      <td>1125</td>\n",
              "      <td>1327</td>\n",
              "      <td>1519</td>\n",
              "      <td>1666</td>\n",
              "      <td>1790</td>\n",
              "      <td>1934</td>\n",
              "      <td>2029</td>\n",
              "      <td>2034</td>\n",
              "      <td>2010</td>\n",
              "      <td>2069</td>\n",
              "      <td>2191</td>\n",
              "      <td>2233</td>\n",
              "      <td>2245</td>\n",
              "      <td>2249</td>\n",
              "      <td>2255</td>\n",
              "      <td>2250</td>\n",
              "      <td>2249</td>\n",
              "      <td>2239</td>\n",
              "      <td>2239</td>\n",
              "      <td>2282</td>\n",
              "      <td>2288</td>\n",
              "      <td>2242</td>\n",
              "      <td>2193</td>\n",
              "      <td>2202</td>\n",
              "      <td>2225</td>\n",
              "      <td>2266</td>\n",
              "      <td>2308</td>\n",
              "      <td>2345</td>\n",
              "      <td>2361</td>\n",
              "      <td>0</td>\n",
              "    </tr>\n",
              "    <tr>\n",
              "      <th>3</th>\n",
              "      <td>637</td>\n",
              "      <td>592</td>\n",
              "      <td>482</td>\n",
              "      <td>556</td>\n",
              "      <td>508</td>\n",
              "      <td>284</td>\n",
              "      <td>178</td>\n",
              "      <td>198</td>\n",
              "      <td>193</td>\n",
              "      <td>224</td>\n",
              "      <td>217</td>\n",
              "      <td>215</td>\n",
              "      <td>187</td>\n",
              "      <td>161</td>\n",
              "      <td>152</td>\n",
              "      <td>136</td>\n",
              "      <td>124</td>\n",
              "      <td>122</td>\n",
              "      <td>127</td>\n",
              "      <td>126</td>\n",
              "      <td>125</td>\n",
              "      <td>123</td>\n",
              "      <td>147</td>\n",
              "      <td>188</td>\n",
              "      <td>208</td>\n",
              "      <td>203</td>\n",
              "      <td>202</td>\n",
              "      <td>206</td>\n",
              "      <td>219</td>\n",
              "      <td>235</td>\n",
              "      <td>238</td>\n",
              "      <td>227</td>\n",
              "      <td>217</td>\n",
              "      <td>215</td>\n",
              "      <td>216</td>\n",
              "      <td>201</td>\n",
              "      <td>190</td>\n",
              "      <td>167</td>\n",
              "      <td>149</td>\n",
              "      <td>162</td>\n",
              "      <td>...</td>\n",
              "      <td>129</td>\n",
              "      <td>174</td>\n",
              "      <td>245</td>\n",
              "      <td>338</td>\n",
              "      <td>455</td>\n",
              "      <td>585</td>\n",
              "      <td>720</td>\n",
              "      <td>850</td>\n",
              "      <td>1013</td>\n",
              "      <td>1225</td>\n",
              "      <td>1460</td>\n",
              "      <td>1702</td>\n",
              "      <td>1938</td>\n",
              "      <td>2157</td>\n",
              "      <td>2317</td>\n",
              "      <td>2433</td>\n",
              "      <td>2525</td>\n",
              "      <td>2552</td>\n",
              "      <td>2493</td>\n",
              "      <td>2554</td>\n",
              "      <td>2733</td>\n",
              "      <td>2781</td>\n",
              "      <td>2748</td>\n",
              "      <td>2748</td>\n",
              "      <td>2737</td>\n",
              "      <td>2710</td>\n",
              "      <td>2681</td>\n",
              "      <td>2642</td>\n",
              "      <td>2645</td>\n",
              "      <td>2684</td>\n",
              "      <td>2675</td>\n",
              "      <td>2609</td>\n",
              "      <td>2541</td>\n",
              "      <td>2551</td>\n",
              "      <td>2571</td>\n",
              "      <td>2569</td>\n",
              "      <td>2573</td>\n",
              "      <td>2620</td>\n",
              "      <td>2644</td>\n",
              "      <td>0</td>\n",
              "    </tr>\n",
              "    <tr>\n",
              "      <th>4</th>\n",
              "      <td>625</td>\n",
              "      <td>560</td>\n",
              "      <td>480</td>\n",
              "      <td>360</td>\n",
              "      <td>377</td>\n",
              "      <td>341</td>\n",
              "      <td>264</td>\n",
              "      <td>208</td>\n",
              "      <td>231</td>\n",
              "      <td>266</td>\n",
              "      <td>207</td>\n",
              "      <td>154</td>\n",
              "      <td>123</td>\n",
              "      <td>95</td>\n",
              "      <td>106</td>\n",
              "      <td>102</td>\n",
              "      <td>101</td>\n",
              "      <td>123</td>\n",
              "      <td>154</td>\n",
              "      <td>170</td>\n",
              "      <td>191</td>\n",
              "      <td>210</td>\n",
              "      <td>216</td>\n",
              "      <td>256</td>\n",
              "      <td>289</td>\n",
              "      <td>325</td>\n",
              "      <td>348</td>\n",
              "      <td>357</td>\n",
              "      <td>361</td>\n",
              "      <td>362</td>\n",
              "      <td>363</td>\n",
              "      <td>370</td>\n",
              "      <td>386</td>\n",
              "      <td>369</td>\n",
              "      <td>344</td>\n",
              "      <td>331</td>\n",
              "      <td>312</td>\n",
              "      <td>308</td>\n",
              "      <td>288</td>\n",
              "      <td>263</td>\n",
              "      <td>...</td>\n",
              "      <td>173</td>\n",
              "      <td>220</td>\n",
              "      <td>292</td>\n",
              "      <td>382</td>\n",
              "      <td>488</td>\n",
              "      <td>592</td>\n",
              "      <td>692</td>\n",
              "      <td>834</td>\n",
              "      <td>1032</td>\n",
              "      <td>1236</td>\n",
              "      <td>1461</td>\n",
              "      <td>1698</td>\n",
              "      <td>1876</td>\n",
              "      <td>2007</td>\n",
              "      <td>2118</td>\n",
              "      <td>2213</td>\n",
              "      <td>2288</td>\n",
              "      <td>2267</td>\n",
              "      <td>2192</td>\n",
              "      <td>2274</td>\n",
              "      <td>2448</td>\n",
              "      <td>2454</td>\n",
              "      <td>2387</td>\n",
              "      <td>2388</td>\n",
              "      <td>2441</td>\n",
              "      <td>2435</td>\n",
              "      <td>2454</td>\n",
              "      <td>2457</td>\n",
              "      <td>2430</td>\n",
              "      <td>2423</td>\n",
              "      <td>2392</td>\n",
              "      <td>2344</td>\n",
              "      <td>2289</td>\n",
              "      <td>2328</td>\n",
              "      <td>2415</td>\n",
              "      <td>2424</td>\n",
              "      <td>2386</td>\n",
              "      <td>2431</td>\n",
              "      <td>2456</td>\n",
              "      <td>0</td>\n",
              "    </tr>\n",
              "  </tbody>\n",
              "</table>\n",
              "<p>5 rows × 104 columns</p>\n",
              "</div>"
            ],
            "text/plain": [
              "   0    1    2    3    4    5    6    ...   97    98    99    100   101   102  103\n",
              "0  647  499  464  371  291  319  365  ...  3226  3205  3210  3221  3238  3250    0\n",
              "1  604  546  527  455  378  377  336  ...  2511  2501  2468  2442  2464  2528    0\n",
              "2  621  746  556  360  285  300  274  ...  2202  2225  2266  2308  2345  2361    0\n",
              "3  637  592  482  556  508  284  178  ...  2551  2571  2569  2573  2620  2644    0\n",
              "4  625  560  480  360  377  341  264  ...  2328  2415  2424  2386  2431  2456    0\n",
              "\n",
              "[5 rows x 104 columns]"
            ]
          },
          "metadata": {
            "tags": []
          },
          "execution_count": 9
        }
      ]
    },
    {
      "cell_type": "markdown",
      "metadata": {
        "id": "OLWjsfqaLZs0",
        "colab_type": "text"
      },
      "source": [
        "## Droping the rows if ground truth value is zero"
      ]
    },
    {
      "cell_type": "code",
      "metadata": {
        "id": "OlyctDjwLYkb",
        "colab_type": "code",
        "outputId": "3f44d40a-a3de-472c-9706-c6f453ae2751",
        "colab": {
          "base_uri": "https://localhost:8080/",
          "height": 34
        }
      },
      "source": [
        "print(\"Percentage of column which will be droped\",(data.size - data[data.iloc[:, -1] == 0].size)/data.size,\"%\")"
      ],
      "execution_count": 10,
      "outputs": [
        {
          "output_type": "stream",
          "text": [
            "Percentage of column which will be droped 0.20624879459980713 %\n"
          ],
          "name": "stdout"
        }
      ]
    },
    {
      "cell_type": "code",
      "metadata": {
        "id": "_tJ0vUTCLhZx",
        "colab_type": "code",
        "colab": {}
      },
      "source": [
        "zero_data = data.index[data.iloc[:, -1] == 0].tolist()\n",
        "data = data[data.iloc[:, -1] != 0]"
      ],
      "execution_count": 0,
      "outputs": []
    },
    {
      "cell_type": "markdown",
      "metadata": {
        "id": "kE5Gc8BTLiAN",
        "colab_type": "text"
      },
      "source": [
        "# Spliting the data into feature and target"
      ]
    },
    {
      "cell_type": "code",
      "metadata": {
        "id": "FJ4dCIbILrwg",
        "colab_type": "code",
        "colab": {}
      },
      "source": [
        "X = data.iloc[:, :-1]\n",
        "y = data.iloc[:,-1]"
      ],
      "execution_count": 0,
      "outputs": []
    },
    {
      "cell_type": "code",
      "metadata": {
        "id": "fBvQ4xnt6tQD",
        "colab_type": "code",
        "colab": {}
      },
      "source": [
        "number_of_classes = len(np.unique(y))"
      ],
      "execution_count": 0,
      "outputs": []
    },
    {
      "cell_type": "markdown",
      "metadata": {
        "id": "CHPv8SimL1Iu",
        "colab_type": "text"
      },
      "source": [
        "# Feature Selection"
      ]
    },
    {
      "cell_type": "code",
      "metadata": {
        "id": "6aMaE8k8L0VV",
        "colab_type": "code",
        "colab": {}
      },
      "source": [
        "# from sklearn.feature_selection import SelectKBest\n",
        "# from sklearn.feature_selection import chi2, f_classif, mutual_info_classif\n",
        "\n",
        "# X = SelectKBest(f_classif, k=int((image.shape[2]+1)*0.75)).fit_transform(X, y)"
      ],
      "execution_count": 0,
      "outputs": []
    },
    {
      "cell_type": "markdown",
      "metadata": {
        "id": "nCO0t_-J0G6J",
        "colab_type": "text"
      },
      "source": [
        "# Feature Extraction \n"
      ]
    },
    {
      "cell_type": "code",
      "metadata": {
        "id": "NIjIpV160KKZ",
        "colab_type": "code",
        "colab": {}
      },
      "source": [
        "from sklearn.decomposition import PCA \n",
        "\n",
        "pca = PCA(n_components = int((image.shape[2]+1)*0.75))\n",
        "X = pca.fit_transform(X)"
      ],
      "execution_count": 0,
      "outputs": []
    },
    {
      "cell_type": "markdown",
      "metadata": {
        "id": "fijfR_5DL9IK",
        "colab_type": "text"
      },
      "source": [
        "# OneHotEncoding in target column"
      ]
    },
    {
      "cell_type": "code",
      "metadata": {
        "id": "_QoUCdAwMBAD",
        "colab_type": "code",
        "colab": {}
      },
      "source": [
        "onehotencoder = OneHotEncoder() \n",
        "y = onehotencoder.fit_transform(np.array(y).reshape(-1,1)).toarray() "
      ],
      "execution_count": 0,
      "outputs": []
    },
    {
      "cell_type": "markdown",
      "metadata": {
        "id": "IlNWTtSVMEjl",
        "colab_type": "text"
      },
      "source": [
        "# Standardizing the feature columna"
      ]
    },
    {
      "cell_type": "code",
      "metadata": {
        "id": "PPshPrqEMJvm",
        "colab_type": "code",
        "colab": {}
      },
      "source": [
        "X = preprocessing.scale(X)"
      ],
      "execution_count": 0,
      "outputs": []
    },
    {
      "cell_type": "markdown",
      "metadata": {
        "id": "DRtV7aDDqr5a",
        "colab_type": "text"
      },
      "source": [
        "# Spliting the data into training and testing set "
      ]
    },
    {
      "cell_type": "code",
      "metadata": {
        "id": "DattLTVzqr5b",
        "colab_type": "code",
        "colab": {}
      },
      "source": [
        "X_train, X_test, y_train, y_test = train_test_split(X, y, test_size=0.60, random_state=1)#0.25 0.15"
      ],
      "execution_count": 0,
      "outputs": []
    },
    {
      "cell_type": "code",
      "metadata": {
        "id": "2OngDFGdDdPx",
        "colab_type": "code",
        "colab": {}
      },
      "source": [
        "number = int(X_test.shape[0]/2)\n",
        "\n",
        "xx_test = X_test[:number, :]\n",
        "xx_val = X_test[number:, :]\n",
        "\n",
        "if len(y_test.shape) > 1:\n",
        "  loss = keras.losses.categorical_crossentropy\n",
        "  metrics=['accuracy']\n",
        "  yy_test = y_test[:number, :]\n",
        "  yy_val = y_test[number:, :]\n",
        "else:\n",
        "  loss = keras.losses.sparse_categorical_crossentropy\n",
        "  metrics=['sparse_categorical_accuracy']\n",
        "  y_test = [x - 1 for x in y_test]\n",
        "  y_train = [x - 1 for x in y_train]\n",
        "  yy_test = y_test[:number]\n",
        "  yy_val = y_test[number:]"
      ],
      "execution_count": 0,
      "outputs": []
    },
    {
      "cell_type": "code",
      "metadata": {
        "id": "9M33_KnJNu7n",
        "colab_type": "code",
        "colab": {}
      },
      "source": [
        "from keras import backend as K\n",
        "feature = X.shape[1]\n",
        "\n",
        "if K.image_data_format() == 'channels_first':\n",
        "    X = X.reshape(X.shape[0], 1, feature)\n",
        "    X_train = X_train.reshape(X_train.shape[0], 1, feature)\n",
        "    xx_test = xx_test.reshape(xx_test.shape[0], 1, feature)\n",
        "    xx_val = xx_val.reshape(xx_val.shape[0], 1, feature)\n",
        "    input_shape = (1, feature)\n",
        "else:\n",
        "    X = X.reshape(X.shape[0], feature, 1)\n",
        "    X_train = X_train.reshape(X_train.shape[0], feature, 1)\n",
        "    xx_test = xx_test.reshape(xx_test.shape[0], feature, 1)\n",
        "    xx_val = xx_val.reshape(xx_val.shape[0], feature, 1)\n",
        "    input_shape = (feature, 1)"
      ],
      "execution_count": 0,
      "outputs": []
    },
    {
      "cell_type": "markdown",
      "metadata": {
        "id": "MQLkUnZ_YsYO",
        "colab_type": "text"
      },
      "source": [
        "# Genetic Algorithm"
      ]
    },
    {
      "cell_type": "code",
      "metadata": {
        "id": "1-9MDtAugFbk",
        "colab_type": "code",
        "outputId": "ae379c21-6057-4930-d6b4-0e8ab1dbc33a",
        "colab": {
          "base_uri": "https://localhost:8080/",
          "height": 187
        }
      },
      "source": [
        "!pip install pyeasyga"
      ],
      "execution_count": 21,
      "outputs": [
        {
          "output_type": "stream",
          "text": [
            "Collecting pyeasyga\n",
            "  Downloading https://files.pythonhosted.org/packages/3f/1b/d2834ca8e108806734a59579fe38a9fa1329f2527d622c43894c1c85a233/pyeasyga-0.3.1.tar.gz\n",
            "Requirement already satisfied: six in /usr/local/lib/python3.6/dist-packages (from pyeasyga) (1.12.0)\n",
            "Building wheels for collected packages: pyeasyga\n",
            "  Building wheel for pyeasyga (setup.py) ... \u001b[?25l\u001b[?25hdone\n",
            "  Created wheel for pyeasyga: filename=pyeasyga-0.3.1-py2.py3-none-any.whl size=6774 sha256=ee41cfc519825d25a74abe11e8b95972b26f30f7870d56709dd8c917b34ed085\n",
            "  Stored in directory: /root/.cache/pip/wheels/ef/cf/ef/7aff9fcd6c1e59dc276182f29a32e7c197665dd5eb547f30e6\n",
            "Successfully built pyeasyga\n",
            "Installing collected packages: pyeasyga\n",
            "Successfully installed pyeasyga-0.3.1\n"
          ],
          "name": "stdout"
        }
      ]
    },
    {
      "cell_type": "code",
      "metadata": {
        "id": "QlapBK49M2QU",
        "colab_type": "code",
        "colab": {}
      },
      "source": [
        "from keras.models import Sequential\n",
        "from keras.layers import Dense, Dropout, Flatten, Conv1D, MaxPooling1D, BatchNormalization"
      ],
      "execution_count": 0,
      "outputs": []
    },
    {
      "cell_type": "code",
      "metadata": {
        "id": "3bAr5dYIYrxF",
        "colab_type": "code",
        "colab": {}
      },
      "source": [
        "# from pyeasyga import pyeasyga\n",
        "# import random\n",
        "# import numpy as np\n",
        "# from sklearn.metrics import accuracy_score\n",
        "# import keras\n",
        "# import time\n",
        "\n",
        "# count = 1\n",
        "\n",
        "# def initilialize_population():\n",
        "#     filter_1 = list(x for x in range(1, 11))\n",
        "#     filter_2 = list(x for x in range(11, 31))\n",
        "#     filter_3 = list(x for x in range(31, 61))\n",
        "#     filter_4 = list(x for x in range(61, 101))\n",
        "\n",
        "#     kernel_size_1 = [2,3]\n",
        "#     kernel_size_2 = [2,3]\n",
        "#     kernel_size_3 = [2,3]\n",
        "#     kernel_size_4 = [2,3]\n",
        "\n",
        "\n",
        "#     population = []\n",
        "#     population.append(filter_1)\n",
        "#     population.append(filter_2)\n",
        "#     population.append(filter_3)\n",
        "#     population.append(filter_4)\n",
        "#     population.append(kernel_size_1)\n",
        "#     population.append(kernel_size_2)\n",
        "#     population.append(kernel_size_3)\n",
        "#     population.append(kernel_size_4)\n",
        "\n",
        "#     return list(population)\n",
        "\n",
        "# def create_individual(data):\n",
        "#   choice = []\n",
        "#   for i in range(len(data)):\n",
        "#     choice.append(random.choice(list(range(len(data[i])))))\n",
        "#   return choice\n",
        "\n",
        "# def fitness_function(individual, data):\n",
        "#   global count\n",
        "#   print('Individual no', count)\n",
        "#   count += 1\n",
        "#   model = Sequential()\n",
        "#   model.add(Conv1D(filters=data[0][individual[0]], kernel_size=data[4][individual[4]], activation='relu', input_shape=input_shape))\n",
        "#   model.add(Conv1D(filters=data[0][individual[0]], kernel_size=data[4][individual[4]], activation='relu', input_shape=input_shape))\n",
        "#   model.add(BatchNormalization())\n",
        "#   model.add(MaxPooling1D(pool_size=2))\n",
        "#   model.add(Conv1D(filters=data[1][individual[1]], kernel_size=data[5][individual[5]], activation='relu'))\n",
        "#   model.add(Conv1D(filters=data[1][individual[1]], kernel_size=data[5][individual[5]], activation='relu'))\n",
        "#   model.add(BatchNormalization())\n",
        "#   model.add(MaxPooling1D(pool_size=2))\n",
        "#   model.add(Conv1D(filters=data[2][individual[2]], kernel_size=data[6][individual[6]], activation='relu'))\n",
        "#   model.add(Conv1D(filters=data[2][individual[2]], kernel_size=data[6][individual[6]], activation='relu'))\n",
        "#   model.add(BatchNormalization())\n",
        "#   model.add(MaxPooling1D(pool_size=2))\n",
        "#   model.add(Conv1D(filters=data[3][individual[3]], kernel_size=data[7][individual[7]], activation='relu'))\n",
        "#   model.add(Conv1D(filters=data[3][individual[3]], kernel_size=data[7][individual[7]], activation='relu'))\n",
        "#   model.add(BatchNormalization())\n",
        "#   model.add(MaxPooling1D(pool_size=2))\n",
        "#   model.add(Dropout(0.25))\n",
        "#   model.add(Flatten())\n",
        "#   model.add(Dense(64, activation='relu'))\n",
        "#   model.add(BatchNormalization())\n",
        "#   model.add(Dropout(0.25))\n",
        "#   model.add(Dense(32, activation='relu'))\n",
        "#   model.add(BatchNormalization())\n",
        "#   model.add(Dropout(0.25))\n",
        "#   model.add(Dense(16, activation='relu'))\n",
        "#   model.add(BatchNormalization())\n",
        "#   model.add(Dropout(0.25))\n",
        "#   model.add(Dense(number_of_classes, activation='softmax'))\n",
        "\n",
        "#   model.compile(loss=loss,\n",
        "#                 optimizer=keras.optimizers.Adadelta(),\n",
        "#                 metrics=metrics)\n",
        "\n",
        "#   model.fit(X_train, np.array(y_train),\n",
        "#             batch_size=128,\n",
        "#             epochs=25,\n",
        "#             verbose=1,\n",
        "#             validation_data=(xx_val,np.array(yy_val)))\n",
        "\n",
        "\n",
        "#   score = model.evaluate(xx_test, np.array(yy_test), verbose=1)[1]\n",
        "#   # prediction = model.predict(X_test)\n",
        "#   # score = accuracy_score(y_test, prediction)\n",
        "#   print('Score is', score)\n",
        "#   return score\n",
        "  \n",
        "# data = initilialize_population()\n",
        "# ga = pyeasyga.GeneticAlgorithm(seed_data=data,\n",
        "#                                population_size=1,\n",
        "#                                generations=1,\n",
        "#                                crossover_probability=0.8,\n",
        "#                                mutation_probability=0.4,\n",
        "#                                elitism=True,\n",
        "#                                maximise_fitness=True)\n",
        "# ga.create_individual = create_individual\n",
        "# ga.fitness_function = fitness_function\n",
        "\n",
        "# start = time.time()\n",
        "# ga.run()\n",
        "# end = time.time()\n",
        "# print('Time taken ------>', end-start)"
      ],
      "execution_count": 0,
      "outputs": []
    },
    {
      "cell_type": "code",
      "metadata": {
        "id": "MU62XsCXnOj4",
        "colab_type": "code",
        "colab": {}
      },
      "source": [
        "# best_parameters = ga.best_individual()[1]\n",
        "# for index,i in enumerate(data):\n",
        "#   print(i[best_parameters[index]])\n",
        "\n",
        "# print(ga.best_individual()[0])"
      ],
      "execution_count": 0,
      "outputs": []
    },
    {
      "cell_type": "markdown",
      "metadata": {
        "id": "TXoVZ9ibM34E",
        "colab_type": "text"
      },
      "source": [
        "# Building CNN Model\n"
      ]
    },
    {
      "cell_type": "code",
      "metadata": {
        "id": "AT7KyTCKM-27",
        "colab_type": "code",
        "colab": {}
      },
      "source": [
        "# model = Sequential()\n",
        "# model.add(Conv1D(filters=data[0][best_parameters[0]], kernel_size=data[4][best_parameters[4]], activation='relu', input_shape=input_shape))\n",
        "# model.add(Conv1D(filters=data[0][best_parameters[0]], kernel_size=data[4][best_parameters[4]], activation='relu', input_shape=input_shape))\n",
        "# model.add(BatchNormalization())\n",
        "# model.add(MaxPooling1D(pool_size=2))\n",
        "# model.add(Conv1D(filters=data[1][best_parameters[1]], kernel_size=data[5][best_parameters[5]], activation='relu'))\n",
        "# model.add(Conv1D(filters=data[1][best_parameters[1]], kernel_size=data[5][best_parameters[5]], activation='relu'))\n",
        "# model.add(BatchNormalization())\n",
        "# model.add(MaxPooling1D(pool_size=2))\n",
        "# model.add(Conv1D(filters=data[2][best_parameters[2]], kernel_size=data[5][best_parameters[5]], activation='relu'))\n",
        "# model.add(Conv1D(filters=data[2][best_parameters[2]], kernel_size=data[5][best_parameters[5]], activation='relu'))\n",
        "# model.add(BatchNormalization())\n",
        "# model.add(MaxPooling1D(pool_size=2))\n",
        "# model.add(Conv1D(filters=data[3][best_parameters[3]], kernel_size=data[6][best_parameters[6]], activation='relu'))\n",
        "# model.add(Conv1D(filters=data[3][best_parameters[3]], kernel_size=data[6][best_parameters[6]], activation='relu'))\n",
        "# model.add(BatchNormalization())\n",
        "# model.add(MaxPooling1D(pool_size=2))\n",
        "# model.add(Dropout(0.25))\n",
        "# model.add(Flatten())\n",
        "# model.add(Dense(64, activation='relu'))\n",
        "# model.add(BatchNormalization())\n",
        "# model.add(Dropout(0.25))\n",
        "# model.add(Dense(32, activation='relu'))\n",
        "# model.add(BatchNormalization())\n",
        "# model.add(Dropout(0.25))\n",
        "# model.add(Dense(16, activation='relu'))\n",
        "# model.add(BatchNormalization())\n",
        "# model.add(Dropout(0.25))\n",
        "# model.add(Dense(number_of_classes, activation='softmax'))\n",
        "# model.summary()"
      ],
      "execution_count": 0,
      "outputs": []
    },
    {
      "cell_type": "code",
      "metadata": {
        "id": "4nHrv5P4EPUi",
        "colab_type": "code",
        "outputId": "31388523-3dc4-4a38-f4d0-8f8fff18d7a0",
        "colab": {
          "base_uri": "https://localhost:8080/",
          "height": 1000
        }
      },
      "source": [
        "model = Sequential()\n",
        "model.add(Conv1D(filters=8, kernel_size=3, activation='relu', input_shape=input_shape))\n",
        "model.add(Conv1D(filters=8, kernel_size=3, activation='relu', input_shape=input_shape))\n",
        "model.add(BatchNormalization())\n",
        "model.add(MaxPooling1D(pool_size=2))\n",
        "model.add(Conv1D(filters=16, kernel_size=3, activation='relu'))\n",
        "model.add(Conv1D(filters=16, kernel_size=3, activation='relu'))\n",
        "model.add(BatchNormalization())\n",
        "model.add(MaxPooling1D(pool_size=2))\n",
        "model.add(Conv1D(filters=32, kernel_size=3, activation='relu'))\n",
        "model.add(Conv1D(filters=32, kernel_size=3, activation='relu'))\n",
        "model.add(BatchNormalization())\n",
        "model.add(MaxPooling1D(pool_size=2))\n",
        "model.add(Conv1D(filters=64, kernel_size=3, activation='relu'))\n",
        "model.add(Conv1D(filters=64, kernel_size=3, activation='relu'))\n",
        "model.add(BatchNormalization())\n",
        "model.add(MaxPooling1D(pool_size=2))\n",
        "model.add(Dropout(0.25))\n",
        "model.add(Flatten())\n",
        "model.add(Dense(64, activation='relu'))\n",
        "model.add(BatchNormalization())\n",
        "model.add(Dropout(0.25))\n",
        "model.add(Dense(32, activation='relu'))\n",
        "model.add(BatchNormalization())\n",
        "model.add(Dropout(0.25))\n",
        "model.add(Dense(16, activation='relu'))\n",
        "model.add(BatchNormalization())\n",
        "model.add(Dropout(0.25))\n",
        "model.add(Dense(number_of_classes, activation='softmax'))\n",
        "model.summary()"
      ],
      "execution_count": 26,
      "outputs": [
        {
          "output_type": "stream",
          "text": [
            "Model: \"sequential_1\"\n",
            "_________________________________________________________________\n",
            "Layer (type)                 Output Shape              Param #   \n",
            "=================================================================\n",
            "conv1d_1 (Conv1D)            (None, 76, 8)             32        \n",
            "_________________________________________________________________\n",
            "conv1d_2 (Conv1D)            (None, 74, 8)             200       \n",
            "_________________________________________________________________\n",
            "batch_normalization_1 (Batch (None, 74, 8)             32        \n",
            "_________________________________________________________________\n",
            "max_pooling1d_1 (MaxPooling1 (None, 37, 8)             0         \n",
            "_________________________________________________________________\n",
            "conv1d_3 (Conv1D)            (None, 35, 16)            400       \n",
            "_________________________________________________________________\n",
            "conv1d_4 (Conv1D)            (None, 33, 16)            784       \n",
            "_________________________________________________________________\n",
            "batch_normalization_2 (Batch (None, 33, 16)            64        \n",
            "_________________________________________________________________\n",
            "max_pooling1d_2 (MaxPooling1 (None, 16, 16)            0         \n",
            "_________________________________________________________________\n",
            "conv1d_5 (Conv1D)            (None, 14, 32)            1568      \n",
            "_________________________________________________________________\n",
            "conv1d_6 (Conv1D)            (None, 12, 32)            3104      \n",
            "_________________________________________________________________\n",
            "batch_normalization_3 (Batch (None, 12, 32)            128       \n",
            "_________________________________________________________________\n",
            "max_pooling1d_3 (MaxPooling1 (None, 6, 32)             0         \n",
            "_________________________________________________________________\n",
            "conv1d_7 (Conv1D)            (None, 4, 64)             6208      \n",
            "_________________________________________________________________\n",
            "conv1d_8 (Conv1D)            (None, 2, 64)             12352     \n",
            "_________________________________________________________________\n",
            "batch_normalization_4 (Batch (None, 2, 64)             256       \n",
            "_________________________________________________________________\n",
            "max_pooling1d_4 (MaxPooling1 (None, 1, 64)             0         \n",
            "_________________________________________________________________\n",
            "dropout_1 (Dropout)          (None, 1, 64)             0         \n",
            "_________________________________________________________________\n",
            "flatten_1 (Flatten)          (None, 64)                0         \n",
            "_________________________________________________________________\n",
            "dense_1 (Dense)              (None, 64)                4160      \n",
            "_________________________________________________________________\n",
            "batch_normalization_5 (Batch (None, 64)                256       \n",
            "_________________________________________________________________\n",
            "dropout_2 (Dropout)          (None, 64)                0         \n",
            "_________________________________________________________________\n",
            "dense_2 (Dense)              (None, 32)                2080      \n",
            "_________________________________________________________________\n",
            "batch_normalization_6 (Batch (None, 32)                128       \n",
            "_________________________________________________________________\n",
            "dropout_3 (Dropout)          (None, 32)                0         \n",
            "_________________________________________________________________\n",
            "dense_3 (Dense)              (None, 16)                528       \n",
            "_________________________________________________________________\n",
            "batch_normalization_7 (Batch (None, 16)                64        \n",
            "_________________________________________________________________\n",
            "dropout_4 (Dropout)          (None, 16)                0         \n",
            "_________________________________________________________________\n",
            "dense_4 (Dense)              (None, 9)                 153       \n",
            "=================================================================\n",
            "Total params: 32,497\n",
            "Trainable params: 32,033\n",
            "Non-trainable params: 464\n",
            "_________________________________________________________________\n"
          ],
          "name": "stdout"
        }
      ]
    },
    {
      "cell_type": "code",
      "metadata": {
        "id": "P5kxIOUabfGo",
        "colab_type": "code",
        "colab": {}
      },
      "source": [
        "# for i in model.layers:\n",
        "#   name = i.output.name.split('/')[0].split('_')\n",
        "#   if len(name) > 2:\n",
        "#     name = name[0] + '_' + name[1]\n",
        "#   else:\n",
        "#     name = name[0]\n",
        "#   print(name, i.output.shape)\n",
        "#   print('_________________________________________________')"
      ],
      "execution_count": 0,
      "outputs": []
    },
    {
      "cell_type": "code",
      "metadata": {
        "id": "3-VSlVynNBID",
        "colab_type": "code",
        "outputId": "dc8d7feb-5e44-4431-aa8d-9a7108f1a406",
        "colab": {
          "base_uri": "https://localhost:8080/",
          "height": 1000
        }
      },
      "source": [
        "import keras\n",
        "model.compile(loss=loss,\n",
        "              optimizer=keras.optimizers.Adadelta(),\n",
        "              metrics=metrics)\n",
        "\n",
        "model.fit(X_train, np.array(y_train),\n",
        "          batch_size=128,\n",
        "          epochs=100,\n",
        "          verbose=1,\n",
        "          validation_data=(xx_val, np.array(yy_val)))"
      ],
      "execution_count": 28,
      "outputs": [
        {
          "output_type": "stream",
          "text": [
            "Train on 17110 samples, validate on 12833 samples\n",
            "Epoch 1/100\n",
            "17110/17110 [==============================] - 6s 368us/step - loss: 2.4021 - accuracy: 0.1611 - val_loss: 1.8666 - val_accuracy: 0.4304\n",
            "Epoch 2/100\n",
            "17110/17110 [==============================] - 4s 256us/step - loss: 1.9566 - accuracy: 0.3487 - val_loss: 1.7802 - val_accuracy: 0.4304\n",
            "Epoch 3/100\n",
            "17110/17110 [==============================] - 4s 252us/step - loss: 1.8122 - accuracy: 0.4168 - val_loss: 1.7547 - val_accuracy: 0.4314\n",
            "Epoch 4/100\n",
            "17110/17110 [==============================] - 4s 258us/step - loss: 1.7613 - accuracy: 0.4320 - val_loss: 1.7136 - val_accuracy: 0.4356\n",
            "Epoch 5/100\n",
            "17110/17110 [==============================] - 4s 257us/step - loss: 1.7313 - accuracy: 0.4396 - val_loss: 1.6894 - val_accuracy: 0.4406\n",
            "Epoch 6/100\n",
            "17110/17110 [==============================] - 4s 253us/step - loss: 1.7003 - accuracy: 0.4434 - val_loss: 1.6729 - val_accuracy: 0.4467\n",
            "Epoch 7/100\n",
            "17110/17110 [==============================] - 4s 257us/step - loss: 1.6617 - accuracy: 0.4571 - val_loss: 1.6188 - val_accuracy: 0.4676\n",
            "Epoch 8/100\n",
            "17110/17110 [==============================] - 4s 261us/step - loss: 1.6142 - accuracy: 0.4690 - val_loss: 1.5711 - val_accuracy: 0.4766\n",
            "Epoch 9/100\n",
            "17110/17110 [==============================] - 4s 252us/step - loss: 1.5623 - accuracy: 0.4818 - val_loss: 1.5312 - val_accuracy: 0.4830\n",
            "Epoch 10/100\n",
            "17110/17110 [==============================] - 4s 255us/step - loss: 1.4902 - accuracy: 0.4958 - val_loss: 1.4550 - val_accuracy: 0.4965\n",
            "Epoch 11/100\n",
            "17110/17110 [==============================] - 4s 250us/step - loss: 1.4191 - accuracy: 0.5082 - val_loss: 1.3586 - val_accuracy: 0.5042\n",
            "Epoch 12/100\n",
            "17110/17110 [==============================] - 4s 257us/step - loss: 1.3517 - accuracy: 0.5245 - val_loss: 1.2946 - val_accuracy: 0.5295\n",
            "Epoch 13/100\n",
            "17110/17110 [==============================] - 4s 258us/step - loss: 1.2950 - accuracy: 0.5432 - val_loss: 1.2383 - val_accuracy: 0.5453\n",
            "Epoch 14/100\n",
            "17110/17110 [==============================] - 4s 255us/step - loss: 1.2295 - accuracy: 0.5562 - val_loss: 1.1732 - val_accuracy: 0.5686\n",
            "Epoch 15/100\n",
            "17110/17110 [==============================] - 4s 258us/step - loss: 1.1607 - accuracy: 0.5816 - val_loss: 1.1787 - val_accuracy: 0.5713\n",
            "Epoch 16/100\n",
            "17110/17110 [==============================] - 4s 256us/step - loss: 1.1048 - accuracy: 0.6008 - val_loss: 1.0460 - val_accuracy: 0.6153\n",
            "Epoch 17/100\n",
            "17110/17110 [==============================] - 4s 254us/step - loss: 1.0514 - accuracy: 0.6199 - val_loss: 0.9972 - val_accuracy: 0.6285\n",
            "Epoch 18/100\n",
            "17110/17110 [==============================] - 4s 256us/step - loss: 0.9841 - accuracy: 0.6425 - val_loss: 0.9682 - val_accuracy: 0.6444\n",
            "Epoch 19/100\n",
            "17110/17110 [==============================] - 4s 252us/step - loss: 0.9157 - accuracy: 0.6669 - val_loss: 0.8663 - val_accuracy: 0.6777\n",
            "Epoch 20/100\n",
            "17110/17110 [==============================] - 4s 257us/step - loss: 0.8546 - accuracy: 0.6935 - val_loss: 0.7866 - val_accuracy: 0.7086\n",
            "Epoch 21/100\n",
            "17110/17110 [==============================] - 4s 259us/step - loss: 0.7768 - accuracy: 0.7240 - val_loss: 0.7368 - val_accuracy: 0.7237\n",
            "Epoch 22/100\n",
            "17110/17110 [==============================] - 4s 253us/step - loss: 0.7222 - accuracy: 0.7383 - val_loss: 0.6816 - val_accuracy: 0.7370\n",
            "Epoch 23/100\n",
            "17110/17110 [==============================] - 4s 255us/step - loss: 0.6821 - accuracy: 0.7510 - val_loss: 0.6578 - val_accuracy: 0.7485\n",
            "Epoch 24/100\n",
            "17110/17110 [==============================] - 4s 257us/step - loss: 0.6499 - accuracy: 0.7589 - val_loss: 0.6450 - val_accuracy: 0.7493\n",
            "Epoch 25/100\n",
            "17110/17110 [==============================] - 4s 256us/step - loss: 0.6194 - accuracy: 0.7708 - val_loss: 0.6567 - val_accuracy: 0.7564\n",
            "Epoch 26/100\n",
            "17110/17110 [==============================] - 4s 251us/step - loss: 0.6049 - accuracy: 0.7686 - val_loss: 0.6070 - val_accuracy: 0.7665\n",
            "Epoch 27/100\n",
            "17110/17110 [==============================] - 4s 255us/step - loss: 0.5787 - accuracy: 0.7839 - val_loss: 0.5993 - val_accuracy: 0.7710\n",
            "Epoch 28/100\n",
            "17110/17110 [==============================] - 4s 255us/step - loss: 0.5655 - accuracy: 0.7883 - val_loss: 0.6097 - val_accuracy: 0.7666\n",
            "Epoch 29/100\n",
            "17110/17110 [==============================] - 4s 255us/step - loss: 0.5431 - accuracy: 0.7971 - val_loss: 0.5647 - val_accuracy: 0.7834\n",
            "Epoch 30/100\n",
            "17110/17110 [==============================] - 4s 257us/step - loss: 0.5221 - accuracy: 0.8046 - val_loss: 0.5711 - val_accuracy: 0.7758\n",
            "Epoch 31/100\n",
            "17110/17110 [==============================] - 4s 260us/step - loss: 0.5069 - accuracy: 0.8107 - val_loss: 0.5833 - val_accuracy: 0.7770\n",
            "Epoch 32/100\n",
            "17110/17110 [==============================] - 4s 256us/step - loss: 0.4902 - accuracy: 0.8142 - val_loss: 0.5577 - val_accuracy: 0.7890\n",
            "Epoch 33/100\n",
            "17110/17110 [==============================] - 4s 254us/step - loss: 0.4763 - accuracy: 0.8224 - val_loss: 0.5401 - val_accuracy: 0.7923\n",
            "Epoch 34/100\n",
            "17110/17110 [==============================] - 4s 254us/step - loss: 0.4690 - accuracy: 0.8241 - val_loss: 0.5920 - val_accuracy: 0.7638\n",
            "Epoch 35/100\n",
            "17110/17110 [==============================] - 4s 255us/step - loss: 0.4519 - accuracy: 0.8281 - val_loss: 0.5745 - val_accuracy: 0.7945\n",
            "Epoch 36/100\n",
            "17110/17110 [==============================] - 4s 257us/step - loss: 0.4461 - accuracy: 0.8335 - val_loss: 0.5933 - val_accuracy: 0.7913\n",
            "Epoch 37/100\n",
            "17110/17110 [==============================] - 4s 260us/step - loss: 0.4351 - accuracy: 0.8352 - val_loss: 0.5660 - val_accuracy: 0.8024\n",
            "Epoch 38/100\n",
            "17110/17110 [==============================] - 4s 256us/step - loss: 0.4173 - accuracy: 0.8469 - val_loss: 0.5727 - val_accuracy: 0.7957\n",
            "Epoch 39/100\n",
            "17110/17110 [==============================] - 4s 260us/step - loss: 0.4148 - accuracy: 0.8425 - val_loss: 0.5403 - val_accuracy: 0.8046\n",
            "Epoch 40/100\n",
            "17110/17110 [==============================] - 4s 258us/step - loss: 0.3953 - accuracy: 0.8542 - val_loss: 0.6129 - val_accuracy: 0.8004\n",
            "Epoch 41/100\n",
            "17110/17110 [==============================] - 4s 255us/step - loss: 0.3938 - accuracy: 0.8544 - val_loss: 0.5506 - val_accuracy: 0.8057\n",
            "Epoch 42/100\n",
            "17110/17110 [==============================] - 4s 260us/step - loss: 0.3858 - accuracy: 0.8600 - val_loss: 0.5772 - val_accuracy: 0.8045\n",
            "Epoch 43/100\n",
            "17110/17110 [==============================] - 4s 255us/step - loss: 0.3667 - accuracy: 0.8649 - val_loss: 0.5618 - val_accuracy: 0.8069\n",
            "Epoch 44/100\n",
            "17110/17110 [==============================] - 4s 254us/step - loss: 0.3627 - accuracy: 0.8679 - val_loss: 0.5849 - val_accuracy: 0.8124\n",
            "Epoch 45/100\n",
            "17110/17110 [==============================] - 4s 254us/step - loss: 0.3576 - accuracy: 0.8705 - val_loss: 0.5602 - val_accuracy: 0.8085\n",
            "Epoch 46/100\n",
            "17110/17110 [==============================] - 4s 257us/step - loss: 0.3434 - accuracy: 0.8771 - val_loss: 0.5637 - val_accuracy: 0.8068\n",
            "Epoch 47/100\n",
            "17110/17110 [==============================] - 4s 255us/step - loss: 0.3544 - accuracy: 0.8773 - val_loss: 0.5760 - val_accuracy: 0.8157\n",
            "Epoch 48/100\n",
            "17110/17110 [==============================] - 4s 254us/step - loss: 0.3321 - accuracy: 0.8795 - val_loss: 0.5611 - val_accuracy: 0.8108\n",
            "Epoch 49/100\n",
            "17110/17110 [==============================] - 4s 262us/step - loss: 0.3269 - accuracy: 0.8799 - val_loss: 0.5936 - val_accuracy: 0.8064\n",
            "Epoch 50/100\n",
            "17110/17110 [==============================] - 4s 262us/step - loss: 0.3253 - accuracy: 0.8828 - val_loss: 0.6047 - val_accuracy: 0.8082\n",
            "Epoch 51/100\n",
            "17110/17110 [==============================] - 5s 263us/step - loss: 0.3238 - accuracy: 0.8840 - val_loss: 0.5968 - val_accuracy: 0.8070\n",
            "Epoch 52/100\n",
            "17110/17110 [==============================] - 5s 263us/step - loss: 0.3147 - accuracy: 0.8878 - val_loss: 0.6290 - val_accuracy: 0.8082\n",
            "Epoch 53/100\n",
            "17110/17110 [==============================] - 4s 260us/step - loss: 0.3032 - accuracy: 0.8927 - val_loss: 0.5884 - val_accuracy: 0.8067\n",
            "Epoch 54/100\n",
            "17110/17110 [==============================] - 4s 258us/step - loss: 0.2917 - accuracy: 0.8926 - val_loss: 0.5875 - val_accuracy: 0.8177\n",
            "Epoch 55/100\n",
            "17110/17110 [==============================] - 4s 256us/step - loss: 0.2884 - accuracy: 0.9005 - val_loss: 0.6060 - val_accuracy: 0.8152\n",
            "Epoch 56/100\n",
            "17110/17110 [==============================] - 4s 255us/step - loss: 0.2845 - accuracy: 0.8971 - val_loss: 0.6185 - val_accuracy: 0.8178\n",
            "Epoch 57/100\n",
            "17110/17110 [==============================] - 4s 257us/step - loss: 0.2752 - accuracy: 0.9022 - val_loss: 0.6207 - val_accuracy: 0.8199\n",
            "Epoch 58/100\n",
            "17110/17110 [==============================] - 4s 257us/step - loss: 0.2675 - accuracy: 0.9035 - val_loss: 0.6158 - val_accuracy: 0.8118\n",
            "Epoch 59/100\n",
            "17110/17110 [==============================] - 4s 261us/step - loss: 0.2599 - accuracy: 0.9089 - val_loss: 0.6877 - val_accuracy: 0.8127\n",
            "Epoch 60/100\n",
            "17110/17110 [==============================] - 4s 258us/step - loss: 0.2577 - accuracy: 0.9099 - val_loss: 0.6354 - val_accuracy: 0.8149\n",
            "Epoch 61/100\n",
            "17110/17110 [==============================] - 4s 257us/step - loss: 0.2601 - accuracy: 0.9070 - val_loss: 0.6339 - val_accuracy: 0.8167\n",
            "Epoch 62/100\n",
            "17110/17110 [==============================] - 4s 257us/step - loss: 0.2541 - accuracy: 0.9117 - val_loss: 0.6262 - val_accuracy: 0.8239\n",
            "Epoch 63/100\n",
            "17110/17110 [==============================] - 5s 266us/step - loss: 0.2500 - accuracy: 0.9128 - val_loss: 0.6946 - val_accuracy: 0.8197\n",
            "Epoch 64/100\n",
            "17110/17110 [==============================] - 5s 266us/step - loss: 0.2456 - accuracy: 0.9145 - val_loss: 0.6363 - val_accuracy: 0.8166\n",
            "Epoch 65/100\n",
            "17110/17110 [==============================] - 5s 263us/step - loss: 0.2477 - accuracy: 0.9132 - val_loss: 0.6141 - val_accuracy: 0.8233\n",
            "Epoch 66/100\n",
            "17110/17110 [==============================] - 4s 258us/step - loss: 0.2342 - accuracy: 0.9181 - val_loss: 0.6323 - val_accuracy: 0.8187\n",
            "Epoch 67/100\n",
            "17110/17110 [==============================] - 4s 257us/step - loss: 0.2330 - accuracy: 0.9191 - val_loss: 0.6896 - val_accuracy: 0.8187\n",
            "Epoch 68/100\n",
            "17110/17110 [==============================] - 4s 255us/step - loss: 0.2303 - accuracy: 0.9212 - val_loss: 0.6422 - val_accuracy: 0.8236\n",
            "Epoch 69/100\n",
            "17110/17110 [==============================] - 4s 255us/step - loss: 0.2259 - accuracy: 0.9220 - val_loss: 0.6569 - val_accuracy: 0.8205\n",
            "Epoch 70/100\n",
            "17110/17110 [==============================] - 4s 258us/step - loss: 0.2181 - accuracy: 0.9248 - val_loss: 0.6709 - val_accuracy: 0.8156\n",
            "Epoch 71/100\n",
            "17110/17110 [==============================] - 4s 259us/step - loss: 0.2288 - accuracy: 0.9219 - val_loss: 0.6543 - val_accuracy: 0.8232\n",
            "Epoch 72/100\n",
            "17110/17110 [==============================] - 5s 263us/step - loss: 0.2169 - accuracy: 0.9270 - val_loss: 0.6854 - val_accuracy: 0.8118\n",
            "Epoch 73/100\n",
            "17110/17110 [==============================] - 4s 259us/step - loss: 0.2118 - accuracy: 0.9271 - val_loss: 0.6674 - val_accuracy: 0.8184\n",
            "Epoch 74/100\n",
            "17110/17110 [==============================] - 4s 262us/step - loss: 0.2219 - accuracy: 0.9258 - val_loss: 0.6530 - val_accuracy: 0.8228\n",
            "Epoch 75/100\n",
            "17110/17110 [==============================] - 4s 256us/step - loss: 0.2105 - accuracy: 0.9312 - val_loss: 0.6803 - val_accuracy: 0.8209\n",
            "Epoch 76/100\n",
            "17110/17110 [==============================] - 4s 258us/step - loss: 0.1985 - accuracy: 0.9318 - val_loss: 0.7039 - val_accuracy: 0.8229\n",
            "Epoch 77/100\n",
            "17110/17110 [==============================] - 4s 263us/step - loss: 0.1956 - accuracy: 0.9328 - val_loss: 0.6931 - val_accuracy: 0.8191\n",
            "Epoch 78/100\n",
            "17110/17110 [==============================] - 5s 267us/step - loss: 0.2061 - accuracy: 0.9309 - val_loss: 0.6694 - val_accuracy: 0.8250\n",
            "Epoch 79/100\n",
            "17110/17110 [==============================] - 4s 259us/step - loss: 0.1964 - accuracy: 0.9333 - val_loss: 0.7107 - val_accuracy: 0.8193\n",
            "Epoch 80/100\n",
            "17110/17110 [==============================] - 4s 258us/step - loss: 0.1951 - accuracy: 0.9340 - val_loss: 0.6883 - val_accuracy: 0.8184\n",
            "Epoch 81/100\n",
            "17110/17110 [==============================] - 4s 257us/step - loss: 0.1903 - accuracy: 0.9350 - val_loss: 0.6831 - val_accuracy: 0.8240\n",
            "Epoch 82/100\n",
            "17110/17110 [==============================] - 4s 259us/step - loss: 0.1936 - accuracy: 0.9352 - val_loss: 0.7081 - val_accuracy: 0.8153\n",
            "Epoch 83/100\n",
            "17110/17110 [==============================] - 4s 260us/step - loss: 0.1859 - accuracy: 0.9382 - val_loss: 0.7125 - val_accuracy: 0.8245\n",
            "Epoch 84/100\n",
            "17110/17110 [==============================] - 4s 258us/step - loss: 0.1848 - accuracy: 0.9367 - val_loss: 0.7167 - val_accuracy: 0.8251\n",
            "Epoch 85/100\n",
            "17110/17110 [==============================] - 4s 258us/step - loss: 0.1836 - accuracy: 0.9388 - val_loss: 0.7472 - val_accuracy: 0.8234\n",
            "Epoch 86/100\n",
            "17110/17110 [==============================] - 4s 260us/step - loss: 0.1786 - accuracy: 0.9417 - val_loss: 0.7473 - val_accuracy: 0.8173\n",
            "Epoch 87/100\n",
            "17110/17110 [==============================] - 4s 258us/step - loss: 0.1771 - accuracy: 0.9412 - val_loss: 0.7184 - val_accuracy: 0.8218\n",
            "Epoch 88/100\n",
            "17110/17110 [==============================] - 4s 260us/step - loss: 0.1716 - accuracy: 0.9436 - val_loss: 0.7245 - val_accuracy: 0.8234\n",
            "Epoch 89/100\n",
            "17110/17110 [==============================] - 4s 259us/step - loss: 0.1857 - accuracy: 0.9395 - val_loss: 0.7368 - val_accuracy: 0.8281\n",
            "Epoch 90/100\n",
            "17110/17110 [==============================] - 4s 259us/step - loss: 0.1674 - accuracy: 0.9461 - val_loss: 0.7219 - val_accuracy: 0.8148\n",
            "Epoch 91/100\n",
            "17110/17110 [==============================] - 4s 257us/step - loss: 0.1728 - accuracy: 0.9421 - val_loss: 0.7437 - val_accuracy: 0.8241\n",
            "Epoch 92/100\n",
            "17110/17110 [==============================] - 4s 257us/step - loss: 0.1613 - accuracy: 0.9463 - val_loss: 0.7320 - val_accuracy: 0.8254\n",
            "Epoch 93/100\n",
            "17110/17110 [==============================] - 4s 257us/step - loss: 0.1562 - accuracy: 0.9482 - val_loss: 0.7427 - val_accuracy: 0.8259\n",
            "Epoch 94/100\n",
            "17110/17110 [==============================] - 4s 255us/step - loss: 0.1686 - accuracy: 0.9456 - val_loss: 0.7512 - val_accuracy: 0.8186\n",
            "Epoch 95/100\n",
            "17110/17110 [==============================] - 4s 258us/step - loss: 0.1631 - accuracy: 0.9456 - val_loss: 0.7897 - val_accuracy: 0.8240\n",
            "Epoch 96/100\n",
            "17110/17110 [==============================] - 4s 258us/step - loss: 0.1540 - accuracy: 0.9488 - val_loss: 0.7552 - val_accuracy: 0.8300\n",
            "Epoch 97/100\n",
            "17110/17110 [==============================] - 4s 257us/step - loss: 0.1448 - accuracy: 0.9516 - val_loss: 0.7806 - val_accuracy: 0.8237\n",
            "Epoch 98/100\n",
            "17110/17110 [==============================] - 4s 259us/step - loss: 0.1595 - accuracy: 0.9469 - val_loss: 0.7515 - val_accuracy: 0.8286\n",
            "Epoch 99/100\n",
            "17110/17110 [==============================] - 4s 260us/step - loss: 0.1550 - accuracy: 0.9494 - val_loss: 0.7690 - val_accuracy: 0.8204\n",
            "Epoch 100/100\n",
            "17110/17110 [==============================] - 5s 263us/step - loss: 0.1454 - accuracy: 0.9521 - val_loss: 0.7850 - val_accuracy: 0.8187\n"
          ],
          "name": "stdout"
        },
        {
          "output_type": "execute_result",
          "data": {
            "text/plain": [
              "<keras.callbacks.callbacks.History at 0x7fa277428518>"
            ]
          },
          "metadata": {
            "tags": []
          },
          "execution_count": 28
        }
      ]
    },
    {
      "cell_type": "code",
      "metadata": {
        "id": "LSGrC7sxNWhx",
        "colab_type": "code",
        "outputId": "c3cb0abc-0c37-47fd-bad9-79bf75acdf1a",
        "colab": {
          "base_uri": "https://localhost:8080/",
          "height": 68
        }
      },
      "source": [
        "score = model.evaluate(xx_test, yy_test, verbose=1)\n",
        "print('Test loss:', score[0])\n",
        "print('Test accuracy:', score[1])"
      ],
      "execution_count": 29,
      "outputs": [
        {
          "output_type": "stream",
          "text": [
            "12833/12833 [==============================] - 1s 85us/step\n",
            "Test loss: 0.7424592813598898\n",
            "Test accuracy: 0.8222551345825195\n"
          ],
          "name": "stdout"
        }
      ]
    },
    {
      "cell_type": "code",
      "metadata": {
        "id": "GbIwG9dgjk-X",
        "colab_type": "code",
        "colab": {}
      },
      "source": [
        "if len(np.array(y_test).shape) == 1:\n",
        "  y_test = [x+1 for x in y_test]\n",
        "  y_train = [x+1 for x in y_train]"
      ],
      "execution_count": 0,
      "outputs": []
    },
    {
      "cell_type": "code",
      "metadata": {
        "id": "s9zjzu4ArF-O",
        "colab_type": "code",
        "outputId": "ab3cede4-52be-4003-8c32-b9ed7109f447",
        "colab": {
          "base_uri": "https://localhost:8080/",
          "height": 119
        }
      },
      "source": [
        "!pip install spectral"
      ],
      "execution_count": 31,
      "outputs": [
        {
          "output_type": "stream",
          "text": [
            "Collecting spectral\n",
            "\u001b[?25l  Downloading https://files.pythonhosted.org/packages/f5/ff/f6e238a941ed55079526996fee315fbee5167aaa64de3e64980637ac8f38/spectral-0.21-py3-none-any.whl (187kB)\n",
            "\r\u001b[K     |█▊                              | 10kB 18.0MB/s eta 0:00:01\r\u001b[K     |███▌                            | 20kB 1.6MB/s eta 0:00:01\r\u001b[K     |█████▎                          | 30kB 2.1MB/s eta 0:00:01\r\u001b[K     |███████                         | 40kB 2.4MB/s eta 0:00:01\r\u001b[K     |████████▊                       | 51kB 1.9MB/s eta 0:00:01\r\u001b[K     |██████████▌                     | 61kB 2.1MB/s eta 0:00:01\r\u001b[K     |████████████▎                   | 71kB 2.4MB/s eta 0:00:01\r\u001b[K     |██████████████                  | 81kB 2.6MB/s eta 0:00:01\r\u001b[K     |███████████████▊                | 92kB 2.8MB/s eta 0:00:01\r\u001b[K     |█████████████████▌              | 102kB 2.6MB/s eta 0:00:01\r\u001b[K     |███████████████████▎            | 112kB 2.6MB/s eta 0:00:01\r\u001b[K     |█████████████████████           | 122kB 2.6MB/s eta 0:00:01\r\u001b[K     |██████████████████████▊         | 133kB 2.6MB/s eta 0:00:01\r\u001b[K     |████████████████████████▌       | 143kB 2.6MB/s eta 0:00:01\r\u001b[K     |██████████████████████████▎     | 153kB 2.6MB/s eta 0:00:01\r\u001b[K     |████████████████████████████    | 163kB 2.6MB/s eta 0:00:01\r\u001b[K     |█████████████████████████████▊  | 174kB 2.6MB/s eta 0:00:01\r\u001b[K     |███████████████████████████████▌| 184kB 2.6MB/s eta 0:00:01\r\u001b[K     |████████████████████████████████| 194kB 2.6MB/s \n",
            "\u001b[?25hRequirement already satisfied: numpy in /usr/local/lib/python3.6/dist-packages (from spectral) (1.18.5)\n",
            "Installing collected packages: spectral\n",
            "Successfully installed spectral-0.21\n"
          ],
          "name": "stdout"
        }
      ]
    },
    {
      "cell_type": "code",
      "metadata": {
        "id": "Zf5wCQc3q7ye",
        "colab_type": "code",
        "colab": {}
      },
      "source": [
        "import spectral as sp\n",
        "prediction = model.predict(X)\n",
        "\n",
        "if not len(prediction.shape) == 2:\n",
        "    y_test = [x + 1 for x in y_test]\n",
        "    y_train = [x + 1 for x in y_train]\n",
        "\n",
        "if len(prediction.shape) == 2:\n",
        "    predicted_gt_1 = np.argmax(prediction, axis=1)\n",
        "    predicted_gt_1_list = list(predicted_gt_1)\n",
        "    predicted_gt_1_list = [x + 1 for x in predicted_gt_1_list]\n",
        "else:\n",
        "    predicted_gt_1_list = prediction\n",
        "\n",
        "for i in zero_data:\n",
        "    predicted_gt_1_list.insert(i, 0)\n",
        "\n",
        "predicted_gt_1_list = np.array(predicted_gt_1_list).reshape(image.shape[0], image.shape[1])\n",
        "sp.save_rgb('predicted_gt.jpg', predicted_gt_1_list, colors=sp.spy_colors)\n"
      ],
      "execution_count": 0,
      "outputs": []
    }
  ]
}