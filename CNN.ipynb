{
  "nbformat": 4,
  "nbformat_minor": 0,
  "metadata": {
    "colab": {
      "name": "CNN",
      "provenance": [],
      "authorship_tag": "ABX9TyMFPrwXAcZh2oLujW330CpA",
      "include_colab_link": true
    },
    "kernelspec": {
      "name": "python3",
      "display_name": "Python 3"
    }
  },
  "cells": [
    {
      "cell_type": "markdown",
      "metadata": {
        "id": "view-in-github",
        "colab_type": "text"
      },
      "source": [
        "<a href=\"https://colab.research.google.com/github/Srajan1122/Hyperspectral_Image_Classification/blob/srajan/CNN.ipynb\" target=\"_parent\"><img src=\"https://colab.research.google.com/assets/colab-badge.svg\" alt=\"Open In Colab\"/></a>"
      ]
    },
    {
      "cell_type": "code",
      "metadata": {
        "id": "pO-nUq2-KL7a",
        "colab_type": "code",
        "outputId": "a391ec0b-fdd4-40da-b4d8-dad793cd02ba",
        "colab": {
          "base_uri": "https://localhost:8080/",
          "height": 34
        }
      },
      "source": [
        "from google.colab import drive\n",
        "drive.mount('/content/drive')"
      ],
      "execution_count": 1,
      "outputs": [
        {
          "output_type": "stream",
          "text": [
            "Drive already mounted at /content/drive; to attempt to forcibly remount, call drive.mount(\"/content/drive\", force_remount=True).\n"
          ],
          "name": "stdout"
        }
      ]
    },
    {
      "cell_type": "markdown",
      "metadata": {
        "id": "aXpp9_cwKqz1",
        "colab_type": "text"
      },
      "source": [
        "# Importing Libraries"
      ]
    },
    {
      "cell_type": "code",
      "metadata": {
        "id": "qVxnzfWvKN-K",
        "colab_type": "code",
        "outputId": "3dac3f84-d8a7-45e3-d17d-3db5f70a2541",
        "colab": {
          "base_uri": "https://localhost:8080/",
          "height": 34
        }
      },
      "source": [
        "import pandas as pd\n",
        "import numpy as np\n",
        "from scipy import io\n",
        "from sklearn.model_selection import train_test_split\n",
        "from sklearn.preprocessing import OneHotEncoder \n",
        "from sklearn import preprocessing\n",
        "import keras"
      ],
      "execution_count": 2,
      "outputs": [
        {
          "output_type": "stream",
          "text": [
            "Using TensorFlow backend.\n"
          ],
          "name": "stderr"
        }
      ]
    },
    {
      "cell_type": "markdown",
      "metadata": {
        "id": "UqasbIqPK0KM",
        "colab_type": "text"
      },
      "source": [
        "# Importing Dataset"
      ]
    },
    {
      "cell_type": "code",
      "metadata": {
        "id": "erOp3hTTKuzQ",
        "colab_type": "code",
        "colab": {}
      },
      "source": [
        "loaded_dataset = io.loadmat('/content/drive/My Drive/Srajan/Internship/SEM4-LeadingindiaAI/Tasks/Datasets/PaviaC/Pavia.mat')\n",
        "for key, value in loaded_dataset.items():\n",
        "  if isinstance(value, type(np.array([1]))):\n",
        "    image = loaded_dataset[key]"
      ],
      "execution_count": 0,
      "outputs": []
    },
    {
      "cell_type": "code",
      "metadata": {
        "id": "HjbphR_nK5O8",
        "colab_type": "code",
        "colab": {}
      },
      "source": [
        "ground_truth_1 = io.loadmat('/content/drive/My Drive/Srajan/Internship/SEM4-LeadingindiaAI/Tasks/Datasets/PaviaC/Pavia_gt.mat')\n",
        "for key, value in ground_truth_1.items():\n",
        "  if isinstance(value, type(np.array([1]))):\n",
        "    ground_truth = ground_truth_1[key]"
      ],
      "execution_count": 0,
      "outputs": []
    },
    {
      "cell_type": "markdown",
      "metadata": {
        "id": "_9l4ZElPK8xW",
        "colab_type": "text"
      },
      "source": [
        "## Class Labels"
      ]
    },
    {
      "cell_type": "code",
      "metadata": {
        "id": "JumPKdTvK_EY",
        "colab_type": "code",
        "colab": {}
      },
      "source": [
        "label_values = [\"Alfalfa\", \"Corn-notill\", \"Corn-mintill\",\n",
        "                        \"Corn\", \"Grass-pasture\", \"Grass-trees\",\n",
        "                        \"Grass-pasture-mowed\", \"Hay-windrowed\", \"Oats\",\n",
        "                        \"Soybean-notill\", \"Soybean-mintill\", \"Soybean-clean\",\n",
        "                        \"Wheat\", \"Woods\", \"Buildings-Grass-Trees-Drives\",\n",
        "                        \"Stone-Steel-Towers\"]"
      ],
      "execution_count": 0,
      "outputs": []
    },
    {
      "cell_type": "markdown",
      "metadata": {
        "id": "QYIFKIPmLCFV",
        "colab_type": "text"
      },
      "source": [
        "## Resizing the data"
      ]
    },
    {
      "cell_type": "code",
      "metadata": {
        "id": "UnRRsjn8K_zG",
        "colab_type": "code",
        "colab": {}
      },
      "source": [
        "image_with_gt = np.dstack((image, ground_truth))"
      ],
      "execution_count": 0,
      "outputs": []
    },
    {
      "cell_type": "code",
      "metadata": {
        "id": "P2hhElWJLF9V",
        "colab_type": "code",
        "colab": {}
      },
      "source": [
        "final_output = image_with_gt.reshape(ground_truth.size, image.shape[2]+1)"
      ],
      "execution_count": 0,
      "outputs": []
    },
    {
      "cell_type": "markdown",
      "metadata": {
        "id": "ZKGD0bRxLJff",
        "colab_type": "text"
      },
      "source": [
        "## Data Visualization in pandas"
      ]
    },
    {
      "cell_type": "code",
      "metadata": {
        "id": "4AWkTHdDLOwf",
        "colab_type": "code",
        "colab": {}
      },
      "source": [
        "data = pd.DataFrame(final_output)"
      ],
      "execution_count": 0,
      "outputs": []
    },
    {
      "cell_type": "code",
      "metadata": {
        "id": "9ctUP_zKLUpJ",
        "colab_type": "code",
        "outputId": "c26f26e7-f445-4c67-c943-26b0dfb54a72",
        "colab": {
          "base_uri": "https://localhost:8080/",
          "height": 253
        }
      },
      "source": [
        "data.head()"
      ],
      "execution_count": 9,
      "outputs": [
        {
          "output_type": "execute_result",
          "data": {
            "text/html": [
              "<div>\n",
              "<style scoped>\n",
              "    .dataframe tbody tr th:only-of-type {\n",
              "        vertical-align: middle;\n",
              "    }\n",
              "\n",
              "    .dataframe tbody tr th {\n",
              "        vertical-align: top;\n",
              "    }\n",
              "\n",
              "    .dataframe thead th {\n",
              "        text-align: right;\n",
              "    }\n",
              "</style>\n",
              "<table border=\"1\" class=\"dataframe\">\n",
              "  <thead>\n",
              "    <tr style=\"text-align: right;\">\n",
              "      <th></th>\n",
              "      <th>0</th>\n",
              "      <th>1</th>\n",
              "      <th>2</th>\n",
              "      <th>3</th>\n",
              "      <th>4</th>\n",
              "      <th>5</th>\n",
              "      <th>6</th>\n",
              "      <th>7</th>\n",
              "      <th>8</th>\n",
              "      <th>9</th>\n",
              "      <th>10</th>\n",
              "      <th>11</th>\n",
              "      <th>12</th>\n",
              "      <th>13</th>\n",
              "      <th>14</th>\n",
              "      <th>15</th>\n",
              "      <th>16</th>\n",
              "      <th>17</th>\n",
              "      <th>18</th>\n",
              "      <th>19</th>\n",
              "      <th>20</th>\n",
              "      <th>21</th>\n",
              "      <th>22</th>\n",
              "      <th>23</th>\n",
              "      <th>24</th>\n",
              "      <th>25</th>\n",
              "      <th>26</th>\n",
              "      <th>27</th>\n",
              "      <th>28</th>\n",
              "      <th>29</th>\n",
              "      <th>30</th>\n",
              "      <th>31</th>\n",
              "      <th>32</th>\n",
              "      <th>33</th>\n",
              "      <th>34</th>\n",
              "      <th>35</th>\n",
              "      <th>36</th>\n",
              "      <th>37</th>\n",
              "      <th>38</th>\n",
              "      <th>39</th>\n",
              "      <th>...</th>\n",
              "      <th>63</th>\n",
              "      <th>64</th>\n",
              "      <th>65</th>\n",
              "      <th>66</th>\n",
              "      <th>67</th>\n",
              "      <th>68</th>\n",
              "      <th>69</th>\n",
              "      <th>70</th>\n",
              "      <th>71</th>\n",
              "      <th>72</th>\n",
              "      <th>73</th>\n",
              "      <th>74</th>\n",
              "      <th>75</th>\n",
              "      <th>76</th>\n",
              "      <th>77</th>\n",
              "      <th>78</th>\n",
              "      <th>79</th>\n",
              "      <th>80</th>\n",
              "      <th>81</th>\n",
              "      <th>82</th>\n",
              "      <th>83</th>\n",
              "      <th>84</th>\n",
              "      <th>85</th>\n",
              "      <th>86</th>\n",
              "      <th>87</th>\n",
              "      <th>88</th>\n",
              "      <th>89</th>\n",
              "      <th>90</th>\n",
              "      <th>91</th>\n",
              "      <th>92</th>\n",
              "      <th>93</th>\n",
              "      <th>94</th>\n",
              "      <th>95</th>\n",
              "      <th>96</th>\n",
              "      <th>97</th>\n",
              "      <th>98</th>\n",
              "      <th>99</th>\n",
              "      <th>100</th>\n",
              "      <th>101</th>\n",
              "      <th>102</th>\n",
              "    </tr>\n",
              "  </thead>\n",
              "  <tbody>\n",
              "    <tr>\n",
              "      <th>0</th>\n",
              "      <td>854</td>\n",
              "      <td>601</td>\n",
              "      <td>350</td>\n",
              "      <td>266</td>\n",
              "      <td>138</td>\n",
              "      <td>118</td>\n",
              "      <td>178</td>\n",
              "      <td>194</td>\n",
              "      <td>257</td>\n",
              "      <td>269</td>\n",
              "      <td>239</td>\n",
              "      <td>243</td>\n",
              "      <td>220</td>\n",
              "      <td>191</td>\n",
              "      <td>173</td>\n",
              "      <td>150</td>\n",
              "      <td>125</td>\n",
              "      <td>131</td>\n",
              "      <td>137</td>\n",
              "      <td>172</td>\n",
              "      <td>195</td>\n",
              "      <td>218</td>\n",
              "      <td>255</td>\n",
              "      <td>291</td>\n",
              "      <td>320</td>\n",
              "      <td>346</td>\n",
              "      <td>347</td>\n",
              "      <td>368</td>\n",
              "      <td>404</td>\n",
              "      <td>428</td>\n",
              "      <td>429</td>\n",
              "      <td>416</td>\n",
              "      <td>394</td>\n",
              "      <td>368</td>\n",
              "      <td>357</td>\n",
              "      <td>361</td>\n",
              "      <td>369</td>\n",
              "      <td>368</td>\n",
              "      <td>351</td>\n",
              "      <td>328</td>\n",
              "      <td>...</td>\n",
              "      <td>219</td>\n",
              "      <td>239</td>\n",
              "      <td>289</td>\n",
              "      <td>366</td>\n",
              "      <td>482</td>\n",
              "      <td>632</td>\n",
              "      <td>814</td>\n",
              "      <td>1005</td>\n",
              "      <td>1225</td>\n",
              "      <td>1464</td>\n",
              "      <td>1732</td>\n",
              "      <td>2044</td>\n",
              "      <td>2383</td>\n",
              "      <td>2716</td>\n",
              "      <td>2985</td>\n",
              "      <td>3203</td>\n",
              "      <td>3385</td>\n",
              "      <td>3538</td>\n",
              "      <td>3667</td>\n",
              "      <td>3696</td>\n",
              "      <td>3548</td>\n",
              "      <td>3608</td>\n",
              "      <td>3744</td>\n",
              "      <td>3792</td>\n",
              "      <td>3802</td>\n",
              "      <td>3815</td>\n",
              "      <td>3836</td>\n",
              "      <td>3827</td>\n",
              "      <td>3765</td>\n",
              "      <td>3752</td>\n",
              "      <td>3759</td>\n",
              "      <td>3773</td>\n",
              "      <td>3779</td>\n",
              "      <td>3752</td>\n",
              "      <td>3690</td>\n",
              "      <td>3671</td>\n",
              "      <td>3664</td>\n",
              "      <td>3636</td>\n",
              "      <td>3643</td>\n",
              "      <td>0</td>\n",
              "    </tr>\n",
              "    <tr>\n",
              "      <th>1</th>\n",
              "      <td>527</td>\n",
              "      <td>642</td>\n",
              "      <td>575</td>\n",
              "      <td>294</td>\n",
              "      <td>123</td>\n",
              "      <td>168</td>\n",
              "      <td>207</td>\n",
              "      <td>154</td>\n",
              "      <td>209</td>\n",
              "      <td>299</td>\n",
              "      <td>299</td>\n",
              "      <td>278</td>\n",
              "      <td>235</td>\n",
              "      <td>181</td>\n",
              "      <td>181</td>\n",
              "      <td>236</td>\n",
              "      <td>256</td>\n",
              "      <td>253</td>\n",
              "      <td>225</td>\n",
              "      <td>202</td>\n",
              "      <td>221</td>\n",
              "      <td>256</td>\n",
              "      <td>321</td>\n",
              "      <td>358</td>\n",
              "      <td>385</td>\n",
              "      <td>429</td>\n",
              "      <td>492</td>\n",
              "      <td>533</td>\n",
              "      <td>554</td>\n",
              "      <td>553</td>\n",
              "      <td>557</td>\n",
              "      <td>580</td>\n",
              "      <td>561</td>\n",
              "      <td>522</td>\n",
              "      <td>525</td>\n",
              "      <td>513</td>\n",
              "      <td>474</td>\n",
              "      <td>435</td>\n",
              "      <td>412</td>\n",
              "      <td>401</td>\n",
              "      <td>...</td>\n",
              "      <td>254</td>\n",
              "      <td>305</td>\n",
              "      <td>349</td>\n",
              "      <td>401</td>\n",
              "      <td>508</td>\n",
              "      <td>681</td>\n",
              "      <td>888</td>\n",
              "      <td>1076</td>\n",
              "      <td>1297</td>\n",
              "      <td>1577</td>\n",
              "      <td>1855</td>\n",
              "      <td>2117</td>\n",
              "      <td>2456</td>\n",
              "      <td>2772</td>\n",
              "      <td>3002</td>\n",
              "      <td>3205</td>\n",
              "      <td>3388</td>\n",
              "      <td>3526</td>\n",
              "      <td>3629</td>\n",
              "      <td>3665</td>\n",
              "      <td>3586</td>\n",
              "      <td>3653</td>\n",
              "      <td>3747</td>\n",
              "      <td>3813</td>\n",
              "      <td>3831</td>\n",
              "      <td>3829</td>\n",
              "      <td>3841</td>\n",
              "      <td>3885</td>\n",
              "      <td>3916</td>\n",
              "      <td>3907</td>\n",
              "      <td>3873</td>\n",
              "      <td>3902</td>\n",
              "      <td>3921</td>\n",
              "      <td>3861</td>\n",
              "      <td>3854</td>\n",
              "      <td>3882</td>\n",
              "      <td>3834</td>\n",
              "      <td>3725</td>\n",
              "      <td>3768</td>\n",
              "      <td>0</td>\n",
              "    </tr>\n",
              "    <tr>\n",
              "      <th>2</th>\n",
              "      <td>374</td>\n",
              "      <td>322</td>\n",
              "      <td>179</td>\n",
              "      <td>87</td>\n",
              "      <td>169</td>\n",
              "      <td>268</td>\n",
              "      <td>360</td>\n",
              "      <td>339</td>\n",
              "      <td>286</td>\n",
              "      <td>309</td>\n",
              "      <td>340</td>\n",
              "      <td>305</td>\n",
              "      <td>206</td>\n",
              "      <td>202</td>\n",
              "      <td>269</td>\n",
              "      <td>256</td>\n",
              "      <td>246</td>\n",
              "      <td>226</td>\n",
              "      <td>218</td>\n",
              "      <td>275</td>\n",
              "      <td>318</td>\n",
              "      <td>356</td>\n",
              "      <td>395</td>\n",
              "      <td>425</td>\n",
              "      <td>461</td>\n",
              "      <td>520</td>\n",
              "      <td>587</td>\n",
              "      <td>623</td>\n",
              "      <td>621</td>\n",
              "      <td>617</td>\n",
              "      <td>636</td>\n",
              "      <td>657</td>\n",
              "      <td>665</td>\n",
              "      <td>670</td>\n",
              "      <td>645</td>\n",
              "      <td>610</td>\n",
              "      <td>576</td>\n",
              "      <td>547</td>\n",
              "      <td>532</td>\n",
              "      <td>523</td>\n",
              "      <td>...</td>\n",
              "      <td>369</td>\n",
              "      <td>418</td>\n",
              "      <td>484</td>\n",
              "      <td>590</td>\n",
              "      <td>754</td>\n",
              "      <td>969</td>\n",
              "      <td>1201</td>\n",
              "      <td>1460</td>\n",
              "      <td>1716</td>\n",
              "      <td>2002</td>\n",
              "      <td>2319</td>\n",
              "      <td>2690</td>\n",
              "      <td>3055</td>\n",
              "      <td>3368</td>\n",
              "      <td>3666</td>\n",
              "      <td>3901</td>\n",
              "      <td>4082</td>\n",
              "      <td>4258</td>\n",
              "      <td>4372</td>\n",
              "      <td>4392</td>\n",
              "      <td>4231</td>\n",
              "      <td>4256</td>\n",
              "      <td>4419</td>\n",
              "      <td>4495</td>\n",
              "      <td>4501</td>\n",
              "      <td>4472</td>\n",
              "      <td>4486</td>\n",
              "      <td>4499</td>\n",
              "      <td>4453</td>\n",
              "      <td>4404</td>\n",
              "      <td>4443</td>\n",
              "      <td>4472</td>\n",
              "      <td>4428</td>\n",
              "      <td>4353</td>\n",
              "      <td>4306</td>\n",
              "      <td>4284</td>\n",
              "      <td>4318</td>\n",
              "      <td>4311</td>\n",
              "      <td>4321</td>\n",
              "      <td>0</td>\n",
              "    </tr>\n",
              "    <tr>\n",
              "      <th>3</th>\n",
              "      <td>706</td>\n",
              "      <td>520</td>\n",
              "      <td>560</td>\n",
              "      <td>572</td>\n",
              "      <td>425</td>\n",
              "      <td>243</td>\n",
              "      <td>271</td>\n",
              "      <td>272</td>\n",
              "      <td>258</td>\n",
              "      <td>276</td>\n",
              "      <td>299</td>\n",
              "      <td>313</td>\n",
              "      <td>320</td>\n",
              "      <td>336</td>\n",
              "      <td>299</td>\n",
              "      <td>274</td>\n",
              "      <td>322</td>\n",
              "      <td>361</td>\n",
              "      <td>358</td>\n",
              "      <td>377</td>\n",
              "      <td>387</td>\n",
              "      <td>396</td>\n",
              "      <td>415</td>\n",
              "      <td>486</td>\n",
              "      <td>564</td>\n",
              "      <td>624</td>\n",
              "      <td>668</td>\n",
              "      <td>680</td>\n",
              "      <td>696</td>\n",
              "      <td>728</td>\n",
              "      <td>753</td>\n",
              "      <td>721</td>\n",
              "      <td>700</td>\n",
              "      <td>713</td>\n",
              "      <td>690</td>\n",
              "      <td>642</td>\n",
              "      <td>592</td>\n",
              "      <td>560</td>\n",
              "      <td>542</td>\n",
              "      <td>547</td>\n",
              "      <td>...</td>\n",
              "      <td>384</td>\n",
              "      <td>418</td>\n",
              "      <td>481</td>\n",
              "      <td>568</td>\n",
              "      <td>693</td>\n",
              "      <td>865</td>\n",
              "      <td>1057</td>\n",
              "      <td>1259</td>\n",
              "      <td>1478</td>\n",
              "      <td>1714</td>\n",
              "      <td>1971</td>\n",
              "      <td>2261</td>\n",
              "      <td>2548</td>\n",
              "      <td>2818</td>\n",
              "      <td>3135</td>\n",
              "      <td>3377</td>\n",
              "      <td>3564</td>\n",
              "      <td>3731</td>\n",
              "      <td>3820</td>\n",
              "      <td>3814</td>\n",
              "      <td>3710</td>\n",
              "      <td>3770</td>\n",
              "      <td>3904</td>\n",
              "      <td>3976</td>\n",
              "      <td>3967</td>\n",
              "      <td>3973</td>\n",
              "      <td>4032</td>\n",
              "      <td>4078</td>\n",
              "      <td>4040</td>\n",
              "      <td>3992</td>\n",
              "      <td>3972</td>\n",
              "      <td>4006</td>\n",
              "      <td>4032</td>\n",
              "      <td>3975</td>\n",
              "      <td>3946</td>\n",
              "      <td>3954</td>\n",
              "      <td>3944</td>\n",
              "      <td>3936</td>\n",
              "      <td>3939</td>\n",
              "      <td>0</td>\n",
              "    </tr>\n",
              "    <tr>\n",
              "      <th>4</th>\n",
              "      <td>1120</td>\n",
              "      <td>1027</td>\n",
              "      <td>592</td>\n",
              "      <td>414</td>\n",
              "      <td>407</td>\n",
              "      <td>463</td>\n",
              "      <td>417</td>\n",
              "      <td>365</td>\n",
              "      <td>332</td>\n",
              "      <td>334</td>\n",
              "      <td>356</td>\n",
              "      <td>327</td>\n",
              "      <td>296</td>\n",
              "      <td>325</td>\n",
              "      <td>346</td>\n",
              "      <td>308</td>\n",
              "      <td>262</td>\n",
              "      <td>262</td>\n",
              "      <td>292</td>\n",
              "      <td>312</td>\n",
              "      <td>335</td>\n",
              "      <td>394</td>\n",
              "      <td>430</td>\n",
              "      <td>450</td>\n",
              "      <td>491</td>\n",
              "      <td>570</td>\n",
              "      <td>611</td>\n",
              "      <td>616</td>\n",
              "      <td>631</td>\n",
              "      <td>659</td>\n",
              "      <td>686</td>\n",
              "      <td>705</td>\n",
              "      <td>691</td>\n",
              "      <td>667</td>\n",
              "      <td>624</td>\n",
              "      <td>584</td>\n",
              "      <td>570</td>\n",
              "      <td>549</td>\n",
              "      <td>530</td>\n",
              "      <td>517</td>\n",
              "      <td>...</td>\n",
              "      <td>349</td>\n",
              "      <td>365</td>\n",
              "      <td>398</td>\n",
              "      <td>505</td>\n",
              "      <td>677</td>\n",
              "      <td>877</td>\n",
              "      <td>1116</td>\n",
              "      <td>1410</td>\n",
              "      <td>1717</td>\n",
              "      <td>2015</td>\n",
              "      <td>2339</td>\n",
              "      <td>2670</td>\n",
              "      <td>3028</td>\n",
              "      <td>3415</td>\n",
              "      <td>3713</td>\n",
              "      <td>3928</td>\n",
              "      <td>4131</td>\n",
              "      <td>4296</td>\n",
              "      <td>4445</td>\n",
              "      <td>4508</td>\n",
              "      <td>4305</td>\n",
              "      <td>4232</td>\n",
              "      <td>4422</td>\n",
              "      <td>4554</td>\n",
              "      <td>4550</td>\n",
              "      <td>4524</td>\n",
              "      <td>4532</td>\n",
              "      <td>4578</td>\n",
              "      <td>4584</td>\n",
              "      <td>4555</td>\n",
              "      <td>4502</td>\n",
              "      <td>4485</td>\n",
              "      <td>4479</td>\n",
              "      <td>4445</td>\n",
              "      <td>4364</td>\n",
              "      <td>4290</td>\n",
              "      <td>4268</td>\n",
              "      <td>4235</td>\n",
              "      <td>4272</td>\n",
              "      <td>0</td>\n",
              "    </tr>\n",
              "  </tbody>\n",
              "</table>\n",
              "<p>5 rows × 103 columns</p>\n",
              "</div>"
            ],
            "text/plain": [
              "    0     1    2    3    4    5    6    ...   96    97    98    99    100   101  102\n",
              "0   854   601  350  266  138  118  178  ...  3752  3690  3671  3664  3636  3643    0\n",
              "1   527   642  575  294  123  168  207  ...  3861  3854  3882  3834  3725  3768    0\n",
              "2   374   322  179   87  169  268  360  ...  4353  4306  4284  4318  4311  4321    0\n",
              "3   706   520  560  572  425  243  271  ...  3975  3946  3954  3944  3936  3939    0\n",
              "4  1120  1027  592  414  407  463  417  ...  4445  4364  4290  4268  4235  4272    0\n",
              "\n",
              "[5 rows x 103 columns]"
            ]
          },
          "metadata": {
            "tags": []
          },
          "execution_count": 9
        }
      ]
    },
    {
      "cell_type": "markdown",
      "metadata": {
        "id": "OLWjsfqaLZs0",
        "colab_type": "text"
      },
      "source": [
        "## Droping the rows if ground truth value is zero"
      ]
    },
    {
      "cell_type": "code",
      "metadata": {
        "id": "OlyctDjwLYkb",
        "colab_type": "code",
        "outputId": "86b3ead5-360f-44e8-edbe-7f89ba421927",
        "colab": {
          "base_uri": "https://localhost:8080/",
          "height": 34
        }
      },
      "source": [
        "print(\"Percentage of column which will be droped\",(data.size - data[data.iloc[:, -1] == 0].size)/data.size,\"%\")"
      ],
      "execution_count": 10,
      "outputs": [
        {
          "output_type": "stream",
          "text": [
            "Percentage of column which will be droped 0.1890561992751774 %\n"
          ],
          "name": "stdout"
        }
      ]
    },
    {
      "cell_type": "code",
      "metadata": {
        "id": "_tJ0vUTCLhZx",
        "colab_type": "code",
        "colab": {}
      },
      "source": [
        "zero_data = data.index[data.iloc[:, -1] == 0].tolist()\n",
        "data = data[data.iloc[:, -1] != 0]"
      ],
      "execution_count": 0,
      "outputs": []
    },
    {
      "cell_type": "markdown",
      "metadata": {
        "id": "kE5Gc8BTLiAN",
        "colab_type": "text"
      },
      "source": [
        "# Spliting the data into feature and target"
      ]
    },
    {
      "cell_type": "code",
      "metadata": {
        "id": "FJ4dCIbILrwg",
        "colab_type": "code",
        "colab": {}
      },
      "source": [
        "X = data.iloc[:, :-1]\n",
        "y = data.iloc[:,-1]"
      ],
      "execution_count": 0,
      "outputs": []
    },
    {
      "cell_type": "code",
      "metadata": {
        "id": "fBvQ4xnt6tQD",
        "colab_type": "code",
        "colab": {}
      },
      "source": [
        "number_of_classes = len(np.unique(y))"
      ],
      "execution_count": 0,
      "outputs": []
    },
    {
      "cell_type": "markdown",
      "metadata": {
        "id": "CHPv8SimL1Iu",
        "colab_type": "text"
      },
      "source": [
        "# Feature Selection"
      ]
    },
    {
      "cell_type": "code",
      "metadata": {
        "id": "6aMaE8k8L0VV",
        "colab_type": "code",
        "colab": {}
      },
      "source": [
        "from sklearn.feature_selection import SelectKBest\n",
        "from sklearn.feature_selection import chi2, f_classif, mutual_info_classif\n",
        "\n",
        "X = SelectKBest(f_classif, k=int((image.shape[2]+1)*0.75)).fit_transform(X, y)"
      ],
      "execution_count": 0,
      "outputs": []
    },
    {
      "cell_type": "markdown",
      "metadata": {
        "id": "nCO0t_-J0G6J",
        "colab_type": "text"
      },
      "source": [
        "# Feature Extraction \n"
      ]
    },
    {
      "cell_type": "code",
      "metadata": {
        "id": "NIjIpV160KKZ",
        "colab_type": "code",
        "colab": {}
      },
      "source": [
        "# from sklearn.decomposition import PCA \n",
        "\n",
        "# pca = PCA(n_components = int((image.shape[2]+1)*0.75))\n",
        "# X = pca.fit_transform(X)"
      ],
      "execution_count": 0,
      "outputs": []
    },
    {
      "cell_type": "markdown",
      "metadata": {
        "id": "fijfR_5DL9IK",
        "colab_type": "text"
      },
      "source": [
        "# OneHotEncoding in target column"
      ]
    },
    {
      "cell_type": "code",
      "metadata": {
        "id": "_QoUCdAwMBAD",
        "colab_type": "code",
        "colab": {}
      },
      "source": [
        "onehotencoder = OneHotEncoder() \n",
        "y = onehotencoder.fit_transform(np.array(y).reshape(-1,1)).toarray() "
      ],
      "execution_count": 0,
      "outputs": []
    },
    {
      "cell_type": "markdown",
      "metadata": {
        "id": "IlNWTtSVMEjl",
        "colab_type": "text"
      },
      "source": [
        "# Standardizing the feature columna"
      ]
    },
    {
      "cell_type": "code",
      "metadata": {
        "id": "PPshPrqEMJvm",
        "colab_type": "code",
        "colab": {}
      },
      "source": [
        "X = preprocessing.scale(X)"
      ],
      "execution_count": 0,
      "outputs": []
    },
    {
      "cell_type": "markdown",
      "metadata": {
        "id": "DRtV7aDDqr5a",
        "colab_type": "text"
      },
      "source": [
        "# Spliting the data into training and testing set "
      ]
    },
    {
      "cell_type": "code",
      "metadata": {
        "id": "DattLTVzqr5b",
        "colab_type": "code",
        "colab": {}
      },
      "source": [
        "X_train, X_test, y_train, y_test = train_test_split(X, y, test_size=0.60, random_state=1)#0.25 0.15"
      ],
      "execution_count": 0,
      "outputs": []
    },
    {
      "cell_type": "code",
      "metadata": {
        "id": "2OngDFGdDdPx",
        "colab_type": "code",
        "colab": {}
      },
      "source": [
        "number = int(X_test.shape[0]/2)\n",
        "\n",
        "xx_test = X_test[:number, :]\n",
        "xx_val = X_test[number:, :]\n",
        "\n",
        "if len(y_test.shape) > 1:\n",
        "  loss = keras.losses.categorical_crossentropy\n",
        "  metrics=['accuracy']\n",
        "  yy_test = y_test[:number, :]\n",
        "  yy_val = y_test[number:, :]\n",
        "else:\n",
        "  loss = keras.losses.sparse_categorical_crossentropy\n",
        "  metrics=['sparse_categorical_accuracy']\n",
        "  y_test = [x - 1 for x in y_test]\n",
        "  y_train = [x - 1 for x in y_train]\n",
        "  yy_test = y_test[:number]\n",
        "  yy_val = y_test[number:]"
      ],
      "execution_count": 0,
      "outputs": []
    },
    {
      "cell_type": "code",
      "metadata": {
        "id": "9M33_KnJNu7n",
        "colab_type": "code",
        "colab": {}
      },
      "source": [
        "from keras import backend as K\n",
        "feature = X.shape[1]\n",
        "\n",
        "if K.image_data_format() == 'channels_first':\n",
        "    X = X.reshape(X.shape[0], 1, feature)\n",
        "    X_train = X_train.reshape(X_train.shape[0], 1, feature)\n",
        "    xx_test = xx_test.reshape(xx_test.shape[0], 1, feature)\n",
        "    xx_val = xx_val.reshape(xx_val.shape[0], 1, feature)\n",
        "    input_shape = (1, feature)\n",
        "else:\n",
        "    X = X.reshape(X.shape[0], feature, 1)\n",
        "    X_train = X_train.reshape(X_train.shape[0], feature, 1)\n",
        "    xx_test = xx_test.reshape(xx_test.shape[0], feature, 1)\n",
        "    xx_val = xx_val.reshape(xx_val.shape[0], feature, 1)\n",
        "    input_shape = (feature, 1)"
      ],
      "execution_count": 0,
      "outputs": []
    },
    {
      "cell_type": "markdown",
      "metadata": {
        "id": "MQLkUnZ_YsYO",
        "colab_type": "text"
      },
      "source": [
        "# Genetic Algorithm"
      ]
    },
    {
      "cell_type": "code",
      "metadata": {
        "id": "1-9MDtAugFbk",
        "colab_type": "code",
        "outputId": "ef6938de-b786-43d7-9900-3655a542cc5e",
        "colab": {
          "base_uri": "https://localhost:8080/",
          "height": 51
        }
      },
      "source": [
        "!pip install pyeasyga"
      ],
      "execution_count": 21,
      "outputs": [
        {
          "output_type": "stream",
          "text": [
            "Requirement already satisfied: pyeasyga in /usr/local/lib/python3.6/dist-packages (0.3.1)\n",
            "Requirement already satisfied: six in /usr/local/lib/python3.6/dist-packages (from pyeasyga) (1.12.0)\n"
          ],
          "name": "stdout"
        }
      ]
    },
    {
      "cell_type": "code",
      "metadata": {
        "id": "QlapBK49M2QU",
        "colab_type": "code",
        "colab": {}
      },
      "source": [
        "from keras.models import Sequential\n",
        "from keras.layers import Dense, Dropout, Flatten, Conv1D, MaxPooling1D, BatchNormalization"
      ],
      "execution_count": 0,
      "outputs": []
    },
    {
      "cell_type": "code",
      "metadata": {
        "id": "3bAr5dYIYrxF",
        "colab_type": "code",
        "colab": {}
      },
      "source": [
        "# from pyeasyga import pyeasyga\n",
        "# import random\n",
        "# import numpy as np\n",
        "# from sklearn.metrics import accuracy_score\n",
        "# import keras\n",
        "# import time\n",
        "\n",
        "# count = 1\n",
        "\n",
        "# def initilialize_population():\n",
        "#     filter_1 = list(x for x in range(1, 11))\n",
        "#     filter_2 = list(x for x in range(11, 31))\n",
        "#     filter_3 = list(x for x in range(31, 61))\n",
        "#     filter_4 = list(x for x in range(61, 101))\n",
        "\n",
        "#     kernel_size_1 = [2,3]\n",
        "#     kernel_size_2 = [2,3]\n",
        "#     kernel_size_3 = [2,3]\n",
        "#     kernel_size_4 = [2,3]\n",
        "\n",
        "\n",
        "#     population = []\n",
        "#     population.append(filter_1)\n",
        "#     population.append(filter_2)\n",
        "#     population.append(filter_3)\n",
        "#     population.append(filter_4)\n",
        "#     population.append(kernel_size_1)\n",
        "#     population.append(kernel_size_2)\n",
        "#     population.append(kernel_size_3)\n",
        "#     population.append(kernel_size_4)\n",
        "\n",
        "#     return list(population)\n",
        "\n",
        "# def create_individual(data):\n",
        "#   choice = []\n",
        "#   for i in range(len(data)):\n",
        "#     choice.append(random.choice(list(range(len(data[i])))))\n",
        "#   return choice\n",
        "\n",
        "# def fitness_function(individual, data):\n",
        "#   global count\n",
        "#   print('Individual no', count)\n",
        "#   count += 1\n",
        "#   model = Sequential()\n",
        "#   model.add(Conv1D(filters=data[0][individual[0]], kernel_size=data[4][individual[4]], activation='relu', input_shape=input_shape))\n",
        "#   model.add(Conv1D(filters=data[0][individual[0]], kernel_size=data[4][individual[4]], activation='relu', input_shape=input_shape))\n",
        "#   model.add(BatchNormalization())\n",
        "#   model.add(MaxPooling1D(pool_size=2))\n",
        "#   model.add(Conv1D(filters=data[1][individual[1]], kernel_size=data[5][individual[5]], activation='relu'))\n",
        "#   model.add(Conv1D(filters=data[1][individual[1]], kernel_size=data[5][individual[5]], activation='relu'))\n",
        "#   model.add(BatchNormalization())\n",
        "#   model.add(MaxPooling1D(pool_size=2))\n",
        "#   model.add(Conv1D(filters=data[2][individual[2]], kernel_size=data[6][individual[6]], activation='relu'))\n",
        "#   model.add(Conv1D(filters=data[2][individual[2]], kernel_size=data[6][individual[6]], activation='relu'))\n",
        "#   model.add(BatchNormalization())\n",
        "#   model.add(MaxPooling1D(pool_size=2))\n",
        "#   model.add(Conv1D(filters=data[3][individual[3]], kernel_size=data[7][individual[7]], activation='relu'))\n",
        "#   model.add(Conv1D(filters=data[3][individual[3]], kernel_size=data[7][individual[7]], activation='relu'))\n",
        "#   model.add(BatchNormalization())\n",
        "#   model.add(MaxPooling1D(pool_size=2))\n",
        "#   model.add(Dropout(0.25))\n",
        "#   model.add(Flatten())\n",
        "#   model.add(Dense(64, activation='relu'))\n",
        "#   model.add(BatchNormalization())\n",
        "#   model.add(Dropout(0.25))\n",
        "#   model.add(Dense(32, activation='relu'))\n",
        "#   model.add(BatchNormalization())\n",
        "#   model.add(Dropout(0.25))\n",
        "#   model.add(Dense(16, activation='relu'))\n",
        "#   model.add(BatchNormalization())\n",
        "#   model.add(Dropout(0.25))\n",
        "#   model.add(Dense(number_of_classes, activation='softmax'))\n",
        "\n",
        "#   model.compile(loss=loss,\n",
        "#                 optimizer=keras.optimizers.Adadelta(),\n",
        "#                 metrics=metrics)\n",
        "\n",
        "#   model.fit(X_train, np.array(y_train),\n",
        "#             batch_size=128,\n",
        "#             epochs=25,\n",
        "#             verbose=1,\n",
        "#             validation_data=(xx_val,np.array(yy_val)))\n",
        "\n",
        "\n",
        "#   score = model.evaluate(xx_test, np.array(yy_test), verbose=1)[1]\n",
        "#   # prediction = model.predict(X_test)\n",
        "#   # score = accuracy_score(y_test, prediction)\n",
        "#   print('Score is', score)\n",
        "#   return score\n",
        "  \n",
        "# data = initilialize_population()\n",
        "# ga = pyeasyga.GeneticAlgorithm(seed_data=data,\n",
        "#                                population_size=5,\n",
        "#                                generations=5,\n",
        "#                                crossover_probability=0.8,\n",
        "#                                mutation_probability=0.4,\n",
        "#                                elitism=True,\n",
        "#                                maximise_fitness=True)\n",
        "# ga.create_individual = create_individual\n",
        "# ga.fitness_function = fitness_function\n",
        "\n",
        "# start = time.time()\n",
        "# ga.run()\n",
        "# end = time.time()\n",
        "# print('Time taken ------>', end-start)"
      ],
      "execution_count": 0,
      "outputs": []
    },
    {
      "cell_type": "code",
      "metadata": {
        "id": "MU62XsCXnOj4",
        "colab_type": "code",
        "colab": {}
      },
      "source": [
        "# best_parameters = ga.best_individual()[1]\n",
        "# for index,i in enumerate(data):\n",
        "#   print(i[best_parameters[index]])\n",
        "\n",
        "# print(ga.best_individual()[0])"
      ],
      "execution_count": 0,
      "outputs": []
    },
    {
      "cell_type": "markdown",
      "metadata": {
        "id": "TXoVZ9ibM34E",
        "colab_type": "text"
      },
      "source": [
        "# Building CNN Model\n"
      ]
    },
    {
      "cell_type": "code",
      "metadata": {
        "id": "AT7KyTCKM-27",
        "colab_type": "code",
        "colab": {}
      },
      "source": [
        "# model = Sequential()\n",
        "# model.add(Conv1D(filters=data[0][best_parameters[0]], kernel_size=data[4][best_parameters[4]], activation='relu', input_shape=input_shape))\n",
        "# model.add(Conv1D(filters=data[0][best_parameters[0]], kernel_size=data[4][best_parameters[4]], activation='relu', input_shape=input_shape))\n",
        "# model.add(BatchNormalization())\n",
        "# model.add(MaxPooling1D(pool_size=2))\n",
        "# model.add(Conv1D(filters=data[1][best_parameters[1]], kernel_size=data[5][best_parameters[5]], activation='relu'))\n",
        "# model.add(Conv1D(filters=data[1][best_parameters[1]], kernel_size=data[5][best_parameters[5]], activation='relu'))\n",
        "# model.add(BatchNormalization())\n",
        "# model.add(MaxPooling1D(pool_size=2))\n",
        "# model.add(Conv1D(filters=data[2][best_parameters[2]], kernel_size=data[5][best_parameters[5]], activation='relu'))\n",
        "# model.add(Conv1D(filters=data[2][best_parameters[2]], kernel_size=data[5][best_parameters[5]], activation='relu'))\n",
        "# model.add(BatchNormalization())\n",
        "# model.add(MaxPooling1D(pool_size=2))\n",
        "# model.add(Conv1D(filters=data[3][best_parameters[3]], kernel_size=data[6][best_parameters[6]], activation='relu'))\n",
        "# model.add(Conv1D(filters=data[3][best_parameters[3]], kernel_size=data[6][best_parameters[6]], activation='relu'))\n",
        "# model.add(BatchNormalization())\n",
        "# model.add(MaxPooling1D(pool_size=2))\n",
        "# model.add(Dropout(0.25))\n",
        "# model.add(Flatten())\n",
        "# model.add(Dense(64, activation='relu'))\n",
        "# model.add(BatchNormalization())\n",
        "# model.add(Dropout(0.25))\n",
        "# model.add(Dense(32, activation='relu'))\n",
        "# model.add(BatchNormalization())\n",
        "# model.add(Dropout(0.25))\n",
        "# model.add(Dense(16, activation='relu'))\n",
        "# model.add(BatchNormalization())\n",
        "# model.add(Dropout(0.25))\n",
        "# model.add(Dense(number_of_classes, activation='softmax'))\n",
        "# model.summary()"
      ],
      "execution_count": 0,
      "outputs": []
    },
    {
      "cell_type": "code",
      "metadata": {
        "id": "4nHrv5P4EPUi",
        "colab_type": "code",
        "outputId": "34d8999d-5a56-42c8-f513-5e869bbb5571",
        "colab": {
          "base_uri": "https://localhost:8080/",
          "height": 1000
        }
      },
      "source": [
        "model = Sequential()\n",
        "model.add(Conv1D(filters=8, kernel_size=3, activation='relu', input_shape=input_shape))\n",
        "model.add(Conv1D(filters=8, kernel_size=3, activation='relu', input_shape=input_shape))\n",
        "model.add(BatchNormalization())\n",
        "model.add(MaxPooling1D(pool_size=2))\n",
        "model.add(Conv1D(filters=16, kernel_size=3, activation='relu'))\n",
        "model.add(Conv1D(filters=16, kernel_size=3, activation='relu'))\n",
        "model.add(BatchNormalization())\n",
        "model.add(MaxPooling1D(pool_size=2))\n",
        "model.add(Conv1D(filters=32, kernel_size=3, activation='relu'))\n",
        "model.add(Conv1D(filters=32, kernel_size=3, activation='relu'))\n",
        "model.add(BatchNormalization())\n",
        "model.add(MaxPooling1D(pool_size=2))\n",
        "model.add(Conv1D(filters=64, kernel_size=3, activation='relu'))\n",
        "model.add(Conv1D(filters=64, kernel_size=3, activation='relu'))\n",
        "model.add(BatchNormalization())\n",
        "model.add(MaxPooling1D(pool_size=2))\n",
        "model.add(Dropout(0.25))\n",
        "model.add(Flatten())\n",
        "model.add(Dense(64, activation='relu'))\n",
        "model.add(BatchNormalization())\n",
        "model.add(Dropout(0.25))\n",
        "model.add(Dense(32, activation='relu'))\n",
        "model.add(BatchNormalization())\n",
        "model.add(Dropout(0.25))\n",
        "model.add(Dense(16, activation='relu'))\n",
        "model.add(BatchNormalization())\n",
        "model.add(Dropout(0.25))\n",
        "model.add(Dense(number_of_classes, activation='softmax'))\n",
        "model.summary()"
      ],
      "execution_count": 26,
      "outputs": [
        {
          "output_type": "stream",
          "text": [
            "Model: \"sequential_1\"\n",
            "_________________________________________________________________\n",
            "Layer (type)                 Output Shape              Param #   \n",
            "=================================================================\n",
            "conv1d_1 (Conv1D)            (None, 75, 8)             32        \n",
            "_________________________________________________________________\n",
            "conv1d_2 (Conv1D)            (None, 73, 8)             200       \n",
            "_________________________________________________________________\n",
            "batch_normalization_1 (Batch (None, 73, 8)             32        \n",
            "_________________________________________________________________\n",
            "max_pooling1d_1 (MaxPooling1 (None, 36, 8)             0         \n",
            "_________________________________________________________________\n",
            "conv1d_3 (Conv1D)            (None, 34, 16)            400       \n",
            "_________________________________________________________________\n",
            "conv1d_4 (Conv1D)            (None, 32, 16)            784       \n",
            "_________________________________________________________________\n",
            "batch_normalization_2 (Batch (None, 32, 16)            64        \n",
            "_________________________________________________________________\n",
            "max_pooling1d_2 (MaxPooling1 (None, 16, 16)            0         \n",
            "_________________________________________________________________\n",
            "conv1d_5 (Conv1D)            (None, 14, 32)            1568      \n",
            "_________________________________________________________________\n",
            "conv1d_6 (Conv1D)            (None, 12, 32)            3104      \n",
            "_________________________________________________________________\n",
            "batch_normalization_3 (Batch (None, 12, 32)            128       \n",
            "_________________________________________________________________\n",
            "max_pooling1d_3 (MaxPooling1 (None, 6, 32)             0         \n",
            "_________________________________________________________________\n",
            "conv1d_7 (Conv1D)            (None, 4, 64)             6208      \n",
            "_________________________________________________________________\n",
            "conv1d_8 (Conv1D)            (None, 2, 64)             12352     \n",
            "_________________________________________________________________\n",
            "batch_normalization_4 (Batch (None, 2, 64)             256       \n",
            "_________________________________________________________________\n",
            "max_pooling1d_4 (MaxPooling1 (None, 1, 64)             0         \n",
            "_________________________________________________________________\n",
            "dropout_1 (Dropout)          (None, 1, 64)             0         \n",
            "_________________________________________________________________\n",
            "flatten_1 (Flatten)          (None, 64)                0         \n",
            "_________________________________________________________________\n",
            "dense_1 (Dense)              (None, 64)                4160      \n",
            "_________________________________________________________________\n",
            "batch_normalization_5 (Batch (None, 64)                256       \n",
            "_________________________________________________________________\n",
            "dropout_2 (Dropout)          (None, 64)                0         \n",
            "_________________________________________________________________\n",
            "dense_2 (Dense)              (None, 32)                2080      \n",
            "_________________________________________________________________\n",
            "batch_normalization_6 (Batch (None, 32)                128       \n",
            "_________________________________________________________________\n",
            "dropout_3 (Dropout)          (None, 32)                0         \n",
            "_________________________________________________________________\n",
            "dense_3 (Dense)              (None, 16)                528       \n",
            "_________________________________________________________________\n",
            "batch_normalization_7 (Batch (None, 16)                64        \n",
            "_________________________________________________________________\n",
            "dropout_4 (Dropout)          (None, 16)                0         \n",
            "_________________________________________________________________\n",
            "dense_4 (Dense)              (None, 9)                 153       \n",
            "=================================================================\n",
            "Total params: 32,497\n",
            "Trainable params: 32,033\n",
            "Non-trainable params: 464\n",
            "_________________________________________________________________\n"
          ],
          "name": "stdout"
        }
      ]
    },
    {
      "cell_type": "code",
      "metadata": {
        "id": "P5kxIOUabfGo",
        "colab_type": "code",
        "colab": {}
      },
      "source": [
        "# for i in model.layers:\n",
        "#   name = i.output.name.split('/')[0].split('_')\n",
        "#   if len(name) > 2:\n",
        "#     name = name[0] + '_' + name[1]\n",
        "#   else:\n",
        "#     name = name[0]\n",
        "#   print(name, i.output.shape)\n",
        "#   print('_________________________________________________')"
      ],
      "execution_count": 0,
      "outputs": []
    },
    {
      "cell_type": "code",
      "metadata": {
        "id": "3-VSlVynNBID",
        "colab_type": "code",
        "outputId": "8fd5e026-4cd2-47b2-e7ea-b62a08315b85",
        "colab": {
          "base_uri": "https://localhost:8080/",
          "height": 1000
        }
      },
      "source": [
        "import keras\n",
        "model.compile(loss=loss,\n",
        "              optimizer=keras.optimizers.Adadelta(),\n",
        "              metrics=metrics)\n",
        "\n",
        "model.fit(X_train, np.array(y_train),\n",
        "          batch_size=128,\n",
        "          epochs=100,\n",
        "          verbose=1,\n",
        "          validation_data=(xx_val, np.array(yy_val)))"
      ],
      "execution_count": 28,
      "outputs": [
        {
          "output_type": "stream",
          "text": [
            "Train on 59260 samples, validate on 44446 samples\n",
            "Epoch 1/100\n",
            "59260/59260 [==============================] - 16s 273us/step - loss: 0.4925 - accuracy: 0.8560 - val_loss: 1.1705 - val_accuracy: 0.7474\n",
            "Epoch 2/100\n",
            "59260/59260 [==============================] - 14s 239us/step - loss: 0.1637 - accuracy: 0.9523 - val_loss: 0.1977 - val_accuracy: 0.9352\n",
            "Epoch 3/100\n",
            "59260/59260 [==============================] - 15s 247us/step - loss: 0.1253 - accuracy: 0.9618 - val_loss: 0.0839 - val_accuracy: 0.9727\n",
            "Epoch 4/100\n",
            "59260/59260 [==============================] - 15s 247us/step - loss: 0.1042 - accuracy: 0.9691 - val_loss: 0.0861 - val_accuracy: 0.9720\n",
            "Epoch 5/100\n",
            "59260/59260 [==============================] - 15s 247us/step - loss: 0.0936 - accuracy: 0.9727 - val_loss: 0.1180 - val_accuracy: 0.9603\n",
            "Epoch 6/100\n",
            "59260/59260 [==============================] - 14s 244us/step - loss: 0.0853 - accuracy: 0.9756 - val_loss: 0.0596 - val_accuracy: 0.9819\n",
            "Epoch 7/100\n",
            "59260/59260 [==============================] - 15s 250us/step - loss: 0.0802 - accuracy: 0.9764 - val_loss: 0.0936 - val_accuracy: 0.9722\n",
            "Epoch 8/100\n",
            "59260/59260 [==============================] - 15s 247us/step - loss: 0.0776 - accuracy: 0.9774 - val_loss: 0.0681 - val_accuracy: 0.9782\n",
            "Epoch 9/100\n",
            "59260/59260 [==============================] - 15s 258us/step - loss: 0.0721 - accuracy: 0.9796 - val_loss: 0.0798 - val_accuracy: 0.9731\n",
            "Epoch 10/100\n",
            "59260/59260 [==============================] - 15s 250us/step - loss: 0.0724 - accuracy: 0.9796 - val_loss: 0.1910 - val_accuracy: 0.9618\n",
            "Epoch 11/100\n",
            "59260/59260 [==============================] - 15s 252us/step - loss: 0.0712 - accuracy: 0.9796 - val_loss: 0.0661 - val_accuracy: 0.9801\n",
            "Epoch 12/100\n",
            "59260/59260 [==============================] - 15s 251us/step - loss: 0.0659 - accuracy: 0.9810 - val_loss: 0.0413 - val_accuracy: 0.9877\n",
            "Epoch 13/100\n",
            "59260/59260 [==============================] - 15s 248us/step - loss: 0.0622 - accuracy: 0.9821 - val_loss: 0.0486 - val_accuracy: 0.9847\n",
            "Epoch 14/100\n",
            "59260/59260 [==============================] - 15s 248us/step - loss: 0.0595 - accuracy: 0.9827 - val_loss: 0.1242 - val_accuracy: 0.9665\n",
            "Epoch 15/100\n",
            "59260/59260 [==============================] - 15s 252us/step - loss: 0.0565 - accuracy: 0.9842 - val_loss: 0.0476 - val_accuracy: 0.9852\n",
            "Epoch 16/100\n",
            "59260/59260 [==============================] - 15s 254us/step - loss: 0.0572 - accuracy: 0.9845 - val_loss: 0.0597 - val_accuracy: 0.9811\n",
            "Epoch 17/100\n",
            "59260/59260 [==============================] - 15s 249us/step - loss: 0.0557 - accuracy: 0.9844 - val_loss: 0.0478 - val_accuracy: 0.9848\n",
            "Epoch 18/100\n",
            "59260/59260 [==============================] - 15s 256us/step - loss: 0.0551 - accuracy: 0.9852 - val_loss: 0.0569 - val_accuracy: 0.9834\n",
            "Epoch 19/100\n",
            "59260/59260 [==============================] - 15s 251us/step - loss: 0.0540 - accuracy: 0.9847 - val_loss: 0.0672 - val_accuracy: 0.9822\n",
            "Epoch 20/100\n",
            "59260/59260 [==============================] - 15s 248us/step - loss: 0.0519 - accuracy: 0.9852 - val_loss: 0.0380 - val_accuracy: 0.9891\n",
            "Epoch 21/100\n",
            "59260/59260 [==============================] - 15s 254us/step - loss: 0.0518 - accuracy: 0.9860 - val_loss: 0.0594 - val_accuracy: 0.9810\n",
            "Epoch 22/100\n",
            "59260/59260 [==============================] - 15s 251us/step - loss: 0.0503 - accuracy: 0.9857 - val_loss: 0.0408 - val_accuracy: 0.9871\n",
            "Epoch 23/100\n",
            "59260/59260 [==============================] - 15s 255us/step - loss: 0.0478 - accuracy: 0.9866 - val_loss: 0.0807 - val_accuracy: 0.9748\n",
            "Epoch 24/100\n",
            "59260/59260 [==============================] - 15s 256us/step - loss: 0.0472 - accuracy: 0.9873 - val_loss: 0.0978 - val_accuracy: 0.9702\n",
            "Epoch 25/100\n",
            "59260/59260 [==============================] - 15s 261us/step - loss: 0.0475 - accuracy: 0.9867 - val_loss: 0.0364 - val_accuracy: 0.9895\n",
            "Epoch 26/100\n",
            "59260/59260 [==============================] - 15s 256us/step - loss: 0.0481 - accuracy: 0.9874 - val_loss: 0.0467 - val_accuracy: 0.9856\n",
            "Epoch 27/100\n",
            "59260/59260 [==============================] - 15s 255us/step - loss: 0.0449 - accuracy: 0.9874 - val_loss: 0.0477 - val_accuracy: 0.9862\n",
            "Epoch 28/100\n",
            "59260/59260 [==============================] - 18s 311us/step - loss: 0.0437 - accuracy: 0.9879 - val_loss: 0.0388 - val_accuracy: 0.9876\n",
            "Epoch 29/100\n",
            "59260/59260 [==============================] - 16s 266us/step - loss: 0.0435 - accuracy: 0.9881 - val_loss: 0.0593 - val_accuracy: 0.9820\n",
            "Epoch 30/100\n",
            "59260/59260 [==============================] - 15s 260us/step - loss: 0.0430 - accuracy: 0.9881 - val_loss: 0.0948 - val_accuracy: 0.9716\n",
            "Epoch 31/100\n",
            "59260/59260 [==============================] - 15s 256us/step - loss: 0.0421 - accuracy: 0.9884 - val_loss: 0.0784 - val_accuracy: 0.9809\n",
            "Epoch 32/100\n",
            "59260/59260 [==============================] - 15s 250us/step - loss: 0.0414 - accuracy: 0.9886 - val_loss: 0.0467 - val_accuracy: 0.9868\n",
            "Epoch 33/100\n",
            "59260/59260 [==============================] - 15s 252us/step - loss: 0.0413 - accuracy: 0.9887 - val_loss: 0.0479 - val_accuracy: 0.9858\n",
            "Epoch 34/100\n",
            "59260/59260 [==============================] - 15s 252us/step - loss: 0.0396 - accuracy: 0.9895 - val_loss: 0.1667 - val_accuracy: 0.9572\n",
            "Epoch 35/100\n",
            "59260/59260 [==============================] - 15s 256us/step - loss: 0.0415 - accuracy: 0.9887 - val_loss: 0.0592 - val_accuracy: 0.9821\n",
            "Epoch 36/100\n",
            "59260/59260 [==============================] - 15s 252us/step - loss: 0.0381 - accuracy: 0.9896 - val_loss: 0.0350 - val_accuracy: 0.9896\n",
            "Epoch 37/100\n",
            "59260/59260 [==============================] - 15s 254us/step - loss: 0.0390 - accuracy: 0.9892 - val_loss: 0.0495 - val_accuracy: 0.9845\n",
            "Epoch 38/100\n",
            "59260/59260 [==============================] - 15s 255us/step - loss: 0.0392 - accuracy: 0.9890 - val_loss: 0.0489 - val_accuracy: 0.9844\n",
            "Epoch 39/100\n",
            "59260/59260 [==============================] - 15s 251us/step - loss: 0.0381 - accuracy: 0.9898 - val_loss: 0.0369 - val_accuracy: 0.9892\n",
            "Epoch 40/100\n",
            "59260/59260 [==============================] - 15s 259us/step - loss: 0.0372 - accuracy: 0.9897 - val_loss: 0.0352 - val_accuracy: 0.9905\n",
            "Epoch 41/100\n",
            "59260/59260 [==============================] - 15s 254us/step - loss: 0.0373 - accuracy: 0.9900 - val_loss: 0.1364 - val_accuracy: 0.9634\n",
            "Epoch 42/100\n",
            "59260/59260 [==============================] - 15s 252us/step - loss: 0.0366 - accuracy: 0.9904 - val_loss: 0.0468 - val_accuracy: 0.9870\n",
            "Epoch 43/100\n",
            "59260/59260 [==============================] - 15s 255us/step - loss: 0.0350 - accuracy: 0.9908 - val_loss: 0.6350 - val_accuracy: 0.8412\n",
            "Epoch 44/100\n",
            "59260/59260 [==============================] - 15s 256us/step - loss: 0.0353 - accuracy: 0.9904 - val_loss: 0.0396 - val_accuracy: 0.9887\n",
            "Epoch 45/100\n",
            "59260/59260 [==============================] - 15s 255us/step - loss: 0.0362 - accuracy: 0.9910 - val_loss: 0.0715 - val_accuracy: 0.9821\n",
            "Epoch 46/100\n",
            "59260/59260 [==============================] - 15s 257us/step - loss: 0.0331 - accuracy: 0.9908 - val_loss: 0.0717 - val_accuracy: 0.9833\n",
            "Epoch 47/100\n",
            "59260/59260 [==============================] - 15s 248us/step - loss: 0.0367 - accuracy: 0.9904 - val_loss: 0.0649 - val_accuracy: 0.9829\n",
            "Epoch 48/100\n",
            "59260/59260 [==============================] - 15s 260us/step - loss: 0.0323 - accuracy: 0.9910 - val_loss: 0.0781 - val_accuracy: 0.9827\n",
            "Epoch 49/100\n",
            "59260/59260 [==============================] - 15s 254us/step - loss: 0.0335 - accuracy: 0.9905 - val_loss: 0.1404 - val_accuracy: 0.9618\n",
            "Epoch 50/100\n",
            "59260/59260 [==============================] - 16s 265us/step - loss: 0.0331 - accuracy: 0.9909 - val_loss: 0.0656 - val_accuracy: 0.9838\n",
            "Epoch 51/100\n",
            "59260/59260 [==============================] - 15s 257us/step - loss: 0.0312 - accuracy: 0.9915 - val_loss: 0.0707 - val_accuracy: 0.9823\n",
            "Epoch 52/100\n",
            "59260/59260 [==============================] - 15s 259us/step - loss: 0.0316 - accuracy: 0.9912 - val_loss: 0.0869 - val_accuracy: 0.9797\n",
            "Epoch 53/100\n",
            "59260/59260 [==============================] - 15s 256us/step - loss: 0.0332 - accuracy: 0.9907 - val_loss: 0.0433 - val_accuracy: 0.9887\n",
            "Epoch 54/100\n",
            "59260/59260 [==============================] - 15s 256us/step - loss: 0.0296 - accuracy: 0.9919 - val_loss: 0.0442 - val_accuracy: 0.9869\n",
            "Epoch 55/100\n",
            "59260/59260 [==============================] - 15s 254us/step - loss: 0.0314 - accuracy: 0.9914 - val_loss: 0.0777 - val_accuracy: 0.9800\n",
            "Epoch 56/100\n",
            "59260/59260 [==============================] - 15s 257us/step - loss: 0.0307 - accuracy: 0.9915 - val_loss: 0.1262 - val_accuracy: 0.9697\n",
            "Epoch 57/100\n",
            "59260/59260 [==============================] - 15s 255us/step - loss: 0.0304 - accuracy: 0.9916 - val_loss: 0.0339 - val_accuracy: 0.9908\n",
            "Epoch 58/100\n",
            "59260/59260 [==============================] - 15s 257us/step - loss: 0.0287 - accuracy: 0.9925 - val_loss: 0.0488 - val_accuracy: 0.9873\n",
            "Epoch 59/100\n",
            "59260/59260 [==============================] - 15s 251us/step - loss: 0.0280 - accuracy: 0.9921 - val_loss: 0.0335 - val_accuracy: 0.9910\n",
            "Epoch 60/100\n",
            "59260/59260 [==============================] - 15s 256us/step - loss: 0.0298 - accuracy: 0.9917 - val_loss: 0.0569 - val_accuracy: 0.9842\n",
            "Epoch 61/100\n",
            "59260/59260 [==============================] - 15s 253us/step - loss: 0.0292 - accuracy: 0.9920 - val_loss: 0.0875 - val_accuracy: 0.9807\n",
            "Epoch 62/100\n",
            "59260/59260 [==============================] - 15s 253us/step - loss: 0.0292 - accuracy: 0.9921 - val_loss: 0.1078 - val_accuracy: 0.9717\n",
            "Epoch 63/100\n",
            "59260/59260 [==============================] - 15s 255us/step - loss: 0.0257 - accuracy: 0.9927 - val_loss: 0.0408 - val_accuracy: 0.9890\n",
            "Epoch 64/100\n",
            "59260/59260 [==============================] - 15s 252us/step - loss: 0.0291 - accuracy: 0.9921 - val_loss: 0.0348 - val_accuracy: 0.9903\n",
            "Epoch 65/100\n",
            "59260/59260 [==============================] - 15s 252us/step - loss: 0.0263 - accuracy: 0.9924 - val_loss: 0.0426 - val_accuracy: 0.9898\n",
            "Epoch 66/100\n",
            "59260/59260 [==============================] - 15s 254us/step - loss: 0.0279 - accuracy: 0.9924 - val_loss: 0.0538 - val_accuracy: 0.9864\n",
            "Epoch 67/100\n",
            "59260/59260 [==============================] - 15s 257us/step - loss: 0.0276 - accuracy: 0.9921 - val_loss: 0.1601 - val_accuracy: 0.9692\n",
            "Epoch 68/100\n",
            "59260/59260 [==============================] - 17s 287us/step - loss: 0.0267 - accuracy: 0.9924 - val_loss: 0.0482 - val_accuracy: 0.9875\n",
            "Epoch 69/100\n",
            "59260/59260 [==============================] - 17s 279us/step - loss: 0.0264 - accuracy: 0.9927 - val_loss: 0.0839 - val_accuracy: 0.9766\n",
            "Epoch 70/100\n",
            "59260/59260 [==============================] - 16s 262us/step - loss: 0.0266 - accuracy: 0.9925 - val_loss: 0.0711 - val_accuracy: 0.9841\n",
            "Epoch 71/100\n",
            "59260/59260 [==============================] - 16s 262us/step - loss: 0.0275 - accuracy: 0.9924 - val_loss: 0.0545 - val_accuracy: 0.9856\n",
            "Epoch 72/100\n",
            "59260/59260 [==============================] - 15s 259us/step - loss: 0.0256 - accuracy: 0.9928 - val_loss: 0.0796 - val_accuracy: 0.9818\n",
            "Epoch 73/100\n",
            "59260/59260 [==============================] - 15s 255us/step - loss: 0.0248 - accuracy: 0.9930 - val_loss: 0.0441 - val_accuracy: 0.9884\n",
            "Epoch 74/100\n",
            "59260/59260 [==============================] - 15s 257us/step - loss: 0.0261 - accuracy: 0.9928 - val_loss: 0.0623 - val_accuracy: 0.9838\n",
            "Epoch 75/100\n",
            "59260/59260 [==============================] - 15s 252us/step - loss: 0.0252 - accuracy: 0.9932 - val_loss: 0.0782 - val_accuracy: 0.9830\n",
            "Epoch 76/100\n",
            "59260/59260 [==============================] - 15s 253us/step - loss: 0.0243 - accuracy: 0.9933 - val_loss: 0.1733 - val_accuracy: 0.9644\n",
            "Epoch 77/100\n",
            "59260/59260 [==============================] - 15s 254us/step - loss: 0.0254 - accuracy: 0.9932 - val_loss: 0.0592 - val_accuracy: 0.9857\n",
            "Epoch 78/100\n",
            "59260/59260 [==============================] - 15s 260us/step - loss: 0.0248 - accuracy: 0.9928 - val_loss: 0.1787 - val_accuracy: 0.9666\n",
            "Epoch 79/100\n",
            "59260/59260 [==============================] - 15s 258us/step - loss: 0.0238 - accuracy: 0.9937 - val_loss: 0.1571 - val_accuracy: 0.9696\n",
            "Epoch 80/100\n",
            "59260/59260 [==============================] - 15s 250us/step - loss: 0.0224 - accuracy: 0.9937 - val_loss: 0.0484 - val_accuracy: 0.9876\n",
            "Epoch 81/100\n",
            "59260/59260 [==============================] - 15s 252us/step - loss: 0.0230 - accuracy: 0.9933 - val_loss: 0.0534 - val_accuracy: 0.9872\n",
            "Epoch 82/100\n",
            "59260/59260 [==============================] - 15s 255us/step - loss: 0.0224 - accuracy: 0.9941 - val_loss: 0.1555 - val_accuracy: 0.9703\n",
            "Epoch 83/100\n",
            "59260/59260 [==============================] - 15s 259us/step - loss: 0.0229 - accuracy: 0.9936 - val_loss: 0.0638 - val_accuracy: 0.9859\n",
            "Epoch 84/100\n",
            "59260/59260 [==============================] - 15s 255us/step - loss: 0.0216 - accuracy: 0.9940 - val_loss: 0.1052 - val_accuracy: 0.9801\n",
            "Epoch 85/100\n",
            "59260/59260 [==============================] - 15s 255us/step - loss: 0.0215 - accuracy: 0.9945 - val_loss: 0.0484 - val_accuracy: 0.9880\n",
            "Epoch 86/100\n",
            "59260/59260 [==============================] - 15s 258us/step - loss: 0.0220 - accuracy: 0.9938 - val_loss: 0.0404 - val_accuracy: 0.9901\n",
            "Epoch 87/100\n",
            "59260/59260 [==============================] - 15s 253us/step - loss: 0.0223 - accuracy: 0.9942 - val_loss: 0.0721 - val_accuracy: 0.9829\n",
            "Epoch 88/100\n",
            "59260/59260 [==============================] - 15s 256us/step - loss: 0.0204 - accuracy: 0.9940 - val_loss: 0.0371 - val_accuracy: 0.9915\n",
            "Epoch 89/100\n",
            "59260/59260 [==============================] - 15s 261us/step - loss: 0.0241 - accuracy: 0.9936 - val_loss: 0.0377 - val_accuracy: 0.9909\n",
            "Epoch 90/100\n",
            "59260/59260 [==============================] - 15s 258us/step - loss: 0.0209 - accuracy: 0.9941 - val_loss: 0.2152 - val_accuracy: 0.9536\n",
            "Epoch 91/100\n",
            "59260/59260 [==============================] - 15s 261us/step - loss: 0.0223 - accuracy: 0.9944 - val_loss: 0.0789 - val_accuracy: 0.9836\n",
            "Epoch 92/100\n",
            "59260/59260 [==============================] - 15s 255us/step - loss: 0.0199 - accuracy: 0.9944 - val_loss: 0.0470 - val_accuracy: 0.9894\n",
            "Epoch 93/100\n",
            "59260/59260 [==============================] - 15s 256us/step - loss: 0.0209 - accuracy: 0.9944 - val_loss: 0.0400 - val_accuracy: 0.9905\n",
            "Epoch 94/100\n",
            "59260/59260 [==============================] - 15s 260us/step - loss: 0.0205 - accuracy: 0.9941 - val_loss: 0.0544 - val_accuracy: 0.9876\n",
            "Epoch 95/100\n",
            "59260/59260 [==============================] - 15s 259us/step - loss: 0.0212 - accuracy: 0.9942 - val_loss: 0.0645 - val_accuracy: 0.9858\n",
            "Epoch 96/100\n",
            "59260/59260 [==============================] - 15s 255us/step - loss: 0.0190 - accuracy: 0.9946 - val_loss: 0.0393 - val_accuracy: 0.9908\n",
            "Epoch 97/100\n",
            "59260/59260 [==============================] - 15s 258us/step - loss: 0.0189 - accuracy: 0.9947 - val_loss: 0.0791 - val_accuracy: 0.9856\n",
            "Epoch 98/100\n",
            "59260/59260 [==============================] - 15s 258us/step - loss: 0.0203 - accuracy: 0.9943 - val_loss: 0.1230 - val_accuracy: 0.9759\n",
            "Epoch 99/100\n",
            "59260/59260 [==============================] - 15s 248us/step - loss: 0.0206 - accuracy: 0.9943 - val_loss: 0.0719 - val_accuracy: 0.9838\n",
            "Epoch 100/100\n",
            "59260/59260 [==============================] - 15s 256us/step - loss: 0.0184 - accuracy: 0.9948 - val_loss: 0.0411 - val_accuracy: 0.9906\n"
          ],
          "name": "stdout"
        },
        {
          "output_type": "execute_result",
          "data": {
            "text/plain": [
              "<keras.callbacks.callbacks.History at 0x7ff34d70df98>"
            ]
          },
          "metadata": {
            "tags": []
          },
          "execution_count": 28
        }
      ]
    },
    {
      "cell_type": "code",
      "metadata": {
        "id": "LSGrC7sxNWhx",
        "colab_type": "code",
        "outputId": "07273dc0-703a-4e42-f39a-8200fe5f1656",
        "colab": {
          "base_uri": "https://localhost:8080/",
          "height": 68
        }
      },
      "source": [
        "score = model.evaluate(xx_test, yy_test, verbose=1)\n",
        "print('Test loss:', score[0])\n",
        "print('Test accuracy:', score[1])"
      ],
      "execution_count": 29,
      "outputs": [
        {
          "output_type": "stream",
          "text": [
            "44446/44446 [==============================] - 4s 85us/step\n",
            "Test loss: 0.045489362250218116\n",
            "Test accuracy: 0.9897178411483765\n"
          ],
          "name": "stdout"
        }
      ]
    },
    {
      "cell_type": "code",
      "metadata": {
        "id": "GbIwG9dgjk-X",
        "colab_type": "code",
        "colab": {}
      },
      "source": [
        "if len(np.array(y_test).shape) == 1:\n",
        "  y_test = [x+1 for x in y_test]\n",
        "  y_train = [x+1 for x in y_train]"
      ],
      "execution_count": 0,
      "outputs": []
    },
    {
      "cell_type": "code",
      "metadata": {
        "id": "s9zjzu4ArF-O",
        "colab_type": "code",
        "outputId": "30dc2d55-cca9-4716-99f1-bfe04d1620a9",
        "colab": {
          "base_uri": "https://localhost:8080/",
          "height": 51
        }
      },
      "source": [
        "!pip install spectral"
      ],
      "execution_count": 31,
      "outputs": [
        {
          "output_type": "stream",
          "text": [
            "Requirement already satisfied: spectral in /usr/local/lib/python3.6/dist-packages (0.21)\n",
            "Requirement already satisfied: numpy in /usr/local/lib/python3.6/dist-packages (from spectral) (1.18.5)\n"
          ],
          "name": "stdout"
        }
      ]
    },
    {
      "cell_type": "code",
      "metadata": {
        "id": "Zf5wCQc3q7ye",
        "colab_type": "code",
        "colab": {}
      },
      "source": [
        "import spectral as sp\n",
        "prediction = model.predict(X)\n",
        "\n",
        "if not len(prediction.shape) == 2:\n",
        "    y_test = [x + 1 for x in y_test]\n",
        "    y_train = [x + 1 for x in y_train]\n",
        "\n",
        "if len(prediction.shape) == 2:\n",
        "    predicted_gt_1 = np.argmax(prediction, axis=1)\n",
        "    predicted_gt_1_list = list(predicted_gt_1)\n",
        "    predicted_gt_1_list = [x + 1 for x in predicted_gt_1_list]\n",
        "else:\n",
        "    predicted_gt_1_list = prediction\n",
        "\n",
        "for i in zero_data:\n",
        "    predicted_gt_1_list.insert(i, 0)\n",
        "\n",
        "predicted_gt_1_list = np.array(predicted_gt_1_list).reshape(image.shape[0], image.shape[1])\n",
        "sp.save_rgb('predicted_gt.jpg', predicted_gt_1_list, colors=sp.spy_colors)\n"
      ],
      "execution_count": 0,
      "outputs": []
    }
  ]
}