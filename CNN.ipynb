{
  "nbformat": 4,
  "nbformat_minor": 0,
  "metadata": {
    "colab": {
      "name": "CNN",
      "provenance": [],
      "authorship_tag": "ABX9TyPLLjXh29WWKxSWqTJAnTUW",
      "include_colab_link": true
    },
    "kernelspec": {
      "name": "python3",
      "display_name": "Python 3"
    }
  },
  "cells": [
    {
      "cell_type": "markdown",
      "metadata": {
        "id": "view-in-github",
        "colab_type": "text"
      },
      "source": [
        "<a href=\"https://colab.research.google.com/github/Srajan1122/Hyperspectral_Image_Classification/blob/srajan/CNN.ipynb\" target=\"_parent\"><img src=\"https://colab.research.google.com/assets/colab-badge.svg\" alt=\"Open In Colab\"/></a>"
      ]
    },
    {
      "cell_type": "code",
      "metadata": {
        "id": "pO-nUq2-KL7a",
        "colab_type": "code",
        "outputId": "06ecd02d-d2e3-4c14-fb18-1284b0709895",
        "colab": {
          "base_uri": "https://localhost:8080/",
          "height": 54
        }
      },
      "source": [
        "from google.colab import drive\n",
        "drive.mount('/content/drive')"
      ],
      "execution_count": 1,
      "outputs": [
        {
          "output_type": "stream",
          "text": [
            "Drive already mounted at /content/drive; to attempt to forcibly remount, call drive.mount(\"/content/drive\", force_remount=True).\n"
          ],
          "name": "stdout"
        }
      ]
    },
    {
      "cell_type": "markdown",
      "metadata": {
        "id": "aXpp9_cwKqz1",
        "colab_type": "text"
      },
      "source": [
        "# Importing Libraries"
      ]
    },
    {
      "cell_type": "code",
      "metadata": {
        "id": "qVxnzfWvKN-K",
        "colab_type": "code",
        "outputId": "36088837-a69c-4f31-ce2a-0bee349bba54",
        "colab": {
          "base_uri": "https://localhost:8080/",
          "height": 34
        }
      },
      "source": [
        "import pandas as pd\n",
        "import numpy as np\n",
        "from scipy import io\n",
        "from sklearn.model_selection import train_test_split\n",
        "from sklearn.preprocessing import OneHotEncoder \n",
        "from sklearn import preprocessing\n",
        "import keras"
      ],
      "execution_count": 2,
      "outputs": [
        {
          "output_type": "stream",
          "text": [
            "Using TensorFlow backend.\n"
          ],
          "name": "stderr"
        }
      ]
    },
    {
      "cell_type": "markdown",
      "metadata": {
        "id": "UqasbIqPK0KM",
        "colab_type": "text"
      },
      "source": [
        "# Importing Dataset"
      ]
    },
    {
      "cell_type": "code",
      "metadata": {
        "id": "erOp3hTTKuzQ",
        "colab_type": "code",
        "colab": {}
      },
      "source": [
        "loaded_dataset = io.loadmat('/content/drive/My Drive/Srajan/Internship/SEM4-LeadingindiaAI/Tasks/Datasets/Botswana/Botswana.mat')\n",
        "for key, value in loaded_dataset.items():\n",
        "  if isinstance(value, type(np.array([1]))):\n",
        "    image = loaded_dataset[key]"
      ],
      "execution_count": 0,
      "outputs": []
    },
    {
      "cell_type": "code",
      "metadata": {
        "id": "HjbphR_nK5O8",
        "colab_type": "code",
        "colab": {}
      },
      "source": [
        "ground_truth_1 = io.loadmat('/content/drive/My Drive/Srajan/Internship/SEM4-LeadingindiaAI/Tasks/Datasets/Botswana/Botswana_gt.mat')\n",
        "for key, value in ground_truth_1.items():\n",
        "  if isinstance(value, type(np.array([1]))):\n",
        "    ground_truth = ground_truth_1[key]"
      ],
      "execution_count": 0,
      "outputs": []
    },
    {
      "cell_type": "markdown",
      "metadata": {
        "id": "_9l4ZElPK8xW",
        "colab_type": "text"
      },
      "source": [
        "## Class Labels"
      ]
    },
    {
      "cell_type": "code",
      "metadata": {
        "id": "JumPKdTvK_EY",
        "colab_type": "code",
        "colab": {}
      },
      "source": [
        "label_values = [\"Alfalfa\", \"Corn-notill\", \"Corn-mintill\",\n",
        "                        \"Corn\", \"Grass-pasture\", \"Grass-trees\",\n",
        "                        \"Grass-pasture-mowed\", \"Hay-windrowed\", \"Oats\",\n",
        "                        \"Soybean-notill\", \"Soybean-mintill\", \"Soybean-clean\",\n",
        "                        \"Wheat\", \"Woods\", \"Buildings-Grass-Trees-Drives\",\n",
        "                        \"Stone-Steel-Towers\"]"
      ],
      "execution_count": 0,
      "outputs": []
    },
    {
      "cell_type": "markdown",
      "metadata": {
        "id": "QYIFKIPmLCFV",
        "colab_type": "text"
      },
      "source": [
        "## Resizing the data"
      ]
    },
    {
      "cell_type": "code",
      "metadata": {
        "id": "UnRRsjn8K_zG",
        "colab_type": "code",
        "colab": {}
      },
      "source": [
        "image_with_gt = np.dstack((image, ground_truth))"
      ],
      "execution_count": 0,
      "outputs": []
    },
    {
      "cell_type": "code",
      "metadata": {
        "id": "P2hhElWJLF9V",
        "colab_type": "code",
        "colab": {}
      },
      "source": [
        "final_output = image_with_gt.reshape(ground_truth.size, image.shape[2]+1)"
      ],
      "execution_count": 0,
      "outputs": []
    },
    {
      "cell_type": "markdown",
      "metadata": {
        "id": "ZKGD0bRxLJff",
        "colab_type": "text"
      },
      "source": [
        "## Data Visualization in pandas"
      ]
    },
    {
      "cell_type": "code",
      "metadata": {
        "id": "4AWkTHdDLOwf",
        "colab_type": "code",
        "colab": {}
      },
      "source": [
        "data = pd.DataFrame(final_output)"
      ],
      "execution_count": 0,
      "outputs": []
    },
    {
      "cell_type": "code",
      "metadata": {
        "id": "9ctUP_zKLUpJ",
        "colab_type": "code",
        "outputId": "e071b14a-970b-432f-b65d-46b8dc372739",
        "colab": {
          "base_uri": "https://localhost:8080/",
          "height": 253
        }
      },
      "source": [
        "data.head()"
      ],
      "execution_count": 9,
      "outputs": [
        {
          "output_type": "execute_result",
          "data": {
            "text/html": [
              "<div>\n",
              "<style scoped>\n",
              "    .dataframe tbody tr th:only-of-type {\n",
              "        vertical-align: middle;\n",
              "    }\n",
              "\n",
              "    .dataframe tbody tr th {\n",
              "        vertical-align: top;\n",
              "    }\n",
              "\n",
              "    .dataframe thead th {\n",
              "        text-align: right;\n",
              "    }\n",
              "</style>\n",
              "<table border=\"1\" class=\"dataframe\">\n",
              "  <thead>\n",
              "    <tr style=\"text-align: right;\">\n",
              "      <th></th>\n",
              "      <th>0</th>\n",
              "      <th>1</th>\n",
              "      <th>2</th>\n",
              "      <th>3</th>\n",
              "      <th>4</th>\n",
              "      <th>5</th>\n",
              "      <th>6</th>\n",
              "      <th>7</th>\n",
              "      <th>8</th>\n",
              "      <th>9</th>\n",
              "      <th>10</th>\n",
              "      <th>11</th>\n",
              "      <th>12</th>\n",
              "      <th>13</th>\n",
              "      <th>14</th>\n",
              "      <th>15</th>\n",
              "      <th>16</th>\n",
              "      <th>17</th>\n",
              "      <th>18</th>\n",
              "      <th>19</th>\n",
              "      <th>20</th>\n",
              "      <th>21</th>\n",
              "      <th>22</th>\n",
              "      <th>23</th>\n",
              "      <th>24</th>\n",
              "      <th>25</th>\n",
              "      <th>26</th>\n",
              "      <th>27</th>\n",
              "      <th>28</th>\n",
              "      <th>29</th>\n",
              "      <th>30</th>\n",
              "      <th>31</th>\n",
              "      <th>32</th>\n",
              "      <th>33</th>\n",
              "      <th>34</th>\n",
              "      <th>35</th>\n",
              "      <th>36</th>\n",
              "      <th>37</th>\n",
              "      <th>38</th>\n",
              "      <th>39</th>\n",
              "      <th>...</th>\n",
              "      <th>106</th>\n",
              "      <th>107</th>\n",
              "      <th>108</th>\n",
              "      <th>109</th>\n",
              "      <th>110</th>\n",
              "      <th>111</th>\n",
              "      <th>112</th>\n",
              "      <th>113</th>\n",
              "      <th>114</th>\n",
              "      <th>115</th>\n",
              "      <th>116</th>\n",
              "      <th>117</th>\n",
              "      <th>118</th>\n",
              "      <th>119</th>\n",
              "      <th>120</th>\n",
              "      <th>121</th>\n",
              "      <th>122</th>\n",
              "      <th>123</th>\n",
              "      <th>124</th>\n",
              "      <th>125</th>\n",
              "      <th>126</th>\n",
              "      <th>127</th>\n",
              "      <th>128</th>\n",
              "      <th>129</th>\n",
              "      <th>130</th>\n",
              "      <th>131</th>\n",
              "      <th>132</th>\n",
              "      <th>133</th>\n",
              "      <th>134</th>\n",
              "      <th>135</th>\n",
              "      <th>136</th>\n",
              "      <th>137</th>\n",
              "      <th>138</th>\n",
              "      <th>139</th>\n",
              "      <th>140</th>\n",
              "      <th>141</th>\n",
              "      <th>142</th>\n",
              "      <th>143</th>\n",
              "      <th>144</th>\n",
              "      <th>145</th>\n",
              "    </tr>\n",
              "  </thead>\n",
              "  <tbody>\n",
              "    <tr>\n",
              "      <th>0</th>\n",
              "      <td>3996</td>\n",
              "      <td>3952</td>\n",
              "      <td>3698</td>\n",
              "      <td>3457</td>\n",
              "      <td>3063</td>\n",
              "      <td>2914</td>\n",
              "      <td>2796</td>\n",
              "      <td>2538</td>\n",
              "      <td>2629</td>\n",
              "      <td>2613</td>\n",
              "      <td>2533</td>\n",
              "      <td>2517</td>\n",
              "      <td>2306</td>\n",
              "      <td>2149</td>\n",
              "      <td>2065</td>\n",
              "      <td>1994</td>\n",
              "      <td>1943</td>\n",
              "      <td>1840</td>\n",
              "      <td>1779</td>\n",
              "      <td>1726</td>\n",
              "      <td>1654</td>\n",
              "      <td>1519</td>\n",
              "      <td>1542</td>\n",
              "      <td>1478</td>\n",
              "      <td>1404</td>\n",
              "      <td>1600</td>\n",
              "      <td>2755</td>\n",
              "      <td>2806</td>\n",
              "      <td>3459</td>\n",
              "      <td>4137</td>\n",
              "      <td>4008</td>\n",
              "      <td>2741</td>\n",
              "      <td>4144</td>\n",
              "      <td>4268</td>\n",
              "      <td>4069</td>\n",
              "      <td>4020</td>\n",
              "      <td>3537</td>\n",
              "      <td>3335</td>\n",
              "      <td>3582</td>\n",
              "      <td>3868</td>\n",
              "      <td>...</td>\n",
              "      <td>450</td>\n",
              "      <td>385</td>\n",
              "      <td>316</td>\n",
              "      <td>240</td>\n",
              "      <td>157</td>\n",
              "      <td>98</td>\n",
              "      <td>149</td>\n",
              "      <td>142</td>\n",
              "      <td>106</td>\n",
              "      <td>91</td>\n",
              "      <td>107</td>\n",
              "      <td>158</td>\n",
              "      <td>164</td>\n",
              "      <td>163</td>\n",
              "      <td>166</td>\n",
              "      <td>184</td>\n",
              "      <td>196</td>\n",
              "      <td>181</td>\n",
              "      <td>169</td>\n",
              "      <td>156</td>\n",
              "      <td>159</td>\n",
              "      <td>134</td>\n",
              "      <td>135</td>\n",
              "      <td>144</td>\n",
              "      <td>159</td>\n",
              "      <td>142</td>\n",
              "      <td>138</td>\n",
              "      <td>145</td>\n",
              "      <td>138</td>\n",
              "      <td>110</td>\n",
              "      <td>104</td>\n",
              "      <td>114</td>\n",
              "      <td>89</td>\n",
              "      <td>89</td>\n",
              "      <td>77</td>\n",
              "      <td>73</td>\n",
              "      <td>60</td>\n",
              "      <td>53</td>\n",
              "      <td>54</td>\n",
              "      <td>0</td>\n",
              "    </tr>\n",
              "    <tr>\n",
              "      <th>1</th>\n",
              "      <td>3996</td>\n",
              "      <td>3952</td>\n",
              "      <td>3698</td>\n",
              "      <td>3457</td>\n",
              "      <td>3063</td>\n",
              "      <td>2914</td>\n",
              "      <td>2796</td>\n",
              "      <td>2538</td>\n",
              "      <td>2629</td>\n",
              "      <td>2613</td>\n",
              "      <td>2533</td>\n",
              "      <td>2517</td>\n",
              "      <td>2306</td>\n",
              "      <td>2149</td>\n",
              "      <td>2065</td>\n",
              "      <td>1994</td>\n",
              "      <td>1943</td>\n",
              "      <td>1840</td>\n",
              "      <td>1779</td>\n",
              "      <td>1726</td>\n",
              "      <td>1654</td>\n",
              "      <td>1519</td>\n",
              "      <td>1542</td>\n",
              "      <td>1478</td>\n",
              "      <td>1404</td>\n",
              "      <td>1600</td>\n",
              "      <td>2029</td>\n",
              "      <td>2172</td>\n",
              "      <td>2672</td>\n",
              "      <td>3195</td>\n",
              "      <td>3184</td>\n",
              "      <td>2182</td>\n",
              "      <td>3316</td>\n",
              "      <td>3402</td>\n",
              "      <td>3199</td>\n",
              "      <td>3147</td>\n",
              "      <td>2763</td>\n",
              "      <td>2517</td>\n",
              "      <td>2841</td>\n",
              "      <td>3098</td>\n",
              "      <td>...</td>\n",
              "      <td>427</td>\n",
              "      <td>371</td>\n",
              "      <td>301</td>\n",
              "      <td>226</td>\n",
              "      <td>145</td>\n",
              "      <td>92</td>\n",
              "      <td>128</td>\n",
              "      <td>134</td>\n",
              "      <td>92</td>\n",
              "      <td>85</td>\n",
              "      <td>114</td>\n",
              "      <td>140</td>\n",
              "      <td>149</td>\n",
              "      <td>158</td>\n",
              "      <td>159</td>\n",
              "      <td>166</td>\n",
              "      <td>175</td>\n",
              "      <td>160</td>\n",
              "      <td>151</td>\n",
              "      <td>137</td>\n",
              "      <td>141</td>\n",
              "      <td>133</td>\n",
              "      <td>135</td>\n",
              "      <td>132</td>\n",
              "      <td>143</td>\n",
              "      <td>134</td>\n",
              "      <td>123</td>\n",
              "      <td>133</td>\n",
              "      <td>122</td>\n",
              "      <td>117</td>\n",
              "      <td>109</td>\n",
              "      <td>103</td>\n",
              "      <td>83</td>\n",
              "      <td>93</td>\n",
              "      <td>80</td>\n",
              "      <td>69</td>\n",
              "      <td>59</td>\n",
              "      <td>54</td>\n",
              "      <td>57</td>\n",
              "      <td>0</td>\n",
              "    </tr>\n",
              "    <tr>\n",
              "      <th>2</th>\n",
              "      <td>4100</td>\n",
              "      <td>3923</td>\n",
              "      <td>3615</td>\n",
              "      <td>3451</td>\n",
              "      <td>2941</td>\n",
              "      <td>2886</td>\n",
              "      <td>2850</td>\n",
              "      <td>2581</td>\n",
              "      <td>2628</td>\n",
              "      <td>2616</td>\n",
              "      <td>2607</td>\n",
              "      <td>2479</td>\n",
              "      <td>2359</td>\n",
              "      <td>2118</td>\n",
              "      <td>2099</td>\n",
              "      <td>1946</td>\n",
              "      <td>1971</td>\n",
              "      <td>1885</td>\n",
              "      <td>1743</td>\n",
              "      <td>1774</td>\n",
              "      <td>1680</td>\n",
              "      <td>1566</td>\n",
              "      <td>1534</td>\n",
              "      <td>1494</td>\n",
              "      <td>1375</td>\n",
              "      <td>1603</td>\n",
              "      <td>2152</td>\n",
              "      <td>2277</td>\n",
              "      <td>2870</td>\n",
              "      <td>3474</td>\n",
              "      <td>3502</td>\n",
              "      <td>2441</td>\n",
              "      <td>3612</td>\n",
              "      <td>3677</td>\n",
              "      <td>3489</td>\n",
              "      <td>3410</td>\n",
              "      <td>2991</td>\n",
              "      <td>2866</td>\n",
              "      <td>3101</td>\n",
              "      <td>3280</td>\n",
              "      <td>...</td>\n",
              "      <td>365</td>\n",
              "      <td>324</td>\n",
              "      <td>270</td>\n",
              "      <td>199</td>\n",
              "      <td>131</td>\n",
              "      <td>70</td>\n",
              "      <td>95</td>\n",
              "      <td>101</td>\n",
              "      <td>76</td>\n",
              "      <td>75</td>\n",
              "      <td>98</td>\n",
              "      <td>105</td>\n",
              "      <td>124</td>\n",
              "      <td>134</td>\n",
              "      <td>138</td>\n",
              "      <td>135</td>\n",
              "      <td>140</td>\n",
              "      <td>123</td>\n",
              "      <td>118</td>\n",
              "      <td>111</td>\n",
              "      <td>112</td>\n",
              "      <td>123</td>\n",
              "      <td>119</td>\n",
              "      <td>110</td>\n",
              "      <td>114</td>\n",
              "      <td>103</td>\n",
              "      <td>95</td>\n",
              "      <td>107</td>\n",
              "      <td>98</td>\n",
              "      <td>113</td>\n",
              "      <td>102</td>\n",
              "      <td>85</td>\n",
              "      <td>67</td>\n",
              "      <td>89</td>\n",
              "      <td>79</td>\n",
              "      <td>55</td>\n",
              "      <td>52</td>\n",
              "      <td>51</td>\n",
              "      <td>56</td>\n",
              "      <td>0</td>\n",
              "    </tr>\n",
              "    <tr>\n",
              "      <th>3</th>\n",
              "      <td>3908</td>\n",
              "      <td>3889</td>\n",
              "      <td>3594</td>\n",
              "      <td>3343</td>\n",
              "      <td>2975</td>\n",
              "      <td>2813</td>\n",
              "      <td>2665</td>\n",
              "      <td>2445</td>\n",
              "      <td>2532</td>\n",
              "      <td>2489</td>\n",
              "      <td>2423</td>\n",
              "      <td>2328</td>\n",
              "      <td>2209</td>\n",
              "      <td>2039</td>\n",
              "      <td>1944</td>\n",
              "      <td>1871</td>\n",
              "      <td>1850</td>\n",
              "      <td>1700</td>\n",
              "      <td>1616</td>\n",
              "      <td>1564</td>\n",
              "      <td>1493</td>\n",
              "      <td>1398</td>\n",
              "      <td>1356</td>\n",
              "      <td>1345</td>\n",
              "      <td>1271</td>\n",
              "      <td>1463</td>\n",
              "      <td>2046</td>\n",
              "      <td>2243</td>\n",
              "      <td>2939</td>\n",
              "      <td>3522</td>\n",
              "      <td>3582</td>\n",
              "      <td>2506</td>\n",
              "      <td>3674</td>\n",
              "      <td>3793</td>\n",
              "      <td>3590</td>\n",
              "      <td>3536</td>\n",
              "      <td>3125</td>\n",
              "      <td>2942</td>\n",
              "      <td>3194</td>\n",
              "      <td>3397</td>\n",
              "      <td>...</td>\n",
              "      <td>370</td>\n",
              "      <td>324</td>\n",
              "      <td>263</td>\n",
              "      <td>200</td>\n",
              "      <td>143</td>\n",
              "      <td>68</td>\n",
              "      <td>100</td>\n",
              "      <td>103</td>\n",
              "      <td>85</td>\n",
              "      <td>74</td>\n",
              "      <td>86</td>\n",
              "      <td>111</td>\n",
              "      <td>126</td>\n",
              "      <td>139</td>\n",
              "      <td>147</td>\n",
              "      <td>125</td>\n",
              "      <td>121</td>\n",
              "      <td>125</td>\n",
              "      <td>120</td>\n",
              "      <td>106</td>\n",
              "      <td>116</td>\n",
              "      <td>117</td>\n",
              "      <td>106</td>\n",
              "      <td>110</td>\n",
              "      <td>118</td>\n",
              "      <td>109</td>\n",
              "      <td>107</td>\n",
              "      <td>106</td>\n",
              "      <td>108</td>\n",
              "      <td>103</td>\n",
              "      <td>94</td>\n",
              "      <td>75</td>\n",
              "      <td>61</td>\n",
              "      <td>73</td>\n",
              "      <td>64</td>\n",
              "      <td>50</td>\n",
              "      <td>57</td>\n",
              "      <td>48</td>\n",
              "      <td>45</td>\n",
              "      <td>0</td>\n",
              "    </tr>\n",
              "    <tr>\n",
              "      <th>4</th>\n",
              "      <td>4007</td>\n",
              "      <td>3926</td>\n",
              "      <td>3767</td>\n",
              "      <td>3445</td>\n",
              "      <td>3038</td>\n",
              "      <td>2945</td>\n",
              "      <td>2914</td>\n",
              "      <td>2588</td>\n",
              "      <td>2616</td>\n",
              "      <td>2624</td>\n",
              "      <td>2608</td>\n",
              "      <td>2509</td>\n",
              "      <td>2347</td>\n",
              "      <td>2176</td>\n",
              "      <td>2099</td>\n",
              "      <td>2002</td>\n",
              "      <td>1982</td>\n",
              "      <td>1889</td>\n",
              "      <td>1775</td>\n",
              "      <td>1687</td>\n",
              "      <td>1705</td>\n",
              "      <td>1531</td>\n",
              "      <td>1530</td>\n",
              "      <td>1454</td>\n",
              "      <td>1450</td>\n",
              "      <td>1631</td>\n",
              "      <td>2222</td>\n",
              "      <td>2426</td>\n",
              "      <td>3174</td>\n",
              "      <td>3859</td>\n",
              "      <td>3855</td>\n",
              "      <td>2711</td>\n",
              "      <td>4073</td>\n",
              "      <td>4139</td>\n",
              "      <td>3992</td>\n",
              "      <td>3948</td>\n",
              "      <td>3447</td>\n",
              "      <td>3264</td>\n",
              "      <td>3517</td>\n",
              "      <td>3747</td>\n",
              "      <td>...</td>\n",
              "      <td>380</td>\n",
              "      <td>327</td>\n",
              "      <td>259</td>\n",
              "      <td>198</td>\n",
              "      <td>142</td>\n",
              "      <td>67</td>\n",
              "      <td>102</td>\n",
              "      <td>116</td>\n",
              "      <td>94</td>\n",
              "      <td>68</td>\n",
              "      <td>82</td>\n",
              "      <td>116</td>\n",
              "      <td>127</td>\n",
              "      <td>147</td>\n",
              "      <td>154</td>\n",
              "      <td>118</td>\n",
              "      <td>106</td>\n",
              "      <td>122</td>\n",
              "      <td>120</td>\n",
              "      <td>106</td>\n",
              "      <td>119</td>\n",
              "      <td>106</td>\n",
              "      <td>97</td>\n",
              "      <td>112</td>\n",
              "      <td>119</td>\n",
              "      <td>122</td>\n",
              "      <td>119</td>\n",
              "      <td>113</td>\n",
              "      <td>111</td>\n",
              "      <td>94</td>\n",
              "      <td>88</td>\n",
              "      <td>63</td>\n",
              "      <td>57</td>\n",
              "      <td>62</td>\n",
              "      <td>51</td>\n",
              "      <td>49</td>\n",
              "      <td>56</td>\n",
              "      <td>42</td>\n",
              "      <td>41</td>\n",
              "      <td>0</td>\n",
              "    </tr>\n",
              "  </tbody>\n",
              "</table>\n",
              "<p>5 rows × 146 columns</p>\n",
              "</div>"
            ],
            "text/plain": [
              "    0     1     2     3     4     5     6    ...  139  140  141  142  143  144  145\n",
              "0  3996  3952  3698  3457  3063  2914  2796  ...   89   77   73   60   53   54    0\n",
              "1  3996  3952  3698  3457  3063  2914  2796  ...   93   80   69   59   54   57    0\n",
              "2  4100  3923  3615  3451  2941  2886  2850  ...   89   79   55   52   51   56    0\n",
              "3  3908  3889  3594  3343  2975  2813  2665  ...   73   64   50   57   48   45    0\n",
              "4  4007  3926  3767  3445  3038  2945  2914  ...   62   51   49   56   42   41    0\n",
              "\n",
              "[5 rows x 146 columns]"
            ]
          },
          "metadata": {
            "tags": []
          },
          "execution_count": 9
        }
      ]
    },
    {
      "cell_type": "markdown",
      "metadata": {
        "id": "OLWjsfqaLZs0",
        "colab_type": "text"
      },
      "source": [
        "## Droping the rows if ground truth value is zero"
      ]
    },
    {
      "cell_type": "code",
      "metadata": {
        "id": "OlyctDjwLYkb",
        "colab_type": "code",
        "outputId": "4b9b7711-683c-45ae-9339-f0d43aa03a58",
        "colab": {
          "base_uri": "https://localhost:8080/",
          "height": 34
        }
      },
      "source": [
        "print(\"Percentage of column which will be droped\",(data.size - data[data.iloc[:, -1] == 0].size)/data.size,\"%\")"
      ],
      "execution_count": 10,
      "outputs": [
        {
          "output_type": "stream",
          "text": [
            "Percentage of column which will be droped 0.008595867208672087 %\n"
          ],
          "name": "stdout"
        }
      ]
    },
    {
      "cell_type": "code",
      "metadata": {
        "id": "_tJ0vUTCLhZx",
        "colab_type": "code",
        "colab": {}
      },
      "source": [
        "zero_data = data.index[data.iloc[:, -1] == 0].tolist()\n",
        "data = data[data.iloc[:, -1] != 0]"
      ],
      "execution_count": 0,
      "outputs": []
    },
    {
      "cell_type": "markdown",
      "metadata": {
        "id": "kE5Gc8BTLiAN",
        "colab_type": "text"
      },
      "source": [
        "# Spliting the data into feature and target"
      ]
    },
    {
      "cell_type": "code",
      "metadata": {
        "id": "FJ4dCIbILrwg",
        "colab_type": "code",
        "colab": {}
      },
      "source": [
        "X = data.iloc[:, :-1]\n",
        "y = data.iloc[:,-1]"
      ],
      "execution_count": 0,
      "outputs": []
    },
    {
      "cell_type": "code",
      "metadata": {
        "id": "fBvQ4xnt6tQD",
        "colab_type": "code",
        "colab": {}
      },
      "source": [
        "number_of_classes = len(np.unique(y))"
      ],
      "execution_count": 0,
      "outputs": []
    },
    {
      "cell_type": "markdown",
      "metadata": {
        "id": "CHPv8SimL1Iu",
        "colab_type": "text"
      },
      "source": [
        "# Feature Selection"
      ]
    },
    {
      "cell_type": "code",
      "metadata": {
        "id": "6aMaE8k8L0VV",
        "colab_type": "code",
        "colab": {}
      },
      "source": [
        "from sklearn.feature_selection import SelectKBest\n",
        "from sklearn.feature_selection import chi2, f_classif, mutual_info_classif\n",
        "\n",
        "X = SelectKBest(f_classif, k=int((image.shape[2]+1)*0.75)).fit_transform(X, y)"
      ],
      "execution_count": 0,
      "outputs": []
    },
    {
      "cell_type": "markdown",
      "metadata": {
        "id": "nCO0t_-J0G6J",
        "colab_type": "text"
      },
      "source": [
        "# Feature Extraction \n"
      ]
    },
    {
      "cell_type": "code",
      "metadata": {
        "id": "NIjIpV160KKZ",
        "colab_type": "code",
        "colab": {}
      },
      "source": [
        "# from sklearn.decomposition import PCA \n",
        "\n",
        "# pca = PCA(n_components = int((image.shape[2]+1)*0.75))\n",
        "# X = pca.fit_transform(X)"
      ],
      "execution_count": 0,
      "outputs": []
    },
    {
      "cell_type": "markdown",
      "metadata": {
        "id": "fijfR_5DL9IK",
        "colab_type": "text"
      },
      "source": [
        "# OneHotEncoding in target column"
      ]
    },
    {
      "cell_type": "code",
      "metadata": {
        "id": "_QoUCdAwMBAD",
        "colab_type": "code",
        "colab": {}
      },
      "source": [
        "onehotencoder = OneHotEncoder() \n",
        "y = onehotencoder.fit_transform(np.array(y).reshape(-1,1)).toarray() "
      ],
      "execution_count": 0,
      "outputs": []
    },
    {
      "cell_type": "markdown",
      "metadata": {
        "id": "IlNWTtSVMEjl",
        "colab_type": "text"
      },
      "source": [
        "# Standardizing the feature columna"
      ]
    },
    {
      "cell_type": "code",
      "metadata": {
        "id": "PPshPrqEMJvm",
        "colab_type": "code",
        "colab": {}
      },
      "source": [
        "X = preprocessing.scale(X)"
      ],
      "execution_count": 0,
      "outputs": []
    },
    {
      "cell_type": "markdown",
      "metadata": {
        "id": "DRtV7aDDqr5a",
        "colab_type": "text"
      },
      "source": [
        "# Spliting the data into training and testing set "
      ]
    },
    {
      "cell_type": "code",
      "metadata": {
        "id": "DattLTVzqr5b",
        "colab_type": "code",
        "colab": {}
      },
      "source": [
        "X_train, X_test, y_train, y_test = train_test_split(X, y, test_size=0.60, random_state=1)#0.25 0.15"
      ],
      "execution_count": 0,
      "outputs": []
    },
    {
      "cell_type": "code",
      "metadata": {
        "id": "2OngDFGdDdPx",
        "colab_type": "code",
        "colab": {}
      },
      "source": [
        "number = int(X_test.shape[0]/2)\n",
        "\n",
        "xx_test = X_test[:number, :]\n",
        "xx_val = X_test[number:, :]\n",
        "\n",
        "if len(y_test.shape) > 1:\n",
        "  loss = keras.losses.categorical_crossentropy\n",
        "  metrics=['accuracy']\n",
        "  yy_test = y_test[:number, :]\n",
        "  yy_val = y_test[number:, :]\n",
        "else:\n",
        "  loss = keras.losses.sparse_categorical_crossentropy\n",
        "  metrics=['sparse_categorical_accuracy']\n",
        "  y_test = [x - 1 for x in y_test]\n",
        "  y_train = [x - 1 for x in y_train]\n",
        "  yy_test = y_test[:number]\n",
        "  yy_val = y_test[number:]"
      ],
      "execution_count": 0,
      "outputs": []
    },
    {
      "cell_type": "code",
      "metadata": {
        "id": "9M33_KnJNu7n",
        "colab_type": "code",
        "colab": {}
      },
      "source": [
        "from keras import backend as K\n",
        "feature = X.shape[1]\n",
        "\n",
        "if K.image_data_format() == 'channels_first':\n",
        "    X = X.reshape(X.shape[0], 1, feature)\n",
        "    X_train = X_train.reshape(X_train.shape[0], 1, feature)\n",
        "    xx_test = xx_test.reshape(xx_test.shape[0], 1, feature)\n",
        "    xx_val = xx_val.reshape(xx_val.shape[0], 1, feature)\n",
        "    input_shape = (1, feature)\n",
        "else:\n",
        "    X = X.reshape(X.shape[0], feature, 1)\n",
        "    X_train = X_train.reshape(X_train.shape[0], feature, 1)\n",
        "    xx_test = xx_test.reshape(xx_test.shape[0], feature, 1)\n",
        "    xx_val = xx_val.reshape(xx_val.shape[0], feature, 1)\n",
        "    input_shape = (feature, 1)"
      ],
      "execution_count": 0,
      "outputs": []
    },
    {
      "cell_type": "markdown",
      "metadata": {
        "id": "MQLkUnZ_YsYO",
        "colab_type": "text"
      },
      "source": [
        "# Genetic Algorithm"
      ]
    },
    {
      "cell_type": "code",
      "metadata": {
        "id": "1-9MDtAugFbk",
        "colab_type": "code",
        "outputId": "2024bf07-dd9e-4c6f-db8a-5d36e2fe0e2f",
        "colab": {
          "base_uri": "https://localhost:8080/",
          "height": 51
        }
      },
      "source": [
        "!pip install pyeasyga"
      ],
      "execution_count": 21,
      "outputs": [
        {
          "output_type": "stream",
          "text": [
            "Requirement already satisfied: pyeasyga in /usr/local/lib/python3.6/dist-packages (0.3.1)\n",
            "Requirement already satisfied: six in /usr/local/lib/python3.6/dist-packages (from pyeasyga) (1.12.0)\n"
          ],
          "name": "stdout"
        }
      ]
    },
    {
      "cell_type": "code",
      "metadata": {
        "id": "QlapBK49M2QU",
        "colab_type": "code",
        "colab": {}
      },
      "source": [
        "from keras.models import Sequential\n",
        "from keras.layers import Dense, Dropout, Flatten, Conv1D, MaxPooling1D, BatchNormalization"
      ],
      "execution_count": 0,
      "outputs": []
    },
    {
      "cell_type": "code",
      "metadata": {
        "id": "3bAr5dYIYrxF",
        "colab_type": "code",
        "colab": {}
      },
      "source": [
        "# from pyeasyga import pyeasyga\n",
        "# import random\n",
        "# import numpy as np\n",
        "# from sklearn.metrics import accuracy_score\n",
        "# import keras\n",
        "# import time\n",
        "\n",
        "# count = 1\n",
        "\n",
        "# def initilialize_population():\n",
        "#     filter_1 = list(x for x in range(1, 11))\n",
        "#     filter_2 = list(x for x in range(11, 31))\n",
        "#     filter_3 = list(x for x in range(31, 61))\n",
        "#     filter_4 = list(x for x in range(61, 101))\n",
        "\n",
        "#     kernel_size_1 = [2,3]\n",
        "#     kernel_size_2 = [2,3]\n",
        "#     kernel_size_3 = [2,3]\n",
        "#     kernel_size_4 = [2,3]\n",
        "\n",
        "\n",
        "#     population = []\n",
        "#     population.append(filter_1)\n",
        "#     population.append(filter_2)\n",
        "#     population.append(filter_3)\n",
        "#     population.append(filter_4)\n",
        "#     population.append(kernel_size_1)\n",
        "#     population.append(kernel_size_2)\n",
        "#     population.append(kernel_size_3)\n",
        "#     population.append(kernel_size_4)\n",
        "\n",
        "#     return list(population)\n",
        "\n",
        "# def create_individual(data):\n",
        "#   choice = []\n",
        "#   for i in range(len(data)):\n",
        "#     choice.append(random.choice(list(range(len(data[i])))))\n",
        "#   return choice\n",
        "\n",
        "# def fitness_function(individual, data):\n",
        "#   global count\n",
        "#   print('Individual no', count)\n",
        "#   count += 1\n",
        "#   model = Sequential()\n",
        "#   model.add(Conv1D(filters=data[0][individual[0]], kernel_size=data[4][individual[4]], activation='relu', input_shape=input_shape))\n",
        "#   model.add(Conv1D(filters=data[0][individual[0]], kernel_size=data[4][individual[4]], activation='relu', input_shape=input_shape))\n",
        "#   model.add(BatchNormalization())\n",
        "#   model.add(MaxPooling1D(pool_size=2))\n",
        "#   model.add(Conv1D(filters=data[1][individual[1]], kernel_size=data[5][individual[5]], activation='relu'))\n",
        "#   model.add(Conv1D(filters=data[1][individual[1]], kernel_size=data[5][individual[5]], activation='relu'))\n",
        "#   model.add(BatchNormalization())\n",
        "#   model.add(MaxPooling1D(pool_size=2))\n",
        "#   model.add(Conv1D(filters=data[2][individual[2]], kernel_size=data[6][individual[6]], activation='relu'))\n",
        "#   model.add(Conv1D(filters=data[2][individual[2]], kernel_size=data[6][individual[6]], activation='relu'))\n",
        "#   model.add(BatchNormalization())\n",
        "#   model.add(MaxPooling1D(pool_size=2))\n",
        "#   model.add(Conv1D(filters=data[3][individual[3]], kernel_size=data[7][individual[7]], activation='relu'))\n",
        "#   model.add(Conv1D(filters=data[3][individual[3]], kernel_size=data[7][individual[7]], activation='relu'))\n",
        "#   model.add(BatchNormalization())\n",
        "#   model.add(MaxPooling1D(pool_size=2))\n",
        "#   model.add(Dropout(0.25))\n",
        "#   model.add(Flatten())\n",
        "#   model.add(Dense(64, activation='relu'))\n",
        "#   model.add(BatchNormalization())\n",
        "#   model.add(Dropout(0.25))\n",
        "#   model.add(Dense(32, activation='relu'))\n",
        "#   model.add(BatchNormalization())\n",
        "#   model.add(Dropout(0.25))\n",
        "#   model.add(Dense(16, activation='relu'))\n",
        "#   model.add(BatchNormalization())\n",
        "#   model.add(Dropout(0.25))\n",
        "#   model.add(Dense(number_of_classes, activation='softmax'))\n",
        "\n",
        "#   model.compile(loss=loss,\n",
        "#                 optimizer=keras.optimizers.Adadelta(),\n",
        "#                 metrics=metrics)\n",
        "\n",
        "#   model.fit(X_train, np.array(y_train),\n",
        "#             batch_size=128,\n",
        "#             epochs=25,\n",
        "#             verbose=1,\n",
        "#             validation_data=(xx_val,np.array(yy_val)))\n",
        "\n",
        "\n",
        "#   score = model.evaluate(xx_test, np.array(yy_test), verbose=1)[1]\n",
        "#   # prediction = model.predict(X_test)\n",
        "#   # score = accuracy_score(y_test, prediction)\n",
        "#   print('Score is', score)\n",
        "#   return score\n",
        "  \n",
        "# data = initilialize_population()\n",
        "# ga = pyeasyga.GeneticAlgorithm(seed_data=data,\n",
        "#                                population_size=5,\n",
        "#                                generations=5,\n",
        "#                                crossover_probability=0.8,\n",
        "#                                mutation_probability=0.4,\n",
        "#                                elitism=True,\n",
        "#                                maximise_fitness=True)\n",
        "# ga.create_individual = create_individual\n",
        "# ga.fitness_function = fitness_function\n",
        "\n",
        "# start = time.time()\n",
        "# ga.run()\n",
        "# end = time.time()\n",
        "# print('Time taken ------>', end-start)"
      ],
      "execution_count": 0,
      "outputs": []
    },
    {
      "cell_type": "code",
      "metadata": {
        "id": "MU62XsCXnOj4",
        "colab_type": "code",
        "colab": {}
      },
      "source": [
        "# best_parameters = ga.best_individual()[1]\n",
        "# for index,i in enumerate(data):\n",
        "#   print(i[best_parameters[index]])\n",
        "\n",
        "# print(ga.best_individual()[0])"
      ],
      "execution_count": 0,
      "outputs": []
    },
    {
      "cell_type": "markdown",
      "metadata": {
        "id": "TXoVZ9ibM34E",
        "colab_type": "text"
      },
      "source": [
        "# Building CNN Model\n"
      ]
    },
    {
      "cell_type": "code",
      "metadata": {
        "id": "AT7KyTCKM-27",
        "colab_type": "code",
        "colab": {}
      },
      "source": [
        "# model = Sequential()\n",
        "# model.add(Conv1D(filters=data[0][best_parameters[0]], kernel_size=data[4][best_parameters[4]], activation='relu', input_shape=input_shape))\n",
        "# model.add(Conv1D(filters=data[0][best_parameters[0]], kernel_size=data[4][best_parameters[4]], activation='relu', input_shape=input_shape))\n",
        "# model.add(BatchNormalization())\n",
        "# model.add(MaxPooling1D(pool_size=2))\n",
        "# model.add(Conv1D(filters=data[1][best_parameters[1]], kernel_size=data[5][best_parameters[5]], activation='relu'))\n",
        "# model.add(Conv1D(filters=data[1][best_parameters[1]], kernel_size=data[5][best_parameters[5]], activation='relu'))\n",
        "# model.add(BatchNormalization())\n",
        "# model.add(MaxPooling1D(pool_size=2))\n",
        "# model.add(Conv1D(filters=data[2][best_parameters[2]], kernel_size=data[5][best_parameters[5]], activation='relu'))\n",
        "# model.add(Conv1D(filters=data[2][best_parameters[2]], kernel_size=data[5][best_parameters[5]], activation='relu'))\n",
        "# model.add(BatchNormalization())\n",
        "# model.add(MaxPooling1D(pool_size=2))\n",
        "# model.add(Conv1D(filters=data[3][best_parameters[3]], kernel_size=data[6][best_parameters[6]], activation='relu'))\n",
        "# model.add(Conv1D(filters=data[3][best_parameters[3]], kernel_size=data[6][best_parameters[6]], activation='relu'))\n",
        "# model.add(BatchNormalization())\n",
        "# model.add(MaxPooling1D(pool_size=2))\n",
        "# model.add(Dropout(0.25))\n",
        "# model.add(Flatten())\n",
        "# model.add(Dense(64, activation='relu'))\n",
        "# model.add(BatchNormalization())\n",
        "# model.add(Dropout(0.25))\n",
        "# model.add(Dense(32, activation='relu'))\n",
        "# model.add(BatchNormalization())\n",
        "# model.add(Dropout(0.25))\n",
        "# model.add(Dense(16, activation='relu'))\n",
        "# model.add(BatchNormalization())\n",
        "# model.add(Dropout(0.25))\n",
        "# model.add(Dense(number_of_classes, activation='softmax'))\n",
        "# model.summary()"
      ],
      "execution_count": 0,
      "outputs": []
    },
    {
      "cell_type": "code",
      "metadata": {
        "id": "4nHrv5P4EPUi",
        "colab_type": "code",
        "outputId": "0dbe7fb0-828e-41c9-a59b-a0638e5ab1ea",
        "colab": {
          "base_uri": "https://localhost:8080/",
          "height": 1000
        }
      },
      "source": [
        "model = Sequential()\n",
        "model.add(Conv1D(filters=8, kernel_size=3, activation='relu', input_shape=input_shape))\n",
        "model.add(Conv1D(filters=8, kernel_size=3, activation='relu', input_shape=input_shape))\n",
        "model.add(BatchNormalization())\n",
        "model.add(MaxPooling1D(pool_size=2))\n",
        "model.add(Conv1D(filters=16, kernel_size=3, activation='relu'))\n",
        "model.add(Conv1D(filters=16, kernel_size=3, activation='relu'))\n",
        "model.add(BatchNormalization())\n",
        "model.add(MaxPooling1D(pool_size=2))\n",
        "model.add(Conv1D(filters=32, kernel_size=3, activation='relu'))\n",
        "model.add(Conv1D(filters=32, kernel_size=3, activation='relu'))\n",
        "model.add(BatchNormalization())\n",
        "model.add(MaxPooling1D(pool_size=2))\n",
        "model.add(Conv1D(filters=64, kernel_size=3, activation='relu'))\n",
        "model.add(Conv1D(filters=64, kernel_size=3, activation='relu'))\n",
        "model.add(BatchNormalization())\n",
        "model.add(MaxPooling1D(pool_size=2))\n",
        "model.add(Dropout(0.25))\n",
        "model.add(Flatten())\n",
        "model.add(Dense(64, activation='relu'))\n",
        "model.add(BatchNormalization())\n",
        "model.add(Dropout(0.25))\n",
        "model.add(Dense(32, activation='relu'))\n",
        "model.add(BatchNormalization())\n",
        "model.add(Dropout(0.25))\n",
        "model.add(Dense(16, activation='relu'))\n",
        "model.add(BatchNormalization())\n",
        "model.add(Dropout(0.25))\n",
        "model.add(Dense(number_of_classes, activation='softmax'))\n",
        "model.summary()"
      ],
      "execution_count": 26,
      "outputs": [
        {
          "output_type": "stream",
          "text": [
            "Model: \"sequential_1\"\n",
            "_________________________________________________________________\n",
            "Layer (type)                 Output Shape              Param #   \n",
            "=================================================================\n",
            "conv1d_1 (Conv1D)            (None, 107, 8)            32        \n",
            "_________________________________________________________________\n",
            "conv1d_2 (Conv1D)            (None, 105, 8)            200       \n",
            "_________________________________________________________________\n",
            "batch_normalization_1 (Batch (None, 105, 8)            32        \n",
            "_________________________________________________________________\n",
            "max_pooling1d_1 (MaxPooling1 (None, 52, 8)             0         \n",
            "_________________________________________________________________\n",
            "conv1d_3 (Conv1D)            (None, 50, 16)            400       \n",
            "_________________________________________________________________\n",
            "conv1d_4 (Conv1D)            (None, 48, 16)            784       \n",
            "_________________________________________________________________\n",
            "batch_normalization_2 (Batch (None, 48, 16)            64        \n",
            "_________________________________________________________________\n",
            "max_pooling1d_2 (MaxPooling1 (None, 24, 16)            0         \n",
            "_________________________________________________________________\n",
            "conv1d_5 (Conv1D)            (None, 22, 32)            1568      \n",
            "_________________________________________________________________\n",
            "conv1d_6 (Conv1D)            (None, 20, 32)            3104      \n",
            "_________________________________________________________________\n",
            "batch_normalization_3 (Batch (None, 20, 32)            128       \n",
            "_________________________________________________________________\n",
            "max_pooling1d_3 (MaxPooling1 (None, 10, 32)            0         \n",
            "_________________________________________________________________\n",
            "conv1d_7 (Conv1D)            (None, 8, 64)             6208      \n",
            "_________________________________________________________________\n",
            "conv1d_8 (Conv1D)            (None, 6, 64)             12352     \n",
            "_________________________________________________________________\n",
            "batch_normalization_4 (Batch (None, 6, 64)             256       \n",
            "_________________________________________________________________\n",
            "max_pooling1d_4 (MaxPooling1 (None, 3, 64)             0         \n",
            "_________________________________________________________________\n",
            "dropout_1 (Dropout)          (None, 3, 64)             0         \n",
            "_________________________________________________________________\n",
            "flatten_1 (Flatten)          (None, 192)               0         \n",
            "_________________________________________________________________\n",
            "dense_1 (Dense)              (None, 64)                12352     \n",
            "_________________________________________________________________\n",
            "batch_normalization_5 (Batch (None, 64)                256       \n",
            "_________________________________________________________________\n",
            "dropout_2 (Dropout)          (None, 64)                0         \n",
            "_________________________________________________________________\n",
            "dense_2 (Dense)              (None, 32)                2080      \n",
            "_________________________________________________________________\n",
            "batch_normalization_6 (Batch (None, 32)                128       \n",
            "_________________________________________________________________\n",
            "dropout_3 (Dropout)          (None, 32)                0         \n",
            "_________________________________________________________________\n",
            "dense_3 (Dense)              (None, 16)                528       \n",
            "_________________________________________________________________\n",
            "batch_normalization_7 (Batch (None, 16)                64        \n",
            "_________________________________________________________________\n",
            "dropout_4 (Dropout)          (None, 16)                0         \n",
            "_________________________________________________________________\n",
            "dense_4 (Dense)              (None, 14)                238       \n",
            "=================================================================\n",
            "Total params: 40,774\n",
            "Trainable params: 40,310\n",
            "Non-trainable params: 464\n",
            "_________________________________________________________________\n"
          ],
          "name": "stdout"
        }
      ]
    },
    {
      "cell_type": "code",
      "metadata": {
        "id": "P5kxIOUabfGo",
        "colab_type": "code",
        "colab": {}
      },
      "source": [
        "# for i in model.layers:\n",
        "#   name = i.output.name.split('/')[0].split('_')\n",
        "#   if len(name) > 2:\n",
        "#     name = name[0] + '_' + name[1]\n",
        "#   else:\n",
        "#     name = name[0]\n",
        "#   print(name, i.output.shape)\n",
        "#   print('_________________________________________________')"
      ],
      "execution_count": 0,
      "outputs": []
    },
    {
      "cell_type": "code",
      "metadata": {
        "id": "3-VSlVynNBID",
        "colab_type": "code",
        "outputId": "19e9d8f5-8c04-4da5-ab3a-0e2108365f08",
        "colab": {
          "base_uri": "https://localhost:8080/",
          "height": 1000
        }
      },
      "source": [
        "import keras\n",
        "model.compile(loss=loss,\n",
        "              optimizer=keras.optimizers.Adadelta(),\n",
        "              metrics=metrics)\n",
        "\n",
        "model.fit(X_train, np.array(y_train),\n",
        "          batch_size=128,\n",
        "          epochs=100,\n",
        "          verbose=1,\n",
        "          validation_data=(xx_val, np.array(yy_val)))"
      ],
      "execution_count": 28,
      "outputs": [
        {
          "output_type": "stream",
          "text": [
            "Train on 1299 samples, validate on 975 samples\n",
            "Epoch 1/100\n",
            "1299/1299 [==============================] - 2s 1ms/step - loss: 2.8450 - accuracy: 0.1193 - val_loss: 2.6259 - val_accuracy: 0.1323\n",
            "Epoch 2/100\n",
            "1299/1299 [==============================] - 0s 357us/step - loss: 2.2812 - accuracy: 0.2679 - val_loss: 2.6179 - val_accuracy: 0.0985\n",
            "Epoch 3/100\n",
            "1299/1299 [==============================] - 0s 353us/step - loss: 2.0984 - accuracy: 0.3233 - val_loss: 2.6102 - val_accuracy: 0.0913\n",
            "Epoch 4/100\n",
            "1299/1299 [==============================] - 0s 366us/step - loss: 1.8463 - accuracy: 0.4288 - val_loss: 2.6017 - val_accuracy: 0.0985\n",
            "Epoch 5/100\n",
            "1299/1299 [==============================] - 0s 357us/step - loss: 1.7627 - accuracy: 0.4473 - val_loss: 2.5884 - val_accuracy: 0.0985\n",
            "Epoch 6/100\n",
            "1299/1299 [==============================] - 0s 349us/step - loss: 1.6855 - accuracy: 0.4758 - val_loss: 2.5826 - val_accuracy: 0.0985\n",
            "Epoch 7/100\n",
            "1299/1299 [==============================] - 0s 368us/step - loss: 1.5466 - accuracy: 0.5381 - val_loss: 2.5581 - val_accuracy: 0.0985\n",
            "Epoch 8/100\n",
            "1299/1299 [==============================] - 0s 359us/step - loss: 1.5351 - accuracy: 0.5450 - val_loss: 2.5453 - val_accuracy: 0.0872\n",
            "Epoch 9/100\n",
            "1299/1299 [==============================] - 0s 356us/step - loss: 1.4791 - accuracy: 0.5404 - val_loss: 2.5238 - val_accuracy: 0.0862\n",
            "Epoch 10/100\n",
            "1299/1299 [==============================] - 0s 345us/step - loss: 1.4328 - accuracy: 0.5720 - val_loss: 2.5111 - val_accuracy: 0.0903\n",
            "Epoch 11/100\n",
            "1299/1299 [==============================] - 0s 359us/step - loss: 1.3780 - accuracy: 0.5935 - val_loss: 2.4929 - val_accuracy: 0.1077\n",
            "Epoch 12/100\n",
            "1299/1299 [==============================] - 0s 348us/step - loss: 1.3757 - accuracy: 0.5858 - val_loss: 2.4843 - val_accuracy: 0.1446\n",
            "Epoch 13/100\n",
            "1299/1299 [==============================] - 0s 362us/step - loss: 1.2774 - accuracy: 0.6320 - val_loss: 2.4809 - val_accuracy: 0.1385\n",
            "Epoch 14/100\n",
            "1299/1299 [==============================] - 0s 358us/step - loss: 1.2235 - accuracy: 0.6490 - val_loss: 2.4428 - val_accuracy: 0.1497\n",
            "Epoch 15/100\n",
            "1299/1299 [==============================] - 0s 358us/step - loss: 1.1630 - accuracy: 0.6436 - val_loss: 2.4513 - val_accuracy: 0.1600\n",
            "Epoch 16/100\n",
            "1299/1299 [==============================] - 0s 356us/step - loss: 1.1839 - accuracy: 0.6528 - val_loss: 2.5048 - val_accuracy: 0.1621\n",
            "Epoch 17/100\n",
            "1299/1299 [==============================] - 0s 353us/step - loss: 1.1163 - accuracy: 0.6674 - val_loss: 2.5055 - val_accuracy: 0.1990\n",
            "Epoch 18/100\n",
            "1299/1299 [==============================] - 0s 366us/step - loss: 1.1180 - accuracy: 0.6736 - val_loss: 2.3762 - val_accuracy: 0.2113\n",
            "Epoch 19/100\n",
            "1299/1299 [==============================] - 0s 349us/step - loss: 1.0654 - accuracy: 0.6875 - val_loss: 2.3308 - val_accuracy: 0.1969\n",
            "Epoch 20/100\n",
            "1299/1299 [==============================] - 0s 354us/step - loss: 1.0672 - accuracy: 0.6828 - val_loss: 2.3798 - val_accuracy: 0.2226\n",
            "Epoch 21/100\n",
            "1299/1299 [==============================] - 0s 356us/step - loss: 1.0267 - accuracy: 0.6952 - val_loss: 2.3067 - val_accuracy: 0.2287\n",
            "Epoch 22/100\n",
            "1299/1299 [==============================] - 0s 352us/step - loss: 0.9823 - accuracy: 0.7052 - val_loss: 2.1649 - val_accuracy: 0.2779\n",
            "Epoch 23/100\n",
            "1299/1299 [==============================] - 0s 345us/step - loss: 0.9769 - accuracy: 0.7144 - val_loss: 2.1536 - val_accuracy: 0.3395\n",
            "Epoch 24/100\n",
            "1299/1299 [==============================] - 0s 350us/step - loss: 0.9552 - accuracy: 0.7144 - val_loss: 2.0555 - val_accuracy: 0.3692\n",
            "Epoch 25/100\n",
            "1299/1299 [==============================] - 0s 344us/step - loss: 0.9108 - accuracy: 0.7275 - val_loss: 2.0184 - val_accuracy: 0.3887\n",
            "Epoch 26/100\n",
            "1299/1299 [==============================] - 0s 363us/step - loss: 0.9092 - accuracy: 0.7252 - val_loss: 2.1571 - val_accuracy: 0.3795\n",
            "Epoch 27/100\n",
            "1299/1299 [==============================] - 0s 354us/step - loss: 0.9464 - accuracy: 0.7144 - val_loss: 2.0631 - val_accuracy: 0.4092\n",
            "Epoch 28/100\n",
            "1299/1299 [==============================] - 0s 343us/step - loss: 0.9453 - accuracy: 0.7129 - val_loss: 1.9869 - val_accuracy: 0.3877\n",
            "Epoch 29/100\n",
            "1299/1299 [==============================] - 0s 353us/step - loss: 0.8596 - accuracy: 0.7375 - val_loss: 1.8200 - val_accuracy: 0.4287\n",
            "Epoch 30/100\n",
            "1299/1299 [==============================] - 0s 353us/step - loss: 0.8670 - accuracy: 0.7398 - val_loss: 1.9105 - val_accuracy: 0.4523\n",
            "Epoch 31/100\n",
            "1299/1299 [==============================] - 0s 361us/step - loss: 0.8431 - accuracy: 0.7460 - val_loss: 2.1921 - val_accuracy: 0.3723\n",
            "Epoch 32/100\n",
            "1299/1299 [==============================] - 0s 344us/step - loss: 0.8443 - accuracy: 0.7413 - val_loss: 1.7708 - val_accuracy: 0.4236\n",
            "Epoch 33/100\n",
            "1299/1299 [==============================] - 0s 353us/step - loss: 0.7859 - accuracy: 0.7583 - val_loss: 1.9033 - val_accuracy: 0.4462\n",
            "Epoch 34/100\n",
            "1299/1299 [==============================] - 0s 345us/step - loss: 0.8317 - accuracy: 0.7483 - val_loss: 1.6389 - val_accuracy: 0.4626\n",
            "Epoch 35/100\n",
            "1299/1299 [==============================] - 0s 345us/step - loss: 0.7881 - accuracy: 0.7537 - val_loss: 1.7567 - val_accuracy: 0.4667\n",
            "Epoch 36/100\n",
            "1299/1299 [==============================] - 0s 345us/step - loss: 0.7430 - accuracy: 0.7629 - val_loss: 1.6281 - val_accuracy: 0.4964\n",
            "Epoch 37/100\n",
            "1299/1299 [==============================] - 0s 360us/step - loss: 0.7510 - accuracy: 0.7660 - val_loss: 1.5237 - val_accuracy: 0.5262\n",
            "Epoch 38/100\n",
            "1299/1299 [==============================] - 0s 355us/step - loss: 0.7239 - accuracy: 0.7814 - val_loss: 1.4349 - val_accuracy: 0.5005\n",
            "Epoch 39/100\n",
            "1299/1299 [==============================] - 0s 361us/step - loss: 0.7560 - accuracy: 0.7583 - val_loss: 1.1548 - val_accuracy: 0.5990\n",
            "Epoch 40/100\n",
            "1299/1299 [==============================] - 0s 357us/step - loss: 0.7506 - accuracy: 0.7637 - val_loss: 1.1026 - val_accuracy: 0.6082\n",
            "Epoch 41/100\n",
            "1299/1299 [==============================] - 0s 343us/step - loss: 0.6943 - accuracy: 0.7906 - val_loss: 1.5407 - val_accuracy: 0.5487\n",
            "Epoch 42/100\n",
            "1299/1299 [==============================] - 0s 354us/step - loss: 0.7054 - accuracy: 0.7683 - val_loss: 1.6479 - val_accuracy: 0.4821\n",
            "Epoch 43/100\n",
            "1299/1299 [==============================] - 0s 365us/step - loss: 0.7225 - accuracy: 0.7706 - val_loss: 1.4775 - val_accuracy: 0.5467\n",
            "Epoch 44/100\n",
            "1299/1299 [==============================] - 0s 359us/step - loss: 0.7125 - accuracy: 0.7706 - val_loss: 1.7650 - val_accuracy: 0.4913\n",
            "Epoch 45/100\n",
            "1299/1299 [==============================] - 0s 354us/step - loss: 0.6766 - accuracy: 0.7760 - val_loss: 1.2104 - val_accuracy: 0.5836\n",
            "Epoch 46/100\n",
            "1299/1299 [==============================] - 0s 356us/step - loss: 0.6716 - accuracy: 0.7929 - val_loss: 1.4763 - val_accuracy: 0.5128\n",
            "Epoch 47/100\n",
            "1299/1299 [==============================] - 0s 354us/step - loss: 0.7016 - accuracy: 0.7544 - val_loss: 0.8045 - val_accuracy: 0.7077\n",
            "Epoch 48/100\n",
            "1299/1299 [==============================] - 0s 365us/step - loss: 0.6667 - accuracy: 0.7868 - val_loss: 0.8991 - val_accuracy: 0.6769\n",
            "Epoch 49/100\n",
            "1299/1299 [==============================] - 0s 347us/step - loss: 0.6087 - accuracy: 0.8106 - val_loss: 0.7272 - val_accuracy: 0.7303\n",
            "Epoch 50/100\n",
            "1299/1299 [==============================] - 0s 349us/step - loss: 0.6160 - accuracy: 0.8075 - val_loss: 0.7199 - val_accuracy: 0.7354\n",
            "Epoch 51/100\n",
            "1299/1299 [==============================] - 0s 356us/step - loss: 0.6427 - accuracy: 0.7798 - val_loss: 0.8044 - val_accuracy: 0.7087\n",
            "Epoch 52/100\n",
            "1299/1299 [==============================] - 0s 348us/step - loss: 0.6027 - accuracy: 0.8129 - val_loss: 0.8554 - val_accuracy: 0.7046\n",
            "Epoch 53/100\n",
            "1299/1299 [==============================] - 0s 358us/step - loss: 0.6058 - accuracy: 0.8083 - val_loss: 0.9249 - val_accuracy: 0.6769\n",
            "Epoch 54/100\n",
            "1299/1299 [==============================] - 0s 345us/step - loss: 0.6278 - accuracy: 0.8060 - val_loss: 0.9414 - val_accuracy: 0.6677\n",
            "Epoch 55/100\n",
            "1299/1299 [==============================] - 0s 352us/step - loss: 0.5958 - accuracy: 0.8214 - val_loss: 1.2242 - val_accuracy: 0.5877\n",
            "Epoch 56/100\n",
            "1299/1299 [==============================] - 0s 346us/step - loss: 0.5999 - accuracy: 0.7998 - val_loss: 0.5870 - val_accuracy: 0.7723\n",
            "Epoch 57/100\n",
            "1299/1299 [==============================] - 0s 361us/step - loss: 0.5758 - accuracy: 0.8129 - val_loss: 0.5308 - val_accuracy: 0.7949\n",
            "Epoch 58/100\n",
            "1299/1299 [==============================] - 0s 352us/step - loss: 0.5813 - accuracy: 0.8045 - val_loss: 0.7120 - val_accuracy: 0.7405\n",
            "Epoch 59/100\n",
            "1299/1299 [==============================] - 0s 357us/step - loss: 0.5615 - accuracy: 0.8283 - val_loss: 0.7198 - val_accuracy: 0.7303\n",
            "Epoch 60/100\n",
            "1299/1299 [==============================] - 0s 355us/step - loss: 0.5550 - accuracy: 0.8276 - val_loss: 0.6778 - val_accuracy: 0.7467\n",
            "Epoch 61/100\n",
            "1299/1299 [==============================] - 0s 350us/step - loss: 0.5137 - accuracy: 0.8183 - val_loss: 1.0494 - val_accuracy: 0.6749\n",
            "Epoch 62/100\n",
            "1299/1299 [==============================] - 0s 354us/step - loss: 0.5398 - accuracy: 0.8222 - val_loss: 0.7479 - val_accuracy: 0.7395\n",
            "Epoch 63/100\n",
            "1299/1299 [==============================] - 0s 352us/step - loss: 0.5183 - accuracy: 0.8337 - val_loss: 0.9993 - val_accuracy: 0.6759\n",
            "Epoch 64/100\n",
            "1299/1299 [==============================] - 0s 354us/step - loss: 0.5115 - accuracy: 0.8229 - val_loss: 0.7353 - val_accuracy: 0.7590\n",
            "Epoch 65/100\n",
            "1299/1299 [==============================] - 0s 354us/step - loss: 0.5699 - accuracy: 0.8222 - val_loss: 0.7833 - val_accuracy: 0.7590\n",
            "Epoch 66/100\n",
            "1299/1299 [==============================] - 0s 365us/step - loss: 0.4896 - accuracy: 0.8530 - val_loss: 0.5929 - val_accuracy: 0.7795\n",
            "Epoch 67/100\n",
            "1299/1299 [==============================] - 0s 362us/step - loss: 0.4891 - accuracy: 0.8445 - val_loss: 0.7227 - val_accuracy: 0.7292\n",
            "Epoch 68/100\n",
            "1299/1299 [==============================] - 0s 367us/step - loss: 0.5490 - accuracy: 0.8137 - val_loss: 0.6527 - val_accuracy: 0.7559\n",
            "Epoch 69/100\n",
            "1299/1299 [==============================] - 0s 349us/step - loss: 0.5274 - accuracy: 0.8237 - val_loss: 0.6012 - val_accuracy: 0.7949\n",
            "Epoch 70/100\n",
            "1299/1299 [==============================] - 0s 367us/step - loss: 0.5390 - accuracy: 0.8276 - val_loss: 0.5361 - val_accuracy: 0.8113\n",
            "Epoch 71/100\n",
            "1299/1299 [==============================] - 0s 349us/step - loss: 0.4559 - accuracy: 0.8560 - val_loss: 0.6164 - val_accuracy: 0.7733\n",
            "Epoch 72/100\n",
            "1299/1299 [==============================] - 0s 350us/step - loss: 0.4795 - accuracy: 0.8453 - val_loss: 0.5980 - val_accuracy: 0.7795\n",
            "Epoch 73/100\n",
            "1299/1299 [==============================] - 0s 357us/step - loss: 0.4961 - accuracy: 0.8437 - val_loss: 0.4698 - val_accuracy: 0.8308\n",
            "Epoch 74/100\n",
            "1299/1299 [==============================] - 0s 356us/step - loss: 0.4335 - accuracy: 0.8630 - val_loss: 0.5604 - val_accuracy: 0.8164\n",
            "Epoch 75/100\n",
            "1299/1299 [==============================] - 0s 359us/step - loss: 0.4512 - accuracy: 0.8568 - val_loss: 0.5793 - val_accuracy: 0.7846\n",
            "Epoch 76/100\n",
            "1299/1299 [==============================] - 0s 353us/step - loss: 0.4851 - accuracy: 0.8422 - val_loss: 0.4933 - val_accuracy: 0.8236\n",
            "Epoch 77/100\n",
            "1299/1299 [==============================] - 0s 352us/step - loss: 0.4550 - accuracy: 0.8584 - val_loss: 0.6263 - val_accuracy: 0.7836\n",
            "Epoch 78/100\n",
            "1299/1299 [==============================] - 0s 350us/step - loss: 0.4291 - accuracy: 0.8653 - val_loss: 0.6032 - val_accuracy: 0.7836\n",
            "Epoch 79/100\n",
            "1299/1299 [==============================] - 0s 353us/step - loss: 0.4372 - accuracy: 0.8637 - val_loss: 0.5355 - val_accuracy: 0.7959\n",
            "Epoch 80/100\n",
            "1299/1299 [==============================] - 0s 351us/step - loss: 0.4642 - accuracy: 0.8530 - val_loss: 0.4928 - val_accuracy: 0.8246\n",
            "Epoch 81/100\n",
            "1299/1299 [==============================] - 0s 356us/step - loss: 0.4446 - accuracy: 0.8584 - val_loss: 0.5298 - val_accuracy: 0.8133\n",
            "Epoch 82/100\n",
            "1299/1299 [==============================] - 0s 347us/step - loss: 0.4588 - accuracy: 0.8445 - val_loss: 0.4115 - val_accuracy: 0.8513\n",
            "Epoch 83/100\n",
            "1299/1299 [==============================] - 0s 350us/step - loss: 0.4346 - accuracy: 0.8576 - val_loss: 0.4677 - val_accuracy: 0.8287\n",
            "Epoch 84/100\n",
            "1299/1299 [==============================] - 0s 354us/step - loss: 0.4113 - accuracy: 0.8653 - val_loss: 0.8689 - val_accuracy: 0.7354\n",
            "Epoch 85/100\n",
            "1299/1299 [==============================] - 0s 351us/step - loss: 0.4282 - accuracy: 0.8591 - val_loss: 1.0076 - val_accuracy: 0.7108\n",
            "Epoch 86/100\n",
            "1299/1299 [==============================] - 0s 360us/step - loss: 0.4277 - accuracy: 0.8607 - val_loss: 0.5119 - val_accuracy: 0.8236\n",
            "Epoch 87/100\n",
            "1299/1299 [==============================] - 0s 347us/step - loss: 0.4356 - accuracy: 0.8545 - val_loss: 0.5630 - val_accuracy: 0.8174\n",
            "Epoch 88/100\n",
            "1299/1299 [==============================] - 0s 351us/step - loss: 0.4274 - accuracy: 0.8584 - val_loss: 0.4751 - val_accuracy: 0.8256\n",
            "Epoch 89/100\n",
            "1299/1299 [==============================] - 0s 342us/step - loss: 0.4034 - accuracy: 0.8591 - val_loss: 0.6030 - val_accuracy: 0.8010\n",
            "Epoch 90/100\n",
            "1299/1299 [==============================] - 0s 353us/step - loss: 0.4321 - accuracy: 0.8637 - val_loss: 1.1473 - val_accuracy: 0.6615\n",
            "Epoch 91/100\n",
            "1299/1299 [==============================] - 0s 339us/step - loss: 0.3867 - accuracy: 0.8791 - val_loss: 0.5246 - val_accuracy: 0.8174\n",
            "Epoch 92/100\n",
            "1299/1299 [==============================] - 0s 343us/step - loss: 0.4227 - accuracy: 0.8761 - val_loss: 0.4965 - val_accuracy: 0.8226\n",
            "Epoch 93/100\n",
            "1299/1299 [==============================] - 0s 350us/step - loss: 0.4039 - accuracy: 0.8714 - val_loss: 0.4585 - val_accuracy: 0.8379\n",
            "Epoch 94/100\n",
            "1299/1299 [==============================] - 0s 363us/step - loss: 0.4177 - accuracy: 0.8599 - val_loss: 0.3961 - val_accuracy: 0.8656\n",
            "Epoch 95/100\n",
            "1299/1299 [==============================] - 0s 361us/step - loss: 0.4249 - accuracy: 0.8614 - val_loss: 0.5859 - val_accuracy: 0.8236\n",
            "Epoch 96/100\n",
            "1299/1299 [==============================] - 0s 360us/step - loss: 0.4043 - accuracy: 0.8622 - val_loss: 0.6060 - val_accuracy: 0.7979\n",
            "Epoch 97/100\n",
            "1299/1299 [==============================] - 0s 355us/step - loss: 0.3755 - accuracy: 0.8868 - val_loss: 0.5008 - val_accuracy: 0.8215\n",
            "Epoch 98/100\n",
            "1299/1299 [==============================] - 0s 348us/step - loss: 0.3678 - accuracy: 0.8745 - val_loss: 0.4153 - val_accuracy: 0.8492\n",
            "Epoch 99/100\n",
            "1299/1299 [==============================] - 0s 351us/step - loss: 0.3769 - accuracy: 0.8707 - val_loss: 0.5378 - val_accuracy: 0.8021\n",
            "Epoch 100/100\n",
            "1299/1299 [==============================] - 0s 352us/step - loss: 0.3952 - accuracy: 0.8776 - val_loss: 0.5102 - val_accuracy: 0.8164\n"
          ],
          "name": "stdout"
        },
        {
          "output_type": "execute_result",
          "data": {
            "text/plain": [
              "<keras.callbacks.callbacks.History at 0x7f1c85fb4278>"
            ]
          },
          "metadata": {
            "tags": []
          },
          "execution_count": 28
        }
      ]
    },
    {
      "cell_type": "code",
      "metadata": {
        "id": "LSGrC7sxNWhx",
        "colab_type": "code",
        "outputId": "ad542132-03e1-4990-a687-9adf7866db20",
        "colab": {
          "base_uri": "https://localhost:8080/",
          "height": 68
        }
      },
      "source": [
        "score = model.evaluate(xx_test, yy_test, verbose=1)\n",
        "print('Test loss:', score[0])\n",
        "print('Test accuracy:', score[1])"
      ],
      "execution_count": 29,
      "outputs": [
        {
          "output_type": "stream",
          "text": [
            "974/974 [==============================] - 0s 113us/step\n",
            "Test loss: 0.4643699622252149\n",
            "Test accuracy: 0.8531827330589294\n"
          ],
          "name": "stdout"
        }
      ]
    },
    {
      "cell_type": "code",
      "metadata": {
        "id": "GbIwG9dgjk-X",
        "colab_type": "code",
        "colab": {}
      },
      "source": [
        "if len(np.array(y_test).shape) == 1:\n",
        "  y_test = [x+1 for x in y_test]\n",
        "  y_train = [x+1 for x in y_train]"
      ],
      "execution_count": 0,
      "outputs": []
    },
    {
      "cell_type": "code",
      "metadata": {
        "id": "s9zjzu4ArF-O",
        "colab_type": "code",
        "outputId": "97182812-b407-42a8-8e27-5bd8b80a8206",
        "colab": {
          "base_uri": "https://localhost:8080/",
          "height": 51
        }
      },
      "source": [
        "!pip install spectral"
      ],
      "execution_count": 31,
      "outputs": [
        {
          "output_type": "stream",
          "text": [
            "Requirement already satisfied: spectral in /usr/local/lib/python3.6/dist-packages (0.21)\n",
            "Requirement already satisfied: numpy in /usr/local/lib/python3.6/dist-packages (from spectral) (1.18.5)\n"
          ],
          "name": "stdout"
        }
      ]
    },
    {
      "cell_type": "code",
      "metadata": {
        "id": "Zf5wCQc3q7ye",
        "colab_type": "code",
        "colab": {}
      },
      "source": [
        "import spectral as sp\n",
        "prediction = model.predict(X)\n",
        "\n",
        "if not len(prediction.shape) == 2:\n",
        "    y_test = [x + 1 for x in y_test]\n",
        "    y_train = [x + 1 for x in y_train]\n",
        "\n",
        "if len(prediction.shape) == 2:\n",
        "    predicted_gt_1 = np.argmax(prediction, axis=1)\n",
        "    predicted_gt_1_list = list(predicted_gt_1)\n",
        "    predicted_gt_1_list = [x + 1 for x in predicted_gt_1_list]\n",
        "else:\n",
        "    predicted_gt_1_list = prediction\n",
        "\n",
        "for i in zero_data:\n",
        "    predicted_gt_1_list.insert(i, 0)\n",
        "\n",
        "predicted_gt_1_list = np.array(predicted_gt_1_list).reshape(image.shape[0], image.shape[1])\n",
        "sp.save_rgb('predicted_gt.jpg', predicted_gt_1_list, colors=sp.spy_colors)\n"
      ],
      "execution_count": 0,
      "outputs": []
    }
  ]
}