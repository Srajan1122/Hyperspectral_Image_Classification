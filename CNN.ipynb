{
  "nbformat": 4,
  "nbformat_minor": 0,
  "metadata": {
    "colab": {
      "name": "CNN",
      "provenance": [],
      "authorship_tag": "ABX9TyPWzW4Ro6+2sH5Falz/Q6Px",
      "include_colab_link": true
    },
    "kernelspec": {
      "name": "python3",
      "display_name": "Python 3"
    }
  },
  "cells": [
    {
      "cell_type": "markdown",
      "metadata": {
        "id": "view-in-github",
        "colab_type": "text"
      },
      "source": [
        "<a href=\"https://colab.research.google.com/github/Srajan1122/Hyperspectral_Image_Classification/blob/srajan/CNN.ipynb\" target=\"_parent\"><img src=\"https://colab.research.google.com/assets/colab-badge.svg\" alt=\"Open In Colab\"/></a>"
      ]
    },
    {
      "cell_type": "code",
      "metadata": {
        "id": "pO-nUq2-KL7a",
        "colab_type": "code",
        "outputId": "bb92c68c-948f-43a6-9890-3a9ef5201457",
        "colab": {
          "base_uri": "https://localhost:8080/",
          "height": 34
        }
      },
      "source": [
        "from google.colab import drive\n",
        "drive.mount('/content/drive')"
      ],
      "execution_count": 1,
      "outputs": [
        {
          "output_type": "stream",
          "text": [
            "Drive already mounted at /content/drive; to attempt to forcibly remount, call drive.mount(\"/content/drive\", force_remount=True).\n"
          ],
          "name": "stdout"
        }
      ]
    },
    {
      "cell_type": "markdown",
      "metadata": {
        "id": "aXpp9_cwKqz1",
        "colab_type": "text"
      },
      "source": [
        "# Importing Libraries"
      ]
    },
    {
      "cell_type": "code",
      "metadata": {
        "id": "qVxnzfWvKN-K",
        "colab_type": "code",
        "colab": {}
      },
      "source": [
        "import pandas as pd\n",
        "import numpy as np\n",
        "from scipy import io\n",
        "from sklearn.model_selection import train_test_split\n",
        "from sklearn.preprocessing import OneHotEncoder \n",
        "from sklearn import preprocessing"
      ],
      "execution_count": 0,
      "outputs": []
    },
    {
      "cell_type": "markdown",
      "metadata": {
        "id": "UqasbIqPK0KM",
        "colab_type": "text"
      },
      "source": [
        "# Importing Dataset"
      ]
    },
    {
      "cell_type": "code",
      "metadata": {
        "id": "erOp3hTTKuzQ",
        "colab_type": "code",
        "colab": {}
      },
      "source": [
        "loaded_dataset = io.loadmat('/content/drive/My Drive/Srajan/Internship/SEM4-LeadingindiaAI/Tasks/Datasets/PaviaC/Pavia.mat')\n",
        "for key, value in loaded_dataset.items():\n",
        "  if isinstance(value, type(np.array([1]))):\n",
        "    image = loaded_dataset[key]"
      ],
      "execution_count": 0,
      "outputs": []
    },
    {
      "cell_type": "code",
      "metadata": {
        "id": "HjbphR_nK5O8",
        "colab_type": "code",
        "colab": {}
      },
      "source": [
        "ground_truth_1 = io.loadmat('/content/drive/My Drive/Srajan/Internship/SEM4-LeadingindiaAI/Tasks/Datasets/PaviaC/Pavia_gt.mat')\n",
        "for key, value in ground_truth_1.items():\n",
        "  if isinstance(value, type(np.array([1]))):\n",
        "    ground_truth = ground_truth_1[key]"
      ],
      "execution_count": 0,
      "outputs": []
    },
    {
      "cell_type": "markdown",
      "metadata": {
        "id": "_9l4ZElPK8xW",
        "colab_type": "text"
      },
      "source": [
        "## Class Labels"
      ]
    },
    {
      "cell_type": "code",
      "metadata": {
        "id": "JumPKdTvK_EY",
        "colab_type": "code",
        "colab": {}
      },
      "source": [
        "label_values = [\"Alfalfa\", \"Corn-notill\", \"Corn-mintill\",\n",
        "                        \"Corn\", \"Grass-pasture\", \"Grass-trees\",\n",
        "                        \"Grass-pasture-mowed\", \"Hay-windrowed\", \"Oats\",\n",
        "                        \"Soybean-notill\", \"Soybean-mintill\", \"Soybean-clean\",\n",
        "                        \"Wheat\", \"Woods\", \"Buildings-Grass-Trees-Drives\",\n",
        "                        \"Stone-Steel-Towers\"]"
      ],
      "execution_count": 0,
      "outputs": []
    },
    {
      "cell_type": "markdown",
      "metadata": {
        "id": "QYIFKIPmLCFV",
        "colab_type": "text"
      },
      "source": [
        "## Resizing the data"
      ]
    },
    {
      "cell_type": "code",
      "metadata": {
        "id": "UnRRsjn8K_zG",
        "colab_type": "code",
        "colab": {}
      },
      "source": [
        "image_with_gt = np.dstack((image, ground_truth))"
      ],
      "execution_count": 0,
      "outputs": []
    },
    {
      "cell_type": "code",
      "metadata": {
        "id": "P2hhElWJLF9V",
        "colab_type": "code",
        "colab": {}
      },
      "source": [
        "final_output = image_with_gt.reshape(ground_truth.size, image.shape[2]+1)"
      ],
      "execution_count": 0,
      "outputs": []
    },
    {
      "cell_type": "markdown",
      "metadata": {
        "id": "ZKGD0bRxLJff",
        "colab_type": "text"
      },
      "source": [
        "## Data Visualization in pandas"
      ]
    },
    {
      "cell_type": "code",
      "metadata": {
        "id": "4AWkTHdDLOwf",
        "colab_type": "code",
        "colab": {}
      },
      "source": [
        "data = pd.DataFrame(final_output)"
      ],
      "execution_count": 0,
      "outputs": []
    },
    {
      "cell_type": "code",
      "metadata": {
        "id": "9ctUP_zKLUpJ",
        "colab_type": "code",
        "outputId": "675de163-03b7-44dd-dff7-4c0791baf288",
        "colab": {
          "base_uri": "https://localhost:8080/",
          "height": 253
        }
      },
      "source": [
        "data.head()"
      ],
      "execution_count": 9,
      "outputs": [
        {
          "output_type": "execute_result",
          "data": {
            "text/html": [
              "<div>\n",
              "<style scoped>\n",
              "    .dataframe tbody tr th:only-of-type {\n",
              "        vertical-align: middle;\n",
              "    }\n",
              "\n",
              "    .dataframe tbody tr th {\n",
              "        vertical-align: top;\n",
              "    }\n",
              "\n",
              "    .dataframe thead th {\n",
              "        text-align: right;\n",
              "    }\n",
              "</style>\n",
              "<table border=\"1\" class=\"dataframe\">\n",
              "  <thead>\n",
              "    <tr style=\"text-align: right;\">\n",
              "      <th></th>\n",
              "      <th>0</th>\n",
              "      <th>1</th>\n",
              "      <th>2</th>\n",
              "      <th>3</th>\n",
              "      <th>4</th>\n",
              "      <th>5</th>\n",
              "      <th>6</th>\n",
              "      <th>7</th>\n",
              "      <th>8</th>\n",
              "      <th>9</th>\n",
              "      <th>10</th>\n",
              "      <th>11</th>\n",
              "      <th>12</th>\n",
              "      <th>13</th>\n",
              "      <th>14</th>\n",
              "      <th>15</th>\n",
              "      <th>16</th>\n",
              "      <th>17</th>\n",
              "      <th>18</th>\n",
              "      <th>19</th>\n",
              "      <th>20</th>\n",
              "      <th>21</th>\n",
              "      <th>22</th>\n",
              "      <th>23</th>\n",
              "      <th>24</th>\n",
              "      <th>25</th>\n",
              "      <th>26</th>\n",
              "      <th>27</th>\n",
              "      <th>28</th>\n",
              "      <th>29</th>\n",
              "      <th>30</th>\n",
              "      <th>31</th>\n",
              "      <th>32</th>\n",
              "      <th>33</th>\n",
              "      <th>34</th>\n",
              "      <th>35</th>\n",
              "      <th>36</th>\n",
              "      <th>37</th>\n",
              "      <th>38</th>\n",
              "      <th>39</th>\n",
              "      <th>...</th>\n",
              "      <th>63</th>\n",
              "      <th>64</th>\n",
              "      <th>65</th>\n",
              "      <th>66</th>\n",
              "      <th>67</th>\n",
              "      <th>68</th>\n",
              "      <th>69</th>\n",
              "      <th>70</th>\n",
              "      <th>71</th>\n",
              "      <th>72</th>\n",
              "      <th>73</th>\n",
              "      <th>74</th>\n",
              "      <th>75</th>\n",
              "      <th>76</th>\n",
              "      <th>77</th>\n",
              "      <th>78</th>\n",
              "      <th>79</th>\n",
              "      <th>80</th>\n",
              "      <th>81</th>\n",
              "      <th>82</th>\n",
              "      <th>83</th>\n",
              "      <th>84</th>\n",
              "      <th>85</th>\n",
              "      <th>86</th>\n",
              "      <th>87</th>\n",
              "      <th>88</th>\n",
              "      <th>89</th>\n",
              "      <th>90</th>\n",
              "      <th>91</th>\n",
              "      <th>92</th>\n",
              "      <th>93</th>\n",
              "      <th>94</th>\n",
              "      <th>95</th>\n",
              "      <th>96</th>\n",
              "      <th>97</th>\n",
              "      <th>98</th>\n",
              "      <th>99</th>\n",
              "      <th>100</th>\n",
              "      <th>101</th>\n",
              "      <th>102</th>\n",
              "    </tr>\n",
              "  </thead>\n",
              "  <tbody>\n",
              "    <tr>\n",
              "      <th>0</th>\n",
              "      <td>854</td>\n",
              "      <td>601</td>\n",
              "      <td>350</td>\n",
              "      <td>266</td>\n",
              "      <td>138</td>\n",
              "      <td>118</td>\n",
              "      <td>178</td>\n",
              "      <td>194</td>\n",
              "      <td>257</td>\n",
              "      <td>269</td>\n",
              "      <td>239</td>\n",
              "      <td>243</td>\n",
              "      <td>220</td>\n",
              "      <td>191</td>\n",
              "      <td>173</td>\n",
              "      <td>150</td>\n",
              "      <td>125</td>\n",
              "      <td>131</td>\n",
              "      <td>137</td>\n",
              "      <td>172</td>\n",
              "      <td>195</td>\n",
              "      <td>218</td>\n",
              "      <td>255</td>\n",
              "      <td>291</td>\n",
              "      <td>320</td>\n",
              "      <td>346</td>\n",
              "      <td>347</td>\n",
              "      <td>368</td>\n",
              "      <td>404</td>\n",
              "      <td>428</td>\n",
              "      <td>429</td>\n",
              "      <td>416</td>\n",
              "      <td>394</td>\n",
              "      <td>368</td>\n",
              "      <td>357</td>\n",
              "      <td>361</td>\n",
              "      <td>369</td>\n",
              "      <td>368</td>\n",
              "      <td>351</td>\n",
              "      <td>328</td>\n",
              "      <td>...</td>\n",
              "      <td>219</td>\n",
              "      <td>239</td>\n",
              "      <td>289</td>\n",
              "      <td>366</td>\n",
              "      <td>482</td>\n",
              "      <td>632</td>\n",
              "      <td>814</td>\n",
              "      <td>1005</td>\n",
              "      <td>1225</td>\n",
              "      <td>1464</td>\n",
              "      <td>1732</td>\n",
              "      <td>2044</td>\n",
              "      <td>2383</td>\n",
              "      <td>2716</td>\n",
              "      <td>2985</td>\n",
              "      <td>3203</td>\n",
              "      <td>3385</td>\n",
              "      <td>3538</td>\n",
              "      <td>3667</td>\n",
              "      <td>3696</td>\n",
              "      <td>3548</td>\n",
              "      <td>3608</td>\n",
              "      <td>3744</td>\n",
              "      <td>3792</td>\n",
              "      <td>3802</td>\n",
              "      <td>3815</td>\n",
              "      <td>3836</td>\n",
              "      <td>3827</td>\n",
              "      <td>3765</td>\n",
              "      <td>3752</td>\n",
              "      <td>3759</td>\n",
              "      <td>3773</td>\n",
              "      <td>3779</td>\n",
              "      <td>3752</td>\n",
              "      <td>3690</td>\n",
              "      <td>3671</td>\n",
              "      <td>3664</td>\n",
              "      <td>3636</td>\n",
              "      <td>3643</td>\n",
              "      <td>0</td>\n",
              "    </tr>\n",
              "    <tr>\n",
              "      <th>1</th>\n",
              "      <td>527</td>\n",
              "      <td>642</td>\n",
              "      <td>575</td>\n",
              "      <td>294</td>\n",
              "      <td>123</td>\n",
              "      <td>168</td>\n",
              "      <td>207</td>\n",
              "      <td>154</td>\n",
              "      <td>209</td>\n",
              "      <td>299</td>\n",
              "      <td>299</td>\n",
              "      <td>278</td>\n",
              "      <td>235</td>\n",
              "      <td>181</td>\n",
              "      <td>181</td>\n",
              "      <td>236</td>\n",
              "      <td>256</td>\n",
              "      <td>253</td>\n",
              "      <td>225</td>\n",
              "      <td>202</td>\n",
              "      <td>221</td>\n",
              "      <td>256</td>\n",
              "      <td>321</td>\n",
              "      <td>358</td>\n",
              "      <td>385</td>\n",
              "      <td>429</td>\n",
              "      <td>492</td>\n",
              "      <td>533</td>\n",
              "      <td>554</td>\n",
              "      <td>553</td>\n",
              "      <td>557</td>\n",
              "      <td>580</td>\n",
              "      <td>561</td>\n",
              "      <td>522</td>\n",
              "      <td>525</td>\n",
              "      <td>513</td>\n",
              "      <td>474</td>\n",
              "      <td>435</td>\n",
              "      <td>412</td>\n",
              "      <td>401</td>\n",
              "      <td>...</td>\n",
              "      <td>254</td>\n",
              "      <td>305</td>\n",
              "      <td>349</td>\n",
              "      <td>401</td>\n",
              "      <td>508</td>\n",
              "      <td>681</td>\n",
              "      <td>888</td>\n",
              "      <td>1076</td>\n",
              "      <td>1297</td>\n",
              "      <td>1577</td>\n",
              "      <td>1855</td>\n",
              "      <td>2117</td>\n",
              "      <td>2456</td>\n",
              "      <td>2772</td>\n",
              "      <td>3002</td>\n",
              "      <td>3205</td>\n",
              "      <td>3388</td>\n",
              "      <td>3526</td>\n",
              "      <td>3629</td>\n",
              "      <td>3665</td>\n",
              "      <td>3586</td>\n",
              "      <td>3653</td>\n",
              "      <td>3747</td>\n",
              "      <td>3813</td>\n",
              "      <td>3831</td>\n",
              "      <td>3829</td>\n",
              "      <td>3841</td>\n",
              "      <td>3885</td>\n",
              "      <td>3916</td>\n",
              "      <td>3907</td>\n",
              "      <td>3873</td>\n",
              "      <td>3902</td>\n",
              "      <td>3921</td>\n",
              "      <td>3861</td>\n",
              "      <td>3854</td>\n",
              "      <td>3882</td>\n",
              "      <td>3834</td>\n",
              "      <td>3725</td>\n",
              "      <td>3768</td>\n",
              "      <td>0</td>\n",
              "    </tr>\n",
              "    <tr>\n",
              "      <th>2</th>\n",
              "      <td>374</td>\n",
              "      <td>322</td>\n",
              "      <td>179</td>\n",
              "      <td>87</td>\n",
              "      <td>169</td>\n",
              "      <td>268</td>\n",
              "      <td>360</td>\n",
              "      <td>339</td>\n",
              "      <td>286</td>\n",
              "      <td>309</td>\n",
              "      <td>340</td>\n",
              "      <td>305</td>\n",
              "      <td>206</td>\n",
              "      <td>202</td>\n",
              "      <td>269</td>\n",
              "      <td>256</td>\n",
              "      <td>246</td>\n",
              "      <td>226</td>\n",
              "      <td>218</td>\n",
              "      <td>275</td>\n",
              "      <td>318</td>\n",
              "      <td>356</td>\n",
              "      <td>395</td>\n",
              "      <td>425</td>\n",
              "      <td>461</td>\n",
              "      <td>520</td>\n",
              "      <td>587</td>\n",
              "      <td>623</td>\n",
              "      <td>621</td>\n",
              "      <td>617</td>\n",
              "      <td>636</td>\n",
              "      <td>657</td>\n",
              "      <td>665</td>\n",
              "      <td>670</td>\n",
              "      <td>645</td>\n",
              "      <td>610</td>\n",
              "      <td>576</td>\n",
              "      <td>547</td>\n",
              "      <td>532</td>\n",
              "      <td>523</td>\n",
              "      <td>...</td>\n",
              "      <td>369</td>\n",
              "      <td>418</td>\n",
              "      <td>484</td>\n",
              "      <td>590</td>\n",
              "      <td>754</td>\n",
              "      <td>969</td>\n",
              "      <td>1201</td>\n",
              "      <td>1460</td>\n",
              "      <td>1716</td>\n",
              "      <td>2002</td>\n",
              "      <td>2319</td>\n",
              "      <td>2690</td>\n",
              "      <td>3055</td>\n",
              "      <td>3368</td>\n",
              "      <td>3666</td>\n",
              "      <td>3901</td>\n",
              "      <td>4082</td>\n",
              "      <td>4258</td>\n",
              "      <td>4372</td>\n",
              "      <td>4392</td>\n",
              "      <td>4231</td>\n",
              "      <td>4256</td>\n",
              "      <td>4419</td>\n",
              "      <td>4495</td>\n",
              "      <td>4501</td>\n",
              "      <td>4472</td>\n",
              "      <td>4486</td>\n",
              "      <td>4499</td>\n",
              "      <td>4453</td>\n",
              "      <td>4404</td>\n",
              "      <td>4443</td>\n",
              "      <td>4472</td>\n",
              "      <td>4428</td>\n",
              "      <td>4353</td>\n",
              "      <td>4306</td>\n",
              "      <td>4284</td>\n",
              "      <td>4318</td>\n",
              "      <td>4311</td>\n",
              "      <td>4321</td>\n",
              "      <td>0</td>\n",
              "    </tr>\n",
              "    <tr>\n",
              "      <th>3</th>\n",
              "      <td>706</td>\n",
              "      <td>520</td>\n",
              "      <td>560</td>\n",
              "      <td>572</td>\n",
              "      <td>425</td>\n",
              "      <td>243</td>\n",
              "      <td>271</td>\n",
              "      <td>272</td>\n",
              "      <td>258</td>\n",
              "      <td>276</td>\n",
              "      <td>299</td>\n",
              "      <td>313</td>\n",
              "      <td>320</td>\n",
              "      <td>336</td>\n",
              "      <td>299</td>\n",
              "      <td>274</td>\n",
              "      <td>322</td>\n",
              "      <td>361</td>\n",
              "      <td>358</td>\n",
              "      <td>377</td>\n",
              "      <td>387</td>\n",
              "      <td>396</td>\n",
              "      <td>415</td>\n",
              "      <td>486</td>\n",
              "      <td>564</td>\n",
              "      <td>624</td>\n",
              "      <td>668</td>\n",
              "      <td>680</td>\n",
              "      <td>696</td>\n",
              "      <td>728</td>\n",
              "      <td>753</td>\n",
              "      <td>721</td>\n",
              "      <td>700</td>\n",
              "      <td>713</td>\n",
              "      <td>690</td>\n",
              "      <td>642</td>\n",
              "      <td>592</td>\n",
              "      <td>560</td>\n",
              "      <td>542</td>\n",
              "      <td>547</td>\n",
              "      <td>...</td>\n",
              "      <td>384</td>\n",
              "      <td>418</td>\n",
              "      <td>481</td>\n",
              "      <td>568</td>\n",
              "      <td>693</td>\n",
              "      <td>865</td>\n",
              "      <td>1057</td>\n",
              "      <td>1259</td>\n",
              "      <td>1478</td>\n",
              "      <td>1714</td>\n",
              "      <td>1971</td>\n",
              "      <td>2261</td>\n",
              "      <td>2548</td>\n",
              "      <td>2818</td>\n",
              "      <td>3135</td>\n",
              "      <td>3377</td>\n",
              "      <td>3564</td>\n",
              "      <td>3731</td>\n",
              "      <td>3820</td>\n",
              "      <td>3814</td>\n",
              "      <td>3710</td>\n",
              "      <td>3770</td>\n",
              "      <td>3904</td>\n",
              "      <td>3976</td>\n",
              "      <td>3967</td>\n",
              "      <td>3973</td>\n",
              "      <td>4032</td>\n",
              "      <td>4078</td>\n",
              "      <td>4040</td>\n",
              "      <td>3992</td>\n",
              "      <td>3972</td>\n",
              "      <td>4006</td>\n",
              "      <td>4032</td>\n",
              "      <td>3975</td>\n",
              "      <td>3946</td>\n",
              "      <td>3954</td>\n",
              "      <td>3944</td>\n",
              "      <td>3936</td>\n",
              "      <td>3939</td>\n",
              "      <td>0</td>\n",
              "    </tr>\n",
              "    <tr>\n",
              "      <th>4</th>\n",
              "      <td>1120</td>\n",
              "      <td>1027</td>\n",
              "      <td>592</td>\n",
              "      <td>414</td>\n",
              "      <td>407</td>\n",
              "      <td>463</td>\n",
              "      <td>417</td>\n",
              "      <td>365</td>\n",
              "      <td>332</td>\n",
              "      <td>334</td>\n",
              "      <td>356</td>\n",
              "      <td>327</td>\n",
              "      <td>296</td>\n",
              "      <td>325</td>\n",
              "      <td>346</td>\n",
              "      <td>308</td>\n",
              "      <td>262</td>\n",
              "      <td>262</td>\n",
              "      <td>292</td>\n",
              "      <td>312</td>\n",
              "      <td>335</td>\n",
              "      <td>394</td>\n",
              "      <td>430</td>\n",
              "      <td>450</td>\n",
              "      <td>491</td>\n",
              "      <td>570</td>\n",
              "      <td>611</td>\n",
              "      <td>616</td>\n",
              "      <td>631</td>\n",
              "      <td>659</td>\n",
              "      <td>686</td>\n",
              "      <td>705</td>\n",
              "      <td>691</td>\n",
              "      <td>667</td>\n",
              "      <td>624</td>\n",
              "      <td>584</td>\n",
              "      <td>570</td>\n",
              "      <td>549</td>\n",
              "      <td>530</td>\n",
              "      <td>517</td>\n",
              "      <td>...</td>\n",
              "      <td>349</td>\n",
              "      <td>365</td>\n",
              "      <td>398</td>\n",
              "      <td>505</td>\n",
              "      <td>677</td>\n",
              "      <td>877</td>\n",
              "      <td>1116</td>\n",
              "      <td>1410</td>\n",
              "      <td>1717</td>\n",
              "      <td>2015</td>\n",
              "      <td>2339</td>\n",
              "      <td>2670</td>\n",
              "      <td>3028</td>\n",
              "      <td>3415</td>\n",
              "      <td>3713</td>\n",
              "      <td>3928</td>\n",
              "      <td>4131</td>\n",
              "      <td>4296</td>\n",
              "      <td>4445</td>\n",
              "      <td>4508</td>\n",
              "      <td>4305</td>\n",
              "      <td>4232</td>\n",
              "      <td>4422</td>\n",
              "      <td>4554</td>\n",
              "      <td>4550</td>\n",
              "      <td>4524</td>\n",
              "      <td>4532</td>\n",
              "      <td>4578</td>\n",
              "      <td>4584</td>\n",
              "      <td>4555</td>\n",
              "      <td>4502</td>\n",
              "      <td>4485</td>\n",
              "      <td>4479</td>\n",
              "      <td>4445</td>\n",
              "      <td>4364</td>\n",
              "      <td>4290</td>\n",
              "      <td>4268</td>\n",
              "      <td>4235</td>\n",
              "      <td>4272</td>\n",
              "      <td>0</td>\n",
              "    </tr>\n",
              "  </tbody>\n",
              "</table>\n",
              "<p>5 rows × 103 columns</p>\n",
              "</div>"
            ],
            "text/plain": [
              "    0     1    2    3    4    5    6    ...   96    97    98    99    100   101  102\n",
              "0   854   601  350  266  138  118  178  ...  3752  3690  3671  3664  3636  3643    0\n",
              "1   527   642  575  294  123  168  207  ...  3861  3854  3882  3834  3725  3768    0\n",
              "2   374   322  179   87  169  268  360  ...  4353  4306  4284  4318  4311  4321    0\n",
              "3   706   520  560  572  425  243  271  ...  3975  3946  3954  3944  3936  3939    0\n",
              "4  1120  1027  592  414  407  463  417  ...  4445  4364  4290  4268  4235  4272    0\n",
              "\n",
              "[5 rows x 103 columns]"
            ]
          },
          "metadata": {
            "tags": []
          },
          "execution_count": 9
        }
      ]
    },
    {
      "cell_type": "markdown",
      "metadata": {
        "id": "OLWjsfqaLZs0",
        "colab_type": "text"
      },
      "source": [
        "## Droping the rows if ground truth value is zero"
      ]
    },
    {
      "cell_type": "code",
      "metadata": {
        "id": "OlyctDjwLYkb",
        "colab_type": "code",
        "outputId": "f8769123-b4c7-4d0e-a643-1363c8f8f963",
        "colab": {
          "base_uri": "https://localhost:8080/",
          "height": 34
        }
      },
      "source": [
        "print(\"Percentage of column which will be droped\",(data.size - data[data.iloc[:, -1] == 0].size)/data.size,\"%\")"
      ],
      "execution_count": 10,
      "outputs": [
        {
          "output_type": "stream",
          "text": [
            "Percentage of column which will be droped 0.1890561992751774 %\n"
          ],
          "name": "stdout"
        }
      ]
    },
    {
      "cell_type": "code",
      "metadata": {
        "id": "_tJ0vUTCLhZx",
        "colab_type": "code",
        "colab": {}
      },
      "source": [
        "data = data[data.iloc[:, -1] != 0]"
      ],
      "execution_count": 0,
      "outputs": []
    },
    {
      "cell_type": "markdown",
      "metadata": {
        "id": "kE5Gc8BTLiAN",
        "colab_type": "text"
      },
      "source": [
        "# Spliting the data into feature and target"
      ]
    },
    {
      "cell_type": "code",
      "metadata": {
        "id": "FJ4dCIbILrwg",
        "colab_type": "code",
        "colab": {}
      },
      "source": [
        "X = data.iloc[:, :-1]\n",
        "y = data.iloc[:,-1]"
      ],
      "execution_count": 0,
      "outputs": []
    },
    {
      "cell_type": "markdown",
      "metadata": {
        "id": "CHPv8SimL1Iu",
        "colab_type": "text"
      },
      "source": [
        "# Feature Selection"
      ]
    },
    {
      "cell_type": "code",
      "metadata": {
        "id": "6aMaE8k8L0VV",
        "colab_type": "code",
        "colab": {}
      },
      "source": [
        "from sklearn.feature_selection import SelectKBest\n",
        "from sklearn.feature_selection import chi2, f_classif, mutual_info_classif\n",
        "\n",
        "X = SelectKBest(f_classif, k=int((image.shape[2]+1)*0.75)).fit_transform(X, y)"
      ],
      "execution_count": 0,
      "outputs": []
    },
    {
      "cell_type": "markdown",
      "metadata": {
        "id": "fijfR_5DL9IK",
        "colab_type": "text"
      },
      "source": [
        "# OneHotEncoding in target column"
      ]
    },
    {
      "cell_type": "code",
      "metadata": {
        "id": "_QoUCdAwMBAD",
        "colab_type": "code",
        "colab": {}
      },
      "source": [
        "onehotencoder = OneHotEncoder() \n",
        "y = onehotencoder.fit_transform(np.array(y).reshape(-1,1)).toarray() "
      ],
      "execution_count": 0,
      "outputs": []
    },
    {
      "cell_type": "markdown",
      "metadata": {
        "id": "IlNWTtSVMEjl",
        "colab_type": "text"
      },
      "source": [
        "# Standardizing the feature columna"
      ]
    },
    {
      "cell_type": "code",
      "metadata": {
        "id": "PPshPrqEMJvm",
        "colab_type": "code",
        "colab": {}
      },
      "source": [
        "X = preprocessing.scale(X)"
      ],
      "execution_count": 0,
      "outputs": []
    },
    {
      "cell_type": "markdown",
      "metadata": {
        "id": "DRtV7aDDqr5a",
        "colab_type": "text"
      },
      "source": [
        "# Spliting the data into training and testing set "
      ]
    },
    {
      "cell_type": "code",
      "metadata": {
        "id": "DattLTVzqr5b",
        "colab_type": "code",
        "colab": {}
      },
      "source": [
        "X_train, X_test, y_train, y_test = train_test_split(X, y, test_size=0.90, random_state=1)#0.25 0.15"
      ],
      "execution_count": 0,
      "outputs": []
    },
    {
      "cell_type": "code",
      "metadata": {
        "id": "2OngDFGdDdPx",
        "colab_type": "code",
        "colab": {}
      },
      "source": [
        "number = int(X_test.shape[0]/2)\n",
        "\n",
        "xx_test = X_test[:number, :]\n",
        "yy_test = y_test[:number, :]\n",
        "xx_val = X_test[number:, :]\n",
        "yy_val = y_test[number:, :]"
      ],
      "execution_count": 0,
      "outputs": []
    },
    {
      "cell_type": "code",
      "metadata": {
        "id": "9M33_KnJNu7n",
        "colab_type": "code",
        "colab": {
          "base_uri": "https://localhost:8080/",
          "height": 34
        },
        "outputId": "ee7eaa76-135c-4e70-986c-81993abf56bd"
      },
      "source": [
        "from keras import backend as K\n",
        "feature = X.shape[1]\n",
        "\n",
        "if K.image_data_format() == 'channels_first':\n",
        "    X_train = X_train.reshape(X_train.shape[0], 1, feature)\n",
        "    xx_test = xx_test.reshape(xx_test.shape[0], 1, feature)\n",
        "    xx_val = xx_val.reshape(xx_val.shape[0], 1, feature)\n",
        "    input_shape = (1, feature)\n",
        "else:\n",
        "    X_train = X_train.reshape(X_train.shape[0], feature, 1)\n",
        "    xx_test = xx_test.reshape(xx_test.shape[0], feature, 1)\n",
        "    xx_val = xx_val.reshape(xx_val.shape[0], feature, 1)\n",
        "    input_shape = (feature, 1)"
      ],
      "execution_count": 18,
      "outputs": [
        {
          "output_type": "stream",
          "text": [
            "Using TensorFlow backend.\n"
          ],
          "name": "stderr"
        }
      ]
    },
    {
      "cell_type": "markdown",
      "metadata": {
        "id": "TXoVZ9ibM34E",
        "colab_type": "text"
      },
      "source": [
        "# Building CNN Model\n"
      ]
    },
    {
      "cell_type": "code",
      "metadata": {
        "id": "QlapBK49M2QU",
        "colab_type": "code",
        "colab": {}
      },
      "source": [
        "from keras.models import Sequential\n",
        "from keras.layers import Dense, Dropout, Flatten, Conv1D, MaxPooling1D, BatchNormalization"
      ],
      "execution_count": 0,
      "outputs": []
    },
    {
      "cell_type": "code",
      "metadata": {
        "id": "AT7KyTCKM-27",
        "colab_type": "code",
        "outputId": "0bb6656d-2fa1-4da9-ce57-db7de681cad3",
        "colab": {
          "base_uri": "https://localhost:8080/",
          "height": 1000
        }
      },
      "source": [
        "model = Sequential()\n",
        "model.add(Conv1D(8, kernel_size=3, activation='relu', input_shape=input_shape))\n",
        "model.add(Conv1D(8, kernel_size=3, activation='relu', input_shape=input_shape))\n",
        "model.add(BatchNormalization())\n",
        "model.add(MaxPooling1D(pool_size=2))\n",
        "model.add(Conv1D(16, 3, activation='relu'))\n",
        "model.add(Conv1D(16, 3, activation='relu'))\n",
        "model.add(BatchNormalization())\n",
        "model.add(MaxPooling1D(pool_size=2))\n",
        "model.add(Conv1D(32, 3, activation='relu'))\n",
        "model.add(Conv1D(32, 3, activation='relu'))\n",
        "model.add(BatchNormalization())\n",
        "model.add(MaxPooling1D(pool_size=2))\n",
        "model.add(Conv1D(64, 3, activation='relu'))\n",
        "model.add(Conv1D(64, 3, activation='relu'))\n",
        "model.add(BatchNormalization())\n",
        "model.add(MaxPooling1D(pool_size=2))\n",
        "model.add(Dropout(0.25))\n",
        "model.add(Flatten())\n",
        "model.add(Dense(64, activation='relu'))\n",
        "model.add(BatchNormalization())\n",
        "model.add(Dropout(0.25))\n",
        "model.add(Dense(32, activation='relu'))\n",
        "model.add(BatchNormalization())\n",
        "model.add(Dropout(0.25))\n",
        "model.add(Dense(16, activation='relu'))\n",
        "model.add(BatchNormalization())\n",
        "model.add(Dropout(0.25))\n",
        "model.add(Dense(9, activation='softmax'))\n",
        "model.summary()"
      ],
      "execution_count": 20,
      "outputs": [
        {
          "output_type": "stream",
          "text": [
            "Model: \"sequential_1\"\n",
            "_________________________________________________________________\n",
            "Layer (type)                 Output Shape              Param #   \n",
            "=================================================================\n",
            "conv1d_1 (Conv1D)            (None, 75, 8)             32        \n",
            "_________________________________________________________________\n",
            "conv1d_2 (Conv1D)            (None, 73, 8)             200       \n",
            "_________________________________________________________________\n",
            "batch_normalization_1 (Batch (None, 73, 8)             32        \n",
            "_________________________________________________________________\n",
            "max_pooling1d_1 (MaxPooling1 (None, 36, 8)             0         \n",
            "_________________________________________________________________\n",
            "conv1d_3 (Conv1D)            (None, 34, 16)            400       \n",
            "_________________________________________________________________\n",
            "conv1d_4 (Conv1D)            (None, 32, 16)            784       \n",
            "_________________________________________________________________\n",
            "batch_normalization_2 (Batch (None, 32, 16)            64        \n",
            "_________________________________________________________________\n",
            "max_pooling1d_2 (MaxPooling1 (None, 16, 16)            0         \n",
            "_________________________________________________________________\n",
            "conv1d_5 (Conv1D)            (None, 14, 32)            1568      \n",
            "_________________________________________________________________\n",
            "conv1d_6 (Conv1D)            (None, 12, 32)            3104      \n",
            "_________________________________________________________________\n",
            "batch_normalization_3 (Batch (None, 12, 32)            128       \n",
            "_________________________________________________________________\n",
            "max_pooling1d_3 (MaxPooling1 (None, 6, 32)             0         \n",
            "_________________________________________________________________\n",
            "conv1d_7 (Conv1D)            (None, 4, 64)             6208      \n",
            "_________________________________________________________________\n",
            "conv1d_8 (Conv1D)            (None, 2, 64)             12352     \n",
            "_________________________________________________________________\n",
            "batch_normalization_4 (Batch (None, 2, 64)             256       \n",
            "_________________________________________________________________\n",
            "max_pooling1d_4 (MaxPooling1 (None, 1, 64)             0         \n",
            "_________________________________________________________________\n",
            "dropout_1 (Dropout)          (None, 1, 64)             0         \n",
            "_________________________________________________________________\n",
            "flatten_1 (Flatten)          (None, 64)                0         \n",
            "_________________________________________________________________\n",
            "dense_1 (Dense)              (None, 64)                4160      \n",
            "_________________________________________________________________\n",
            "batch_normalization_5 (Batch (None, 64)                256       \n",
            "_________________________________________________________________\n",
            "dropout_2 (Dropout)          (None, 64)                0         \n",
            "_________________________________________________________________\n",
            "dense_2 (Dense)              (None, 32)                2080      \n",
            "_________________________________________________________________\n",
            "batch_normalization_6 (Batch (None, 32)                128       \n",
            "_________________________________________________________________\n",
            "dropout_3 (Dropout)          (None, 32)                0         \n",
            "_________________________________________________________________\n",
            "dense_3 (Dense)              (None, 16)                528       \n",
            "_________________________________________________________________\n",
            "batch_normalization_7 (Batch (None, 16)                64        \n",
            "_________________________________________________________________\n",
            "dropout_4 (Dropout)          (None, 16)                0         \n",
            "_________________________________________________________________\n",
            "dense_4 (Dense)              (None, 9)                 153       \n",
            "=================================================================\n",
            "Total params: 32,497\n",
            "Trainable params: 32,033\n",
            "Non-trainable params: 464\n",
            "_________________________________________________________________\n"
          ],
          "name": "stdout"
        }
      ]
    },
    {
      "cell_type": "code",
      "metadata": {
        "id": "3-VSlVynNBID",
        "colab_type": "code",
        "outputId": "d843add2-79f6-47cc-e9a4-6c855933ca39",
        "colab": {
          "base_uri": "https://localhost:8080/",
          "height": 1000
        }
      },
      "source": [
        "import keras\n",
        "model.compile(loss=keras.losses.categorical_crossentropy,\n",
        "              optimizer=keras.optimizers.Adadelta(),\n",
        "              metrics=['accuracy'])\n",
        "\n",
        "model.fit(X_train, y_train,\n",
        "          batch_size=128,\n",
        "          epochs=70,\n",
        "          verbose=1,\n",
        "          validation_data=(xx_val, yy_val))"
      ],
      "execution_count": 21,
      "outputs": [
        {
          "output_type": "stream",
          "text": [
            "Train on 14815 samples, validate on 66669 samples\n",
            "Epoch 1/70\n",
            "14815/14815 [==============================] - 9s 581us/step - loss: 0.8730 - accuracy: 0.7618 - val_loss: 1.8606 - val_accuracy: 0.2919\n",
            "Epoch 2/70\n",
            "14815/14815 [==============================] - 7s 488us/step - loss: 0.3581 - accuracy: 0.9141 - val_loss: 1.2146 - val_accuracy: 0.7320\n",
            "Epoch 3/70\n",
            "14815/14815 [==============================] - 7s 492us/step - loss: 0.2378 - accuracy: 0.9352 - val_loss: 0.5375 - val_accuracy: 0.8229\n",
            "Epoch 4/70\n",
            "14815/14815 [==============================] - 7s 490us/step - loss: 0.1870 - accuracy: 0.9466 - val_loss: 0.1415 - val_accuracy: 0.9565\n",
            "Epoch 5/70\n",
            "14815/14815 [==============================] - 7s 477us/step - loss: 0.1663 - accuracy: 0.9517 - val_loss: 0.1297 - val_accuracy: 0.9634\n",
            "Epoch 6/70\n",
            "14815/14815 [==============================] - 8s 524us/step - loss: 0.1463 - accuracy: 0.9585 - val_loss: 0.0973 - val_accuracy: 0.9672\n",
            "Epoch 7/70\n",
            "14815/14815 [==============================] - 7s 499us/step - loss: 0.1349 - accuracy: 0.9601 - val_loss: 0.1149 - val_accuracy: 0.9588\n",
            "Epoch 8/70\n",
            "14815/14815 [==============================] - 7s 474us/step - loss: 0.1275 - accuracy: 0.9590 - val_loss: 0.0813 - val_accuracy: 0.9731\n",
            "Epoch 9/70\n",
            "14815/14815 [==============================] - 7s 487us/step - loss: 0.1208 - accuracy: 0.9641 - val_loss: 0.0795 - val_accuracy: 0.9738\n",
            "Epoch 10/70\n",
            "14815/14815 [==============================] - 7s 487us/step - loss: 0.1151 - accuracy: 0.9636 - val_loss: 0.0826 - val_accuracy: 0.9712\n",
            "Epoch 11/70\n",
            "14815/14815 [==============================] - 7s 480us/step - loss: 0.1096 - accuracy: 0.9671 - val_loss: 0.0713 - val_accuracy: 0.9760\n",
            "Epoch 12/70\n",
            "14815/14815 [==============================] - 7s 480us/step - loss: 0.1016 - accuracy: 0.9695 - val_loss: 0.1554 - val_accuracy: 0.9516\n",
            "Epoch 13/70\n",
            "14815/14815 [==============================] - 7s 484us/step - loss: 0.1005 - accuracy: 0.9682 - val_loss: 0.0685 - val_accuracy: 0.9768\n",
            "Epoch 14/70\n",
            "14815/14815 [==============================] - 7s 490us/step - loss: 0.1003 - accuracy: 0.9689 - val_loss: 0.0757 - val_accuracy: 0.9703\n",
            "Epoch 15/70\n",
            "14815/14815 [==============================] - 7s 487us/step - loss: 0.0943 - accuracy: 0.9705 - val_loss: 0.0748 - val_accuracy: 0.9764\n",
            "Epoch 16/70\n",
            "14815/14815 [==============================] - 7s 475us/step - loss: 0.0983 - accuracy: 0.9709 - val_loss: 0.9378 - val_accuracy: 0.7423\n",
            "Epoch 17/70\n",
            "14815/14815 [==============================] - 7s 473us/step - loss: 0.0921 - accuracy: 0.9730 - val_loss: 0.0654 - val_accuracy: 0.9782\n",
            "Epoch 18/70\n",
            "14815/14815 [==============================] - 7s 479us/step - loss: 0.0831 - accuracy: 0.9739 - val_loss: 0.0853 - val_accuracy: 0.9703\n",
            "Epoch 19/70\n",
            "14815/14815 [==============================] - 7s 477us/step - loss: 0.0840 - accuracy: 0.9745 - val_loss: 0.0651 - val_accuracy: 0.9780\n",
            "Epoch 20/70\n",
            "14815/14815 [==============================] - 7s 486us/step - loss: 0.0837 - accuracy: 0.9750 - val_loss: 0.0697 - val_accuracy: 0.9777\n",
            "Epoch 21/70\n",
            "14815/14815 [==============================] - 7s 489us/step - loss: 0.0783 - accuracy: 0.9776 - val_loss: 0.0880 - val_accuracy: 0.9699\n",
            "Epoch 22/70\n",
            "14815/14815 [==============================] - 7s 492us/step - loss: 0.0735 - accuracy: 0.9778 - val_loss: 0.0912 - val_accuracy: 0.9709\n",
            "Epoch 23/70\n",
            "14815/14815 [==============================] - 7s 488us/step - loss: 0.0753 - accuracy: 0.9777 - val_loss: 0.0665 - val_accuracy: 0.9778\n",
            "Epoch 24/70\n",
            "14815/14815 [==============================] - 7s 493us/step - loss: 0.0726 - accuracy: 0.9785 - val_loss: 0.0639 - val_accuracy: 0.9792\n",
            "Epoch 25/70\n",
            "14815/14815 [==============================] - 7s 478us/step - loss: 0.0712 - accuracy: 0.9780 - val_loss: 0.1368 - val_accuracy: 0.9600\n",
            "Epoch 26/70\n",
            "14815/14815 [==============================] - 7s 483us/step - loss: 0.0697 - accuracy: 0.9798 - val_loss: 0.0696 - val_accuracy: 0.9804\n",
            "Epoch 27/70\n",
            "14815/14815 [==============================] - 7s 480us/step - loss: 0.0704 - accuracy: 0.9793 - val_loss: 0.1376 - val_accuracy: 0.9621\n",
            "Epoch 28/70\n",
            "14815/14815 [==============================] - 7s 498us/step - loss: 0.0701 - accuracy: 0.9781 - val_loss: 0.0629 - val_accuracy: 0.9802\n",
            "Epoch 29/70\n",
            "14815/14815 [==============================] - 7s 497us/step - loss: 0.0666 - accuracy: 0.9811 - val_loss: 0.2874 - val_accuracy: 0.9086\n",
            "Epoch 30/70\n",
            "14815/14815 [==============================] - 7s 477us/step - loss: 0.0635 - accuracy: 0.9808 - val_loss: 0.0640 - val_accuracy: 0.9819\n",
            "Epoch 31/70\n",
            "14815/14815 [==============================] - 7s 484us/step - loss: 0.0647 - accuracy: 0.9822 - val_loss: 0.0595 - val_accuracy: 0.9822\n",
            "Epoch 32/70\n",
            "14815/14815 [==============================] - 7s 487us/step - loss: 0.0658 - accuracy: 0.9810 - val_loss: 0.2259 - val_accuracy: 0.9390\n",
            "Epoch 33/70\n",
            "14815/14815 [==============================] - 7s 484us/step - loss: 0.0586 - accuracy: 0.9839 - val_loss: 0.0775 - val_accuracy: 0.9769\n",
            "Epoch 34/70\n",
            "14815/14815 [==============================] - 7s 485us/step - loss: 0.0595 - accuracy: 0.9839 - val_loss: 0.0687 - val_accuracy: 0.9783\n",
            "Epoch 35/70\n",
            "14815/14815 [==============================] - 7s 490us/step - loss: 0.0612 - accuracy: 0.9833 - val_loss: 0.0669 - val_accuracy: 0.9781\n",
            "Epoch 36/70\n",
            "14815/14815 [==============================] - 7s 486us/step - loss: 0.0581 - accuracy: 0.9838 - val_loss: 0.0561 - val_accuracy: 0.9832\n",
            "Epoch 37/70\n",
            "14815/14815 [==============================] - 7s 501us/step - loss: 0.0567 - accuracy: 0.9835 - val_loss: 0.0491 - val_accuracy: 0.9849\n",
            "Epoch 38/70\n",
            "14815/14815 [==============================] - 8s 510us/step - loss: 0.0566 - accuracy: 0.9839 - val_loss: 0.0732 - val_accuracy: 0.9795\n",
            "Epoch 39/70\n",
            "14815/14815 [==============================] - 8s 508us/step - loss: 0.0556 - accuracy: 0.9841 - val_loss: 0.0658 - val_accuracy: 0.9808\n",
            "Epoch 40/70\n",
            "14815/14815 [==============================] - 7s 484us/step - loss: 0.0574 - accuracy: 0.9840 - val_loss: 0.1503 - val_accuracy: 0.9560\n",
            "Epoch 41/70\n",
            "14815/14815 [==============================] - 7s 486us/step - loss: 0.0497 - accuracy: 0.9862 - val_loss: 0.0517 - val_accuracy: 0.9850\n",
            "Epoch 42/70\n",
            "14815/14815 [==============================] - 8s 533us/step - loss: 0.0480 - accuracy: 0.9862 - val_loss: 0.0909 - val_accuracy: 0.9714\n",
            "Epoch 43/70\n",
            "14815/14815 [==============================] - 7s 502us/step - loss: 0.0525 - accuracy: 0.9854 - val_loss: 0.0813 - val_accuracy: 0.9752\n",
            "Epoch 44/70\n",
            "14815/14815 [==============================] - 7s 484us/step - loss: 0.0507 - accuracy: 0.9860 - val_loss: 0.0603 - val_accuracy: 0.9836\n",
            "Epoch 45/70\n",
            "14815/14815 [==============================] - 7s 485us/step - loss: 0.0533 - accuracy: 0.9855 - val_loss: 0.0723 - val_accuracy: 0.9784\n",
            "Epoch 46/70\n",
            "14815/14815 [==============================] - 7s 483us/step - loss: 0.0466 - accuracy: 0.9883 - val_loss: 0.1034 - val_accuracy: 0.9697\n",
            "Epoch 47/70\n",
            "14815/14815 [==============================] - 7s 482us/step - loss: 0.0461 - accuracy: 0.9876 - val_loss: 0.0944 - val_accuracy: 0.9699\n",
            "Epoch 48/70\n",
            "14815/14815 [==============================] - 7s 483us/step - loss: 0.0454 - accuracy: 0.9875 - val_loss: 0.0528 - val_accuracy: 0.9858\n",
            "Epoch 49/70\n",
            "14815/14815 [==============================] - 8s 508us/step - loss: 0.0427 - accuracy: 0.9880 - val_loss: 0.0723 - val_accuracy: 0.9815\n",
            "Epoch 50/70\n",
            "14815/14815 [==============================] - 7s 492us/step - loss: 0.0434 - accuracy: 0.9885 - val_loss: 1.3503 - val_accuracy: 0.7395\n",
            "Epoch 51/70\n",
            "14815/14815 [==============================] - 7s 482us/step - loss: 0.0460 - accuracy: 0.9864 - val_loss: 0.0752 - val_accuracy: 0.9801\n",
            "Epoch 52/70\n",
            "14815/14815 [==============================] - 7s 480us/step - loss: 0.0461 - accuracy: 0.9874 - val_loss: 0.0577 - val_accuracy: 0.9849\n",
            "Epoch 53/70\n",
            "14815/14815 [==============================] - 7s 481us/step - loss: 0.0420 - accuracy: 0.9885 - val_loss: 0.0611 - val_accuracy: 0.9848\n",
            "Epoch 54/70\n",
            "14815/14815 [==============================] - 7s 498us/step - loss: 0.0391 - accuracy: 0.9895 - val_loss: 0.1622 - val_accuracy: 0.9636\n",
            "Epoch 55/70\n",
            "14815/14815 [==============================] - 7s 481us/step - loss: 0.0436 - accuracy: 0.9872 - val_loss: 0.0621 - val_accuracy: 0.9816\n",
            "Epoch 56/70\n",
            "14815/14815 [==============================] - 7s 482us/step - loss: 0.0459 - accuracy: 0.9871 - val_loss: 0.0501 - val_accuracy: 0.9877\n",
            "Epoch 57/70\n",
            "14815/14815 [==============================] - 7s 477us/step - loss: 0.0366 - accuracy: 0.9908 - val_loss: 0.0931 - val_accuracy: 0.9760\n",
            "Epoch 58/70\n",
            "14815/14815 [==============================] - 7s 489us/step - loss: 0.0378 - accuracy: 0.9892 - val_loss: 0.0884 - val_accuracy: 0.9753\n",
            "Epoch 59/70\n",
            "14815/14815 [==============================] - 7s 494us/step - loss: 0.0418 - accuracy: 0.9878 - val_loss: 0.0780 - val_accuracy: 0.9816\n",
            "Epoch 60/70\n",
            "14815/14815 [==============================] - 7s 503us/step - loss: 0.0439 - accuracy: 0.9880 - val_loss: 0.1169 - val_accuracy: 0.9727\n",
            "Epoch 61/70\n",
            "14815/14815 [==============================] - 7s 491us/step - loss: 0.0412 - accuracy: 0.9881 - val_loss: 0.0547 - val_accuracy: 0.9855\n",
            "Epoch 62/70\n",
            "14815/14815 [==============================] - 7s 482us/step - loss: 0.0358 - accuracy: 0.9901 - val_loss: 0.1019 - val_accuracy: 0.9760\n",
            "Epoch 63/70\n",
            "14815/14815 [==============================] - 7s 483us/step - loss: 0.0389 - accuracy: 0.9891 - val_loss: 0.0668 - val_accuracy: 0.9808\n",
            "Epoch 64/70\n",
            "14815/14815 [==============================] - 7s 505us/step - loss: 0.0332 - accuracy: 0.9902 - val_loss: 0.0831 - val_accuracy: 0.9790\n",
            "Epoch 65/70\n",
            "14815/14815 [==============================] - 7s 495us/step - loss: 0.0407 - accuracy: 0.9879 - val_loss: 0.0799 - val_accuracy: 0.9802\n",
            "Epoch 66/70\n",
            "14815/14815 [==============================] - 7s 486us/step - loss: 0.0379 - accuracy: 0.9903 - val_loss: 0.0653 - val_accuracy: 0.9847\n",
            "Epoch 67/70\n",
            "14815/14815 [==============================] - 7s 483us/step - loss: 0.0322 - accuracy: 0.9910 - val_loss: 0.1193 - val_accuracy: 0.9711\n",
            "Epoch 68/70\n",
            "14815/14815 [==============================] - 7s 498us/step - loss: 0.0368 - accuracy: 0.9895 - val_loss: 0.0605 - val_accuracy: 0.9852\n",
            "Epoch 69/70\n",
            "14815/14815 [==============================] - 7s 494us/step - loss: 0.0386 - accuracy: 0.9895 - val_loss: 0.0595 - val_accuracy: 0.9860\n",
            "Epoch 70/70\n",
            "14815/14815 [==============================] - 8s 551us/step - loss: 0.0337 - accuracy: 0.9908 - val_loss: 0.0592 - val_accuracy: 0.9864\n"
          ],
          "name": "stdout"
        },
        {
          "output_type": "execute_result",
          "data": {
            "text/plain": [
              "<keras.callbacks.callbacks.History at 0x7fd08d43abe0>"
            ]
          },
          "metadata": {
            "tags": []
          },
          "execution_count": 21
        }
      ]
    },
    {
      "cell_type": "code",
      "metadata": {
        "id": "LSGrC7sxNWhx",
        "colab_type": "code",
        "outputId": "3cd1fe5e-e092-4290-fcff-4dda12a04527",
        "colab": {
          "base_uri": "https://localhost:8080/",
          "height": 68
        }
      },
      "source": [
        "score = model.evaluate(xx_test, yy_test, verbose=1)\n",
        "print('Test loss:', score[0])\n",
        "print('Test accuracy:', score[1])"
      ],
      "execution_count": 22,
      "outputs": [
        {
          "output_type": "stream",
          "text": [
            "66668/66668 [==============================] - 9s 131us/step\n",
            "Test loss: 0.057195269246246794\n",
            "Test accuracy: 0.986650288105011\n"
          ],
          "name": "stdout"
        }
      ]
    },
    {
      "cell_type": "code",
      "metadata": {
        "id": "GbIwG9dgjk-X",
        "colab_type": "code",
        "colab": {}
      },
      "source": [
        ""
      ],
      "execution_count": 0,
      "outputs": []
    }
  ]
}