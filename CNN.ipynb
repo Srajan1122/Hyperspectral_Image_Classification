{
  "nbformat": 4,
  "nbformat_minor": 0,
  "metadata": {
    "colab": {
      "name": "CNN",
      "provenance": [],
      "authorship_tag": "ABX9TyMp12L0XrRCA0PCNKnCQSe2",
      "include_colab_link": true
    },
    "kernelspec": {
      "name": "python3",
      "display_name": "Python 3"
    }
  },
  "cells": [
    {
      "cell_type": "markdown",
      "metadata": {
        "id": "view-in-github",
        "colab_type": "text"
      },
      "source": [
        "<a href=\"https://colab.research.google.com/github/Srajan1122/Hyperspectral_Image_Classification/blob/srajan/CNN.ipynb\" target=\"_parent\"><img src=\"https://colab.research.google.com/assets/colab-badge.svg\" alt=\"Open In Colab\"/></a>"
      ]
    },
    {
      "cell_type": "code",
      "metadata": {
        "id": "pO-nUq2-KL7a",
        "colab_type": "code",
        "outputId": "00f3fc12-0dda-4d57-bbe0-e9b6020a16a8",
        "colab": {
          "base_uri": "https://localhost:8080/",
          "height": 34
        }
      },
      "source": [
        "from google.colab import drive\n",
        "drive.mount('/content/drive')"
      ],
      "execution_count": 1,
      "outputs": [
        {
          "output_type": "stream",
          "text": [
            "Drive already mounted at /content/drive; to attempt to forcibly remount, call drive.mount(\"/content/drive\", force_remount=True).\n"
          ],
          "name": "stdout"
        }
      ]
    },
    {
      "cell_type": "markdown",
      "metadata": {
        "id": "aXpp9_cwKqz1",
        "colab_type": "text"
      },
      "source": [
        "# Importing Libraries"
      ]
    },
    {
      "cell_type": "code",
      "metadata": {
        "id": "qVxnzfWvKN-K",
        "colab_type": "code",
        "colab": {}
      },
      "source": [
        "import pandas as pd\n",
        "import numpy as np\n",
        "from scipy import io\n",
        "from sklearn.model_selection import train_test_split\n",
        "from sklearn.preprocessing import OneHotEncoder \n",
        "from sklearn import preprocessing"
      ],
      "execution_count": 0,
      "outputs": []
    },
    {
      "cell_type": "markdown",
      "metadata": {
        "id": "UqasbIqPK0KM",
        "colab_type": "text"
      },
      "source": [
        "# Importing Dataset"
      ]
    },
    {
      "cell_type": "code",
      "metadata": {
        "id": "erOp3hTTKuzQ",
        "colab_type": "code",
        "colab": {}
      },
      "source": [
        "loaded_dataset = io.loadmat('/content/drive/My Drive/Srajan/Internship/SEM4-LeadingindiaAI/Tasks/Datasets/PaviaC/Pavia.mat')\n",
        "for key, value in loaded_dataset.items():\n",
        "  if isinstance(value, type(np.array([1]))):\n",
        "    image = loaded_dataset[key]"
      ],
      "execution_count": 0,
      "outputs": []
    },
    {
      "cell_type": "code",
      "metadata": {
        "id": "HjbphR_nK5O8",
        "colab_type": "code",
        "colab": {}
      },
      "source": [
        "ground_truth_1 = io.loadmat('/content/drive/My Drive/Srajan/Internship/SEM4-LeadingindiaAI/Tasks/Datasets/PaviaC/Pavia_gt.mat')\n",
        "for key, value in ground_truth_1.items():\n",
        "  if isinstance(value, type(np.array([1]))):\n",
        "    ground_truth = ground_truth_1[key]"
      ],
      "execution_count": 0,
      "outputs": []
    },
    {
      "cell_type": "markdown",
      "metadata": {
        "id": "_9l4ZElPK8xW",
        "colab_type": "text"
      },
      "source": [
        "## Class Labels"
      ]
    },
    {
      "cell_type": "code",
      "metadata": {
        "id": "JumPKdTvK_EY",
        "colab_type": "code",
        "colab": {}
      },
      "source": [
        "label_values = [\"Alfalfa\", \"Corn-notill\", \"Corn-mintill\",\n",
        "                        \"Corn\", \"Grass-pasture\", \"Grass-trees\",\n",
        "                        \"Grass-pasture-mowed\", \"Hay-windrowed\", \"Oats\",\n",
        "                        \"Soybean-notill\", \"Soybean-mintill\", \"Soybean-clean\",\n",
        "                        \"Wheat\", \"Woods\", \"Buildings-Grass-Trees-Drives\",\n",
        "                        \"Stone-Steel-Towers\"]"
      ],
      "execution_count": 0,
      "outputs": []
    },
    {
      "cell_type": "markdown",
      "metadata": {
        "id": "QYIFKIPmLCFV",
        "colab_type": "text"
      },
      "source": [
        "## Resizing the data"
      ]
    },
    {
      "cell_type": "code",
      "metadata": {
        "id": "UnRRsjn8K_zG",
        "colab_type": "code",
        "colab": {}
      },
      "source": [
        "image_with_gt = np.dstack((image, ground_truth))"
      ],
      "execution_count": 0,
      "outputs": []
    },
    {
      "cell_type": "code",
      "metadata": {
        "id": "P2hhElWJLF9V",
        "colab_type": "code",
        "colab": {}
      },
      "source": [
        "final_output = image_with_gt.reshape(ground_truth.size, image.shape[2]+1)"
      ],
      "execution_count": 0,
      "outputs": []
    },
    {
      "cell_type": "markdown",
      "metadata": {
        "id": "ZKGD0bRxLJff",
        "colab_type": "text"
      },
      "source": [
        "## Data Visualization in pandas"
      ]
    },
    {
      "cell_type": "code",
      "metadata": {
        "id": "4AWkTHdDLOwf",
        "colab_type": "code",
        "colab": {}
      },
      "source": [
        "data = pd.DataFrame(final_output)"
      ],
      "execution_count": 0,
      "outputs": []
    },
    {
      "cell_type": "code",
      "metadata": {
        "id": "9ctUP_zKLUpJ",
        "colab_type": "code",
        "outputId": "f7889774-d428-4d54-f5ab-0e0188493322",
        "colab": {
          "base_uri": "https://localhost:8080/",
          "height": 253
        }
      },
      "source": [
        "data.head()"
      ],
      "execution_count": 9,
      "outputs": [
        {
          "output_type": "execute_result",
          "data": {
            "text/html": [
              "<div>\n",
              "<style scoped>\n",
              "    .dataframe tbody tr th:only-of-type {\n",
              "        vertical-align: middle;\n",
              "    }\n",
              "\n",
              "    .dataframe tbody tr th {\n",
              "        vertical-align: top;\n",
              "    }\n",
              "\n",
              "    .dataframe thead th {\n",
              "        text-align: right;\n",
              "    }\n",
              "</style>\n",
              "<table border=\"1\" class=\"dataframe\">\n",
              "  <thead>\n",
              "    <tr style=\"text-align: right;\">\n",
              "      <th></th>\n",
              "      <th>0</th>\n",
              "      <th>1</th>\n",
              "      <th>2</th>\n",
              "      <th>3</th>\n",
              "      <th>4</th>\n",
              "      <th>5</th>\n",
              "      <th>6</th>\n",
              "      <th>7</th>\n",
              "      <th>8</th>\n",
              "      <th>9</th>\n",
              "      <th>10</th>\n",
              "      <th>11</th>\n",
              "      <th>12</th>\n",
              "      <th>13</th>\n",
              "      <th>14</th>\n",
              "      <th>15</th>\n",
              "      <th>16</th>\n",
              "      <th>17</th>\n",
              "      <th>18</th>\n",
              "      <th>19</th>\n",
              "      <th>20</th>\n",
              "      <th>21</th>\n",
              "      <th>22</th>\n",
              "      <th>23</th>\n",
              "      <th>24</th>\n",
              "      <th>25</th>\n",
              "      <th>26</th>\n",
              "      <th>27</th>\n",
              "      <th>28</th>\n",
              "      <th>29</th>\n",
              "      <th>30</th>\n",
              "      <th>31</th>\n",
              "      <th>32</th>\n",
              "      <th>33</th>\n",
              "      <th>34</th>\n",
              "      <th>35</th>\n",
              "      <th>36</th>\n",
              "      <th>37</th>\n",
              "      <th>38</th>\n",
              "      <th>39</th>\n",
              "      <th>...</th>\n",
              "      <th>63</th>\n",
              "      <th>64</th>\n",
              "      <th>65</th>\n",
              "      <th>66</th>\n",
              "      <th>67</th>\n",
              "      <th>68</th>\n",
              "      <th>69</th>\n",
              "      <th>70</th>\n",
              "      <th>71</th>\n",
              "      <th>72</th>\n",
              "      <th>73</th>\n",
              "      <th>74</th>\n",
              "      <th>75</th>\n",
              "      <th>76</th>\n",
              "      <th>77</th>\n",
              "      <th>78</th>\n",
              "      <th>79</th>\n",
              "      <th>80</th>\n",
              "      <th>81</th>\n",
              "      <th>82</th>\n",
              "      <th>83</th>\n",
              "      <th>84</th>\n",
              "      <th>85</th>\n",
              "      <th>86</th>\n",
              "      <th>87</th>\n",
              "      <th>88</th>\n",
              "      <th>89</th>\n",
              "      <th>90</th>\n",
              "      <th>91</th>\n",
              "      <th>92</th>\n",
              "      <th>93</th>\n",
              "      <th>94</th>\n",
              "      <th>95</th>\n",
              "      <th>96</th>\n",
              "      <th>97</th>\n",
              "      <th>98</th>\n",
              "      <th>99</th>\n",
              "      <th>100</th>\n",
              "      <th>101</th>\n",
              "      <th>102</th>\n",
              "    </tr>\n",
              "  </thead>\n",
              "  <tbody>\n",
              "    <tr>\n",
              "      <th>0</th>\n",
              "      <td>854</td>\n",
              "      <td>601</td>\n",
              "      <td>350</td>\n",
              "      <td>266</td>\n",
              "      <td>138</td>\n",
              "      <td>118</td>\n",
              "      <td>178</td>\n",
              "      <td>194</td>\n",
              "      <td>257</td>\n",
              "      <td>269</td>\n",
              "      <td>239</td>\n",
              "      <td>243</td>\n",
              "      <td>220</td>\n",
              "      <td>191</td>\n",
              "      <td>173</td>\n",
              "      <td>150</td>\n",
              "      <td>125</td>\n",
              "      <td>131</td>\n",
              "      <td>137</td>\n",
              "      <td>172</td>\n",
              "      <td>195</td>\n",
              "      <td>218</td>\n",
              "      <td>255</td>\n",
              "      <td>291</td>\n",
              "      <td>320</td>\n",
              "      <td>346</td>\n",
              "      <td>347</td>\n",
              "      <td>368</td>\n",
              "      <td>404</td>\n",
              "      <td>428</td>\n",
              "      <td>429</td>\n",
              "      <td>416</td>\n",
              "      <td>394</td>\n",
              "      <td>368</td>\n",
              "      <td>357</td>\n",
              "      <td>361</td>\n",
              "      <td>369</td>\n",
              "      <td>368</td>\n",
              "      <td>351</td>\n",
              "      <td>328</td>\n",
              "      <td>...</td>\n",
              "      <td>219</td>\n",
              "      <td>239</td>\n",
              "      <td>289</td>\n",
              "      <td>366</td>\n",
              "      <td>482</td>\n",
              "      <td>632</td>\n",
              "      <td>814</td>\n",
              "      <td>1005</td>\n",
              "      <td>1225</td>\n",
              "      <td>1464</td>\n",
              "      <td>1732</td>\n",
              "      <td>2044</td>\n",
              "      <td>2383</td>\n",
              "      <td>2716</td>\n",
              "      <td>2985</td>\n",
              "      <td>3203</td>\n",
              "      <td>3385</td>\n",
              "      <td>3538</td>\n",
              "      <td>3667</td>\n",
              "      <td>3696</td>\n",
              "      <td>3548</td>\n",
              "      <td>3608</td>\n",
              "      <td>3744</td>\n",
              "      <td>3792</td>\n",
              "      <td>3802</td>\n",
              "      <td>3815</td>\n",
              "      <td>3836</td>\n",
              "      <td>3827</td>\n",
              "      <td>3765</td>\n",
              "      <td>3752</td>\n",
              "      <td>3759</td>\n",
              "      <td>3773</td>\n",
              "      <td>3779</td>\n",
              "      <td>3752</td>\n",
              "      <td>3690</td>\n",
              "      <td>3671</td>\n",
              "      <td>3664</td>\n",
              "      <td>3636</td>\n",
              "      <td>3643</td>\n",
              "      <td>0</td>\n",
              "    </tr>\n",
              "    <tr>\n",
              "      <th>1</th>\n",
              "      <td>527</td>\n",
              "      <td>642</td>\n",
              "      <td>575</td>\n",
              "      <td>294</td>\n",
              "      <td>123</td>\n",
              "      <td>168</td>\n",
              "      <td>207</td>\n",
              "      <td>154</td>\n",
              "      <td>209</td>\n",
              "      <td>299</td>\n",
              "      <td>299</td>\n",
              "      <td>278</td>\n",
              "      <td>235</td>\n",
              "      <td>181</td>\n",
              "      <td>181</td>\n",
              "      <td>236</td>\n",
              "      <td>256</td>\n",
              "      <td>253</td>\n",
              "      <td>225</td>\n",
              "      <td>202</td>\n",
              "      <td>221</td>\n",
              "      <td>256</td>\n",
              "      <td>321</td>\n",
              "      <td>358</td>\n",
              "      <td>385</td>\n",
              "      <td>429</td>\n",
              "      <td>492</td>\n",
              "      <td>533</td>\n",
              "      <td>554</td>\n",
              "      <td>553</td>\n",
              "      <td>557</td>\n",
              "      <td>580</td>\n",
              "      <td>561</td>\n",
              "      <td>522</td>\n",
              "      <td>525</td>\n",
              "      <td>513</td>\n",
              "      <td>474</td>\n",
              "      <td>435</td>\n",
              "      <td>412</td>\n",
              "      <td>401</td>\n",
              "      <td>...</td>\n",
              "      <td>254</td>\n",
              "      <td>305</td>\n",
              "      <td>349</td>\n",
              "      <td>401</td>\n",
              "      <td>508</td>\n",
              "      <td>681</td>\n",
              "      <td>888</td>\n",
              "      <td>1076</td>\n",
              "      <td>1297</td>\n",
              "      <td>1577</td>\n",
              "      <td>1855</td>\n",
              "      <td>2117</td>\n",
              "      <td>2456</td>\n",
              "      <td>2772</td>\n",
              "      <td>3002</td>\n",
              "      <td>3205</td>\n",
              "      <td>3388</td>\n",
              "      <td>3526</td>\n",
              "      <td>3629</td>\n",
              "      <td>3665</td>\n",
              "      <td>3586</td>\n",
              "      <td>3653</td>\n",
              "      <td>3747</td>\n",
              "      <td>3813</td>\n",
              "      <td>3831</td>\n",
              "      <td>3829</td>\n",
              "      <td>3841</td>\n",
              "      <td>3885</td>\n",
              "      <td>3916</td>\n",
              "      <td>3907</td>\n",
              "      <td>3873</td>\n",
              "      <td>3902</td>\n",
              "      <td>3921</td>\n",
              "      <td>3861</td>\n",
              "      <td>3854</td>\n",
              "      <td>3882</td>\n",
              "      <td>3834</td>\n",
              "      <td>3725</td>\n",
              "      <td>3768</td>\n",
              "      <td>0</td>\n",
              "    </tr>\n",
              "    <tr>\n",
              "      <th>2</th>\n",
              "      <td>374</td>\n",
              "      <td>322</td>\n",
              "      <td>179</td>\n",
              "      <td>87</td>\n",
              "      <td>169</td>\n",
              "      <td>268</td>\n",
              "      <td>360</td>\n",
              "      <td>339</td>\n",
              "      <td>286</td>\n",
              "      <td>309</td>\n",
              "      <td>340</td>\n",
              "      <td>305</td>\n",
              "      <td>206</td>\n",
              "      <td>202</td>\n",
              "      <td>269</td>\n",
              "      <td>256</td>\n",
              "      <td>246</td>\n",
              "      <td>226</td>\n",
              "      <td>218</td>\n",
              "      <td>275</td>\n",
              "      <td>318</td>\n",
              "      <td>356</td>\n",
              "      <td>395</td>\n",
              "      <td>425</td>\n",
              "      <td>461</td>\n",
              "      <td>520</td>\n",
              "      <td>587</td>\n",
              "      <td>623</td>\n",
              "      <td>621</td>\n",
              "      <td>617</td>\n",
              "      <td>636</td>\n",
              "      <td>657</td>\n",
              "      <td>665</td>\n",
              "      <td>670</td>\n",
              "      <td>645</td>\n",
              "      <td>610</td>\n",
              "      <td>576</td>\n",
              "      <td>547</td>\n",
              "      <td>532</td>\n",
              "      <td>523</td>\n",
              "      <td>...</td>\n",
              "      <td>369</td>\n",
              "      <td>418</td>\n",
              "      <td>484</td>\n",
              "      <td>590</td>\n",
              "      <td>754</td>\n",
              "      <td>969</td>\n",
              "      <td>1201</td>\n",
              "      <td>1460</td>\n",
              "      <td>1716</td>\n",
              "      <td>2002</td>\n",
              "      <td>2319</td>\n",
              "      <td>2690</td>\n",
              "      <td>3055</td>\n",
              "      <td>3368</td>\n",
              "      <td>3666</td>\n",
              "      <td>3901</td>\n",
              "      <td>4082</td>\n",
              "      <td>4258</td>\n",
              "      <td>4372</td>\n",
              "      <td>4392</td>\n",
              "      <td>4231</td>\n",
              "      <td>4256</td>\n",
              "      <td>4419</td>\n",
              "      <td>4495</td>\n",
              "      <td>4501</td>\n",
              "      <td>4472</td>\n",
              "      <td>4486</td>\n",
              "      <td>4499</td>\n",
              "      <td>4453</td>\n",
              "      <td>4404</td>\n",
              "      <td>4443</td>\n",
              "      <td>4472</td>\n",
              "      <td>4428</td>\n",
              "      <td>4353</td>\n",
              "      <td>4306</td>\n",
              "      <td>4284</td>\n",
              "      <td>4318</td>\n",
              "      <td>4311</td>\n",
              "      <td>4321</td>\n",
              "      <td>0</td>\n",
              "    </tr>\n",
              "    <tr>\n",
              "      <th>3</th>\n",
              "      <td>706</td>\n",
              "      <td>520</td>\n",
              "      <td>560</td>\n",
              "      <td>572</td>\n",
              "      <td>425</td>\n",
              "      <td>243</td>\n",
              "      <td>271</td>\n",
              "      <td>272</td>\n",
              "      <td>258</td>\n",
              "      <td>276</td>\n",
              "      <td>299</td>\n",
              "      <td>313</td>\n",
              "      <td>320</td>\n",
              "      <td>336</td>\n",
              "      <td>299</td>\n",
              "      <td>274</td>\n",
              "      <td>322</td>\n",
              "      <td>361</td>\n",
              "      <td>358</td>\n",
              "      <td>377</td>\n",
              "      <td>387</td>\n",
              "      <td>396</td>\n",
              "      <td>415</td>\n",
              "      <td>486</td>\n",
              "      <td>564</td>\n",
              "      <td>624</td>\n",
              "      <td>668</td>\n",
              "      <td>680</td>\n",
              "      <td>696</td>\n",
              "      <td>728</td>\n",
              "      <td>753</td>\n",
              "      <td>721</td>\n",
              "      <td>700</td>\n",
              "      <td>713</td>\n",
              "      <td>690</td>\n",
              "      <td>642</td>\n",
              "      <td>592</td>\n",
              "      <td>560</td>\n",
              "      <td>542</td>\n",
              "      <td>547</td>\n",
              "      <td>...</td>\n",
              "      <td>384</td>\n",
              "      <td>418</td>\n",
              "      <td>481</td>\n",
              "      <td>568</td>\n",
              "      <td>693</td>\n",
              "      <td>865</td>\n",
              "      <td>1057</td>\n",
              "      <td>1259</td>\n",
              "      <td>1478</td>\n",
              "      <td>1714</td>\n",
              "      <td>1971</td>\n",
              "      <td>2261</td>\n",
              "      <td>2548</td>\n",
              "      <td>2818</td>\n",
              "      <td>3135</td>\n",
              "      <td>3377</td>\n",
              "      <td>3564</td>\n",
              "      <td>3731</td>\n",
              "      <td>3820</td>\n",
              "      <td>3814</td>\n",
              "      <td>3710</td>\n",
              "      <td>3770</td>\n",
              "      <td>3904</td>\n",
              "      <td>3976</td>\n",
              "      <td>3967</td>\n",
              "      <td>3973</td>\n",
              "      <td>4032</td>\n",
              "      <td>4078</td>\n",
              "      <td>4040</td>\n",
              "      <td>3992</td>\n",
              "      <td>3972</td>\n",
              "      <td>4006</td>\n",
              "      <td>4032</td>\n",
              "      <td>3975</td>\n",
              "      <td>3946</td>\n",
              "      <td>3954</td>\n",
              "      <td>3944</td>\n",
              "      <td>3936</td>\n",
              "      <td>3939</td>\n",
              "      <td>0</td>\n",
              "    </tr>\n",
              "    <tr>\n",
              "      <th>4</th>\n",
              "      <td>1120</td>\n",
              "      <td>1027</td>\n",
              "      <td>592</td>\n",
              "      <td>414</td>\n",
              "      <td>407</td>\n",
              "      <td>463</td>\n",
              "      <td>417</td>\n",
              "      <td>365</td>\n",
              "      <td>332</td>\n",
              "      <td>334</td>\n",
              "      <td>356</td>\n",
              "      <td>327</td>\n",
              "      <td>296</td>\n",
              "      <td>325</td>\n",
              "      <td>346</td>\n",
              "      <td>308</td>\n",
              "      <td>262</td>\n",
              "      <td>262</td>\n",
              "      <td>292</td>\n",
              "      <td>312</td>\n",
              "      <td>335</td>\n",
              "      <td>394</td>\n",
              "      <td>430</td>\n",
              "      <td>450</td>\n",
              "      <td>491</td>\n",
              "      <td>570</td>\n",
              "      <td>611</td>\n",
              "      <td>616</td>\n",
              "      <td>631</td>\n",
              "      <td>659</td>\n",
              "      <td>686</td>\n",
              "      <td>705</td>\n",
              "      <td>691</td>\n",
              "      <td>667</td>\n",
              "      <td>624</td>\n",
              "      <td>584</td>\n",
              "      <td>570</td>\n",
              "      <td>549</td>\n",
              "      <td>530</td>\n",
              "      <td>517</td>\n",
              "      <td>...</td>\n",
              "      <td>349</td>\n",
              "      <td>365</td>\n",
              "      <td>398</td>\n",
              "      <td>505</td>\n",
              "      <td>677</td>\n",
              "      <td>877</td>\n",
              "      <td>1116</td>\n",
              "      <td>1410</td>\n",
              "      <td>1717</td>\n",
              "      <td>2015</td>\n",
              "      <td>2339</td>\n",
              "      <td>2670</td>\n",
              "      <td>3028</td>\n",
              "      <td>3415</td>\n",
              "      <td>3713</td>\n",
              "      <td>3928</td>\n",
              "      <td>4131</td>\n",
              "      <td>4296</td>\n",
              "      <td>4445</td>\n",
              "      <td>4508</td>\n",
              "      <td>4305</td>\n",
              "      <td>4232</td>\n",
              "      <td>4422</td>\n",
              "      <td>4554</td>\n",
              "      <td>4550</td>\n",
              "      <td>4524</td>\n",
              "      <td>4532</td>\n",
              "      <td>4578</td>\n",
              "      <td>4584</td>\n",
              "      <td>4555</td>\n",
              "      <td>4502</td>\n",
              "      <td>4485</td>\n",
              "      <td>4479</td>\n",
              "      <td>4445</td>\n",
              "      <td>4364</td>\n",
              "      <td>4290</td>\n",
              "      <td>4268</td>\n",
              "      <td>4235</td>\n",
              "      <td>4272</td>\n",
              "      <td>0</td>\n",
              "    </tr>\n",
              "  </tbody>\n",
              "</table>\n",
              "<p>5 rows × 103 columns</p>\n",
              "</div>"
            ],
            "text/plain": [
              "    0     1    2    3    4    5    6    ...   96    97    98    99    100   101  102\n",
              "0   854   601  350  266  138  118  178  ...  3752  3690  3671  3664  3636  3643    0\n",
              "1   527   642  575  294  123  168  207  ...  3861  3854  3882  3834  3725  3768    0\n",
              "2   374   322  179   87  169  268  360  ...  4353  4306  4284  4318  4311  4321    0\n",
              "3   706   520  560  572  425  243  271  ...  3975  3946  3954  3944  3936  3939    0\n",
              "4  1120  1027  592  414  407  463  417  ...  4445  4364  4290  4268  4235  4272    0\n",
              "\n",
              "[5 rows x 103 columns]"
            ]
          },
          "metadata": {
            "tags": []
          },
          "execution_count": 9
        }
      ]
    },
    {
      "cell_type": "markdown",
      "metadata": {
        "id": "OLWjsfqaLZs0",
        "colab_type": "text"
      },
      "source": [
        "## Droping the rows if ground truth value is zero"
      ]
    },
    {
      "cell_type": "code",
      "metadata": {
        "id": "OlyctDjwLYkb",
        "colab_type": "code",
        "outputId": "ac97c28e-4577-4ac2-f046-ca5c61dd1af3",
        "colab": {
          "base_uri": "https://localhost:8080/",
          "height": 34
        }
      },
      "source": [
        "print(\"Percentage of column which will be droped\",(data.size - data[data.iloc[:, -1] == 0].size)/data.size,\"%\")"
      ],
      "execution_count": 10,
      "outputs": [
        {
          "output_type": "stream",
          "text": [
            "Percentage of column which will be droped 0.1890561992751774 %\n"
          ],
          "name": "stdout"
        }
      ]
    },
    {
      "cell_type": "code",
      "metadata": {
        "id": "_tJ0vUTCLhZx",
        "colab_type": "code",
        "colab": {}
      },
      "source": [
        "data = data[data.iloc[:, -1] != 0]"
      ],
      "execution_count": 0,
      "outputs": []
    },
    {
      "cell_type": "markdown",
      "metadata": {
        "id": "kE5Gc8BTLiAN",
        "colab_type": "text"
      },
      "source": [
        "# Spliting the data into feature and target"
      ]
    },
    {
      "cell_type": "code",
      "metadata": {
        "id": "FJ4dCIbILrwg",
        "colab_type": "code",
        "colab": {}
      },
      "source": [
        "X = data.iloc[:, :-1]\n",
        "y = data.iloc[:,-1]"
      ],
      "execution_count": 0,
      "outputs": []
    },
    {
      "cell_type": "markdown",
      "metadata": {
        "id": "CHPv8SimL1Iu",
        "colab_type": "text"
      },
      "source": [
        "# Feature Selection"
      ]
    },
    {
      "cell_type": "code",
      "metadata": {
        "id": "6aMaE8k8L0VV",
        "colab_type": "code",
        "colab": {}
      },
      "source": [
        "from sklearn.feature_selection import SelectKBest\n",
        "from sklearn.feature_selection import chi2, f_classif, mutual_info_classif\n",
        "\n",
        "X = SelectKBest(f_classif, k=int((image.shape[2]+1)*0.75)).fit_transform(X, y)"
      ],
      "execution_count": 0,
      "outputs": []
    },
    {
      "cell_type": "markdown",
      "metadata": {
        "id": "fijfR_5DL9IK",
        "colab_type": "text"
      },
      "source": [
        "# OneHotEncoding in target column"
      ]
    },
    {
      "cell_type": "code",
      "metadata": {
        "id": "_QoUCdAwMBAD",
        "colab_type": "code",
        "colab": {}
      },
      "source": [
        "onehotencoder = OneHotEncoder() \n",
        "y = onehotencoder.fit_transform(np.array(y).reshape(-1,1)).toarray() "
      ],
      "execution_count": 0,
      "outputs": []
    },
    {
      "cell_type": "markdown",
      "metadata": {
        "id": "IlNWTtSVMEjl",
        "colab_type": "text"
      },
      "source": [
        "# Standardizing the feature columna"
      ]
    },
    {
      "cell_type": "code",
      "metadata": {
        "id": "PPshPrqEMJvm",
        "colab_type": "code",
        "colab": {}
      },
      "source": [
        "X = preprocessing.scale(X)"
      ],
      "execution_count": 0,
      "outputs": []
    },
    {
      "cell_type": "markdown",
      "metadata": {
        "id": "DRtV7aDDqr5a",
        "colab_type": "text"
      },
      "source": [
        "# Spliting the data into training and testing set "
      ]
    },
    {
      "cell_type": "code",
      "metadata": {
        "id": "DattLTVzqr5b",
        "colab_type": "code",
        "colab": {}
      },
      "source": [
        "X_train, X_test, y_train, y_test = train_test_split(X, y, test_size=0.30, random_state=1)#0.25 0.15"
      ],
      "execution_count": 0,
      "outputs": []
    },
    {
      "cell_type": "code",
      "metadata": {
        "id": "2OngDFGdDdPx",
        "colab_type": "code",
        "colab": {}
      },
      "source": [
        "number = int(X_test.shape[0]/2)\n",
        "\n",
        "xx_test = X_test[:number, :]\n",
        "yy_test = y_test[:number, :]\n",
        "xx_val = X_test[number:, :]\n",
        "yy_val = y_test[number:, :]"
      ],
      "execution_count": 0,
      "outputs": []
    },
    {
      "cell_type": "code",
      "metadata": {
        "id": "9M33_KnJNu7n",
        "colab_type": "code",
        "colab": {
          "base_uri": "https://localhost:8080/",
          "height": 34
        },
        "outputId": "a357d15a-70af-4ce0-b0c7-f357d2518693"
      },
      "source": [
        "from keras import backend as K\n",
        "feature = X.shape[1]\n",
        "\n",
        "if K.image_data_format() == 'channels_first':\n",
        "    X_train = X_train.reshape(X_train.shape[0], 1, feature)\n",
        "    xx_test = xx_test.reshape(xx_test.shape[0], 1, feature)\n",
        "    xx_val = xx_val.reshape(xx_val.shape[0], 1, feature)\n",
        "    input_shape = (1, feature)\n",
        "else:\n",
        "    X_train = X_train.reshape(X_train.shape[0], feature, 1)\n",
        "    xx_test = xx_test.reshape(xx_test.shape[0], feature, 1)\n",
        "    xx_val = xx_val.reshape(xx_val.shape[0], feature, 1)\n",
        "    input_shape = (feature, 1)"
      ],
      "execution_count": 18,
      "outputs": [
        {
          "output_type": "stream",
          "text": [
            "Using TensorFlow backend.\n"
          ],
          "name": "stderr"
        }
      ]
    },
    {
      "cell_type": "markdown",
      "metadata": {
        "id": "TXoVZ9ibM34E",
        "colab_type": "text"
      },
      "source": [
        "# Building CNN Model\n"
      ]
    },
    {
      "cell_type": "code",
      "metadata": {
        "id": "QlapBK49M2QU",
        "colab_type": "code",
        "colab": {}
      },
      "source": [
        "from keras.models import Sequential\n",
        "from keras.layers import Dense, Dropout, Flatten, Conv1D, MaxPooling1D, BatchNormalization"
      ],
      "execution_count": 0,
      "outputs": []
    },
    {
      "cell_type": "code",
      "metadata": {
        "id": "AT7KyTCKM-27",
        "colab_type": "code",
        "outputId": "038f63cd-322f-4249-b901-5624d250b178",
        "colab": {
          "base_uri": "https://localhost:8080/",
          "height": 1000
        }
      },
      "source": [
        "model = Sequential()\n",
        "model.add(Conv1D(8, kernel_size=3, activation='relu', input_shape=input_shape))\n",
        "model.add(Conv1D(8, kernel_size=3, activation='relu', input_shape=input_shape))\n",
        "model.add(BatchNormalization())\n",
        "model.add(MaxPooling1D(pool_size=2))\n",
        "model.add(Conv1D(16, 3, activation='relu'))\n",
        "model.add(Conv1D(16, 3, activation='relu'))\n",
        "model.add(BatchNormalization())\n",
        "model.add(MaxPooling1D(pool_size=2))\n",
        "model.add(Conv1D(32, 3, activation='relu'))\n",
        "model.add(Conv1D(32, 3, activation='relu'))\n",
        "model.add(BatchNormalization())\n",
        "model.add(MaxPooling1D(pool_size=2))\n",
        "model.add(Conv1D(64, 3, activation='relu'))\n",
        "model.add(Conv1D(64, 3, activation='relu'))\n",
        "model.add(BatchNormalization())\n",
        "model.add(MaxPooling1D(pool_size=2))\n",
        "model.add(Dropout(0.25))\n",
        "model.add(Flatten())\n",
        "model.add(Dense(64, activation='relu'))\n",
        "model.add(BatchNormalization())\n",
        "model.add(Dropout(0.5))\n",
        "model.add(Dense(32, activation='relu'))\n",
        "model.add(BatchNormalization())\n",
        "model.add(Dropout(0.5))\n",
        "model.add(Dense(16, activation='relu'))\n",
        "model.add(BatchNormalization())\n",
        "model.add(Dropout(0.5))\n",
        "model.add(Dense(9, activation='softmax'))\n",
        "model.summary()"
      ],
      "execution_count": 20,
      "outputs": [
        {
          "output_type": "stream",
          "text": [
            "Model: \"sequential_1\"\n",
            "_________________________________________________________________\n",
            "Layer (type)                 Output Shape              Param #   \n",
            "=================================================================\n",
            "conv1d_1 (Conv1D)            (None, 75, 8)             32        \n",
            "_________________________________________________________________\n",
            "conv1d_2 (Conv1D)            (None, 73, 8)             200       \n",
            "_________________________________________________________________\n",
            "batch_normalization_1 (Batch (None, 73, 8)             32        \n",
            "_________________________________________________________________\n",
            "max_pooling1d_1 (MaxPooling1 (None, 36, 8)             0         \n",
            "_________________________________________________________________\n",
            "conv1d_3 (Conv1D)            (None, 34, 16)            400       \n",
            "_________________________________________________________________\n",
            "conv1d_4 (Conv1D)            (None, 32, 16)            784       \n",
            "_________________________________________________________________\n",
            "batch_normalization_2 (Batch (None, 32, 16)            64        \n",
            "_________________________________________________________________\n",
            "max_pooling1d_2 (MaxPooling1 (None, 16, 16)            0         \n",
            "_________________________________________________________________\n",
            "conv1d_5 (Conv1D)            (None, 14, 32)            1568      \n",
            "_________________________________________________________________\n",
            "conv1d_6 (Conv1D)            (None, 12, 32)            3104      \n",
            "_________________________________________________________________\n",
            "batch_normalization_3 (Batch (None, 12, 32)            128       \n",
            "_________________________________________________________________\n",
            "max_pooling1d_3 (MaxPooling1 (None, 6, 32)             0         \n",
            "_________________________________________________________________\n",
            "conv1d_7 (Conv1D)            (None, 4, 64)             6208      \n",
            "_________________________________________________________________\n",
            "conv1d_8 (Conv1D)            (None, 2, 64)             12352     \n",
            "_________________________________________________________________\n",
            "batch_normalization_4 (Batch (None, 2, 64)             256       \n",
            "_________________________________________________________________\n",
            "max_pooling1d_4 (MaxPooling1 (None, 1, 64)             0         \n",
            "_________________________________________________________________\n",
            "dropout_1 (Dropout)          (None, 1, 64)             0         \n",
            "_________________________________________________________________\n",
            "flatten_1 (Flatten)          (None, 64)                0         \n",
            "_________________________________________________________________\n",
            "dense_1 (Dense)              (None, 64)                4160      \n",
            "_________________________________________________________________\n",
            "batch_normalization_5 (Batch (None, 64)                256       \n",
            "_________________________________________________________________\n",
            "dropout_2 (Dropout)          (None, 64)                0         \n",
            "_________________________________________________________________\n",
            "dense_2 (Dense)              (None, 32)                2080      \n",
            "_________________________________________________________________\n",
            "batch_normalization_6 (Batch (None, 32)                128       \n",
            "_________________________________________________________________\n",
            "dropout_3 (Dropout)          (None, 32)                0         \n",
            "_________________________________________________________________\n",
            "dense_3 (Dense)              (None, 16)                528       \n",
            "_________________________________________________________________\n",
            "batch_normalization_7 (Batch (None, 16)                64        \n",
            "_________________________________________________________________\n",
            "dropout_4 (Dropout)          (None, 16)                0         \n",
            "_________________________________________________________________\n",
            "dense_4 (Dense)              (None, 9)                 153       \n",
            "=================================================================\n",
            "Total params: 32,497\n",
            "Trainable params: 32,033\n",
            "Non-trainable params: 464\n",
            "_________________________________________________________________\n"
          ],
          "name": "stdout"
        }
      ]
    },
    {
      "cell_type": "code",
      "metadata": {
        "id": "3-VSlVynNBID",
        "colab_type": "code",
        "outputId": "404c87d1-ee66-4d40-dd17-b0246b74cc2b",
        "colab": {
          "base_uri": "https://localhost:8080/",
          "height": 1000
        }
      },
      "source": [
        "import keras\n",
        "model.compile(loss=keras.losses.categorical_crossentropy,\n",
        "              optimizer=keras.optimizers.Adadelta(),\n",
        "              metrics=['accuracy'])\n",
        "\n",
        "model.fit(X_train, y_train,\n",
        "          batch_size=128,\n",
        "          epochs=50,\n",
        "          verbose=1,\n",
        "          validation_data=(xx_val, yy_val))"
      ],
      "execution_count": 21,
      "outputs": [
        {
          "output_type": "stream",
          "text": [
            "Train on 103706 samples, validate on 22223 samples\n",
            "Epoch 1/50\n",
            "103706/103706 [==============================] - 23s 222us/step - loss: 0.6387 - accuracy: 0.8116 - val_loss: 0.1428 - val_accuracy: 0.9537\n",
            "Epoch 2/50\n",
            "103706/103706 [==============================] - 22s 215us/step - loss: 0.2548 - accuracy: 0.9197 - val_loss: 0.0847 - val_accuracy: 0.9681\n",
            "Epoch 3/50\n",
            "103706/103706 [==============================] - 23s 222us/step - loss: 0.1990 - accuracy: 0.9382 - val_loss: 0.3414 - val_accuracy: 0.8821\n",
            "Epoch 4/50\n",
            "103706/103706 [==============================] - 22s 212us/step - loss: 0.1776 - accuracy: 0.9453 - val_loss: 0.1290 - val_accuracy: 0.9573\n",
            "Epoch 5/50\n",
            "103706/103706 [==============================] - 22s 212us/step - loss: 0.1642 - accuracy: 0.9493 - val_loss: 4.5027 - val_accuracy: 0.5034\n",
            "Epoch 6/50\n",
            "103706/103706 [==============================] - 22s 210us/step - loss: 0.1522 - accuracy: 0.9539 - val_loss: 1.6179 - val_accuracy: 0.5464\n",
            "Epoch 7/50\n",
            "103706/103706 [==============================] - 22s 209us/step - loss: 0.1425 - accuracy: 0.9571 - val_loss: 0.2168 - val_accuracy: 0.9330\n",
            "Epoch 8/50\n",
            "103706/103706 [==============================] - 22s 214us/step - loss: 0.1329 - accuracy: 0.9606 - val_loss: 0.0663 - val_accuracy: 0.9794\n",
            "Epoch 9/50\n",
            "103706/103706 [==============================] - 22s 215us/step - loss: 0.1279 - accuracy: 0.9619 - val_loss: 0.0550 - val_accuracy: 0.9850\n",
            "Epoch 10/50\n",
            "103706/103706 [==============================] - 23s 222us/step - loss: 0.1236 - accuracy: 0.9640 - val_loss: 0.0506 - val_accuracy: 0.9865\n",
            "Epoch 11/50\n",
            "103706/103706 [==============================] - 23s 219us/step - loss: 0.1209 - accuracy: 0.9643 - val_loss: 0.0568 - val_accuracy: 0.9848\n",
            "Epoch 12/50\n",
            "103706/103706 [==============================] - 23s 217us/step - loss: 0.1208 - accuracy: 0.9655 - val_loss: 0.0779 - val_accuracy: 0.9807\n",
            "Epoch 13/50\n",
            "103706/103706 [==============================] - 22s 210us/step - loss: 0.1168 - accuracy: 0.9657 - val_loss: 0.0529 - val_accuracy: 0.9870\n",
            "Epoch 14/50\n",
            "103706/103706 [==============================] - 22s 214us/step - loss: 0.1153 - accuracy: 0.9671 - val_loss: 0.0561 - val_accuracy: 0.9838\n",
            "Epoch 15/50\n",
            "103706/103706 [==============================] - 22s 211us/step - loss: 0.1129 - accuracy: 0.9671 - val_loss: 0.0550 - val_accuracy: 0.9857\n",
            "Epoch 16/50\n",
            "103706/103706 [==============================] - 22s 213us/step - loss: 0.1099 - accuracy: 0.9681 - val_loss: 0.0522 - val_accuracy: 0.9872\n",
            "Epoch 17/50\n",
            "103706/103706 [==============================] - 22s 212us/step - loss: 0.1112 - accuracy: 0.9680 - val_loss: 0.0588 - val_accuracy: 0.9839\n",
            "Epoch 18/50\n",
            "103706/103706 [==============================] - 22s 209us/step - loss: 0.1069 - accuracy: 0.9692 - val_loss: 0.0725 - val_accuracy: 0.9784\n",
            "Epoch 19/50\n",
            "103706/103706 [==============================] - 22s 209us/step - loss: 0.1072 - accuracy: 0.9695 - val_loss: 0.0472 - val_accuracy: 0.9881\n",
            "Epoch 20/50\n",
            "103706/103706 [==============================] - 21s 204us/step - loss: 0.1073 - accuracy: 0.9695 - val_loss: 0.0487 - val_accuracy: 0.9853\n",
            "Epoch 21/50\n",
            "103706/103706 [==============================] - 22s 208us/step - loss: 0.1031 - accuracy: 0.9699 - val_loss: 0.0494 - val_accuracy: 0.9879\n",
            "Epoch 22/50\n",
            "103706/103706 [==============================] - 22s 214us/step - loss: 0.1026 - accuracy: 0.9706 - val_loss: 0.0483 - val_accuracy: 0.9882\n",
            "Epoch 23/50\n",
            "103706/103706 [==============================] - 22s 210us/step - loss: 0.1022 - accuracy: 0.9709 - val_loss: 0.0486 - val_accuracy: 0.9881\n",
            "Epoch 24/50\n",
            "103706/103706 [==============================] - 22s 209us/step - loss: 0.1001 - accuracy: 0.9719 - val_loss: 0.0485 - val_accuracy: 0.9859\n",
            "Epoch 25/50\n",
            "103706/103706 [==============================] - 22s 213us/step - loss: 0.1027 - accuracy: 0.9708 - val_loss: 0.1753 - val_accuracy: 0.9550\n",
            "Epoch 26/50\n",
            "103706/103706 [==============================] - 22s 216us/step - loss: 0.1012 - accuracy: 0.9709 - val_loss: 0.0452 - val_accuracy: 0.9882\n",
            "Epoch 27/50\n",
            "103706/103706 [==============================] - 22s 209us/step - loss: 0.0960 - accuracy: 0.9726 - val_loss: 0.0701 - val_accuracy: 0.9816\n",
            "Epoch 28/50\n",
            "103706/103706 [==============================] - 22s 210us/step - loss: 0.0949 - accuracy: 0.9729 - val_loss: 0.0588 - val_accuracy: 0.9847\n",
            "Epoch 29/50\n",
            "103706/103706 [==============================] - 21s 206us/step - loss: 0.0952 - accuracy: 0.9728 - val_loss: 0.0408 - val_accuracy: 0.9896\n",
            "Epoch 30/50\n",
            "103706/103706 [==============================] - 22s 210us/step - loss: 0.0940 - accuracy: 0.9738 - val_loss: 0.1066 - val_accuracy: 0.9675\n",
            "Epoch 31/50\n",
            "103706/103706 [==============================] - 23s 220us/step - loss: 0.0943 - accuracy: 0.9730 - val_loss: 0.1374 - val_accuracy: 0.9688\n",
            "Epoch 32/50\n",
            "103706/103706 [==============================] - 22s 217us/step - loss: 0.0924 - accuracy: 0.9743 - val_loss: 0.0412 - val_accuracy: 0.9896\n",
            "Epoch 33/50\n",
            "103706/103706 [==============================] - 22s 214us/step - loss: 0.0915 - accuracy: 0.9746 - val_loss: 0.0603 - val_accuracy: 0.9819\n",
            "Epoch 34/50\n",
            "103706/103706 [==============================] - 22s 213us/step - loss: 0.0922 - accuracy: 0.9744 - val_loss: 0.0392 - val_accuracy: 0.9907\n",
            "Epoch 35/50\n",
            "103706/103706 [==============================] - 22s 216us/step - loss: 0.0907 - accuracy: 0.9745 - val_loss: 0.0417 - val_accuracy: 0.9907\n",
            "Epoch 36/50\n",
            "103706/103706 [==============================] - 22s 213us/step - loss: 0.0911 - accuracy: 0.9743 - val_loss: 0.0561 - val_accuracy: 0.9867\n",
            "Epoch 37/50\n",
            "103706/103706 [==============================] - 22s 216us/step - loss: 0.0848 - accuracy: 0.9761 - val_loss: 0.1703 - val_accuracy: 0.9655\n",
            "Epoch 38/50\n",
            "103706/103706 [==============================] - 21s 201us/step - loss: 0.0882 - accuracy: 0.9749 - val_loss: 0.2389 - val_accuracy: 0.9602\n",
            "Epoch 39/50\n",
            "103706/103706 [==============================] - 21s 204us/step - loss: 0.0890 - accuracy: 0.9752 - val_loss: 0.0496 - val_accuracy: 0.9874\n",
            "Epoch 40/50\n",
            "103706/103706 [==============================] - 21s 206us/step - loss: 0.0858 - accuracy: 0.9754 - val_loss: 0.0663 - val_accuracy: 0.9841\n",
            "Epoch 41/50\n",
            "103706/103706 [==============================] - 21s 203us/step - loss: 0.0854 - accuracy: 0.9760 - val_loss: 0.0417 - val_accuracy: 0.9902\n",
            "Epoch 42/50\n",
            "103706/103706 [==============================] - 21s 203us/step - loss: 0.0850 - accuracy: 0.9765 - val_loss: 0.0472 - val_accuracy: 0.9897\n",
            "Epoch 43/50\n",
            "103706/103706 [==============================] - 21s 206us/step - loss: 0.0845 - accuracy: 0.9765 - val_loss: 0.0739 - val_accuracy: 0.9824\n",
            "Epoch 44/50\n",
            "103706/103706 [==============================] - 21s 207us/step - loss: 0.0881 - accuracy: 0.9752 - val_loss: 0.0394 - val_accuracy: 0.9911\n",
            "Epoch 45/50\n",
            "103706/103706 [==============================] - 22s 212us/step - loss: 0.0865 - accuracy: 0.9756 - val_loss: 0.0416 - val_accuracy: 0.9886\n",
            "Epoch 46/50\n",
            "103706/103706 [==============================] - 22s 211us/step - loss: 0.0856 - accuracy: 0.9760 - val_loss: 0.0514 - val_accuracy: 0.9868\n",
            "Epoch 47/50\n",
            "103706/103706 [==============================] - 22s 211us/step - loss: 0.0836 - accuracy: 0.9768 - val_loss: 0.0619 - val_accuracy: 0.9856\n",
            "Epoch 48/50\n",
            "103706/103706 [==============================] - 22s 210us/step - loss: 0.0816 - accuracy: 0.9760 - val_loss: 0.0398 - val_accuracy: 0.9912\n",
            "Epoch 49/50\n",
            "103706/103706 [==============================] - 22s 216us/step - loss: 0.0809 - accuracy: 0.9773 - val_loss: 0.0475 - val_accuracy: 0.9896\n",
            "Epoch 50/50\n",
            "103706/103706 [==============================] - 22s 209us/step - loss: 0.0816 - accuracy: 0.9774 - val_loss: 0.0389 - val_accuracy: 0.9910\n"
          ],
          "name": "stdout"
        },
        {
          "output_type": "execute_result",
          "data": {
            "text/plain": [
              "<keras.callbacks.callbacks.History at 0x7f216e89b518>"
            ]
          },
          "metadata": {
            "tags": []
          },
          "execution_count": 21
        }
      ]
    },
    {
      "cell_type": "code",
      "metadata": {
        "id": "LSGrC7sxNWhx",
        "colab_type": "code",
        "outputId": "67d0542e-bb17-44df-c345-1ce210725bca",
        "colab": {
          "base_uri": "https://localhost:8080/",
          "height": 68
        }
      },
      "source": [
        "score = model.evaluate(xx_test, yy_test, verbose=1)\n",
        "print('Test loss:', score[0])\n",
        "print('Test accuracy:', score[1])"
      ],
      "execution_count": 22,
      "outputs": [
        {
          "output_type": "stream",
          "text": [
            "22223/22223 [==============================] - 2s 86us/step\n",
            "Test loss: 0.042489849591747716\n",
            "Test accuracy: 0.9901003241539001\n"
          ],
          "name": "stdout"
        }
      ]
    },
    {
      "cell_type": "code",
      "metadata": {
        "id": "GbIwG9dgjk-X",
        "colab_type": "code",
        "colab": {}
      },
      "source": [
        ""
      ],
      "execution_count": 0,
      "outputs": []
    }
  ]
}