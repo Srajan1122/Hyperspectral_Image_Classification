{
  "nbformat": 4,
  "nbformat_minor": 0,
  "metadata": {
    "colab": {
      "name": "CNN",
      "provenance": [],
      "authorship_tag": "ABX9TyPChK2NI5NEaSf1Ve+w5Nqa",
      "include_colab_link": true
    },
    "kernelspec": {
      "name": "python3",
      "display_name": "Python 3"
    }
  },
  "cells": [
    {
      "cell_type": "markdown",
      "metadata": {
        "id": "view-in-github",
        "colab_type": "text"
      },
      "source": [
        "<a href=\"https://colab.research.google.com/github/Srajan1122/Hyperspectral_Image_Classification/blob/srajan/CNN.ipynb\" target=\"_parent\"><img src=\"https://colab.research.google.com/assets/colab-badge.svg\" alt=\"Open In Colab\"/></a>"
      ]
    },
    {
      "cell_type": "code",
      "metadata": {
        "id": "pO-nUq2-KL7a",
        "colab_type": "code",
        "outputId": "db7c369c-e9ed-4c90-b35c-6655e442d863",
        "colab": {
          "base_uri": "https://localhost:8080/",
          "height": 34
        }
      },
      "source": [
        "from google.colab import drive\n",
        "drive.mount('/content/drive')"
      ],
      "execution_count": 1,
      "outputs": [
        {
          "output_type": "stream",
          "text": [
            "Drive already mounted at /content/drive; to attempt to forcibly remount, call drive.mount(\"/content/drive\", force_remount=True).\n"
          ],
          "name": "stdout"
        }
      ]
    },
    {
      "cell_type": "markdown",
      "metadata": {
        "id": "aXpp9_cwKqz1",
        "colab_type": "text"
      },
      "source": [
        "# Importing Libraries"
      ]
    },
    {
      "cell_type": "code",
      "metadata": {
        "id": "qVxnzfWvKN-K",
        "colab_type": "code",
        "outputId": "b4f1a10d-3c1f-4e9b-8c74-47029445ed4e",
        "colab": {
          "base_uri": "https://localhost:8080/",
          "height": 34
        }
      },
      "source": [
        "import pandas as pd\n",
        "import numpy as np\n",
        "from scipy import io\n",
        "from sklearn.model_selection import train_test_split\n",
        "from sklearn.preprocessing import OneHotEncoder \n",
        "from sklearn import preprocessing\n",
        "import keras"
      ],
      "execution_count": 2,
      "outputs": [
        {
          "output_type": "stream",
          "text": [
            "Using TensorFlow backend.\n"
          ],
          "name": "stderr"
        }
      ]
    },
    {
      "cell_type": "markdown",
      "metadata": {
        "id": "UqasbIqPK0KM",
        "colab_type": "text"
      },
      "source": [
        "# Importing Dataset"
      ]
    },
    {
      "cell_type": "code",
      "metadata": {
        "id": "erOp3hTTKuzQ",
        "colab_type": "code",
        "colab": {}
      },
      "source": [
        "loaded_dataset = io.loadmat('/content/drive/My Drive/Srajan/Internship/SEM4-LeadingindiaAI/Tasks/Datasets/PaviaU/PaviaU.mat')\n",
        "for key, value in loaded_dataset.items():\n",
        "  if isinstance(value, type(np.array([1]))):\n",
        "    image = loaded_dataset[key]"
      ],
      "execution_count": 0,
      "outputs": []
    },
    {
      "cell_type": "code",
      "metadata": {
        "id": "HjbphR_nK5O8",
        "colab_type": "code",
        "colab": {}
      },
      "source": [
        "ground_truth_1 = io.loadmat('/content/drive/My Drive/Srajan/Internship/SEM4-LeadingindiaAI/Tasks/Datasets/PaviaU/PaviaU_gt.mat')\n",
        "for key, value in ground_truth_1.items():\n",
        "  if isinstance(value, type(np.array([1]))):\n",
        "    ground_truth = ground_truth_1[key]"
      ],
      "execution_count": 0,
      "outputs": []
    },
    {
      "cell_type": "markdown",
      "metadata": {
        "id": "_9l4ZElPK8xW",
        "colab_type": "text"
      },
      "source": [
        "## Class Labels"
      ]
    },
    {
      "cell_type": "code",
      "metadata": {
        "id": "JumPKdTvK_EY",
        "colab_type": "code",
        "colab": {}
      },
      "source": [
        "label_values = [\"Alfalfa\", \"Corn-notill\", \"Corn-mintill\",\n",
        "                        \"Corn\", \"Grass-pasture\", \"Grass-trees\",\n",
        "                        \"Grass-pasture-mowed\", \"Hay-windrowed\", \"Oats\",\n",
        "                        \"Soybean-notill\", \"Soybean-mintill\", \"Soybean-clean\",\n",
        "                        \"Wheat\", \"Woods\", \"Buildings-Grass-Trees-Drives\",\n",
        "                        \"Stone-Steel-Towers\"]"
      ],
      "execution_count": 0,
      "outputs": []
    },
    {
      "cell_type": "markdown",
      "metadata": {
        "id": "QYIFKIPmLCFV",
        "colab_type": "text"
      },
      "source": [
        "## Resizing the data"
      ]
    },
    {
      "cell_type": "code",
      "metadata": {
        "id": "UnRRsjn8K_zG",
        "colab_type": "code",
        "colab": {}
      },
      "source": [
        "image_with_gt = np.dstack((image, ground_truth))"
      ],
      "execution_count": 0,
      "outputs": []
    },
    {
      "cell_type": "code",
      "metadata": {
        "id": "P2hhElWJLF9V",
        "colab_type": "code",
        "colab": {}
      },
      "source": [
        "final_output = image_with_gt.reshape(ground_truth.size, image.shape[2]+1)"
      ],
      "execution_count": 0,
      "outputs": []
    },
    {
      "cell_type": "markdown",
      "metadata": {
        "id": "ZKGD0bRxLJff",
        "colab_type": "text"
      },
      "source": [
        "## Data Visualization in pandas"
      ]
    },
    {
      "cell_type": "code",
      "metadata": {
        "id": "4AWkTHdDLOwf",
        "colab_type": "code",
        "colab": {}
      },
      "source": [
        "data = pd.DataFrame(final_output)"
      ],
      "execution_count": 0,
      "outputs": []
    },
    {
      "cell_type": "code",
      "metadata": {
        "id": "9ctUP_zKLUpJ",
        "colab_type": "code",
        "outputId": "2d4b9de0-09b6-4ec6-e819-45f4583ad186",
        "colab": {
          "base_uri": "https://localhost:8080/",
          "height": 253
        }
      },
      "source": [
        "data.head()"
      ],
      "execution_count": 9,
      "outputs": [
        {
          "output_type": "execute_result",
          "data": {
            "text/html": [
              "<div>\n",
              "<style scoped>\n",
              "    .dataframe tbody tr th:only-of-type {\n",
              "        vertical-align: middle;\n",
              "    }\n",
              "\n",
              "    .dataframe tbody tr th {\n",
              "        vertical-align: top;\n",
              "    }\n",
              "\n",
              "    .dataframe thead th {\n",
              "        text-align: right;\n",
              "    }\n",
              "</style>\n",
              "<table border=\"1\" class=\"dataframe\">\n",
              "  <thead>\n",
              "    <tr style=\"text-align: right;\">\n",
              "      <th></th>\n",
              "      <th>0</th>\n",
              "      <th>1</th>\n",
              "      <th>2</th>\n",
              "      <th>3</th>\n",
              "      <th>4</th>\n",
              "      <th>5</th>\n",
              "      <th>6</th>\n",
              "      <th>7</th>\n",
              "      <th>8</th>\n",
              "      <th>9</th>\n",
              "      <th>10</th>\n",
              "      <th>11</th>\n",
              "      <th>12</th>\n",
              "      <th>13</th>\n",
              "      <th>14</th>\n",
              "      <th>15</th>\n",
              "      <th>16</th>\n",
              "      <th>17</th>\n",
              "      <th>18</th>\n",
              "      <th>19</th>\n",
              "      <th>20</th>\n",
              "      <th>21</th>\n",
              "      <th>22</th>\n",
              "      <th>23</th>\n",
              "      <th>24</th>\n",
              "      <th>25</th>\n",
              "      <th>26</th>\n",
              "      <th>27</th>\n",
              "      <th>28</th>\n",
              "      <th>29</th>\n",
              "      <th>30</th>\n",
              "      <th>31</th>\n",
              "      <th>32</th>\n",
              "      <th>33</th>\n",
              "      <th>34</th>\n",
              "      <th>35</th>\n",
              "      <th>36</th>\n",
              "      <th>37</th>\n",
              "      <th>38</th>\n",
              "      <th>39</th>\n",
              "      <th>...</th>\n",
              "      <th>64</th>\n",
              "      <th>65</th>\n",
              "      <th>66</th>\n",
              "      <th>67</th>\n",
              "      <th>68</th>\n",
              "      <th>69</th>\n",
              "      <th>70</th>\n",
              "      <th>71</th>\n",
              "      <th>72</th>\n",
              "      <th>73</th>\n",
              "      <th>74</th>\n",
              "      <th>75</th>\n",
              "      <th>76</th>\n",
              "      <th>77</th>\n",
              "      <th>78</th>\n",
              "      <th>79</th>\n",
              "      <th>80</th>\n",
              "      <th>81</th>\n",
              "      <th>82</th>\n",
              "      <th>83</th>\n",
              "      <th>84</th>\n",
              "      <th>85</th>\n",
              "      <th>86</th>\n",
              "      <th>87</th>\n",
              "      <th>88</th>\n",
              "      <th>89</th>\n",
              "      <th>90</th>\n",
              "      <th>91</th>\n",
              "      <th>92</th>\n",
              "      <th>93</th>\n",
              "      <th>94</th>\n",
              "      <th>95</th>\n",
              "      <th>96</th>\n",
              "      <th>97</th>\n",
              "      <th>98</th>\n",
              "      <th>99</th>\n",
              "      <th>100</th>\n",
              "      <th>101</th>\n",
              "      <th>102</th>\n",
              "      <th>103</th>\n",
              "    </tr>\n",
              "  </thead>\n",
              "  <tbody>\n",
              "    <tr>\n",
              "      <th>0</th>\n",
              "      <td>647</td>\n",
              "      <td>499</td>\n",
              "      <td>464</td>\n",
              "      <td>371</td>\n",
              "      <td>291</td>\n",
              "      <td>319</td>\n",
              "      <td>365</td>\n",
              "      <td>322</td>\n",
              "      <td>296</td>\n",
              "      <td>305</td>\n",
              "      <td>277</td>\n",
              "      <td>219</td>\n",
              "      <td>219</td>\n",
              "      <td>222</td>\n",
              "      <td>201</td>\n",
              "      <td>162</td>\n",
              "      <td>157</td>\n",
              "      <td>183</td>\n",
              "      <td>204</td>\n",
              "      <td>194</td>\n",
              "      <td>198</td>\n",
              "      <td>216</td>\n",
              "      <td>249</td>\n",
              "      <td>284</td>\n",
              "      <td>294</td>\n",
              "      <td>322</td>\n",
              "      <td>338</td>\n",
              "      <td>342</td>\n",
              "      <td>336</td>\n",
              "      <td>342</td>\n",
              "      <td>362</td>\n",
              "      <td>365</td>\n",
              "      <td>348</td>\n",
              "      <td>341</td>\n",
              "      <td>324</td>\n",
              "      <td>316</td>\n",
              "      <td>293</td>\n",
              "      <td>274</td>\n",
              "      <td>251</td>\n",
              "      <td>244</td>\n",
              "      <td>...</td>\n",
              "      <td>192</td>\n",
              "      <td>227</td>\n",
              "      <td>287</td>\n",
              "      <td>376</td>\n",
              "      <td>493</td>\n",
              "      <td>633</td>\n",
              "      <td>763</td>\n",
              "      <td>913</td>\n",
              "      <td>1149</td>\n",
              "      <td>1442</td>\n",
              "      <td>1759</td>\n",
              "      <td>2102</td>\n",
              "      <td>2425</td>\n",
              "      <td>2689</td>\n",
              "      <td>2895</td>\n",
              "      <td>3058</td>\n",
              "      <td>3196</td>\n",
              "      <td>3252</td>\n",
              "      <td>3195</td>\n",
              "      <td>3297</td>\n",
              "      <td>3542</td>\n",
              "      <td>3550</td>\n",
              "      <td>3537</td>\n",
              "      <td>3545</td>\n",
              "      <td>3514</td>\n",
              "      <td>3477</td>\n",
              "      <td>3468</td>\n",
              "      <td>3433</td>\n",
              "      <td>3408</td>\n",
              "      <td>3420</td>\n",
              "      <td>3416</td>\n",
              "      <td>3335</td>\n",
              "      <td>3256</td>\n",
              "      <td>3226</td>\n",
              "      <td>3205</td>\n",
              "      <td>3210</td>\n",
              "      <td>3221</td>\n",
              "      <td>3238</td>\n",
              "      <td>3250</td>\n",
              "      <td>0</td>\n",
              "    </tr>\n",
              "    <tr>\n",
              "      <th>1</th>\n",
              "      <td>604</td>\n",
              "      <td>546</td>\n",
              "      <td>527</td>\n",
              "      <td>455</td>\n",
              "      <td>378</td>\n",
              "      <td>377</td>\n",
              "      <td>336</td>\n",
              "      <td>314</td>\n",
              "      <td>324</td>\n",
              "      <td>329</td>\n",
              "      <td>328</td>\n",
              "      <td>326</td>\n",
              "      <td>275</td>\n",
              "      <td>215</td>\n",
              "      <td>197</td>\n",
              "      <td>217</td>\n",
              "      <td>239</td>\n",
              "      <td>258</td>\n",
              "      <td>246</td>\n",
              "      <td>233</td>\n",
              "      <td>241</td>\n",
              "      <td>261</td>\n",
              "      <td>279</td>\n",
              "      <td>300</td>\n",
              "      <td>329</td>\n",
              "      <td>344</td>\n",
              "      <td>341</td>\n",
              "      <td>362</td>\n",
              "      <td>362</td>\n",
              "      <td>367</td>\n",
              "      <td>368</td>\n",
              "      <td>359</td>\n",
              "      <td>345</td>\n",
              "      <td>344</td>\n",
              "      <td>327</td>\n",
              "      <td>302</td>\n",
              "      <td>281</td>\n",
              "      <td>271</td>\n",
              "      <td>270</td>\n",
              "      <td>261</td>\n",
              "      <td>...</td>\n",
              "      <td>152</td>\n",
              "      <td>190</td>\n",
              "      <td>242</td>\n",
              "      <td>301</td>\n",
              "      <td>391</td>\n",
              "      <td>505</td>\n",
              "      <td>633</td>\n",
              "      <td>774</td>\n",
              "      <td>960</td>\n",
              "      <td>1191</td>\n",
              "      <td>1454</td>\n",
              "      <td>1737</td>\n",
              "      <td>2001</td>\n",
              "      <td>2209</td>\n",
              "      <td>2363</td>\n",
              "      <td>2484</td>\n",
              "      <td>2594</td>\n",
              "      <td>2613</td>\n",
              "      <td>2541</td>\n",
              "      <td>2588</td>\n",
              "      <td>2821</td>\n",
              "      <td>2839</td>\n",
              "      <td>2738</td>\n",
              "      <td>2690</td>\n",
              "      <td>2678</td>\n",
              "      <td>2673</td>\n",
              "      <td>2712</td>\n",
              "      <td>2725</td>\n",
              "      <td>2657</td>\n",
              "      <td>2605</td>\n",
              "      <td>2583</td>\n",
              "      <td>2538</td>\n",
              "      <td>2509</td>\n",
              "      <td>2511</td>\n",
              "      <td>2501</td>\n",
              "      <td>2468</td>\n",
              "      <td>2442</td>\n",
              "      <td>2464</td>\n",
              "      <td>2528</td>\n",
              "      <td>0</td>\n",
              "    </tr>\n",
              "    <tr>\n",
              "      <th>2</th>\n",
              "      <td>621</td>\n",
              "      <td>746</td>\n",
              "      <td>556</td>\n",
              "      <td>360</td>\n",
              "      <td>285</td>\n",
              "      <td>300</td>\n",
              "      <td>274</td>\n",
              "      <td>276</td>\n",
              "      <td>332</td>\n",
              "      <td>319</td>\n",
              "      <td>278</td>\n",
              "      <td>255</td>\n",
              "      <td>232</td>\n",
              "      <td>207</td>\n",
              "      <td>210</td>\n",
              "      <td>209</td>\n",
              "      <td>168</td>\n",
              "      <td>139</td>\n",
              "      <td>137</td>\n",
              "      <td>154</td>\n",
              "      <td>168</td>\n",
              "      <td>202</td>\n",
              "      <td>225</td>\n",
              "      <td>231</td>\n",
              "      <td>244</td>\n",
              "      <td>257</td>\n",
              "      <td>263</td>\n",
              "      <td>262</td>\n",
              "      <td>266</td>\n",
              "      <td>276</td>\n",
              "      <td>285</td>\n",
              "      <td>291</td>\n",
              "      <td>285</td>\n",
              "      <td>272</td>\n",
              "      <td>271</td>\n",
              "      <td>241</td>\n",
              "      <td>208</td>\n",
              "      <td>194</td>\n",
              "      <td>179</td>\n",
              "      <td>157</td>\n",
              "      <td>...</td>\n",
              "      <td>116</td>\n",
              "      <td>153</td>\n",
              "      <td>188</td>\n",
              "      <td>243</td>\n",
              "      <td>322</td>\n",
              "      <td>413</td>\n",
              "      <td>492</td>\n",
              "      <td>591</td>\n",
              "      <td>737</td>\n",
              "      <td>933</td>\n",
              "      <td>1125</td>\n",
              "      <td>1327</td>\n",
              "      <td>1519</td>\n",
              "      <td>1666</td>\n",
              "      <td>1790</td>\n",
              "      <td>1934</td>\n",
              "      <td>2029</td>\n",
              "      <td>2034</td>\n",
              "      <td>2010</td>\n",
              "      <td>2069</td>\n",
              "      <td>2191</td>\n",
              "      <td>2233</td>\n",
              "      <td>2245</td>\n",
              "      <td>2249</td>\n",
              "      <td>2255</td>\n",
              "      <td>2250</td>\n",
              "      <td>2249</td>\n",
              "      <td>2239</td>\n",
              "      <td>2239</td>\n",
              "      <td>2282</td>\n",
              "      <td>2288</td>\n",
              "      <td>2242</td>\n",
              "      <td>2193</td>\n",
              "      <td>2202</td>\n",
              "      <td>2225</td>\n",
              "      <td>2266</td>\n",
              "      <td>2308</td>\n",
              "      <td>2345</td>\n",
              "      <td>2361</td>\n",
              "      <td>0</td>\n",
              "    </tr>\n",
              "    <tr>\n",
              "      <th>3</th>\n",
              "      <td>637</td>\n",
              "      <td>592</td>\n",
              "      <td>482</td>\n",
              "      <td>556</td>\n",
              "      <td>508</td>\n",
              "      <td>284</td>\n",
              "      <td>178</td>\n",
              "      <td>198</td>\n",
              "      <td>193</td>\n",
              "      <td>224</td>\n",
              "      <td>217</td>\n",
              "      <td>215</td>\n",
              "      <td>187</td>\n",
              "      <td>161</td>\n",
              "      <td>152</td>\n",
              "      <td>136</td>\n",
              "      <td>124</td>\n",
              "      <td>122</td>\n",
              "      <td>127</td>\n",
              "      <td>126</td>\n",
              "      <td>125</td>\n",
              "      <td>123</td>\n",
              "      <td>147</td>\n",
              "      <td>188</td>\n",
              "      <td>208</td>\n",
              "      <td>203</td>\n",
              "      <td>202</td>\n",
              "      <td>206</td>\n",
              "      <td>219</td>\n",
              "      <td>235</td>\n",
              "      <td>238</td>\n",
              "      <td>227</td>\n",
              "      <td>217</td>\n",
              "      <td>215</td>\n",
              "      <td>216</td>\n",
              "      <td>201</td>\n",
              "      <td>190</td>\n",
              "      <td>167</td>\n",
              "      <td>149</td>\n",
              "      <td>162</td>\n",
              "      <td>...</td>\n",
              "      <td>129</td>\n",
              "      <td>174</td>\n",
              "      <td>245</td>\n",
              "      <td>338</td>\n",
              "      <td>455</td>\n",
              "      <td>585</td>\n",
              "      <td>720</td>\n",
              "      <td>850</td>\n",
              "      <td>1013</td>\n",
              "      <td>1225</td>\n",
              "      <td>1460</td>\n",
              "      <td>1702</td>\n",
              "      <td>1938</td>\n",
              "      <td>2157</td>\n",
              "      <td>2317</td>\n",
              "      <td>2433</td>\n",
              "      <td>2525</td>\n",
              "      <td>2552</td>\n",
              "      <td>2493</td>\n",
              "      <td>2554</td>\n",
              "      <td>2733</td>\n",
              "      <td>2781</td>\n",
              "      <td>2748</td>\n",
              "      <td>2748</td>\n",
              "      <td>2737</td>\n",
              "      <td>2710</td>\n",
              "      <td>2681</td>\n",
              "      <td>2642</td>\n",
              "      <td>2645</td>\n",
              "      <td>2684</td>\n",
              "      <td>2675</td>\n",
              "      <td>2609</td>\n",
              "      <td>2541</td>\n",
              "      <td>2551</td>\n",
              "      <td>2571</td>\n",
              "      <td>2569</td>\n",
              "      <td>2573</td>\n",
              "      <td>2620</td>\n",
              "      <td>2644</td>\n",
              "      <td>0</td>\n",
              "    </tr>\n",
              "    <tr>\n",
              "      <th>4</th>\n",
              "      <td>625</td>\n",
              "      <td>560</td>\n",
              "      <td>480</td>\n",
              "      <td>360</td>\n",
              "      <td>377</td>\n",
              "      <td>341</td>\n",
              "      <td>264</td>\n",
              "      <td>208</td>\n",
              "      <td>231</td>\n",
              "      <td>266</td>\n",
              "      <td>207</td>\n",
              "      <td>154</td>\n",
              "      <td>123</td>\n",
              "      <td>95</td>\n",
              "      <td>106</td>\n",
              "      <td>102</td>\n",
              "      <td>101</td>\n",
              "      <td>123</td>\n",
              "      <td>154</td>\n",
              "      <td>170</td>\n",
              "      <td>191</td>\n",
              "      <td>210</td>\n",
              "      <td>216</td>\n",
              "      <td>256</td>\n",
              "      <td>289</td>\n",
              "      <td>325</td>\n",
              "      <td>348</td>\n",
              "      <td>357</td>\n",
              "      <td>361</td>\n",
              "      <td>362</td>\n",
              "      <td>363</td>\n",
              "      <td>370</td>\n",
              "      <td>386</td>\n",
              "      <td>369</td>\n",
              "      <td>344</td>\n",
              "      <td>331</td>\n",
              "      <td>312</td>\n",
              "      <td>308</td>\n",
              "      <td>288</td>\n",
              "      <td>263</td>\n",
              "      <td>...</td>\n",
              "      <td>173</td>\n",
              "      <td>220</td>\n",
              "      <td>292</td>\n",
              "      <td>382</td>\n",
              "      <td>488</td>\n",
              "      <td>592</td>\n",
              "      <td>692</td>\n",
              "      <td>834</td>\n",
              "      <td>1032</td>\n",
              "      <td>1236</td>\n",
              "      <td>1461</td>\n",
              "      <td>1698</td>\n",
              "      <td>1876</td>\n",
              "      <td>2007</td>\n",
              "      <td>2118</td>\n",
              "      <td>2213</td>\n",
              "      <td>2288</td>\n",
              "      <td>2267</td>\n",
              "      <td>2192</td>\n",
              "      <td>2274</td>\n",
              "      <td>2448</td>\n",
              "      <td>2454</td>\n",
              "      <td>2387</td>\n",
              "      <td>2388</td>\n",
              "      <td>2441</td>\n",
              "      <td>2435</td>\n",
              "      <td>2454</td>\n",
              "      <td>2457</td>\n",
              "      <td>2430</td>\n",
              "      <td>2423</td>\n",
              "      <td>2392</td>\n",
              "      <td>2344</td>\n",
              "      <td>2289</td>\n",
              "      <td>2328</td>\n",
              "      <td>2415</td>\n",
              "      <td>2424</td>\n",
              "      <td>2386</td>\n",
              "      <td>2431</td>\n",
              "      <td>2456</td>\n",
              "      <td>0</td>\n",
              "    </tr>\n",
              "  </tbody>\n",
              "</table>\n",
              "<p>5 rows × 104 columns</p>\n",
              "</div>"
            ],
            "text/plain": [
              "   0    1    2    3    4    5    6    ...   97    98    99    100   101   102  103\n",
              "0  647  499  464  371  291  319  365  ...  3226  3205  3210  3221  3238  3250    0\n",
              "1  604  546  527  455  378  377  336  ...  2511  2501  2468  2442  2464  2528    0\n",
              "2  621  746  556  360  285  300  274  ...  2202  2225  2266  2308  2345  2361    0\n",
              "3  637  592  482  556  508  284  178  ...  2551  2571  2569  2573  2620  2644    0\n",
              "4  625  560  480  360  377  341  264  ...  2328  2415  2424  2386  2431  2456    0\n",
              "\n",
              "[5 rows x 104 columns]"
            ]
          },
          "metadata": {
            "tags": []
          },
          "execution_count": 9
        }
      ]
    },
    {
      "cell_type": "markdown",
      "metadata": {
        "id": "OLWjsfqaLZs0",
        "colab_type": "text"
      },
      "source": [
        "## Droping the rows if ground truth value is zero"
      ]
    },
    {
      "cell_type": "code",
      "metadata": {
        "id": "OlyctDjwLYkb",
        "colab_type": "code",
        "outputId": "1d7bf8ca-ba07-44b4-f1b2-4ec1d1760653",
        "colab": {
          "base_uri": "https://localhost:8080/",
          "height": 34
        }
      },
      "source": [
        "print(\"Percentage of column which will be droped\",(data.size - data[data.iloc[:, -1] == 0].size)/data.size,\"%\")"
      ],
      "execution_count": 10,
      "outputs": [
        {
          "output_type": "stream",
          "text": [
            "Percentage of column which will be droped 0.20624879459980713 %\n"
          ],
          "name": "stdout"
        }
      ]
    },
    {
      "cell_type": "code",
      "metadata": {
        "id": "_tJ0vUTCLhZx",
        "colab_type": "code",
        "colab": {}
      },
      "source": [
        "zero_data = data.index[data.iloc[:, -1] == 0].tolist()\n",
        "data = data[data.iloc[:, -1] != 0]"
      ],
      "execution_count": 0,
      "outputs": []
    },
    {
      "cell_type": "markdown",
      "metadata": {
        "id": "kE5Gc8BTLiAN",
        "colab_type": "text"
      },
      "source": [
        "# Spliting the data into feature and target"
      ]
    },
    {
      "cell_type": "code",
      "metadata": {
        "id": "FJ4dCIbILrwg",
        "colab_type": "code",
        "colab": {}
      },
      "source": [
        "X = data.iloc[:, :-1]\n",
        "y = data.iloc[:,-1]"
      ],
      "execution_count": 0,
      "outputs": []
    },
    {
      "cell_type": "code",
      "metadata": {
        "id": "fBvQ4xnt6tQD",
        "colab_type": "code",
        "colab": {}
      },
      "source": [
        "number_of_classes = len(np.unique(y))"
      ],
      "execution_count": 0,
      "outputs": []
    },
    {
      "cell_type": "markdown",
      "metadata": {
        "id": "CHPv8SimL1Iu",
        "colab_type": "text"
      },
      "source": [
        "# Feature Selection"
      ]
    },
    {
      "cell_type": "code",
      "metadata": {
        "id": "6aMaE8k8L0VV",
        "colab_type": "code",
        "colab": {}
      },
      "source": [
        "# from sklearn.feature_selection import SelectKBest\n",
        "# from sklearn.feature_selection import chi2, f_classif, mutual_info_classif\n",
        "\n",
        "# X = SelectKBest(f_classif, k=int((image.shape[2]+1)*0.75)).fit_transform(X, y)"
      ],
      "execution_count": 0,
      "outputs": []
    },
    {
      "cell_type": "markdown",
      "metadata": {
        "id": "nCO0t_-J0G6J",
        "colab_type": "text"
      },
      "source": [
        "# Feature Extraction \n"
      ]
    },
    {
      "cell_type": "code",
      "metadata": {
        "id": "NIjIpV160KKZ",
        "colab_type": "code",
        "colab": {}
      },
      "source": [
        "from sklearn.decomposition import PCA \n",
        "\n",
        "pca = PCA(n_components = int((image.shape[2]+1)*0.75))\n",
        "X = pca.fit_transform(X)"
      ],
      "execution_count": 0,
      "outputs": []
    },
    {
      "cell_type": "markdown",
      "metadata": {
        "id": "fijfR_5DL9IK",
        "colab_type": "text"
      },
      "source": [
        "# OneHotEncoding in target column"
      ]
    },
    {
      "cell_type": "code",
      "metadata": {
        "id": "_QoUCdAwMBAD",
        "colab_type": "code",
        "colab": {}
      },
      "source": [
        "onehotencoder = OneHotEncoder() \n",
        "y = onehotencoder.fit_transform(np.array(y).reshape(-1,1)).toarray() "
      ],
      "execution_count": 0,
      "outputs": []
    },
    {
      "cell_type": "markdown",
      "metadata": {
        "id": "IlNWTtSVMEjl",
        "colab_type": "text"
      },
      "source": [
        "# Standardizing the feature columna"
      ]
    },
    {
      "cell_type": "code",
      "metadata": {
        "id": "PPshPrqEMJvm",
        "colab_type": "code",
        "colab": {}
      },
      "source": [
        "X = preprocessing.scale(X)"
      ],
      "execution_count": 0,
      "outputs": []
    },
    {
      "cell_type": "markdown",
      "metadata": {
        "id": "DRtV7aDDqr5a",
        "colab_type": "text"
      },
      "source": [
        "# Spliting the data into training and testing set "
      ]
    },
    {
      "cell_type": "code",
      "metadata": {
        "id": "DattLTVzqr5b",
        "colab_type": "code",
        "colab": {}
      },
      "source": [
        "X_train, X_test, y_train, y_test = train_test_split(X, y, test_size=0.60, random_state=1)#0.25 0.15"
      ],
      "execution_count": 0,
      "outputs": []
    },
    {
      "cell_type": "code",
      "metadata": {
        "id": "2OngDFGdDdPx",
        "colab_type": "code",
        "colab": {}
      },
      "source": [
        "number = int(X_test.shape[0]/2)\n",
        "\n",
        "xx_test = X_test[:number, :]\n",
        "xx_val = X_test[number:, :]\n",
        "\n",
        "if len(y_test.shape) > 1:\n",
        "  loss = keras.losses.categorical_crossentropy\n",
        "  metrics=['accuracy']\n",
        "  yy_test = y_test[:number, :]\n",
        "  yy_val = y_test[number:, :]\n",
        "else:\n",
        "  loss = keras.losses.sparse_categorical_crossentropy\n",
        "  metrics=['sparse_categorical_accuracy']\n",
        "  y_test = [x - 1 for x in y_test]\n",
        "  y_train = [x - 1 for x in y_train]\n",
        "  yy_test = y_test[:number]\n",
        "  yy_val = y_test[number:]"
      ],
      "execution_count": 0,
      "outputs": []
    },
    {
      "cell_type": "code",
      "metadata": {
        "id": "9M33_KnJNu7n",
        "colab_type": "code",
        "colab": {}
      },
      "source": [
        "from keras import backend as K\n",
        "feature = X.shape[1]\n",
        "\n",
        "if K.image_data_format() == 'channels_first':\n",
        "    X = X.reshape(X.shape[0], 1, feature)\n",
        "    X_train = X_train.reshape(X_train.shape[0], 1, feature)\n",
        "    xx_test = xx_test.reshape(xx_test.shape[0], 1, feature)\n",
        "    xx_val = xx_val.reshape(xx_val.shape[0], 1, feature)\n",
        "    input_shape = (1, feature)\n",
        "else:\n",
        "    X = X.reshape(X.shape[0], feature, 1)\n",
        "    X_train = X_train.reshape(X_train.shape[0], feature, 1)\n",
        "    xx_test = xx_test.reshape(xx_test.shape[0], feature, 1)\n",
        "    xx_val = xx_val.reshape(xx_val.shape[0], feature, 1)\n",
        "    input_shape = (feature, 1)"
      ],
      "execution_count": 0,
      "outputs": []
    },
    {
      "cell_type": "markdown",
      "metadata": {
        "id": "MQLkUnZ_YsYO",
        "colab_type": "text"
      },
      "source": [
        "# Genetic Algorithm"
      ]
    },
    {
      "cell_type": "code",
      "metadata": {
        "id": "1-9MDtAugFbk",
        "colab_type": "code",
        "outputId": "9d83115d-e9b4-4457-cd9d-5882ff8ba5be",
        "colab": {
          "base_uri": "https://localhost:8080/",
          "height": 51
        }
      },
      "source": [
        "!pip install pyeasyga"
      ],
      "execution_count": 21,
      "outputs": [
        {
          "output_type": "stream",
          "text": [
            "Requirement already satisfied: pyeasyga in /usr/local/lib/python3.6/dist-packages (0.3.1)\n",
            "Requirement already satisfied: six in /usr/local/lib/python3.6/dist-packages (from pyeasyga) (1.12.0)\n"
          ],
          "name": "stdout"
        }
      ]
    },
    {
      "cell_type": "code",
      "metadata": {
        "id": "QlapBK49M2QU",
        "colab_type": "code",
        "colab": {}
      },
      "source": [
        "from keras.models import Sequential\n",
        "from keras.layers import Dense, Dropout, Flatten, Conv1D, MaxPooling1D, BatchNormalization"
      ],
      "execution_count": 0,
      "outputs": []
    },
    {
      "cell_type": "code",
      "metadata": {
        "id": "3bAr5dYIYrxF",
        "colab_type": "code",
        "colab": {
          "base_uri": "https://localhost:8080/",
          "height": 952
        },
        "outputId": "b1e692df-96c8-40d4-ca3f-e480b2f8ea4c"
      },
      "source": [
        "from pyeasyga import pyeasyga\n",
        "import random\n",
        "import numpy as np\n",
        "from sklearn.metrics import accuracy_score\n",
        "import keras\n",
        "import time\n",
        "\n",
        "count = 1\n",
        "\n",
        "def initilialize_population():\n",
        "    filter_1 = list(x for x in range(1, 11))\n",
        "    filter_2 = list(x for x in range(11, 31))\n",
        "    filter_3 = list(x for x in range(31, 61))\n",
        "    filter_4 = list(x for x in range(61, 101))\n",
        "\n",
        "    kernel_size_1 = [2,3]\n",
        "    kernel_size_2 = [2,3]\n",
        "    kernel_size_3 = [2,3]\n",
        "    kernel_size_4 = [2,3]\n",
        "\n",
        "\n",
        "    population = []\n",
        "    population.append(filter_1)\n",
        "    population.append(filter_2)\n",
        "    population.append(filter_3)\n",
        "    population.append(filter_4)\n",
        "    population.append(kernel_size_1)\n",
        "    population.append(kernel_size_2)\n",
        "    population.append(kernel_size_3)\n",
        "    population.append(kernel_size_4)\n",
        "\n",
        "    return list(population)\n",
        "\n",
        "def create_individual(data):\n",
        "  choice = []\n",
        "  for i in range(len(data)):\n",
        "    choice.append(random.choice(list(range(len(data[i])))))\n",
        "  return choice\n",
        "\n",
        "def fitness_function(individual, data):\n",
        "  global count\n",
        "  print('Individual no', count)\n",
        "  count += 1\n",
        "  model = Sequential()\n",
        "  model.add(Conv1D(filters=data[0][individual[0]], kernel_size=data[4][individual[4]], activation='relu', input_shape=input_shape))\n",
        "  model.add(Conv1D(filters=data[0][individual[0]], kernel_size=data[4][individual[4]], activation='relu', input_shape=input_shape))\n",
        "  model.add(BatchNormalization())\n",
        "  model.add(MaxPooling1D(pool_size=2))\n",
        "  model.add(Conv1D(filters=data[1][individual[1]], kernel_size=data[5][individual[5]], activation='relu'))\n",
        "  model.add(Conv1D(filters=data[1][individual[1]], kernel_size=data[5][individual[5]], activation='relu'))\n",
        "  model.add(BatchNormalization())\n",
        "  model.add(MaxPooling1D(pool_size=2))\n",
        "  model.add(Conv1D(filters=data[2][individual[2]], kernel_size=data[6][individual[6]], activation='relu'))\n",
        "  model.add(Conv1D(filters=data[2][individual[2]], kernel_size=data[6][individual[6]], activation='relu'))\n",
        "  model.add(BatchNormalization())\n",
        "  model.add(MaxPooling1D(pool_size=2))\n",
        "  model.add(Conv1D(filters=data[3][individual[3]], kernel_size=data[7][individual[7]], activation='relu'))\n",
        "  model.add(Conv1D(filters=data[3][individual[3]], kernel_size=data[7][individual[7]], activation='relu'))\n",
        "  model.add(BatchNormalization())\n",
        "  model.add(MaxPooling1D(pool_size=2))\n",
        "  model.add(Dropout(0.25))\n",
        "  model.add(Flatten())\n",
        "  model.add(Dense(64, activation='relu'))\n",
        "  model.add(BatchNormalization())\n",
        "  model.add(Dropout(0.25))\n",
        "  model.add(Dense(32, activation='relu'))\n",
        "  model.add(BatchNormalization())\n",
        "  model.add(Dropout(0.25))\n",
        "  model.add(Dense(16, activation='relu'))\n",
        "  model.add(BatchNormalization())\n",
        "  model.add(Dropout(0.25))\n",
        "  model.add(Dense(number_of_classes, activation='softmax'))\n",
        "\n",
        "  model.compile(loss=loss,\n",
        "                optimizer=keras.optimizers.Adadelta(),\n",
        "                metrics=metrics)\n",
        "\n",
        "  model.fit(X_train, np.array(y_train),\n",
        "            batch_size=128,\n",
        "            epochs=25,\n",
        "            verbose=1,\n",
        "            validation_data=(xx_val,np.array(yy_val)))\n",
        "\n",
        "\n",
        "  score = model.evaluate(xx_test, np.array(yy_test), verbose=1)[1]\n",
        "  # prediction = model.predict(X_test)\n",
        "  # score = accuracy_score(y_test, prediction)\n",
        "  print('Score is', score)\n",
        "  return score\n",
        "  \n",
        "data = initilialize_population()\n",
        "ga = pyeasyga.GeneticAlgorithm(seed_data=data,\n",
        "                               population_size=1,\n",
        "                               generations=1,\n",
        "                               crossover_probability=0.8,\n",
        "                               mutation_probability=0.4,\n",
        "                               elitism=True,\n",
        "                               maximise_fitness=True)\n",
        "ga.create_individual = create_individual\n",
        "ga.fitness_function = fitness_function\n",
        "\n",
        "start = time.time()\n",
        "ga.run()\n",
        "end = time.time()\n",
        "print('Time taken ------>', end-start)"
      ],
      "execution_count": 23,
      "outputs": [
        {
          "output_type": "stream",
          "text": [
            "Individual no 1\n",
            "Train on 17110 samples, validate on 12833 samples\n",
            "Epoch 1/25\n",
            "17110/17110 [==============================] - 7s 416us/step - loss: 2.2690 - accuracy: 0.2634 - val_loss: 1.8396 - val_accuracy: 0.4304\n",
            "Epoch 2/25\n",
            "17110/17110 [==============================] - 5s 320us/step - loss: 1.8995 - accuracy: 0.4014 - val_loss: 1.7783 - val_accuracy: 0.4304\n",
            "Epoch 3/25\n",
            "17110/17110 [==============================] - 6s 330us/step - loss: 1.7677 - accuracy: 0.4383 - val_loss: 1.7430 - val_accuracy: 0.4347\n",
            "Epoch 4/25\n",
            "17110/17110 [==============================] - 6s 332us/step - loss: 1.7120 - accuracy: 0.4486 - val_loss: 1.6645 - val_accuracy: 0.4543\n",
            "Epoch 5/25\n",
            "17110/17110 [==============================] - 6s 324us/step - loss: 1.6562 - accuracy: 0.4630 - val_loss: 1.6112 - val_accuracy: 0.4709\n",
            "Epoch 6/25\n",
            "17110/17110 [==============================] - 5s 320us/step - loss: 1.6112 - accuracy: 0.4746 - val_loss: 1.5653 - val_accuracy: 0.4789\n",
            "Epoch 7/25\n",
            "17110/17110 [==============================] - 6s 322us/step - loss: 1.5625 - accuracy: 0.4871 - val_loss: 1.5297 - val_accuracy: 0.4953\n",
            "Epoch 8/25\n",
            "17110/17110 [==============================] - 6s 322us/step - loss: 1.5160 - accuracy: 0.4996 - val_loss: 1.4752 - val_accuracy: 0.4991\n",
            "Epoch 9/25\n",
            "17110/17110 [==============================] - 6s 322us/step - loss: 1.4693 - accuracy: 0.5075 - val_loss: 1.4393 - val_accuracy: 0.4993\n",
            "Epoch 10/25\n",
            "17110/17110 [==============================] - 5s 321us/step - loss: 1.3849 - accuracy: 0.5140 - val_loss: 1.3351 - val_accuracy: 0.5281\n",
            "Epoch 11/25\n",
            "17110/17110 [==============================] - 5s 320us/step - loss: 1.2896 - accuracy: 0.5410 - val_loss: 1.2002 - val_accuracy: 0.5658\n",
            "Epoch 12/25\n",
            "17110/17110 [==============================] - 5s 318us/step - loss: 1.2004 - accuracy: 0.5658 - val_loss: 1.1090 - val_accuracy: 0.5973\n",
            "Epoch 13/25\n",
            "17110/17110 [==============================] - 5s 318us/step - loss: 1.1041 - accuracy: 0.6086 - val_loss: 1.0449 - val_accuracy: 0.6280\n",
            "Epoch 14/25\n",
            "17110/17110 [==============================] - 6s 334us/step - loss: 1.0087 - accuracy: 0.6506 - val_loss: 0.9062 - val_accuracy: 0.6907\n",
            "Epoch 15/25\n",
            "17110/17110 [==============================] - 6s 325us/step - loss: 0.9180 - accuracy: 0.6839 - val_loss: 0.8375 - val_accuracy: 0.7129\n",
            "Epoch 16/25\n",
            "17110/17110 [==============================] - 5s 320us/step - loss: 0.8363 - accuracy: 0.7146 - val_loss: 0.7475 - val_accuracy: 0.7354\n",
            "Epoch 17/25\n",
            "17110/17110 [==============================] - 5s 320us/step - loss: 0.7663 - accuracy: 0.7374 - val_loss: 0.6952 - val_accuracy: 0.7559\n",
            "Epoch 18/25\n",
            "17110/17110 [==============================] - 6s 322us/step - loss: 0.7136 - accuracy: 0.7504 - val_loss: 0.6867 - val_accuracy: 0.7619\n",
            "Epoch 19/25\n",
            "17110/17110 [==============================] - 6s 323us/step - loss: 0.6727 - accuracy: 0.7659 - val_loss: 0.6436 - val_accuracy: 0.7789\n",
            "Epoch 20/25\n",
            "17110/17110 [==============================] - 6s 327us/step - loss: 0.6293 - accuracy: 0.7774 - val_loss: 0.6941 - val_accuracy: 0.7595\n",
            "Epoch 21/25\n",
            "17110/17110 [==============================] - 5s 321us/step - loss: 0.5954 - accuracy: 0.7925 - val_loss: 0.6046 - val_accuracy: 0.7837\n",
            "Epoch 22/25\n",
            "17110/17110 [==============================] - 5s 319us/step - loss: 0.5597 - accuracy: 0.8065 - val_loss: 0.5936 - val_accuracy: 0.7966\n",
            "Epoch 23/25\n",
            "17110/17110 [==============================] - 5s 317us/step - loss: 0.5380 - accuracy: 0.8133 - val_loss: 0.6021 - val_accuracy: 0.7947\n",
            "Epoch 24/25\n",
            "17110/17110 [==============================] - 6s 322us/step - loss: 0.5123 - accuracy: 0.8222 - val_loss: 0.7056 - val_accuracy: 0.7737\n",
            "Epoch 25/25\n",
            "17110/17110 [==============================] - 5s 320us/step - loss: 0.4994 - accuracy: 0.8269 - val_loss: 0.5465 - val_accuracy: 0.8081\n",
            "12833/12833 [==============================] - 1s 116us/step\n",
            "Score is 0.8157094717025757\n",
            "Time taken ------> 145.24361991882324\n"
          ],
          "name": "stdout"
        }
      ]
    },
    {
      "cell_type": "code",
      "metadata": {
        "id": "MU62XsCXnOj4",
        "colab_type": "code",
        "colab": {
          "base_uri": "https://localhost:8080/",
          "height": 170
        },
        "outputId": "f60aa058-6c9f-479d-c8d8-27777199b65f"
      },
      "source": [
        "best_parameters = ga.best_individual()[1]\n",
        "for index,i in enumerate(data):\n",
        "  print(i[best_parameters[index]])\n",
        "\n",
        "print(ga.best_individual()[0])"
      ],
      "execution_count": 24,
      "outputs": [
        {
          "output_type": "stream",
          "text": [
            "5\n",
            "17\n",
            "43\n",
            "100\n",
            "3\n",
            "3\n",
            "2\n",
            "2\n",
            "0.8157094717025757\n"
          ],
          "name": "stdout"
        }
      ]
    },
    {
      "cell_type": "markdown",
      "metadata": {
        "id": "TXoVZ9ibM34E",
        "colab_type": "text"
      },
      "source": [
        "# Building CNN Model\n"
      ]
    },
    {
      "cell_type": "code",
      "metadata": {
        "id": "AT7KyTCKM-27",
        "colab_type": "code",
        "colab": {
          "base_uri": "https://localhost:8080/",
          "height": 1000
        },
        "outputId": "d1f889db-085c-4503-f6a7-17b6de6e9fc9"
      },
      "source": [
        "model = Sequential()\n",
        "model.add(Conv1D(filters=data[0][best_parameters[0]], kernel_size=data[4][best_parameters[4]], activation='relu', input_shape=input_shape))\n",
        "model.add(Conv1D(filters=data[0][best_parameters[0]], kernel_size=data[4][best_parameters[4]], activation='relu', input_shape=input_shape))\n",
        "model.add(BatchNormalization())\n",
        "model.add(MaxPooling1D(pool_size=2))\n",
        "model.add(Conv1D(filters=data[1][best_parameters[1]], kernel_size=data[5][best_parameters[5]], activation='relu'))\n",
        "model.add(Conv1D(filters=data[1][best_parameters[1]], kernel_size=data[5][best_parameters[5]], activation='relu'))\n",
        "model.add(BatchNormalization())\n",
        "model.add(MaxPooling1D(pool_size=2))\n",
        "model.add(Conv1D(filters=data[2][best_parameters[2]], kernel_size=data[5][best_parameters[5]], activation='relu'))\n",
        "model.add(Conv1D(filters=data[2][best_parameters[2]], kernel_size=data[5][best_parameters[5]], activation='relu'))\n",
        "model.add(BatchNormalization())\n",
        "model.add(MaxPooling1D(pool_size=2))\n",
        "model.add(Conv1D(filters=data[3][best_parameters[3]], kernel_size=data[6][best_parameters[6]], activation='relu'))\n",
        "model.add(Conv1D(filters=data[3][best_parameters[3]], kernel_size=data[6][best_parameters[6]], activation='relu'))\n",
        "model.add(BatchNormalization())\n",
        "model.add(MaxPooling1D(pool_size=2))\n",
        "model.add(Dropout(0.25))\n",
        "model.add(Flatten())\n",
        "model.add(Dense(64, activation='relu'))\n",
        "model.add(BatchNormalization())\n",
        "model.add(Dropout(0.25))\n",
        "model.add(Dense(32, activation='relu'))\n",
        "model.add(BatchNormalization())\n",
        "model.add(Dropout(0.25))\n",
        "model.add(Dense(16, activation='relu'))\n",
        "model.add(BatchNormalization())\n",
        "model.add(Dropout(0.25))\n",
        "model.add(Dense(number_of_classes, activation='softmax'))\n",
        "model.summary()"
      ],
      "execution_count": 25,
      "outputs": [
        {
          "output_type": "stream",
          "text": [
            "Model: \"sequential_2\"\n",
            "_________________________________________________________________\n",
            "Layer (type)                 Output Shape              Param #   \n",
            "=================================================================\n",
            "conv1d_9 (Conv1D)            (None, 76, 5)             20        \n",
            "_________________________________________________________________\n",
            "conv1d_10 (Conv1D)           (None, 74, 5)             80        \n",
            "_________________________________________________________________\n",
            "batch_normalization_8 (Batch (None, 74, 5)             20        \n",
            "_________________________________________________________________\n",
            "max_pooling1d_5 (MaxPooling1 (None, 37, 5)             0         \n",
            "_________________________________________________________________\n",
            "conv1d_11 (Conv1D)           (None, 35, 17)            272       \n",
            "_________________________________________________________________\n",
            "conv1d_12 (Conv1D)           (None, 33, 17)            884       \n",
            "_________________________________________________________________\n",
            "batch_normalization_9 (Batch (None, 33, 17)            68        \n",
            "_________________________________________________________________\n",
            "max_pooling1d_6 (MaxPooling1 (None, 16, 17)            0         \n",
            "_________________________________________________________________\n",
            "conv1d_13 (Conv1D)           (None, 14, 43)            2236      \n",
            "_________________________________________________________________\n",
            "conv1d_14 (Conv1D)           (None, 12, 43)            5590      \n",
            "_________________________________________________________________\n",
            "batch_normalization_10 (Batc (None, 12, 43)            172       \n",
            "_________________________________________________________________\n",
            "max_pooling1d_7 (MaxPooling1 (None, 6, 43)             0         \n",
            "_________________________________________________________________\n",
            "conv1d_15 (Conv1D)           (None, 5, 100)            8700      \n",
            "_________________________________________________________________\n",
            "conv1d_16 (Conv1D)           (None, 4, 100)            20100     \n",
            "_________________________________________________________________\n",
            "batch_normalization_11 (Batc (None, 4, 100)            400       \n",
            "_________________________________________________________________\n",
            "max_pooling1d_8 (MaxPooling1 (None, 2, 100)            0         \n",
            "_________________________________________________________________\n",
            "dropout_5 (Dropout)          (None, 2, 100)            0         \n",
            "_________________________________________________________________\n",
            "flatten_2 (Flatten)          (None, 200)               0         \n",
            "_________________________________________________________________\n",
            "dense_5 (Dense)              (None, 64)                12864     \n",
            "_________________________________________________________________\n",
            "batch_normalization_12 (Batc (None, 64)                256       \n",
            "_________________________________________________________________\n",
            "dropout_6 (Dropout)          (None, 64)                0         \n",
            "_________________________________________________________________\n",
            "dense_6 (Dense)              (None, 32)                2080      \n",
            "_________________________________________________________________\n",
            "batch_normalization_13 (Batc (None, 32)                128       \n",
            "_________________________________________________________________\n",
            "dropout_7 (Dropout)          (None, 32)                0         \n",
            "_________________________________________________________________\n",
            "dense_7 (Dense)              (None, 16)                528       \n",
            "_________________________________________________________________\n",
            "batch_normalization_14 (Batc (None, 16)                64        \n",
            "_________________________________________________________________\n",
            "dropout_8 (Dropout)          (None, 16)                0         \n",
            "_________________________________________________________________\n",
            "dense_8 (Dense)              (None, 9)                 153       \n",
            "=================================================================\n",
            "Total params: 54,615\n",
            "Trainable params: 54,061\n",
            "Non-trainable params: 554\n",
            "_________________________________________________________________\n"
          ],
          "name": "stdout"
        }
      ]
    },
    {
      "cell_type": "code",
      "metadata": {
        "id": "4nHrv5P4EPUi",
        "colab_type": "code",
        "colab": {}
      },
      "source": [
        "# model = Sequential()\n",
        "# model.add(Conv1D(filters=8, kernel_size=3, activation='relu', input_shape=input_shape))\n",
        "# model.add(Conv1D(filters=8, kernel_size=3, activation='relu', input_shape=input_shape))\n",
        "# model.add(BatchNormalization())\n",
        "# model.add(MaxPooling1D(pool_size=2))\n",
        "# model.add(Conv1D(filters=16, kernel_size=3, activation='relu'))\n",
        "# model.add(Conv1D(filters=16, kernel_size=3, activation='relu'))\n",
        "# model.add(BatchNormalization())\n",
        "# model.add(MaxPooling1D(pool_size=2))\n",
        "# model.add(Conv1D(filters=32, kernel_size=3, activation='relu'))\n",
        "# model.add(Conv1D(filters=32, kernel_size=3, activation='relu'))\n",
        "# model.add(BatchNormalization())\n",
        "# model.add(MaxPooling1D(pool_size=2))\n",
        "# model.add(Conv1D(filters=64, kernel_size=3, activation='relu'))\n",
        "# model.add(Conv1D(filters=64, kernel_size=3, activation='relu'))\n",
        "# model.add(BatchNormalization())\n",
        "# model.add(MaxPooling1D(pool_size=2))\n",
        "# model.add(Dropout(0.25))\n",
        "# model.add(Flatten())\n",
        "# model.add(Dense(64, activation='relu'))\n",
        "# model.add(BatchNormalization())\n",
        "# model.add(Dropout(0.25))\n",
        "# model.add(Dense(32, activation='relu'))\n",
        "# model.add(BatchNormalization())\n",
        "# model.add(Dropout(0.25))\n",
        "# model.add(Dense(16, activation='relu'))\n",
        "# model.add(BatchNormalization())\n",
        "# model.add(Dropout(0.25))\n",
        "# model.add(Dense(number_of_classes, activation='softmax'))\n",
        "# model.summary()"
      ],
      "execution_count": 0,
      "outputs": []
    },
    {
      "cell_type": "code",
      "metadata": {
        "id": "P5kxIOUabfGo",
        "colab_type": "code",
        "colab": {}
      },
      "source": [
        "# for i in model.layers:\n",
        "#   name = i.output.name.split('/')[0].split('_')\n",
        "#   if len(name) > 2:\n",
        "#     name = name[0] + '_' + name[1]\n",
        "#   else:\n",
        "#     name = name[0]\n",
        "#   print(name, i.output.shape)\n",
        "#   print('_________________________________________________')"
      ],
      "execution_count": 0,
      "outputs": []
    },
    {
      "cell_type": "code",
      "metadata": {
        "id": "3-VSlVynNBID",
        "colab_type": "code",
        "outputId": "f9b86d00-d254-4b55-da08-357fbf63bdc2",
        "colab": {
          "base_uri": "https://localhost:8080/",
          "height": 1000
        }
      },
      "source": [
        "import keras\n",
        "model.compile(loss=loss,\n",
        "              optimizer=keras.optimizers.Adadelta(),\n",
        "              metrics=metrics)\n",
        "\n",
        "model.fit(X_train, np.array(y_train),\n",
        "          batch_size=128,\n",
        "          epochs=100,\n",
        "          verbose=1,\n",
        "          validation_data=(xx_val, np.array(yy_val)))"
      ],
      "execution_count": 28,
      "outputs": [
        {
          "output_type": "stream",
          "text": [
            "Train on 17110 samples, validate on 12833 samples\n",
            "Epoch 1/100\n",
            "17110/17110 [==============================] - 7s 417us/step - loss: 2.3590 - accuracy: 0.2141 - val_loss: 1.8226 - val_accuracy: 0.4304\n",
            "Epoch 2/100\n",
            "17110/17110 [==============================] - 5s 315us/step - loss: 1.9346 - accuracy: 0.3740 - val_loss: 1.7761 - val_accuracy: 0.4305\n",
            "Epoch 3/100\n",
            "17110/17110 [==============================] - 5s 318us/step - loss: 1.7804 - accuracy: 0.4251 - val_loss: 1.7117 - val_accuracy: 0.4393\n",
            "Epoch 4/100\n",
            "17110/17110 [==============================] - 5s 317us/step - loss: 1.7220 - accuracy: 0.4397 - val_loss: 1.6915 - val_accuracy: 0.4407\n",
            "Epoch 5/100\n",
            "17110/17110 [==============================] - 5s 317us/step - loss: 1.6866 - accuracy: 0.4499 - val_loss: 1.6626 - val_accuracy: 0.4494\n",
            "Epoch 6/100\n",
            "17110/17110 [==============================] - 5s 318us/step - loss: 1.6482 - accuracy: 0.4594 - val_loss: 1.6400 - val_accuracy: 0.4548\n",
            "Epoch 7/100\n",
            "17110/17110 [==============================] - 5s 315us/step - loss: 1.5904 - accuracy: 0.4703 - val_loss: 1.5435 - val_accuracy: 0.4746\n",
            "Epoch 8/100\n",
            "17110/17110 [==============================] - 5s 318us/step - loss: 1.5248 - accuracy: 0.4838 - val_loss: 1.4652 - val_accuracy: 0.4927\n",
            "Epoch 9/100\n",
            "17110/17110 [==============================] - 5s 320us/step - loss: 1.4722 - accuracy: 0.4985 - val_loss: 1.4290 - val_accuracy: 0.5047\n",
            "Epoch 10/100\n",
            "17110/17110 [==============================] - 6s 323us/step - loss: 1.4187 - accuracy: 0.5134 - val_loss: 1.3905 - val_accuracy: 0.5157\n",
            "Epoch 11/100\n",
            "17110/17110 [==============================] - 5s 321us/step - loss: 1.3718 - accuracy: 0.5242 - val_loss: 1.3593 - val_accuracy: 0.5205\n",
            "Epoch 12/100\n",
            "17110/17110 [==============================] - 5s 317us/step - loss: 1.3088 - accuracy: 0.5367 - val_loss: 1.2996 - val_accuracy: 0.5325\n",
            "Epoch 13/100\n",
            "17110/17110 [==============================] - 5s 318us/step - loss: 1.1805 - accuracy: 0.5812 - val_loss: 1.1260 - val_accuracy: 0.5912\n",
            "Epoch 14/100\n",
            "17110/17110 [==============================] - 5s 317us/step - loss: 1.0610 - accuracy: 0.6244 - val_loss: 0.9953 - val_accuracy: 0.6279\n",
            "Epoch 15/100\n",
            "17110/17110 [==============================] - 5s 317us/step - loss: 0.9717 - accuracy: 0.6556 - val_loss: 0.9466 - val_accuracy: 0.6506\n",
            "Epoch 16/100\n",
            "17110/17110 [==============================] - 5s 318us/step - loss: 0.8843 - accuracy: 0.6861 - val_loss: 0.8116 - val_accuracy: 0.7015\n",
            "Epoch 17/100\n",
            "17110/17110 [==============================] - 5s 321us/step - loss: 0.8015 - accuracy: 0.7180 - val_loss: 0.8008 - val_accuracy: 0.7108\n",
            "Epoch 18/100\n",
            "17110/17110 [==============================] - 5s 313us/step - loss: 0.7315 - accuracy: 0.7395 - val_loss: 0.7573 - val_accuracy: 0.7266\n",
            "Epoch 19/100\n",
            "17110/17110 [==============================] - 5s 310us/step - loss: 0.6768 - accuracy: 0.7577 - val_loss: 0.6598 - val_accuracy: 0.7509\n",
            "Epoch 20/100\n",
            "17110/17110 [==============================] - 5s 314us/step - loss: 0.6288 - accuracy: 0.7732 - val_loss: 0.6903 - val_accuracy: 0.7489\n",
            "Epoch 21/100\n",
            "17110/17110 [==============================] - 5s 314us/step - loss: 0.5916 - accuracy: 0.7845 - val_loss: 0.5900 - val_accuracy: 0.7711\n",
            "Epoch 22/100\n",
            "17110/17110 [==============================] - 5s 315us/step - loss: 0.5604 - accuracy: 0.7949 - val_loss: 0.5696 - val_accuracy: 0.7799\n",
            "Epoch 23/100\n",
            "17110/17110 [==============================] - 5s 313us/step - loss: 0.5243 - accuracy: 0.8068 - val_loss: 0.6116 - val_accuracy: 0.7741\n",
            "Epoch 24/100\n",
            "17110/17110 [==============================] - 5s 315us/step - loss: 0.5089 - accuracy: 0.8098 - val_loss: 0.5730 - val_accuracy: 0.7801\n",
            "Epoch 25/100\n",
            "17110/17110 [==============================] - 5s 311us/step - loss: 0.4814 - accuracy: 0.8224 - val_loss: 0.5673 - val_accuracy: 0.7808\n",
            "Epoch 26/100\n",
            "17110/17110 [==============================] - 5s 313us/step - loss: 0.4643 - accuracy: 0.8288 - val_loss: 0.6587 - val_accuracy: 0.7776\n",
            "Epoch 27/100\n",
            "17110/17110 [==============================] - 5s 312us/step - loss: 0.4457 - accuracy: 0.8346 - val_loss: 0.5323 - val_accuracy: 0.8018\n",
            "Epoch 28/100\n",
            "17110/17110 [==============================] - 5s 312us/step - loss: 0.4329 - accuracy: 0.8420 - val_loss: 0.5177 - val_accuracy: 0.8099\n",
            "Epoch 29/100\n",
            "17110/17110 [==============================] - 5s 312us/step - loss: 0.4085 - accuracy: 0.8475 - val_loss: 0.5264 - val_accuracy: 0.8088\n",
            "Epoch 30/100\n",
            "17110/17110 [==============================] - 5s 312us/step - loss: 0.3984 - accuracy: 0.8532 - val_loss: 0.5228 - val_accuracy: 0.8116\n",
            "Epoch 31/100\n",
            "17110/17110 [==============================] - 5s 317us/step - loss: 0.3783 - accuracy: 0.8597 - val_loss: 0.6158 - val_accuracy: 0.8067\n",
            "Epoch 32/100\n",
            "17110/17110 [==============================] - 5s 318us/step - loss: 0.3665 - accuracy: 0.8658 - val_loss: 0.5398 - val_accuracy: 0.8190\n",
            "Epoch 33/100\n",
            "17110/17110 [==============================] - 5s 318us/step - loss: 0.3657 - accuracy: 0.8679 - val_loss: 0.5362 - val_accuracy: 0.8196\n",
            "Epoch 34/100\n",
            "17110/17110 [==============================] - 6s 327us/step - loss: 0.3531 - accuracy: 0.8727 - val_loss: 0.5386 - val_accuracy: 0.8235\n",
            "Epoch 35/100\n",
            "17110/17110 [==============================] - 6s 326us/step - loss: 0.3413 - accuracy: 0.8763 - val_loss: 0.5247 - val_accuracy: 0.8222\n",
            "Epoch 36/100\n",
            "17110/17110 [==============================] - 5s 313us/step - loss: 0.3241 - accuracy: 0.8832 - val_loss: 0.5480 - val_accuracy: 0.8246\n",
            "Epoch 37/100\n",
            "17110/17110 [==============================] - 5s 319us/step - loss: 0.3154 - accuracy: 0.8857 - val_loss: 0.6126 - val_accuracy: 0.8152\n",
            "Epoch 38/100\n",
            "17110/17110 [==============================] - 5s 315us/step - loss: 0.3160 - accuracy: 0.8886 - val_loss: 0.5534 - val_accuracy: 0.8264\n",
            "Epoch 39/100\n",
            "17110/17110 [==============================] - 5s 314us/step - loss: 0.2965 - accuracy: 0.8950 - val_loss: 0.5535 - val_accuracy: 0.8274\n",
            "Epoch 40/100\n",
            "17110/17110 [==============================] - 5s 314us/step - loss: 0.2879 - accuracy: 0.8981 - val_loss: 0.5776 - val_accuracy: 0.8264\n",
            "Epoch 41/100\n",
            "17110/17110 [==============================] - 5s 314us/step - loss: 0.2855 - accuracy: 0.9005 - val_loss: 0.5511 - val_accuracy: 0.8300\n",
            "Epoch 42/100\n",
            "17110/17110 [==============================] - 5s 315us/step - loss: 0.2762 - accuracy: 0.9039 - val_loss: 0.5733 - val_accuracy: 0.8240\n",
            "Epoch 43/100\n",
            "17110/17110 [==============================] - 5s 318us/step - loss: 0.2726 - accuracy: 0.9041 - val_loss: 0.5623 - val_accuracy: 0.8269\n",
            "Epoch 44/100\n",
            "17110/17110 [==============================] - 6s 329us/step - loss: 0.2596 - accuracy: 0.9077 - val_loss: 0.5847 - val_accuracy: 0.8220\n",
            "Epoch 45/100\n",
            "17110/17110 [==============================] - 5s 318us/step - loss: 0.2444 - accuracy: 0.9150 - val_loss: 0.5816 - val_accuracy: 0.8321\n",
            "Epoch 46/100\n",
            "17110/17110 [==============================] - 5s 315us/step - loss: 0.2514 - accuracy: 0.9151 - val_loss: 0.5692 - val_accuracy: 0.8324\n",
            "Epoch 47/100\n",
            "17110/17110 [==============================] - 5s 318us/step - loss: 0.2442 - accuracy: 0.9162 - val_loss: 0.6045 - val_accuracy: 0.8255\n",
            "Epoch 48/100\n",
            "17110/17110 [==============================] - 5s 316us/step - loss: 0.2328 - accuracy: 0.9219 - val_loss: 0.5961 - val_accuracy: 0.8327\n",
            "Epoch 49/100\n",
            "17110/17110 [==============================] - 5s 317us/step - loss: 0.2386 - accuracy: 0.9174 - val_loss: 0.6084 - val_accuracy: 0.8228\n",
            "Epoch 50/100\n",
            "17110/17110 [==============================] - 5s 315us/step - loss: 0.2208 - accuracy: 0.9256 - val_loss: 0.5977 - val_accuracy: 0.8285\n",
            "Epoch 51/100\n",
            "17110/17110 [==============================] - 5s 315us/step - loss: 0.2117 - accuracy: 0.9271 - val_loss: 0.6196 - val_accuracy: 0.8274\n",
            "Epoch 52/100\n",
            "17110/17110 [==============================] - 5s 316us/step - loss: 0.2183 - accuracy: 0.9261 - val_loss: 0.6151 - val_accuracy: 0.8276\n",
            "Epoch 53/100\n",
            "17110/17110 [==============================] - 5s 313us/step - loss: 0.2085 - accuracy: 0.9278 - val_loss: 0.6834 - val_accuracy: 0.8222\n",
            "Epoch 54/100\n",
            "17110/17110 [==============================] - 5s 316us/step - loss: 0.2048 - accuracy: 0.9317 - val_loss: 0.6219 - val_accuracy: 0.8326\n",
            "Epoch 55/100\n",
            "17110/17110 [==============================] - 5s 315us/step - loss: 0.1947 - accuracy: 0.9338 - val_loss: 0.6321 - val_accuracy: 0.8322\n",
            "Epoch 56/100\n",
            "17110/17110 [==============================] - 5s 316us/step - loss: 0.1892 - accuracy: 0.9358 - val_loss: 0.6696 - val_accuracy: 0.8159\n",
            "Epoch 57/100\n",
            "17110/17110 [==============================] - 5s 312us/step - loss: 0.1917 - accuracy: 0.9369 - val_loss: 0.6473 - val_accuracy: 0.8307\n",
            "Epoch 58/100\n",
            "17110/17110 [==============================] - 5s 313us/step - loss: 0.1825 - accuracy: 0.9400 - val_loss: 0.6679 - val_accuracy: 0.8192\n",
            "Epoch 59/100\n",
            "17110/17110 [==============================] - 5s 313us/step - loss: 0.1833 - accuracy: 0.9389 - val_loss: 0.6697 - val_accuracy: 0.8390\n",
            "Epoch 60/100\n",
            "17110/17110 [==============================] - 5s 320us/step - loss: 0.1738 - accuracy: 0.9406 - val_loss: 0.6571 - val_accuracy: 0.8304\n",
            "Epoch 61/100\n",
            "17110/17110 [==============================] - 5s 320us/step - loss: 0.1703 - accuracy: 0.9430 - val_loss: 0.6623 - val_accuracy: 0.8357\n",
            "Epoch 62/100\n",
            "17110/17110 [==============================] - 5s 319us/step - loss: 0.1723 - accuracy: 0.9427 - val_loss: 0.7135 - val_accuracy: 0.8309\n",
            "Epoch 63/100\n",
            "17110/17110 [==============================] - 6s 324us/step - loss: 0.1653 - accuracy: 0.9451 - val_loss: 0.6849 - val_accuracy: 0.8252\n",
            "Epoch 64/100\n",
            "17110/17110 [==============================] - 5s 317us/step - loss: 0.1621 - accuracy: 0.9442 - val_loss: 0.7004 - val_accuracy: 0.8361\n",
            "Epoch 65/100\n",
            "17110/17110 [==============================] - 5s 314us/step - loss: 0.1603 - accuracy: 0.9466 - val_loss: 0.6855 - val_accuracy: 0.8390\n",
            "Epoch 66/100\n",
            "17110/17110 [==============================] - 5s 314us/step - loss: 0.1514 - accuracy: 0.9486 - val_loss: 0.7181 - val_accuracy: 0.8198\n",
            "Epoch 67/100\n",
            "17110/17110 [==============================] - 5s 310us/step - loss: 0.1486 - accuracy: 0.9534 - val_loss: 0.7014 - val_accuracy: 0.8364\n",
            "Epoch 68/100\n",
            "17110/17110 [==============================] - 5s 315us/step - loss: 0.1374 - accuracy: 0.9558 - val_loss: 0.7200 - val_accuracy: 0.8379\n",
            "Epoch 69/100\n",
            "17110/17110 [==============================] - 5s 319us/step - loss: 0.1409 - accuracy: 0.9538 - val_loss: 0.7013 - val_accuracy: 0.8368\n",
            "Epoch 70/100\n",
            "17110/17110 [==============================] - 5s 313us/step - loss: 0.1372 - accuracy: 0.9561 - val_loss: 0.7067 - val_accuracy: 0.8363\n",
            "Epoch 71/100\n",
            "17110/17110 [==============================] - 5s 315us/step - loss: 0.1360 - accuracy: 0.9549 - val_loss: 0.7106 - val_accuracy: 0.8378\n",
            "Epoch 72/100\n",
            "17110/17110 [==============================] - 5s 314us/step - loss: 0.1268 - accuracy: 0.9598 - val_loss: 0.7519 - val_accuracy: 0.8357\n",
            "Epoch 73/100\n",
            "17110/17110 [==============================] - 5s 312us/step - loss: 0.1366 - accuracy: 0.9549 - val_loss: 0.6949 - val_accuracy: 0.8417\n",
            "Epoch 74/100\n",
            "17110/17110 [==============================] - 5s 315us/step - loss: 0.1369 - accuracy: 0.9553 - val_loss: 0.7127 - val_accuracy: 0.8354\n",
            "Epoch 75/100\n",
            "17110/17110 [==============================] - 5s 315us/step - loss: 0.1213 - accuracy: 0.9617 - val_loss: 0.7388 - val_accuracy: 0.8321\n",
            "Epoch 76/100\n",
            "17110/17110 [==============================] - 5s 316us/step - loss: 0.1205 - accuracy: 0.9617 - val_loss: 0.9096 - val_accuracy: 0.7997\n",
            "Epoch 77/100\n",
            "17110/17110 [==============================] - 5s 320us/step - loss: 0.1191 - accuracy: 0.9643 - val_loss: 0.7911 - val_accuracy: 0.8346\n",
            "Epoch 78/100\n",
            "17110/17110 [==============================] - 5s 318us/step - loss: 0.1198 - accuracy: 0.9618 - val_loss: 0.7831 - val_accuracy: 0.8229\n",
            "Epoch 79/100\n",
            "17110/17110 [==============================] - 5s 316us/step - loss: 0.1071 - accuracy: 0.9654 - val_loss: 0.7925 - val_accuracy: 0.8275\n",
            "Epoch 80/100\n",
            "17110/17110 [==============================] - 5s 318us/step - loss: 0.1099 - accuracy: 0.9658 - val_loss: 0.7628 - val_accuracy: 0.8359\n",
            "Epoch 81/100\n",
            "17110/17110 [==============================] - 5s 313us/step - loss: 0.1214 - accuracy: 0.9628 - val_loss: 0.7732 - val_accuracy: 0.8368\n",
            "Epoch 82/100\n",
            "17110/17110 [==============================] - 5s 313us/step - loss: 0.1072 - accuracy: 0.9664 - val_loss: 0.7827 - val_accuracy: 0.8378\n",
            "Epoch 83/100\n",
            "17110/17110 [==============================] - 5s 312us/step - loss: 0.1065 - accuracy: 0.9669 - val_loss: 0.8036 - val_accuracy: 0.8334\n",
            "Epoch 84/100\n",
            "17110/17110 [==============================] - 5s 312us/step - loss: 0.1015 - accuracy: 0.9673 - val_loss: 0.8153 - val_accuracy: 0.8361\n",
            "Epoch 85/100\n",
            "17110/17110 [==============================] - 5s 314us/step - loss: 0.0996 - accuracy: 0.9701 - val_loss: 0.7974 - val_accuracy: 0.8391\n",
            "Epoch 86/100\n",
            "17110/17110 [==============================] - 5s 313us/step - loss: 0.1026 - accuracy: 0.9695 - val_loss: 0.8059 - val_accuracy: 0.8360\n",
            "Epoch 87/100\n",
            "17110/17110 [==============================] - 5s 317us/step - loss: 0.0869 - accuracy: 0.9732 - val_loss: 0.8429 - val_accuracy: 0.8375\n",
            "Epoch 88/100\n",
            "17110/17110 [==============================] - 5s 314us/step - loss: 0.0992 - accuracy: 0.9701 - val_loss: 0.9094 - val_accuracy: 0.8184\n",
            "Epoch 89/100\n",
            "17110/17110 [==============================] - 5s 313us/step - loss: 0.0985 - accuracy: 0.9701 - val_loss: 0.8014 - val_accuracy: 0.8418\n",
            "Epoch 90/100\n",
            "17110/17110 [==============================] - 5s 312us/step - loss: 0.1018 - accuracy: 0.9695 - val_loss: 0.8121 - val_accuracy: 0.8342\n",
            "Epoch 91/100\n",
            "17110/17110 [==============================] - 5s 317us/step - loss: 0.0902 - accuracy: 0.9731 - val_loss: 0.8090 - val_accuracy: 0.8403\n",
            "Epoch 92/100\n",
            "17110/17110 [==============================] - 6s 327us/step - loss: 0.0907 - accuracy: 0.9719 - val_loss: 0.8274 - val_accuracy: 0.8381\n",
            "Epoch 93/100\n",
            "17110/17110 [==============================] - 6s 325us/step - loss: 0.0810 - accuracy: 0.9749 - val_loss: 0.8366 - val_accuracy: 0.8396\n",
            "Epoch 94/100\n",
            "17110/17110 [==============================] - 5s 318us/step - loss: 0.0899 - accuracy: 0.9713 - val_loss: 0.8363 - val_accuracy: 0.8364\n",
            "Epoch 95/100\n",
            "17110/17110 [==============================] - 5s 320us/step - loss: 0.0880 - accuracy: 0.9722 - val_loss: 0.8429 - val_accuracy: 0.8326\n",
            "Epoch 96/100\n",
            "17110/17110 [==============================] - 5s 320us/step - loss: 0.0844 - accuracy: 0.9740 - val_loss: 0.8732 - val_accuracy: 0.8355\n",
            "Epoch 97/100\n",
            "17110/17110 [==============================] - 5s 315us/step - loss: 0.0802 - accuracy: 0.9755 - val_loss: 0.8485 - val_accuracy: 0.8378\n",
            "Epoch 98/100\n",
            "17110/17110 [==============================] - 5s 315us/step - loss: 0.0819 - accuracy: 0.9752 - val_loss: 0.8640 - val_accuracy: 0.8319\n",
            "Epoch 99/100\n",
            "17110/17110 [==============================] - 5s 317us/step - loss: 0.0803 - accuracy: 0.9750 - val_loss: 0.8507 - val_accuracy: 0.8383\n",
            "Epoch 100/100\n",
            "17110/17110 [==============================] - 6s 324us/step - loss: 0.0793 - accuracy: 0.9752 - val_loss: 0.8400 - val_accuracy: 0.8403\n"
          ],
          "name": "stdout"
        },
        {
          "output_type": "execute_result",
          "data": {
            "text/plain": [
              "<keras.callbacks.callbacks.History at 0x7f99631ee518>"
            ]
          },
          "metadata": {
            "tags": []
          },
          "execution_count": 28
        }
      ]
    },
    {
      "cell_type": "code",
      "metadata": {
        "id": "LSGrC7sxNWhx",
        "colab_type": "code",
        "outputId": "e920281c-8cd6-4de9-f36f-4c7a659e09e2",
        "colab": {
          "base_uri": "https://localhost:8080/",
          "height": 68
        }
      },
      "source": [
        "score = model.evaluate(xx_test, yy_test, verbose=1)\n",
        "print('Test loss:', score[0])\n",
        "print('Test accuracy:', score[1])"
      ],
      "execution_count": 29,
      "outputs": [
        {
          "output_type": "stream",
          "text": [
            "12833/12833 [==============================] - 2s 118us/step\n",
            "Test loss: 0.8201616305046827\n",
            "Test accuracy: 0.8446972370147705\n"
          ],
          "name": "stdout"
        }
      ]
    },
    {
      "cell_type": "code",
      "metadata": {
        "id": "GbIwG9dgjk-X",
        "colab_type": "code",
        "colab": {}
      },
      "source": [
        "if len(np.array(y_test).shape) == 1:\n",
        "  y_test = [x+1 for x in y_test]\n",
        "  y_train = [x+1 for x in y_train]"
      ],
      "execution_count": 0,
      "outputs": []
    },
    {
      "cell_type": "code",
      "metadata": {
        "id": "s9zjzu4ArF-O",
        "colab_type": "code",
        "outputId": "1371067b-1d32-4085-ce54-c0fcddfe08b2",
        "colab": {
          "base_uri": "https://localhost:8080/",
          "height": 51
        }
      },
      "source": [
        "!pip install spectral"
      ],
      "execution_count": 31,
      "outputs": [
        {
          "output_type": "stream",
          "text": [
            "Requirement already satisfied: spectral in /usr/local/lib/python3.6/dist-packages (0.21)\n",
            "Requirement already satisfied: numpy in /usr/local/lib/python3.6/dist-packages (from spectral) (1.18.5)\n"
          ],
          "name": "stdout"
        }
      ]
    },
    {
      "cell_type": "code",
      "metadata": {
        "id": "Zf5wCQc3q7ye",
        "colab_type": "code",
        "colab": {}
      },
      "source": [
        "import spectral as sp\n",
        "prediction = model.predict(X)\n",
        "\n",
        "if not len(prediction.shape) == 2:\n",
        "    y_test = [x + 1 for x in y_test]\n",
        "    y_train = [x + 1 for x in y_train]\n",
        "\n",
        "if len(prediction.shape) == 2:\n",
        "    predicted_gt_1 = np.argmax(prediction, axis=1)\n",
        "    predicted_gt_1_list = list(predicted_gt_1)\n",
        "    predicted_gt_1_list = [x + 1 for x in predicted_gt_1_list]\n",
        "else:\n",
        "    predicted_gt_1_list = prediction\n",
        "\n",
        "for i in zero_data:\n",
        "    predicted_gt_1_list.insert(i, 0)\n",
        "\n",
        "predicted_gt_1_list = np.array(predicted_gt_1_list).reshape(image.shape[0], image.shape[1])\n",
        "sp.save_rgb('predicted_gt.jpg', predicted_gt_1_list, colors=sp.spy_colors)\n"
      ],
      "execution_count": 0,
      "outputs": []
    }
  ]
}