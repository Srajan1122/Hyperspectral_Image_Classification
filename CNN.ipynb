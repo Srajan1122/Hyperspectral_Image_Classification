{
  "nbformat": 4,
  "nbformat_minor": 0,
  "metadata": {
    "colab": {
      "name": "CNN",
      "provenance": [],
      "authorship_tag": "ABX9TyNEcNAxbHWKAm8wqaTcx3jx",
      "include_colab_link": true
    },
    "kernelspec": {
      "name": "python3",
      "display_name": "Python 3"
    }
  },
  "cells": [
    {
      "cell_type": "markdown",
      "metadata": {
        "id": "view-in-github",
        "colab_type": "text"
      },
      "source": [
        "<a href=\"https://colab.research.google.com/github/Srajan1122/Hyperspectral_Image_Classification/blob/srajan/CNN.ipynb\" target=\"_parent\"><img src=\"https://colab.research.google.com/assets/colab-badge.svg\" alt=\"Open In Colab\"/></a>"
      ]
    },
    {
      "cell_type": "code",
      "metadata": {
        "id": "pO-nUq2-KL7a",
        "colab_type": "code",
        "outputId": "6b11a275-cb36-41c5-e52c-6375cc6d842f",
        "colab": {
          "base_uri": "https://localhost:8080/",
          "height": 34
        }
      },
      "source": [
        "from google.colab import drive\n",
        "drive.mount('/content/drive')"
      ],
      "execution_count": 1,
      "outputs": [
        {
          "output_type": "stream",
          "text": [
            "Drive already mounted at /content/drive; to attempt to forcibly remount, call drive.mount(\"/content/drive\", force_remount=True).\n"
          ],
          "name": "stdout"
        }
      ]
    },
    {
      "cell_type": "markdown",
      "metadata": {
        "id": "aXpp9_cwKqz1",
        "colab_type": "text"
      },
      "source": [
        "# Importing Libraries"
      ]
    },
    {
      "cell_type": "code",
      "metadata": {
        "id": "qVxnzfWvKN-K",
        "colab_type": "code",
        "outputId": "5913d336-988b-4bfc-9f76-5077a2fd5275",
        "colab": {
          "base_uri": "https://localhost:8080/",
          "height": 34
        }
      },
      "source": [
        "import pandas as pd\n",
        "import numpy as np\n",
        "from scipy import io\n",
        "from sklearn.model_selection import train_test_split\n",
        "from sklearn.preprocessing import OneHotEncoder \n",
        "from sklearn import preprocessing\n",
        "import keras"
      ],
      "execution_count": 2,
      "outputs": [
        {
          "output_type": "stream",
          "text": [
            "Using TensorFlow backend.\n"
          ],
          "name": "stderr"
        }
      ]
    },
    {
      "cell_type": "markdown",
      "metadata": {
        "id": "UqasbIqPK0KM",
        "colab_type": "text"
      },
      "source": [
        "# Importing Dataset"
      ]
    },
    {
      "cell_type": "code",
      "metadata": {
        "id": "erOp3hTTKuzQ",
        "colab_type": "code",
        "colab": {}
      },
      "source": [
        "loaded_dataset = io.loadmat('/content/drive/My Drive/Srajan/Internship/SEM4-LeadingindiaAI/Tasks/Datasets/IndianPines/Indian_pines_corrected.mat')\n",
        "for key, value in loaded_dataset.items():\n",
        "  if isinstance(value, type(np.array([1]))):\n",
        "    image = loaded_dataset[key]"
      ],
      "execution_count": 0,
      "outputs": []
    },
    {
      "cell_type": "code",
      "metadata": {
        "id": "HjbphR_nK5O8",
        "colab_type": "code",
        "colab": {}
      },
      "source": [
        "ground_truth_1 = io.loadmat('/content/drive/My Drive/Srajan/Internship/SEM4-LeadingindiaAI/Tasks/Datasets/IndianPines/Indian_pines_gt.mat')\n",
        "for key, value in ground_truth_1.items():\n",
        "  if isinstance(value, type(np.array([1]))):\n",
        "    ground_truth = ground_truth_1[key]"
      ],
      "execution_count": 0,
      "outputs": []
    },
    {
      "cell_type": "markdown",
      "metadata": {
        "id": "_9l4ZElPK8xW",
        "colab_type": "text"
      },
      "source": [
        "## Class Labels"
      ]
    },
    {
      "cell_type": "code",
      "metadata": {
        "id": "JumPKdTvK_EY",
        "colab_type": "code",
        "colab": {}
      },
      "source": [
        "label_values = [\"Alfalfa\", \"Corn-notill\", \"Corn-mintill\",\n",
        "                        \"Corn\", \"Grass-pasture\", \"Grass-trees\",\n",
        "                        \"Grass-pasture-mowed\", \"Hay-windrowed\", \"Oats\",\n",
        "                        \"Soybean-notill\", \"Soybean-mintill\", \"Soybean-clean\",\n",
        "                        \"Wheat\", \"Woods\", \"Buildings-Grass-Trees-Drives\",\n",
        "                        \"Stone-Steel-Towers\"]"
      ],
      "execution_count": 0,
      "outputs": []
    },
    {
      "cell_type": "markdown",
      "metadata": {
        "id": "QYIFKIPmLCFV",
        "colab_type": "text"
      },
      "source": [
        "## Resizing the data"
      ]
    },
    {
      "cell_type": "code",
      "metadata": {
        "id": "UnRRsjn8K_zG",
        "colab_type": "code",
        "colab": {}
      },
      "source": [
        "image_with_gt = np.dstack((image, ground_truth))"
      ],
      "execution_count": 0,
      "outputs": []
    },
    {
      "cell_type": "code",
      "metadata": {
        "id": "P2hhElWJLF9V",
        "colab_type": "code",
        "colab": {}
      },
      "source": [
        "final_output = image_with_gt.reshape(ground_truth.size, image.shape[2]+1)"
      ],
      "execution_count": 0,
      "outputs": []
    },
    {
      "cell_type": "markdown",
      "metadata": {
        "id": "ZKGD0bRxLJff",
        "colab_type": "text"
      },
      "source": [
        "## Data Visualization in pandas"
      ]
    },
    {
      "cell_type": "code",
      "metadata": {
        "id": "4AWkTHdDLOwf",
        "colab_type": "code",
        "colab": {}
      },
      "source": [
        "data = pd.DataFrame(final_output)"
      ],
      "execution_count": 0,
      "outputs": []
    },
    {
      "cell_type": "code",
      "metadata": {
        "id": "9ctUP_zKLUpJ",
        "colab_type": "code",
        "outputId": "5d874481-9f45-47fe-d9e8-dab3a7feb944",
        "colab": {
          "base_uri": "https://localhost:8080/",
          "height": 253
        }
      },
      "source": [
        "data.head()"
      ],
      "execution_count": 9,
      "outputs": [
        {
          "output_type": "execute_result",
          "data": {
            "text/html": [
              "<div>\n",
              "<style scoped>\n",
              "    .dataframe tbody tr th:only-of-type {\n",
              "        vertical-align: middle;\n",
              "    }\n",
              "\n",
              "    .dataframe tbody tr th {\n",
              "        vertical-align: top;\n",
              "    }\n",
              "\n",
              "    .dataframe thead th {\n",
              "        text-align: right;\n",
              "    }\n",
              "</style>\n",
              "<table border=\"1\" class=\"dataframe\">\n",
              "  <thead>\n",
              "    <tr style=\"text-align: right;\">\n",
              "      <th></th>\n",
              "      <th>0</th>\n",
              "      <th>1</th>\n",
              "      <th>2</th>\n",
              "      <th>3</th>\n",
              "      <th>4</th>\n",
              "      <th>5</th>\n",
              "      <th>6</th>\n",
              "      <th>7</th>\n",
              "      <th>8</th>\n",
              "      <th>9</th>\n",
              "      <th>10</th>\n",
              "      <th>11</th>\n",
              "      <th>12</th>\n",
              "      <th>13</th>\n",
              "      <th>14</th>\n",
              "      <th>15</th>\n",
              "      <th>16</th>\n",
              "      <th>17</th>\n",
              "      <th>18</th>\n",
              "      <th>19</th>\n",
              "      <th>20</th>\n",
              "      <th>21</th>\n",
              "      <th>22</th>\n",
              "      <th>23</th>\n",
              "      <th>24</th>\n",
              "      <th>25</th>\n",
              "      <th>26</th>\n",
              "      <th>27</th>\n",
              "      <th>28</th>\n",
              "      <th>29</th>\n",
              "      <th>30</th>\n",
              "      <th>31</th>\n",
              "      <th>32</th>\n",
              "      <th>33</th>\n",
              "      <th>34</th>\n",
              "      <th>35</th>\n",
              "      <th>36</th>\n",
              "      <th>37</th>\n",
              "      <th>38</th>\n",
              "      <th>39</th>\n",
              "      <th>...</th>\n",
              "      <th>161</th>\n",
              "      <th>162</th>\n",
              "      <th>163</th>\n",
              "      <th>164</th>\n",
              "      <th>165</th>\n",
              "      <th>166</th>\n",
              "      <th>167</th>\n",
              "      <th>168</th>\n",
              "      <th>169</th>\n",
              "      <th>170</th>\n",
              "      <th>171</th>\n",
              "      <th>172</th>\n",
              "      <th>173</th>\n",
              "      <th>174</th>\n",
              "      <th>175</th>\n",
              "      <th>176</th>\n",
              "      <th>177</th>\n",
              "      <th>178</th>\n",
              "      <th>179</th>\n",
              "      <th>180</th>\n",
              "      <th>181</th>\n",
              "      <th>182</th>\n",
              "      <th>183</th>\n",
              "      <th>184</th>\n",
              "      <th>185</th>\n",
              "      <th>186</th>\n",
              "      <th>187</th>\n",
              "      <th>188</th>\n",
              "      <th>189</th>\n",
              "      <th>190</th>\n",
              "      <th>191</th>\n",
              "      <th>192</th>\n",
              "      <th>193</th>\n",
              "      <th>194</th>\n",
              "      <th>195</th>\n",
              "      <th>196</th>\n",
              "      <th>197</th>\n",
              "      <th>198</th>\n",
              "      <th>199</th>\n",
              "      <th>200</th>\n",
              "    </tr>\n",
              "  </thead>\n",
              "  <tbody>\n",
              "    <tr>\n",
              "      <th>0</th>\n",
              "      <td>3172</td>\n",
              "      <td>4142</td>\n",
              "      <td>4506</td>\n",
              "      <td>4279</td>\n",
              "      <td>4782</td>\n",
              "      <td>5048</td>\n",
              "      <td>5213</td>\n",
              "      <td>5106</td>\n",
              "      <td>5053</td>\n",
              "      <td>4750</td>\n",
              "      <td>4816</td>\n",
              "      <td>4769</td>\n",
              "      <td>4610</td>\n",
              "      <td>4805</td>\n",
              "      <td>4828</td>\n",
              "      <td>4861</td>\n",
              "      <td>4767</td>\n",
              "      <td>4624</td>\n",
              "      <td>4549</td>\n",
              "      <td>4463</td>\n",
              "      <td>4462</td>\n",
              "      <td>4446</td>\n",
              "      <td>4445</td>\n",
              "      <td>4336</td>\n",
              "      <td>4381</td>\n",
              "      <td>4319</td>\n",
              "      <td>4207</td>\n",
              "      <td>4305</td>\n",
              "      <td>4311</td>\n",
              "      <td>3991</td>\n",
              "      <td>4168</td>\n",
              "      <td>3942</td>\n",
              "      <td>4061</td>\n",
              "      <td>4362</td>\n",
              "      <td>4318</td>\n",
              "      <td>4252</td>\n",
              "      <td>4869</td>\n",
              "      <td>5284</td>\n",
              "      <td>5055</td>\n",
              "      <td>3591</td>\n",
              "      <td>...</td>\n",
              "      <td>1396</td>\n",
              "      <td>1381</td>\n",
              "      <td>1396</td>\n",
              "      <td>1381</td>\n",
              "      <td>1353</td>\n",
              "      <td>1346</td>\n",
              "      <td>1341</td>\n",
              "      <td>1332</td>\n",
              "      <td>1324</td>\n",
              "      <td>1310</td>\n",
              "      <td>1318</td>\n",
              "      <td>1330</td>\n",
              "      <td>1310</td>\n",
              "      <td>1292</td>\n",
              "      <td>1280</td>\n",
              "      <td>1275</td>\n",
              "      <td>1266</td>\n",
              "      <td>1264</td>\n",
              "      <td>1233</td>\n",
              "      <td>1241</td>\n",
              "      <td>1232</td>\n",
              "      <td>1215</td>\n",
              "      <td>1215</td>\n",
              "      <td>1187</td>\n",
              "      <td>1168</td>\n",
              "      <td>1171</td>\n",
              "      <td>1150</td>\n",
              "      <td>1134</td>\n",
              "      <td>1123</td>\n",
              "      <td>1135</td>\n",
              "      <td>1094</td>\n",
              "      <td>1090</td>\n",
              "      <td>1112</td>\n",
              "      <td>1090</td>\n",
              "      <td>1062</td>\n",
              "      <td>1069</td>\n",
              "      <td>1057</td>\n",
              "      <td>1020</td>\n",
              "      <td>1020</td>\n",
              "      <td>3</td>\n",
              "    </tr>\n",
              "    <tr>\n",
              "      <th>1</th>\n",
              "      <td>2580</td>\n",
              "      <td>4266</td>\n",
              "      <td>4502</td>\n",
              "      <td>4426</td>\n",
              "      <td>4853</td>\n",
              "      <td>5249</td>\n",
              "      <td>5352</td>\n",
              "      <td>5353</td>\n",
              "      <td>5347</td>\n",
              "      <td>5065</td>\n",
              "      <td>5141</td>\n",
              "      <td>5100</td>\n",
              "      <td>4994</td>\n",
              "      <td>5172</td>\n",
              "      <td>5290</td>\n",
              "      <td>5289</td>\n",
              "      <td>5217</td>\n",
              "      <td>5053</td>\n",
              "      <td>5033</td>\n",
              "      <td>4939</td>\n",
              "      <td>4931</td>\n",
              "      <td>4941</td>\n",
              "      <td>4902</td>\n",
              "      <td>4824</td>\n",
              "      <td>4859</td>\n",
              "      <td>4805</td>\n",
              "      <td>4698</td>\n",
              "      <td>4794</td>\n",
              "      <td>4806</td>\n",
              "      <td>4452</td>\n",
              "      <td>4628</td>\n",
              "      <td>4433</td>\n",
              "      <td>4643</td>\n",
              "      <td>4967</td>\n",
              "      <td>4853</td>\n",
              "      <td>4760</td>\n",
              "      <td>5449</td>\n",
              "      <td>5768</td>\n",
              "      <td>5684</td>\n",
              "      <td>3987</td>\n",
              "      <td>...</td>\n",
              "      <td>1421</td>\n",
              "      <td>1415</td>\n",
              "      <td>1428</td>\n",
              "      <td>1415</td>\n",
              "      <td>1379</td>\n",
              "      <td>1370</td>\n",
              "      <td>1360</td>\n",
              "      <td>1353</td>\n",
              "      <td>1352</td>\n",
              "      <td>1336</td>\n",
              "      <td>1346</td>\n",
              "      <td>1351</td>\n",
              "      <td>1330</td>\n",
              "      <td>1315</td>\n",
              "      <td>1305</td>\n",
              "      <td>1292</td>\n",
              "      <td>1282</td>\n",
              "      <td>1286</td>\n",
              "      <td>1259</td>\n",
              "      <td>1259</td>\n",
              "      <td>1250</td>\n",
              "      <td>1229</td>\n",
              "      <td>1232</td>\n",
              "      <td>1195</td>\n",
              "      <td>1177</td>\n",
              "      <td>1184</td>\n",
              "      <td>1153</td>\n",
              "      <td>1137</td>\n",
              "      <td>1138</td>\n",
              "      <td>1137</td>\n",
              "      <td>1108</td>\n",
              "      <td>1104</td>\n",
              "      <td>1117</td>\n",
              "      <td>1091</td>\n",
              "      <td>1079</td>\n",
              "      <td>1085</td>\n",
              "      <td>1064</td>\n",
              "      <td>1029</td>\n",
              "      <td>1020</td>\n",
              "      <td>3</td>\n",
              "    </tr>\n",
              "    <tr>\n",
              "      <th>2</th>\n",
              "      <td>3687</td>\n",
              "      <td>4266</td>\n",
              "      <td>4421</td>\n",
              "      <td>4498</td>\n",
              "      <td>5019</td>\n",
              "      <td>5293</td>\n",
              "      <td>5438</td>\n",
              "      <td>5427</td>\n",
              "      <td>5383</td>\n",
              "      <td>5132</td>\n",
              "      <td>5227</td>\n",
              "      <td>5172</td>\n",
              "      <td>5097</td>\n",
              "      <td>5313</td>\n",
              "      <td>5411</td>\n",
              "      <td>5412</td>\n",
              "      <td>5341</td>\n",
              "      <td>5191</td>\n",
              "      <td>5140</td>\n",
              "      <td>5069</td>\n",
              "      <td>5110</td>\n",
              "      <td>5119</td>\n",
              "      <td>5046</td>\n",
              "      <td>4981</td>\n",
              "      <td>5023</td>\n",
              "      <td>4987</td>\n",
              "      <td>4862</td>\n",
              "      <td>4965</td>\n",
              "      <td>4992</td>\n",
              "      <td>4595</td>\n",
              "      <td>4756</td>\n",
              "      <td>4529</td>\n",
              "      <td>4801</td>\n",
              "      <td>5077</td>\n",
              "      <td>4983</td>\n",
              "      <td>4868</td>\n",
              "      <td>5515</td>\n",
              "      <td>5972</td>\n",
              "      <td>5913</td>\n",
              "      <td>4027</td>\n",
              "      <td>...</td>\n",
              "      <td>1446</td>\n",
              "      <td>1440</td>\n",
              "      <td>1443</td>\n",
              "      <td>1425</td>\n",
              "      <td>1390</td>\n",
              "      <td>1379</td>\n",
              "      <td>1376</td>\n",
              "      <td>1363</td>\n",
              "      <td>1355</td>\n",
              "      <td>1347</td>\n",
              "      <td>1361</td>\n",
              "      <td>1356</td>\n",
              "      <td>1341</td>\n",
              "      <td>1330</td>\n",
              "      <td>1321</td>\n",
              "      <td>1304</td>\n",
              "      <td>1290</td>\n",
              "      <td>1289</td>\n",
              "      <td>1263</td>\n",
              "      <td>1269</td>\n",
              "      <td>1261</td>\n",
              "      <td>1245</td>\n",
              "      <td>1241</td>\n",
              "      <td>1214</td>\n",
              "      <td>1185</td>\n",
              "      <td>1188</td>\n",
              "      <td>1156</td>\n",
              "      <td>1147</td>\n",
              "      <td>1149</td>\n",
              "      <td>1144</td>\n",
              "      <td>1111</td>\n",
              "      <td>1114</td>\n",
              "      <td>1114</td>\n",
              "      <td>1100</td>\n",
              "      <td>1065</td>\n",
              "      <td>1092</td>\n",
              "      <td>1061</td>\n",
              "      <td>1030</td>\n",
              "      <td>1016</td>\n",
              "      <td>3</td>\n",
              "    </tr>\n",
              "    <tr>\n",
              "      <th>3</th>\n",
              "      <td>2749</td>\n",
              "      <td>4258</td>\n",
              "      <td>4603</td>\n",
              "      <td>4493</td>\n",
              "      <td>4958</td>\n",
              "      <td>5234</td>\n",
              "      <td>5417</td>\n",
              "      <td>5355</td>\n",
              "      <td>5349</td>\n",
              "      <td>5096</td>\n",
              "      <td>5147</td>\n",
              "      <td>5078</td>\n",
              "      <td>5040</td>\n",
              "      <td>5237</td>\n",
              "      <td>5321</td>\n",
              "      <td>5344</td>\n",
              "      <td>5255</td>\n",
              "      <td>5121</td>\n",
              "      <td>5035</td>\n",
              "      <td>4956</td>\n",
              "      <td>4994</td>\n",
              "      <td>4980</td>\n",
              "      <td>4905</td>\n",
              "      <td>4857</td>\n",
              "      <td>4900</td>\n",
              "      <td>4831</td>\n",
              "      <td>4720</td>\n",
              "      <td>4848</td>\n",
              "      <td>4847</td>\n",
              "      <td>4484</td>\n",
              "      <td>4613</td>\n",
              "      <td>4402</td>\n",
              "      <td>4674</td>\n",
              "      <td>4966</td>\n",
              "      <td>4848</td>\n",
              "      <td>4776</td>\n",
              "      <td>5473</td>\n",
              "      <td>5894</td>\n",
              "      <td>5789</td>\n",
              "      <td>4086</td>\n",
              "      <td>...</td>\n",
              "      <td>1432</td>\n",
              "      <td>1427</td>\n",
              "      <td>1426</td>\n",
              "      <td>1416</td>\n",
              "      <td>1386</td>\n",
              "      <td>1374</td>\n",
              "      <td>1375</td>\n",
              "      <td>1359</td>\n",
              "      <td>1343</td>\n",
              "      <td>1343</td>\n",
              "      <td>1354</td>\n",
              "      <td>1351</td>\n",
              "      <td>1333</td>\n",
              "      <td>1329</td>\n",
              "      <td>1313</td>\n",
              "      <td>1296</td>\n",
              "      <td>1280</td>\n",
              "      <td>1281</td>\n",
              "      <td>1251</td>\n",
              "      <td>1255</td>\n",
              "      <td>1253</td>\n",
              "      <td>1238</td>\n",
              "      <td>1223</td>\n",
              "      <td>1207</td>\n",
              "      <td>1188</td>\n",
              "      <td>1188</td>\n",
              "      <td>1154</td>\n",
              "      <td>1143</td>\n",
              "      <td>1144</td>\n",
              "      <td>1146</td>\n",
              "      <td>1122</td>\n",
              "      <td>1108</td>\n",
              "      <td>1109</td>\n",
              "      <td>1109</td>\n",
              "      <td>1071</td>\n",
              "      <td>1088</td>\n",
              "      <td>1060</td>\n",
              "      <td>1030</td>\n",
              "      <td>1006</td>\n",
              "      <td>3</td>\n",
              "    </tr>\n",
              "    <tr>\n",
              "      <th>4</th>\n",
              "      <td>2746</td>\n",
              "      <td>4018</td>\n",
              "      <td>4675</td>\n",
              "      <td>4417</td>\n",
              "      <td>4886</td>\n",
              "      <td>5117</td>\n",
              "      <td>5215</td>\n",
              "      <td>5096</td>\n",
              "      <td>5098</td>\n",
              "      <td>4834</td>\n",
              "      <td>4853</td>\n",
              "      <td>4857</td>\n",
              "      <td>4734</td>\n",
              "      <td>4879</td>\n",
              "      <td>4976</td>\n",
              "      <td>4958</td>\n",
              "      <td>4885</td>\n",
              "      <td>4754</td>\n",
              "      <td>4647</td>\n",
              "      <td>4532</td>\n",
              "      <td>4586</td>\n",
              "      <td>4591</td>\n",
              "      <td>4492</td>\n",
              "      <td>4453</td>\n",
              "      <td>4497</td>\n",
              "      <td>4398</td>\n",
              "      <td>4297</td>\n",
              "      <td>4408</td>\n",
              "      <td>4401</td>\n",
              "      <td>4102</td>\n",
              "      <td>4227</td>\n",
              "      <td>4075</td>\n",
              "      <td>4264</td>\n",
              "      <td>4529</td>\n",
              "      <td>4490</td>\n",
              "      <td>4438</td>\n",
              "      <td>5001</td>\n",
              "      <td>5378</td>\n",
              "      <td>5321</td>\n",
              "      <td>3779</td>\n",
              "      <td>...</td>\n",
              "      <td>1401</td>\n",
              "      <td>1397</td>\n",
              "      <td>1395</td>\n",
              "      <td>1390</td>\n",
              "      <td>1368</td>\n",
              "      <td>1349</td>\n",
              "      <td>1354</td>\n",
              "      <td>1340</td>\n",
              "      <td>1330</td>\n",
              "      <td>1324</td>\n",
              "      <td>1336</td>\n",
              "      <td>1332</td>\n",
              "      <td>1320</td>\n",
              "      <td>1307</td>\n",
              "      <td>1287</td>\n",
              "      <td>1283</td>\n",
              "      <td>1267</td>\n",
              "      <td>1265</td>\n",
              "      <td>1239</td>\n",
              "      <td>1240</td>\n",
              "      <td>1239</td>\n",
              "      <td>1229</td>\n",
              "      <td>1212</td>\n",
              "      <td>1202</td>\n",
              "      <td>1178</td>\n",
              "      <td>1178</td>\n",
              "      <td>1143</td>\n",
              "      <td>1135</td>\n",
              "      <td>1138</td>\n",
              "      <td>1135</td>\n",
              "      <td>1110</td>\n",
              "      <td>1107</td>\n",
              "      <td>1112</td>\n",
              "      <td>1094</td>\n",
              "      <td>1072</td>\n",
              "      <td>1087</td>\n",
              "      <td>1052</td>\n",
              "      <td>1034</td>\n",
              "      <td>1019</td>\n",
              "      <td>3</td>\n",
              "    </tr>\n",
              "  </tbody>\n",
              "</table>\n",
              "<p>5 rows × 201 columns</p>\n",
              "</div>"
            ],
            "text/plain": [
              "    0     1     2     3     4     5    ...   195   196   197   198   199  200\n",
              "0  3172  4142  4506  4279  4782  5048  ...  1062  1069  1057  1020  1020    3\n",
              "1  2580  4266  4502  4426  4853  5249  ...  1079  1085  1064  1029  1020    3\n",
              "2  3687  4266  4421  4498  5019  5293  ...  1065  1092  1061  1030  1016    3\n",
              "3  2749  4258  4603  4493  4958  5234  ...  1071  1088  1060  1030  1006    3\n",
              "4  2746  4018  4675  4417  4886  5117  ...  1072  1087  1052  1034  1019    3\n",
              "\n",
              "[5 rows x 201 columns]"
            ]
          },
          "metadata": {
            "tags": []
          },
          "execution_count": 9
        }
      ]
    },
    {
      "cell_type": "markdown",
      "metadata": {
        "id": "OLWjsfqaLZs0",
        "colab_type": "text"
      },
      "source": [
        "## Droping the rows if ground truth value is zero"
      ]
    },
    {
      "cell_type": "code",
      "metadata": {
        "id": "OlyctDjwLYkb",
        "colab_type": "code",
        "outputId": "273dcd88-0065-4246-d296-94b6e0ae0ac4",
        "colab": {
          "base_uri": "https://localhost:8080/",
          "height": 34
        }
      },
      "source": [
        "print(\"Percentage of column which will be droped\",(data.size - data[data.iloc[:, -1] == 0].size)/data.size,\"%\")"
      ],
      "execution_count": 10,
      "outputs": [
        {
          "output_type": "stream",
          "text": [
            "Percentage of column which will be droped 0.48746730083234247 %\n"
          ],
          "name": "stdout"
        }
      ]
    },
    {
      "cell_type": "code",
      "metadata": {
        "id": "_tJ0vUTCLhZx",
        "colab_type": "code",
        "colab": {}
      },
      "source": [
        "zero_data = data.index[data.iloc[:, -1] == 0].tolist()\n",
        "data = data[data.iloc[:, -1] != 0]"
      ],
      "execution_count": 0,
      "outputs": []
    },
    {
      "cell_type": "markdown",
      "metadata": {
        "id": "kE5Gc8BTLiAN",
        "colab_type": "text"
      },
      "source": [
        "# Spliting the data into feature and target"
      ]
    },
    {
      "cell_type": "code",
      "metadata": {
        "id": "FJ4dCIbILrwg",
        "colab_type": "code",
        "colab": {}
      },
      "source": [
        "X = data.iloc[:, :-1]\n",
        "y = data.iloc[:,-1]"
      ],
      "execution_count": 0,
      "outputs": []
    },
    {
      "cell_type": "code",
      "metadata": {
        "id": "fBvQ4xnt6tQD",
        "colab_type": "code",
        "colab": {}
      },
      "source": [
        "number_of_classes = len(np.unique(y))"
      ],
      "execution_count": 0,
      "outputs": []
    },
    {
      "cell_type": "markdown",
      "metadata": {
        "id": "CHPv8SimL1Iu",
        "colab_type": "text"
      },
      "source": [
        "# Feature Selection"
      ]
    },
    {
      "cell_type": "code",
      "metadata": {
        "id": "6aMaE8k8L0VV",
        "colab_type": "code",
        "colab": {}
      },
      "source": [
        "# from sklearn.feature_selection import SelectKBest\n",
        "# from sklearn.feature_selection import chi2, f_classif, mutual_info_classif\n",
        "\n",
        "# X = SelectKBest(f_classif, k=int((image.shape[2]+1)*0.75)).fit_transform(X, y)"
      ],
      "execution_count": 0,
      "outputs": []
    },
    {
      "cell_type": "markdown",
      "metadata": {
        "id": "nCO0t_-J0G6J",
        "colab_type": "text"
      },
      "source": [
        "# Feature Extraction \n"
      ]
    },
    {
      "cell_type": "code",
      "metadata": {
        "id": "NIjIpV160KKZ",
        "colab_type": "code",
        "colab": {}
      },
      "source": [
        "from sklearn.decomposition import PCA \n",
        "\n",
        "pca = PCA(n_components = int((image.shape[2]+1)*0.75))\n",
        "X = pca.fit_transform(X)"
      ],
      "execution_count": 0,
      "outputs": []
    },
    {
      "cell_type": "markdown",
      "metadata": {
        "id": "fijfR_5DL9IK",
        "colab_type": "text"
      },
      "source": [
        "# OneHotEncoding in target column"
      ]
    },
    {
      "cell_type": "code",
      "metadata": {
        "id": "_QoUCdAwMBAD",
        "colab_type": "code",
        "colab": {}
      },
      "source": [
        "onehotencoder = OneHotEncoder() \n",
        "y = onehotencoder.fit_transform(np.array(y).reshape(-1,1)).toarray() "
      ],
      "execution_count": 0,
      "outputs": []
    },
    {
      "cell_type": "markdown",
      "metadata": {
        "id": "IlNWTtSVMEjl",
        "colab_type": "text"
      },
      "source": [
        "# Standardizing the feature columna"
      ]
    },
    {
      "cell_type": "code",
      "metadata": {
        "id": "PPshPrqEMJvm",
        "colab_type": "code",
        "colab": {}
      },
      "source": [
        "X = preprocessing.scale(X)"
      ],
      "execution_count": 0,
      "outputs": []
    },
    {
      "cell_type": "markdown",
      "metadata": {
        "id": "DRtV7aDDqr5a",
        "colab_type": "text"
      },
      "source": [
        "# Spliting the data into training and testing set "
      ]
    },
    {
      "cell_type": "code",
      "metadata": {
        "id": "DattLTVzqr5b",
        "colab_type": "code",
        "colab": {}
      },
      "source": [
        "X_train, X_test, y_train, y_test = train_test_split(X, y, test_size=0.60, random_state=1)#0.25 0.15"
      ],
      "execution_count": 0,
      "outputs": []
    },
    {
      "cell_type": "code",
      "metadata": {
        "id": "2OngDFGdDdPx",
        "colab_type": "code",
        "colab": {}
      },
      "source": [
        "number = int(X_test.shape[0]/2)\n",
        "\n",
        "xx_test = X_test[:number, :]\n",
        "xx_val = X_test[number:, :]\n",
        "\n",
        "if len(y_test.shape) > 1:\n",
        "  loss = keras.losses.categorical_crossentropy\n",
        "  metrics=['accuracy']\n",
        "  yy_test = y_test[:number, :]\n",
        "  yy_val = y_test[number:, :]\n",
        "else:\n",
        "  loss = keras.losses.sparse_categorical_crossentropy\n",
        "  metrics=['sparse_categorical_accuracy']\n",
        "  y_test = [x - 1 for x in y_test]\n",
        "  y_train = [x - 1 for x in y_train]\n",
        "  yy_test = y_test[:number]\n",
        "  yy_val = y_test[number:]"
      ],
      "execution_count": 0,
      "outputs": []
    },
    {
      "cell_type": "code",
      "metadata": {
        "id": "9M33_KnJNu7n",
        "colab_type": "code",
        "colab": {}
      },
      "source": [
        "from keras import backend as K\n",
        "feature = X.shape[1]\n",
        "\n",
        "if K.image_data_format() == 'channels_first':\n",
        "    X = X.reshape(X.shape[0], 1, feature)\n",
        "    X_train = X_train.reshape(X_train.shape[0], 1, feature)\n",
        "    xx_test = xx_test.reshape(xx_test.shape[0], 1, feature)\n",
        "    xx_val = xx_val.reshape(xx_val.shape[0], 1, feature)\n",
        "    input_shape = (1, feature)\n",
        "else:\n",
        "    X = X.reshape(X.shape[0], feature, 1)\n",
        "    X_train = X_train.reshape(X_train.shape[0], feature, 1)\n",
        "    xx_test = xx_test.reshape(xx_test.shape[0], feature, 1)\n",
        "    xx_val = xx_val.reshape(xx_val.shape[0], feature, 1)\n",
        "    input_shape = (feature, 1)"
      ],
      "execution_count": 0,
      "outputs": []
    },
    {
      "cell_type": "markdown",
      "metadata": {
        "id": "MQLkUnZ_YsYO",
        "colab_type": "text"
      },
      "source": [
        "# Genetic Algorithm"
      ]
    },
    {
      "cell_type": "code",
      "metadata": {
        "id": "1-9MDtAugFbk",
        "colab_type": "code",
        "outputId": "3facfff2-45b2-469e-9101-7650574f7056",
        "colab": {
          "base_uri": "https://localhost:8080/",
          "height": 51
        }
      },
      "source": [
        "!pip install pyeasyga"
      ],
      "execution_count": 21,
      "outputs": [
        {
          "output_type": "stream",
          "text": [
            "Requirement already satisfied: pyeasyga in /usr/local/lib/python3.6/dist-packages (0.3.1)\n",
            "Requirement already satisfied: six in /usr/local/lib/python3.6/dist-packages (from pyeasyga) (1.12.0)\n"
          ],
          "name": "stdout"
        }
      ]
    },
    {
      "cell_type": "code",
      "metadata": {
        "id": "QlapBK49M2QU",
        "colab_type": "code",
        "colab": {}
      },
      "source": [
        "from keras.models import Sequential\n",
        "from keras.layers import Dense, Dropout, Flatten, Conv1D, MaxPooling1D, BatchNormalization"
      ],
      "execution_count": 0,
      "outputs": []
    },
    {
      "cell_type": "code",
      "metadata": {
        "id": "3bAr5dYIYrxF",
        "colab_type": "code",
        "colab": {}
      },
      "source": [
        "# from pyeasyga import pyeasyga\n",
        "# import random\n",
        "# import numpy as np\n",
        "# from sklearn.metrics import accuracy_score\n",
        "# import keras\n",
        "# import time\n",
        "\n",
        "# count = 1\n",
        "\n",
        "# def initilialize_population():\n",
        "#     filter_1 = list(x for x in range(1, 11))\n",
        "#     filter_2 = list(x for x in range(11, 31))\n",
        "#     filter_3 = list(x for x in range(31, 61))\n",
        "#     filter_4 = list(x for x in range(61, 101))\n",
        "\n",
        "#     kernel_size_1 = [2,3]\n",
        "#     kernel_size_2 = [2,3]\n",
        "#     kernel_size_3 = [2,3]\n",
        "#     kernel_size_4 = [2,3]\n",
        "\n",
        "\n",
        "#     population = []\n",
        "#     population.append(filter_1)\n",
        "#     population.append(filter_2)\n",
        "#     population.append(filter_3)\n",
        "#     population.append(filter_4)\n",
        "#     population.append(kernel_size_1)\n",
        "#     population.append(kernel_size_2)\n",
        "#     population.append(kernel_size_3)\n",
        "#     population.append(kernel_size_4)\n",
        "\n",
        "#     return list(population)\n",
        "\n",
        "# def create_individual(data):\n",
        "#   choice = []\n",
        "#   for i in range(len(data)):\n",
        "#     choice.append(random.choice(list(range(len(data[i])))))\n",
        "#   return choice\n",
        "\n",
        "# def fitness_function(individual, data):\n",
        "#   global count\n",
        "#   print('Individual no', count)\n",
        "#   count += 1\n",
        "#   model = Sequential()\n",
        "#   model.add(Conv1D(filters=data[0][individual[0]], kernel_size=data[4][individual[4]], activation='relu', input_shape=input_shape))\n",
        "#   model.add(Conv1D(filters=data[0][individual[0]], kernel_size=data[4][individual[4]], activation='relu', input_shape=input_shape))\n",
        "#   model.add(BatchNormalization())\n",
        "#   model.add(MaxPooling1D(pool_size=2))\n",
        "#   model.add(Conv1D(filters=data[1][individual[1]], kernel_size=data[5][individual[5]], activation='relu'))\n",
        "#   model.add(Conv1D(filters=data[1][individual[1]], kernel_size=data[5][individual[5]], activation='relu'))\n",
        "#   model.add(BatchNormalization())\n",
        "#   model.add(MaxPooling1D(pool_size=2))\n",
        "#   model.add(Conv1D(filters=data[2][individual[2]], kernel_size=data[6][individual[6]], activation='relu'))\n",
        "#   model.add(Conv1D(filters=data[2][individual[2]], kernel_size=data[6][individual[6]], activation='relu'))\n",
        "#   model.add(BatchNormalization())\n",
        "#   model.add(MaxPooling1D(pool_size=2))\n",
        "#   model.add(Conv1D(filters=data[3][individual[3]], kernel_size=data[7][individual[7]], activation='relu'))\n",
        "#   model.add(Conv1D(filters=data[3][individual[3]], kernel_size=data[7][individual[7]], activation='relu'))\n",
        "#   model.add(BatchNormalization())\n",
        "#   model.add(MaxPooling1D(pool_size=2))\n",
        "#   model.add(Dropout(0.25))\n",
        "#   model.add(Flatten())\n",
        "#   model.add(Dense(64, activation='relu'))\n",
        "#   model.add(BatchNormalization())\n",
        "#   model.add(Dropout(0.25))\n",
        "#   model.add(Dense(32, activation='relu'))\n",
        "#   model.add(BatchNormalization())\n",
        "#   model.add(Dropout(0.25))\n",
        "#   model.add(Dense(16, activation='relu'))\n",
        "#   model.add(BatchNormalization())\n",
        "#   model.add(Dropout(0.25))\n",
        "#   model.add(Dense(number_of_classes, activation='softmax'))\n",
        "\n",
        "#   model.compile(loss=loss,\n",
        "#                 optimizer=keras.optimizers.Adadelta(),\n",
        "#                 metrics=metrics)\n",
        "\n",
        "#   model.fit(X_train, np.array(y_train),\n",
        "#             batch_size=128,\n",
        "#             epochs=25,\n",
        "#             verbose=1,\n",
        "#             validation_data=(xx_val,np.array(yy_val)))\n",
        "\n",
        "\n",
        "#   score = model.evaluate(xx_test, np.array(yy_test), verbose=1)[1]\n",
        "#   # prediction = model.predict(X_test)\n",
        "#   # score = accuracy_score(y_test, prediction)\n",
        "#   print('Score is', score)\n",
        "#   return score\n",
        "  \n",
        "# data = initilialize_population()\n",
        "# ga = pyeasyga.GeneticAlgorithm(seed_data=data,\n",
        "#                                population_size=1,\n",
        "#                                generations=1,\n",
        "#                                crossover_probability=0.8,\n",
        "#                                mutation_probability=0.4,\n",
        "#                                elitism=True,\n",
        "#                                maximise_fitness=True)\n",
        "# ga.create_individual = create_individual\n",
        "# ga.fitness_function = fitness_function\n",
        "\n",
        "# start = time.time()\n",
        "# ga.run()\n",
        "# end = time.time()\n",
        "# print('Time taken ------>', end-start)"
      ],
      "execution_count": 0,
      "outputs": []
    },
    {
      "cell_type": "code",
      "metadata": {
        "id": "MU62XsCXnOj4",
        "colab_type": "code",
        "colab": {}
      },
      "source": [
        "# best_parameters = ga.best_individual()[1]\n",
        "# for index,i in enumerate(data):\n",
        "#   print(i[best_parameters[index]])\n",
        "\n",
        "# print(ga.best_individual()[0])"
      ],
      "execution_count": 0,
      "outputs": []
    },
    {
      "cell_type": "markdown",
      "metadata": {
        "id": "TXoVZ9ibM34E",
        "colab_type": "text"
      },
      "source": [
        "# Building CNN Model\n"
      ]
    },
    {
      "cell_type": "code",
      "metadata": {
        "id": "AT7KyTCKM-27",
        "colab_type": "code",
        "colab": {}
      },
      "source": [
        "# model = Sequential()\n",
        "# model.add(Conv1D(filters=data[0][best_parameters[0]], kernel_size=data[4][best_parameters[4]], activation='relu', input_shape=input_shape))\n",
        "# model.add(Conv1D(filters=data[0][best_parameters[0]], kernel_size=data[4][best_parameters[4]], activation='relu', input_shape=input_shape))\n",
        "# model.add(BatchNormalization())\n",
        "# model.add(MaxPooling1D(pool_size=2))\n",
        "# model.add(Conv1D(filters=data[1][best_parameters[1]], kernel_size=data[5][best_parameters[5]], activation='relu'))\n",
        "# model.add(Conv1D(filters=data[1][best_parameters[1]], kernel_size=data[5][best_parameters[5]], activation='relu'))\n",
        "# model.add(BatchNormalization())\n",
        "# model.add(MaxPooling1D(pool_size=2))\n",
        "# model.add(Conv1D(filters=data[2][best_parameters[2]], kernel_size=data[5][best_parameters[5]], activation='relu'))\n",
        "# model.add(Conv1D(filters=data[2][best_parameters[2]], kernel_size=data[5][best_parameters[5]], activation='relu'))\n",
        "# model.add(BatchNormalization())\n",
        "# model.add(MaxPooling1D(pool_size=2))\n",
        "# model.add(Conv1D(filters=data[3][best_parameters[3]], kernel_size=data[6][best_parameters[6]], activation='relu'))\n",
        "# model.add(Conv1D(filters=data[3][best_parameters[3]], kernel_size=data[6][best_parameters[6]], activation='relu'))\n",
        "# model.add(BatchNormalization())\n",
        "# model.add(MaxPooling1D(pool_size=2))\n",
        "# model.add(Dropout(0.25))\n",
        "# model.add(Flatten())\n",
        "# model.add(Dense(64, activation='relu'))\n",
        "# model.add(BatchNormalization())\n",
        "# model.add(Dropout(0.25))\n",
        "# model.add(Dense(32, activation='relu'))\n",
        "# model.add(BatchNormalization())\n",
        "# model.add(Dropout(0.25))\n",
        "# model.add(Dense(16, activation='relu'))\n",
        "# model.add(BatchNormalization())\n",
        "# model.add(Dropout(0.25))\n",
        "# model.add(Dense(number_of_classes, activation='softmax'))\n",
        "# model.summary()"
      ],
      "execution_count": 0,
      "outputs": []
    },
    {
      "cell_type": "code",
      "metadata": {
        "id": "4nHrv5P4EPUi",
        "colab_type": "code",
        "colab": {
          "base_uri": "https://localhost:8080/",
          "height": 1000
        },
        "outputId": "f3ed8614-291b-42be-fb2a-fa592dd3a8a9"
      },
      "source": [
        "model = Sequential()\n",
        "model.add(Conv1D(filters=8, kernel_size=3, activation='relu', input_shape=input_shape))\n",
        "model.add(Conv1D(filters=8, kernel_size=3, activation='relu', input_shape=input_shape))\n",
        "model.add(BatchNormalization())\n",
        "model.add(MaxPooling1D(pool_size=2))\n",
        "model.add(Conv1D(filters=16, kernel_size=3, activation='relu'))\n",
        "model.add(Conv1D(filters=16, kernel_size=3, activation='relu'))\n",
        "model.add(BatchNormalization())\n",
        "model.add(MaxPooling1D(pool_size=2))\n",
        "model.add(Conv1D(filters=32, kernel_size=3, activation='relu'))\n",
        "model.add(Conv1D(filters=32, kernel_size=3, activation='relu'))\n",
        "model.add(BatchNormalization())\n",
        "model.add(MaxPooling1D(pool_size=2))\n",
        "model.add(Conv1D(filters=64, kernel_size=3, activation='relu'))\n",
        "model.add(Conv1D(filters=64, kernel_size=3, activation='relu'))\n",
        "model.add(BatchNormalization())\n",
        "model.add(MaxPooling1D(pool_size=2))\n",
        "model.add(Dropout(0.25))\n",
        "model.add(Flatten())\n",
        "model.add(Dense(64, activation='relu'))\n",
        "model.add(BatchNormalization())\n",
        "model.add(Dropout(0.25))\n",
        "model.add(Dense(32, activation='relu'))\n",
        "model.add(BatchNormalization())\n",
        "model.add(Dropout(0.25))\n",
        "model.add(Dense(16, activation='relu'))\n",
        "model.add(BatchNormalization())\n",
        "model.add(Dropout(0.25))\n",
        "model.add(Dense(number_of_classes, activation='softmax'))\n",
        "model.summary()"
      ],
      "execution_count": 26,
      "outputs": [
        {
          "output_type": "stream",
          "text": [
            "Model: \"sequential_1\"\n",
            "_________________________________________________________________\n",
            "Layer (type)                 Output Shape              Param #   \n",
            "=================================================================\n",
            "conv1d_1 (Conv1D)            (None, 148, 8)            32        \n",
            "_________________________________________________________________\n",
            "conv1d_2 (Conv1D)            (None, 146, 8)            200       \n",
            "_________________________________________________________________\n",
            "batch_normalization_1 (Batch (None, 146, 8)            32        \n",
            "_________________________________________________________________\n",
            "max_pooling1d_1 (MaxPooling1 (None, 73, 8)             0         \n",
            "_________________________________________________________________\n",
            "conv1d_3 (Conv1D)            (None, 71, 16)            400       \n",
            "_________________________________________________________________\n",
            "conv1d_4 (Conv1D)            (None, 69, 16)            784       \n",
            "_________________________________________________________________\n",
            "batch_normalization_2 (Batch (None, 69, 16)            64        \n",
            "_________________________________________________________________\n",
            "max_pooling1d_2 (MaxPooling1 (None, 34, 16)            0         \n",
            "_________________________________________________________________\n",
            "conv1d_5 (Conv1D)            (None, 32, 32)            1568      \n",
            "_________________________________________________________________\n",
            "conv1d_6 (Conv1D)            (None, 30, 32)            3104      \n",
            "_________________________________________________________________\n",
            "batch_normalization_3 (Batch (None, 30, 32)            128       \n",
            "_________________________________________________________________\n",
            "max_pooling1d_3 (MaxPooling1 (None, 15, 32)            0         \n",
            "_________________________________________________________________\n",
            "conv1d_7 (Conv1D)            (None, 13, 64)            6208      \n",
            "_________________________________________________________________\n",
            "conv1d_8 (Conv1D)            (None, 11, 64)            12352     \n",
            "_________________________________________________________________\n",
            "batch_normalization_4 (Batch (None, 11, 64)            256       \n",
            "_________________________________________________________________\n",
            "max_pooling1d_4 (MaxPooling1 (None, 5, 64)             0         \n",
            "_________________________________________________________________\n",
            "dropout_1 (Dropout)          (None, 5, 64)             0         \n",
            "_________________________________________________________________\n",
            "flatten_1 (Flatten)          (None, 320)               0         \n",
            "_________________________________________________________________\n",
            "dense_1 (Dense)              (None, 64)                20544     \n",
            "_________________________________________________________________\n",
            "batch_normalization_5 (Batch (None, 64)                256       \n",
            "_________________________________________________________________\n",
            "dropout_2 (Dropout)          (None, 64)                0         \n",
            "_________________________________________________________________\n",
            "dense_2 (Dense)              (None, 32)                2080      \n",
            "_________________________________________________________________\n",
            "batch_normalization_6 (Batch (None, 32)                128       \n",
            "_________________________________________________________________\n",
            "dropout_3 (Dropout)          (None, 32)                0         \n",
            "_________________________________________________________________\n",
            "dense_3 (Dense)              (None, 16)                528       \n",
            "_________________________________________________________________\n",
            "batch_normalization_7 (Batch (None, 16)                64        \n",
            "_________________________________________________________________\n",
            "dropout_4 (Dropout)          (None, 16)                0         \n",
            "_________________________________________________________________\n",
            "dense_4 (Dense)              (None, 16)                272       \n",
            "=================================================================\n",
            "Total params: 49,000\n",
            "Trainable params: 48,536\n",
            "Non-trainable params: 464\n",
            "_________________________________________________________________\n"
          ],
          "name": "stdout"
        }
      ]
    },
    {
      "cell_type": "code",
      "metadata": {
        "id": "P5kxIOUabfGo",
        "colab_type": "code",
        "colab": {}
      },
      "source": [
        "# for i in model.layers:\n",
        "#   name = i.output.name.split('/')[0].split('_')\n",
        "#   if len(name) > 2:\n",
        "#     name = name[0] + '_' + name[1]\n",
        "#   else:\n",
        "#     name = name[0]\n",
        "#   print(name, i.output.shape)\n",
        "#   print('_________________________________________________')"
      ],
      "execution_count": 0,
      "outputs": []
    },
    {
      "cell_type": "code",
      "metadata": {
        "id": "3-VSlVynNBID",
        "colab_type": "code",
        "outputId": "70eb6a2b-5a3c-4d59-95b2-f9499b4fc7d2",
        "colab": {
          "base_uri": "https://localhost:8080/",
          "height": 1000
        }
      },
      "source": [
        "import keras\n",
        "model.compile(loss=loss,\n",
        "              optimizer=keras.optimizers.Adadelta(),\n",
        "              metrics=metrics)\n",
        "\n",
        "model.fit(X_train, np.array(y_train),\n",
        "          batch_size=128,\n",
        "          epochs=100,\n",
        "          verbose=1,\n",
        "          validation_data=(xx_val, np.array(yy_val)))"
      ],
      "execution_count": 28,
      "outputs": [
        {
          "output_type": "stream",
          "text": [
            "Train on 4099 samples, validate on 3075 samples\n",
            "Epoch 1/100\n",
            "4099/4099 [==============================] - 4s 1ms/step - loss: 3.1650 - accuracy: 0.0810 - val_loss: 2.7118 - val_accuracy: 0.2322\n",
            "Epoch 2/100\n",
            "4099/4099 [==============================] - 2s 514us/step - loss: 2.8031 - accuracy: 0.1537 - val_loss: 2.6217 - val_accuracy: 0.2325\n",
            "Epoch 3/100\n",
            "4099/4099 [==============================] - 2s 513us/step - loss: 2.6300 - accuracy: 0.2183 - val_loss: 2.6279 - val_accuracy: 0.2325\n",
            "Epoch 4/100\n",
            "4099/4099 [==============================] - 2s 510us/step - loss: 2.4822 - accuracy: 0.2481 - val_loss: 2.6793 - val_accuracy: 0.2325\n",
            "Epoch 5/100\n",
            "4099/4099 [==============================] - 2s 511us/step - loss: 2.3870 - accuracy: 0.2810 - val_loss: 2.7253 - val_accuracy: 0.2312\n",
            "Epoch 6/100\n",
            "4099/4099 [==============================] - 2s 508us/step - loss: 2.3023 - accuracy: 0.2942 - val_loss: 2.8292 - val_accuracy: 0.2296\n",
            "Epoch 7/100\n",
            "4099/4099 [==============================] - 2s 517us/step - loss: 2.2246 - accuracy: 0.3111 - val_loss: 2.9250 - val_accuracy: 0.2273\n",
            "Epoch 8/100\n",
            "4099/4099 [==============================] - 2s 513us/step - loss: 2.1434 - accuracy: 0.3381 - val_loss: 2.8933 - val_accuracy: 0.2273\n",
            "Epoch 9/100\n",
            "4099/4099 [==============================] - 2s 518us/step - loss: 2.1035 - accuracy: 0.3425 - val_loss: 2.8340 - val_accuracy: 0.2299\n",
            "Epoch 10/100\n",
            "4099/4099 [==============================] - 2s 522us/step - loss: 2.0599 - accuracy: 0.3530 - val_loss: 2.6851 - val_accuracy: 0.2403\n",
            "Epoch 11/100\n",
            "4099/4099 [==============================] - 2s 503us/step - loss: 2.0180 - accuracy: 0.3628 - val_loss: 2.5534 - val_accuracy: 0.2605\n",
            "Epoch 12/100\n",
            "4099/4099 [==============================] - 2s 517us/step - loss: 1.9842 - accuracy: 0.3581 - val_loss: 2.3732 - val_accuracy: 0.2930\n",
            "Epoch 13/100\n",
            "4099/4099 [==============================] - 2s 517us/step - loss: 1.9597 - accuracy: 0.3657 - val_loss: 2.1780 - val_accuracy: 0.3275\n",
            "Epoch 14/100\n",
            "4099/4099 [==============================] - 2s 525us/step - loss: 1.9111 - accuracy: 0.3764 - val_loss: 2.1003 - val_accuracy: 0.3447\n",
            "Epoch 15/100\n",
            "4099/4099 [==============================] - 2s 519us/step - loss: 1.8704 - accuracy: 0.3930 - val_loss: 2.0243 - val_accuracy: 0.3593\n",
            "Epoch 16/100\n",
            "4099/4099 [==============================] - 2s 537us/step - loss: 1.8444 - accuracy: 0.3925 - val_loss: 1.9289 - val_accuracy: 0.3782\n",
            "Epoch 17/100\n",
            "4099/4099 [==============================] - 2s 530us/step - loss: 1.8294 - accuracy: 0.4003 - val_loss: 1.8798 - val_accuracy: 0.3860\n",
            "Epoch 18/100\n",
            "4099/4099 [==============================] - 2s 523us/step - loss: 1.7997 - accuracy: 0.4035 - val_loss: 1.8464 - val_accuracy: 0.3919\n",
            "Epoch 19/100\n",
            "4099/4099 [==============================] - 2s 518us/step - loss: 1.7759 - accuracy: 0.4108 - val_loss: 1.8089 - val_accuracy: 0.3961\n",
            "Epoch 20/100\n",
            "4099/4099 [==============================] - 2s 516us/step - loss: 1.7532 - accuracy: 0.4206 - val_loss: 1.7831 - val_accuracy: 0.4023\n",
            "Epoch 21/100\n",
            "4099/4099 [==============================] - 2s 533us/step - loss: 1.7249 - accuracy: 0.4338 - val_loss: 1.7660 - val_accuracy: 0.4010\n",
            "Epoch 22/100\n",
            "4099/4099 [==============================] - 2s 532us/step - loss: 1.7218 - accuracy: 0.4186 - val_loss: 1.7436 - val_accuracy: 0.4085\n",
            "Epoch 23/100\n",
            "4099/4099 [==============================] - 2s 526us/step - loss: 1.6776 - accuracy: 0.4357 - val_loss: 1.7295 - val_accuracy: 0.4104\n",
            "Epoch 24/100\n",
            "4099/4099 [==============================] - 2s 557us/step - loss: 1.6621 - accuracy: 0.4482 - val_loss: 1.7188 - val_accuracy: 0.4130\n",
            "Epoch 25/100\n",
            "4099/4099 [==============================] - 2s 551us/step - loss: 1.6402 - accuracy: 0.4438 - val_loss: 1.7263 - val_accuracy: 0.4107\n",
            "Epoch 26/100\n",
            "4099/4099 [==============================] - 2s 548us/step - loss: 1.6220 - accuracy: 0.4484 - val_loss: 1.7029 - val_accuracy: 0.4137\n",
            "Epoch 27/100\n",
            "4099/4099 [==============================] - 2s 526us/step - loss: 1.5984 - accuracy: 0.4508 - val_loss: 1.7296 - val_accuracy: 0.4172\n",
            "Epoch 28/100\n",
            "4099/4099 [==============================] - 2s 532us/step - loss: 1.5931 - accuracy: 0.4584 - val_loss: 1.6885 - val_accuracy: 0.4234\n",
            "Epoch 29/100\n",
            "4099/4099 [==============================] - 2s 534us/step - loss: 1.5840 - accuracy: 0.4611 - val_loss: 1.6873 - val_accuracy: 0.4176\n",
            "Epoch 30/100\n",
            "4099/4099 [==============================] - 2s 534us/step - loss: 1.5426 - accuracy: 0.4740 - val_loss: 1.6661 - val_accuracy: 0.4312\n",
            "Epoch 31/100\n",
            "4099/4099 [==============================] - 2s 534us/step - loss: 1.5395 - accuracy: 0.4694 - val_loss: 1.6632 - val_accuracy: 0.4348\n",
            "Epoch 32/100\n",
            "4099/4099 [==============================] - 2s 523us/step - loss: 1.5083 - accuracy: 0.4755 - val_loss: 1.6473 - val_accuracy: 0.4315\n",
            "Epoch 33/100\n",
            "4099/4099 [==============================] - 2s 519us/step - loss: 1.4917 - accuracy: 0.4872 - val_loss: 1.6494 - val_accuracy: 0.4332\n",
            "Epoch 34/100\n",
            "4099/4099 [==============================] - 2s 529us/step - loss: 1.4774 - accuracy: 0.4909 - val_loss: 1.6485 - val_accuracy: 0.4361\n",
            "Epoch 35/100\n",
            "4099/4099 [==============================] - 2s 524us/step - loss: 1.4720 - accuracy: 0.4906 - val_loss: 1.6238 - val_accuracy: 0.4449\n",
            "Epoch 36/100\n",
            "4099/4099 [==============================] - 2s 523us/step - loss: 1.4356 - accuracy: 0.5131 - val_loss: 1.6457 - val_accuracy: 0.4387\n",
            "Epoch 37/100\n",
            "4099/4099 [==============================] - 2s 521us/step - loss: 1.4437 - accuracy: 0.4996 - val_loss: 1.6291 - val_accuracy: 0.4488\n",
            "Epoch 38/100\n",
            "4099/4099 [==============================] - 2s 522us/step - loss: 1.4116 - accuracy: 0.5165 - val_loss: 1.6264 - val_accuracy: 0.4413\n",
            "Epoch 39/100\n",
            "4099/4099 [==============================] - 2s 523us/step - loss: 1.4061 - accuracy: 0.5179 - val_loss: 1.6068 - val_accuracy: 0.4488\n",
            "Epoch 40/100\n",
            "4099/4099 [==============================] - 2s 537us/step - loss: 1.3892 - accuracy: 0.5231 - val_loss: 1.6403 - val_accuracy: 0.4429\n",
            "Epoch 41/100\n",
            "4099/4099 [==============================] - 2s 527us/step - loss: 1.3776 - accuracy: 0.5213 - val_loss: 1.6121 - val_accuracy: 0.4465\n",
            "Epoch 42/100\n",
            "4099/4099 [==============================] - 2s 531us/step - loss: 1.3559 - accuracy: 0.5323 - val_loss: 1.5958 - val_accuracy: 0.4507\n",
            "Epoch 43/100\n",
            "4099/4099 [==============================] - 2s 529us/step - loss: 1.3419 - accuracy: 0.5340 - val_loss: 1.6042 - val_accuracy: 0.4475\n",
            "Epoch 44/100\n",
            "4099/4099 [==============================] - 2s 516us/step - loss: 1.3235 - accuracy: 0.5457 - val_loss: 1.6049 - val_accuracy: 0.4498\n",
            "Epoch 45/100\n",
            "4099/4099 [==============================] - 2s 526us/step - loss: 1.3104 - accuracy: 0.5431 - val_loss: 1.6246 - val_accuracy: 0.4410\n",
            "Epoch 46/100\n",
            "4099/4099 [==============================] - 2s 518us/step - loss: 1.3109 - accuracy: 0.5433 - val_loss: 1.6129 - val_accuracy: 0.4553\n",
            "Epoch 47/100\n",
            "4099/4099 [==============================] - 2s 516us/step - loss: 1.2843 - accuracy: 0.5484 - val_loss: 1.6087 - val_accuracy: 0.4459\n",
            "Epoch 48/100\n",
            "4099/4099 [==============================] - 2s 521us/step - loss: 1.2649 - accuracy: 0.5679 - val_loss: 1.6107 - val_accuracy: 0.4468\n",
            "Epoch 49/100\n",
            "4099/4099 [==============================] - 2s 517us/step - loss: 1.2697 - accuracy: 0.5636 - val_loss: 1.6715 - val_accuracy: 0.4628\n",
            "Epoch 50/100\n",
            "4099/4099 [==============================] - 2s 530us/step - loss: 1.2692 - accuracy: 0.5599 - val_loss: 1.6141 - val_accuracy: 0.4566\n",
            "Epoch 51/100\n",
            "4099/4099 [==============================] - 2s 523us/step - loss: 1.2509 - accuracy: 0.5672 - val_loss: 1.5971 - val_accuracy: 0.4608\n",
            "Epoch 52/100\n",
            "4099/4099 [==============================] - 2s 523us/step - loss: 1.2219 - accuracy: 0.5750 - val_loss: 1.5899 - val_accuracy: 0.4650\n",
            "Epoch 53/100\n",
            "4099/4099 [==============================] - 2s 520us/step - loss: 1.2005 - accuracy: 0.5775 - val_loss: 1.5930 - val_accuracy: 0.4559\n",
            "Epoch 54/100\n",
            "4099/4099 [==============================] - 2s 525us/step - loss: 1.1937 - accuracy: 0.5879 - val_loss: 1.6324 - val_accuracy: 0.4390\n",
            "Epoch 55/100\n",
            "4099/4099 [==============================] - 2s 524us/step - loss: 1.2000 - accuracy: 0.5843 - val_loss: 1.6640 - val_accuracy: 0.4520\n",
            "Epoch 56/100\n",
            "4099/4099 [==============================] - 2s 549us/step - loss: 1.2018 - accuracy: 0.5840 - val_loss: 1.6561 - val_accuracy: 0.4585\n",
            "Epoch 57/100\n",
            "4099/4099 [==============================] - 2s 561us/step - loss: 1.2103 - accuracy: 0.5701 - val_loss: 1.6152 - val_accuracy: 0.4566\n",
            "Epoch 58/100\n",
            "4099/4099 [==============================] - 2s 563us/step - loss: 1.1681 - accuracy: 0.5948 - val_loss: 1.6258 - val_accuracy: 0.4530\n",
            "Epoch 59/100\n",
            "4099/4099 [==============================] - 2s 566us/step - loss: 1.1703 - accuracy: 0.5914 - val_loss: 1.6223 - val_accuracy: 0.4595\n",
            "Epoch 60/100\n",
            "4099/4099 [==============================] - 2s 565us/step - loss: 1.1413 - accuracy: 0.5999 - val_loss: 1.6660 - val_accuracy: 0.4556\n",
            "Epoch 61/100\n",
            "4099/4099 [==============================] - 2s 537us/step - loss: 1.1175 - accuracy: 0.6099 - val_loss: 1.6197 - val_accuracy: 0.4624\n",
            "Epoch 62/100\n",
            "4099/4099 [==============================] - 2s 522us/step - loss: 1.1431 - accuracy: 0.5994 - val_loss: 1.6922 - val_accuracy: 0.4712\n",
            "Epoch 63/100\n",
            "4099/4099 [==============================] - 2s 523us/step - loss: 1.1090 - accuracy: 0.6148 - val_loss: 1.7062 - val_accuracy: 0.4595\n",
            "Epoch 64/100\n",
            "4099/4099 [==============================] - 2s 525us/step - loss: 1.1027 - accuracy: 0.6143 - val_loss: 1.6310 - val_accuracy: 0.4533\n",
            "Epoch 65/100\n",
            "4099/4099 [==============================] - 2s 519us/step - loss: 1.0879 - accuracy: 0.6121 - val_loss: 1.6402 - val_accuracy: 0.4657\n",
            "Epoch 66/100\n",
            "4099/4099 [==============================] - 2s 517us/step - loss: 1.0989 - accuracy: 0.6153 - val_loss: 1.6600 - val_accuracy: 0.4634\n",
            "Epoch 67/100\n",
            "4099/4099 [==============================] - 2s 533us/step - loss: 1.0729 - accuracy: 0.6189 - val_loss: 1.6739 - val_accuracy: 0.4650\n",
            "Epoch 68/100\n",
            "4099/4099 [==============================] - 2s 520us/step - loss: 1.0517 - accuracy: 0.6326 - val_loss: 1.6545 - val_accuracy: 0.4595\n",
            "Epoch 69/100\n",
            "4099/4099 [==============================] - 2s 542us/step - loss: 1.0224 - accuracy: 0.6409 - val_loss: 1.7519 - val_accuracy: 0.4699\n",
            "Epoch 70/100\n",
            "4099/4099 [==============================] - 2s 528us/step - loss: 1.0627 - accuracy: 0.6328 - val_loss: 1.6986 - val_accuracy: 0.4553\n",
            "Epoch 71/100\n",
            "4099/4099 [==============================] - 2s 531us/step - loss: 1.0351 - accuracy: 0.6321 - val_loss: 1.7122 - val_accuracy: 0.4657\n",
            "Epoch 72/100\n",
            "4099/4099 [==============================] - 2s 524us/step - loss: 1.0142 - accuracy: 0.6436 - val_loss: 1.7225 - val_accuracy: 0.4634\n",
            "Epoch 73/100\n",
            "4099/4099 [==============================] - 2s 527us/step - loss: 1.0059 - accuracy: 0.6397 - val_loss: 1.7373 - val_accuracy: 0.4546\n",
            "Epoch 74/100\n",
            "4099/4099 [==============================] - 2s 532us/step - loss: 1.0211 - accuracy: 0.6465 - val_loss: 1.7026 - val_accuracy: 0.4644\n",
            "Epoch 75/100\n",
            "4099/4099 [==============================] - 2s 507us/step - loss: 0.9978 - accuracy: 0.6465 - val_loss: 1.7630 - val_accuracy: 0.4644\n",
            "Epoch 76/100\n",
            "4099/4099 [==============================] - 2s 503us/step - loss: 0.9660 - accuracy: 0.6606 - val_loss: 1.7248 - val_accuracy: 0.4634\n",
            "Epoch 77/100\n",
            "4099/4099 [==============================] - 2s 521us/step - loss: 1.0017 - accuracy: 0.6448 - val_loss: 1.7123 - val_accuracy: 0.4676\n",
            "Epoch 78/100\n",
            "4099/4099 [==============================] - 2s 528us/step - loss: 0.9920 - accuracy: 0.6465 - val_loss: 1.6657 - val_accuracy: 0.4676\n",
            "Epoch 79/100\n",
            "4099/4099 [==============================] - 2s 529us/step - loss: 0.9578 - accuracy: 0.6660 - val_loss: 1.7099 - val_accuracy: 0.4498\n",
            "Epoch 80/100\n",
            "4099/4099 [==============================] - 2s 524us/step - loss: 0.9622 - accuracy: 0.6636 - val_loss: 1.7256 - val_accuracy: 0.4501\n",
            "Epoch 81/100\n",
            "4099/4099 [==============================] - 2s 527us/step - loss: 0.9647 - accuracy: 0.6648 - val_loss: 1.7237 - val_accuracy: 0.4563\n",
            "Epoch 82/100\n",
            "4099/4099 [==============================] - 2s 521us/step - loss: 0.9569 - accuracy: 0.6667 - val_loss: 1.7056 - val_accuracy: 0.4748\n",
            "Epoch 83/100\n",
            "4099/4099 [==============================] - 2s 525us/step - loss: 0.9190 - accuracy: 0.6755 - val_loss: 1.7539 - val_accuracy: 0.4728\n",
            "Epoch 84/100\n",
            "4099/4099 [==============================] - 2s 533us/step - loss: 0.9182 - accuracy: 0.6716 - val_loss: 1.7791 - val_accuracy: 0.4751\n",
            "Epoch 85/100\n",
            "4099/4099 [==============================] - 2s 531us/step - loss: 0.9368 - accuracy: 0.6726 - val_loss: 1.7532 - val_accuracy: 0.4725\n",
            "Epoch 86/100\n",
            "4099/4099 [==============================] - 2s 516us/step - loss: 0.9218 - accuracy: 0.6743 - val_loss: 1.7853 - val_accuracy: 0.4745\n",
            "Epoch 87/100\n",
            "4099/4099 [==============================] - 2s 524us/step - loss: 0.9006 - accuracy: 0.6772 - val_loss: 1.8315 - val_accuracy: 0.4771\n",
            "Epoch 88/100\n",
            "4099/4099 [==============================] - 2s 516us/step - loss: 0.8976 - accuracy: 0.6902 - val_loss: 1.7706 - val_accuracy: 0.4764\n",
            "Epoch 89/100\n",
            "4099/4099 [==============================] - 2s 529us/step - loss: 0.9006 - accuracy: 0.6819 - val_loss: 1.7626 - val_accuracy: 0.4777\n",
            "Epoch 90/100\n",
            "4099/4099 [==============================] - 2s 515us/step - loss: 0.8901 - accuracy: 0.6865 - val_loss: 1.7722 - val_accuracy: 0.4715\n",
            "Epoch 91/100\n",
            "4099/4099 [==============================] - 2s 522us/step - loss: 0.8717 - accuracy: 0.6946 - val_loss: 1.7788 - val_accuracy: 0.4618\n",
            "Epoch 92/100\n",
            "4099/4099 [==============================] - 2s 521us/step - loss: 0.8748 - accuracy: 0.6892 - val_loss: 1.7659 - val_accuracy: 0.4611\n",
            "Epoch 93/100\n",
            "4099/4099 [==============================] - 2s 524us/step - loss: 0.8567 - accuracy: 0.6950 - val_loss: 1.8664 - val_accuracy: 0.4751\n",
            "Epoch 94/100\n",
            "4099/4099 [==============================] - 2s 537us/step - loss: 0.9406 - accuracy: 0.6760 - val_loss: 1.7808 - val_accuracy: 0.4624\n",
            "Epoch 95/100\n",
            "4099/4099 [==============================] - 2s 529us/step - loss: 0.9069 - accuracy: 0.6814 - val_loss: 1.8282 - val_accuracy: 0.4676\n",
            "Epoch 96/100\n",
            "4099/4099 [==============================] - 2s 531us/step - loss: 0.8873 - accuracy: 0.6850 - val_loss: 1.8402 - val_accuracy: 0.4667\n",
            "Epoch 97/100\n",
            "4099/4099 [==============================] - 2s 535us/step - loss: 0.8473 - accuracy: 0.7075 - val_loss: 1.8320 - val_accuracy: 0.4641\n",
            "Epoch 98/100\n",
            "4099/4099 [==============================] - 2s 525us/step - loss: 0.8466 - accuracy: 0.6990 - val_loss: 1.8848 - val_accuracy: 0.4537\n",
            "Epoch 99/100\n",
            "4099/4099 [==============================] - 2s 541us/step - loss: 0.8474 - accuracy: 0.7026 - val_loss: 1.8875 - val_accuracy: 0.4647\n",
            "Epoch 100/100\n",
            "4099/4099 [==============================] - 2s 535us/step - loss: 0.8517 - accuracy: 0.6987 - val_loss: 1.8634 - val_accuracy: 0.4774\n"
          ],
          "name": "stdout"
        },
        {
          "output_type": "execute_result",
          "data": {
            "text/plain": [
              "<keras.callbacks.callbacks.History at 0x7f9486a1a6a0>"
            ]
          },
          "metadata": {
            "tags": []
          },
          "execution_count": 28
        }
      ]
    },
    {
      "cell_type": "code",
      "metadata": {
        "id": "LSGrC7sxNWhx",
        "colab_type": "code",
        "outputId": "0852fde4-7838-4418-ff0a-c97d7cad0f0e",
        "colab": {
          "base_uri": "https://localhost:8080/",
          "height": 68
        }
      },
      "source": [
        "score = model.evaluate(xx_test, yy_test, verbose=1)\n",
        "print('Test loss:', score[0])\n",
        "print('Test accuracy:', score[1])"
      ],
      "execution_count": 29,
      "outputs": [
        {
          "output_type": "stream",
          "text": [
            "3075/3075 [==============================] - 1s 178us/step\n",
            "Test loss: 1.8868371172261431\n",
            "Test accuracy: 0.45723578333854675\n"
          ],
          "name": "stdout"
        }
      ]
    },
    {
      "cell_type": "code",
      "metadata": {
        "id": "GbIwG9dgjk-X",
        "colab_type": "code",
        "colab": {}
      },
      "source": [
        "if len(np.array(y_test).shape) == 1:\n",
        "  y_test = [x+1 for x in y_test]\n",
        "  y_train = [x+1 for x in y_train]"
      ],
      "execution_count": 0,
      "outputs": []
    },
    {
      "cell_type": "code",
      "metadata": {
        "id": "s9zjzu4ArF-O",
        "colab_type": "code",
        "colab": {
          "base_uri": "https://localhost:8080/",
          "height": 51
        },
        "outputId": "918a226d-6277-4777-8093-717152804f53"
      },
      "source": [
        "!pip install spectral"
      ],
      "execution_count": 31,
      "outputs": [
        {
          "output_type": "stream",
          "text": [
            "Requirement already satisfied: spectral in /usr/local/lib/python3.6/dist-packages (0.21)\n",
            "Requirement already satisfied: numpy in /usr/local/lib/python3.6/dist-packages (from spectral) (1.18.5)\n"
          ],
          "name": "stdout"
        }
      ]
    },
    {
      "cell_type": "code",
      "metadata": {
        "id": "Zf5wCQc3q7ye",
        "colab_type": "code",
        "colab": {}
      },
      "source": [
        "import spectral as sp\n",
        "prediction = model.predict(X)\n",
        "\n",
        "if not len(prediction.shape) == 2:\n",
        "    y_test = [x + 1 for x in y_test]\n",
        "    y_train = [x + 1 for x in y_train]\n",
        "\n",
        "if len(prediction.shape) == 2:\n",
        "    predicted_gt_1 = np.argmax(prediction, axis=1)\n",
        "    predicted_gt_1_list = list(predicted_gt_1)\n",
        "    predicted_gt_1_list = [x + 1 for x in predicted_gt_1_list]\n",
        "else:\n",
        "    predicted_gt_1_list = prediction\n",
        "\n",
        "for i in zero_data:\n",
        "    predicted_gt_1_list.insert(i, 0)\n",
        "\n",
        "predicted_gt_1_list = np.array(predicted_gt_1_list).reshape(image.shape[0], image.shape[1])\n",
        "sp.save_rgb('predicted_gt.jpg', predicted_gt_1_list, colors=sp.spy_colors)\n"
      ],
      "execution_count": 0,
      "outputs": []
    }
  ]
}