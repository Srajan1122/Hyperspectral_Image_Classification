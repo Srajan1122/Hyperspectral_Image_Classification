{
  "nbformat": 4,
  "nbformat_minor": 0,
  "metadata": {
    "kernelspec": {
      "display_name": "Python 3",
      "language": "python",
      "name": "python3"
    },
    "language_info": {
      "codemirror_mode": {
        "name": "ipython",
        "version": 3
      },
      "file_extension": ".py",
      "mimetype": "text/x-python",
      "name": "python",
      "nbconvert_exporter": "python",
      "pygments_lexer": "ipython3",
      "version": "3.8.2"
    },
    "colab": {
      "name": "MLP.ipynb",
      "provenance": [],
      "collapsed_sections": [],
      "include_colab_link": true
    }
  },
  "cells": [
    {
      "cell_type": "markdown",
      "metadata": {
        "id": "view-in-github",
        "colab_type": "text"
      },
      "source": [
        "<a href=\"https://colab.research.google.com/github/Srajan1122/Hyperspectral_Image_Classification/blob/srajan/MLP.ipynb\" target=\"_parent\"><img src=\"https://colab.research.google.com/assets/colab-badge.svg\" alt=\"Open In Colab\"/></a>"
      ]
    },
    {
      "cell_type": "code",
      "metadata": {
        "id": "sPaR_PMpqr4R",
        "colab_type": "code",
        "colab": {}
      },
      "source": [
        "from scipy import io\n",
        "import numpy as np\n",
        "import pandas as pd\n",
        "from sklearn.model_selection import train_test_split\n",
        "from sklearn.neural_network import MLPClassifier\n",
        "from sklearn.preprocessing import OneHotEncoder \n",
        "from sklearn import preprocessing"
      ],
      "execution_count": 0,
      "outputs": []
    },
    {
      "cell_type": "code",
      "metadata": {
        "id": "Z_Hm1EnarlHU",
        "colab_type": "code",
        "outputId": "2d14f035-944e-45ae-fc86-d2d9948b7c23",
        "colab": {
          "base_uri": "https://localhost:8080/",
          "height": 34
        }
      },
      "source": [
        "from google.colab import drive\n",
        "drive.mount('/content/drive')"
      ],
      "execution_count": 2,
      "outputs": [
        {
          "output_type": "stream",
          "text": [
            "Drive already mounted at /content/drive; to attempt to forcibly remount, call drive.mount(\"/content/drive\", force_remount=True).\n"
          ],
          "name": "stdout"
        }
      ]
    },
    {
      "cell_type": "markdown",
      "metadata": {
        "id": "bv6E_d9vk2r8",
        "colab_type": "text"
      },
      "source": [
        "# Genetic Algorithm for Optimizing the parameters"
      ]
    },
    {
      "cell_type": "code",
      "metadata": {
        "colab_type": "code",
        "id": "DxeZjNPxWbLT",
        "colab": {}
      },
      "source": [
        "import random\n",
        "from sklearn.metrics import f1_score\n",
        "import numpy as np\n",
        "\n",
        "class POGA:\n",
        "  def __init__(self, numberOfParents, X_train, X_test, y_train, y_test, numParents, generationNumber):\n",
        "    self.score_list = []\n",
        "    self.population_list = []\n",
        "    self.start_population = self.initilialize_population(numberOfParents)\n",
        "    \n",
        "    for i in range(generationNumber):\n",
        "      print('Generation',i+1, 'started')\n",
        "      self.score = self.train_population(self.start_population, X_train, X_test, y_train, y_test)\n",
        "      self.score_list.append(self.score)\n",
        "\n",
        "      self.best_parents = self.new_parents_selection(self.start_population, self.score, numParents)\n",
        "    \n",
        "      self.childrens = self.crossover_uniform(self.best_parents,\n",
        "                                              (len(self.start_population)-len(self.best_parents),len(self.start_population[0]))\n",
        "                                              )                                  \n",
        "      \n",
        "      self.mutated_childrens = self.mutation(self.childrens, 5)\n",
        "\n",
        "      self.start_population = self.best_parents + self.mutated_childrens\n",
        "      self.population_list.append(self.start_population)\n",
        "      print('Generation',i+1, 'finished')\n",
        "\n",
        "\n",
        "  def initilialize_population(self, numberOfParents):\n",
        "    hidden_layer_sizes = []\n",
        "    alpha =[]\n",
        "    batch_size = []\n",
        "    learning_rate_init = []\n",
        "    n_iter_no_change = []\n",
        "    # beta_1 beta_2 epsilon\n",
        "\n",
        "    for i in range(numberOfParents):\n",
        "\n",
        "      hidden_layer = []\n",
        "      for i in range(5):\n",
        "        hidden_layer.append(random.randrange(16, 150))\n",
        "\n",
        "      hidden_layer_sizes.append(hidden_layer)\n",
        "      alpha.append(random.choice(np.logspace(-5, 5, 11)))\n",
        "      batch_size.append(random.randrange(200, 1000, 10)) \n",
        "      learning_rate_init.append(random.choice(np.logspace(-1,-5, 5)))\n",
        "      n_iter_no_change.append(random.randrange(1, 500, 10))\n",
        "\n",
        "    population = zip(hidden_layer_sizes,\n",
        "                     alpha,\n",
        "                     batch_size,\n",
        "                     learning_rate_init,\n",
        "                     n_iter_no_change)\n",
        "    return list(population)\n",
        "\n",
        "  def train_population(self, population, X_train, X_test, y_train, y_test ):\n",
        "    Fscore = []\n",
        "    for i in list(population):\n",
        "      model = MLPClassifier(\n",
        "                      hidden_layer_sizes=i[0],\n",
        "                      activation='relu',\n",
        "                      solver='adam',\n",
        "                      alpha=i[1],\n",
        "                      batch_size=i[2],\n",
        "                      learning_rate='constant',\n",
        "                      learning_rate_init=i[3],\n",
        "                      power_t=0.5,\n",
        "                      max_iter=1000,\n",
        "                      shuffle=True,\n",
        "                      random_state=1,\n",
        "                      tol=0.0001,\n",
        "                      verbose=False,\n",
        "                      warm_start=False,\n",
        "                      momentum=0.9,\n",
        "                      nesterovs_momentum=True,\n",
        "                      early_stopping=False,\n",
        "                      validation_fraction=0.18,#0.33 0.18\n",
        "                      beta_1=0.9,\n",
        "                      beta_2=0.999,\n",
        "                      epsilon=1e-08,\n",
        "                      n_iter_no_change=i[4],\n",
        "                      max_fun=15000)\n",
        "      model.fit(X_train, y_train)\n",
        "      prediction = model.predict(X_test)\n",
        "      Fscore.append(f1_score(y_test, prediction, average=\"weighted\"))\n",
        "\n",
        "    return Fscore\n",
        "\n",
        "  def new_parents_selection(self, population, fitness, numParents):\n",
        "    new_parents = []\n",
        "    for i in range(numParents):\n",
        "      max_fitness_index = fitness.index(max(fitness))\n",
        "      new_parents.append(population[max_fitness_index])\n",
        "      fitness[max_fitness_index] = -1\n",
        "    return new_parents\n",
        "\n",
        "  def crossover_uniform(self, parents, children_size):\n",
        "    crossoverPointIndex = np.arange(0, np.uint8(children_size[1]), 1, dtype= np.uint8)\n",
        "    crossoverPointIndex1 = np.random.randint(0, np.uint8(children_size[1]), np.uint8(children_size[1]/2))\n",
        "    crossoverPointIndex2 = np.array(list(set(crossoverPointIndex) - set(crossoverPointIndex1)))\n",
        "\n",
        "    children = [[0]*children_size[1]]*children_size[0]\n",
        "\n",
        "    for i in range(children_size[0]):\n",
        "      parent1_index = i%len(parents)\n",
        "      parent2_index = (i+1)%len(parents)\n",
        "      for j in crossoverPointIndex1:\n",
        "        children[i][j] = parents[parent1_index][j]\n",
        "      for j in crossoverPointIndex2:\n",
        "        children[i][j] = parents[parent1_index][j]\n",
        "\n",
        "    return children\n",
        "\n",
        "  def mutation(self, crossover, numberOfParameters):\n",
        "    minMaxValue = np.zeros((numberOfParameters, 2))\n",
        "\n",
        "    minMaxValue[0:] = [16, 150] # hidden_layer_sizes\n",
        "    minMaxValue[1:] = [0.00001, 10000] # alpha\n",
        "    minMaxValue[2:] = [200, 1000] # batch_size\n",
        "    minMaxValue[3:] = [0.000001, 0.1] # learning_rate_init\n",
        "    minMaxValue[4:] = [1,500] # n_iter_no_change\n",
        "\n",
        "    parameterSelect = random.randint(0, numberOfParameters)\n",
        "    if parameterSelect == 0:\n",
        "      mutationValue = random.choice(list(range(-30,40,10)))\n",
        "    elif parameterSelect == 1:\n",
        "      mutationValue = random.choice([0.1,10])\n",
        "    elif parameterSelect == 2:\n",
        "      mutationValue = random.randint(-50, 30)\n",
        "    elif parameterSelect == 3:\n",
        "      mutationValue = random.choice([0.1,10])\n",
        "    elif parameterSelect == 4:\n",
        "      mutationValue = random.randint(-50, 50)\n",
        "\n",
        "    for i in crossover:\n",
        "      if parameterSelect == 2 or parameterSelect == 4:\n",
        "        i[parameterSelect] = i[parameterSelect] + mutationValue\n",
        "      elif parameterSelect == 1 or parameterSelect == 3:\n",
        "        i[parameterSelect] = i[parameterSelect] * mutationValue\n",
        "      elif parameterSelect == 0:\n",
        "        for j in range(len(i[parameterSelect])):\n",
        "          if(random.choice([True,False])):\n",
        "            i[parameterSelect][j] = i[parameterSelect][j] + mutationValue\n",
        "            if i[parameterSelect][j]  < minMaxValue[parameterSelect, 0]:\n",
        "               i[parameterSelect][j] = minMaxValue[parameterSelect, 0]\n",
        "            if i[parameterSelect][j]  > minMaxValue[parameterSelect, 1]:\n",
        "               i[parameterSelect][j] = minMaxValue[parameterSelect, 1]\n",
        "        return crossover\n",
        "\n",
        "      if i[parameterSelect] < minMaxValue[parameterSelect, 0]:\n",
        "        i[parameterSelect] = minMaxValue[parameterSelect, 0]\n",
        "      elif i[parameterSelect] > minMaxValue[parameterSelect, 1]:\n",
        "        i[parameterSelect] = minMaxValue[parameterSelect, 1]\n",
        "\n",
        "    return crossover\n",
        "  "
      ],
      "execution_count": 0,
      "outputs": []
    },
    {
      "cell_type": "code",
      "metadata": {
        "id": "1iagvBXJrA6z",
        "colab_type": "code",
        "colab": {
          "base_uri": "https://localhost:8080/",
          "height": 34
        },
        "outputId": "2ee7a775-4fe9-41d4-974e-ddbd9f5b828a"
      },
      "source": [
        "import random\n",
        "alphas = np.logspace(-5, 5, 11)\n",
        "learning = np.logspace(-1,-5, 5)\n",
        "tol = np.logspace(-4,-5, 2)\n",
        "hidden_layer = []\n",
        "for i in range(5):\n",
        "  hidden_layer.append(random.randrange(16, 150))\n",
        "\n",
        "learning"
      ],
      "execution_count": 4,
      "outputs": [
        {
          "output_type": "execute_result",
          "data": {
            "text/plain": [
              "array([1.e-01, 1.e-02, 1.e-03, 1.e-04, 1.e-05])"
            ]
          },
          "metadata": {
            "tags": []
          },
          "execution_count": 4
        }
      ]
    },
    {
      "cell_type": "markdown",
      "metadata": {
        "id": "rm2wKCIeqr4a",
        "colab_type": "text"
      },
      "source": [
        "## Loading DataSet\n",
        "### Dataset include image and a ground truth"
      ]
    },
    {
      "cell_type": "code",
      "metadata": {
        "id": "4dtzTWYbqr4c",
        "colab_type": "code",
        "colab": {}
      },
      "source": [
        "loaded_dataset = io.loadmat('/content/drive/My Drive/Srajan/Internship/SEM4-LeadingindiaAI/Tasks/Datasets/IndianPines/Indian_pines_corrected.mat')\n",
        "image = loaded_dataset['indian_pines_corrected']"
      ],
      "execution_count": 0,
      "outputs": []
    },
    {
      "cell_type": "code",
      "metadata": {
        "id": "o91U13klqr4j",
        "colab_type": "code",
        "colab": {}
      },
      "source": [
        "ground_truth = io.loadmat('/content/drive/My Drive/Srajan/Internship/SEM4-LeadingindiaAI/Tasks/Datasets/IndianPines/Indian_pines_gt.mat')\n",
        "ground_truth = ground_truth['indian_pines_gt']"
      ],
      "execution_count": 0,
      "outputs": []
    },
    {
      "cell_type": "markdown",
      "metadata": {
        "id": "O_ctG247SqUA",
        "colab_type": "text"
      },
      "source": [
        "### Class Labels"
      ]
    },
    {
      "cell_type": "code",
      "metadata": {
        "id": "1BX_iYn1SpDn",
        "colab_type": "code",
        "colab": {}
      },
      "source": [
        "label_values = [\"Alfalfa\", \"Corn-notill\", \"Corn-mintill\",\n",
        "                        \"Corn\", \"Grass-pasture\", \"Grass-trees\",\n",
        "                        \"Grass-pasture-mowed\", \"Hay-windrowed\", \"Oats\",\n",
        "                        \"Soybean-notill\", \"Soybean-mintill\", \"Soybean-clean\",\n",
        "                        \"Wheat\", \"Woods\", \"Buildings-Grass-Trees-Drives\",\n",
        "                        \"Stone-Steel-Towers\"]"
      ],
      "execution_count": 0,
      "outputs": []
    },
    {
      "cell_type": "markdown",
      "metadata": {
        "id": "BEmg8p8eqr4q",
        "colab_type": "text"
      },
      "source": [
        "### Resizing the data"
      ]
    },
    {
      "cell_type": "code",
      "metadata": {
        "id": "GM_fTNbcqr4r",
        "colab_type": "code",
        "colab": {}
      },
      "source": [
        "image_with_gt = np.dstack((image, ground_truth))"
      ],
      "execution_count": 0,
      "outputs": []
    },
    {
      "cell_type": "code",
      "metadata": {
        "id": "Q9Zi3M51qr41",
        "colab_type": "code",
        "colab": {}
      },
      "source": [
        "final_output = image_with_gt.reshape(ground_truth.size, image.shape[2]+1)"
      ],
      "execution_count": 0,
      "outputs": []
    },
    {
      "cell_type": "markdown",
      "metadata": {
        "id": "Wuvox2x0qr47",
        "colab_type": "text"
      },
      "source": [
        "### Visualizing data in pandas"
      ]
    },
    {
      "cell_type": "code",
      "metadata": {
        "id": "w1vjwrxOqr4-",
        "colab_type": "code",
        "colab": {}
      },
      "source": [
        "data = pd.DataFrame(final_output)"
      ],
      "execution_count": 0,
      "outputs": []
    },
    {
      "cell_type": "code",
      "metadata": {
        "id": "wPO3FjPSqr5H",
        "colab_type": "code",
        "outputId": "150267c0-0eae-4bdb-cbc3-a4f1b7552e3d",
        "colab": {
          "base_uri": "https://localhost:8080/",
          "height": 253
        }
      },
      "source": [
        "data.head()"
      ],
      "execution_count": 11,
      "outputs": [
        {
          "output_type": "execute_result",
          "data": {
            "text/html": [
              "<div>\n",
              "<style scoped>\n",
              "    .dataframe tbody tr th:only-of-type {\n",
              "        vertical-align: middle;\n",
              "    }\n",
              "\n",
              "    .dataframe tbody tr th {\n",
              "        vertical-align: top;\n",
              "    }\n",
              "\n",
              "    .dataframe thead th {\n",
              "        text-align: right;\n",
              "    }\n",
              "</style>\n",
              "<table border=\"1\" class=\"dataframe\">\n",
              "  <thead>\n",
              "    <tr style=\"text-align: right;\">\n",
              "      <th></th>\n",
              "      <th>0</th>\n",
              "      <th>1</th>\n",
              "      <th>2</th>\n",
              "      <th>3</th>\n",
              "      <th>4</th>\n",
              "      <th>5</th>\n",
              "      <th>6</th>\n",
              "      <th>7</th>\n",
              "      <th>8</th>\n",
              "      <th>9</th>\n",
              "      <th>10</th>\n",
              "      <th>11</th>\n",
              "      <th>12</th>\n",
              "      <th>13</th>\n",
              "      <th>14</th>\n",
              "      <th>15</th>\n",
              "      <th>16</th>\n",
              "      <th>17</th>\n",
              "      <th>18</th>\n",
              "      <th>19</th>\n",
              "      <th>20</th>\n",
              "      <th>21</th>\n",
              "      <th>22</th>\n",
              "      <th>23</th>\n",
              "      <th>24</th>\n",
              "      <th>25</th>\n",
              "      <th>26</th>\n",
              "      <th>27</th>\n",
              "      <th>28</th>\n",
              "      <th>29</th>\n",
              "      <th>30</th>\n",
              "      <th>31</th>\n",
              "      <th>32</th>\n",
              "      <th>33</th>\n",
              "      <th>34</th>\n",
              "      <th>35</th>\n",
              "      <th>36</th>\n",
              "      <th>37</th>\n",
              "      <th>38</th>\n",
              "      <th>39</th>\n",
              "      <th>...</th>\n",
              "      <th>161</th>\n",
              "      <th>162</th>\n",
              "      <th>163</th>\n",
              "      <th>164</th>\n",
              "      <th>165</th>\n",
              "      <th>166</th>\n",
              "      <th>167</th>\n",
              "      <th>168</th>\n",
              "      <th>169</th>\n",
              "      <th>170</th>\n",
              "      <th>171</th>\n",
              "      <th>172</th>\n",
              "      <th>173</th>\n",
              "      <th>174</th>\n",
              "      <th>175</th>\n",
              "      <th>176</th>\n",
              "      <th>177</th>\n",
              "      <th>178</th>\n",
              "      <th>179</th>\n",
              "      <th>180</th>\n",
              "      <th>181</th>\n",
              "      <th>182</th>\n",
              "      <th>183</th>\n",
              "      <th>184</th>\n",
              "      <th>185</th>\n",
              "      <th>186</th>\n",
              "      <th>187</th>\n",
              "      <th>188</th>\n",
              "      <th>189</th>\n",
              "      <th>190</th>\n",
              "      <th>191</th>\n",
              "      <th>192</th>\n",
              "      <th>193</th>\n",
              "      <th>194</th>\n",
              "      <th>195</th>\n",
              "      <th>196</th>\n",
              "      <th>197</th>\n",
              "      <th>198</th>\n",
              "      <th>199</th>\n",
              "      <th>200</th>\n",
              "    </tr>\n",
              "  </thead>\n",
              "  <tbody>\n",
              "    <tr>\n",
              "      <th>0</th>\n",
              "      <td>3172</td>\n",
              "      <td>4142</td>\n",
              "      <td>4506</td>\n",
              "      <td>4279</td>\n",
              "      <td>4782</td>\n",
              "      <td>5048</td>\n",
              "      <td>5213</td>\n",
              "      <td>5106</td>\n",
              "      <td>5053</td>\n",
              "      <td>4750</td>\n",
              "      <td>4816</td>\n",
              "      <td>4769</td>\n",
              "      <td>4610</td>\n",
              "      <td>4805</td>\n",
              "      <td>4828</td>\n",
              "      <td>4861</td>\n",
              "      <td>4767</td>\n",
              "      <td>4624</td>\n",
              "      <td>4549</td>\n",
              "      <td>4463</td>\n",
              "      <td>4462</td>\n",
              "      <td>4446</td>\n",
              "      <td>4445</td>\n",
              "      <td>4336</td>\n",
              "      <td>4381</td>\n",
              "      <td>4319</td>\n",
              "      <td>4207</td>\n",
              "      <td>4305</td>\n",
              "      <td>4311</td>\n",
              "      <td>3991</td>\n",
              "      <td>4168</td>\n",
              "      <td>3942</td>\n",
              "      <td>4061</td>\n",
              "      <td>4362</td>\n",
              "      <td>4318</td>\n",
              "      <td>4252</td>\n",
              "      <td>4869</td>\n",
              "      <td>5284</td>\n",
              "      <td>5055</td>\n",
              "      <td>3591</td>\n",
              "      <td>...</td>\n",
              "      <td>1396</td>\n",
              "      <td>1381</td>\n",
              "      <td>1396</td>\n",
              "      <td>1381</td>\n",
              "      <td>1353</td>\n",
              "      <td>1346</td>\n",
              "      <td>1341</td>\n",
              "      <td>1332</td>\n",
              "      <td>1324</td>\n",
              "      <td>1310</td>\n",
              "      <td>1318</td>\n",
              "      <td>1330</td>\n",
              "      <td>1310</td>\n",
              "      <td>1292</td>\n",
              "      <td>1280</td>\n",
              "      <td>1275</td>\n",
              "      <td>1266</td>\n",
              "      <td>1264</td>\n",
              "      <td>1233</td>\n",
              "      <td>1241</td>\n",
              "      <td>1232</td>\n",
              "      <td>1215</td>\n",
              "      <td>1215</td>\n",
              "      <td>1187</td>\n",
              "      <td>1168</td>\n",
              "      <td>1171</td>\n",
              "      <td>1150</td>\n",
              "      <td>1134</td>\n",
              "      <td>1123</td>\n",
              "      <td>1135</td>\n",
              "      <td>1094</td>\n",
              "      <td>1090</td>\n",
              "      <td>1112</td>\n",
              "      <td>1090</td>\n",
              "      <td>1062</td>\n",
              "      <td>1069</td>\n",
              "      <td>1057</td>\n",
              "      <td>1020</td>\n",
              "      <td>1020</td>\n",
              "      <td>3</td>\n",
              "    </tr>\n",
              "    <tr>\n",
              "      <th>1</th>\n",
              "      <td>2580</td>\n",
              "      <td>4266</td>\n",
              "      <td>4502</td>\n",
              "      <td>4426</td>\n",
              "      <td>4853</td>\n",
              "      <td>5249</td>\n",
              "      <td>5352</td>\n",
              "      <td>5353</td>\n",
              "      <td>5347</td>\n",
              "      <td>5065</td>\n",
              "      <td>5141</td>\n",
              "      <td>5100</td>\n",
              "      <td>4994</td>\n",
              "      <td>5172</td>\n",
              "      <td>5290</td>\n",
              "      <td>5289</td>\n",
              "      <td>5217</td>\n",
              "      <td>5053</td>\n",
              "      <td>5033</td>\n",
              "      <td>4939</td>\n",
              "      <td>4931</td>\n",
              "      <td>4941</td>\n",
              "      <td>4902</td>\n",
              "      <td>4824</td>\n",
              "      <td>4859</td>\n",
              "      <td>4805</td>\n",
              "      <td>4698</td>\n",
              "      <td>4794</td>\n",
              "      <td>4806</td>\n",
              "      <td>4452</td>\n",
              "      <td>4628</td>\n",
              "      <td>4433</td>\n",
              "      <td>4643</td>\n",
              "      <td>4967</td>\n",
              "      <td>4853</td>\n",
              "      <td>4760</td>\n",
              "      <td>5449</td>\n",
              "      <td>5768</td>\n",
              "      <td>5684</td>\n",
              "      <td>3987</td>\n",
              "      <td>...</td>\n",
              "      <td>1421</td>\n",
              "      <td>1415</td>\n",
              "      <td>1428</td>\n",
              "      <td>1415</td>\n",
              "      <td>1379</td>\n",
              "      <td>1370</td>\n",
              "      <td>1360</td>\n",
              "      <td>1353</td>\n",
              "      <td>1352</td>\n",
              "      <td>1336</td>\n",
              "      <td>1346</td>\n",
              "      <td>1351</td>\n",
              "      <td>1330</td>\n",
              "      <td>1315</td>\n",
              "      <td>1305</td>\n",
              "      <td>1292</td>\n",
              "      <td>1282</td>\n",
              "      <td>1286</td>\n",
              "      <td>1259</td>\n",
              "      <td>1259</td>\n",
              "      <td>1250</td>\n",
              "      <td>1229</td>\n",
              "      <td>1232</td>\n",
              "      <td>1195</td>\n",
              "      <td>1177</td>\n",
              "      <td>1184</td>\n",
              "      <td>1153</td>\n",
              "      <td>1137</td>\n",
              "      <td>1138</td>\n",
              "      <td>1137</td>\n",
              "      <td>1108</td>\n",
              "      <td>1104</td>\n",
              "      <td>1117</td>\n",
              "      <td>1091</td>\n",
              "      <td>1079</td>\n",
              "      <td>1085</td>\n",
              "      <td>1064</td>\n",
              "      <td>1029</td>\n",
              "      <td>1020</td>\n",
              "      <td>3</td>\n",
              "    </tr>\n",
              "    <tr>\n",
              "      <th>2</th>\n",
              "      <td>3687</td>\n",
              "      <td>4266</td>\n",
              "      <td>4421</td>\n",
              "      <td>4498</td>\n",
              "      <td>5019</td>\n",
              "      <td>5293</td>\n",
              "      <td>5438</td>\n",
              "      <td>5427</td>\n",
              "      <td>5383</td>\n",
              "      <td>5132</td>\n",
              "      <td>5227</td>\n",
              "      <td>5172</td>\n",
              "      <td>5097</td>\n",
              "      <td>5313</td>\n",
              "      <td>5411</td>\n",
              "      <td>5412</td>\n",
              "      <td>5341</td>\n",
              "      <td>5191</td>\n",
              "      <td>5140</td>\n",
              "      <td>5069</td>\n",
              "      <td>5110</td>\n",
              "      <td>5119</td>\n",
              "      <td>5046</td>\n",
              "      <td>4981</td>\n",
              "      <td>5023</td>\n",
              "      <td>4987</td>\n",
              "      <td>4862</td>\n",
              "      <td>4965</td>\n",
              "      <td>4992</td>\n",
              "      <td>4595</td>\n",
              "      <td>4756</td>\n",
              "      <td>4529</td>\n",
              "      <td>4801</td>\n",
              "      <td>5077</td>\n",
              "      <td>4983</td>\n",
              "      <td>4868</td>\n",
              "      <td>5515</td>\n",
              "      <td>5972</td>\n",
              "      <td>5913</td>\n",
              "      <td>4027</td>\n",
              "      <td>...</td>\n",
              "      <td>1446</td>\n",
              "      <td>1440</td>\n",
              "      <td>1443</td>\n",
              "      <td>1425</td>\n",
              "      <td>1390</td>\n",
              "      <td>1379</td>\n",
              "      <td>1376</td>\n",
              "      <td>1363</td>\n",
              "      <td>1355</td>\n",
              "      <td>1347</td>\n",
              "      <td>1361</td>\n",
              "      <td>1356</td>\n",
              "      <td>1341</td>\n",
              "      <td>1330</td>\n",
              "      <td>1321</td>\n",
              "      <td>1304</td>\n",
              "      <td>1290</td>\n",
              "      <td>1289</td>\n",
              "      <td>1263</td>\n",
              "      <td>1269</td>\n",
              "      <td>1261</td>\n",
              "      <td>1245</td>\n",
              "      <td>1241</td>\n",
              "      <td>1214</td>\n",
              "      <td>1185</td>\n",
              "      <td>1188</td>\n",
              "      <td>1156</td>\n",
              "      <td>1147</td>\n",
              "      <td>1149</td>\n",
              "      <td>1144</td>\n",
              "      <td>1111</td>\n",
              "      <td>1114</td>\n",
              "      <td>1114</td>\n",
              "      <td>1100</td>\n",
              "      <td>1065</td>\n",
              "      <td>1092</td>\n",
              "      <td>1061</td>\n",
              "      <td>1030</td>\n",
              "      <td>1016</td>\n",
              "      <td>3</td>\n",
              "    </tr>\n",
              "    <tr>\n",
              "      <th>3</th>\n",
              "      <td>2749</td>\n",
              "      <td>4258</td>\n",
              "      <td>4603</td>\n",
              "      <td>4493</td>\n",
              "      <td>4958</td>\n",
              "      <td>5234</td>\n",
              "      <td>5417</td>\n",
              "      <td>5355</td>\n",
              "      <td>5349</td>\n",
              "      <td>5096</td>\n",
              "      <td>5147</td>\n",
              "      <td>5078</td>\n",
              "      <td>5040</td>\n",
              "      <td>5237</td>\n",
              "      <td>5321</td>\n",
              "      <td>5344</td>\n",
              "      <td>5255</td>\n",
              "      <td>5121</td>\n",
              "      <td>5035</td>\n",
              "      <td>4956</td>\n",
              "      <td>4994</td>\n",
              "      <td>4980</td>\n",
              "      <td>4905</td>\n",
              "      <td>4857</td>\n",
              "      <td>4900</td>\n",
              "      <td>4831</td>\n",
              "      <td>4720</td>\n",
              "      <td>4848</td>\n",
              "      <td>4847</td>\n",
              "      <td>4484</td>\n",
              "      <td>4613</td>\n",
              "      <td>4402</td>\n",
              "      <td>4674</td>\n",
              "      <td>4966</td>\n",
              "      <td>4848</td>\n",
              "      <td>4776</td>\n",
              "      <td>5473</td>\n",
              "      <td>5894</td>\n",
              "      <td>5789</td>\n",
              "      <td>4086</td>\n",
              "      <td>...</td>\n",
              "      <td>1432</td>\n",
              "      <td>1427</td>\n",
              "      <td>1426</td>\n",
              "      <td>1416</td>\n",
              "      <td>1386</td>\n",
              "      <td>1374</td>\n",
              "      <td>1375</td>\n",
              "      <td>1359</td>\n",
              "      <td>1343</td>\n",
              "      <td>1343</td>\n",
              "      <td>1354</td>\n",
              "      <td>1351</td>\n",
              "      <td>1333</td>\n",
              "      <td>1329</td>\n",
              "      <td>1313</td>\n",
              "      <td>1296</td>\n",
              "      <td>1280</td>\n",
              "      <td>1281</td>\n",
              "      <td>1251</td>\n",
              "      <td>1255</td>\n",
              "      <td>1253</td>\n",
              "      <td>1238</td>\n",
              "      <td>1223</td>\n",
              "      <td>1207</td>\n",
              "      <td>1188</td>\n",
              "      <td>1188</td>\n",
              "      <td>1154</td>\n",
              "      <td>1143</td>\n",
              "      <td>1144</td>\n",
              "      <td>1146</td>\n",
              "      <td>1122</td>\n",
              "      <td>1108</td>\n",
              "      <td>1109</td>\n",
              "      <td>1109</td>\n",
              "      <td>1071</td>\n",
              "      <td>1088</td>\n",
              "      <td>1060</td>\n",
              "      <td>1030</td>\n",
              "      <td>1006</td>\n",
              "      <td>3</td>\n",
              "    </tr>\n",
              "    <tr>\n",
              "      <th>4</th>\n",
              "      <td>2746</td>\n",
              "      <td>4018</td>\n",
              "      <td>4675</td>\n",
              "      <td>4417</td>\n",
              "      <td>4886</td>\n",
              "      <td>5117</td>\n",
              "      <td>5215</td>\n",
              "      <td>5096</td>\n",
              "      <td>5098</td>\n",
              "      <td>4834</td>\n",
              "      <td>4853</td>\n",
              "      <td>4857</td>\n",
              "      <td>4734</td>\n",
              "      <td>4879</td>\n",
              "      <td>4976</td>\n",
              "      <td>4958</td>\n",
              "      <td>4885</td>\n",
              "      <td>4754</td>\n",
              "      <td>4647</td>\n",
              "      <td>4532</td>\n",
              "      <td>4586</td>\n",
              "      <td>4591</td>\n",
              "      <td>4492</td>\n",
              "      <td>4453</td>\n",
              "      <td>4497</td>\n",
              "      <td>4398</td>\n",
              "      <td>4297</td>\n",
              "      <td>4408</td>\n",
              "      <td>4401</td>\n",
              "      <td>4102</td>\n",
              "      <td>4227</td>\n",
              "      <td>4075</td>\n",
              "      <td>4264</td>\n",
              "      <td>4529</td>\n",
              "      <td>4490</td>\n",
              "      <td>4438</td>\n",
              "      <td>5001</td>\n",
              "      <td>5378</td>\n",
              "      <td>5321</td>\n",
              "      <td>3779</td>\n",
              "      <td>...</td>\n",
              "      <td>1401</td>\n",
              "      <td>1397</td>\n",
              "      <td>1395</td>\n",
              "      <td>1390</td>\n",
              "      <td>1368</td>\n",
              "      <td>1349</td>\n",
              "      <td>1354</td>\n",
              "      <td>1340</td>\n",
              "      <td>1330</td>\n",
              "      <td>1324</td>\n",
              "      <td>1336</td>\n",
              "      <td>1332</td>\n",
              "      <td>1320</td>\n",
              "      <td>1307</td>\n",
              "      <td>1287</td>\n",
              "      <td>1283</td>\n",
              "      <td>1267</td>\n",
              "      <td>1265</td>\n",
              "      <td>1239</td>\n",
              "      <td>1240</td>\n",
              "      <td>1239</td>\n",
              "      <td>1229</td>\n",
              "      <td>1212</td>\n",
              "      <td>1202</td>\n",
              "      <td>1178</td>\n",
              "      <td>1178</td>\n",
              "      <td>1143</td>\n",
              "      <td>1135</td>\n",
              "      <td>1138</td>\n",
              "      <td>1135</td>\n",
              "      <td>1110</td>\n",
              "      <td>1107</td>\n",
              "      <td>1112</td>\n",
              "      <td>1094</td>\n",
              "      <td>1072</td>\n",
              "      <td>1087</td>\n",
              "      <td>1052</td>\n",
              "      <td>1034</td>\n",
              "      <td>1019</td>\n",
              "      <td>3</td>\n",
              "    </tr>\n",
              "  </tbody>\n",
              "</table>\n",
              "<p>5 rows × 201 columns</p>\n",
              "</div>"
            ],
            "text/plain": [
              "    0     1     2     3     4     5    ...   195   196   197   198   199  200\n",
              "0  3172  4142  4506  4279  4782  5048  ...  1062  1069  1057  1020  1020    3\n",
              "1  2580  4266  4502  4426  4853  5249  ...  1079  1085  1064  1029  1020    3\n",
              "2  3687  4266  4421  4498  5019  5293  ...  1065  1092  1061  1030  1016    3\n",
              "3  2749  4258  4603  4493  4958  5234  ...  1071  1088  1060  1030  1006    3\n",
              "4  2746  4018  4675  4417  4886  5117  ...  1072  1087  1052  1034  1019    3\n",
              "\n",
              "[5 rows x 201 columns]"
            ]
          },
          "metadata": {
            "tags": []
          },
          "execution_count": 11
        }
      ]
    },
    {
      "cell_type": "markdown",
      "metadata": {
        "id": "Gx_1RuBeqr5N",
        "colab_type": "text"
      },
      "source": [
        "### Droping the row if ground_truth value is zero"
      ]
    },
    {
      "cell_type": "code",
      "metadata": {
        "id": "w5W1G0Gnqr5O",
        "colab_type": "code",
        "outputId": "bd7d79cf-bb8f-4f58-c8aa-05e5136aaf9b",
        "colab": {
          "base_uri": "https://localhost:8080/",
          "height": 34
        }
      },
      "source": [
        "print(\"Percentage of column which will be droped\",(data.size - data[data[200] == 0].size)/data.size,\"%\")"
      ],
      "execution_count": 12,
      "outputs": [
        {
          "output_type": "stream",
          "text": [
            "Percentage of column which will be droped 0.48746730083234247 %\n"
          ],
          "name": "stdout"
        }
      ]
    },
    {
      "cell_type": "code",
      "metadata": {
        "id": "ktKi_hPWqr5T",
        "colab_type": "code",
        "colab": {}
      },
      "source": [
        "data = data[data.iloc[:, -1] != 0]"
      ],
      "execution_count": 0,
      "outputs": []
    },
    {
      "cell_type": "markdown",
      "metadata": {
        "id": "QGpof4FQcQXQ",
        "colab_type": "text"
      },
      "source": [
        ""
      ]
    },
    {
      "cell_type": "markdown",
      "metadata": {
        "id": "cShDTWysqr5W",
        "colab_type": "text"
      },
      "source": [
        "### Spliting the data into feature and target"
      ]
    },
    {
      "cell_type": "code",
      "metadata": {
        "id": "Go8a2eIMqr5X",
        "colab_type": "code",
        "colab": {}
      },
      "source": [
        "X = data.iloc[:, :-1]\n",
        "y = data.iloc[:,-1]"
      ],
      "execution_count": 0,
      "outputs": []
    },
    {
      "cell_type": "markdown",
      "metadata": {
        "id": "pMEDNN3_1ctn",
        "colab_type": "text"
      },
      "source": [
        "### Correlation between the features"
      ]
    },
    {
      "cell_type": "code",
      "metadata": {
        "id": "bGy8ax6u1byo",
        "colab_type": "code",
        "colab": {}
      },
      "source": [
        "# import seaborn as sns\n",
        "# import matplotlib.pyplot as plt\n",
        "\n",
        "# plt.figure(figsize=(150, 200))\n",
        "# sns.heatmap(X.corr(), annot=True, vmin=-1, vmax=1, center= 0)"
      ],
      "execution_count": 0,
      "outputs": []
    },
    {
      "cell_type": "markdown",
      "metadata": {
        "id": "uKLpBTla_ErW",
        "colab_type": "text"
      },
      "source": [
        ""
      ]
    },
    {
      "cell_type": "markdown",
      "metadata": {
        "id": "AcA_i82K-rM-",
        "colab_type": "text"
      },
      "source": [
        "### Feature Selection\n"
      ]
    },
    {
      "cell_type": "code",
      "metadata": {
        "id": "jie3RWu-_ee3",
        "colab_type": "code",
        "colab": {}
      },
      "source": [
        "from sklearn.feature_selection import SelectKBest\n",
        "from sklearn.feature_selection import chi2, f_classif, mutual_info_classif\n",
        "\n",
        "X = SelectKBest(f_classif, k=150).fit_transform(X, y)"
      ],
      "execution_count": 0,
      "outputs": []
    },
    {
      "cell_type": "markdown",
      "metadata": {
        "id": "ktbZr3Leo99F",
        "colab_type": "text"
      },
      "source": [
        "### OneHotEncoding the target column"
      ]
    },
    {
      "cell_type": "code",
      "metadata": {
        "id": "2VRfB2AicayJ",
        "colab_type": "code",
        "colab": {}
      },
      "source": [
        "onehotencoder = OneHotEncoder() \n",
        "y = onehotencoder.fit_transform(np.array(y).reshape(-1,1)).toarray() "
      ],
      "execution_count": 0,
      "outputs": []
    },
    {
      "cell_type": "markdown",
      "metadata": {
        "id": "2oeXMTbgpITF",
        "colab_type": "text"
      },
      "source": [
        "### Standardizing the feature columns"
      ]
    },
    {
      "cell_type": "code",
      "metadata": {
        "id": "cSFPgGw0pPam",
        "colab_type": "code",
        "colab": {}
      },
      "source": [
        "X = preprocessing.scale(X)"
      ],
      "execution_count": 0,
      "outputs": []
    },
    {
      "cell_type": "markdown",
      "metadata": {
        "id": "DRtV7aDDqr5a",
        "colab_type": "text"
      },
      "source": [
        "### Spliting the data into training and testing set "
      ]
    },
    {
      "cell_type": "code",
      "metadata": {
        "id": "DattLTVzqr5b",
        "colab_type": "code",
        "colab": {}
      },
      "source": [
        "X_train, X_test, y_train, y_test = train_test_split(X, y, test_size=0.15, random_state=1)#0.25 0.15"
      ],
      "execution_count": 0,
      "outputs": []
    },
    {
      "cell_type": "code",
      "metadata": {
        "id": "bWY0TIQ1Wx3f",
        "colab_type": "code",
        "colab": {
          "base_uri": "https://localhost:8080/",
          "height": 343
        },
        "outputId": "70258ae5-3b43-4288-932f-9d6ed673ddf7"
      },
      "source": [
        "m = POGA(numberOfParents=4, numParents=2, X_train=X_train, X_test=X_test, y_train=y_train, y_test=y_test, generationNumber=2)"
      ],
      "execution_count": 20,
      "outputs": [
        {
          "output_type": "stream",
          "text": [
            "Generation 1 started\n"
          ],
          "name": "stdout"
        },
        {
          "output_type": "stream",
          "text": [
            "/usr/local/lib/python3.6/dist-packages/sklearn/neural_network/_multilayer_perceptron.py:571: ConvergenceWarning: Stochastic Optimizer: Maximum iterations (1000) reached and the optimization hasn't converged yet.\n",
            "  % self.max_iter, ConvergenceWarning)\n",
            "/usr/local/lib/python3.6/dist-packages/sklearn/neural_network/_multilayer_perceptron.py:571: ConvergenceWarning: Stochastic Optimizer: Maximum iterations (1000) reached and the optimization hasn't converged yet.\n",
            "  % self.max_iter, ConvergenceWarning)\n",
            "/usr/local/lib/python3.6/dist-packages/sklearn/neural_network/_multilayer_perceptron.py:571: ConvergenceWarning: Stochastic Optimizer: Maximum iterations (1000) reached and the optimization hasn't converged yet.\n",
            "  % self.max_iter, ConvergenceWarning)\n"
          ],
          "name": "stderr"
        },
        {
          "output_type": "stream",
          "text": [
            "Generation 1 finished\n",
            "Generation 2 started\n"
          ],
          "name": "stdout"
        },
        {
          "output_type": "stream",
          "text": [
            "/usr/local/lib/python3.6/dist-packages/sklearn/neural_network/_multilayer_perceptron.py:571: ConvergenceWarning: Stochastic Optimizer: Maximum iterations (1000) reached and the optimization hasn't converged yet.\n",
            "  % self.max_iter, ConvergenceWarning)\n",
            "/usr/local/lib/python3.6/dist-packages/sklearn/neural_network/_multilayer_perceptron.py:571: ConvergenceWarning: Stochastic Optimizer: Maximum iterations (1000) reached and the optimization hasn't converged yet.\n",
            "  % self.max_iter, ConvergenceWarning)\n",
            "/usr/local/lib/python3.6/dist-packages/sklearn/neural_network/_multilayer_perceptron.py:571: ConvergenceWarning: Stochastic Optimizer: Maximum iterations (1000) reached and the optimization hasn't converged yet.\n",
            "  % self.max_iter, ConvergenceWarning)\n"
          ],
          "name": "stderr"
        },
        {
          "output_type": "stream",
          "text": [
            "Generation 2 finished\n"
          ],
          "name": "stdout"
        },
        {
          "output_type": "stream",
          "text": [
            "/usr/local/lib/python3.6/dist-packages/sklearn/neural_network/_multilayer_perceptron.py:571: ConvergenceWarning: Stochastic Optimizer: Maximum iterations (1000) reached and the optimization hasn't converged yet.\n",
            "  % self.max_iter, ConvergenceWarning)\n"
          ],
          "name": "stderr"
        }
      ]
    },
    {
      "cell_type": "code",
      "metadata": {
        "id": "OZTsCSdGj8tq",
        "colab_type": "code",
        "colab": {
          "base_uri": "https://localhost:8080/",
          "height": 34
        },
        "outputId": "a25e4e90-7562-47ea-8f7b-1449c0905999"
      },
      "source": [
        "m.score_list"
      ],
      "execution_count": 21,
      "outputs": [
        {
          "output_type": "execute_result",
          "data": {
            "text/plain": [
              "[[-1, 0.0, -1, 0.0], [-1, -1, 0.08627509718884252, 0.08627509718884252]]"
            ]
          },
          "metadata": {
            "tags": []
          },
          "execution_count": 21
        }
      ]
    },
    {
      "cell_type": "code",
      "metadata": {
        "id": "TDkl6QWElPrA",
        "colab_type": "code",
        "colab": {
          "base_uri": "https://localhost:8080/",
          "height": 336
        },
        "outputId": "f9185949-b6b2-4809-eb42-589966769716"
      },
      "source": [
        "import seaborn as sns\n",
        "sns.heatmap(m.score_list, annot=True, center= 0)"
      ],
      "execution_count": 22,
      "outputs": [
        {
          "output_type": "stream",
          "text": [
            "/usr/local/lib/python3.6/dist-packages/statsmodels/tools/_testing.py:19: FutureWarning: pandas.util.testing is deprecated. Use the functions in the public API at pandas.testing instead.\n",
            "  import pandas.util.testing as tm\n"
          ],
          "name": "stderr"
        },
        {
          "output_type": "execute_result",
          "data": {
            "text/plain": [
              "<matplotlib.axes._subplots.AxesSubplot at 0x7fa987eaf8d0>"
            ]
          },
          "metadata": {
            "tags": []
          },
          "execution_count": 22
        },
        {
          "output_type": "display_data",
          "data": {
            "image/png": "[encoded data removed]",
            "text/plain": [
              "<Figure size 432x288 with 2 Axes>"
            ]
          },
          "metadata": {
            "tags": [],
            "needs_background": "light"
          }
        }
      ]
    },
    {
      "cell_type": "markdown",
      "metadata": {
        "id": "Gc1LQ2MLqr5e",
        "colab_type": "text"
      },
      "source": [
        "## Preparing ANN model \n",
        "### Defining the model\n",
        "[Link to learn about the parameters](https://scikit-learn.org/stable/modules/generated/sklearn.neural_network.MLPClassifier.html)\n"
      ]
    },
    {
      "cell_type": "code",
      "metadata": {
        "id": "rWQgr4vtqr5g",
        "colab_type": "code",
        "colab": {}
      },
      "source": [
        "# model = MLPClassifier(hidden_layer_sizes=(150, 150, 150, 150, 150),\n",
        "#                       activation='relu',\n",
        "#                       solver='adam',\n",
        "#                       alpha=0.0001,\n",
        "#                       batch_size='auto',\n",
        "#                       learning_rate='constant',\n",
        "#                       learning_rate_init=0.001,\n",
        "#                       power_t=0.5,\n",
        "#                       max_iter=600,\n",
        "#                       shuffle=True,\n",
        "#                       random_state=1,\n",
        "#                       tol=0.0001,\n",
        "#                       verbose=False,\n",
        "#                       warm_start=True,\n",
        "#                       momentum=0.9,\n",
        "#                       nesterovs_momentum=True,\n",
        "#                       early_stopping=False,\n",
        "#                       validation_fraction=0.18,#0.33 0.18\n",
        "#                       beta_1=0.9,\n",
        "#                       beta_2=0.999,\n",
        "#                       epsilon=1e-08,\n",
        "#                       n_iter_no_change=50,\n",
        "#                       max_fun=15000)"
      ],
      "execution_count": 0,
      "outputs": []
    },
    {
      "cell_type": "markdown",
      "metadata": {
        "id": "XELwBndEqr5l",
        "colab_type": "text"
      },
      "source": [
        "### Fitting the model"
      ]
    },
    {
      "cell_type": "code",
      "metadata": {
        "id": "UVw238aeqr5m",
        "colab_type": "code",
        "colab": {}
      },
      "source": [
        "# model.fit(X_train,y_train)"
      ],
      "execution_count": 0,
      "outputs": []
    },
    {
      "cell_type": "markdown",
      "metadata": {
        "id": "sX3r0ZE0qr5z",
        "colab_type": "text"
      },
      "source": [
        "## Accuracy"
      ]
    },
    {
      "cell_type": "code",
      "metadata": {
        "id": "FtnChScYqr6C",
        "colab_type": "code",
        "colab": {}
      },
      "source": [
        "# model.score(X_train,y_train)"
      ],
      "execution_count": 0,
      "outputs": []
    },
    {
      "cell_type": "markdown",
      "metadata": {
        "id": "e9qS2xN_qr5s",
        "colab_type": "text"
      },
      "source": [
        "# Prediction "
      ]
    },
    {
      "cell_type": "code",
      "metadata": {
        "id": "c6FWrIN8CkvZ",
        "colab_type": "code",
        "colab": {}
      },
      "source": [
        "# from sklearn.metrics import accuracy_score, f1_score, precision_score, recall_score, classification_report, confusion_matrix,cohen_kappa_score\n",
        "# prediction = model.predict(X_test)"
      ],
      "execution_count": 0,
      "outputs": []
    },
    {
      "cell_type": "code",
      "metadata": {
        "id": "G8yGpSWSiWpO",
        "colab_type": "code",
        "colab": {}
      },
      "source": [
        "# accuracy_score(y_test, prediction)"
      ],
      "execution_count": 0,
      "outputs": []
    },
    {
      "cell_type": "code",
      "metadata": {
        "id": "JhLCi-ON7r3q",
        "colab_type": "code",
        "colab": {}
      },
      "source": [
        "# precision_score(y_test, prediction,average=\"weighted\")"
      ],
      "execution_count": 0,
      "outputs": []
    },
    {
      "cell_type": "code",
      "metadata": {
        "id": "_v2W84p57wok",
        "colab_type": "code",
        "colab": {}
      },
      "source": [
        "# recall_score(y_test, prediction, average=\"weighted\")"
      ],
      "execution_count": 0,
      "outputs": []
    },
    {
      "cell_type": "code",
      "metadata": {
        "id": "bRLQYy2p7-pM",
        "colab_type": "code",
        "colab": {}
      },
      "source": [
        "# f1_score(y_test, prediction, average=\"weighted\")"
      ],
      "execution_count": 0,
      "outputs": []
    },
    {
      "cell_type": "code",
      "metadata": {
        "id": "qb9yuuRuO1Sy",
        "colab_type": "code",
        "colab": {}
      },
      "source": [
        "# cohen_kappa_score(y_test.argmax(axis=1), prediction.argmax(axis=1), labels=list(x for x in range(1,17)), weights=None, sample_weight=None)"
      ],
      "execution_count": 0,
      "outputs": []
    },
    {
      "cell_type": "code",
      "metadata": {
        "id": "IKt6JroFRSV3",
        "colab_type": "code",
        "colab": {}
      },
      "source": [
        "# print(classification_report(y_test, prediction, target_names=label_values))"
      ],
      "execution_count": 0,
      "outputs": []
    }
  ]
}