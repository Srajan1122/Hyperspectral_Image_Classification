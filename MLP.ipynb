{
  "nbformat": 4,
  "nbformat_minor": 0,
  "metadata": {
    "kernelspec": {
      "display_name": "Python 3",
      "language": "python",
      "name": "python3"
    },
    "language_info": {
      "codemirror_mode": {
        "name": "ipython",
        "version": 3
      },
      "file_extension": ".py",
      "mimetype": "text/x-python",
      "name": "python",
      "nbconvert_exporter": "python",
      "pygments_lexer": "ipython3",
      "version": "3.8.2"
    },
    "colab": {
      "name": "MLP.ipynb",
      "provenance": [],
      "collapsed_sections": [],
      "include_colab_link": true
    }
  },
  "cells": [
    {
      "cell_type": "markdown",
      "metadata": {
        "id": "view-in-github",
        "colab_type": "text"
      },
      "source": [
        "<a href=\"https://colab.research.google.com/github/Srajan1122/Hyperspectral_Image_Classification/blob/srajan/MLP.ipynb\" target=\"_parent\"><img src=\"https://colab.research.google.com/assets/colab-badge.svg\" alt=\"Open In Colab\"/></a>"
      ]
    },
    {
      "cell_type": "code",
      "metadata": {
        "id": "tGQzPvRrhdRB",
        "colab_type": "code",
        "outputId": "100733b3-4a62-4ce9-b7c8-0ebac9fb18a9",
        "colab": {
          "base_uri": "https://localhost:8080/",
          "height": 51
        }
      },
      "source": [
        "!pip install pyeasyga"
      ],
      "execution_count": 9,
      "outputs": [
        {
          "output_type": "stream",
          "text": [
            "Requirement already satisfied: pyeasyga in /usr/local/lib/python3.6/dist-packages (0.3.1)\n",
            "Requirement already satisfied: six in /usr/local/lib/python3.6/dist-packages (from pyeasyga) (1.12.0)\n"
          ],
          "name": "stdout"
        }
      ]
    },
    {
      "cell_type": "code",
      "metadata": {
        "id": "sPaR_PMpqr4R",
        "colab_type": "code",
        "colab": {}
      },
      "source": [
        "from scipy import io\n",
        "import numpy as np\n",
        "import pandas as pd\n",
        "from sklearn.model_selection import train_test_split\n",
        "from sklearn.neural_network import MLPClassifier\n",
        "from sklearn.preprocessing import OneHotEncoder \n",
        "from sklearn import preprocessing"
      ],
      "execution_count": 0,
      "outputs": []
    },
    {
      "cell_type": "code",
      "metadata": {
        "id": "Z_Hm1EnarlHU",
        "colab_type": "code",
        "outputId": "51e02948-90a5-42f9-c081-162c850a077d",
        "colab": {
          "base_uri": "https://localhost:8080/",
          "height": 34
        }
      },
      "source": [
        "from google.colab import drive\n",
        "drive.mount('/content/drive')"
      ],
      "execution_count": 11,
      "outputs": [
        {
          "output_type": "stream",
          "text": [
            "Drive already mounted at /content/drive; to attempt to forcibly remount, call drive.mount(\"/content/drive\", force_remount=True).\n"
          ],
          "name": "stdout"
        }
      ]
    },
    {
      "cell_type": "markdown",
      "metadata": {
        "id": "bv6E_d9vk2r8",
        "colab_type": "text"
      },
      "source": [
        "# Genetic Algorithm for Optimizing the parameters"
      ]
    },
    {
      "cell_type": "code",
      "metadata": {
        "colab_type": "code",
        "id": "DxeZjNPxWbLT",
        "colab": {}
      },
      "source": [
        "# import random\n",
        "# from sklearn.metrics import f1_score\n",
        "# import numpy as np\n",
        "\n",
        "# class POGA:\n",
        "#   def __init__(self, numberOfParents, X_train, X_test, y_train, y_test, numParents, generationNumber):\n",
        "#     self.score_list = []\n",
        "#     self.population_list = []\n",
        "#     self.current_score = []\n",
        "#     self.start_population = self.initilialize_population(numberOfParents)\n",
        "    \n",
        "#     for i in range(generationNumber):\n",
        "#       print('Generation',i+1, 'started')\n",
        "#       self.score = self.train_population(self.start_population, X_train, X_test, y_train, y_test, i, numParents, self.current_score)\n",
        "#       self.current_score = self.score.copy()\n",
        "#       print('Current score', self.current_score)\n",
        "#       self.score_list.append(self.score.copy())\n",
        "#       print(self.score_list)\n",
        "\n",
        "#       self.best_parents = self.new_parents_selection(self.start_population, self.score, numParents)\n",
        "    \n",
        "#       self.childrens = self.crossover_uniform(self.best_parents,\n",
        "#                                               (len(self.start_population)-len(self.best_parents),len(self.start_population[0]))\n",
        "#                                               )                                  \n",
        "      \n",
        "#       self.mutated_childrens = self.mutation(self.childrens, 5)\n",
        "\n",
        "#       self.start_population = self.best_parents + self.mutated_childrens\n",
        "#       self.population_list.append(self.start_population)\n",
        "#       print('Generation',i+1, 'finished')\n",
        "\n",
        "\n",
        "#   def initilialize_population(self, numberOfParents):\n",
        "#     hidden_layer_sizes = []\n",
        "#     alpha =[]\n",
        "#     batch_size = []\n",
        "#     learning_rate_init = []\n",
        "#     n_iter_no_change = []\n",
        "#     # beta_1 beta_2 epsilon\n",
        "\n",
        "#     for i in range(numberOfParents):\n",
        "\n",
        "#       hidden_layer = []\n",
        "#       for i in range(5):\n",
        "#         hidden_layer.append(random.randrange(16, 150))\n",
        "\n",
        "#       hidden_layer_sizes.append(hidden_layer)\n",
        "#       alpha.append(random.choice(np.logspace(-5, 5, 11)))\n",
        "#       batch_size.append(random.randrange(200, 1000, 10)) \n",
        "#       learning_rate_init.append(random.choice(np.logspace(-1,-5, 5)))\n",
        "#       n_iter_no_change.append(random.randrange(1, 500, 10))\n",
        "\n",
        "#     population = zip(hidden_layer_sizes,\n",
        "#                      alpha,\n",
        "#                      batch_size,\n",
        "#                      learning_rate_init,\n",
        "#                      n_iter_no_change)\n",
        "#     return list(population)\n",
        "\n",
        "#   def train_population(self, population, X_train, X_test, y_train, y_test, count, numParents, current_score):\n",
        "#     Fscore = []\n",
        "#     for index,i in enumerate(list(population)):\n",
        "#       if count != 0 and index < numParents:\n",
        "#         print('in training---->', count)\n",
        "#         Fscore.append(max(current_score))\n",
        "#         current_score.remove(max(current_score))\n",
        "#         continue\n",
        "\n",
        "#       model = MLPClassifier(\n",
        "#                       hidden_layer_sizes=i[0],\n",
        "#                       activation='relu',\n",
        "#                       solver='adam',\n",
        "#                       alpha=i[1],\n",
        "#                       batch_size=i[2],\n",
        "#                       learning_rate='constant',\n",
        "#                       learning_rate_init=i[3],\n",
        "#                       power_t=0.5,\n",
        "#                       max_iter=1000,\n",
        "#                       shuffle=True,\n",
        "#                       random_state=1,\n",
        "#                       tol=0.0001,\n",
        "#                       verbose=False,\n",
        "#                       warm_start=False,\n",
        "#                       momentum=0.9,\n",
        "#                       nesterovs_momentum=True,\n",
        "#                       early_stopping=False,\n",
        "#                       validation_fraction=0.18,#0.33 0.18\n",
        "#                       beta_1=0.9,\n",
        "#                       beta_2=0.999,\n",
        "#                       epsilon=1e-08,\n",
        "#                       n_iter_no_change=i[4],\n",
        "#                       max_fun=15000)\n",
        "#       model.fit(X_train, y_train)\n",
        "#       prediction = model.predict(X_test)\n",
        "#       Fscore.append(f1_score(y_test, prediction, average=\"weighted\"))\n",
        "\n",
        "#     return Fscore\n",
        "\n",
        "#   def new_parents_selection(self, population, fitness, numParents):\n",
        "#     new_parents = []\n",
        "#     for i in range(numParents):\n",
        "#       max_fitness_index = fitness.index(max(fitness))\n",
        "#       new_parents.append(population[max_fitness_index])\n",
        "#       fitness[max_fitness_index] = -1\n",
        "#     return new_parents\n",
        "\n",
        "#   def crossover_uniform(self, parents, children_size):\n",
        "#     crossoverPointIndex = np.arange(0, np.uint8(children_size[1]), 1, dtype= np.uint8)\n",
        "#     crossoverPointIndex1 = np.random.randint(0, np.uint8(children_size[1]), np.uint8(children_size[1]/2))\n",
        "#     crossoverPointIndex2 = np.array(list(set(crossoverPointIndex) - set(crossoverPointIndex1)))\n",
        "\n",
        "#     children = [[0]*children_size[1]]*children_size[0]\n",
        "\n",
        "#     for i in range(children_size[0]):\n",
        "#       parent1_index = i%len(parents)\n",
        "#       parent2_index = (i+1)%len(parents)\n",
        "#       for j in crossoverPointIndex1:\n",
        "#         children[i][j] = parents[parent1_index][j]\n",
        "#       for j in crossoverPointIndex2:\n",
        "#         children[i][j] = parents[parent1_index][j]\n",
        "\n",
        "#     return children\n",
        "\n",
        "#   def mutation(self, crossover, numberOfParameters):\n",
        "#     minMaxValue = np.zeros((numberOfParameters, 2))\n",
        "\n",
        "#     minMaxValue[0:] = [16, 150] # hidden_layer_sizes\n",
        "#     minMaxValue[1:] = [0.00001, 10000] # alpha\n",
        "#     minMaxValue[2:] = [200, 1000] # batch_size\n",
        "#     minMaxValue[3:] = [0.000001, 0.1] # learning_rate_init\n",
        "#     minMaxValue[4:] = [1,500] # n_iter_no_change\n",
        "\n",
        "#     parameterSelect = random.randint(0, numberOfParameters-1)\n",
        "#     if parameterSelect == 0:\n",
        "#       mutationValue = random.choice(list(range(-30,40,10)))\n",
        "#     elif parameterSelect == 1:\n",
        "#       mutationValue = random.choice([0.1,10])\n",
        "#     elif parameterSelect == 2:\n",
        "#       mutationValue = random.randint(-50, 30)\n",
        "#     elif parameterSelect == 3:\n",
        "#       mutationValue = random.choice([0.1,10])\n",
        "#     elif parameterSelect == 4:\n",
        "#       mutationValue = random.randint(-50, 50)\n",
        "\n",
        "#     for i in crossover:\n",
        "#       if parameterSelect == 2 or parameterSelect == 4:\n",
        "#         i[parameterSelect] = i[parameterSelect] + mutationValue\n",
        "#       elif parameterSelect == 1 or parameterSelect == 3:\n",
        "#         i[parameterSelect] = i[parameterSelect] * mutationValue\n",
        "#       elif parameterSelect == 0:\n",
        "#         for j in range(len(i[parameterSelect])):\n",
        "#           if(random.choice([True,False])):\n",
        "#             i[parameterSelect][j] = i[parameterSelect][j] + mutationValue\n",
        "#             if i[parameterSelect][j]  < minMaxValue[parameterSelect, 0]:\n",
        "#                i[parameterSelect][j] = minMaxValue[parameterSelect, 0]\n",
        "#             if i[parameterSelect][j]  > minMaxValue[parameterSelect, 1]:\n",
        "#                i[parameterSelect][j] = minMaxValue[parameterSelect, 1]\n",
        "#         return crossover\n",
        "\n",
        "#       if i[parameterSelect] < minMaxValue[parameterSelect, 0]:\n",
        "#         i[parameterSelect] = minMaxValue[parameterSelect, 0]\n",
        "#       elif i[parameterSelect] > minMaxValue[parameterSelect, 1]:\n",
        "#         i[parameterSelect] = minMaxValue[parameterSelect, 1]\n",
        "\n",
        "#     return crossover\n",
        "  \n",
        "#   def best_parameters(self):\n",
        "#     best_index = self.score_list[-1].index(max(self.score_list[-1]))\n",
        "#     parameters = self.population_list[-1][best_index]\n",
        "#     best_parameters = {}\n",
        "#     best_parameters['hidden_layer_sizes'] = parameters[0]\n",
        "#     best_parameters['alpha'] = parameters[1]\n",
        "#     best_parameters['batch_size'] = parameters[2]\n",
        "#     best_parameters['learning_rate_init'] = parameters[3]\n",
        "#     best_parameters['n_iter_no_change'] = parameters[4]\n",
        "\n",
        "#     return best_parameters\n"
      ],
      "execution_count": 0,
      "outputs": []
    },
    {
      "cell_type": "markdown",
      "metadata": {
        "id": "rm2wKCIeqr4a",
        "colab_type": "text"
      },
      "source": [
        "## Loading DataSet\n",
        "### Dataset include image and a ground truth"
      ]
    },
    {
      "cell_type": "code",
      "metadata": {
        "id": "4dtzTWYbqr4c",
        "colab_type": "code",
        "colab": {}
      },
      "source": [
        "loaded_dataset = io.loadmat('/content/drive/My Drive/Srajan/Internship/SEM4-LeadingindiaAI/Tasks/Datasets/PaviaU/PaviaU.mat')\n",
        "for key, value in loaded_dataset.items():\n",
        "  if isinstance(value, type(np.array([1]))):\n",
        "    image = loaded_dataset[key]"
      ],
      "execution_count": 0,
      "outputs": []
    },
    {
      "cell_type": "code",
      "metadata": {
        "id": "o91U13klqr4j",
        "colab_type": "code",
        "colab": {}
      },
      "source": [
        "ground_truth_1 = io.loadmat('/content/drive/My Drive/Srajan/Internship/SEM4-LeadingindiaAI/Tasks/Datasets/PaviaU/PaviaU_gt.mat')\n",
        "for key, value in ground_truth_1.items():\n",
        "  if isinstance(value, type(np.array([1]))):\n",
        "    ground_truth = ground_truth_1[key]"
      ],
      "execution_count": 0,
      "outputs": []
    },
    {
      "cell_type": "code",
      "metadata": {
        "id": "n7rkki-EWoix",
        "colab_type": "code",
        "colab": {}
      },
      "source": [
        "import spectral as sp\n",
        "sp.save_rgb('gt.jpg', ground_truth, colors=sp.spy_colors)"
      ],
      "execution_count": 0,
      "outputs": []
    },
    {
      "cell_type": "markdown",
      "metadata": {
        "id": "O_ctG247SqUA",
        "colab_type": "text"
      },
      "source": [
        "### Class Labels"
      ]
    },
    {
      "cell_type": "code",
      "metadata": {
        "id": "1BX_iYn1SpDn",
        "colab_type": "code",
        "colab": {}
      },
      "source": [
        "label_values = [\"Alfalfa\", \"Corn-notill\", \"Corn-mintill\",\n",
        "                        \"Corn\", \"Grass-pasture\", \"Grass-trees\",\n",
        "                        \"Grass-pasture-mowed\", \"Hay-windrowed\", \"Oats\",\n",
        "                        \"Soybean-notill\", \"Soybean-mintill\", \"Soybean-clean\",\n",
        "                        \"Wheat\", \"Woods\", \"Buildings-Grass-Trees-Drives\",\n",
        "                        \"Stone-Steel-Towers\"]"
      ],
      "execution_count": 0,
      "outputs": []
    },
    {
      "cell_type": "markdown",
      "metadata": {
        "id": "BEmg8p8eqr4q",
        "colab_type": "text"
      },
      "source": [
        "### Resizing the data"
      ]
    },
    {
      "cell_type": "code",
      "metadata": {
        "id": "GM_fTNbcqr4r",
        "colab_type": "code",
        "colab": {}
      },
      "source": [
        "image_with_gt = np.dstack((image, ground_truth))"
      ],
      "execution_count": 0,
      "outputs": []
    },
    {
      "cell_type": "code",
      "metadata": {
        "id": "Q9Zi3M51qr41",
        "colab_type": "code",
        "colab": {}
      },
      "source": [
        "final_output = image_with_gt.reshape(ground_truth.size, image.shape[2]+1)"
      ],
      "execution_count": 0,
      "outputs": []
    },
    {
      "cell_type": "markdown",
      "metadata": {
        "id": "Wuvox2x0qr47",
        "colab_type": "text"
      },
      "source": [
        "### Visualizing data in pandas"
      ]
    },
    {
      "cell_type": "code",
      "metadata": {
        "id": "w1vjwrxOqr4-",
        "colab_type": "code",
        "colab": {}
      },
      "source": [
        "data = pd.DataFrame(final_output)"
      ],
      "execution_count": 0,
      "outputs": []
    },
    {
      "cell_type": "code",
      "metadata": {
        "id": "wPO3FjPSqr5H",
        "colab_type": "code",
        "outputId": "83fa6b3d-80fc-4cbf-8b09-1765d3d59d49",
        "colab": {
          "base_uri": "https://localhost:8080/",
          "height": 253
        }
      },
      "source": [
        "data.head()"
      ],
      "execution_count": 20,
      "outputs": [
        {
          "output_type": "execute_result",
          "data": {
            "text/html": [
              "<div>\n",
              "<style scoped>\n",
              "    .dataframe tbody tr th:only-of-type {\n",
              "        vertical-align: middle;\n",
              "    }\n",
              "\n",
              "    .dataframe tbody tr th {\n",
              "        vertical-align: top;\n",
              "    }\n",
              "\n",
              "    .dataframe thead th {\n",
              "        text-align: right;\n",
              "    }\n",
              "</style>\n",
              "<table border=\"1\" class=\"dataframe\">\n",
              "  <thead>\n",
              "    <tr style=\"text-align: right;\">\n",
              "      <th></th>\n",
              "      <th>0</th>\n",
              "      <th>1</th>\n",
              "      <th>2</th>\n",
              "      <th>3</th>\n",
              "      <th>4</th>\n",
              "      <th>5</th>\n",
              "      <th>6</th>\n",
              "      <th>7</th>\n",
              "      <th>8</th>\n",
              "      <th>9</th>\n",
              "      <th>10</th>\n",
              "      <th>11</th>\n",
              "      <th>12</th>\n",
              "      <th>13</th>\n",
              "      <th>14</th>\n",
              "      <th>15</th>\n",
              "      <th>16</th>\n",
              "      <th>17</th>\n",
              "      <th>18</th>\n",
              "      <th>19</th>\n",
              "      <th>20</th>\n",
              "      <th>21</th>\n",
              "      <th>22</th>\n",
              "      <th>23</th>\n",
              "      <th>24</th>\n",
              "      <th>25</th>\n",
              "      <th>26</th>\n",
              "      <th>27</th>\n",
              "      <th>28</th>\n",
              "      <th>29</th>\n",
              "      <th>30</th>\n",
              "      <th>31</th>\n",
              "      <th>32</th>\n",
              "      <th>33</th>\n",
              "      <th>34</th>\n",
              "      <th>35</th>\n",
              "      <th>36</th>\n",
              "      <th>37</th>\n",
              "      <th>38</th>\n",
              "      <th>39</th>\n",
              "      <th>...</th>\n",
              "      <th>64</th>\n",
              "      <th>65</th>\n",
              "      <th>66</th>\n",
              "      <th>67</th>\n",
              "      <th>68</th>\n",
              "      <th>69</th>\n",
              "      <th>70</th>\n",
              "      <th>71</th>\n",
              "      <th>72</th>\n",
              "      <th>73</th>\n",
              "      <th>74</th>\n",
              "      <th>75</th>\n",
              "      <th>76</th>\n",
              "      <th>77</th>\n",
              "      <th>78</th>\n",
              "      <th>79</th>\n",
              "      <th>80</th>\n",
              "      <th>81</th>\n",
              "      <th>82</th>\n",
              "      <th>83</th>\n",
              "      <th>84</th>\n",
              "      <th>85</th>\n",
              "      <th>86</th>\n",
              "      <th>87</th>\n",
              "      <th>88</th>\n",
              "      <th>89</th>\n",
              "      <th>90</th>\n",
              "      <th>91</th>\n",
              "      <th>92</th>\n",
              "      <th>93</th>\n",
              "      <th>94</th>\n",
              "      <th>95</th>\n",
              "      <th>96</th>\n",
              "      <th>97</th>\n",
              "      <th>98</th>\n",
              "      <th>99</th>\n",
              "      <th>100</th>\n",
              "      <th>101</th>\n",
              "      <th>102</th>\n",
              "      <th>103</th>\n",
              "    </tr>\n",
              "  </thead>\n",
              "  <tbody>\n",
              "    <tr>\n",
              "      <th>0</th>\n",
              "      <td>647</td>\n",
              "      <td>499</td>\n",
              "      <td>464</td>\n",
              "      <td>371</td>\n",
              "      <td>291</td>\n",
              "      <td>319</td>\n",
              "      <td>365</td>\n",
              "      <td>322</td>\n",
              "      <td>296</td>\n",
              "      <td>305</td>\n",
              "      <td>277</td>\n",
              "      <td>219</td>\n",
              "      <td>219</td>\n",
              "      <td>222</td>\n",
              "      <td>201</td>\n",
              "      <td>162</td>\n",
              "      <td>157</td>\n",
              "      <td>183</td>\n",
              "      <td>204</td>\n",
              "      <td>194</td>\n",
              "      <td>198</td>\n",
              "      <td>216</td>\n",
              "      <td>249</td>\n",
              "      <td>284</td>\n",
              "      <td>294</td>\n",
              "      <td>322</td>\n",
              "      <td>338</td>\n",
              "      <td>342</td>\n",
              "      <td>336</td>\n",
              "      <td>342</td>\n",
              "      <td>362</td>\n",
              "      <td>365</td>\n",
              "      <td>348</td>\n",
              "      <td>341</td>\n",
              "      <td>324</td>\n",
              "      <td>316</td>\n",
              "      <td>293</td>\n",
              "      <td>274</td>\n",
              "      <td>251</td>\n",
              "      <td>244</td>\n",
              "      <td>...</td>\n",
              "      <td>192</td>\n",
              "      <td>227</td>\n",
              "      <td>287</td>\n",
              "      <td>376</td>\n",
              "      <td>493</td>\n",
              "      <td>633</td>\n",
              "      <td>763</td>\n",
              "      <td>913</td>\n",
              "      <td>1149</td>\n",
              "      <td>1442</td>\n",
              "      <td>1759</td>\n",
              "      <td>2102</td>\n",
              "      <td>2425</td>\n",
              "      <td>2689</td>\n",
              "      <td>2895</td>\n",
              "      <td>3058</td>\n",
              "      <td>3196</td>\n",
              "      <td>3252</td>\n",
              "      <td>3195</td>\n",
              "      <td>3297</td>\n",
              "      <td>3542</td>\n",
              "      <td>3550</td>\n",
              "      <td>3537</td>\n",
              "      <td>3545</td>\n",
              "      <td>3514</td>\n",
              "      <td>3477</td>\n",
              "      <td>3468</td>\n",
              "      <td>3433</td>\n",
              "      <td>3408</td>\n",
              "      <td>3420</td>\n",
              "      <td>3416</td>\n",
              "      <td>3335</td>\n",
              "      <td>3256</td>\n",
              "      <td>3226</td>\n",
              "      <td>3205</td>\n",
              "      <td>3210</td>\n",
              "      <td>3221</td>\n",
              "      <td>3238</td>\n",
              "      <td>3250</td>\n",
              "      <td>0</td>\n",
              "    </tr>\n",
              "    <tr>\n",
              "      <th>1</th>\n",
              "      <td>604</td>\n",
              "      <td>546</td>\n",
              "      <td>527</td>\n",
              "      <td>455</td>\n",
              "      <td>378</td>\n",
              "      <td>377</td>\n",
              "      <td>336</td>\n",
              "      <td>314</td>\n",
              "      <td>324</td>\n",
              "      <td>329</td>\n",
              "      <td>328</td>\n",
              "      <td>326</td>\n",
              "      <td>275</td>\n",
              "      <td>215</td>\n",
              "      <td>197</td>\n",
              "      <td>217</td>\n",
              "      <td>239</td>\n",
              "      <td>258</td>\n",
              "      <td>246</td>\n",
              "      <td>233</td>\n",
              "      <td>241</td>\n",
              "      <td>261</td>\n",
              "      <td>279</td>\n",
              "      <td>300</td>\n",
              "      <td>329</td>\n",
              "      <td>344</td>\n",
              "      <td>341</td>\n",
              "      <td>362</td>\n",
              "      <td>362</td>\n",
              "      <td>367</td>\n",
              "      <td>368</td>\n",
              "      <td>359</td>\n",
              "      <td>345</td>\n",
              "      <td>344</td>\n",
              "      <td>327</td>\n",
              "      <td>302</td>\n",
              "      <td>281</td>\n",
              "      <td>271</td>\n",
              "      <td>270</td>\n",
              "      <td>261</td>\n",
              "      <td>...</td>\n",
              "      <td>152</td>\n",
              "      <td>190</td>\n",
              "      <td>242</td>\n",
              "      <td>301</td>\n",
              "      <td>391</td>\n",
              "      <td>505</td>\n",
              "      <td>633</td>\n",
              "      <td>774</td>\n",
              "      <td>960</td>\n",
              "      <td>1191</td>\n",
              "      <td>1454</td>\n",
              "      <td>1737</td>\n",
              "      <td>2001</td>\n",
              "      <td>2209</td>\n",
              "      <td>2363</td>\n",
              "      <td>2484</td>\n",
              "      <td>2594</td>\n",
              "      <td>2613</td>\n",
              "      <td>2541</td>\n",
              "      <td>2588</td>\n",
              "      <td>2821</td>\n",
              "      <td>2839</td>\n",
              "      <td>2738</td>\n",
              "      <td>2690</td>\n",
              "      <td>2678</td>\n",
              "      <td>2673</td>\n",
              "      <td>2712</td>\n",
              "      <td>2725</td>\n",
              "      <td>2657</td>\n",
              "      <td>2605</td>\n",
              "      <td>2583</td>\n",
              "      <td>2538</td>\n",
              "      <td>2509</td>\n",
              "      <td>2511</td>\n",
              "      <td>2501</td>\n",
              "      <td>2468</td>\n",
              "      <td>2442</td>\n",
              "      <td>2464</td>\n",
              "      <td>2528</td>\n",
              "      <td>0</td>\n",
              "    </tr>\n",
              "    <tr>\n",
              "      <th>2</th>\n",
              "      <td>621</td>\n",
              "      <td>746</td>\n",
              "      <td>556</td>\n",
              "      <td>360</td>\n",
              "      <td>285</td>\n",
              "      <td>300</td>\n",
              "      <td>274</td>\n",
              "      <td>276</td>\n",
              "      <td>332</td>\n",
              "      <td>319</td>\n",
              "      <td>278</td>\n",
              "      <td>255</td>\n",
              "      <td>232</td>\n",
              "      <td>207</td>\n",
              "      <td>210</td>\n",
              "      <td>209</td>\n",
              "      <td>168</td>\n",
              "      <td>139</td>\n",
              "      <td>137</td>\n",
              "      <td>154</td>\n",
              "      <td>168</td>\n",
              "      <td>202</td>\n",
              "      <td>225</td>\n",
              "      <td>231</td>\n",
              "      <td>244</td>\n",
              "      <td>257</td>\n",
              "      <td>263</td>\n",
              "      <td>262</td>\n",
              "      <td>266</td>\n",
              "      <td>276</td>\n",
              "      <td>285</td>\n",
              "      <td>291</td>\n",
              "      <td>285</td>\n",
              "      <td>272</td>\n",
              "      <td>271</td>\n",
              "      <td>241</td>\n",
              "      <td>208</td>\n",
              "      <td>194</td>\n",
              "      <td>179</td>\n",
              "      <td>157</td>\n",
              "      <td>...</td>\n",
              "      <td>116</td>\n",
              "      <td>153</td>\n",
              "      <td>188</td>\n",
              "      <td>243</td>\n",
              "      <td>322</td>\n",
              "      <td>413</td>\n",
              "      <td>492</td>\n",
              "      <td>591</td>\n",
              "      <td>737</td>\n",
              "      <td>933</td>\n",
              "      <td>1125</td>\n",
              "      <td>1327</td>\n",
              "      <td>1519</td>\n",
              "      <td>1666</td>\n",
              "      <td>1790</td>\n",
              "      <td>1934</td>\n",
              "      <td>2029</td>\n",
              "      <td>2034</td>\n",
              "      <td>2010</td>\n",
              "      <td>2069</td>\n",
              "      <td>2191</td>\n",
              "      <td>2233</td>\n",
              "      <td>2245</td>\n",
              "      <td>2249</td>\n",
              "      <td>2255</td>\n",
              "      <td>2250</td>\n",
              "      <td>2249</td>\n",
              "      <td>2239</td>\n",
              "      <td>2239</td>\n",
              "      <td>2282</td>\n",
              "      <td>2288</td>\n",
              "      <td>2242</td>\n",
              "      <td>2193</td>\n",
              "      <td>2202</td>\n",
              "      <td>2225</td>\n",
              "      <td>2266</td>\n",
              "      <td>2308</td>\n",
              "      <td>2345</td>\n",
              "      <td>2361</td>\n",
              "      <td>0</td>\n",
              "    </tr>\n",
              "    <tr>\n",
              "      <th>3</th>\n",
              "      <td>637</td>\n",
              "      <td>592</td>\n",
              "      <td>482</td>\n",
              "      <td>556</td>\n",
              "      <td>508</td>\n",
              "      <td>284</td>\n",
              "      <td>178</td>\n",
              "      <td>198</td>\n",
              "      <td>193</td>\n",
              "      <td>224</td>\n",
              "      <td>217</td>\n",
              "      <td>215</td>\n",
              "      <td>187</td>\n",
              "      <td>161</td>\n",
              "      <td>152</td>\n",
              "      <td>136</td>\n",
              "      <td>124</td>\n",
              "      <td>122</td>\n",
              "      <td>127</td>\n",
              "      <td>126</td>\n",
              "      <td>125</td>\n",
              "      <td>123</td>\n",
              "      <td>147</td>\n",
              "      <td>188</td>\n",
              "      <td>208</td>\n",
              "      <td>203</td>\n",
              "      <td>202</td>\n",
              "      <td>206</td>\n",
              "      <td>219</td>\n",
              "      <td>235</td>\n",
              "      <td>238</td>\n",
              "      <td>227</td>\n",
              "      <td>217</td>\n",
              "      <td>215</td>\n",
              "      <td>216</td>\n",
              "      <td>201</td>\n",
              "      <td>190</td>\n",
              "      <td>167</td>\n",
              "      <td>149</td>\n",
              "      <td>162</td>\n",
              "      <td>...</td>\n",
              "      <td>129</td>\n",
              "      <td>174</td>\n",
              "      <td>245</td>\n",
              "      <td>338</td>\n",
              "      <td>455</td>\n",
              "      <td>585</td>\n",
              "      <td>720</td>\n",
              "      <td>850</td>\n",
              "      <td>1013</td>\n",
              "      <td>1225</td>\n",
              "      <td>1460</td>\n",
              "      <td>1702</td>\n",
              "      <td>1938</td>\n",
              "      <td>2157</td>\n",
              "      <td>2317</td>\n",
              "      <td>2433</td>\n",
              "      <td>2525</td>\n",
              "      <td>2552</td>\n",
              "      <td>2493</td>\n",
              "      <td>2554</td>\n",
              "      <td>2733</td>\n",
              "      <td>2781</td>\n",
              "      <td>2748</td>\n",
              "      <td>2748</td>\n",
              "      <td>2737</td>\n",
              "      <td>2710</td>\n",
              "      <td>2681</td>\n",
              "      <td>2642</td>\n",
              "      <td>2645</td>\n",
              "      <td>2684</td>\n",
              "      <td>2675</td>\n",
              "      <td>2609</td>\n",
              "      <td>2541</td>\n",
              "      <td>2551</td>\n",
              "      <td>2571</td>\n",
              "      <td>2569</td>\n",
              "      <td>2573</td>\n",
              "      <td>2620</td>\n",
              "      <td>2644</td>\n",
              "      <td>0</td>\n",
              "    </tr>\n",
              "    <tr>\n",
              "      <th>4</th>\n",
              "      <td>625</td>\n",
              "      <td>560</td>\n",
              "      <td>480</td>\n",
              "      <td>360</td>\n",
              "      <td>377</td>\n",
              "      <td>341</td>\n",
              "      <td>264</td>\n",
              "      <td>208</td>\n",
              "      <td>231</td>\n",
              "      <td>266</td>\n",
              "      <td>207</td>\n",
              "      <td>154</td>\n",
              "      <td>123</td>\n",
              "      <td>95</td>\n",
              "      <td>106</td>\n",
              "      <td>102</td>\n",
              "      <td>101</td>\n",
              "      <td>123</td>\n",
              "      <td>154</td>\n",
              "      <td>170</td>\n",
              "      <td>191</td>\n",
              "      <td>210</td>\n",
              "      <td>216</td>\n",
              "      <td>256</td>\n",
              "      <td>289</td>\n",
              "      <td>325</td>\n",
              "      <td>348</td>\n",
              "      <td>357</td>\n",
              "      <td>361</td>\n",
              "      <td>362</td>\n",
              "      <td>363</td>\n",
              "      <td>370</td>\n",
              "      <td>386</td>\n",
              "      <td>369</td>\n",
              "      <td>344</td>\n",
              "      <td>331</td>\n",
              "      <td>312</td>\n",
              "      <td>308</td>\n",
              "      <td>288</td>\n",
              "      <td>263</td>\n",
              "      <td>...</td>\n",
              "      <td>173</td>\n",
              "      <td>220</td>\n",
              "      <td>292</td>\n",
              "      <td>382</td>\n",
              "      <td>488</td>\n",
              "      <td>592</td>\n",
              "      <td>692</td>\n",
              "      <td>834</td>\n",
              "      <td>1032</td>\n",
              "      <td>1236</td>\n",
              "      <td>1461</td>\n",
              "      <td>1698</td>\n",
              "      <td>1876</td>\n",
              "      <td>2007</td>\n",
              "      <td>2118</td>\n",
              "      <td>2213</td>\n",
              "      <td>2288</td>\n",
              "      <td>2267</td>\n",
              "      <td>2192</td>\n",
              "      <td>2274</td>\n",
              "      <td>2448</td>\n",
              "      <td>2454</td>\n",
              "      <td>2387</td>\n",
              "      <td>2388</td>\n",
              "      <td>2441</td>\n",
              "      <td>2435</td>\n",
              "      <td>2454</td>\n",
              "      <td>2457</td>\n",
              "      <td>2430</td>\n",
              "      <td>2423</td>\n",
              "      <td>2392</td>\n",
              "      <td>2344</td>\n",
              "      <td>2289</td>\n",
              "      <td>2328</td>\n",
              "      <td>2415</td>\n",
              "      <td>2424</td>\n",
              "      <td>2386</td>\n",
              "      <td>2431</td>\n",
              "      <td>2456</td>\n",
              "      <td>0</td>\n",
              "    </tr>\n",
              "  </tbody>\n",
              "</table>\n",
              "<p>5 rows × 104 columns</p>\n",
              "</div>"
            ],
            "text/plain": [
              "   0    1    2    3    4    5    6    ...   97    98    99    100   101   102  103\n",
              "0  647  499  464  371  291  319  365  ...  3226  3205  3210  3221  3238  3250    0\n",
              "1  604  546  527  455  378  377  336  ...  2511  2501  2468  2442  2464  2528    0\n",
              "2  621  746  556  360  285  300  274  ...  2202  2225  2266  2308  2345  2361    0\n",
              "3  637  592  482  556  508  284  178  ...  2551  2571  2569  2573  2620  2644    0\n",
              "4  625  560  480  360  377  341  264  ...  2328  2415  2424  2386  2431  2456    0\n",
              "\n",
              "[5 rows x 104 columns]"
            ]
          },
          "metadata": {
            "tags": []
          },
          "execution_count": 20
        }
      ]
    },
    {
      "cell_type": "markdown",
      "metadata": {
        "id": "Gx_1RuBeqr5N",
        "colab_type": "text"
      },
      "source": [
        "### Droping the row if ground_truth value is zero"
      ]
    },
    {
      "cell_type": "code",
      "metadata": {
        "id": "w5W1G0Gnqr5O",
        "colab_type": "code",
        "outputId": "a471f194-036d-46b5-e424-ffb16ffb46fc",
        "colab": {
          "base_uri": "https://localhost:8080/",
          "height": 34
        }
      },
      "source": [
        "print(\"Percentage of column which will be droped\",(data.size - data[data.iloc[:, -1] == 0].size)/data.size,\"%\")"
      ],
      "execution_count": 21,
      "outputs": [
        {
          "output_type": "stream",
          "text": [
            "Percentage of column which will be droped 0.20624879459980713 %\n"
          ],
          "name": "stdout"
        }
      ]
    },
    {
      "cell_type": "code",
      "metadata": {
        "id": "ktKi_hPWqr5T",
        "colab_type": "code",
        "colab": {}
      },
      "source": [
        "zero_data = data.index[data.iloc[:, -1] == 0].tolist()\n",
        "data = data[data.iloc[:, -1] != 0]"
      ],
      "execution_count": 0,
      "outputs": []
    },
    {
      "cell_type": "markdown",
      "metadata": {
        "id": "QGpof4FQcQXQ",
        "colab_type": "text"
      },
      "source": [
        ""
      ]
    },
    {
      "cell_type": "markdown",
      "metadata": {
        "id": "cShDTWysqr5W",
        "colab_type": "text"
      },
      "source": [
        "### Spliting the data into feature and target"
      ]
    },
    {
      "cell_type": "code",
      "metadata": {
        "id": "Go8a2eIMqr5X",
        "colab_type": "code",
        "colab": {}
      },
      "source": [
        "X = data.iloc[:, :-1]\n",
        "y = data.iloc[:,-1]"
      ],
      "execution_count": 0,
      "outputs": []
    },
    {
      "cell_type": "code",
      "metadata": {
        "id": "tREseCY-6n9l",
        "colab_type": "code",
        "colab": {}
      },
      "source": [
        "number_of_classes = len(np.unique(y))"
      ],
      "execution_count": 0,
      "outputs": []
    },
    {
      "cell_type": "markdown",
      "metadata": {
        "id": "pMEDNN3_1ctn",
        "colab_type": "text"
      },
      "source": [
        "### Correlation between the features"
      ]
    },
    {
      "cell_type": "code",
      "metadata": {
        "id": "bGy8ax6u1byo",
        "colab_type": "code",
        "colab": {}
      },
      "source": [
        "# import seaborn as sns\n",
        "# import matplotlib.pyplot as plt\n",
        "\n",
        "# plt.figure(figsize=(150, 200))\n",
        "# sns.heatmap(X.corr(), annot=True, vmin=-1, vmax=1, center= 0)"
      ],
      "execution_count": 0,
      "outputs": []
    },
    {
      "cell_type": "markdown",
      "metadata": {
        "id": "uKLpBTla_ErW",
        "colab_type": "text"
      },
      "source": [
        ""
      ]
    },
    {
      "cell_type": "markdown",
      "metadata": {
        "id": "AcA_i82K-rM-",
        "colab_type": "text"
      },
      "source": [
        "### Feature Selection\n"
      ]
    },
    {
      "cell_type": "code",
      "metadata": {
        "id": "jie3RWu-_ee3",
        "colab_type": "code",
        "colab": {}
      },
      "source": [
        "from sklearn.feature_selection import SelectKBest\n",
        "from sklearn.feature_selection import chi2, f_classif, mutual_info_classif\n",
        "\n",
        "X = SelectKBest(f_classif, k=int((image.shape[2]+1)*0.75)).fit_transform(X, y)"
      ],
      "execution_count": 0,
      "outputs": []
    },
    {
      "cell_type": "markdown",
      "metadata": {
        "id": "ktbZr3Leo99F",
        "colab_type": "text"
      },
      "source": [
        "### OneHotEncoding the target column"
      ]
    },
    {
      "cell_type": "code",
      "metadata": {
        "id": "2VRfB2AicayJ",
        "colab_type": "code",
        "colab": {}
      },
      "source": [
        "onehotencoder = OneHotEncoder() \n",
        "y = onehotencoder.fit_transform(np.array(y).reshape(-1,1)).toarray() "
      ],
      "execution_count": 0,
      "outputs": []
    },
    {
      "cell_type": "markdown",
      "metadata": {
        "id": "2oeXMTbgpITF",
        "colab_type": "text"
      },
      "source": [
        "### Standardizing the feature columns"
      ]
    },
    {
      "cell_type": "code",
      "metadata": {
        "id": "cSFPgGw0pPam",
        "colab_type": "code",
        "colab": {}
      },
      "source": [
        "X = preprocessing.scale(X)"
      ],
      "execution_count": 0,
      "outputs": []
    },
    {
      "cell_type": "markdown",
      "metadata": {
        "id": "DRtV7aDDqr5a",
        "colab_type": "text"
      },
      "source": [
        "### Spliting the data into training and testing set "
      ]
    },
    {
      "cell_type": "code",
      "metadata": {
        "id": "DattLTVzqr5b",
        "colab_type": "code",
        "colab": {}
      },
      "source": [
        "X_train, X_test, y_train, y_test = train_test_split(X, y, test_size=0.30, random_state=1)#0.25 0.15"
      ],
      "execution_count": 0,
      "outputs": []
    },
    {
      "cell_type": "markdown",
      "metadata": {
        "id": "XGXhrD1dHUBb",
        "colab_type": "text"
      },
      "source": [
        "# Genetic Algorithm using pyeasyga "
      ]
    },
    {
      "cell_type": "code",
      "metadata": {
        "id": "NaOOGkde0cFg",
        "colab_type": "code",
        "colab": {}
      },
      "source": [
        "# from pyeasyga import pyeasyga\n",
        "# import random\n",
        "# import numpy as np\n",
        "# from sklearn.metrics import accuracy_score\n",
        "# import time\n",
        "\n",
        "# count = 1\n",
        "\n",
        "# def initilialize_population():\n",
        "#     # beta_1 beta_2 epsilon\n",
        "\n",
        "#     hidden_layer_sizes = []\n",
        "#     for i in range(200):\n",
        "#       hidden_layer = []\n",
        "#       for i in range(5):\n",
        "#         hidden_layer.append(random.randrange(50, 250))\n",
        "#       hidden_layer_sizes.append(hidden_layer)\n",
        "      \n",
        "#     alpha = list(np.logspace(-5, 3, 9))\n",
        "#     batch_size = list(range(400, 1001, 50))\n",
        "#     learning_rate_init = np.logspace(-1,-5, 5)\n",
        "#     n_iter_no_change = list(range(10,31, 10))\n",
        "\n",
        "#     population = []\n",
        "#     population.append(hidden_layer_sizes)\n",
        "#     population.append(alpha)\n",
        "#     population.append(batch_size)\n",
        "#     population.append(learning_rate_init)\n",
        "#     population.append(n_iter_no_change)\n",
        "\n",
        "#     return list(population)\n",
        "\n",
        "# def create_individual(data):\n",
        "#   choice = []\n",
        "#   for i in range(len(data)):\n",
        "#     choice.append(random.choice(list(range(len(data[i])))))\n",
        "#   return choice\n",
        "\n",
        "# def fitness_function(individual, data):\n",
        "#   global count\n",
        "#   print('Individual no', count)\n",
        "#   count += 1\n",
        "#   model = MLPClassifier(\n",
        "#                       hidden_layer_sizes=data[0][individual[0]],\n",
        "#                       activation='relu',\n",
        "#                       solver='adam',\n",
        "#                       alpha=data[1][individual[1]],\n",
        "#                       batch_size=data[2][individual[2]],\n",
        "#                       learning_rate='constant',\n",
        "#                       learning_rate_init=data[3][individual[3]],\n",
        "#                       power_t=0.5,\n",
        "#                       max_iter=30,\n",
        "#                       shuffle=True,\n",
        "#                       random_state=1,\n",
        "#                       tol=0.0001,\n",
        "#                       verbose=False,\n",
        "#                       warm_start=False,\n",
        "#                       momentum=0.9,\n",
        "#                       nesterovs_momentum=True,\n",
        "#                       early_stopping=False,\n",
        "#                       validation_fraction=0.40,#0.33 0.18\n",
        "#                       beta_1=0.9,\n",
        "#                       beta_2=0.999,\n",
        "#                       epsilon=1e-08,\n",
        "#                       n_iter_no_change=data[4][individual[4]],\n",
        "#                       max_fun=15000)\n",
        "  \n",
        "#   model.fit(X_train, y_train)\n",
        "#   prediction = model.predict(X_test)\n",
        "#   score = accuracy_score(y_test, prediction)\n",
        "#   print('Score is', score)\n",
        "#   return score\n",
        "  \n",
        "\n",
        "# data = initilialize_population()\n",
        "# ga = pyeasyga.GeneticAlgorithm(seed_data=data,\n",
        "#                                population_size=5,\n",
        "#                                generations=5,\n",
        "#                                crossover_probability=0.8,\n",
        "#                                mutation_probability=0.4,\n",
        "#                                elitism=True,\n",
        "#                                maximise_fitness=True)\n",
        "# ga.create_individual = create_individual\n",
        "# ga.fitness_function = fitness_function\n",
        "\n",
        "# start = time.time()\n",
        "# ga.run()\n",
        "# end = time.time()\n",
        "# print('Time taken ------>', end-start)"
      ],
      "execution_count": 0,
      "outputs": []
    },
    {
      "cell_type": "code",
      "metadata": {
        "id": "elQmUaTJBQkQ",
        "colab_type": "code",
        "colab": {}
      },
      "source": [
        "# ga.best_individual()"
      ],
      "execution_count": 0,
      "outputs": []
    },
    {
      "cell_type": "code",
      "metadata": {
        "id": "6p7jR3vVkHXh",
        "colab_type": "code",
        "colab": {}
      },
      "source": [
        "# list(ga.last_generation())"
      ],
      "execution_count": 0,
      "outputs": []
    },
    {
      "cell_type": "code",
      "metadata": {
        "id": "Pnn9JmSZkkma",
        "colab_type": "code",
        "colab": {}
      },
      "source": [
        "# best_parameters = ga.best_individual()[1]\n",
        "# for index,i in enumerate(data):\n",
        "#   print(i[best_parameters[index]])\n",
        "\n",
        "# print(ga.best_individual()[0])"
      ],
      "execution_count": 0,
      "outputs": []
    },
    {
      "cell_type": "code",
      "metadata": {
        "id": "bWY0TIQ1Wx3f",
        "colab_type": "code",
        "colab": {}
      },
      "source": [
        "# import time\n",
        "# start = time.time()\n",
        "# model = POGA(numberOfParents=4, numParents=2, X_train=X_train, X_test=X_test, y_train=y_train, y_test=y_test, generationNumber=3)\n",
        "# end = time.time()\n",
        "# print('time taken', end-start)"
      ],
      "execution_count": 0,
      "outputs": []
    },
    {
      "cell_type": "code",
      "metadata": {
        "id": "OZTsCSdGj8tq",
        "colab_type": "code",
        "colab": {}
      },
      "source": [
        "# best_parameters = model.best_parameters()\n",
        "# best_parameters"
      ],
      "execution_count": 0,
      "outputs": []
    },
    {
      "cell_type": "code",
      "metadata": {
        "id": "TDkl6QWElPrA",
        "colab_type": "code",
        "colab": {}
      },
      "source": [
        "# import seaborn as sns \n",
        "# sns.heatmap(model.score_list, annot=True, vmin=0, vmax=1, center= 0)"
      ],
      "execution_count": 0,
      "outputs": []
    },
    {
      "cell_type": "markdown",
      "metadata": {
        "id": "Gc1LQ2MLqr5e",
        "colab_type": "text"
      },
      "source": [
        "## Preparing ANN model \n",
        "### Defining the model\n",
        "[Link to learn about the parameters](https://scikit-learn.org/stable/modules/generated/sklearn.neural_network.MLPClassifier.html)\n"
      ]
    },
    {
      "cell_type": "code",
      "metadata": {
        "id": "rWQgr4vtqr5g",
        "colab_type": "code",
        "colab": {}
      },
      "source": [
        "# model = MLPClassifier(hidden_layer_sizes=data[0][best_parameters[0]],\n",
        "#                       activation='relu',\n",
        "#                       solver='adam',\n",
        "#                       alpha=data[1][best_parameters[1]],\n",
        "#                       batch_size=data[2][best_parameters[2]],\n",
        "#                       learning_rate='constant',\n",
        "#                       learning_rate_init=data[3][best_parameters[3]],\n",
        "#                       power_t=0.5,\n",
        "#                       max_iter=500,\n",
        "#                       shuffle=True,\n",
        "#                       random_state=1,\n",
        "#                       tol=0.0001,\n",
        "#                       verbose=False,\n",
        "#                       warm_start=True,\n",
        "#                       momentum=0.9,\n",
        "#                       nesterovs_momentum=True,\n",
        "#                       early_stopping=False,\n",
        "#                       validation_fraction=0.57,\n",
        "#                       beta_1=0.9,\n",
        "#                       beta_2=0.999,\n",
        "#                       epsilon=1e-08,\n",
        "#                       n_iter_no_change=data[4][best_parameters[4]],\n",
        "#                       max_fun=15000)"
      ],
      "execution_count": 0,
      "outputs": []
    },
    {
      "cell_type": "code",
      "metadata": {
        "id": "-6H4LnyqEgSF",
        "colab_type": "code",
        "colab": {}
      },
      "source": [
        "model = MLPClassifier(hidden_layer_sizes=(150, 150, 150, 150, 150),\n",
        "                      activation='relu',\n",
        "                      solver='adam',\n",
        "                      alpha=0.0001,\n",
        "                      batch_size='auto',\n",
        "                      learning_rate='constant',\n",
        "                      learning_rate_init=0.001,\n",
        "                      power_t=0.5,\n",
        "                      max_iter=500,\n",
        "                      shuffle=True,\n",
        "                      random_state=1,\n",
        "                      tol=0.0001,\n",
        "                      verbose=False,\n",
        "                      warm_start=True,\n",
        "                      momentum=0.9,\n",
        "                      nesterovs_momentum=True,\n",
        "                      early_stopping=False,\n",
        "                      validation_fraction=0.40,\n",
        "                      beta_1=0.9,\n",
        "                      beta_2=0.999,\n",
        "                      epsilon=1e-08,\n",
        "                      n_iter_no_change=10,\n",
        "                      max_fun=15000)"
      ],
      "execution_count": 0,
      "outputs": []
    },
    {
      "cell_type": "markdown",
      "metadata": {
        "id": "XELwBndEqr5l",
        "colab_type": "text"
      },
      "source": [
        "### Fitting the model"
      ]
    },
    {
      "cell_type": "code",
      "metadata": {
        "id": "UVw238aeqr5m",
        "colab_type": "code",
        "outputId": "1b6df411-454a-4bbf-a1fc-0124e78822da",
        "colab": {
          "base_uri": "https://localhost:8080/",
          "height": 153
        }
      },
      "source": [
        "model.fit(X_train,y_train)"
      ],
      "execution_count": 39,
      "outputs": [
        {
          "output_type": "execute_result",
          "data": {
            "text/plain": [
              "MLPClassifier(activation='relu', alpha=0.0001, batch_size='auto', beta_1=0.9,\n",
              "              beta_2=0.999, early_stopping=False, epsilon=1e-08,\n",
              "              hidden_layer_sizes=(150, 150, 150, 150, 150),\n",
              "              learning_rate='constant', learning_rate_init=0.001, max_fun=15000,\n",
              "              max_iter=500, momentum=0.9, n_iter_no_change=10,\n",
              "              nesterovs_momentum=True, power_t=0.5, random_state=1,\n",
              "              shuffle=True, solver='adam', tol=0.0001, validation_fraction=0.4,\n",
              "              verbose=False, warm_start=True)"
            ]
          },
          "metadata": {
            "tags": []
          },
          "execution_count": 39
        }
      ]
    },
    {
      "cell_type": "markdown",
      "metadata": {
        "id": "sX3r0ZE0qr5z",
        "colab_type": "text"
      },
      "source": [
        "## Accuracy"
      ]
    },
    {
      "cell_type": "code",
      "metadata": {
        "id": "FtnChScYqr6C",
        "colab_type": "code",
        "outputId": "2956d349-e9d6-49ec-b8d7-0bfb746b572b",
        "colab": {
          "base_uri": "https://localhost:8080/",
          "height": 34
        }
      },
      "source": [
        "model.score(X_train,y_train)"
      ],
      "execution_count": 40,
      "outputs": [
        {
          "output_type": "execute_result",
          "data": {
            "text/plain": [
              "0.9847042714490866"
            ]
          },
          "metadata": {
            "tags": []
          },
          "execution_count": 40
        }
      ]
    },
    {
      "cell_type": "markdown",
      "metadata": {
        "id": "e9qS2xN_qr5s",
        "colab_type": "text"
      },
      "source": [
        "# Prediction "
      ]
    },
    {
      "cell_type": "code",
      "metadata": {
        "id": "c6FWrIN8CkvZ",
        "colab_type": "code",
        "colab": {}
      },
      "source": [
        "from sklearn.metrics import accuracy_score, f1_score, precision_score, recall_score, classification_report, confusion_matrix,cohen_kappa_score\n",
        "prediction = model.predict(X_test)"
      ],
      "execution_count": 0,
      "outputs": []
    },
    {
      "cell_type": "code",
      "metadata": {
        "id": "G8yGpSWSiWpO",
        "colab_type": "code",
        "outputId": "e721a8ac-0003-4dd4-fd8e-b87ea9b3e55d",
        "colab": {
          "base_uri": "https://localhost:8080/",
          "height": 34
        }
      },
      "source": [
        "accuracy_score(y_test, prediction)"
      ],
      "execution_count": 42,
      "outputs": [
        {
          "output_type": "execute_result",
          "data": {
            "text/plain": [
              "0.9445180394295956"
            ]
          },
          "metadata": {
            "tags": []
          },
          "execution_count": 42
        }
      ]
    },
    {
      "cell_type": "code",
      "metadata": {
        "id": "JhLCi-ON7r3q",
        "colab_type": "code",
        "outputId": "e42f8247-9a98-4a0d-de4a-56bd17bc6700",
        "colab": {
          "base_uri": "https://localhost:8080/",
          "height": 34
        }
      },
      "source": [
        "precision_score(y_test, prediction,average=\"weighted\")"
      ],
      "execution_count": 43,
      "outputs": [
        {
          "output_type": "execute_result",
          "data": {
            "text/plain": [
              "0.9463827897843881"
            ]
          },
          "metadata": {
            "tags": []
          },
          "execution_count": 43
        }
      ]
    },
    {
      "cell_type": "code",
      "metadata": {
        "id": "_v2W84p57wok",
        "colab_type": "code",
        "outputId": "2b39bb4b-4a9f-4a0d-cd3f-3d57e76cecac",
        "colab": {
          "base_uri": "https://localhost:8080/",
          "height": 34
        }
      },
      "source": [
        "recall_score(y_test, prediction, average=\"weighted\")"
      ],
      "execution_count": 44,
      "outputs": [
        {
          "output_type": "execute_result",
          "data": {
            "text/plain": [
              "0.9466219901815631"
            ]
          },
          "metadata": {
            "tags": []
          },
          "execution_count": 44
        }
      ]
    },
    {
      "cell_type": "code",
      "metadata": {
        "id": "bRLQYy2p7-pM",
        "colab_type": "code",
        "outputId": "a955192a-5c3e-44f8-f0be-def9d2a83be7",
        "colab": {
          "base_uri": "https://localhost:8080/",
          "height": 34
        }
      },
      "source": [
        "f1_score(y_test, prediction, average=\"weighted\")"
      ],
      "execution_count": 45,
      "outputs": [
        {
          "output_type": "execute_result",
          "data": {
            "text/plain": [
              "0.9463353469335811"
            ]
          },
          "metadata": {
            "tags": []
          },
          "execution_count": 45
        }
      ]
    },
    {
      "cell_type": "code",
      "metadata": {
        "id": "qb9yuuRuO1Sy",
        "colab_type": "code",
        "outputId": "3db9ecc2-1c36-41e4-c7bc-784bb823601f",
        "colab": {
          "base_uri": "https://localhost:8080/",
          "height": 34
        }
      },
      "source": [
        "cohen_kappa_score(y_test.argmax(axis=1), prediction.argmax(axis=1), labels=list(x for x in range(1,17)), weights=None, sample_weight=None)"
      ],
      "execution_count": 46,
      "outputs": [
        {
          "output_type": "execute_result",
          "data": {
            "text/plain": [
              "0.929319868650921"
            ]
          },
          "metadata": {
            "tags": []
          },
          "execution_count": 46
        }
      ]
    },
    {
      "cell_type": "code",
      "metadata": {
        "id": "IKt6JroFRSV3",
        "colab_type": "code",
        "colab": {}
      },
      "source": [
        "# print(classification_report(y_test, prediction, target_names=label_values))"
      ],
      "execution_count": 0,
      "outputs": []
    },
    {
      "cell_type": "code",
      "metadata": {
        "id": "6j5jc4ERs1z3",
        "colab_type": "code",
        "outputId": "0dfe7b4c-e9be-400b-825e-71b3f8ee590f",
        "colab": {
          "base_uri": "https://localhost:8080/",
          "height": 51
        }
      },
      "source": [
        "!pip install spectral"
      ],
      "execution_count": 48,
      "outputs": [
        {
          "output_type": "stream",
          "text": [
            "Requirement already satisfied: spectral in /usr/local/lib/python3.6/dist-packages (0.21)\n",
            "Requirement already satisfied: numpy in /usr/local/lib/python3.6/dist-packages (from spectral) (1.18.5)\n"
          ],
          "name": "stdout"
        }
      ]
    },
    {
      "cell_type": "code",
      "metadata": {
        "id": "6c8481SxswlK",
        "colab_type": "code",
        "colab": {}
      },
      "source": [
        "import spectral as sp\n",
        "prediction = model.predict(X)\n",
        "\n",
        "if not len(prediction.shape) == 2:\n",
        "    y_test = [x + 1 for x in y_test]\n",
        "    y_train = [x + 1 for x in y_train]\n",
        "\n",
        "if len(prediction.shape) == 2:\n",
        "    predicted_gt_1 = np.argmax(prediction, axis=1)\n",
        "    predicted_gt_1_list = list(predicted_gt_1)\n",
        "    predicted_gt_1_list = [x + 1 for x in predicted_gt_1_list]\n",
        "else:\n",
        "    predicted_gt_1_list = prediction\n",
        "\n",
        "for i in zero_data:\n",
        "    predicted_gt_1_list.insert(i, 0)\n",
        "\n",
        "predicted_gt_1_list = np.array(predicted_gt_1_list).reshape(image.shape[0], image.shape[1])\n",
        "sp.save_rgb('predicted_gt.jpg', predicted_gt_1_list, colors=sp.spy_colors)\n"
      ],
      "execution_count": 0,
      "outputs": []
    }
  ]
}