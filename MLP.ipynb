{
  "nbformat": 4,
  "nbformat_minor": 0,
  "metadata": {
    "kernelspec": {
      "display_name": "Python 3",
      "language": "python",
      "name": "python3"
    },
    "language_info": {
      "codemirror_mode": {
        "name": "ipython",
        "version": 3
      },
      "file_extension": ".py",
      "mimetype": "text/x-python",
      "name": "python",
      "nbconvert_exporter": "python",
      "pygments_lexer": "ipython3",
      "version": "3.8.2"
    },
    "colab": {
      "name": "MLP.ipynb",
      "provenance": [],
      "collapsed_sections": [],
      "include_colab_link": true
    }
  },
  "cells": [
    {
      "cell_type": "markdown",
      "metadata": {
        "id": "view-in-github",
        "colab_type": "text"
      },
      "source": [
        "<a href=\"https://colab.research.google.com/github/Srajan1122/Hyperspectral_Image_Classification/blob/srajan/MLP.ipynb\" target=\"_parent\"><img src=\"https://colab.research.google.com/assets/colab-badge.svg\" alt=\"Open In Colab\"/></a>"
      ]
    },
    {
      "cell_type": "code",
      "metadata": {
        "id": "tGQzPvRrhdRB",
        "colab_type": "code",
        "outputId": "431a47d2-2bd0-47b7-aa65-5b5f88b255c8",
        "colab": {
          "base_uri": "https://localhost:8080/",
          "height": 51
        }
      },
      "source": [
        "!pip install pyeasyga"
      ],
      "execution_count": 30,
      "outputs": [
        {
          "output_type": "stream",
          "text": [
            "Requirement already satisfied: pyeasyga in /usr/local/lib/python3.6/dist-packages (0.3.1)\n",
            "Requirement already satisfied: six in /usr/local/lib/python3.6/dist-packages (from pyeasyga) (1.12.0)\n"
          ],
          "name": "stdout"
        }
      ]
    },
    {
      "cell_type": "code",
      "metadata": {
        "id": "sPaR_PMpqr4R",
        "colab_type": "code",
        "colab": {}
      },
      "source": [
        "from scipy import io\n",
        "import numpy as np\n",
        "import pandas as pd\n",
        "from sklearn.model_selection import train_test_split\n",
        "from sklearn.neural_network import MLPClassifier\n",
        "from sklearn.preprocessing import OneHotEncoder \n",
        "from sklearn import preprocessing"
      ],
      "execution_count": 0,
      "outputs": []
    },
    {
      "cell_type": "code",
      "metadata": {
        "id": "Z_Hm1EnarlHU",
        "colab_type": "code",
        "outputId": "f5333d16-f070-46f6-eab5-9099a7639482",
        "colab": {
          "base_uri": "https://localhost:8080/",
          "height": 34
        }
      },
      "source": [
        "from google.colab import drive\n",
        "drive.mount('/content/drive')"
      ],
      "execution_count": 32,
      "outputs": [
        {
          "output_type": "stream",
          "text": [
            "Drive already mounted at /content/drive; to attempt to forcibly remount, call drive.mount(\"/content/drive\", force_remount=True).\n"
          ],
          "name": "stdout"
        }
      ]
    },
    {
      "cell_type": "markdown",
      "metadata": {
        "id": "bv6E_d9vk2r8",
        "colab_type": "text"
      },
      "source": [
        "# Genetic Algorithm for Optimizing the parameters"
      ]
    },
    {
      "cell_type": "code",
      "metadata": {
        "colab_type": "code",
        "id": "DxeZjNPxWbLT",
        "colab": {}
      },
      "source": [
        "# import random\n",
        "# from sklearn.metrics import f1_score\n",
        "# import numpy as np\n",
        "\n",
        "# class POGA:\n",
        "#   def __init__(self, numberOfParents, X_train, X_test, y_train, y_test, numParents, generationNumber):\n",
        "#     self.score_list = []\n",
        "#     self.population_list = []\n",
        "#     self.current_score = []\n",
        "#     self.start_population = self.initilialize_population(numberOfParents)\n",
        "    \n",
        "#     for i in range(generationNumber):\n",
        "#       print('Generation',i+1, 'started')\n",
        "#       self.score = self.train_population(self.start_population, X_train, X_test, y_train, y_test, i, numParents, self.current_score)\n",
        "#       self.current_score = self.score.copy()\n",
        "#       print('Current score', self.current_score)\n",
        "#       self.score_list.append(self.score.copy())\n",
        "#       print(self.score_list)\n",
        "\n",
        "#       self.best_parents = self.new_parents_selection(self.start_population, self.score, numParents)\n",
        "    \n",
        "#       self.childrens = self.crossover_uniform(self.best_parents,\n",
        "#                                               (len(self.start_population)-len(self.best_parents),len(self.start_population[0]))\n",
        "#                                               )                                  \n",
        "      \n",
        "#       self.mutated_childrens = self.mutation(self.childrens, 5)\n",
        "\n",
        "#       self.start_population = self.best_parents + self.mutated_childrens\n",
        "#       self.population_list.append(self.start_population)\n",
        "#       print('Generation',i+1, 'finished')\n",
        "\n",
        "\n",
        "#   def initilialize_population(self, numberOfParents):\n",
        "#     hidden_layer_sizes = []\n",
        "#     alpha =[]\n",
        "#     batch_size = []\n",
        "#     learning_rate_init = []\n",
        "#     n_iter_no_change = []\n",
        "#     # beta_1 beta_2 epsilon\n",
        "\n",
        "#     for i in range(numberOfParents):\n",
        "\n",
        "#       hidden_layer = []\n",
        "#       for i in range(5):\n",
        "#         hidden_layer.append(random.randrange(16, 150))\n",
        "\n",
        "#       hidden_layer_sizes.append(hidden_layer)\n",
        "#       alpha.append(random.choice(np.logspace(-5, 5, 11)))\n",
        "#       batch_size.append(random.randrange(200, 1000, 10)) \n",
        "#       learning_rate_init.append(random.choice(np.logspace(-1,-5, 5)))\n",
        "#       n_iter_no_change.append(random.randrange(1, 500, 10))\n",
        "\n",
        "#     population = zip(hidden_layer_sizes,\n",
        "#                      alpha,\n",
        "#                      batch_size,\n",
        "#                      learning_rate_init,\n",
        "#                      n_iter_no_change)\n",
        "#     return list(population)\n",
        "\n",
        "#   def train_population(self, population, X_train, X_test, y_train, y_test, count, numParents, current_score):\n",
        "#     Fscore = []\n",
        "#     for index,i in enumerate(list(population)):\n",
        "#       if count != 0 and index < numParents:\n",
        "#         print('in training---->', count)\n",
        "#         Fscore.append(max(current_score))\n",
        "#         current_score.remove(max(current_score))\n",
        "#         continue\n",
        "\n",
        "#       model = MLPClassifier(\n",
        "#                       hidden_layer_sizes=i[0],\n",
        "#                       activation='relu',\n",
        "#                       solver='adam',\n",
        "#                       alpha=i[1],\n",
        "#                       batch_size=i[2],\n",
        "#                       learning_rate='constant',\n",
        "#                       learning_rate_init=i[3],\n",
        "#                       power_t=0.5,\n",
        "#                       max_iter=1000,\n",
        "#                       shuffle=True,\n",
        "#                       random_state=1,\n",
        "#                       tol=0.0001,\n",
        "#                       verbose=False,\n",
        "#                       warm_start=False,\n",
        "#                       momentum=0.9,\n",
        "#                       nesterovs_momentum=True,\n",
        "#                       early_stopping=False,\n",
        "#                       validation_fraction=0.18,#0.33 0.18\n",
        "#                       beta_1=0.9,\n",
        "#                       beta_2=0.999,\n",
        "#                       epsilon=1e-08,\n",
        "#                       n_iter_no_change=i[4],\n",
        "#                       max_fun=15000)\n",
        "#       model.fit(X_train, y_train)\n",
        "#       prediction = model.predict(X_test)\n",
        "#       Fscore.append(f1_score(y_test, prediction, average=\"weighted\"))\n",
        "\n",
        "#     return Fscore\n",
        "\n",
        "#   def new_parents_selection(self, population, fitness, numParents):\n",
        "#     new_parents = []\n",
        "#     for i in range(numParents):\n",
        "#       max_fitness_index = fitness.index(max(fitness))\n",
        "#       new_parents.append(population[max_fitness_index])\n",
        "#       fitness[max_fitness_index] = -1\n",
        "#     return new_parents\n",
        "\n",
        "#   def crossover_uniform(self, parents, children_size):\n",
        "#     crossoverPointIndex = np.arange(0, np.uint8(children_size[1]), 1, dtype= np.uint8)\n",
        "#     crossoverPointIndex1 = np.random.randint(0, np.uint8(children_size[1]), np.uint8(children_size[1]/2))\n",
        "#     crossoverPointIndex2 = np.array(list(set(crossoverPointIndex) - set(crossoverPointIndex1)))\n",
        "\n",
        "#     children = [[0]*children_size[1]]*children_size[0]\n",
        "\n",
        "#     for i in range(children_size[0]):\n",
        "#       parent1_index = i%len(parents)\n",
        "#       parent2_index = (i+1)%len(parents)\n",
        "#       for j in crossoverPointIndex1:\n",
        "#         children[i][j] = parents[parent1_index][j]\n",
        "#       for j in crossoverPointIndex2:\n",
        "#         children[i][j] = parents[parent1_index][j]\n",
        "\n",
        "#     return children\n",
        "\n",
        "#   def mutation(self, crossover, numberOfParameters):\n",
        "#     minMaxValue = np.zeros((numberOfParameters, 2))\n",
        "\n",
        "#     minMaxValue[0:] = [16, 150] # hidden_layer_sizes\n",
        "#     minMaxValue[1:] = [0.00001, 10000] # alpha\n",
        "#     minMaxValue[2:] = [200, 1000] # batch_size\n",
        "#     minMaxValue[3:] = [0.000001, 0.1] # learning_rate_init\n",
        "#     minMaxValue[4:] = [1,500] # n_iter_no_change\n",
        "\n",
        "#     parameterSelect = random.randint(0, numberOfParameters-1)\n",
        "#     if parameterSelect == 0:\n",
        "#       mutationValue = random.choice(list(range(-30,40,10)))\n",
        "#     elif parameterSelect == 1:\n",
        "#       mutationValue = random.choice([0.1,10])\n",
        "#     elif parameterSelect == 2:\n",
        "#       mutationValue = random.randint(-50, 30)\n",
        "#     elif parameterSelect == 3:\n",
        "#       mutationValue = random.choice([0.1,10])\n",
        "#     elif parameterSelect == 4:\n",
        "#       mutationValue = random.randint(-50, 50)\n",
        "\n",
        "#     for i in crossover:\n",
        "#       if parameterSelect == 2 or parameterSelect == 4:\n",
        "#         i[parameterSelect] = i[parameterSelect] + mutationValue\n",
        "#       elif parameterSelect == 1 or parameterSelect == 3:\n",
        "#         i[parameterSelect] = i[parameterSelect] * mutationValue\n",
        "#       elif parameterSelect == 0:\n",
        "#         for j in range(len(i[parameterSelect])):\n",
        "#           if(random.choice([True,False])):\n",
        "#             i[parameterSelect][j] = i[parameterSelect][j] + mutationValue\n",
        "#             if i[parameterSelect][j]  < minMaxValue[parameterSelect, 0]:\n",
        "#                i[parameterSelect][j] = minMaxValue[parameterSelect, 0]\n",
        "#             if i[parameterSelect][j]  > minMaxValue[parameterSelect, 1]:\n",
        "#                i[parameterSelect][j] = minMaxValue[parameterSelect, 1]\n",
        "#         return crossover\n",
        "\n",
        "#       if i[parameterSelect] < minMaxValue[parameterSelect, 0]:\n",
        "#         i[parameterSelect] = minMaxValue[parameterSelect, 0]\n",
        "#       elif i[parameterSelect] > minMaxValue[parameterSelect, 1]:\n",
        "#         i[parameterSelect] = minMaxValue[parameterSelect, 1]\n",
        "\n",
        "#     return crossover\n",
        "  \n",
        "#   def best_parameters(self):\n",
        "#     best_index = self.score_list[-1].index(max(self.score_list[-1]))\n",
        "#     parameters = self.population_list[-1][best_index]\n",
        "#     best_parameters = {}\n",
        "#     best_parameters['hidden_layer_sizes'] = parameters[0]\n",
        "#     best_parameters['alpha'] = parameters[1]\n",
        "#     best_parameters['batch_size'] = parameters[2]\n",
        "#     best_parameters['learning_rate_init'] = parameters[3]\n",
        "#     best_parameters['n_iter_no_change'] = parameters[4]\n",
        "\n",
        "#     return best_parameters\n"
      ],
      "execution_count": 0,
      "outputs": []
    },
    {
      "cell_type": "markdown",
      "metadata": {
        "id": "rm2wKCIeqr4a",
        "colab_type": "text"
      },
      "source": [
        "## Loading DataSet\n",
        "### Dataset include image and a ground truth"
      ]
    },
    {
      "cell_type": "code",
      "metadata": {
        "id": "4dtzTWYbqr4c",
        "colab_type": "code",
        "colab": {}
      },
      "source": [
        "loaded_dataset = io.loadmat('/content/drive/My Drive/Srajan/Internship/SEM4-LeadingindiaAI/Tasks/Datasets/Botswana/Botswana.mat')\n",
        "image = loaded_dataset['Botswana']"
      ],
      "execution_count": 0,
      "outputs": []
    },
    {
      "cell_type": "code",
      "metadata": {
        "id": "o91U13klqr4j",
        "colab_type": "code",
        "colab": {}
      },
      "source": [
        "ground_truth = io.loadmat('/content/drive/My Drive/Srajan/Internship/SEM4-LeadingindiaAI/Tasks/Datasets/Botswana/Botswana_gt.mat')\n",
        "ground_truth = ground_truth['Botswana_gt']"
      ],
      "execution_count": 0,
      "outputs": []
    },
    {
      "cell_type": "markdown",
      "metadata": {
        "id": "O_ctG247SqUA",
        "colab_type": "text"
      },
      "source": [
        "### Class Labels"
      ]
    },
    {
      "cell_type": "code",
      "metadata": {
        "id": "1BX_iYn1SpDn",
        "colab_type": "code",
        "colab": {}
      },
      "source": [
        "label_values = [\"Alfalfa\", \"Corn-notill\", \"Corn-mintill\",\n",
        "                        \"Corn\", \"Grass-pasture\", \"Grass-trees\",\n",
        "                        \"Grass-pasture-mowed\", \"Hay-windrowed\", \"Oats\",\n",
        "                        \"Soybean-notill\", \"Soybean-mintill\", \"Soybean-clean\",\n",
        "                        \"Wheat\", \"Woods\", \"Buildings-Grass-Trees-Drives\",\n",
        "                        \"Stone-Steel-Towers\"]"
      ],
      "execution_count": 0,
      "outputs": []
    },
    {
      "cell_type": "markdown",
      "metadata": {
        "id": "BEmg8p8eqr4q",
        "colab_type": "text"
      },
      "source": [
        "### Resizing the data"
      ]
    },
    {
      "cell_type": "code",
      "metadata": {
        "id": "GM_fTNbcqr4r",
        "colab_type": "code",
        "colab": {}
      },
      "source": [
        "image_with_gt = np.dstack((image, ground_truth))"
      ],
      "execution_count": 0,
      "outputs": []
    },
    {
      "cell_type": "code",
      "metadata": {
        "id": "Q9Zi3M51qr41",
        "colab_type": "code",
        "colab": {}
      },
      "source": [
        "final_output = image_with_gt.reshape(ground_truth.size, image.shape[2]+1)"
      ],
      "execution_count": 0,
      "outputs": []
    },
    {
      "cell_type": "markdown",
      "metadata": {
        "id": "Wuvox2x0qr47",
        "colab_type": "text"
      },
      "source": [
        "### Visualizing data in pandas"
      ]
    },
    {
      "cell_type": "code",
      "metadata": {
        "id": "w1vjwrxOqr4-",
        "colab_type": "code",
        "colab": {}
      },
      "source": [
        "data = pd.DataFrame(final_output)"
      ],
      "execution_count": 0,
      "outputs": []
    },
    {
      "cell_type": "code",
      "metadata": {
        "id": "wPO3FjPSqr5H",
        "colab_type": "code",
        "outputId": "13dd3634-2003-4047-af13-6d2d82f20358",
        "colab": {
          "base_uri": "https://localhost:8080/",
          "height": 253
        }
      },
      "source": [
        "data.head()"
      ],
      "execution_count": 40,
      "outputs": [
        {
          "output_type": "execute_result",
          "data": {
            "text/html": [
              "<div>\n",
              "<style scoped>\n",
              "    .dataframe tbody tr th:only-of-type {\n",
              "        vertical-align: middle;\n",
              "    }\n",
              "\n",
              "    .dataframe tbody tr th {\n",
              "        vertical-align: top;\n",
              "    }\n",
              "\n",
              "    .dataframe thead th {\n",
              "        text-align: right;\n",
              "    }\n",
              "</style>\n",
              "<table border=\"1\" class=\"dataframe\">\n",
              "  <thead>\n",
              "    <tr style=\"text-align: right;\">\n",
              "      <th></th>\n",
              "      <th>0</th>\n",
              "      <th>1</th>\n",
              "      <th>2</th>\n",
              "      <th>3</th>\n",
              "      <th>4</th>\n",
              "      <th>5</th>\n",
              "      <th>6</th>\n",
              "      <th>7</th>\n",
              "      <th>8</th>\n",
              "      <th>9</th>\n",
              "      <th>10</th>\n",
              "      <th>11</th>\n",
              "      <th>12</th>\n",
              "      <th>13</th>\n",
              "      <th>14</th>\n",
              "      <th>15</th>\n",
              "      <th>16</th>\n",
              "      <th>17</th>\n",
              "      <th>18</th>\n",
              "      <th>19</th>\n",
              "      <th>20</th>\n",
              "      <th>21</th>\n",
              "      <th>22</th>\n",
              "      <th>23</th>\n",
              "      <th>24</th>\n",
              "      <th>25</th>\n",
              "      <th>26</th>\n",
              "      <th>27</th>\n",
              "      <th>28</th>\n",
              "      <th>29</th>\n",
              "      <th>30</th>\n",
              "      <th>31</th>\n",
              "      <th>32</th>\n",
              "      <th>33</th>\n",
              "      <th>34</th>\n",
              "      <th>35</th>\n",
              "      <th>36</th>\n",
              "      <th>37</th>\n",
              "      <th>38</th>\n",
              "      <th>39</th>\n",
              "      <th>...</th>\n",
              "      <th>106</th>\n",
              "      <th>107</th>\n",
              "      <th>108</th>\n",
              "      <th>109</th>\n",
              "      <th>110</th>\n",
              "      <th>111</th>\n",
              "      <th>112</th>\n",
              "      <th>113</th>\n",
              "      <th>114</th>\n",
              "      <th>115</th>\n",
              "      <th>116</th>\n",
              "      <th>117</th>\n",
              "      <th>118</th>\n",
              "      <th>119</th>\n",
              "      <th>120</th>\n",
              "      <th>121</th>\n",
              "      <th>122</th>\n",
              "      <th>123</th>\n",
              "      <th>124</th>\n",
              "      <th>125</th>\n",
              "      <th>126</th>\n",
              "      <th>127</th>\n",
              "      <th>128</th>\n",
              "      <th>129</th>\n",
              "      <th>130</th>\n",
              "      <th>131</th>\n",
              "      <th>132</th>\n",
              "      <th>133</th>\n",
              "      <th>134</th>\n",
              "      <th>135</th>\n",
              "      <th>136</th>\n",
              "      <th>137</th>\n",
              "      <th>138</th>\n",
              "      <th>139</th>\n",
              "      <th>140</th>\n",
              "      <th>141</th>\n",
              "      <th>142</th>\n",
              "      <th>143</th>\n",
              "      <th>144</th>\n",
              "      <th>145</th>\n",
              "    </tr>\n",
              "  </thead>\n",
              "  <tbody>\n",
              "    <tr>\n",
              "      <th>0</th>\n",
              "      <td>3996</td>\n",
              "      <td>3952</td>\n",
              "      <td>3698</td>\n",
              "      <td>3457</td>\n",
              "      <td>3063</td>\n",
              "      <td>2914</td>\n",
              "      <td>2796</td>\n",
              "      <td>2538</td>\n",
              "      <td>2629</td>\n",
              "      <td>2613</td>\n",
              "      <td>2533</td>\n",
              "      <td>2517</td>\n",
              "      <td>2306</td>\n",
              "      <td>2149</td>\n",
              "      <td>2065</td>\n",
              "      <td>1994</td>\n",
              "      <td>1943</td>\n",
              "      <td>1840</td>\n",
              "      <td>1779</td>\n",
              "      <td>1726</td>\n",
              "      <td>1654</td>\n",
              "      <td>1519</td>\n",
              "      <td>1542</td>\n",
              "      <td>1478</td>\n",
              "      <td>1404</td>\n",
              "      <td>1600</td>\n",
              "      <td>2755</td>\n",
              "      <td>2806</td>\n",
              "      <td>3459</td>\n",
              "      <td>4137</td>\n",
              "      <td>4008</td>\n",
              "      <td>2741</td>\n",
              "      <td>4144</td>\n",
              "      <td>4268</td>\n",
              "      <td>4069</td>\n",
              "      <td>4020</td>\n",
              "      <td>3537</td>\n",
              "      <td>3335</td>\n",
              "      <td>3582</td>\n",
              "      <td>3868</td>\n",
              "      <td>...</td>\n",
              "      <td>450</td>\n",
              "      <td>385</td>\n",
              "      <td>316</td>\n",
              "      <td>240</td>\n",
              "      <td>157</td>\n",
              "      <td>98</td>\n",
              "      <td>149</td>\n",
              "      <td>142</td>\n",
              "      <td>106</td>\n",
              "      <td>91</td>\n",
              "      <td>107</td>\n",
              "      <td>158</td>\n",
              "      <td>164</td>\n",
              "      <td>163</td>\n",
              "      <td>166</td>\n",
              "      <td>184</td>\n",
              "      <td>196</td>\n",
              "      <td>181</td>\n",
              "      <td>169</td>\n",
              "      <td>156</td>\n",
              "      <td>159</td>\n",
              "      <td>134</td>\n",
              "      <td>135</td>\n",
              "      <td>144</td>\n",
              "      <td>159</td>\n",
              "      <td>142</td>\n",
              "      <td>138</td>\n",
              "      <td>145</td>\n",
              "      <td>138</td>\n",
              "      <td>110</td>\n",
              "      <td>104</td>\n",
              "      <td>114</td>\n",
              "      <td>89</td>\n",
              "      <td>89</td>\n",
              "      <td>77</td>\n",
              "      <td>73</td>\n",
              "      <td>60</td>\n",
              "      <td>53</td>\n",
              "      <td>54</td>\n",
              "      <td>0</td>\n",
              "    </tr>\n",
              "    <tr>\n",
              "      <th>1</th>\n",
              "      <td>3996</td>\n",
              "      <td>3952</td>\n",
              "      <td>3698</td>\n",
              "      <td>3457</td>\n",
              "      <td>3063</td>\n",
              "      <td>2914</td>\n",
              "      <td>2796</td>\n",
              "      <td>2538</td>\n",
              "      <td>2629</td>\n",
              "      <td>2613</td>\n",
              "      <td>2533</td>\n",
              "      <td>2517</td>\n",
              "      <td>2306</td>\n",
              "      <td>2149</td>\n",
              "      <td>2065</td>\n",
              "      <td>1994</td>\n",
              "      <td>1943</td>\n",
              "      <td>1840</td>\n",
              "      <td>1779</td>\n",
              "      <td>1726</td>\n",
              "      <td>1654</td>\n",
              "      <td>1519</td>\n",
              "      <td>1542</td>\n",
              "      <td>1478</td>\n",
              "      <td>1404</td>\n",
              "      <td>1600</td>\n",
              "      <td>2029</td>\n",
              "      <td>2172</td>\n",
              "      <td>2672</td>\n",
              "      <td>3195</td>\n",
              "      <td>3184</td>\n",
              "      <td>2182</td>\n",
              "      <td>3316</td>\n",
              "      <td>3402</td>\n",
              "      <td>3199</td>\n",
              "      <td>3147</td>\n",
              "      <td>2763</td>\n",
              "      <td>2517</td>\n",
              "      <td>2841</td>\n",
              "      <td>3098</td>\n",
              "      <td>...</td>\n",
              "      <td>427</td>\n",
              "      <td>371</td>\n",
              "      <td>301</td>\n",
              "      <td>226</td>\n",
              "      <td>145</td>\n",
              "      <td>92</td>\n",
              "      <td>128</td>\n",
              "      <td>134</td>\n",
              "      <td>92</td>\n",
              "      <td>85</td>\n",
              "      <td>114</td>\n",
              "      <td>140</td>\n",
              "      <td>149</td>\n",
              "      <td>158</td>\n",
              "      <td>159</td>\n",
              "      <td>166</td>\n",
              "      <td>175</td>\n",
              "      <td>160</td>\n",
              "      <td>151</td>\n",
              "      <td>137</td>\n",
              "      <td>141</td>\n",
              "      <td>133</td>\n",
              "      <td>135</td>\n",
              "      <td>132</td>\n",
              "      <td>143</td>\n",
              "      <td>134</td>\n",
              "      <td>123</td>\n",
              "      <td>133</td>\n",
              "      <td>122</td>\n",
              "      <td>117</td>\n",
              "      <td>109</td>\n",
              "      <td>103</td>\n",
              "      <td>83</td>\n",
              "      <td>93</td>\n",
              "      <td>80</td>\n",
              "      <td>69</td>\n",
              "      <td>59</td>\n",
              "      <td>54</td>\n",
              "      <td>57</td>\n",
              "      <td>0</td>\n",
              "    </tr>\n",
              "    <tr>\n",
              "      <th>2</th>\n",
              "      <td>4100</td>\n",
              "      <td>3923</td>\n",
              "      <td>3615</td>\n",
              "      <td>3451</td>\n",
              "      <td>2941</td>\n",
              "      <td>2886</td>\n",
              "      <td>2850</td>\n",
              "      <td>2581</td>\n",
              "      <td>2628</td>\n",
              "      <td>2616</td>\n",
              "      <td>2607</td>\n",
              "      <td>2479</td>\n",
              "      <td>2359</td>\n",
              "      <td>2118</td>\n",
              "      <td>2099</td>\n",
              "      <td>1946</td>\n",
              "      <td>1971</td>\n",
              "      <td>1885</td>\n",
              "      <td>1743</td>\n",
              "      <td>1774</td>\n",
              "      <td>1680</td>\n",
              "      <td>1566</td>\n",
              "      <td>1534</td>\n",
              "      <td>1494</td>\n",
              "      <td>1375</td>\n",
              "      <td>1603</td>\n",
              "      <td>2152</td>\n",
              "      <td>2277</td>\n",
              "      <td>2870</td>\n",
              "      <td>3474</td>\n",
              "      <td>3502</td>\n",
              "      <td>2441</td>\n",
              "      <td>3612</td>\n",
              "      <td>3677</td>\n",
              "      <td>3489</td>\n",
              "      <td>3410</td>\n",
              "      <td>2991</td>\n",
              "      <td>2866</td>\n",
              "      <td>3101</td>\n",
              "      <td>3280</td>\n",
              "      <td>...</td>\n",
              "      <td>365</td>\n",
              "      <td>324</td>\n",
              "      <td>270</td>\n",
              "      <td>199</td>\n",
              "      <td>131</td>\n",
              "      <td>70</td>\n",
              "      <td>95</td>\n",
              "      <td>101</td>\n",
              "      <td>76</td>\n",
              "      <td>75</td>\n",
              "      <td>98</td>\n",
              "      <td>105</td>\n",
              "      <td>124</td>\n",
              "      <td>134</td>\n",
              "      <td>138</td>\n",
              "      <td>135</td>\n",
              "      <td>140</td>\n",
              "      <td>123</td>\n",
              "      <td>118</td>\n",
              "      <td>111</td>\n",
              "      <td>112</td>\n",
              "      <td>123</td>\n",
              "      <td>119</td>\n",
              "      <td>110</td>\n",
              "      <td>114</td>\n",
              "      <td>103</td>\n",
              "      <td>95</td>\n",
              "      <td>107</td>\n",
              "      <td>98</td>\n",
              "      <td>113</td>\n",
              "      <td>102</td>\n",
              "      <td>85</td>\n",
              "      <td>67</td>\n",
              "      <td>89</td>\n",
              "      <td>79</td>\n",
              "      <td>55</td>\n",
              "      <td>52</td>\n",
              "      <td>51</td>\n",
              "      <td>56</td>\n",
              "      <td>0</td>\n",
              "    </tr>\n",
              "    <tr>\n",
              "      <th>3</th>\n",
              "      <td>3908</td>\n",
              "      <td>3889</td>\n",
              "      <td>3594</td>\n",
              "      <td>3343</td>\n",
              "      <td>2975</td>\n",
              "      <td>2813</td>\n",
              "      <td>2665</td>\n",
              "      <td>2445</td>\n",
              "      <td>2532</td>\n",
              "      <td>2489</td>\n",
              "      <td>2423</td>\n",
              "      <td>2328</td>\n",
              "      <td>2209</td>\n",
              "      <td>2039</td>\n",
              "      <td>1944</td>\n",
              "      <td>1871</td>\n",
              "      <td>1850</td>\n",
              "      <td>1700</td>\n",
              "      <td>1616</td>\n",
              "      <td>1564</td>\n",
              "      <td>1493</td>\n",
              "      <td>1398</td>\n",
              "      <td>1356</td>\n",
              "      <td>1345</td>\n",
              "      <td>1271</td>\n",
              "      <td>1463</td>\n",
              "      <td>2046</td>\n",
              "      <td>2243</td>\n",
              "      <td>2939</td>\n",
              "      <td>3522</td>\n",
              "      <td>3582</td>\n",
              "      <td>2506</td>\n",
              "      <td>3674</td>\n",
              "      <td>3793</td>\n",
              "      <td>3590</td>\n",
              "      <td>3536</td>\n",
              "      <td>3125</td>\n",
              "      <td>2942</td>\n",
              "      <td>3194</td>\n",
              "      <td>3397</td>\n",
              "      <td>...</td>\n",
              "      <td>370</td>\n",
              "      <td>324</td>\n",
              "      <td>263</td>\n",
              "      <td>200</td>\n",
              "      <td>143</td>\n",
              "      <td>68</td>\n",
              "      <td>100</td>\n",
              "      <td>103</td>\n",
              "      <td>85</td>\n",
              "      <td>74</td>\n",
              "      <td>86</td>\n",
              "      <td>111</td>\n",
              "      <td>126</td>\n",
              "      <td>139</td>\n",
              "      <td>147</td>\n",
              "      <td>125</td>\n",
              "      <td>121</td>\n",
              "      <td>125</td>\n",
              "      <td>120</td>\n",
              "      <td>106</td>\n",
              "      <td>116</td>\n",
              "      <td>117</td>\n",
              "      <td>106</td>\n",
              "      <td>110</td>\n",
              "      <td>118</td>\n",
              "      <td>109</td>\n",
              "      <td>107</td>\n",
              "      <td>106</td>\n",
              "      <td>108</td>\n",
              "      <td>103</td>\n",
              "      <td>94</td>\n",
              "      <td>75</td>\n",
              "      <td>61</td>\n",
              "      <td>73</td>\n",
              "      <td>64</td>\n",
              "      <td>50</td>\n",
              "      <td>57</td>\n",
              "      <td>48</td>\n",
              "      <td>45</td>\n",
              "      <td>0</td>\n",
              "    </tr>\n",
              "    <tr>\n",
              "      <th>4</th>\n",
              "      <td>4007</td>\n",
              "      <td>3926</td>\n",
              "      <td>3767</td>\n",
              "      <td>3445</td>\n",
              "      <td>3038</td>\n",
              "      <td>2945</td>\n",
              "      <td>2914</td>\n",
              "      <td>2588</td>\n",
              "      <td>2616</td>\n",
              "      <td>2624</td>\n",
              "      <td>2608</td>\n",
              "      <td>2509</td>\n",
              "      <td>2347</td>\n",
              "      <td>2176</td>\n",
              "      <td>2099</td>\n",
              "      <td>2002</td>\n",
              "      <td>1982</td>\n",
              "      <td>1889</td>\n",
              "      <td>1775</td>\n",
              "      <td>1687</td>\n",
              "      <td>1705</td>\n",
              "      <td>1531</td>\n",
              "      <td>1530</td>\n",
              "      <td>1454</td>\n",
              "      <td>1450</td>\n",
              "      <td>1631</td>\n",
              "      <td>2222</td>\n",
              "      <td>2426</td>\n",
              "      <td>3174</td>\n",
              "      <td>3859</td>\n",
              "      <td>3855</td>\n",
              "      <td>2711</td>\n",
              "      <td>4073</td>\n",
              "      <td>4139</td>\n",
              "      <td>3992</td>\n",
              "      <td>3948</td>\n",
              "      <td>3447</td>\n",
              "      <td>3264</td>\n",
              "      <td>3517</td>\n",
              "      <td>3747</td>\n",
              "      <td>...</td>\n",
              "      <td>380</td>\n",
              "      <td>327</td>\n",
              "      <td>259</td>\n",
              "      <td>198</td>\n",
              "      <td>142</td>\n",
              "      <td>67</td>\n",
              "      <td>102</td>\n",
              "      <td>116</td>\n",
              "      <td>94</td>\n",
              "      <td>68</td>\n",
              "      <td>82</td>\n",
              "      <td>116</td>\n",
              "      <td>127</td>\n",
              "      <td>147</td>\n",
              "      <td>154</td>\n",
              "      <td>118</td>\n",
              "      <td>106</td>\n",
              "      <td>122</td>\n",
              "      <td>120</td>\n",
              "      <td>106</td>\n",
              "      <td>119</td>\n",
              "      <td>106</td>\n",
              "      <td>97</td>\n",
              "      <td>112</td>\n",
              "      <td>119</td>\n",
              "      <td>122</td>\n",
              "      <td>119</td>\n",
              "      <td>113</td>\n",
              "      <td>111</td>\n",
              "      <td>94</td>\n",
              "      <td>88</td>\n",
              "      <td>63</td>\n",
              "      <td>57</td>\n",
              "      <td>62</td>\n",
              "      <td>51</td>\n",
              "      <td>49</td>\n",
              "      <td>56</td>\n",
              "      <td>42</td>\n",
              "      <td>41</td>\n",
              "      <td>0</td>\n",
              "    </tr>\n",
              "  </tbody>\n",
              "</table>\n",
              "<p>5 rows × 146 columns</p>\n",
              "</div>"
            ],
            "text/plain": [
              "    0     1     2     3     4     5     6    ...  139  140  141  142  143  144  145\n",
              "0  3996  3952  3698  3457  3063  2914  2796  ...   89   77   73   60   53   54    0\n",
              "1  3996  3952  3698  3457  3063  2914  2796  ...   93   80   69   59   54   57    0\n",
              "2  4100  3923  3615  3451  2941  2886  2850  ...   89   79   55   52   51   56    0\n",
              "3  3908  3889  3594  3343  2975  2813  2665  ...   73   64   50   57   48   45    0\n",
              "4  4007  3926  3767  3445  3038  2945  2914  ...   62   51   49   56   42   41    0\n",
              "\n",
              "[5 rows x 146 columns]"
            ]
          },
          "metadata": {
            "tags": []
          },
          "execution_count": 40
        }
      ]
    },
    {
      "cell_type": "markdown",
      "metadata": {
        "id": "Gx_1RuBeqr5N",
        "colab_type": "text"
      },
      "source": [
        "### Droping the row if ground_truth value is zero"
      ]
    },
    {
      "cell_type": "code",
      "metadata": {
        "id": "w5W1G0Gnqr5O",
        "colab_type": "code",
        "outputId": "8d6829ed-c2e0-4ac4-a9ba-172f66f1c458",
        "colab": {
          "base_uri": "https://localhost:8080/",
          "height": 34
        }
      },
      "source": [
        "print(\"Percentage of column which will be droped\",(data.size - data[data[145] == 0].size)/data.size,\"%\")"
      ],
      "execution_count": 41,
      "outputs": [
        {
          "output_type": "stream",
          "text": [
            "Percentage of column which will be droped 0.008595867208672087 %\n"
          ],
          "name": "stdout"
        }
      ]
    },
    {
      "cell_type": "code",
      "metadata": {
        "id": "ktKi_hPWqr5T",
        "colab_type": "code",
        "colab": {}
      },
      "source": [
        "data = data[data.iloc[:, -1] != 0]"
      ],
      "execution_count": 0,
      "outputs": []
    },
    {
      "cell_type": "markdown",
      "metadata": {
        "id": "QGpof4FQcQXQ",
        "colab_type": "text"
      },
      "source": [
        ""
      ]
    },
    {
      "cell_type": "markdown",
      "metadata": {
        "id": "cShDTWysqr5W",
        "colab_type": "text"
      },
      "source": [
        "### Spliting the data into feature and target"
      ]
    },
    {
      "cell_type": "code",
      "metadata": {
        "id": "Go8a2eIMqr5X",
        "colab_type": "code",
        "colab": {}
      },
      "source": [
        "X = data.iloc[:, :-1]\n",
        "y = data.iloc[:,-1]"
      ],
      "execution_count": 0,
      "outputs": []
    },
    {
      "cell_type": "markdown",
      "metadata": {
        "id": "pMEDNN3_1ctn",
        "colab_type": "text"
      },
      "source": [
        "### Correlation between the features"
      ]
    },
    {
      "cell_type": "code",
      "metadata": {
        "id": "bGy8ax6u1byo",
        "colab_type": "code",
        "colab": {}
      },
      "source": [
        "# import seaborn as sns\n",
        "# import matplotlib.pyplot as plt\n",
        "\n",
        "# plt.figure(figsize=(150, 200))\n",
        "# sns.heatmap(X.corr(), annot=True, vmin=-1, vmax=1, center= 0)"
      ],
      "execution_count": 0,
      "outputs": []
    },
    {
      "cell_type": "markdown",
      "metadata": {
        "id": "uKLpBTla_ErW",
        "colab_type": "text"
      },
      "source": [
        ""
      ]
    },
    {
      "cell_type": "markdown",
      "metadata": {
        "id": "AcA_i82K-rM-",
        "colab_type": "text"
      },
      "source": [
        "### Feature Selection\n"
      ]
    },
    {
      "cell_type": "code",
      "metadata": {
        "id": "jie3RWu-_ee3",
        "colab_type": "code",
        "colab": {}
      },
      "source": [
        "from sklearn.feature_selection import SelectKBest\n",
        "from sklearn.feature_selection import chi2, f_classif, mutual_info_classif\n",
        "\n",
        "X = SelectKBest(f_classif, k=100).fit_transform(X, y)"
      ],
      "execution_count": 0,
      "outputs": []
    },
    {
      "cell_type": "markdown",
      "metadata": {
        "id": "ktbZr3Leo99F",
        "colab_type": "text"
      },
      "source": [
        "### OneHotEncoding the target column"
      ]
    },
    {
      "cell_type": "code",
      "metadata": {
        "id": "2VRfB2AicayJ",
        "colab_type": "code",
        "colab": {}
      },
      "source": [
        "onehotencoder = OneHotEncoder() \n",
        "y = onehotencoder.fit_transform(np.array(y).reshape(-1,1)).toarray() "
      ],
      "execution_count": 0,
      "outputs": []
    },
    {
      "cell_type": "markdown",
      "metadata": {
        "id": "2oeXMTbgpITF",
        "colab_type": "text"
      },
      "source": [
        "### Standardizing the feature columns"
      ]
    },
    {
      "cell_type": "code",
      "metadata": {
        "id": "cSFPgGw0pPam",
        "colab_type": "code",
        "colab": {}
      },
      "source": [
        "X = preprocessing.scale(X)"
      ],
      "execution_count": 0,
      "outputs": []
    },
    {
      "cell_type": "markdown",
      "metadata": {
        "id": "DRtV7aDDqr5a",
        "colab_type": "text"
      },
      "source": [
        "### Spliting the data into training and testing set "
      ]
    },
    {
      "cell_type": "code",
      "metadata": {
        "id": "DattLTVzqr5b",
        "colab_type": "code",
        "colab": {}
      },
      "source": [
        "X_train, X_test, y_train, y_test = train_test_split(X, y, test_size=0.15, random_state=1)#0.25 0.15"
      ],
      "execution_count": 0,
      "outputs": []
    },
    {
      "cell_type": "markdown",
      "metadata": {
        "id": "XGXhrD1dHUBb",
        "colab_type": "text"
      },
      "source": [
        "# Genetic Algorithm using pyeasyga "
      ]
    },
    {
      "cell_type": "code",
      "metadata": {
        "id": "NaOOGkde0cFg",
        "colab_type": "code",
        "outputId": "241c447e-6dda-45ca-8911-b8d91eaff287",
        "colab": {
          "base_uri": "https://localhost:8080/",
          "height": 258
        }
      },
      "source": [
        "from pyeasyga import pyeasyga\n",
        "import random\n",
        "import numpy as np\n",
        "from sklearn.metrics import accuracy_score\n",
        "import time\n",
        "\n",
        "def initilialize_population():\n",
        "    # beta_1 beta_2 epsilon\n",
        "\n",
        "    hidden_layer_sizes = []\n",
        "    for i in range(200):\n",
        "      hidden_layer = []\n",
        "      for i in range(5):\n",
        "        hidden_layer.append(random.randrange(50, 250))\n",
        "      hidden_layer_sizes.append(hidden_layer)\n",
        "      \n",
        "    alpha = list(np.logspace(-5, 3, 9))\n",
        "    batch_size = list(range(200, 1001, 50))\n",
        "    learning_rate_init = np.logspace(-1,-5, 5)\n",
        "    n_iter_no_change = list(range(10,310, 10))\n",
        "\n",
        "    population = []\n",
        "    population.append(hidden_layer_sizes)\n",
        "    population.append(alpha)\n",
        "    population.append(batch_size)\n",
        "    population.append(learning_rate_init)\n",
        "    population.append(n_iter_no_change)\n",
        "\n",
        "    return list(population)\n",
        "\n",
        "def create_individual(data):\n",
        "  choice = []\n",
        "  for i in range(len(data)):\n",
        "    choice.append(random.choice(list(range(len(data[i])))))\n",
        "  return choice\n",
        "\n",
        "def fitness_function(individual, data):\n",
        "  model = MLPClassifier(\n",
        "                      hidden_layer_sizes=data[0][individual[0]],\n",
        "                      activation='relu',\n",
        "                      solver='adam',\n",
        "                      alpha=data[1][individual[1]],\n",
        "                      batch_size=data[2][individual[2]],\n",
        "                      learning_rate='constant',\n",
        "                      learning_rate_init=data[3][individual[3]],\n",
        "                      power_t=0.5,\n",
        "                      max_iter=1000,\n",
        "                      shuffle=True,\n",
        "                      random_state=1,\n",
        "                      tol=0.0001,\n",
        "                      verbose=False,\n",
        "                      warm_start=False,\n",
        "                      momentum=0.9,\n",
        "                      nesterovs_momentum=True,\n",
        "                      early_stopping=False,\n",
        "                      validation_fraction=0.18,#0.33 0.18\n",
        "                      beta_1=0.9,\n",
        "                      beta_2=0.999,\n",
        "                      epsilon=1e-08,\n",
        "                      n_iter_no_change=data[4][individual[4]],\n",
        "                      max_fun=15000)\n",
        "  \n",
        "  model.fit(X_train, y_train)\n",
        "  prediction = model.predict(X_test)\n",
        "  score = accuracy_score(y_test, prediction)\n",
        "  return score\n",
        "  \n",
        "\n",
        "data = initilialize_population()\n",
        "ga = pyeasyga.GeneticAlgorithm(seed_data=data,\n",
        "                               population_size=3,\n",
        "                               generations=3,\n",
        "                               crossover_probability=0.8,\n",
        "                               mutation_probability=0.4,\n",
        "                               elitism=True,\n",
        "                               maximise_fitness=True)\n",
        "ga.create_individual = create_individual\n",
        "ga.fitness_function = fitness_function\n",
        "\n",
        "start = time.time()\n",
        "ga.run()\n",
        "end = time.time()\n",
        "print('Time taken ------>', end-start)"
      ],
      "execution_count": 49,
      "outputs": [
        {
          "output_type": "stream",
          "text": [
            "/usr/local/lib/python3.6/dist-packages/sklearn/neural_network/_multilayer_perceptron.py:571: ConvergenceWarning: Stochastic Optimizer: Maximum iterations (1000) reached and the optimization hasn't converged yet.\n",
            "  % self.max_iter, ConvergenceWarning)\n",
            "/usr/local/lib/python3.6/dist-packages/sklearn/neural_network/_multilayer_perceptron.py:571: ConvergenceWarning: Stochastic Optimizer: Maximum iterations (1000) reached and the optimization hasn't converged yet.\n",
            "  % self.max_iter, ConvergenceWarning)\n",
            "/usr/local/lib/python3.6/dist-packages/sklearn/neural_network/_multilayer_perceptron.py:571: ConvergenceWarning: Stochastic Optimizer: Maximum iterations (1000) reached and the optimization hasn't converged yet.\n",
            "  % self.max_iter, ConvergenceWarning)\n",
            "/usr/local/lib/python3.6/dist-packages/sklearn/neural_network/_multilayer_perceptron.py:571: ConvergenceWarning: Stochastic Optimizer: Maximum iterations (1000) reached and the optimization hasn't converged yet.\n",
            "  % self.max_iter, ConvergenceWarning)\n",
            "/usr/local/lib/python3.6/dist-packages/sklearn/neural_network/_multilayer_perceptron.py:571: ConvergenceWarning: Stochastic Optimizer: Maximum iterations (1000) reached and the optimization hasn't converged yet.\n",
            "  % self.max_iter, ConvergenceWarning)\n"
          ],
          "name": "stderr"
        },
        {
          "output_type": "stream",
          "text": [
            "Time taken ------> 922.641674041748\n"
          ],
          "name": "stdout"
        },
        {
          "output_type": "stream",
          "text": [
            "/usr/local/lib/python3.6/dist-packages/sklearn/neural_network/_multilayer_perceptron.py:571: ConvergenceWarning: Stochastic Optimizer: Maximum iterations (1000) reached and the optimization hasn't converged yet.\n",
            "  % self.max_iter, ConvergenceWarning)\n"
          ],
          "name": "stderr"
        }
      ]
    },
    {
      "cell_type": "code",
      "metadata": {
        "id": "elQmUaTJBQkQ",
        "colab_type": "code",
        "colab": {
          "base_uri": "https://localhost:8080/",
          "height": 34
        },
        "outputId": "c82e72af-3c1f-45e2-b7ed-68b65b8674ad"
      },
      "source": [
        "ga.best_individual()"
      ],
      "execution_count": 50,
      "outputs": [
        {
          "output_type": "execute_result",
          "data": {
            "text/plain": [
              "(0.9651639344262295, [99, 4, 0, 3, 18])"
            ]
          },
          "metadata": {
            "tags": []
          },
          "execution_count": 50
        }
      ]
    },
    {
      "cell_type": "code",
      "metadata": {
        "id": "6p7jR3vVkHXh",
        "colab_type": "code",
        "colab": {
          "base_uri": "https://localhost:8080/",
          "height": 68
        },
        "outputId": "418984bf-728b-4253-89b3-29323851b7a7"
      },
      "source": [
        "list(ga.last_generation())"
      ],
      "execution_count": 51,
      "outputs": [
        {
          "output_type": "execute_result",
          "data": {
            "text/plain": [
              "[(0.9651639344262295, [99, 4, 0, 3, 18]),\n",
              " (0.9569672131147541, [12, 0, 12, 3, 18]),\n",
              " (0.0, [12, 8, 12, 3, 0])]"
            ]
          },
          "metadata": {
            "tags": []
          },
          "execution_count": 51
        }
      ]
    },
    {
      "cell_type": "code",
      "metadata": {
        "id": "Pnn9JmSZkkma",
        "colab_type": "code",
        "colab": {
          "base_uri": "https://localhost:8080/",
          "height": 102
        },
        "outputId": "e2621289-1aa3-43c1-b0d9-8bd9c4086948"
      },
      "source": [
        "best_parameters = ga.best_individual()[1]\n",
        "for index,i in enumerate(data):\n",
        "  print(i[best_parameters[index]])"
      ],
      "execution_count": 52,
      "outputs": [
        {
          "output_type": "stream",
          "text": [
            "[227, 135, 202, 59, 135]\n",
            "0.1\n",
            "200\n",
            "0.0001\n",
            "190\n"
          ],
          "name": "stdout"
        }
      ]
    },
    {
      "cell_type": "code",
      "metadata": {
        "id": "bWY0TIQ1Wx3f",
        "colab_type": "code",
        "colab": {}
      },
      "source": [
        "# import time\n",
        "# start = time.time()\n",
        "# model = POGA(numberOfParents=4, numParents=2, X_train=X_train, X_test=X_test, y_train=y_train, y_test=y_test, generationNumber=3)\n",
        "# end = time.time()\n",
        "# print('time taken', end-start)"
      ],
      "execution_count": 0,
      "outputs": []
    },
    {
      "cell_type": "code",
      "metadata": {
        "id": "OZTsCSdGj8tq",
        "colab_type": "code",
        "colab": {}
      },
      "source": [
        "# best_parameters = model.best_parameters()\n",
        "# best_parameters"
      ],
      "execution_count": 0,
      "outputs": []
    },
    {
      "cell_type": "code",
      "metadata": {
        "id": "oA-UnnIKo8JI",
        "colab_type": "code",
        "colab": {}
      },
      "source": [
        "# model.score_list"
      ],
      "execution_count": 0,
      "outputs": []
    },
    {
      "cell_type": "code",
      "metadata": {
        "id": "TDkl6QWElPrA",
        "colab_type": "code",
        "colab": {}
      },
      "source": [
        "# import seaborn as sns \n",
        "# sns.heatmap(model.score_list, annot=True, vmin=0, vmax=1, center= 0)"
      ],
      "execution_count": 0,
      "outputs": []
    },
    {
      "cell_type": "markdown",
      "metadata": {
        "id": "Gc1LQ2MLqr5e",
        "colab_type": "text"
      },
      "source": [
        "## Preparing ANN model \n",
        "### Defining the model\n",
        "[Link to learn about the parameters](https://scikit-learn.org/stable/modules/generated/sklearn.neural_network.MLPClassifier.html)\n"
      ]
    },
    {
      "cell_type": "code",
      "metadata": {
        "id": "rWQgr4vtqr5g",
        "colab_type": "code",
        "colab": {}
      },
      "source": [
        "# model = MLPClassifier(hidden_layer_sizes=tuple(best_parameters['hidden_layer_sizes']),\n",
        "#                       activation='relu',\n",
        "#                       solver='adam',\n",
        "#                       alpha=best_parameters['alpha'],\n",
        "#                       batch_size=best_parameters['batch_size'],\n",
        "#                       learning_rate='constant',\n",
        "#                       learning_rate_init=best_parameters['learning_rate_init'],\n",
        "#                       power_t=0.5,\n",
        "#                       max_iter=1000,\n",
        "#                       shuffle=True,\n",
        "#                       random_state=1,\n",
        "#                       tol=0.0001,\n",
        "#                       verbose=False,\n",
        "#                       warm_start=True,\n",
        "#                       momentum=0.9,\n",
        "#                       nesterovs_momentum=True,\n",
        "#                       early_stopping=False,\n",
        "#                       validation_fraction=0.18,#0.33 0.18\n",
        "#                       beta_1=0.9,\n",
        "#                       beta_2=0.999,\n",
        "#                       epsilon=1e-08,\n",
        "#                       n_iter_no_change=best_parameters['n_iter_no_change'],\n",
        "#                       max_fun=15000)"
      ],
      "execution_count": 0,
      "outputs": []
    },
    {
      "cell_type": "markdown",
      "metadata": {
        "id": "XELwBndEqr5l",
        "colab_type": "text"
      },
      "source": [
        "### Fitting the model"
      ]
    },
    {
      "cell_type": "code",
      "metadata": {
        "id": "UVw238aeqr5m",
        "colab_type": "code",
        "colab": {}
      },
      "source": [
        "# model.fit(X_train,y_train)"
      ],
      "execution_count": 0,
      "outputs": []
    },
    {
      "cell_type": "markdown",
      "metadata": {
        "id": "sX3r0ZE0qr5z",
        "colab_type": "text"
      },
      "source": [
        "## Accuracy"
      ]
    },
    {
      "cell_type": "code",
      "metadata": {
        "id": "FtnChScYqr6C",
        "colab_type": "code",
        "colab": {}
      },
      "source": [
        "# model.score(X_train,y_train)"
      ],
      "execution_count": 0,
      "outputs": []
    },
    {
      "cell_type": "markdown",
      "metadata": {
        "id": "e9qS2xN_qr5s",
        "colab_type": "text"
      },
      "source": [
        "# Prediction "
      ]
    },
    {
      "cell_type": "code",
      "metadata": {
        "id": "c6FWrIN8CkvZ",
        "colab_type": "code",
        "colab": {}
      },
      "source": [
        "# from sklearn.metrics import accuracy_score, f1_score, precision_score, recall_score, classification_report, confusion_matrix,cohen_kappa_score\n",
        "# prediction = model.predict(X_test)"
      ],
      "execution_count": 0,
      "outputs": []
    },
    {
      "cell_type": "code",
      "metadata": {
        "id": "G8yGpSWSiWpO",
        "colab_type": "code",
        "colab": {}
      },
      "source": [
        "# accuracy_score(y_test, prediction)"
      ],
      "execution_count": 0,
      "outputs": []
    },
    {
      "cell_type": "code",
      "metadata": {
        "id": "JhLCi-ON7r3q",
        "colab_type": "code",
        "colab": {}
      },
      "source": [
        "# precision_score(y_test, prediction,average=\"weighted\")"
      ],
      "execution_count": 0,
      "outputs": []
    },
    {
      "cell_type": "code",
      "metadata": {
        "id": "_v2W84p57wok",
        "colab_type": "code",
        "colab": {}
      },
      "source": [
        "# recall_score(y_test, prediction, average=\"weighted\")"
      ],
      "execution_count": 0,
      "outputs": []
    },
    {
      "cell_type": "code",
      "metadata": {
        "id": "bRLQYy2p7-pM",
        "colab_type": "code",
        "colab": {}
      },
      "source": [
        "# f1_score(y_test, prediction, average=\"weighted\")"
      ],
      "execution_count": 0,
      "outputs": []
    },
    {
      "cell_type": "code",
      "metadata": {
        "id": "qb9yuuRuO1Sy",
        "colab_type": "code",
        "colab": {}
      },
      "source": [
        "# cohen_kappa_score(y_test.argmax(axis=1), prediction.argmax(axis=1), labels=list(x for x in range(1,17)), weights=None, sample_weight=None)"
      ],
      "execution_count": 0,
      "outputs": []
    },
    {
      "cell_type": "code",
      "metadata": {
        "id": "IKt6JroFRSV3",
        "colab_type": "code",
        "colab": {}
      },
      "source": [
        "# print(classification_report(y_test, prediction, target_names=label_values))"
      ],
      "execution_count": 0,
      "outputs": []
    }
  ]
}