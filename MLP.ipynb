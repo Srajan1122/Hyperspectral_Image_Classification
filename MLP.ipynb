{
  "nbformat": 4,
  "nbformat_minor": 0,
  "metadata": {
    "kernelspec": {
      "display_name": "Python 3",
      "language": "python",
      "name": "python3"
    },
    "language_info": {
      "codemirror_mode": {
        "name": "ipython",
        "version": 3
      },
      "file_extension": ".py",
      "mimetype": "text/x-python",
      "name": "python",
      "nbconvert_exporter": "python",
      "pygments_lexer": "ipython3",
      "version": "3.8.2"
    },
    "colab": {
      "name": "MLP.ipynb",
      "provenance": [],
      "collapsed_sections": [],
      "include_colab_link": true
    }
  },
  "cells": [
    {
      "cell_type": "markdown",
      "metadata": {
        "id": "view-in-github",
        "colab_type": "text"
      },
      "source": [
        "<a href=\"https://colab.research.google.com/github/Srajan1122/Hyperspectral_Image_Classification/blob/srajan/MLP.ipynb\" target=\"_parent\"><img src=\"https://colab.research.google.com/assets/colab-badge.svg\" alt=\"Open In Colab\"/></a>"
      ]
    },
    {
      "cell_type": "code",
      "metadata": {
        "id": "tGQzPvRrhdRB",
        "colab_type": "code",
        "outputId": "1fe96a96-163d-42b0-b6c4-e9bceef2e383",
        "colab": {
          "base_uri": "https://localhost:8080/",
          "height": 51
        }
      },
      "source": [
        "!pip install pyeasyga"
      ],
      "execution_count": 1,
      "outputs": [
        {
          "output_type": "stream",
          "text": [
            "Requirement already satisfied: pyeasyga in /usr/local/lib/python3.6/dist-packages (0.3.1)\n",
            "Requirement already satisfied: six in /usr/local/lib/python3.6/dist-packages (from pyeasyga) (1.12.0)\n"
          ],
          "name": "stdout"
        }
      ]
    },
    {
      "cell_type": "code",
      "metadata": {
        "id": "sPaR_PMpqr4R",
        "colab_type": "code",
        "colab": {}
      },
      "source": [
        "from scipy import io\n",
        "import numpy as np\n",
        "import pandas as pd\n",
        "from sklearn.model_selection import train_test_split\n",
        "from sklearn.neural_network import MLPClassifier\n",
        "from sklearn.preprocessing import OneHotEncoder \n",
        "from sklearn import preprocessing"
      ],
      "execution_count": 0,
      "outputs": []
    },
    {
      "cell_type": "code",
      "metadata": {
        "id": "Z_Hm1EnarlHU",
        "colab_type": "code",
        "outputId": "3e0dfdfb-4ce0-4724-83f7-6c56044d267e",
        "colab": {
          "base_uri": "https://localhost:8080/",
          "height": 54
        }
      },
      "source": [
        "from google.colab import drive\n",
        "drive.mount('/content/drive')"
      ],
      "execution_count": 3,
      "outputs": [
        {
          "output_type": "stream",
          "text": [
            "Drive already mounted at /content/drive; to attempt to forcibly remount, call drive.mount(\"/content/drive\", force_remount=True).\n"
          ],
          "name": "stdout"
        }
      ]
    },
    {
      "cell_type": "markdown",
      "metadata": {
        "id": "bv6E_d9vk2r8",
        "colab_type": "text"
      },
      "source": [
        "# Genetic Algorithm for Optimizing the parameters"
      ]
    },
    {
      "cell_type": "code",
      "metadata": {
        "colab_type": "code",
        "id": "DxeZjNPxWbLT",
        "colab": {}
      },
      "source": [
        "# import random\n",
        "# from sklearn.metrics import f1_score\n",
        "# import numpy as np\n",
        "\n",
        "# class POGA:\n",
        "#   def __init__(self, numberOfParents, X_train, X_test, y_train, y_test, numParents, generationNumber):\n",
        "#     self.score_list = []\n",
        "#     self.population_list = []\n",
        "#     self.current_score = []\n",
        "#     self.start_population = self.initilialize_population(numberOfParents)\n",
        "    \n",
        "#     for i in range(generationNumber):\n",
        "#       print('Generation',i+1, 'started')\n",
        "#       self.score = self.train_population(self.start_population, X_train, X_test, y_train, y_test, i, numParents, self.current_score)\n",
        "#       self.current_score = self.score.copy()\n",
        "#       print('Current score', self.current_score)\n",
        "#       self.score_list.append(self.score.copy())\n",
        "#       print(self.score_list)\n",
        "\n",
        "#       self.best_parents = self.new_parents_selection(self.start_population, self.score, numParents)\n",
        "    \n",
        "#       self.childrens = self.crossover_uniform(self.best_parents,\n",
        "#                                               (len(self.start_population)-len(self.best_parents),len(self.start_population[0]))\n",
        "#                                               )                                  \n",
        "      \n",
        "#       self.mutated_childrens = self.mutation(self.childrens, 5)\n",
        "\n",
        "#       self.start_population = self.best_parents + self.mutated_childrens\n",
        "#       self.population_list.append(self.start_population)\n",
        "#       print('Generation',i+1, 'finished')\n",
        "\n",
        "\n",
        "#   def initilialize_population(self, numberOfParents):\n",
        "#     hidden_layer_sizes = []\n",
        "#     alpha =[]\n",
        "#     batch_size = []\n",
        "#     learning_rate_init = []\n",
        "#     n_iter_no_change = []\n",
        "#     # beta_1 beta_2 epsilon\n",
        "\n",
        "#     for i in range(numberOfParents):\n",
        "\n",
        "#       hidden_layer = []\n",
        "#       for i in range(5):\n",
        "#         hidden_layer.append(random.randrange(16, 150))\n",
        "\n",
        "#       hidden_layer_sizes.append(hidden_layer)\n",
        "#       alpha.append(random.choice(np.logspace(-5, 5, 11)))\n",
        "#       batch_size.append(random.randrange(200, 1000, 10)) \n",
        "#       learning_rate_init.append(random.choice(np.logspace(-1,-5, 5)))\n",
        "#       n_iter_no_change.append(random.randrange(1, 500, 10))\n",
        "\n",
        "#     population = zip(hidden_layer_sizes,\n",
        "#                      alpha,\n",
        "#                      batch_size,\n",
        "#                      learning_rate_init,\n",
        "#                      n_iter_no_change)\n",
        "#     return list(population)\n",
        "\n",
        "#   def train_population(self, population, X_train, X_test, y_train, y_test, count, numParents, current_score):\n",
        "#     Fscore = []\n",
        "#     for index,i in enumerate(list(population)):\n",
        "#       if count != 0 and index < numParents:\n",
        "#         print('in training---->', count)\n",
        "#         Fscore.append(max(current_score))\n",
        "#         current_score.remove(max(current_score))\n",
        "#         continue\n",
        "\n",
        "#       model = MLPClassifier(\n",
        "#                       hidden_layer_sizes=i[0],\n",
        "#                       activation='relu',\n",
        "#                       solver='adam',\n",
        "#                       alpha=i[1],\n",
        "#                       batch_size=i[2],\n",
        "#                       learning_rate='constant',\n",
        "#                       learning_rate_init=i[3],\n",
        "#                       power_t=0.5,\n",
        "#                       max_iter=1000,\n",
        "#                       shuffle=True,\n",
        "#                       random_state=1,\n",
        "#                       tol=0.0001,\n",
        "#                       verbose=False,\n",
        "#                       warm_start=False,\n",
        "#                       momentum=0.9,\n",
        "#                       nesterovs_momentum=True,\n",
        "#                       early_stopping=False,\n",
        "#                       validation_fraction=0.18,#0.33 0.18\n",
        "#                       beta_1=0.9,\n",
        "#                       beta_2=0.999,\n",
        "#                       epsilon=1e-08,\n",
        "#                       n_iter_no_change=i[4],\n",
        "#                       max_fun=15000)\n",
        "#       model.fit(X_train, y_train)\n",
        "#       prediction = model.predict(X_test)\n",
        "#       Fscore.append(f1_score(y_test, prediction, average=\"weighted\"))\n",
        "\n",
        "#     return Fscore\n",
        "\n",
        "#   def new_parents_selection(self, population, fitness, numParents):\n",
        "#     new_parents = []\n",
        "#     for i in range(numParents):\n",
        "#       max_fitness_index = fitness.index(max(fitness))\n",
        "#       new_parents.append(population[max_fitness_index])\n",
        "#       fitness[max_fitness_index] = -1\n",
        "#     return new_parents\n",
        "\n",
        "#   def crossover_uniform(self, parents, children_size):\n",
        "#     crossoverPointIndex = np.arange(0, np.uint8(children_size[1]), 1, dtype= np.uint8)\n",
        "#     crossoverPointIndex1 = np.random.randint(0, np.uint8(children_size[1]), np.uint8(children_size[1]/2))\n",
        "#     crossoverPointIndex2 = np.array(list(set(crossoverPointIndex) - set(crossoverPointIndex1)))\n",
        "\n",
        "#     children = [[0]*children_size[1]]*children_size[0]\n",
        "\n",
        "#     for i in range(children_size[0]):\n",
        "#       parent1_index = i%len(parents)\n",
        "#       parent2_index = (i+1)%len(parents)\n",
        "#       for j in crossoverPointIndex1:\n",
        "#         children[i][j] = parents[parent1_index][j]\n",
        "#       for j in crossoverPointIndex2:\n",
        "#         children[i][j] = parents[parent1_index][j]\n",
        "\n",
        "#     return children\n",
        "\n",
        "#   def mutation(self, crossover, numberOfParameters):\n",
        "#     minMaxValue = np.zeros((numberOfParameters, 2))\n",
        "\n",
        "#     minMaxValue[0:] = [16, 150] # hidden_layer_sizes\n",
        "#     minMaxValue[1:] = [0.00001, 10000] # alpha\n",
        "#     minMaxValue[2:] = [200, 1000] # batch_size\n",
        "#     minMaxValue[3:] = [0.000001, 0.1] # learning_rate_init\n",
        "#     minMaxValue[4:] = [1,500] # n_iter_no_change\n",
        "\n",
        "#     parameterSelect = random.randint(0, numberOfParameters-1)\n",
        "#     if parameterSelect == 0:\n",
        "#       mutationValue = random.choice(list(range(-30,40,10)))\n",
        "#     elif parameterSelect == 1:\n",
        "#       mutationValue = random.choice([0.1,10])\n",
        "#     elif parameterSelect == 2:\n",
        "#       mutationValue = random.randint(-50, 30)\n",
        "#     elif parameterSelect == 3:\n",
        "#       mutationValue = random.choice([0.1,10])\n",
        "#     elif parameterSelect == 4:\n",
        "#       mutationValue = random.randint(-50, 50)\n",
        "\n",
        "#     for i in crossover:\n",
        "#       if parameterSelect == 2 or parameterSelect == 4:\n",
        "#         i[parameterSelect] = i[parameterSelect] + mutationValue\n",
        "#       elif parameterSelect == 1 or parameterSelect == 3:\n",
        "#         i[parameterSelect] = i[parameterSelect] * mutationValue\n",
        "#       elif parameterSelect == 0:\n",
        "#         for j in range(len(i[parameterSelect])):\n",
        "#           if(random.choice([True,False])):\n",
        "#             i[parameterSelect][j] = i[parameterSelect][j] + mutationValue\n",
        "#             if i[parameterSelect][j]  < minMaxValue[parameterSelect, 0]:\n",
        "#                i[parameterSelect][j] = minMaxValue[parameterSelect, 0]\n",
        "#             if i[parameterSelect][j]  > minMaxValue[parameterSelect, 1]:\n",
        "#                i[parameterSelect][j] = minMaxValue[parameterSelect, 1]\n",
        "#         return crossover\n",
        "\n",
        "#       if i[parameterSelect] < minMaxValue[parameterSelect, 0]:\n",
        "#         i[parameterSelect] = minMaxValue[parameterSelect, 0]\n",
        "#       elif i[parameterSelect] > minMaxValue[parameterSelect, 1]:\n",
        "#         i[parameterSelect] = minMaxValue[parameterSelect, 1]\n",
        "\n",
        "#     return crossover\n",
        "  \n",
        "#   def best_parameters(self):\n",
        "#     best_index = self.score_list[-1].index(max(self.score_list[-1]))\n",
        "#     parameters = self.population_list[-1][best_index]\n",
        "#     best_parameters = {}\n",
        "#     best_parameters['hidden_layer_sizes'] = parameters[0]\n",
        "#     best_parameters['alpha'] = parameters[1]\n",
        "#     best_parameters['batch_size'] = parameters[2]\n",
        "#     best_parameters['learning_rate_init'] = parameters[3]\n",
        "#     best_parameters['n_iter_no_change'] = parameters[4]\n",
        "\n",
        "#     return best_parameters\n"
      ],
      "execution_count": 0,
      "outputs": []
    },
    {
      "cell_type": "markdown",
      "metadata": {
        "id": "rm2wKCIeqr4a",
        "colab_type": "text"
      },
      "source": [
        "## Loading DataSet\n",
        "### Dataset include image and a ground truth"
      ]
    },
    {
      "cell_type": "code",
      "metadata": {
        "id": "4dtzTWYbqr4c",
        "colab_type": "code",
        "colab": {}
      },
      "source": [
        "loaded_dataset = io.loadmat('/content/drive/My Drive/Srajan/Internship/SEM4-LeadingindiaAI/Tasks/Datasets/PaviaC/Pavia.mat')\n",
        "for key, value in loaded_dataset.items():\n",
        "  if isinstance(value, type(np.array([1]))):\n",
        "    image = loaded_dataset[key]"
      ],
      "execution_count": 0,
      "outputs": []
    },
    {
      "cell_type": "code",
      "metadata": {
        "id": "o91U13klqr4j",
        "colab_type": "code",
        "colab": {}
      },
      "source": [
        "ground_truth_1 = io.loadmat('/content/drive/My Drive/Srajan/Internship/SEM4-LeadingindiaAI/Tasks/Datasets/PaviaC/Pavia_gt.mat')\n",
        "for key, value in ground_truth_1.items():\n",
        "  if isinstance(value, type(np.array([1]))):\n",
        "    ground_truth = ground_truth_1[key]"
      ],
      "execution_count": 0,
      "outputs": []
    },
    {
      "cell_type": "code",
      "metadata": {
        "id": "n7rkki-EWoix",
        "colab_type": "code",
        "colab": {}
      },
      "source": [
        "import spectral as sp\n",
        "sp.save_rgb('gt.jpg', ground_truth, colors=sp.spy_colors)"
      ],
      "execution_count": 0,
      "outputs": []
    },
    {
      "cell_type": "markdown",
      "metadata": {
        "id": "O_ctG247SqUA",
        "colab_type": "text"
      },
      "source": [
        "### Class Labels"
      ]
    },
    {
      "cell_type": "code",
      "metadata": {
        "id": "1BX_iYn1SpDn",
        "colab_type": "code",
        "colab": {}
      },
      "source": [
        "label_values = [\"Alfalfa\", \"Corn-notill\", \"Corn-mintill\",\n",
        "                        \"Corn\", \"Grass-pasture\", \"Grass-trees\",\n",
        "                        \"Grass-pasture-mowed\", \"Hay-windrowed\", \"Oats\",\n",
        "                        \"Soybean-notill\", \"Soybean-mintill\", \"Soybean-clean\",\n",
        "                        \"Wheat\", \"Woods\", \"Buildings-Grass-Trees-Drives\",\n",
        "                        \"Stone-Steel-Towers\"]"
      ],
      "execution_count": 0,
      "outputs": []
    },
    {
      "cell_type": "markdown",
      "metadata": {
        "id": "BEmg8p8eqr4q",
        "colab_type": "text"
      },
      "source": [
        "### Resizing the data"
      ]
    },
    {
      "cell_type": "code",
      "metadata": {
        "id": "GM_fTNbcqr4r",
        "colab_type": "code",
        "colab": {}
      },
      "source": [
        "image_with_gt = np.dstack((image, ground_truth))"
      ],
      "execution_count": 0,
      "outputs": []
    },
    {
      "cell_type": "code",
      "metadata": {
        "id": "Q9Zi3M51qr41",
        "colab_type": "code",
        "colab": {}
      },
      "source": [
        "final_output = image_with_gt.reshape(ground_truth.size, image.shape[2]+1)"
      ],
      "execution_count": 0,
      "outputs": []
    },
    {
      "cell_type": "markdown",
      "metadata": {
        "id": "Wuvox2x0qr47",
        "colab_type": "text"
      },
      "source": [
        "### Visualizing data in pandas"
      ]
    },
    {
      "cell_type": "code",
      "metadata": {
        "id": "w1vjwrxOqr4-",
        "colab_type": "code",
        "colab": {}
      },
      "source": [
        "data = pd.DataFrame(final_output)"
      ],
      "execution_count": 0,
      "outputs": []
    },
    {
      "cell_type": "code",
      "metadata": {
        "id": "wPO3FjPSqr5H",
        "colab_type": "code",
        "outputId": "16000cca-8124-4301-beda-c3d32ef322f0",
        "colab": {
          "base_uri": "https://localhost:8080/",
          "height": 253
        }
      },
      "source": [
        "data.head()"
      ],
      "execution_count": 12,
      "outputs": [
        {
          "output_type": "execute_result",
          "data": {
            "text/html": [
              "<div>\n",
              "<style scoped>\n",
              "    .dataframe tbody tr th:only-of-type {\n",
              "        vertical-align: middle;\n",
              "    }\n",
              "\n",
              "    .dataframe tbody tr th {\n",
              "        vertical-align: top;\n",
              "    }\n",
              "\n",
              "    .dataframe thead th {\n",
              "        text-align: right;\n",
              "    }\n",
              "</style>\n",
              "<table border=\"1\" class=\"dataframe\">\n",
              "  <thead>\n",
              "    <tr style=\"text-align: right;\">\n",
              "      <th></th>\n",
              "      <th>0</th>\n",
              "      <th>1</th>\n",
              "      <th>2</th>\n",
              "      <th>3</th>\n",
              "      <th>4</th>\n",
              "      <th>5</th>\n",
              "      <th>6</th>\n",
              "      <th>7</th>\n",
              "      <th>8</th>\n",
              "      <th>9</th>\n",
              "      <th>10</th>\n",
              "      <th>11</th>\n",
              "      <th>12</th>\n",
              "      <th>13</th>\n",
              "      <th>14</th>\n",
              "      <th>15</th>\n",
              "      <th>16</th>\n",
              "      <th>17</th>\n",
              "      <th>18</th>\n",
              "      <th>19</th>\n",
              "      <th>20</th>\n",
              "      <th>21</th>\n",
              "      <th>22</th>\n",
              "      <th>23</th>\n",
              "      <th>24</th>\n",
              "      <th>25</th>\n",
              "      <th>26</th>\n",
              "      <th>27</th>\n",
              "      <th>28</th>\n",
              "      <th>29</th>\n",
              "      <th>30</th>\n",
              "      <th>31</th>\n",
              "      <th>32</th>\n",
              "      <th>33</th>\n",
              "      <th>34</th>\n",
              "      <th>35</th>\n",
              "      <th>36</th>\n",
              "      <th>37</th>\n",
              "      <th>38</th>\n",
              "      <th>39</th>\n",
              "      <th>...</th>\n",
              "      <th>63</th>\n",
              "      <th>64</th>\n",
              "      <th>65</th>\n",
              "      <th>66</th>\n",
              "      <th>67</th>\n",
              "      <th>68</th>\n",
              "      <th>69</th>\n",
              "      <th>70</th>\n",
              "      <th>71</th>\n",
              "      <th>72</th>\n",
              "      <th>73</th>\n",
              "      <th>74</th>\n",
              "      <th>75</th>\n",
              "      <th>76</th>\n",
              "      <th>77</th>\n",
              "      <th>78</th>\n",
              "      <th>79</th>\n",
              "      <th>80</th>\n",
              "      <th>81</th>\n",
              "      <th>82</th>\n",
              "      <th>83</th>\n",
              "      <th>84</th>\n",
              "      <th>85</th>\n",
              "      <th>86</th>\n",
              "      <th>87</th>\n",
              "      <th>88</th>\n",
              "      <th>89</th>\n",
              "      <th>90</th>\n",
              "      <th>91</th>\n",
              "      <th>92</th>\n",
              "      <th>93</th>\n",
              "      <th>94</th>\n",
              "      <th>95</th>\n",
              "      <th>96</th>\n",
              "      <th>97</th>\n",
              "      <th>98</th>\n",
              "      <th>99</th>\n",
              "      <th>100</th>\n",
              "      <th>101</th>\n",
              "      <th>102</th>\n",
              "    </tr>\n",
              "  </thead>\n",
              "  <tbody>\n",
              "    <tr>\n",
              "      <th>0</th>\n",
              "      <td>854</td>\n",
              "      <td>601</td>\n",
              "      <td>350</td>\n",
              "      <td>266</td>\n",
              "      <td>138</td>\n",
              "      <td>118</td>\n",
              "      <td>178</td>\n",
              "      <td>194</td>\n",
              "      <td>257</td>\n",
              "      <td>269</td>\n",
              "      <td>239</td>\n",
              "      <td>243</td>\n",
              "      <td>220</td>\n",
              "      <td>191</td>\n",
              "      <td>173</td>\n",
              "      <td>150</td>\n",
              "      <td>125</td>\n",
              "      <td>131</td>\n",
              "      <td>137</td>\n",
              "      <td>172</td>\n",
              "      <td>195</td>\n",
              "      <td>218</td>\n",
              "      <td>255</td>\n",
              "      <td>291</td>\n",
              "      <td>320</td>\n",
              "      <td>346</td>\n",
              "      <td>347</td>\n",
              "      <td>368</td>\n",
              "      <td>404</td>\n",
              "      <td>428</td>\n",
              "      <td>429</td>\n",
              "      <td>416</td>\n",
              "      <td>394</td>\n",
              "      <td>368</td>\n",
              "      <td>357</td>\n",
              "      <td>361</td>\n",
              "      <td>369</td>\n",
              "      <td>368</td>\n",
              "      <td>351</td>\n",
              "      <td>328</td>\n",
              "      <td>...</td>\n",
              "      <td>219</td>\n",
              "      <td>239</td>\n",
              "      <td>289</td>\n",
              "      <td>366</td>\n",
              "      <td>482</td>\n",
              "      <td>632</td>\n",
              "      <td>814</td>\n",
              "      <td>1005</td>\n",
              "      <td>1225</td>\n",
              "      <td>1464</td>\n",
              "      <td>1732</td>\n",
              "      <td>2044</td>\n",
              "      <td>2383</td>\n",
              "      <td>2716</td>\n",
              "      <td>2985</td>\n",
              "      <td>3203</td>\n",
              "      <td>3385</td>\n",
              "      <td>3538</td>\n",
              "      <td>3667</td>\n",
              "      <td>3696</td>\n",
              "      <td>3548</td>\n",
              "      <td>3608</td>\n",
              "      <td>3744</td>\n",
              "      <td>3792</td>\n",
              "      <td>3802</td>\n",
              "      <td>3815</td>\n",
              "      <td>3836</td>\n",
              "      <td>3827</td>\n",
              "      <td>3765</td>\n",
              "      <td>3752</td>\n",
              "      <td>3759</td>\n",
              "      <td>3773</td>\n",
              "      <td>3779</td>\n",
              "      <td>3752</td>\n",
              "      <td>3690</td>\n",
              "      <td>3671</td>\n",
              "      <td>3664</td>\n",
              "      <td>3636</td>\n",
              "      <td>3643</td>\n",
              "      <td>0</td>\n",
              "    </tr>\n",
              "    <tr>\n",
              "      <th>1</th>\n",
              "      <td>527</td>\n",
              "      <td>642</td>\n",
              "      <td>575</td>\n",
              "      <td>294</td>\n",
              "      <td>123</td>\n",
              "      <td>168</td>\n",
              "      <td>207</td>\n",
              "      <td>154</td>\n",
              "      <td>209</td>\n",
              "      <td>299</td>\n",
              "      <td>299</td>\n",
              "      <td>278</td>\n",
              "      <td>235</td>\n",
              "      <td>181</td>\n",
              "      <td>181</td>\n",
              "      <td>236</td>\n",
              "      <td>256</td>\n",
              "      <td>253</td>\n",
              "      <td>225</td>\n",
              "      <td>202</td>\n",
              "      <td>221</td>\n",
              "      <td>256</td>\n",
              "      <td>321</td>\n",
              "      <td>358</td>\n",
              "      <td>385</td>\n",
              "      <td>429</td>\n",
              "      <td>492</td>\n",
              "      <td>533</td>\n",
              "      <td>554</td>\n",
              "      <td>553</td>\n",
              "      <td>557</td>\n",
              "      <td>580</td>\n",
              "      <td>561</td>\n",
              "      <td>522</td>\n",
              "      <td>525</td>\n",
              "      <td>513</td>\n",
              "      <td>474</td>\n",
              "      <td>435</td>\n",
              "      <td>412</td>\n",
              "      <td>401</td>\n",
              "      <td>...</td>\n",
              "      <td>254</td>\n",
              "      <td>305</td>\n",
              "      <td>349</td>\n",
              "      <td>401</td>\n",
              "      <td>508</td>\n",
              "      <td>681</td>\n",
              "      <td>888</td>\n",
              "      <td>1076</td>\n",
              "      <td>1297</td>\n",
              "      <td>1577</td>\n",
              "      <td>1855</td>\n",
              "      <td>2117</td>\n",
              "      <td>2456</td>\n",
              "      <td>2772</td>\n",
              "      <td>3002</td>\n",
              "      <td>3205</td>\n",
              "      <td>3388</td>\n",
              "      <td>3526</td>\n",
              "      <td>3629</td>\n",
              "      <td>3665</td>\n",
              "      <td>3586</td>\n",
              "      <td>3653</td>\n",
              "      <td>3747</td>\n",
              "      <td>3813</td>\n",
              "      <td>3831</td>\n",
              "      <td>3829</td>\n",
              "      <td>3841</td>\n",
              "      <td>3885</td>\n",
              "      <td>3916</td>\n",
              "      <td>3907</td>\n",
              "      <td>3873</td>\n",
              "      <td>3902</td>\n",
              "      <td>3921</td>\n",
              "      <td>3861</td>\n",
              "      <td>3854</td>\n",
              "      <td>3882</td>\n",
              "      <td>3834</td>\n",
              "      <td>3725</td>\n",
              "      <td>3768</td>\n",
              "      <td>0</td>\n",
              "    </tr>\n",
              "    <tr>\n",
              "      <th>2</th>\n",
              "      <td>374</td>\n",
              "      <td>322</td>\n",
              "      <td>179</td>\n",
              "      <td>87</td>\n",
              "      <td>169</td>\n",
              "      <td>268</td>\n",
              "      <td>360</td>\n",
              "      <td>339</td>\n",
              "      <td>286</td>\n",
              "      <td>309</td>\n",
              "      <td>340</td>\n",
              "      <td>305</td>\n",
              "      <td>206</td>\n",
              "      <td>202</td>\n",
              "      <td>269</td>\n",
              "      <td>256</td>\n",
              "      <td>246</td>\n",
              "      <td>226</td>\n",
              "      <td>218</td>\n",
              "      <td>275</td>\n",
              "      <td>318</td>\n",
              "      <td>356</td>\n",
              "      <td>395</td>\n",
              "      <td>425</td>\n",
              "      <td>461</td>\n",
              "      <td>520</td>\n",
              "      <td>587</td>\n",
              "      <td>623</td>\n",
              "      <td>621</td>\n",
              "      <td>617</td>\n",
              "      <td>636</td>\n",
              "      <td>657</td>\n",
              "      <td>665</td>\n",
              "      <td>670</td>\n",
              "      <td>645</td>\n",
              "      <td>610</td>\n",
              "      <td>576</td>\n",
              "      <td>547</td>\n",
              "      <td>532</td>\n",
              "      <td>523</td>\n",
              "      <td>...</td>\n",
              "      <td>369</td>\n",
              "      <td>418</td>\n",
              "      <td>484</td>\n",
              "      <td>590</td>\n",
              "      <td>754</td>\n",
              "      <td>969</td>\n",
              "      <td>1201</td>\n",
              "      <td>1460</td>\n",
              "      <td>1716</td>\n",
              "      <td>2002</td>\n",
              "      <td>2319</td>\n",
              "      <td>2690</td>\n",
              "      <td>3055</td>\n",
              "      <td>3368</td>\n",
              "      <td>3666</td>\n",
              "      <td>3901</td>\n",
              "      <td>4082</td>\n",
              "      <td>4258</td>\n",
              "      <td>4372</td>\n",
              "      <td>4392</td>\n",
              "      <td>4231</td>\n",
              "      <td>4256</td>\n",
              "      <td>4419</td>\n",
              "      <td>4495</td>\n",
              "      <td>4501</td>\n",
              "      <td>4472</td>\n",
              "      <td>4486</td>\n",
              "      <td>4499</td>\n",
              "      <td>4453</td>\n",
              "      <td>4404</td>\n",
              "      <td>4443</td>\n",
              "      <td>4472</td>\n",
              "      <td>4428</td>\n",
              "      <td>4353</td>\n",
              "      <td>4306</td>\n",
              "      <td>4284</td>\n",
              "      <td>4318</td>\n",
              "      <td>4311</td>\n",
              "      <td>4321</td>\n",
              "      <td>0</td>\n",
              "    </tr>\n",
              "    <tr>\n",
              "      <th>3</th>\n",
              "      <td>706</td>\n",
              "      <td>520</td>\n",
              "      <td>560</td>\n",
              "      <td>572</td>\n",
              "      <td>425</td>\n",
              "      <td>243</td>\n",
              "      <td>271</td>\n",
              "      <td>272</td>\n",
              "      <td>258</td>\n",
              "      <td>276</td>\n",
              "      <td>299</td>\n",
              "      <td>313</td>\n",
              "      <td>320</td>\n",
              "      <td>336</td>\n",
              "      <td>299</td>\n",
              "      <td>274</td>\n",
              "      <td>322</td>\n",
              "      <td>361</td>\n",
              "      <td>358</td>\n",
              "      <td>377</td>\n",
              "      <td>387</td>\n",
              "      <td>396</td>\n",
              "      <td>415</td>\n",
              "      <td>486</td>\n",
              "      <td>564</td>\n",
              "      <td>624</td>\n",
              "      <td>668</td>\n",
              "      <td>680</td>\n",
              "      <td>696</td>\n",
              "      <td>728</td>\n",
              "      <td>753</td>\n",
              "      <td>721</td>\n",
              "      <td>700</td>\n",
              "      <td>713</td>\n",
              "      <td>690</td>\n",
              "      <td>642</td>\n",
              "      <td>592</td>\n",
              "      <td>560</td>\n",
              "      <td>542</td>\n",
              "      <td>547</td>\n",
              "      <td>...</td>\n",
              "      <td>384</td>\n",
              "      <td>418</td>\n",
              "      <td>481</td>\n",
              "      <td>568</td>\n",
              "      <td>693</td>\n",
              "      <td>865</td>\n",
              "      <td>1057</td>\n",
              "      <td>1259</td>\n",
              "      <td>1478</td>\n",
              "      <td>1714</td>\n",
              "      <td>1971</td>\n",
              "      <td>2261</td>\n",
              "      <td>2548</td>\n",
              "      <td>2818</td>\n",
              "      <td>3135</td>\n",
              "      <td>3377</td>\n",
              "      <td>3564</td>\n",
              "      <td>3731</td>\n",
              "      <td>3820</td>\n",
              "      <td>3814</td>\n",
              "      <td>3710</td>\n",
              "      <td>3770</td>\n",
              "      <td>3904</td>\n",
              "      <td>3976</td>\n",
              "      <td>3967</td>\n",
              "      <td>3973</td>\n",
              "      <td>4032</td>\n",
              "      <td>4078</td>\n",
              "      <td>4040</td>\n",
              "      <td>3992</td>\n",
              "      <td>3972</td>\n",
              "      <td>4006</td>\n",
              "      <td>4032</td>\n",
              "      <td>3975</td>\n",
              "      <td>3946</td>\n",
              "      <td>3954</td>\n",
              "      <td>3944</td>\n",
              "      <td>3936</td>\n",
              "      <td>3939</td>\n",
              "      <td>0</td>\n",
              "    </tr>\n",
              "    <tr>\n",
              "      <th>4</th>\n",
              "      <td>1120</td>\n",
              "      <td>1027</td>\n",
              "      <td>592</td>\n",
              "      <td>414</td>\n",
              "      <td>407</td>\n",
              "      <td>463</td>\n",
              "      <td>417</td>\n",
              "      <td>365</td>\n",
              "      <td>332</td>\n",
              "      <td>334</td>\n",
              "      <td>356</td>\n",
              "      <td>327</td>\n",
              "      <td>296</td>\n",
              "      <td>325</td>\n",
              "      <td>346</td>\n",
              "      <td>308</td>\n",
              "      <td>262</td>\n",
              "      <td>262</td>\n",
              "      <td>292</td>\n",
              "      <td>312</td>\n",
              "      <td>335</td>\n",
              "      <td>394</td>\n",
              "      <td>430</td>\n",
              "      <td>450</td>\n",
              "      <td>491</td>\n",
              "      <td>570</td>\n",
              "      <td>611</td>\n",
              "      <td>616</td>\n",
              "      <td>631</td>\n",
              "      <td>659</td>\n",
              "      <td>686</td>\n",
              "      <td>705</td>\n",
              "      <td>691</td>\n",
              "      <td>667</td>\n",
              "      <td>624</td>\n",
              "      <td>584</td>\n",
              "      <td>570</td>\n",
              "      <td>549</td>\n",
              "      <td>530</td>\n",
              "      <td>517</td>\n",
              "      <td>...</td>\n",
              "      <td>349</td>\n",
              "      <td>365</td>\n",
              "      <td>398</td>\n",
              "      <td>505</td>\n",
              "      <td>677</td>\n",
              "      <td>877</td>\n",
              "      <td>1116</td>\n",
              "      <td>1410</td>\n",
              "      <td>1717</td>\n",
              "      <td>2015</td>\n",
              "      <td>2339</td>\n",
              "      <td>2670</td>\n",
              "      <td>3028</td>\n",
              "      <td>3415</td>\n",
              "      <td>3713</td>\n",
              "      <td>3928</td>\n",
              "      <td>4131</td>\n",
              "      <td>4296</td>\n",
              "      <td>4445</td>\n",
              "      <td>4508</td>\n",
              "      <td>4305</td>\n",
              "      <td>4232</td>\n",
              "      <td>4422</td>\n",
              "      <td>4554</td>\n",
              "      <td>4550</td>\n",
              "      <td>4524</td>\n",
              "      <td>4532</td>\n",
              "      <td>4578</td>\n",
              "      <td>4584</td>\n",
              "      <td>4555</td>\n",
              "      <td>4502</td>\n",
              "      <td>4485</td>\n",
              "      <td>4479</td>\n",
              "      <td>4445</td>\n",
              "      <td>4364</td>\n",
              "      <td>4290</td>\n",
              "      <td>4268</td>\n",
              "      <td>4235</td>\n",
              "      <td>4272</td>\n",
              "      <td>0</td>\n",
              "    </tr>\n",
              "  </tbody>\n",
              "</table>\n",
              "<p>5 rows × 103 columns</p>\n",
              "</div>"
            ],
            "text/plain": [
              "    0     1    2    3    4    5    6    ...   96    97    98    99    100   101  102\n",
              "0   854   601  350  266  138  118  178  ...  3752  3690  3671  3664  3636  3643    0\n",
              "1   527   642  575  294  123  168  207  ...  3861  3854  3882  3834  3725  3768    0\n",
              "2   374   322  179   87  169  268  360  ...  4353  4306  4284  4318  4311  4321    0\n",
              "3   706   520  560  572  425  243  271  ...  3975  3946  3954  3944  3936  3939    0\n",
              "4  1120  1027  592  414  407  463  417  ...  4445  4364  4290  4268  4235  4272    0\n",
              "\n",
              "[5 rows x 103 columns]"
            ]
          },
          "metadata": {
            "tags": []
          },
          "execution_count": 12
        }
      ]
    },
    {
      "cell_type": "markdown",
      "metadata": {
        "id": "Gx_1RuBeqr5N",
        "colab_type": "text"
      },
      "source": [
        "### Droping the row if ground_truth value is zero"
      ]
    },
    {
      "cell_type": "code",
      "metadata": {
        "id": "w5W1G0Gnqr5O",
        "colab_type": "code",
        "outputId": "e5e353d5-95d4-4a99-cbd6-846ef381fa8d",
        "colab": {
          "base_uri": "https://localhost:8080/",
          "height": 34
        }
      },
      "source": [
        "print(\"Percentage of column which will be droped\",(data.size - data[data.iloc[:, -1] == 0].size)/data.size,\"%\")"
      ],
      "execution_count": 13,
      "outputs": [
        {
          "output_type": "stream",
          "text": [
            "Percentage of column which will be droped 0.1890561992751774 %\n"
          ],
          "name": "stdout"
        }
      ]
    },
    {
      "cell_type": "code",
      "metadata": {
        "id": "ktKi_hPWqr5T",
        "colab_type": "code",
        "colab": {}
      },
      "source": [
        "zero_data = data.index[data.iloc[:, -1] == 0].tolist()\n",
        "data = data[data.iloc[:, -1] != 0]"
      ],
      "execution_count": 0,
      "outputs": []
    },
    {
      "cell_type": "markdown",
      "metadata": {
        "id": "QGpof4FQcQXQ",
        "colab_type": "text"
      },
      "source": [
        ""
      ]
    },
    {
      "cell_type": "markdown",
      "metadata": {
        "id": "cShDTWysqr5W",
        "colab_type": "text"
      },
      "source": [
        "### Spliting the data into feature and target"
      ]
    },
    {
      "cell_type": "code",
      "metadata": {
        "id": "Go8a2eIMqr5X",
        "colab_type": "code",
        "colab": {}
      },
      "source": [
        "X = data.iloc[:, :-1]\n",
        "y = data.iloc[:,-1]"
      ],
      "execution_count": 0,
      "outputs": []
    },
    {
      "cell_type": "code",
      "metadata": {
        "id": "tREseCY-6n9l",
        "colab_type": "code",
        "colab": {}
      },
      "source": [
        "number_of_classes = len(np.unique(y))"
      ],
      "execution_count": 0,
      "outputs": []
    },
    {
      "cell_type": "markdown",
      "metadata": {
        "id": "pMEDNN3_1ctn",
        "colab_type": "text"
      },
      "source": [
        "### Correlation between the features"
      ]
    },
    {
      "cell_type": "code",
      "metadata": {
        "id": "bGy8ax6u1byo",
        "colab_type": "code",
        "colab": {}
      },
      "source": [
        "# import seaborn as sns\n",
        "# import matplotlib.pyplot as plt\n",
        "\n",
        "# plt.figure(figsize=(150, 200))\n",
        "# sns.heatmap(X.corr(), annot=True, vmin=-1, vmax=1, center= 0)"
      ],
      "execution_count": 0,
      "outputs": []
    },
    {
      "cell_type": "markdown",
      "metadata": {
        "id": "uKLpBTla_ErW",
        "colab_type": "text"
      },
      "source": [
        ""
      ]
    },
    {
      "cell_type": "markdown",
      "metadata": {
        "id": "AcA_i82K-rM-",
        "colab_type": "text"
      },
      "source": [
        "### Feature Selection\n"
      ]
    },
    {
      "cell_type": "code",
      "metadata": {
        "id": "jie3RWu-_ee3",
        "colab_type": "code",
        "colab": {}
      },
      "source": [
        "from sklearn.feature_selection import SelectKBest\n",
        "from sklearn.feature_selection import chi2, f_classif, mutual_info_classif\n",
        "\n",
        "X = SelectKBest(f_classif, k=int((image.shape[2]+1)*0.75)).fit_transform(X, y)"
      ],
      "execution_count": 0,
      "outputs": []
    },
    {
      "cell_type": "markdown",
      "metadata": {
        "id": "ktbZr3Leo99F",
        "colab_type": "text"
      },
      "source": [
        "### OneHotEncoding the target column"
      ]
    },
    {
      "cell_type": "code",
      "metadata": {
        "id": "2VRfB2AicayJ",
        "colab_type": "code",
        "colab": {}
      },
      "source": [
        "onehotencoder = OneHotEncoder() \n",
        "y = onehotencoder.fit_transform(np.array(y).reshape(-1,1)).toarray() "
      ],
      "execution_count": 0,
      "outputs": []
    },
    {
      "cell_type": "markdown",
      "metadata": {
        "id": "2oeXMTbgpITF",
        "colab_type": "text"
      },
      "source": [
        "### Standardizing the feature columns"
      ]
    },
    {
      "cell_type": "code",
      "metadata": {
        "id": "cSFPgGw0pPam",
        "colab_type": "code",
        "colab": {}
      },
      "source": [
        "X = preprocessing.scale(X)"
      ],
      "execution_count": 0,
      "outputs": []
    },
    {
      "cell_type": "markdown",
      "metadata": {
        "id": "DRtV7aDDqr5a",
        "colab_type": "text"
      },
      "source": [
        "### Spliting the data into training and testing set "
      ]
    },
    {
      "cell_type": "code",
      "metadata": {
        "id": "DattLTVzqr5b",
        "colab_type": "code",
        "colab": {}
      },
      "source": [
        "X_train, X_test, y_train, y_test = train_test_split(X, y, test_size=0.30, random_state=1)#0.25 0.15"
      ],
      "execution_count": 0,
      "outputs": []
    },
    {
      "cell_type": "markdown",
      "metadata": {
        "id": "XGXhrD1dHUBb",
        "colab_type": "text"
      },
      "source": [
        "# Genetic Algorithm using pyeasyga "
      ]
    },
    {
      "cell_type": "code",
      "metadata": {
        "id": "NaOOGkde0cFg",
        "colab_type": "code",
        "outputId": "fd5c21ef-eb8c-4037-ef00-cf5d4336463a",
        "colab": {
          "base_uri": "https://localhost:8080/",
          "height": 1000
        }
      },
      "source": [
        "from pyeasyga import pyeasyga\n",
        "import random\n",
        "import numpy as np\n",
        "from sklearn.metrics import accuracy_score\n",
        "import time\n",
        "\n",
        "count = 1\n",
        "\n",
        "def initilialize_population():\n",
        "    # beta_1 beta_2 epsilon\n",
        "\n",
        "    hidden_layer_sizes = []\n",
        "    for i in range(200):\n",
        "      hidden_layer = []\n",
        "      for i in range(5):\n",
        "        hidden_layer.append(random.randrange(50, 250))\n",
        "      hidden_layer_sizes.append(hidden_layer)\n",
        "      \n",
        "    alpha = list(np.logspace(-5, 3, 9))\n",
        "    batch_size = list(range(400, 1001, 50))\n",
        "    learning_rate_init = np.logspace(-1,-5, 5)\n",
        "    n_iter_no_change = list(range(10,31, 10))\n",
        "\n",
        "    population = []\n",
        "    population.append(hidden_layer_sizes)\n",
        "    population.append(alpha)\n",
        "    population.append(batch_size)\n",
        "    population.append(learning_rate_init)\n",
        "    population.append(n_iter_no_change)\n",
        "\n",
        "    return list(population)\n",
        "\n",
        "def create_individual(data):\n",
        "  choice = []\n",
        "  for i in range(len(data)):\n",
        "    choice.append(random.choice(list(range(len(data[i])))))\n",
        "  return choice\n",
        "\n",
        "def fitness_function(individual, data):\n",
        "  global count\n",
        "  print('Individual no', count)\n",
        "  count += 1\n",
        "  model = MLPClassifier(\n",
        "                      hidden_layer_sizes=data[0][individual[0]],\n",
        "                      activation='relu',\n",
        "                      solver='adam',\n",
        "                      alpha=data[1][individual[1]],\n",
        "                      batch_size=data[2][individual[2]],\n",
        "                      learning_rate='constant',\n",
        "                      learning_rate_init=data[3][individual[3]],\n",
        "                      power_t=0.5,\n",
        "                      max_iter=30,\n",
        "                      shuffle=True,\n",
        "                      random_state=1,\n",
        "                      tol=0.0001,\n",
        "                      verbose=False,\n",
        "                      warm_start=False,\n",
        "                      momentum=0.9,\n",
        "                      nesterovs_momentum=True,\n",
        "                      early_stopping=False,\n",
        "                      validation_fraction=0.40,#0.33 0.18\n",
        "                      beta_1=0.9,\n",
        "                      beta_2=0.999,\n",
        "                      epsilon=1e-08,\n",
        "                      n_iter_no_change=data[4][individual[4]],\n",
        "                      max_fun=15000)\n",
        "  \n",
        "  model.fit(X_train, y_train)\n",
        "  prediction = model.predict(X_test)\n",
        "  score = accuracy_score(y_test, prediction)\n",
        "  print('Score is', score)\n",
        "  return score\n",
        "  \n",
        "\n",
        "data = initilialize_population()\n",
        "ga = pyeasyga.GeneticAlgorithm(seed_data=data,\n",
        "                               population_size=5,\n",
        "                               generations=5,\n",
        "                               crossover_probability=0.8,\n",
        "                               mutation_probability=0.4,\n",
        "                               elitism=True,\n",
        "                               maximise_fitness=True)\n",
        "ga.create_individual = create_individual\n",
        "ga.fitness_function = fitness_function\n",
        "\n",
        "start = time.time()\n",
        "ga.run()\n",
        "end = time.time()\n",
        "print('Time taken ------>', end-start)"
      ],
      "execution_count": 22,
      "outputs": [
        {
          "output_type": "stream",
          "text": [
            "Individual no 1\n"
          ],
          "name": "stdout"
        },
        {
          "output_type": "stream",
          "text": [
            "/usr/local/lib/python3.6/dist-packages/sklearn/neural_network/_multilayer_perceptron.py:571: ConvergenceWarning: Stochastic Optimizer: Maximum iterations (30) reached and the optimization hasn't converged yet.\n",
            "  % self.max_iter, ConvergenceWarning)\n"
          ],
          "name": "stderr"
        },
        {
          "output_type": "stream",
          "text": [
            "Score is 0.6853710120145795\n",
            "Individual no 2\n"
          ],
          "name": "stdout"
        },
        {
          "output_type": "stream",
          "text": [
            "/usr/local/lib/python3.6/dist-packages/sklearn/neural_network/_multilayer_perceptron.py:571: ConvergenceWarning: Stochastic Optimizer: Maximum iterations (30) reached and the optimization hasn't converged yet.\n",
            "  % self.max_iter, ConvergenceWarning)\n"
          ],
          "name": "stderr"
        },
        {
          "output_type": "stream",
          "text": [
            "Score is 0.6961931332403366\n",
            "Individual no 3\n"
          ],
          "name": "stdout"
        },
        {
          "output_type": "stream",
          "text": [
            "/usr/local/lib/python3.6/dist-packages/sklearn/neural_network/_multilayer_perceptron.py:571: ConvergenceWarning: Stochastic Optimizer: Maximum iterations (30) reached and the optimization hasn't converged yet.\n",
            "  % self.max_iter, ConvergenceWarning)\n"
          ],
          "name": "stderr"
        },
        {
          "output_type": "stream",
          "text": [
            "Score is 0.0\n",
            "Individual no 4\n"
          ],
          "name": "stdout"
        },
        {
          "output_type": "stream",
          "text": [
            "/usr/local/lib/python3.6/dist-packages/sklearn/neural_network/_multilayer_perceptron.py:571: ConvergenceWarning: Stochastic Optimizer: Maximum iterations (30) reached and the optimization hasn't converged yet.\n",
            "  % self.max_iter, ConvergenceWarning)\n"
          ],
          "name": "stderr"
        },
        {
          "output_type": "stream",
          "text": [
            "Score is 0.0\n",
            "Individual no 5\n"
          ],
          "name": "stdout"
        },
        {
          "output_type": "stream",
          "text": [
            "/usr/local/lib/python3.6/dist-packages/sklearn/neural_network/_multilayer_perceptron.py:571: ConvergenceWarning: Stochastic Optimizer: Maximum iterations (30) reached and the optimization hasn't converged yet.\n",
            "  % self.max_iter, ConvergenceWarning)\n"
          ],
          "name": "stderr"
        },
        {
          "output_type": "stream",
          "text": [
            "Score is 0.9543490977815776\n",
            "Individual no 6\n"
          ],
          "name": "stdout"
        },
        {
          "output_type": "stream",
          "text": [
            "/usr/local/lib/python3.6/dist-packages/sklearn/neural_network/_multilayer_perceptron.py:571: ConvergenceWarning: Stochastic Optimizer: Maximum iterations (30) reached and the optimization hasn't converged yet.\n",
            "  % self.max_iter, ConvergenceWarning)\n"
          ],
          "name": "stderr"
        },
        {
          "output_type": "stream",
          "text": [
            "Score is 0.9543490977815776\n",
            "Individual no 7\n"
          ],
          "name": "stdout"
        },
        {
          "output_type": "stream",
          "text": [
            "/usr/local/lib/python3.6/dist-packages/sklearn/neural_network/_multilayer_perceptron.py:571: ConvergenceWarning: Stochastic Optimizer: Maximum iterations (30) reached and the optimization hasn't converged yet.\n",
            "  % self.max_iter, ConvergenceWarning)\n"
          ],
          "name": "stderr"
        },
        {
          "output_type": "stream",
          "text": [
            "Score is 0.6955631552895649\n",
            "Individual no 8\n"
          ],
          "name": "stdout"
        },
        {
          "output_type": "stream",
          "text": [
            "/usr/local/lib/python3.6/dist-packages/sklearn/neural_network/_multilayer_perceptron.py:571: ConvergenceWarning: Stochastic Optimizer: Maximum iterations (30) reached and the optimization hasn't converged yet.\n",
            "  % self.max_iter, ConvergenceWarning)\n"
          ],
          "name": "stderr"
        },
        {
          "output_type": "stream",
          "text": [
            "Score is 0.6961931332403366\n",
            "Individual no 9\n"
          ],
          "name": "stdout"
        },
        {
          "output_type": "stream",
          "text": [
            "/usr/local/lib/python3.6/dist-packages/sklearn/neural_network/_multilayer_perceptron.py:571: ConvergenceWarning: Stochastic Optimizer: Maximum iterations (30) reached and the optimization hasn't converged yet.\n",
            "  % self.max_iter, ConvergenceWarning)\n"
          ],
          "name": "stderr"
        },
        {
          "output_type": "stream",
          "text": [
            "Score is 0.7042928497502587\n",
            "Individual no 10\n"
          ],
          "name": "stdout"
        },
        {
          "output_type": "stream",
          "text": [
            "/usr/local/lib/python3.6/dist-packages/sklearn/neural_network/_multilayer_perceptron.py:571: ConvergenceWarning: Stochastic Optimizer: Maximum iterations (30) reached and the optimization hasn't converged yet.\n",
            "  % self.max_iter, ConvergenceWarning)\n"
          ],
          "name": "stderr"
        },
        {
          "output_type": "stream",
          "text": [
            "Score is 0.9790532331368402\n",
            "Individual no 11\n"
          ],
          "name": "stdout"
        },
        {
          "output_type": "stream",
          "text": [
            "/usr/local/lib/python3.6/dist-packages/sklearn/neural_network/_multilayer_perceptron.py:571: ConvergenceWarning: Stochastic Optimizer: Maximum iterations (30) reached and the optimization hasn't converged yet.\n",
            "  % self.max_iter, ConvergenceWarning)\n"
          ],
          "name": "stderr"
        },
        {
          "output_type": "stream",
          "text": [
            "Score is 0.9790532331368402\n",
            "Individual no 12\n"
          ],
          "name": "stdout"
        },
        {
          "output_type": "stream",
          "text": [
            "/usr/local/lib/python3.6/dist-packages/sklearn/neural_network/_multilayer_perceptron.py:571: ConvergenceWarning: Stochastic Optimizer: Maximum iterations (30) reached and the optimization hasn't converged yet.\n",
            "  % self.max_iter, ConvergenceWarning)\n"
          ],
          "name": "stderr"
        },
        {
          "output_type": "stream",
          "text": [
            "Score is 0.9790532331368402\n",
            "Individual no 13\n"
          ],
          "name": "stdout"
        },
        {
          "output_type": "stream",
          "text": [
            "/usr/local/lib/python3.6/dist-packages/sklearn/neural_network/_multilayer_perceptron.py:571: ConvergenceWarning: Stochastic Optimizer: Maximum iterations (30) reached and the optimization hasn't converged yet.\n",
            "  % self.max_iter, ConvergenceWarning)\n"
          ],
          "name": "stderr"
        },
        {
          "output_type": "stream",
          "text": [
            "Score is 0.9790532331368402\n",
            "Individual no 14\n"
          ],
          "name": "stdout"
        },
        {
          "output_type": "stream",
          "text": [
            "/usr/local/lib/python3.6/dist-packages/sklearn/neural_network/_multilayer_perceptron.py:571: ConvergenceWarning: Stochastic Optimizer: Maximum iterations (30) reached and the optimization hasn't converged yet.\n",
            "  % self.max_iter, ConvergenceWarning)\n"
          ],
          "name": "stderr"
        },
        {
          "output_type": "stream",
          "text": [
            "Score is 0.9790532331368402\n",
            "Individual no 15\n"
          ],
          "name": "stdout"
        },
        {
          "output_type": "stream",
          "text": [
            "/usr/local/lib/python3.6/dist-packages/sklearn/neural_network/_multilayer_perceptron.py:571: ConvergenceWarning: Stochastic Optimizer: Maximum iterations (30) reached and the optimization hasn't converged yet.\n",
            "  % self.max_iter, ConvergenceWarning)\n"
          ],
          "name": "stderr"
        },
        {
          "output_type": "stream",
          "text": [
            "Score is 0.9569590064347748\n",
            "Individual no 16\n"
          ],
          "name": "stdout"
        },
        {
          "output_type": "stream",
          "text": [
            "/usr/local/lib/python3.6/dist-packages/sklearn/neural_network/_multilayer_perceptron.py:571: ConvergenceWarning: Stochastic Optimizer: Maximum iterations (30) reached and the optimization hasn't converged yet.\n",
            "  % self.max_iter, ConvergenceWarning)\n"
          ],
          "name": "stderr"
        },
        {
          "output_type": "stream",
          "text": [
            "Score is 0.9790532331368402\n",
            "Individual no 17\n"
          ],
          "name": "stdout"
        },
        {
          "output_type": "stream",
          "text": [
            "/usr/local/lib/python3.6/dist-packages/sklearn/neural_network/_multilayer_perceptron.py:571: ConvergenceWarning: Stochastic Optimizer: Maximum iterations (30) reached and the optimization hasn't converged yet.\n",
            "  % self.max_iter, ConvergenceWarning)\n"
          ],
          "name": "stderr"
        },
        {
          "output_type": "stream",
          "text": [
            "Score is 0.9790532331368402\n",
            "Individual no 18\n"
          ],
          "name": "stdout"
        },
        {
          "output_type": "stream",
          "text": [
            "/usr/local/lib/python3.6/dist-packages/sklearn/neural_network/_multilayer_perceptron.py:571: ConvergenceWarning: Stochastic Optimizer: Maximum iterations (30) reached and the optimization hasn't converged yet.\n",
            "  % self.max_iter, ConvergenceWarning)\n"
          ],
          "name": "stderr"
        },
        {
          "output_type": "stream",
          "text": [
            "Score is 0.9790532331368402\n",
            "Individual no 19\n"
          ],
          "name": "stdout"
        },
        {
          "output_type": "stream",
          "text": [
            "/usr/local/lib/python3.6/dist-packages/sklearn/neural_network/_multilayer_perceptron.py:571: ConvergenceWarning: Stochastic Optimizer: Maximum iterations (30) reached and the optimization hasn't converged yet.\n",
            "  % self.max_iter, ConvergenceWarning)\n"
          ],
          "name": "stderr"
        },
        {
          "output_type": "stream",
          "text": [
            "Score is 0.9790532331368402\n",
            "Individual no 20\n"
          ],
          "name": "stdout"
        },
        {
          "output_type": "stream",
          "text": [
            "/usr/local/lib/python3.6/dist-packages/sklearn/neural_network/_multilayer_perceptron.py:571: ConvergenceWarning: Stochastic Optimizer: Maximum iterations (30) reached and the optimization hasn't converged yet.\n",
            "  % self.max_iter, ConvergenceWarning)\n"
          ],
          "name": "stderr"
        },
        {
          "output_type": "stream",
          "text": [
            "Score is 0.9798632047878324\n",
            "Individual no 21\n"
          ],
          "name": "stdout"
        },
        {
          "output_type": "stream",
          "text": [
            "/usr/local/lib/python3.6/dist-packages/sklearn/neural_network/_multilayer_perceptron.py:571: ConvergenceWarning: Stochastic Optimizer: Maximum iterations (30) reached and the optimization hasn't converged yet.\n",
            "  % self.max_iter, ConvergenceWarning)\n"
          ],
          "name": "stderr"
        },
        {
          "output_type": "stream",
          "text": [
            "Score is 0.9798632047878324\n",
            "Individual no 22\n"
          ],
          "name": "stdout"
        },
        {
          "output_type": "stream",
          "text": [
            "/usr/local/lib/python3.6/dist-packages/sklearn/neural_network/_multilayer_perceptron.py:571: ConvergenceWarning: Stochastic Optimizer: Maximum iterations (30) reached and the optimization hasn't converged yet.\n",
            "  % self.max_iter, ConvergenceWarning)\n"
          ],
          "name": "stderr"
        },
        {
          "output_type": "stream",
          "text": [
            "Score is 0.9769833055843046\n",
            "Individual no 23\n"
          ],
          "name": "stdout"
        },
        {
          "output_type": "stream",
          "text": [
            "/usr/local/lib/python3.6/dist-packages/sklearn/neural_network/_multilayer_perceptron.py:571: ConvergenceWarning: Stochastic Optimizer: Maximum iterations (30) reached and the optimization hasn't converged yet.\n",
            "  % self.max_iter, ConvergenceWarning)\n"
          ],
          "name": "stderr"
        },
        {
          "output_type": "stream",
          "text": [
            "Score is 0.9798632047878324\n",
            "Individual no 24\n"
          ],
          "name": "stdout"
        },
        {
          "output_type": "stream",
          "text": [
            "/usr/local/lib/python3.6/dist-packages/sklearn/neural_network/_multilayer_perceptron.py:571: ConvergenceWarning: Stochastic Optimizer: Maximum iterations (30) reached and the optimization hasn't converged yet.\n",
            "  % self.max_iter, ConvergenceWarning)\n"
          ],
          "name": "stderr"
        },
        {
          "output_type": "stream",
          "text": [
            "Score is 0.9790532331368402\n",
            "Individual no 25\n"
          ],
          "name": "stdout"
        },
        {
          "output_type": "stream",
          "text": [
            "/usr/local/lib/python3.6/dist-packages/sklearn/neural_network/_multilayer_perceptron.py:571: ConvergenceWarning: Stochastic Optimizer: Maximum iterations (30) reached and the optimization hasn't converged yet.\n",
            "  % self.max_iter, ConvergenceWarning)\n"
          ],
          "name": "stderr"
        },
        {
          "output_type": "stream",
          "text": [
            "Score is 0.9798632047878324\n",
            "Time taken ------> 4063.7292165756226\n"
          ],
          "name": "stdout"
        }
      ]
    },
    {
      "cell_type": "code",
      "metadata": {
        "id": "elQmUaTJBQkQ",
        "colab_type": "code",
        "colab": {}
      },
      "source": [
        "# ga.best_individual()"
      ],
      "execution_count": 0,
      "outputs": []
    },
    {
      "cell_type": "code",
      "metadata": {
        "id": "6p7jR3vVkHXh",
        "colab_type": "code",
        "colab": {}
      },
      "source": [
        "# list(ga.last_generation())"
      ],
      "execution_count": 0,
      "outputs": []
    },
    {
      "cell_type": "code",
      "metadata": {
        "id": "Pnn9JmSZkkma",
        "colab_type": "code",
        "outputId": "01ee3c83-bae3-438d-e0e8-27be803e2814",
        "colab": {
          "base_uri": "https://localhost:8080/",
          "height": 119
        }
      },
      "source": [
        "best_parameters = ga.best_individual()[1]\n",
        "for index,i in enumerate(data):\n",
        "  print(i[best_parameters[index]])\n",
        "\n",
        "print(ga.best_individual()[0])"
      ],
      "execution_count": 25,
      "outputs": [
        {
          "output_type": "stream",
          "text": [
            "[152, 132, 106, 209, 193]\n",
            "0.0001\n",
            "400\n",
            "0.0001\n",
            "20\n",
            "0.9798632047878324\n"
          ],
          "name": "stdout"
        }
      ]
    },
    {
      "cell_type": "code",
      "metadata": {
        "id": "bWY0TIQ1Wx3f",
        "colab_type": "code",
        "colab": {}
      },
      "source": [
        "# import time\n",
        "# start = time.time()\n",
        "# model = POGA(numberOfParents=4, numParents=2, X_train=X_train, X_test=X_test, y_train=y_train, y_test=y_test, generationNumber=3)\n",
        "# end = time.time()\n",
        "# print('time taken', end-start)"
      ],
      "execution_count": 0,
      "outputs": []
    },
    {
      "cell_type": "code",
      "metadata": {
        "id": "OZTsCSdGj8tq",
        "colab_type": "code",
        "colab": {}
      },
      "source": [
        "# best_parameters = model.best_parameters()\n",
        "# best_parameters"
      ],
      "execution_count": 0,
      "outputs": []
    },
    {
      "cell_type": "code",
      "metadata": {
        "id": "TDkl6QWElPrA",
        "colab_type": "code",
        "colab": {}
      },
      "source": [
        "# import seaborn as sns \n",
        "# sns.heatmap(model.score_list, annot=True, vmin=0, vmax=1, center= 0)"
      ],
      "execution_count": 0,
      "outputs": []
    },
    {
      "cell_type": "markdown",
      "metadata": {
        "id": "Gc1LQ2MLqr5e",
        "colab_type": "text"
      },
      "source": [
        "## Preparing ANN model \n",
        "### Defining the model\n",
        "[Link to learn about the parameters](https://scikit-learn.org/stable/modules/generated/sklearn.neural_network.MLPClassifier.html)\n"
      ]
    },
    {
      "cell_type": "code",
      "metadata": {
        "id": "rWQgr4vtqr5g",
        "colab_type": "code",
        "colab": {}
      },
      "source": [
        "model = MLPClassifier(hidden_layer_sizes=data[0][best_parameters[0]],\n",
        "                      activation='relu',\n",
        "                      solver='adam',\n",
        "                      alpha=data[1][best_parameters[1]],\n",
        "                      batch_size=data[2][best_parameters[2]],\n",
        "                      learning_rate='constant',\n",
        "                      learning_rate_init=data[3][best_parameters[3]],\n",
        "                      power_t=0.5,\n",
        "                      max_iter=500,\n",
        "                      shuffle=True,\n",
        "                      random_state=1,\n",
        "                      tol=0.0001,\n",
        "                      verbose=False,\n",
        "                      warm_start=True,\n",
        "                      momentum=0.9,\n",
        "                      nesterovs_momentum=True,\n",
        "                      early_stopping=False,\n",
        "                      validation_fraction=0.57,\n",
        "                      beta_1=0.9,\n",
        "                      beta_2=0.999,\n",
        "                      epsilon=1e-08,\n",
        "                      n_iter_no_change=data[4][best_parameters[4]],\n",
        "                      max_fun=15000)"
      ],
      "execution_count": 0,
      "outputs": []
    },
    {
      "cell_type": "code",
      "metadata": {
        "id": "-6H4LnyqEgSF",
        "colab_type": "code",
        "colab": {}
      },
      "source": [
        "# model = MLPClassifier(hidden_layer_sizes=(150, 150, 150, 150, 150),\n",
        "#                       activation='relu',\n",
        "#                       solver='adam',\n",
        "#                       alpha=0.0001,\n",
        "#                       batch_size='auto',\n",
        "#                       learning_rate='constant',\n",
        "#                       learning_rate_init=0.001,\n",
        "#                       power_t=0.5,\n",
        "#                       max_iter=500,\n",
        "#                       shuffle=True,\n",
        "#                       random_state=1,\n",
        "#                       tol=0.0001,\n",
        "#                       verbose=False,\n",
        "#                       warm_start=True,\n",
        "#                       momentum=0.9,\n",
        "#                       nesterovs_momentum=True,\n",
        "#                       early_stopping=False,\n",
        "#                       validation_fraction=0.40,\n",
        "#                       beta_1=0.9,\n",
        "#                       beta_2=0.999,\n",
        "#                       epsilon=1e-08,\n",
        "#                       n_iter_no_change=10,\n",
        "#                       max_fun=15000)"
      ],
      "execution_count": 0,
      "outputs": []
    },
    {
      "cell_type": "markdown",
      "metadata": {
        "id": "XELwBndEqr5l",
        "colab_type": "text"
      },
      "source": [
        "### Fitting the model"
      ]
    },
    {
      "cell_type": "code",
      "metadata": {
        "id": "UVw238aeqr5m",
        "colab_type": "code",
        "outputId": "89b1709b-1235-445a-9258-23218c02ff1f",
        "colab": {
          "base_uri": "https://localhost:8080/",
          "height": 153
        }
      },
      "source": [
        "model.fit(X_train,y_train)"
      ],
      "execution_count": 31,
      "outputs": [
        {
          "output_type": "execute_result",
          "data": {
            "text/plain": [
              "MLPClassifier(activation='relu', alpha=0.0001, batch_size=400, beta_1=0.9,\n",
              "              beta_2=0.999, early_stopping=False, epsilon=1e-08,\n",
              "              hidden_layer_sizes=[152, 132, 106, 209, 193],\n",
              "              learning_rate='constant', learning_rate_init=0.0001,\n",
              "              max_fun=15000, max_iter=500, momentum=0.9, n_iter_no_change=20,\n",
              "              nesterovs_momentum=True, power_t=0.5, random_state=1,\n",
              "              shuffle=True, solver='adam', tol=0.0001, validation_fraction=0.57,\n",
              "              verbose=False, warm_start=True)"
            ]
          },
          "metadata": {
            "tags": []
          },
          "execution_count": 31
        }
      ]
    },
    {
      "cell_type": "markdown",
      "metadata": {
        "id": "sX3r0ZE0qr5z",
        "colab_type": "text"
      },
      "source": [
        "## Accuracy"
      ]
    },
    {
      "cell_type": "code",
      "metadata": {
        "id": "FtnChScYqr6C",
        "colab_type": "code",
        "outputId": "902e8c6d-b50c-450b-cea5-156bd9b6b70c",
        "colab": {
          "base_uri": "https://localhost:8080/",
          "height": 34
        }
      },
      "source": [
        "model.score(X_train,y_train)"
      ],
      "execution_count": 32,
      "outputs": [
        {
          "output_type": "execute_result",
          "data": {
            "text/plain": [
              "0.9967889996721501"
            ]
          },
          "metadata": {
            "tags": []
          },
          "execution_count": 32
        }
      ]
    },
    {
      "cell_type": "markdown",
      "metadata": {
        "id": "e9qS2xN_qr5s",
        "colab_type": "text"
      },
      "source": [
        "# Prediction "
      ]
    },
    {
      "cell_type": "code",
      "metadata": {
        "id": "c6FWrIN8CkvZ",
        "colab_type": "code",
        "colab": {}
      },
      "source": [
        "from sklearn.metrics import accuracy_score, f1_score, precision_score, recall_score, classification_report, confusion_matrix,cohen_kappa_score\n",
        "prediction = model.predict(X_test)"
      ],
      "execution_count": 0,
      "outputs": []
    },
    {
      "cell_type": "code",
      "metadata": {
        "id": "G8yGpSWSiWpO",
        "colab_type": "code",
        "outputId": "525ff658-35fe-494a-8ba0-3b9df3ec2c75",
        "colab": {
          "base_uri": "https://localhost:8080/",
          "height": 34
        }
      },
      "source": [
        "accuracy_score(y_test, prediction)"
      ],
      "execution_count": 34,
      "outputs": [
        {
          "output_type": "execute_result",
          "data": {
            "text/plain": [
              "0.9922152724654637"
            ]
          },
          "metadata": {
            "tags": []
          },
          "execution_count": 34
        }
      ]
    },
    {
      "cell_type": "code",
      "metadata": {
        "id": "JhLCi-ON7r3q",
        "colab_type": "code",
        "outputId": "12e48562-eee3-40db-c82e-b3a4f5b9ab31",
        "colab": {
          "base_uri": "https://localhost:8080/",
          "height": 34
        }
      },
      "source": [
        "precision_score(y_test, prediction,average=\"weighted\")"
      ],
      "execution_count": 35,
      "outputs": [
        {
          "output_type": "execute_result",
          "data": {
            "text/plain": [
              "0.9932518144487558"
            ]
          },
          "metadata": {
            "tags": []
          },
          "execution_count": 35
        }
      ]
    },
    {
      "cell_type": "code",
      "metadata": {
        "id": "_v2W84p57wok",
        "colab_type": "code",
        "outputId": "64d312c0-22e7-4e3a-aa53-979b1b0546dc",
        "colab": {
          "base_uri": "https://localhost:8080/",
          "height": 34
        }
      },
      "source": [
        "recall_score(y_test, prediction, average=\"weighted\")"
      ],
      "execution_count": 36,
      "outputs": [
        {
          "output_type": "execute_result",
          "data": {
            "text/plain": [
              "0.99271025514107"
            ]
          },
          "metadata": {
            "tags": []
          },
          "execution_count": 36
        }
      ]
    },
    {
      "cell_type": "code",
      "metadata": {
        "id": "bRLQYy2p7-pM",
        "colab_type": "code",
        "outputId": "58e39f26-f084-4fd5-cd7b-1efee72bcc63",
        "colab": {
          "base_uri": "https://localhost:8080/",
          "height": 34
        }
      },
      "source": [
        "f1_score(y_test, prediction, average=\"weighted\")"
      ],
      "execution_count": 37,
      "outputs": [
        {
          "output_type": "execute_result",
          "data": {
            "text/plain": [
              "0.9929359634988149"
            ]
          },
          "metadata": {
            "tags": []
          },
          "execution_count": 37
        }
      ]
    },
    {
      "cell_type": "code",
      "metadata": {
        "id": "qb9yuuRuO1Sy",
        "colab_type": "code",
        "outputId": "a3f1608e-e9d3-45d0-ba6c-c22cc5c7d09e",
        "colab": {
          "base_uri": "https://localhost:8080/",
          "height": 34
        }
      },
      "source": [
        "cohen_kappa_score(y_test.argmax(axis=1), prediction.argmax(axis=1), labels=list(x for x in range(1,17)), weights=None, sample_weight=None)"
      ],
      "execution_count": 38,
      "outputs": [
        {
          "output_type": "execute_result",
          "data": {
            "text/plain": [
              "0.9832615179203086"
            ]
          },
          "metadata": {
            "tags": []
          },
          "execution_count": 38
        }
      ]
    },
    {
      "cell_type": "code",
      "metadata": {
        "id": "IKt6JroFRSV3",
        "colab_type": "code",
        "colab": {}
      },
      "source": [
        "# print(classification_report(y_test, prediction, target_names=label_values))"
      ],
      "execution_count": 0,
      "outputs": []
    },
    {
      "cell_type": "code",
      "metadata": {
        "id": "6j5jc4ERs1z3",
        "colab_type": "code",
        "outputId": "2729eb51-6d1b-43b6-f8cb-8186b76a9284",
        "colab": {
          "base_uri": "https://localhost:8080/",
          "height": 51
        }
      },
      "source": [
        "!pip install spectral"
      ],
      "execution_count": 40,
      "outputs": [
        {
          "output_type": "stream",
          "text": [
            "Requirement already satisfied: spectral in /usr/local/lib/python3.6/dist-packages (0.21)\n",
            "Requirement already satisfied: numpy in /usr/local/lib/python3.6/dist-packages (from spectral) (1.18.5)\n"
          ],
          "name": "stdout"
        }
      ]
    },
    {
      "cell_type": "code",
      "metadata": {
        "id": "6c8481SxswlK",
        "colab_type": "code",
        "colab": {}
      },
      "source": [
        "import spectral as sp\n",
        "prediction = model.predict(X)\n",
        "\n",
        "if not len(prediction.shape) == 2:\n",
        "    y_test = [x + 1 for x in y_test]\n",
        "    y_train = [x + 1 for x in y_train]\n",
        "\n",
        "if len(prediction.shape) == 2:\n",
        "    predicted_gt_1 = np.argmax(prediction, axis=1)\n",
        "    predicted_gt_1_list = list(predicted_gt_1)\n",
        "    predicted_gt_1_list = [x + 1 for x in predicted_gt_1_list]\n",
        "else:\n",
        "    predicted_gt_1_list = prediction\n",
        "\n",
        "for i in zero_data:\n",
        "    predicted_gt_1_list.insert(i, 0)\n",
        "\n",
        "predicted_gt_1_list = np.array(predicted_gt_1_list).reshape(image.shape[0], image.shape[1])\n",
        "sp.save_rgb('predicted_gt.jpg', predicted_gt_1_list, colors=sp.spy_colors)\n"
      ],
      "execution_count": 0,
      "outputs": []
    },
    {
      "cell_type": "code",
      "metadata": {
        "id": "y-6pVbegeQfF",
        "colab_type": "code",
        "colab": {}
      },
      "source": [
        ""
      ],
      "execution_count": 0,
      "outputs": []
    }
  ]
}