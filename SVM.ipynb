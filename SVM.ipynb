{
  "nbformat": 4,
  "nbformat_minor": 0,
  "metadata": {
    "colab": {
      "name": "SVM",
      "provenance": [],
      "collapsed_sections": [],
      "include_colab_link": true
    },
    "kernelspec": {
      "name": "python3",
      "display_name": "Python 3"
    }
  },
  "cells": [
    {
      "cell_type": "markdown",
      "metadata": {
        "id": "view-in-github",
        "colab_type": "text"
      },
      "source": [
        "<a href=\"https://colab.research.google.com/github/Srajan1122/Hyperspectral_Image_Classification/blob/srajan/SVM.ipynb\" target=\"_parent\"><img src=\"https://colab.research.google.com/assets/colab-badge.svg\" alt=\"Open In Colab\"/></a>"
      ]
    },
    {
      "cell_type": "code",
      "metadata": {
        "id": "sPaR_PMpqr4R",
        "colab_type": "code",
        "colab": {}
      },
      "source": [
        "from scipy import io\n",
        "import numpy as np\n",
        "import pandas as pd\n",
        "from sklearn.model_selection import train_test_split, KFold, cross_val_score\n",
        "from sklearn.preprocessing import OneHotEncoder \n",
        "from sklearn import preprocessing\n",
        "import sklearn.svm"
      ],
      "execution_count": 0,
      "outputs": []
    },
    {
      "cell_type": "code",
      "metadata": {
        "id": "Z_Hm1EnarlHU",
        "colab_type": "code",
        "outputId": "7e62e197-4c2b-4422-ae45-1fb684ae1bf0",
        "colab": {
          "base_uri": "https://localhost:8080/",
          "height": 34
        }
      },
      "source": [
        "from google.colab import drive\n",
        "drive.mount('/content/drive')"
      ],
      "execution_count": 2,
      "outputs": [
        {
          "output_type": "stream",
          "text": [
            "Drive already mounted at /content/drive; to attempt to forcibly remount, call drive.mount(\"/content/drive\", force_remount=True).\n"
          ],
          "name": "stdout"
        }
      ]
    },
    {
      "cell_type": "markdown",
      "metadata": {
        "id": "rm2wKCIeqr4a",
        "colab_type": "text"
      },
      "source": [
        "## Loading DataSet\n",
        "### Dataset include image and a ground truth"
      ]
    },
    {
      "cell_type": "code",
      "metadata": {
        "id": "YrMszQO4HVkl",
        "colab_type": "code",
        "colab": {}
      },
      "source": [
        "loaded_dataset = io.loadmat('/content/drive/My Drive/Srajan/Internship/SEM4-LeadingindiaAI/Tasks/Datasets/PaviaU/PaviaU.mat')\n",
        "for key, value in loaded_dataset.items():\n",
        "  if isinstance(value, type(np.array([1]))):\n",
        "    image = loaded_dataset[key]"
      ],
      "execution_count": 0,
      "outputs": []
    },
    {
      "cell_type": "code",
      "metadata": {
        "id": "o91U13klqr4j",
        "colab_type": "code",
        "colab": {}
      },
      "source": [
        "ground_truth_1 = io.loadmat('/content/drive/My Drive/Srajan/Internship/SEM4-LeadingindiaAI/Tasks/Datasets/PaviaU/PaviaU_gt.mat')\n",
        "for key, value in ground_truth_1.items():\n",
        "  if isinstance(value, type(np.array([1]))):\n",
        "    ground_truth = ground_truth_1[key]"
      ],
      "execution_count": 0,
      "outputs": []
    },
    {
      "cell_type": "markdown",
      "metadata": {
        "id": "O_ctG247SqUA",
        "colab_type": "text"
      },
      "source": [
        "### Class Labels"
      ]
    },
    {
      "cell_type": "code",
      "metadata": {
        "id": "1BX_iYn1SpDn",
        "colab_type": "code",
        "colab": {}
      },
      "source": [
        "label_values = [\"Alfalfa\", \"Corn-notill\", \"Corn-mintill\",\n",
        "                        \"Corn\", \"Grass-pasture\", \"Grass-trees\",\n",
        "                        \"Grass-pasture-mowed\", \"Hay-windrowed\", \"Oats\",\n",
        "                        \"Soybean-notill\", \"Soybean-mintill\", \"Soybean-clean\",\n",
        "                        \"Wheat\", \"Woods\", \"Buildings-Grass-Trees-Drives\",\n",
        "                        \"Stone-Steel-Towers\"]"
      ],
      "execution_count": 0,
      "outputs": []
    },
    {
      "cell_type": "markdown",
      "metadata": {
        "id": "BEmg8p8eqr4q",
        "colab_type": "text"
      },
      "source": [
        "### Resizing the data"
      ]
    },
    {
      "cell_type": "code",
      "metadata": {
        "id": "GM_fTNbcqr4r",
        "colab_type": "code",
        "colab": {}
      },
      "source": [
        "image_with_gt = np.dstack((image, ground_truth))"
      ],
      "execution_count": 0,
      "outputs": []
    },
    {
      "cell_type": "code",
      "metadata": {
        "id": "Q9Zi3M51qr41",
        "colab_type": "code",
        "colab": {}
      },
      "source": [
        "final_output = image_with_gt.reshape(ground_truth.size, image.shape[2]+1)"
      ],
      "execution_count": 0,
      "outputs": []
    },
    {
      "cell_type": "markdown",
      "metadata": {
        "id": "Wuvox2x0qr47",
        "colab_type": "text"
      },
      "source": [
        "### Visualizing data in pandas"
      ]
    },
    {
      "cell_type": "code",
      "metadata": {
        "id": "w1vjwrxOqr4-",
        "colab_type": "code",
        "colab": {}
      },
      "source": [
        "data = pd.DataFrame(final_output)"
      ],
      "execution_count": 0,
      "outputs": []
    },
    {
      "cell_type": "code",
      "metadata": {
        "id": "wPO3FjPSqr5H",
        "colab_type": "code",
        "outputId": "15bc98f7-fc21-4e22-96e4-7483e9bd3728",
        "colab": {
          "base_uri": "https://localhost:8080/",
          "height": 253
        }
      },
      "source": [
        "data.head()"
      ],
      "execution_count": 9,
      "outputs": [
        {
          "output_type": "execute_result",
          "data": {
            "text/html": [
              "<div>\n",
              "<style scoped>\n",
              "    .dataframe tbody tr th:only-of-type {\n",
              "        vertical-align: middle;\n",
              "    }\n",
              "\n",
              "    .dataframe tbody tr th {\n",
              "        vertical-align: top;\n",
              "    }\n",
              "\n",
              "    .dataframe thead th {\n",
              "        text-align: right;\n",
              "    }\n",
              "</style>\n",
              "<table border=\"1\" class=\"dataframe\">\n",
              "  <thead>\n",
              "    <tr style=\"text-align: right;\">\n",
              "      <th></th>\n",
              "      <th>0</th>\n",
              "      <th>1</th>\n",
              "      <th>2</th>\n",
              "      <th>3</th>\n",
              "      <th>4</th>\n",
              "      <th>5</th>\n",
              "      <th>6</th>\n",
              "      <th>7</th>\n",
              "      <th>8</th>\n",
              "      <th>9</th>\n",
              "      <th>10</th>\n",
              "      <th>11</th>\n",
              "      <th>12</th>\n",
              "      <th>13</th>\n",
              "      <th>14</th>\n",
              "      <th>15</th>\n",
              "      <th>16</th>\n",
              "      <th>17</th>\n",
              "      <th>18</th>\n",
              "      <th>19</th>\n",
              "      <th>20</th>\n",
              "      <th>21</th>\n",
              "      <th>22</th>\n",
              "      <th>23</th>\n",
              "      <th>24</th>\n",
              "      <th>25</th>\n",
              "      <th>26</th>\n",
              "      <th>27</th>\n",
              "      <th>28</th>\n",
              "      <th>29</th>\n",
              "      <th>30</th>\n",
              "      <th>31</th>\n",
              "      <th>32</th>\n",
              "      <th>33</th>\n",
              "      <th>34</th>\n",
              "      <th>35</th>\n",
              "      <th>36</th>\n",
              "      <th>37</th>\n",
              "      <th>38</th>\n",
              "      <th>39</th>\n",
              "      <th>...</th>\n",
              "      <th>64</th>\n",
              "      <th>65</th>\n",
              "      <th>66</th>\n",
              "      <th>67</th>\n",
              "      <th>68</th>\n",
              "      <th>69</th>\n",
              "      <th>70</th>\n",
              "      <th>71</th>\n",
              "      <th>72</th>\n",
              "      <th>73</th>\n",
              "      <th>74</th>\n",
              "      <th>75</th>\n",
              "      <th>76</th>\n",
              "      <th>77</th>\n",
              "      <th>78</th>\n",
              "      <th>79</th>\n",
              "      <th>80</th>\n",
              "      <th>81</th>\n",
              "      <th>82</th>\n",
              "      <th>83</th>\n",
              "      <th>84</th>\n",
              "      <th>85</th>\n",
              "      <th>86</th>\n",
              "      <th>87</th>\n",
              "      <th>88</th>\n",
              "      <th>89</th>\n",
              "      <th>90</th>\n",
              "      <th>91</th>\n",
              "      <th>92</th>\n",
              "      <th>93</th>\n",
              "      <th>94</th>\n",
              "      <th>95</th>\n",
              "      <th>96</th>\n",
              "      <th>97</th>\n",
              "      <th>98</th>\n",
              "      <th>99</th>\n",
              "      <th>100</th>\n",
              "      <th>101</th>\n",
              "      <th>102</th>\n",
              "      <th>103</th>\n",
              "    </tr>\n",
              "  </thead>\n",
              "  <tbody>\n",
              "    <tr>\n",
              "      <th>0</th>\n",
              "      <td>647</td>\n",
              "      <td>499</td>\n",
              "      <td>464</td>\n",
              "      <td>371</td>\n",
              "      <td>291</td>\n",
              "      <td>319</td>\n",
              "      <td>365</td>\n",
              "      <td>322</td>\n",
              "      <td>296</td>\n",
              "      <td>305</td>\n",
              "      <td>277</td>\n",
              "      <td>219</td>\n",
              "      <td>219</td>\n",
              "      <td>222</td>\n",
              "      <td>201</td>\n",
              "      <td>162</td>\n",
              "      <td>157</td>\n",
              "      <td>183</td>\n",
              "      <td>204</td>\n",
              "      <td>194</td>\n",
              "      <td>198</td>\n",
              "      <td>216</td>\n",
              "      <td>249</td>\n",
              "      <td>284</td>\n",
              "      <td>294</td>\n",
              "      <td>322</td>\n",
              "      <td>338</td>\n",
              "      <td>342</td>\n",
              "      <td>336</td>\n",
              "      <td>342</td>\n",
              "      <td>362</td>\n",
              "      <td>365</td>\n",
              "      <td>348</td>\n",
              "      <td>341</td>\n",
              "      <td>324</td>\n",
              "      <td>316</td>\n",
              "      <td>293</td>\n",
              "      <td>274</td>\n",
              "      <td>251</td>\n",
              "      <td>244</td>\n",
              "      <td>...</td>\n",
              "      <td>192</td>\n",
              "      <td>227</td>\n",
              "      <td>287</td>\n",
              "      <td>376</td>\n",
              "      <td>493</td>\n",
              "      <td>633</td>\n",
              "      <td>763</td>\n",
              "      <td>913</td>\n",
              "      <td>1149</td>\n",
              "      <td>1442</td>\n",
              "      <td>1759</td>\n",
              "      <td>2102</td>\n",
              "      <td>2425</td>\n",
              "      <td>2689</td>\n",
              "      <td>2895</td>\n",
              "      <td>3058</td>\n",
              "      <td>3196</td>\n",
              "      <td>3252</td>\n",
              "      <td>3195</td>\n",
              "      <td>3297</td>\n",
              "      <td>3542</td>\n",
              "      <td>3550</td>\n",
              "      <td>3537</td>\n",
              "      <td>3545</td>\n",
              "      <td>3514</td>\n",
              "      <td>3477</td>\n",
              "      <td>3468</td>\n",
              "      <td>3433</td>\n",
              "      <td>3408</td>\n",
              "      <td>3420</td>\n",
              "      <td>3416</td>\n",
              "      <td>3335</td>\n",
              "      <td>3256</td>\n",
              "      <td>3226</td>\n",
              "      <td>3205</td>\n",
              "      <td>3210</td>\n",
              "      <td>3221</td>\n",
              "      <td>3238</td>\n",
              "      <td>3250</td>\n",
              "      <td>0</td>\n",
              "    </tr>\n",
              "    <tr>\n",
              "      <th>1</th>\n",
              "      <td>604</td>\n",
              "      <td>546</td>\n",
              "      <td>527</td>\n",
              "      <td>455</td>\n",
              "      <td>378</td>\n",
              "      <td>377</td>\n",
              "      <td>336</td>\n",
              "      <td>314</td>\n",
              "      <td>324</td>\n",
              "      <td>329</td>\n",
              "      <td>328</td>\n",
              "      <td>326</td>\n",
              "      <td>275</td>\n",
              "      <td>215</td>\n",
              "      <td>197</td>\n",
              "      <td>217</td>\n",
              "      <td>239</td>\n",
              "      <td>258</td>\n",
              "      <td>246</td>\n",
              "      <td>233</td>\n",
              "      <td>241</td>\n",
              "      <td>261</td>\n",
              "      <td>279</td>\n",
              "      <td>300</td>\n",
              "      <td>329</td>\n",
              "      <td>344</td>\n",
              "      <td>341</td>\n",
              "      <td>362</td>\n",
              "      <td>362</td>\n",
              "      <td>367</td>\n",
              "      <td>368</td>\n",
              "      <td>359</td>\n",
              "      <td>345</td>\n",
              "      <td>344</td>\n",
              "      <td>327</td>\n",
              "      <td>302</td>\n",
              "      <td>281</td>\n",
              "      <td>271</td>\n",
              "      <td>270</td>\n",
              "      <td>261</td>\n",
              "      <td>...</td>\n",
              "      <td>152</td>\n",
              "      <td>190</td>\n",
              "      <td>242</td>\n",
              "      <td>301</td>\n",
              "      <td>391</td>\n",
              "      <td>505</td>\n",
              "      <td>633</td>\n",
              "      <td>774</td>\n",
              "      <td>960</td>\n",
              "      <td>1191</td>\n",
              "      <td>1454</td>\n",
              "      <td>1737</td>\n",
              "      <td>2001</td>\n",
              "      <td>2209</td>\n",
              "      <td>2363</td>\n",
              "      <td>2484</td>\n",
              "      <td>2594</td>\n",
              "      <td>2613</td>\n",
              "      <td>2541</td>\n",
              "      <td>2588</td>\n",
              "      <td>2821</td>\n",
              "      <td>2839</td>\n",
              "      <td>2738</td>\n",
              "      <td>2690</td>\n",
              "      <td>2678</td>\n",
              "      <td>2673</td>\n",
              "      <td>2712</td>\n",
              "      <td>2725</td>\n",
              "      <td>2657</td>\n",
              "      <td>2605</td>\n",
              "      <td>2583</td>\n",
              "      <td>2538</td>\n",
              "      <td>2509</td>\n",
              "      <td>2511</td>\n",
              "      <td>2501</td>\n",
              "      <td>2468</td>\n",
              "      <td>2442</td>\n",
              "      <td>2464</td>\n",
              "      <td>2528</td>\n",
              "      <td>0</td>\n",
              "    </tr>\n",
              "    <tr>\n",
              "      <th>2</th>\n",
              "      <td>621</td>\n",
              "      <td>746</td>\n",
              "      <td>556</td>\n",
              "      <td>360</td>\n",
              "      <td>285</td>\n",
              "      <td>300</td>\n",
              "      <td>274</td>\n",
              "      <td>276</td>\n",
              "      <td>332</td>\n",
              "      <td>319</td>\n",
              "      <td>278</td>\n",
              "      <td>255</td>\n",
              "      <td>232</td>\n",
              "      <td>207</td>\n",
              "      <td>210</td>\n",
              "      <td>209</td>\n",
              "      <td>168</td>\n",
              "      <td>139</td>\n",
              "      <td>137</td>\n",
              "      <td>154</td>\n",
              "      <td>168</td>\n",
              "      <td>202</td>\n",
              "      <td>225</td>\n",
              "      <td>231</td>\n",
              "      <td>244</td>\n",
              "      <td>257</td>\n",
              "      <td>263</td>\n",
              "      <td>262</td>\n",
              "      <td>266</td>\n",
              "      <td>276</td>\n",
              "      <td>285</td>\n",
              "      <td>291</td>\n",
              "      <td>285</td>\n",
              "      <td>272</td>\n",
              "      <td>271</td>\n",
              "      <td>241</td>\n",
              "      <td>208</td>\n",
              "      <td>194</td>\n",
              "      <td>179</td>\n",
              "      <td>157</td>\n",
              "      <td>...</td>\n",
              "      <td>116</td>\n",
              "      <td>153</td>\n",
              "      <td>188</td>\n",
              "      <td>243</td>\n",
              "      <td>322</td>\n",
              "      <td>413</td>\n",
              "      <td>492</td>\n",
              "      <td>591</td>\n",
              "      <td>737</td>\n",
              "      <td>933</td>\n",
              "      <td>1125</td>\n",
              "      <td>1327</td>\n",
              "      <td>1519</td>\n",
              "      <td>1666</td>\n",
              "      <td>1790</td>\n",
              "      <td>1934</td>\n",
              "      <td>2029</td>\n",
              "      <td>2034</td>\n",
              "      <td>2010</td>\n",
              "      <td>2069</td>\n",
              "      <td>2191</td>\n",
              "      <td>2233</td>\n",
              "      <td>2245</td>\n",
              "      <td>2249</td>\n",
              "      <td>2255</td>\n",
              "      <td>2250</td>\n",
              "      <td>2249</td>\n",
              "      <td>2239</td>\n",
              "      <td>2239</td>\n",
              "      <td>2282</td>\n",
              "      <td>2288</td>\n",
              "      <td>2242</td>\n",
              "      <td>2193</td>\n",
              "      <td>2202</td>\n",
              "      <td>2225</td>\n",
              "      <td>2266</td>\n",
              "      <td>2308</td>\n",
              "      <td>2345</td>\n",
              "      <td>2361</td>\n",
              "      <td>0</td>\n",
              "    </tr>\n",
              "    <tr>\n",
              "      <th>3</th>\n",
              "      <td>637</td>\n",
              "      <td>592</td>\n",
              "      <td>482</td>\n",
              "      <td>556</td>\n",
              "      <td>508</td>\n",
              "      <td>284</td>\n",
              "      <td>178</td>\n",
              "      <td>198</td>\n",
              "      <td>193</td>\n",
              "      <td>224</td>\n",
              "      <td>217</td>\n",
              "      <td>215</td>\n",
              "      <td>187</td>\n",
              "      <td>161</td>\n",
              "      <td>152</td>\n",
              "      <td>136</td>\n",
              "      <td>124</td>\n",
              "      <td>122</td>\n",
              "      <td>127</td>\n",
              "      <td>126</td>\n",
              "      <td>125</td>\n",
              "      <td>123</td>\n",
              "      <td>147</td>\n",
              "      <td>188</td>\n",
              "      <td>208</td>\n",
              "      <td>203</td>\n",
              "      <td>202</td>\n",
              "      <td>206</td>\n",
              "      <td>219</td>\n",
              "      <td>235</td>\n",
              "      <td>238</td>\n",
              "      <td>227</td>\n",
              "      <td>217</td>\n",
              "      <td>215</td>\n",
              "      <td>216</td>\n",
              "      <td>201</td>\n",
              "      <td>190</td>\n",
              "      <td>167</td>\n",
              "      <td>149</td>\n",
              "      <td>162</td>\n",
              "      <td>...</td>\n",
              "      <td>129</td>\n",
              "      <td>174</td>\n",
              "      <td>245</td>\n",
              "      <td>338</td>\n",
              "      <td>455</td>\n",
              "      <td>585</td>\n",
              "      <td>720</td>\n",
              "      <td>850</td>\n",
              "      <td>1013</td>\n",
              "      <td>1225</td>\n",
              "      <td>1460</td>\n",
              "      <td>1702</td>\n",
              "      <td>1938</td>\n",
              "      <td>2157</td>\n",
              "      <td>2317</td>\n",
              "      <td>2433</td>\n",
              "      <td>2525</td>\n",
              "      <td>2552</td>\n",
              "      <td>2493</td>\n",
              "      <td>2554</td>\n",
              "      <td>2733</td>\n",
              "      <td>2781</td>\n",
              "      <td>2748</td>\n",
              "      <td>2748</td>\n",
              "      <td>2737</td>\n",
              "      <td>2710</td>\n",
              "      <td>2681</td>\n",
              "      <td>2642</td>\n",
              "      <td>2645</td>\n",
              "      <td>2684</td>\n",
              "      <td>2675</td>\n",
              "      <td>2609</td>\n",
              "      <td>2541</td>\n",
              "      <td>2551</td>\n",
              "      <td>2571</td>\n",
              "      <td>2569</td>\n",
              "      <td>2573</td>\n",
              "      <td>2620</td>\n",
              "      <td>2644</td>\n",
              "      <td>0</td>\n",
              "    </tr>\n",
              "    <tr>\n",
              "      <th>4</th>\n",
              "      <td>625</td>\n",
              "      <td>560</td>\n",
              "      <td>480</td>\n",
              "      <td>360</td>\n",
              "      <td>377</td>\n",
              "      <td>341</td>\n",
              "      <td>264</td>\n",
              "      <td>208</td>\n",
              "      <td>231</td>\n",
              "      <td>266</td>\n",
              "      <td>207</td>\n",
              "      <td>154</td>\n",
              "      <td>123</td>\n",
              "      <td>95</td>\n",
              "      <td>106</td>\n",
              "      <td>102</td>\n",
              "      <td>101</td>\n",
              "      <td>123</td>\n",
              "      <td>154</td>\n",
              "      <td>170</td>\n",
              "      <td>191</td>\n",
              "      <td>210</td>\n",
              "      <td>216</td>\n",
              "      <td>256</td>\n",
              "      <td>289</td>\n",
              "      <td>325</td>\n",
              "      <td>348</td>\n",
              "      <td>357</td>\n",
              "      <td>361</td>\n",
              "      <td>362</td>\n",
              "      <td>363</td>\n",
              "      <td>370</td>\n",
              "      <td>386</td>\n",
              "      <td>369</td>\n",
              "      <td>344</td>\n",
              "      <td>331</td>\n",
              "      <td>312</td>\n",
              "      <td>308</td>\n",
              "      <td>288</td>\n",
              "      <td>263</td>\n",
              "      <td>...</td>\n",
              "      <td>173</td>\n",
              "      <td>220</td>\n",
              "      <td>292</td>\n",
              "      <td>382</td>\n",
              "      <td>488</td>\n",
              "      <td>592</td>\n",
              "      <td>692</td>\n",
              "      <td>834</td>\n",
              "      <td>1032</td>\n",
              "      <td>1236</td>\n",
              "      <td>1461</td>\n",
              "      <td>1698</td>\n",
              "      <td>1876</td>\n",
              "      <td>2007</td>\n",
              "      <td>2118</td>\n",
              "      <td>2213</td>\n",
              "      <td>2288</td>\n",
              "      <td>2267</td>\n",
              "      <td>2192</td>\n",
              "      <td>2274</td>\n",
              "      <td>2448</td>\n",
              "      <td>2454</td>\n",
              "      <td>2387</td>\n",
              "      <td>2388</td>\n",
              "      <td>2441</td>\n",
              "      <td>2435</td>\n",
              "      <td>2454</td>\n",
              "      <td>2457</td>\n",
              "      <td>2430</td>\n",
              "      <td>2423</td>\n",
              "      <td>2392</td>\n",
              "      <td>2344</td>\n",
              "      <td>2289</td>\n",
              "      <td>2328</td>\n",
              "      <td>2415</td>\n",
              "      <td>2424</td>\n",
              "      <td>2386</td>\n",
              "      <td>2431</td>\n",
              "      <td>2456</td>\n",
              "      <td>0</td>\n",
              "    </tr>\n",
              "  </tbody>\n",
              "</table>\n",
              "<p>5 rows × 104 columns</p>\n",
              "</div>"
            ],
            "text/plain": [
              "   0    1    2    3    4    5    6    ...   97    98    99    100   101   102  103\n",
              "0  647  499  464  371  291  319  365  ...  3226  3205  3210  3221  3238  3250    0\n",
              "1  604  546  527  455  378  377  336  ...  2511  2501  2468  2442  2464  2528    0\n",
              "2  621  746  556  360  285  300  274  ...  2202  2225  2266  2308  2345  2361    0\n",
              "3  637  592  482  556  508  284  178  ...  2551  2571  2569  2573  2620  2644    0\n",
              "4  625  560  480  360  377  341  264  ...  2328  2415  2424  2386  2431  2456    0\n",
              "\n",
              "[5 rows x 104 columns]"
            ]
          },
          "metadata": {
            "tags": []
          },
          "execution_count": 9
        }
      ]
    },
    {
      "cell_type": "markdown",
      "metadata": {
        "id": "Gx_1RuBeqr5N",
        "colab_type": "text"
      },
      "source": [
        "### Droping the row if ground_truth value is zero"
      ]
    },
    {
      "cell_type": "code",
      "metadata": {
        "id": "w5W1G0Gnqr5O",
        "colab_type": "code",
        "outputId": "754c2af8-b04c-452c-de59-4871f0089f82",
        "colab": {
          "base_uri": "https://localhost:8080/",
          "height": 34
        }
      },
      "source": [
        "print(\"Percentage of column which will be droped\",(data.size - data[data.iloc[:, -1] == 0].size)/data.size,\"%\")"
      ],
      "execution_count": 10,
      "outputs": [
        {
          "output_type": "stream",
          "text": [
            "Percentage of column which will be droped 0.20624879459980713 %\n"
          ],
          "name": "stdout"
        }
      ]
    },
    {
      "cell_type": "code",
      "metadata": {
        "id": "ktKi_hPWqr5T",
        "colab_type": "code",
        "colab": {}
      },
      "source": [
        "zero_data = data.index[data.iloc[:, -1] == 0].tolist()\n",
        "data = data[data.iloc[:, -1] != 0]"
      ],
      "execution_count": 0,
      "outputs": []
    },
    {
      "cell_type": "markdown",
      "metadata": {
        "id": "cShDTWysqr5W",
        "colab_type": "text"
      },
      "source": [
        "### Spliting the data into feature and target"
      ]
    },
    {
      "cell_type": "code",
      "metadata": {
        "id": "Go8a2eIMqr5X",
        "colab_type": "code",
        "colab": {}
      },
      "source": [
        "X = data.iloc[:, :-1]\n",
        "y = data.iloc[:,-1]"
      ],
      "execution_count": 0,
      "outputs": []
    },
    {
      "cell_type": "code",
      "metadata": {
        "id": "YC4uZSqH6z-t",
        "colab_type": "code",
        "colab": {}
      },
      "source": [
        "number_of_classes = len(np.unique(y))"
      ],
      "execution_count": 0,
      "outputs": []
    },
    {
      "cell_type": "markdown",
      "metadata": {
        "id": "AcA_i82K-rM-",
        "colab_type": "text"
      },
      "source": [
        "### Feature Selection\n"
      ]
    },
    {
      "cell_type": "code",
      "metadata": {
        "id": "jie3RWu-_ee3",
        "colab_type": "code",
        "colab": {}
      },
      "source": [
        "from sklearn.feature_selection import SelectKBest\n",
        "from sklearn.feature_selection import chi2, f_classif, mutual_info_classif\n",
        "\n",
        "X = SelectKBest(chi2, k=int((image.shape[2]+1)*0.75)).fit_transform(X, y)"
      ],
      "execution_count": 0,
      "outputs": []
    },
    {
      "cell_type": "markdown",
      "metadata": {
        "id": "ktbZr3Leo99F",
        "colab_type": "text"
      },
      "source": [
        "### OneHotEncoding the target column"
      ]
    },
    {
      "cell_type": "code",
      "metadata": {
        "id": "2VRfB2AicayJ",
        "colab_type": "code",
        "colab": {}
      },
      "source": [
        "# onehotencoder = OneHotEncoder() \n",
        "# y = onehotencoder.fit_transform(np.array(y).reshape(-1,1)).toarray()"
      ],
      "execution_count": 0,
      "outputs": []
    },
    {
      "cell_type": "markdown",
      "metadata": {
        "id": "2oeXMTbgpITF",
        "colab_type": "text"
      },
      "source": [
        "### Standardizing the feature columns"
      ]
    },
    {
      "cell_type": "code",
      "metadata": {
        "id": "cSFPgGw0pPam",
        "colab_type": "code",
        "colab": {}
      },
      "source": [
        "X = preprocessing.scale(X)"
      ],
      "execution_count": 0,
      "outputs": []
    },
    {
      "cell_type": "markdown",
      "metadata": {
        "id": "DRtV7aDDqr5a",
        "colab_type": "text"
      },
      "source": [
        "### Spliting the data into training and testing set "
      ]
    },
    {
      "cell_type": "code",
      "metadata": {
        "id": "DattLTVzqr5b",
        "colab_type": "code",
        "colab": {}
      },
      "source": [
        "X_train, X_test, y_train, y_test = train_test_split(X, y, test_size=0.60, random_state=25)"
      ],
      "execution_count": 0,
      "outputs": []
    },
    {
      "cell_type": "markdown",
      "metadata": {
        "id": "SgVNV3elaqee",
        "colab_type": "text"
      },
      "source": [
        "# Genetic Algorithm"
      ]
    },
    {
      "cell_type": "code",
      "metadata": {
        "id": "ZDzQggq2bD3S",
        "colab_type": "code",
        "outputId": "d0daad1e-ba69-4a81-c410-e186e9382b60",
        "colab": {
          "base_uri": "https://localhost:8080/",
          "height": 187
        }
      },
      "source": [
        "!pip install pyeasyga"
      ],
      "execution_count": 18,
      "outputs": [
        {
          "output_type": "stream",
          "text": [
            "Collecting pyeasyga\n",
            "  Downloading https://files.pythonhosted.org/packages/3f/1b/d2834ca8e108806734a59579fe38a9fa1329f2527d622c43894c1c85a233/pyeasyga-0.3.1.tar.gz\n",
            "Requirement already satisfied: six in /usr/local/lib/python3.6/dist-packages (from pyeasyga) (1.12.0)\n",
            "Building wheels for collected packages: pyeasyga\n",
            "  Building wheel for pyeasyga (setup.py) ... \u001b[?25l\u001b[?25hdone\n",
            "  Created wheel for pyeasyga: filename=pyeasyga-0.3.1-py2.py3-none-any.whl size=6774 sha256=0c61f849368f69a75165e6af58bfac46dafc77ee916583e1022a17602f4f4eb3\n",
            "  Stored in directory: /root/.cache/pip/wheels/ef/cf/ef/7aff9fcd6c1e59dc276182f29a32e7c197665dd5eb547f30e6\n",
            "Successfully built pyeasyga\n",
            "Installing collected packages: pyeasyga\n",
            "Successfully installed pyeasyga-0.3.1\n"
          ],
          "name": "stdout"
        }
      ]
    },
    {
      "cell_type": "code",
      "metadata": {
        "id": "eXzMxNwbauBK",
        "colab_type": "code",
        "colab": {}
      },
      "source": [
        "from pyeasyga import pyeasyga\n",
        "import random\n",
        "import numpy as np\n",
        "from sklearn.metrics import accuracy_score\n",
        "import time\n",
        "\n",
        "def initilialize_population():\n",
        "  C = list(np.logspace(-3, 3, 7))\n",
        "  kernel = ['linear', 'poly', 'rbf', 'sigmoid']\n",
        "  degree = list(x for x in range(3,8))\n",
        "  gamma = ['scale', 'auto'] + list(np.logspace(-5, -1, 5))\n",
        "  shrinking = [True, False]\n",
        "  probability = [True, False]\n",
        "  decision_function_shape =  ['ovo', 'ovr']\n",
        "  \n",
        "  parameters = []\n",
        "  parameters.append(C)\n",
        "  parameters.append(kernel)\n",
        "  parameters.append(degree)\n",
        "  parameters.append(gamma)\n",
        "  parameters.append(shrinking)\n",
        "  parameters.append(probability)\n",
        "  parameters.append(decision_function_shape)\n",
        "\n",
        "  return parameters\n",
        "  \n",
        "\n",
        "def create_individual(data):\n",
        "  choice = []\n",
        "  for i in range(len(data)):\n",
        "    choice.append(random.choice(list(range(len(data[i])))))\n",
        "  return choice\n",
        "  \n",
        "\n",
        "def fitness_function(individual, data):\n",
        "  model = sklearn.svm.SVC(C=data[0][individual[0]],\n",
        "                          kernel=data[1][individual[1]],\n",
        "                          degree=data[2][individual[2]],\n",
        "                          gamma=data[3][individual[3]],\n",
        "                          coef0=0.0,\n",
        "                          shrinking=data[4][individual[4]],\n",
        "                          probability=data[5][individual[5]],\n",
        "                          tol=0.001,\n",
        "                          cache_size=200,\n",
        "                          class_weight=None,\n",
        "                          verbose=True,\n",
        "                          max_iter=-1,\n",
        "                          decision_function_shape=data[6][individual[6]],\n",
        "                          break_ties=False,\n",
        "                          random_state=None)\n",
        "  model.fit(X_train, y_train)\n",
        "  prediction = model.predict(X_test)\n",
        "  score = accuracy_score(y_test, prediction)\n",
        "  return score\n",
        "\n",
        "\n",
        "data = initilialize_population()\n",
        "ga = pyeasyga.GeneticAlgorithm(seed_data=data,\n",
        "                               population_size=5,\n",
        "                               generations=5,\n",
        "                               crossover_probability=0.8,\n",
        "                               mutation_probability=0.4,\n",
        "                               elitism=True,\n",
        "                               maximise_fitness=True)\n",
        "ga.create_individual = create_individual\n",
        "ga.fitness_function = fitness_function\n",
        "\n",
        "start = time.time()\n",
        "ga.run()\n",
        "end = time.time()\n",
        "print('Time taken ------>', end-start)"
      ],
      "execution_count": 0,
      "outputs": []
    },
    {
      "cell_type": "markdown",
      "metadata": {
        "id": "dYmIhXq_XRNV",
        "colab_type": "text"
      },
      "source": [
        "# Preparing SVM model"
      ]
    },
    {
      "cell_type": "markdown",
      "metadata": {
        "id": "lFuyNdq3W7Cu",
        "colab_type": "text"
      },
      "source": [
        "### Defining grid parameters"
      ]
    },
    {
      "cell_type": "code",
      "metadata": {
        "id": "UT_x_jloWT_B",
        "colab_type": "code",
        "colab": {}
      },
      "source": [
        "# SVM_GRID_PARAMS = [{'kernel': ['rbf'], 'gamma': [1e-1, 1e-2, 1e-3],\n",
        "#                     'C': [1, 10, 100, 1000]},\n",
        "#                    {'kernel': ['linear'], 'C': [0.1, 1, 10, 100, 1000]},\n",
        "#                    {'kernel': ['poly'], 'degree': [3], 'gamma': [1e-1, 1e-2, 1e-3]}]\n",
        "\n",
        "# Best Parameters\n",
        "# SVM_GRID_PARAMS = [{'kernel': ['rbf'], 'gamma': [1e-2],\n",
        "#                     'C': [100]}]"
      ],
      "execution_count": 0,
      "outputs": []
    },
    {
      "cell_type": "markdown",
      "metadata": {
        "id": "xQxX-h4OXEFH",
        "colab_type": "text"
      },
      "source": [
        "### Defining the weight "
      ]
    },
    {
      "cell_type": "code",
      "metadata": {
        "id": "OklCnx5GVDAB",
        "colab_type": "code",
        "colab": {}
      },
      "source": [
        "# class_weight = None"
      ],
      "execution_count": 0,
      "outputs": []
    },
    {
      "cell_type": "markdown",
      "metadata": {
        "id": "f2FUwRGVb9xL",
        "colab_type": "text"
      },
      "source": [
        "### Defining the model\n",
        "\n",
        "Link to learn more about svm https://scikit-learn.org/stable/modules/svm.html#tips-on-practical-use"
      ]
    },
    {
      "cell_type": "code",
      "metadata": {
        "id": "NL7shdZPj8zt",
        "colab_type": "code",
        "colab": {}
      },
      "source": [
        "best_parameters = ga.best_individual()[1]\n",
        "for index,i in enumerate(data):\n",
        "  print(i[best_parameters[index]])\n",
        "\n",
        "print(ga.best_individual()[0])"
      ],
      "execution_count": 0,
      "outputs": []
    },
    {
      "cell_type": "code",
      "metadata": {
        "id": "U6WF4L9GVQ2P",
        "colab_type": "code",
        "colab": {}
      },
      "source": [
        "model = sklearn.svm.SVC(C=data[0][best_parameters[0]],\n",
        "                        kernel=data[1][best_parameters[1]],\n",
        "                        degree=data[2][best_parameters[2]],\n",
        "                        gamma=data[3][best_parameters[3]],\n",
        "                        coef0=0.0,\n",
        "                        shrinking=data[4][best_parameters[4]],\n",
        "                        probability=data[5][best_parameters[5]],\n",
        "                        tol=0.001,\n",
        "                        cache_size=200,\n",
        "                        class_weight=None,\n",
        "                        verbose=True,\n",
        "                        max_iter=-1,\n",
        "                        decision_function_shape=data[6][best_parameters[6]],\n",
        "                        break_ties=False,\n",
        "                        random_state=None)\n",
        "model.fit(X_train, y_train)\n",
        "prediction = model.predict(X_test)\n",
        "score = accuracy_score(y_test, prediction)"
      ],
      "execution_count": 0,
      "outputs": []
    },
    {
      "cell_type": "code",
      "metadata": {
        "id": "lXUZ9tdyDU5d",
        "colab_type": "code",
        "colab": {
          "base_uri": "https://localhost:8080/",
          "height": 34
        },
        "outputId": "91316f9e-30fc-49bd-bf13-978c8188f5e5"
      },
      "source": [
        "# model = sklearn.svm.SVC(C=1.0,\n",
        "#                         kernel='rbf',\n",
        "#                         degree=3,\n",
        "#                         gamma='scale',\n",
        "#                         coef0=0.0,\n",
        "#                         shrinking=True,\n",
        "#                         probability=False,\n",
        "#                         tol=0.001,\n",
        "#                         cache_size=200,\n",
        "#                         class_weight=None,\n",
        "#                         verbose=True,\n",
        "#                         max_iter=-1,\n",
        "#                         decision_function_shape='ovr',\n",
        "#                         break_ties=False,\n",
        "#                         random_state=None)\n",
        "# model.fit(X_train, y_train)\n",
        "# prediction = model.predict(X_test)\n",
        "# score = accuracy_score(y_test, prediction)"
      ],
      "execution_count": 24,
      "outputs": [
        {
          "output_type": "stream",
          "text": [
            "[LibSVM]"
          ],
          "name": "stdout"
        }
      ]
    },
    {
      "cell_type": "markdown",
      "metadata": {
        "id": "XivvP2ofXKUA",
        "colab_type": "text"
      },
      "source": [
        "### Applying the grid search"
      ]
    },
    {
      "cell_type": "code",
      "metadata": {
        "id": "ixwU1aA2VXJR",
        "colab_type": "code",
        "colab": {}
      },
      "source": [
        "# model = sklearn.model_selection.GridSearchCV(model, SVM_GRID_PARAMS, verbose=5, n_jobs=4)"
      ],
      "execution_count": 0,
      "outputs": []
    },
    {
      "cell_type": "markdown",
      "metadata": {
        "id": "QahhosxkXQ1I",
        "colab_type": "text"
      },
      "source": [
        "### Model fitting"
      ]
    },
    {
      "cell_type": "code",
      "metadata": {
        "id": "aGLk_ZB8VaSk",
        "colab_type": "code",
        "colab": {}
      },
      "source": [
        "# model.fit(X_train, y_train)"
      ],
      "execution_count": 0,
      "outputs": []
    },
    {
      "cell_type": "markdown",
      "metadata": {
        "id": "CxKVsQBLXU73",
        "colab_type": "text"
      },
      "source": [
        "### Best parameters"
      ]
    },
    {
      "cell_type": "code",
      "metadata": {
        "id": "9TXs6qVaV_If",
        "colab_type": "code",
        "colab": {}
      },
      "source": [
        "# print(\"SVM best parameters : {}\".format(model.best_params_))"
      ],
      "execution_count": 0,
      "outputs": []
    },
    {
      "cell_type": "markdown",
      "metadata": {
        "id": "dX4XDs7AXacp",
        "colab_type": "text"
      },
      "source": [
        "### Accuracy of training set"
      ]
    },
    {
      "cell_type": "code",
      "metadata": {
        "id": "2CR4njVzXrft",
        "colab_type": "code",
        "outputId": "47d9c251-c980-49a1-867b-02569c825150",
        "colab": {
          "base_uri": "https://localhost:8080/",
          "height": 34
        }
      },
      "source": [
        "model.score(X_train, y_train)"
      ],
      "execution_count": 28,
      "outputs": [
        {
          "output_type": "execute_result",
          "data": {
            "text/plain": [
              "0.8681472822910579"
            ]
          },
          "metadata": {
            "tags": []
          },
          "execution_count": 28
        }
      ]
    },
    {
      "cell_type": "markdown",
      "metadata": {
        "id": "LKcmwXVUB_OD",
        "colab_type": "text"
      },
      "source": [
        "### Cross Validation using kfold"
      ]
    },
    {
      "cell_type": "code",
      "metadata": {
        "id": "Zk66tqwt-SnW",
        "colab_type": "code",
        "colab": {}
      },
      "source": [
        "# kfold = KFold(n_splits=2)"
      ],
      "execution_count": 0,
      "outputs": []
    },
    {
      "cell_type": "code",
      "metadata": {
        "id": "iHfmpGQ0_DFX",
        "colab_type": "code",
        "colab": {}
      },
      "source": [
        "# result = cross_val_score(model, X_test, y_test, cv=kfold, scoring='accuracy')"
      ],
      "execution_count": 0,
      "outputs": []
    },
    {
      "cell_type": "code",
      "metadata": {
        "id": "USRI3Isc_fcJ",
        "colab_type": "code",
        "colab": {}
      },
      "source": [
        "# result.mean()"
      ],
      "execution_count": 0,
      "outputs": []
    },
    {
      "cell_type": "markdown",
      "metadata": {
        "id": "l2mvRubfL__d",
        "colab_type": "text"
      },
      "source": [
        "### Accuracy of testing set"
      ]
    },
    {
      "cell_type": "code",
      "metadata": {
        "id": "mMrscZvR_yDP",
        "colab_type": "code",
        "colab": {}
      },
      "source": [
        "from sklearn.metrics import accuracy_score, f1_score, precision_score, recall_score, classification_report, confusion_matrix,cohen_kappa_score\n",
        "prediction = model.predict(X_test)"
      ],
      "execution_count": 0,
      "outputs": []
    },
    {
      "cell_type": "code",
      "metadata": {
        "id": "2tZd26mslcw5",
        "colab_type": "code",
        "outputId": "b9c307e6-ad36-4223-884c-90bf5dfab84e",
        "colab": {
          "base_uri": "https://localhost:8080/",
          "height": 34
        }
      },
      "source": [
        "accuracy_score(y_test, prediction)"
      ],
      "execution_count": 33,
      "outputs": [
        {
          "output_type": "execute_result",
          "data": {
            "text/plain": [
              "0.8624639601028599"
            ]
          },
          "metadata": {
            "tags": []
          },
          "execution_count": 33
        }
      ]
    },
    {
      "cell_type": "code",
      "metadata": {
        "id": "r24pSq6VMVro",
        "colab_type": "code",
        "outputId": "b52e8d67-8576-42a8-c327-1abd93a8a871",
        "colab": {
          "base_uri": "https://localhost:8080/",
          "height": 34
        }
      },
      "source": [
        "precision_score(y_test, prediction, average=\"weighted\")"
      ],
      "execution_count": 34,
      "outputs": [
        {
          "output_type": "execute_result",
          "data": {
            "text/plain": [
              "0.8731030846203115"
            ]
          },
          "metadata": {
            "tags": []
          },
          "execution_count": 34
        }
      ]
    },
    {
      "cell_type": "code",
      "metadata": {
        "id": "7wNxqcMfMW-t",
        "colab_type": "code",
        "outputId": "3848c643-06e4-4858-9d45-dd71733f7064",
        "colab": {
          "base_uri": "https://localhost:8080/",
          "height": 34
        }
      },
      "source": [
        "recall_score(y_test, prediction, average=\"weighted\")"
      ],
      "execution_count": 35,
      "outputs": [
        {
          "output_type": "execute_result",
          "data": {
            "text/plain": [
              "0.8624639601028599"
            ]
          },
          "metadata": {
            "tags": []
          },
          "execution_count": 35
        }
      ]
    },
    {
      "cell_type": "code",
      "metadata": {
        "id": "SRUpM6E-MUIv",
        "colab_type": "code",
        "outputId": "11fcf09c-5fc3-4e4c-f4c7-a470bc7852bf",
        "colab": {
          "base_uri": "https://localhost:8080/",
          "height": 34
        }
      },
      "source": [
        "f1_score(y_test, prediction, average=\"weighted\")"
      ],
      "execution_count": 36,
      "outputs": [
        {
          "output_type": "execute_result",
          "data": {
            "text/plain": [
              "0.8469261123176017"
            ]
          },
          "metadata": {
            "tags": []
          },
          "execution_count": 36
        }
      ]
    },
    {
      "cell_type": "code",
      "metadata": {
        "id": "ZvlL64CePFUc",
        "colab_type": "code",
        "outputId": "139db764-fc10-4e43-c680-087604403ea3",
        "colab": {
          "base_uri": "https://localhost:8080/",
          "height": 34
        }
      },
      "source": [
        "cohen_kappa_score(y_test, prediction, labels=list(x for x in range(1,17)), weights=None, sample_weight=None)"
      ],
      "execution_count": 37,
      "outputs": [
        {
          "output_type": "execute_result",
          "data": {
            "text/plain": [
              "0.8122358773089958"
            ]
          },
          "metadata": {
            "tags": []
          },
          "execution_count": 37
        }
      ]
    },
    {
      "cell_type": "code",
      "metadata": {
        "id": "IKt6JroFRSV3",
        "colab_type": "code",
        "colab": {}
      },
      "source": [
        "# print(classification_report(y_test, prediction, target_names=label_values))"
      ],
      "execution_count": 0,
      "outputs": []
    },
    {
      "cell_type": "code",
      "metadata": {
        "id": "vvgNU9E6p69S",
        "colab_type": "code",
        "outputId": "6e683ed5-20cb-42a3-c4dd-6ec1da294911",
        "colab": {
          "base_uri": "https://localhost:8080/",
          "height": 139
        }
      },
      "source": [
        "!pip install spectral"
      ],
      "execution_count": 39,
      "outputs": [
        {
          "output_type": "stream",
          "text": [
            "Collecting spectral\n",
            "\u001b[?25l  Downloading https://files.pythonhosted.org/packages/f5/ff/f6e238a941ed55079526996fee315fbee5167aaa64de3e64980637ac8f38/spectral-0.21-py3-none-any.whl (187kB)\n",
            "\r\u001b[K     |█▊                              | 10kB 15.6MB/s eta 0:00:01\r\u001b[K     |███▌                            | 20kB 1.5MB/s eta 0:00:01\r\u001b[K     |█████▎                          | 30kB 1.8MB/s eta 0:00:01\r\u001b[K     |███████                         | 40kB 2.1MB/s eta 0:00:01\r\u001b[K     |████████▊                       | 51kB 2.0MB/s eta 0:00:01\r\u001b[K     |██████████▌                     | 61kB 2.2MB/s eta 0:00:01\r\u001b[K     |████████████▎                   | 71kB 2.4MB/s eta 0:00:01\r\u001b[K     |██████████████                  | 81kB 2.6MB/s eta 0:00:01\r\u001b[K     |███████████████▊                | 92kB 2.5MB/s eta 0:00:01\r\u001b[K     |█████████████████▌              | 102kB 2.7MB/s eta 0:00:01\r\u001b[K     |███████████████████▎            | 112kB 2.7MB/s eta 0:00:01\r\u001b[K     |█████████████████████           | 122kB 2.7MB/s eta 0:00:01\r\u001b[K     |██████████████████████▊         | 133kB 2.7MB/s eta 0:00:01\r\u001b[K     |████████████████████████▌       | 143kB 2.7MB/s eta 0:00:01\r\u001b[K     |██████████████████████████▎     | 153kB 2.7MB/s eta 0:00:01\r\u001b[K     |████████████████████████████    | 163kB 2.7MB/s eta 0:00:01\r\u001b[K     |█████████████████████████████▊  | 174kB 2.7MB/s eta 0:00:01\r\u001b[K     |███████████████████████████████▌| 184kB 2.7MB/s eta 0:00:01\r\u001b[K     |████████████████████████████████| 194kB 2.7MB/s \n",
            "\u001b[?25hRequirement already satisfied: numpy in /usr/local/lib/python3.6/dist-packages (from spectral) (1.18.5)\n",
            "Installing collected packages: spectral\n",
            "Successfully installed spectral-0.21\n"
          ],
          "name": "stdout"
        }
      ]
    },
    {
      "cell_type": "code",
      "metadata": {
        "id": "5vMdzGCb9K-6",
        "colab_type": "code",
        "outputId": "61db237b-4d28-4e37-8166-885dfb2133c0",
        "colab": {
          "base_uri": "https://localhost:8080/",
          "height": 34
        }
      },
      "source": [
        "145*145"
      ],
      "execution_count": 40,
      "outputs": [
        {
          "output_type": "execute_result",
          "data": {
            "text/plain": [
              "21025"
            ]
          },
          "metadata": {
            "tags": []
          },
          "execution_count": 40
        }
      ]
    },
    {
      "cell_type": "code",
      "metadata": {
        "id": "4qOfOftp-FV-",
        "colab_type": "code",
        "outputId": "6703fae4-a48b-4543-e836-d5ebd8dc73f5",
        "colab": {
          "base_uri": "https://localhost:8080/",
          "height": 51
        }
      },
      "source": [
        "!pip install spectral"
      ],
      "execution_count": 41,
      "outputs": [
        {
          "output_type": "stream",
          "text": [
            "Requirement already satisfied: spectral in /usr/local/lib/python3.6/dist-packages (0.21)\n",
            "Requirement already satisfied: numpy in /usr/local/lib/python3.6/dist-packages (from spectral) (1.18.5)\n"
          ],
          "name": "stdout"
        }
      ]
    },
    {
      "cell_type": "code",
      "metadata": {
        "id": "8x2kRgk4fODu",
        "colab_type": "code",
        "colab": {}
      },
      "source": [
        "import spectral as sp\n",
        "prediction = model.predict(X)\n",
        "\n",
        "if not len(prediction.shape) == 2:\n",
        "    y_test = [x + 1 for x in y_test]\n",
        "    y_train = [x + 1 for x in y_train]\n",
        "\n",
        "if len(prediction.shape) == 2:\n",
        "    predicted_gt_1 = np.argmax(prediction, axis=1)\n",
        "    predicted_gt_1_list = list(predicted_gt_1)\n",
        "    predicted_gt_1_list = [x + 1 for x in predicted_gt_1_list]\n",
        "else:\n",
        "    predicted_gt_1_list = list(prediction)\n",
        "\n",
        "for i in zero_data:\n",
        "    predicted_gt_1_list.insert(i, 0)\n",
        "\n",
        "predicted_gt_1_list = np.array(predicted_gt_1_list).reshape(image.shape[0], image.shape[1])\n",
        "sp.save_rgb('predicted_gt.jpg', predicted_gt_1_list, colors=sp.spy_colors)"
      ],
      "execution_count": 0,
      "outputs": []
    },
    {
      "cell_type": "code",
      "metadata": {
        "id": "iy52NhCS-Lov",
        "colab_type": "code",
        "colab": {}
      },
      "source": [
        ""
      ],
      "execution_count": 0,
      "outputs": []
    }
  ]
}