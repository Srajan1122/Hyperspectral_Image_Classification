{
  "nbformat": 4,
  "nbformat_minor": 0,
  "metadata": {
    "colab": {
      "name": "SVM",
      "provenance": [],
      "collapsed_sections": [],
      "include_colab_link": true
    },
    "kernelspec": {
      "name": "python3",
      "display_name": "Python 3"
    }
  },
  "cells": [
    {
      "cell_type": "markdown",
      "metadata": {
        "id": "view-in-github",
        "colab_type": "text"
      },
      "source": [
        "<a href=\"https://colab.research.google.com/github/Srajan1122/Hyperspectral_Image_Classification/blob/srajan/SVM.ipynb\" target=\"_parent\"><img src=\"https://colab.research.google.com/assets/colab-badge.svg\" alt=\"Open In Colab\"/></a>"
      ]
    },
    {
      "cell_type": "code",
      "metadata": {
        "id": "sPaR_PMpqr4R",
        "colab_type": "code",
        "colab": {}
      },
      "source": [
        "from scipy import io\n",
        "import numpy as np\n",
        "import pandas as pd\n",
        "from sklearn.model_selection import train_test_split, KFold, cross_val_score\n",
        "from sklearn.preprocessing import OneHotEncoder \n",
        "from sklearn import preprocessing\n",
        "import sklearn.svm"
      ],
      "execution_count": 0,
      "outputs": []
    },
    {
      "cell_type": "code",
      "metadata": {
        "id": "Z_Hm1EnarlHU",
        "colab_type": "code",
        "outputId": "258197b4-903d-44fb-9b5f-199d0496a5ba",
        "colab": {
          "base_uri": "https://localhost:8080/",
          "height": 34
        }
      },
      "source": [
        "from google.colab import drive\n",
        "drive.mount('/content/drive')"
      ],
      "execution_count": 2,
      "outputs": [
        {
          "output_type": "stream",
          "text": [
            "Drive already mounted at /content/drive; to attempt to forcibly remount, call drive.mount(\"/content/drive\", force_remount=True).\n"
          ],
          "name": "stdout"
        }
      ]
    },
    {
      "cell_type": "markdown",
      "metadata": {
        "id": "rm2wKCIeqr4a",
        "colab_type": "text"
      },
      "source": [
        "## Loading DataSet\n",
        "### Dataset include image and a ground truth"
      ]
    },
    {
      "cell_type": "code",
      "metadata": {
        "id": "YrMszQO4HVkl",
        "colab_type": "code",
        "colab": {}
      },
      "source": [
        "loaded_dataset = io.loadmat('/content/drive/My Drive/Srajan/Internship/SEM4-LeadingindiaAI/Tasks/Datasets/Botswana/Botswana.mat')\n",
        "for key, value in loaded_dataset.items():\n",
        "  if isinstance(value, type(np.array([1]))):\n",
        "    image = loaded_dataset[key]"
      ],
      "execution_count": 0,
      "outputs": []
    },
    {
      "cell_type": "code",
      "metadata": {
        "id": "o91U13klqr4j",
        "colab_type": "code",
        "colab": {}
      },
      "source": [
        "ground_truth_1 = io.loadmat('/content/drive/My Drive/Srajan/Internship/SEM4-LeadingindiaAI/Tasks/Datasets/Botswana/Botswana_gt.mat')\n",
        "for key, value in ground_truth_1.items():\n",
        "  if isinstance(value, type(np.array([1]))):\n",
        "    ground_truth = ground_truth_1[key]"
      ],
      "execution_count": 0,
      "outputs": []
    },
    {
      "cell_type": "markdown",
      "metadata": {
        "id": "O_ctG247SqUA",
        "colab_type": "text"
      },
      "source": [
        "### Class Labels"
      ]
    },
    {
      "cell_type": "code",
      "metadata": {
        "id": "1BX_iYn1SpDn",
        "colab_type": "code",
        "colab": {}
      },
      "source": [
        "label_values = [\"Alfalfa\", \"Corn-notill\", \"Corn-mintill\",\n",
        "                        \"Corn\", \"Grass-pasture\", \"Grass-trees\",\n",
        "                        \"Grass-pasture-mowed\", \"Hay-windrowed\", \"Oats\",\n",
        "                        \"Soybean-notill\", \"Soybean-mintill\", \"Soybean-clean\",\n",
        "                        \"Wheat\", \"Woods\", \"Buildings-Grass-Trees-Drives\",\n",
        "                        \"Stone-Steel-Towers\"]"
      ],
      "execution_count": 0,
      "outputs": []
    },
    {
      "cell_type": "markdown",
      "metadata": {
        "id": "BEmg8p8eqr4q",
        "colab_type": "text"
      },
      "source": [
        "### Resizing the data"
      ]
    },
    {
      "cell_type": "code",
      "metadata": {
        "id": "GM_fTNbcqr4r",
        "colab_type": "code",
        "colab": {}
      },
      "source": [
        "image_with_gt = np.dstack((image, ground_truth))"
      ],
      "execution_count": 0,
      "outputs": []
    },
    {
      "cell_type": "code",
      "metadata": {
        "id": "Q9Zi3M51qr41",
        "colab_type": "code",
        "colab": {}
      },
      "source": [
        "final_output = image_with_gt.reshape(ground_truth.size, image.shape[2]+1)"
      ],
      "execution_count": 0,
      "outputs": []
    },
    {
      "cell_type": "markdown",
      "metadata": {
        "id": "Wuvox2x0qr47",
        "colab_type": "text"
      },
      "source": [
        "### Visualizing data in pandas"
      ]
    },
    {
      "cell_type": "code",
      "metadata": {
        "id": "w1vjwrxOqr4-",
        "colab_type": "code",
        "colab": {}
      },
      "source": [
        "data = pd.DataFrame(final_output)"
      ],
      "execution_count": 0,
      "outputs": []
    },
    {
      "cell_type": "code",
      "metadata": {
        "id": "wPO3FjPSqr5H",
        "colab_type": "code",
        "outputId": "a588b5ba-40de-4f2e-c8aa-3037d32946b1",
        "colab": {
          "base_uri": "https://localhost:8080/",
          "height": 253
        }
      },
      "source": [
        "data.head()"
      ],
      "execution_count": 9,
      "outputs": [
        {
          "output_type": "execute_result",
          "data": {
            "text/html": [
              "<div>\n",
              "<style scoped>\n",
              "    .dataframe tbody tr th:only-of-type {\n",
              "        vertical-align: middle;\n",
              "    }\n",
              "\n",
              "    .dataframe tbody tr th {\n",
              "        vertical-align: top;\n",
              "    }\n",
              "\n",
              "    .dataframe thead th {\n",
              "        text-align: right;\n",
              "    }\n",
              "</style>\n",
              "<table border=\"1\" class=\"dataframe\">\n",
              "  <thead>\n",
              "    <tr style=\"text-align: right;\">\n",
              "      <th></th>\n",
              "      <th>0</th>\n",
              "      <th>1</th>\n",
              "      <th>2</th>\n",
              "      <th>3</th>\n",
              "      <th>4</th>\n",
              "      <th>5</th>\n",
              "      <th>6</th>\n",
              "      <th>7</th>\n",
              "      <th>8</th>\n",
              "      <th>9</th>\n",
              "      <th>10</th>\n",
              "      <th>11</th>\n",
              "      <th>12</th>\n",
              "      <th>13</th>\n",
              "      <th>14</th>\n",
              "      <th>15</th>\n",
              "      <th>16</th>\n",
              "      <th>17</th>\n",
              "      <th>18</th>\n",
              "      <th>19</th>\n",
              "      <th>20</th>\n",
              "      <th>21</th>\n",
              "      <th>22</th>\n",
              "      <th>23</th>\n",
              "      <th>24</th>\n",
              "      <th>25</th>\n",
              "      <th>26</th>\n",
              "      <th>27</th>\n",
              "      <th>28</th>\n",
              "      <th>29</th>\n",
              "      <th>30</th>\n",
              "      <th>31</th>\n",
              "      <th>32</th>\n",
              "      <th>33</th>\n",
              "      <th>34</th>\n",
              "      <th>35</th>\n",
              "      <th>36</th>\n",
              "      <th>37</th>\n",
              "      <th>38</th>\n",
              "      <th>39</th>\n",
              "      <th>...</th>\n",
              "      <th>106</th>\n",
              "      <th>107</th>\n",
              "      <th>108</th>\n",
              "      <th>109</th>\n",
              "      <th>110</th>\n",
              "      <th>111</th>\n",
              "      <th>112</th>\n",
              "      <th>113</th>\n",
              "      <th>114</th>\n",
              "      <th>115</th>\n",
              "      <th>116</th>\n",
              "      <th>117</th>\n",
              "      <th>118</th>\n",
              "      <th>119</th>\n",
              "      <th>120</th>\n",
              "      <th>121</th>\n",
              "      <th>122</th>\n",
              "      <th>123</th>\n",
              "      <th>124</th>\n",
              "      <th>125</th>\n",
              "      <th>126</th>\n",
              "      <th>127</th>\n",
              "      <th>128</th>\n",
              "      <th>129</th>\n",
              "      <th>130</th>\n",
              "      <th>131</th>\n",
              "      <th>132</th>\n",
              "      <th>133</th>\n",
              "      <th>134</th>\n",
              "      <th>135</th>\n",
              "      <th>136</th>\n",
              "      <th>137</th>\n",
              "      <th>138</th>\n",
              "      <th>139</th>\n",
              "      <th>140</th>\n",
              "      <th>141</th>\n",
              "      <th>142</th>\n",
              "      <th>143</th>\n",
              "      <th>144</th>\n",
              "      <th>145</th>\n",
              "    </tr>\n",
              "  </thead>\n",
              "  <tbody>\n",
              "    <tr>\n",
              "      <th>0</th>\n",
              "      <td>3996</td>\n",
              "      <td>3952</td>\n",
              "      <td>3698</td>\n",
              "      <td>3457</td>\n",
              "      <td>3063</td>\n",
              "      <td>2914</td>\n",
              "      <td>2796</td>\n",
              "      <td>2538</td>\n",
              "      <td>2629</td>\n",
              "      <td>2613</td>\n",
              "      <td>2533</td>\n",
              "      <td>2517</td>\n",
              "      <td>2306</td>\n",
              "      <td>2149</td>\n",
              "      <td>2065</td>\n",
              "      <td>1994</td>\n",
              "      <td>1943</td>\n",
              "      <td>1840</td>\n",
              "      <td>1779</td>\n",
              "      <td>1726</td>\n",
              "      <td>1654</td>\n",
              "      <td>1519</td>\n",
              "      <td>1542</td>\n",
              "      <td>1478</td>\n",
              "      <td>1404</td>\n",
              "      <td>1600</td>\n",
              "      <td>2755</td>\n",
              "      <td>2806</td>\n",
              "      <td>3459</td>\n",
              "      <td>4137</td>\n",
              "      <td>4008</td>\n",
              "      <td>2741</td>\n",
              "      <td>4144</td>\n",
              "      <td>4268</td>\n",
              "      <td>4069</td>\n",
              "      <td>4020</td>\n",
              "      <td>3537</td>\n",
              "      <td>3335</td>\n",
              "      <td>3582</td>\n",
              "      <td>3868</td>\n",
              "      <td>...</td>\n",
              "      <td>450</td>\n",
              "      <td>385</td>\n",
              "      <td>316</td>\n",
              "      <td>240</td>\n",
              "      <td>157</td>\n",
              "      <td>98</td>\n",
              "      <td>149</td>\n",
              "      <td>142</td>\n",
              "      <td>106</td>\n",
              "      <td>91</td>\n",
              "      <td>107</td>\n",
              "      <td>158</td>\n",
              "      <td>164</td>\n",
              "      <td>163</td>\n",
              "      <td>166</td>\n",
              "      <td>184</td>\n",
              "      <td>196</td>\n",
              "      <td>181</td>\n",
              "      <td>169</td>\n",
              "      <td>156</td>\n",
              "      <td>159</td>\n",
              "      <td>134</td>\n",
              "      <td>135</td>\n",
              "      <td>144</td>\n",
              "      <td>159</td>\n",
              "      <td>142</td>\n",
              "      <td>138</td>\n",
              "      <td>145</td>\n",
              "      <td>138</td>\n",
              "      <td>110</td>\n",
              "      <td>104</td>\n",
              "      <td>114</td>\n",
              "      <td>89</td>\n",
              "      <td>89</td>\n",
              "      <td>77</td>\n",
              "      <td>73</td>\n",
              "      <td>60</td>\n",
              "      <td>53</td>\n",
              "      <td>54</td>\n",
              "      <td>0</td>\n",
              "    </tr>\n",
              "    <tr>\n",
              "      <th>1</th>\n",
              "      <td>3996</td>\n",
              "      <td>3952</td>\n",
              "      <td>3698</td>\n",
              "      <td>3457</td>\n",
              "      <td>3063</td>\n",
              "      <td>2914</td>\n",
              "      <td>2796</td>\n",
              "      <td>2538</td>\n",
              "      <td>2629</td>\n",
              "      <td>2613</td>\n",
              "      <td>2533</td>\n",
              "      <td>2517</td>\n",
              "      <td>2306</td>\n",
              "      <td>2149</td>\n",
              "      <td>2065</td>\n",
              "      <td>1994</td>\n",
              "      <td>1943</td>\n",
              "      <td>1840</td>\n",
              "      <td>1779</td>\n",
              "      <td>1726</td>\n",
              "      <td>1654</td>\n",
              "      <td>1519</td>\n",
              "      <td>1542</td>\n",
              "      <td>1478</td>\n",
              "      <td>1404</td>\n",
              "      <td>1600</td>\n",
              "      <td>2029</td>\n",
              "      <td>2172</td>\n",
              "      <td>2672</td>\n",
              "      <td>3195</td>\n",
              "      <td>3184</td>\n",
              "      <td>2182</td>\n",
              "      <td>3316</td>\n",
              "      <td>3402</td>\n",
              "      <td>3199</td>\n",
              "      <td>3147</td>\n",
              "      <td>2763</td>\n",
              "      <td>2517</td>\n",
              "      <td>2841</td>\n",
              "      <td>3098</td>\n",
              "      <td>...</td>\n",
              "      <td>427</td>\n",
              "      <td>371</td>\n",
              "      <td>301</td>\n",
              "      <td>226</td>\n",
              "      <td>145</td>\n",
              "      <td>92</td>\n",
              "      <td>128</td>\n",
              "      <td>134</td>\n",
              "      <td>92</td>\n",
              "      <td>85</td>\n",
              "      <td>114</td>\n",
              "      <td>140</td>\n",
              "      <td>149</td>\n",
              "      <td>158</td>\n",
              "      <td>159</td>\n",
              "      <td>166</td>\n",
              "      <td>175</td>\n",
              "      <td>160</td>\n",
              "      <td>151</td>\n",
              "      <td>137</td>\n",
              "      <td>141</td>\n",
              "      <td>133</td>\n",
              "      <td>135</td>\n",
              "      <td>132</td>\n",
              "      <td>143</td>\n",
              "      <td>134</td>\n",
              "      <td>123</td>\n",
              "      <td>133</td>\n",
              "      <td>122</td>\n",
              "      <td>117</td>\n",
              "      <td>109</td>\n",
              "      <td>103</td>\n",
              "      <td>83</td>\n",
              "      <td>93</td>\n",
              "      <td>80</td>\n",
              "      <td>69</td>\n",
              "      <td>59</td>\n",
              "      <td>54</td>\n",
              "      <td>57</td>\n",
              "      <td>0</td>\n",
              "    </tr>\n",
              "    <tr>\n",
              "      <th>2</th>\n",
              "      <td>4100</td>\n",
              "      <td>3923</td>\n",
              "      <td>3615</td>\n",
              "      <td>3451</td>\n",
              "      <td>2941</td>\n",
              "      <td>2886</td>\n",
              "      <td>2850</td>\n",
              "      <td>2581</td>\n",
              "      <td>2628</td>\n",
              "      <td>2616</td>\n",
              "      <td>2607</td>\n",
              "      <td>2479</td>\n",
              "      <td>2359</td>\n",
              "      <td>2118</td>\n",
              "      <td>2099</td>\n",
              "      <td>1946</td>\n",
              "      <td>1971</td>\n",
              "      <td>1885</td>\n",
              "      <td>1743</td>\n",
              "      <td>1774</td>\n",
              "      <td>1680</td>\n",
              "      <td>1566</td>\n",
              "      <td>1534</td>\n",
              "      <td>1494</td>\n",
              "      <td>1375</td>\n",
              "      <td>1603</td>\n",
              "      <td>2152</td>\n",
              "      <td>2277</td>\n",
              "      <td>2870</td>\n",
              "      <td>3474</td>\n",
              "      <td>3502</td>\n",
              "      <td>2441</td>\n",
              "      <td>3612</td>\n",
              "      <td>3677</td>\n",
              "      <td>3489</td>\n",
              "      <td>3410</td>\n",
              "      <td>2991</td>\n",
              "      <td>2866</td>\n",
              "      <td>3101</td>\n",
              "      <td>3280</td>\n",
              "      <td>...</td>\n",
              "      <td>365</td>\n",
              "      <td>324</td>\n",
              "      <td>270</td>\n",
              "      <td>199</td>\n",
              "      <td>131</td>\n",
              "      <td>70</td>\n",
              "      <td>95</td>\n",
              "      <td>101</td>\n",
              "      <td>76</td>\n",
              "      <td>75</td>\n",
              "      <td>98</td>\n",
              "      <td>105</td>\n",
              "      <td>124</td>\n",
              "      <td>134</td>\n",
              "      <td>138</td>\n",
              "      <td>135</td>\n",
              "      <td>140</td>\n",
              "      <td>123</td>\n",
              "      <td>118</td>\n",
              "      <td>111</td>\n",
              "      <td>112</td>\n",
              "      <td>123</td>\n",
              "      <td>119</td>\n",
              "      <td>110</td>\n",
              "      <td>114</td>\n",
              "      <td>103</td>\n",
              "      <td>95</td>\n",
              "      <td>107</td>\n",
              "      <td>98</td>\n",
              "      <td>113</td>\n",
              "      <td>102</td>\n",
              "      <td>85</td>\n",
              "      <td>67</td>\n",
              "      <td>89</td>\n",
              "      <td>79</td>\n",
              "      <td>55</td>\n",
              "      <td>52</td>\n",
              "      <td>51</td>\n",
              "      <td>56</td>\n",
              "      <td>0</td>\n",
              "    </tr>\n",
              "    <tr>\n",
              "      <th>3</th>\n",
              "      <td>3908</td>\n",
              "      <td>3889</td>\n",
              "      <td>3594</td>\n",
              "      <td>3343</td>\n",
              "      <td>2975</td>\n",
              "      <td>2813</td>\n",
              "      <td>2665</td>\n",
              "      <td>2445</td>\n",
              "      <td>2532</td>\n",
              "      <td>2489</td>\n",
              "      <td>2423</td>\n",
              "      <td>2328</td>\n",
              "      <td>2209</td>\n",
              "      <td>2039</td>\n",
              "      <td>1944</td>\n",
              "      <td>1871</td>\n",
              "      <td>1850</td>\n",
              "      <td>1700</td>\n",
              "      <td>1616</td>\n",
              "      <td>1564</td>\n",
              "      <td>1493</td>\n",
              "      <td>1398</td>\n",
              "      <td>1356</td>\n",
              "      <td>1345</td>\n",
              "      <td>1271</td>\n",
              "      <td>1463</td>\n",
              "      <td>2046</td>\n",
              "      <td>2243</td>\n",
              "      <td>2939</td>\n",
              "      <td>3522</td>\n",
              "      <td>3582</td>\n",
              "      <td>2506</td>\n",
              "      <td>3674</td>\n",
              "      <td>3793</td>\n",
              "      <td>3590</td>\n",
              "      <td>3536</td>\n",
              "      <td>3125</td>\n",
              "      <td>2942</td>\n",
              "      <td>3194</td>\n",
              "      <td>3397</td>\n",
              "      <td>...</td>\n",
              "      <td>370</td>\n",
              "      <td>324</td>\n",
              "      <td>263</td>\n",
              "      <td>200</td>\n",
              "      <td>143</td>\n",
              "      <td>68</td>\n",
              "      <td>100</td>\n",
              "      <td>103</td>\n",
              "      <td>85</td>\n",
              "      <td>74</td>\n",
              "      <td>86</td>\n",
              "      <td>111</td>\n",
              "      <td>126</td>\n",
              "      <td>139</td>\n",
              "      <td>147</td>\n",
              "      <td>125</td>\n",
              "      <td>121</td>\n",
              "      <td>125</td>\n",
              "      <td>120</td>\n",
              "      <td>106</td>\n",
              "      <td>116</td>\n",
              "      <td>117</td>\n",
              "      <td>106</td>\n",
              "      <td>110</td>\n",
              "      <td>118</td>\n",
              "      <td>109</td>\n",
              "      <td>107</td>\n",
              "      <td>106</td>\n",
              "      <td>108</td>\n",
              "      <td>103</td>\n",
              "      <td>94</td>\n",
              "      <td>75</td>\n",
              "      <td>61</td>\n",
              "      <td>73</td>\n",
              "      <td>64</td>\n",
              "      <td>50</td>\n",
              "      <td>57</td>\n",
              "      <td>48</td>\n",
              "      <td>45</td>\n",
              "      <td>0</td>\n",
              "    </tr>\n",
              "    <tr>\n",
              "      <th>4</th>\n",
              "      <td>4007</td>\n",
              "      <td>3926</td>\n",
              "      <td>3767</td>\n",
              "      <td>3445</td>\n",
              "      <td>3038</td>\n",
              "      <td>2945</td>\n",
              "      <td>2914</td>\n",
              "      <td>2588</td>\n",
              "      <td>2616</td>\n",
              "      <td>2624</td>\n",
              "      <td>2608</td>\n",
              "      <td>2509</td>\n",
              "      <td>2347</td>\n",
              "      <td>2176</td>\n",
              "      <td>2099</td>\n",
              "      <td>2002</td>\n",
              "      <td>1982</td>\n",
              "      <td>1889</td>\n",
              "      <td>1775</td>\n",
              "      <td>1687</td>\n",
              "      <td>1705</td>\n",
              "      <td>1531</td>\n",
              "      <td>1530</td>\n",
              "      <td>1454</td>\n",
              "      <td>1450</td>\n",
              "      <td>1631</td>\n",
              "      <td>2222</td>\n",
              "      <td>2426</td>\n",
              "      <td>3174</td>\n",
              "      <td>3859</td>\n",
              "      <td>3855</td>\n",
              "      <td>2711</td>\n",
              "      <td>4073</td>\n",
              "      <td>4139</td>\n",
              "      <td>3992</td>\n",
              "      <td>3948</td>\n",
              "      <td>3447</td>\n",
              "      <td>3264</td>\n",
              "      <td>3517</td>\n",
              "      <td>3747</td>\n",
              "      <td>...</td>\n",
              "      <td>380</td>\n",
              "      <td>327</td>\n",
              "      <td>259</td>\n",
              "      <td>198</td>\n",
              "      <td>142</td>\n",
              "      <td>67</td>\n",
              "      <td>102</td>\n",
              "      <td>116</td>\n",
              "      <td>94</td>\n",
              "      <td>68</td>\n",
              "      <td>82</td>\n",
              "      <td>116</td>\n",
              "      <td>127</td>\n",
              "      <td>147</td>\n",
              "      <td>154</td>\n",
              "      <td>118</td>\n",
              "      <td>106</td>\n",
              "      <td>122</td>\n",
              "      <td>120</td>\n",
              "      <td>106</td>\n",
              "      <td>119</td>\n",
              "      <td>106</td>\n",
              "      <td>97</td>\n",
              "      <td>112</td>\n",
              "      <td>119</td>\n",
              "      <td>122</td>\n",
              "      <td>119</td>\n",
              "      <td>113</td>\n",
              "      <td>111</td>\n",
              "      <td>94</td>\n",
              "      <td>88</td>\n",
              "      <td>63</td>\n",
              "      <td>57</td>\n",
              "      <td>62</td>\n",
              "      <td>51</td>\n",
              "      <td>49</td>\n",
              "      <td>56</td>\n",
              "      <td>42</td>\n",
              "      <td>41</td>\n",
              "      <td>0</td>\n",
              "    </tr>\n",
              "  </tbody>\n",
              "</table>\n",
              "<p>5 rows × 146 columns</p>\n",
              "</div>"
            ],
            "text/plain": [
              "    0     1     2     3     4     5     6    ...  139  140  141  142  143  144  145\n",
              "0  3996  3952  3698  3457  3063  2914  2796  ...   89   77   73   60   53   54    0\n",
              "1  3996  3952  3698  3457  3063  2914  2796  ...   93   80   69   59   54   57    0\n",
              "2  4100  3923  3615  3451  2941  2886  2850  ...   89   79   55   52   51   56    0\n",
              "3  3908  3889  3594  3343  2975  2813  2665  ...   73   64   50   57   48   45    0\n",
              "4  4007  3926  3767  3445  3038  2945  2914  ...   62   51   49   56   42   41    0\n",
              "\n",
              "[5 rows x 146 columns]"
            ]
          },
          "metadata": {
            "tags": []
          },
          "execution_count": 9
        }
      ]
    },
    {
      "cell_type": "markdown",
      "metadata": {
        "id": "Gx_1RuBeqr5N",
        "colab_type": "text"
      },
      "source": [
        "### Droping the row if ground_truth value is zero"
      ]
    },
    {
      "cell_type": "code",
      "metadata": {
        "id": "w5W1G0Gnqr5O",
        "colab_type": "code",
        "outputId": "c7ca2d36-323b-466f-831c-616d9e9868b0",
        "colab": {
          "base_uri": "https://localhost:8080/",
          "height": 34
        }
      },
      "source": [
        "print(\"Percentage of column which will be droped\",(data.size - data[data.iloc[:, -1] == 0].size)/data.size,\"%\")"
      ],
      "execution_count": 10,
      "outputs": [
        {
          "output_type": "stream",
          "text": [
            "Percentage of column which will be droped 0.008595867208672087 %\n"
          ],
          "name": "stdout"
        }
      ]
    },
    {
      "cell_type": "code",
      "metadata": {
        "id": "ktKi_hPWqr5T",
        "colab_type": "code",
        "colab": {}
      },
      "source": [
        "zero_data = data.index[data.iloc[:, -1] == 0].tolist()\n",
        "data = data[data.iloc[:, -1] != 0]"
      ],
      "execution_count": 0,
      "outputs": []
    },
    {
      "cell_type": "markdown",
      "metadata": {
        "id": "cShDTWysqr5W",
        "colab_type": "text"
      },
      "source": [
        "### Spliting the data into feature and target"
      ]
    },
    {
      "cell_type": "code",
      "metadata": {
        "id": "Go8a2eIMqr5X",
        "colab_type": "code",
        "colab": {}
      },
      "source": [
        "X = data.iloc[:, :-1]\n",
        "y = data.iloc[:,-1]"
      ],
      "execution_count": 0,
      "outputs": []
    },
    {
      "cell_type": "code",
      "metadata": {
        "id": "YC4uZSqH6z-t",
        "colab_type": "code",
        "colab": {}
      },
      "source": [
        "number_of_classes = len(np.unique(y))"
      ],
      "execution_count": 0,
      "outputs": []
    },
    {
      "cell_type": "markdown",
      "metadata": {
        "id": "AcA_i82K-rM-",
        "colab_type": "text"
      },
      "source": [
        "### Feature Selection\n"
      ]
    },
    {
      "cell_type": "code",
      "metadata": {
        "id": "jie3RWu-_ee3",
        "colab_type": "code",
        "colab": {}
      },
      "source": [
        "from sklearn.feature_selection import SelectKBest\n",
        "from sklearn.feature_selection import chi2, f_classif, mutual_info_classif\n",
        "\n",
        "X = SelectKBest(chi2, k=int((image.shape[2]+1)*0.75)).fit_transform(X, y)"
      ],
      "execution_count": 0,
      "outputs": []
    },
    {
      "cell_type": "markdown",
      "metadata": {
        "id": "ktbZr3Leo99F",
        "colab_type": "text"
      },
      "source": [
        "### OneHotEncoding the target column"
      ]
    },
    {
      "cell_type": "code",
      "metadata": {
        "id": "2VRfB2AicayJ",
        "colab_type": "code",
        "colab": {}
      },
      "source": [
        "# onehotencoder = OneHotEncoder() \n",
        "# y = onehotencoder.fit_transform(np.array(y).reshape(-1,1)).toarray()"
      ],
      "execution_count": 0,
      "outputs": []
    },
    {
      "cell_type": "markdown",
      "metadata": {
        "id": "2oeXMTbgpITF",
        "colab_type": "text"
      },
      "source": [
        "### Standardizing the feature columns"
      ]
    },
    {
      "cell_type": "code",
      "metadata": {
        "id": "cSFPgGw0pPam",
        "colab_type": "code",
        "colab": {}
      },
      "source": [
        "X = preprocessing.scale(X)"
      ],
      "execution_count": 0,
      "outputs": []
    },
    {
      "cell_type": "markdown",
      "metadata": {
        "id": "DRtV7aDDqr5a",
        "colab_type": "text"
      },
      "source": [
        "### Spliting the data into training and testing set "
      ]
    },
    {
      "cell_type": "code",
      "metadata": {
        "id": "DattLTVzqr5b",
        "colab_type": "code",
        "colab": {}
      },
      "source": [
        "X_train, X_test, y_train, y_test = train_test_split(X, y, test_size=0.60, random_state=25)"
      ],
      "execution_count": 0,
      "outputs": []
    },
    {
      "cell_type": "markdown",
      "metadata": {
        "id": "SgVNV3elaqee",
        "colab_type": "text"
      },
      "source": [
        "# Genetic Algorithm"
      ]
    },
    {
      "cell_type": "code",
      "metadata": {
        "id": "ZDzQggq2bD3S",
        "colab_type": "code",
        "outputId": "ccb9bc89-a65c-411b-b639-bb1227624005",
        "colab": {
          "base_uri": "https://localhost:8080/",
          "height": 51
        }
      },
      "source": [
        "!pip install pyeasyga"
      ],
      "execution_count": 18,
      "outputs": [
        {
          "output_type": "stream",
          "text": [
            "Requirement already satisfied: pyeasyga in /usr/local/lib/python3.6/dist-packages (0.3.1)\n",
            "Requirement already satisfied: six in /usr/local/lib/python3.6/dist-packages (from pyeasyga) (1.12.0)\n"
          ],
          "name": "stdout"
        }
      ]
    },
    {
      "cell_type": "code",
      "metadata": {
        "id": "eXzMxNwbauBK",
        "colab_type": "code",
        "outputId": "70741352-bb50-4e2a-9861-d1479c7b69e9",
        "colab": {
          "base_uri": "https://localhost:8080/",
          "height": 54
        }
      },
      "source": [
        "from pyeasyga import pyeasyga\n",
        "import random\n",
        "import numpy as np\n",
        "from sklearn.metrics import accuracy_score\n",
        "import time\n",
        "\n",
        "def initilialize_population():\n",
        "  C = list(np.logspace(-3, 3, 7))\n",
        "  kernel = ['linear', 'poly', 'rbf', 'sigmoid']\n",
        "  degree = list(x for x in range(3,8))\n",
        "  gamma = ['scale', 'auto'] + list(np.logspace(-5, -1, 5))\n",
        "  shrinking = [True, False]\n",
        "  probability = [True, False]\n",
        "  decision_function_shape =  ['ovo', 'ovr']\n",
        "  \n",
        "  parameters = []\n",
        "  parameters.append(C)\n",
        "  parameters.append(kernel)\n",
        "  parameters.append(degree)\n",
        "  parameters.append(gamma)\n",
        "  parameters.append(shrinking)\n",
        "  parameters.append(probability)\n",
        "  parameters.append(decision_function_shape)\n",
        "\n",
        "  return parameters\n",
        "  \n",
        "\n",
        "def create_individual(data):\n",
        "  choice = []\n",
        "  for i in range(len(data)):\n",
        "    choice.append(random.choice(list(range(len(data[i])))))\n",
        "  return choice\n",
        "  \n",
        "\n",
        "def fitness_function(individual, data):\n",
        "  model = sklearn.svm.SVC(C=data[0][individual[0]],\n",
        "                          kernel=data[1][individual[1]],\n",
        "                          degree=data[2][individual[2]],\n",
        "                          gamma=data[3][individual[3]],\n",
        "                          coef0=0.0,\n",
        "                          shrinking=data[4][individual[4]],\n",
        "                          probability=data[5][individual[5]],\n",
        "                          tol=0.001,\n",
        "                          cache_size=200,\n",
        "                          class_weight=None,\n",
        "                          verbose=True,\n",
        "                          max_iter=-1,\n",
        "                          decision_function_shape=data[6][individual[6]],\n",
        "                          break_ties=False,\n",
        "                          random_state=None)\n",
        "  model.fit(X_train, y_train)\n",
        "  prediction = model.predict(X_test)\n",
        "  score = accuracy_score(y_test, prediction)\n",
        "  return score\n",
        "\n",
        "\n",
        "data = initilialize_population()\n",
        "ga = pyeasyga.GeneticAlgorithm(seed_data=data,\n",
        "                               population_size=5,\n",
        "                               generations=5,\n",
        "                               crossover_probability=0.8,\n",
        "                               mutation_probability=0.4,\n",
        "                               elitism=True,\n",
        "                               maximise_fitness=True)\n",
        "ga.create_individual = create_individual\n",
        "ga.fitness_function = fitness_function\n",
        "\n",
        "start = time.time()\n",
        "ga.run()\n",
        "end = time.time()\n",
        "print('Time taken ------>', end-start)"
      ],
      "execution_count": 19,
      "outputs": [
        {
          "output_type": "stream",
          "text": [
            "[LibSVM][LibSVM][LibSVM][LibSVM][LibSVM][LibSVM][LibSVM][LibSVM][LibSVM][LibSVM][LibSVM][LibSVM][LibSVM][LibSVM][LibSVM][LibSVM][LibSVM][LibSVM][LibSVM][LibSVM][LibSVM][LibSVM][LibSVM][LibSVM][LibSVM]Time taken ------> 32.03387784957886\n"
          ],
          "name": "stdout"
        }
      ]
    },
    {
      "cell_type": "markdown",
      "metadata": {
        "id": "dYmIhXq_XRNV",
        "colab_type": "text"
      },
      "source": [
        "# Preparing SVM model"
      ]
    },
    {
      "cell_type": "markdown",
      "metadata": {
        "id": "lFuyNdq3W7Cu",
        "colab_type": "text"
      },
      "source": [
        "### Defining grid parameters"
      ]
    },
    {
      "cell_type": "code",
      "metadata": {
        "id": "UT_x_jloWT_B",
        "colab_type": "code",
        "colab": {}
      },
      "source": [
        "# SVM_GRID_PARAMS = [{'kernel': ['rbf'], 'gamma': [1e-1, 1e-2, 1e-3],\n",
        "#                     'C': [1, 10, 100, 1000]},\n",
        "#                    {'kernel': ['linear'], 'C': [0.1, 1, 10, 100, 1000]},\n",
        "#                    {'kernel': ['poly'], 'degree': [3], 'gamma': [1e-1, 1e-2, 1e-3]}]\n",
        "\n",
        "# Best Parameters\n",
        "# SVM_GRID_PARAMS = [{'kernel': ['rbf'], 'gamma': [1e-2],\n",
        "#                     'C': [100]}]"
      ],
      "execution_count": 0,
      "outputs": []
    },
    {
      "cell_type": "markdown",
      "metadata": {
        "id": "xQxX-h4OXEFH",
        "colab_type": "text"
      },
      "source": [
        "### Defining the weight "
      ]
    },
    {
      "cell_type": "code",
      "metadata": {
        "id": "OklCnx5GVDAB",
        "colab_type": "code",
        "colab": {}
      },
      "source": [
        "# class_weight = None"
      ],
      "execution_count": 0,
      "outputs": []
    },
    {
      "cell_type": "markdown",
      "metadata": {
        "id": "f2FUwRGVb9xL",
        "colab_type": "text"
      },
      "source": [
        "### Defining the model\n",
        "\n",
        "Link to learn more about svm https://scikit-learn.org/stable/modules/svm.html#tips-on-practical-use"
      ]
    },
    {
      "cell_type": "code",
      "metadata": {
        "id": "NL7shdZPj8zt",
        "colab_type": "code",
        "outputId": "5d082c24-4abc-41bb-c473-7d8e15565892",
        "colab": {
          "base_uri": "https://localhost:8080/",
          "height": 153
        }
      },
      "source": [
        "best_parameters = ga.best_individual()[1]\n",
        "for index,i in enumerate(data):\n",
        "  print(i[best_parameters[index]])\n",
        "\n",
        "print(ga.best_individual()[0])"
      ],
      "execution_count": 22,
      "outputs": [
        {
          "output_type": "stream",
          "text": [
            "0.1\n",
            "linear\n",
            "3\n",
            "auto\n",
            "True\n",
            "False\n",
            "ovo\n",
            "0.9081580297588507\n"
          ],
          "name": "stdout"
        }
      ]
    },
    {
      "cell_type": "code",
      "metadata": {
        "id": "U6WF4L9GVQ2P",
        "colab_type": "code",
        "outputId": "623dc5ad-051f-48d6-a7dc-acf43578ff69",
        "colab": {
          "base_uri": "https://localhost:8080/",
          "height": 34
        }
      },
      "source": [
        "model = sklearn.svm.SVC(C=data[0][best_parameters[0]],\n",
        "                        kernel=data[1][best_parameters[1]],\n",
        "                        degree=data[2][best_parameters[2]],\n",
        "                        gamma=data[3][best_parameters[3]],\n",
        "                        coef0=0.0,\n",
        "                        shrinking=data[4][best_parameters[4]],\n",
        "                        probability=data[5][best_parameters[5]],\n",
        "                        tol=0.001,\n",
        "                        cache_size=200,\n",
        "                        class_weight=None,\n",
        "                        verbose=True,\n",
        "                        max_iter=-1,\n",
        "                        decision_function_shape=data[6][best_parameters[6]],\n",
        "                        break_ties=False,\n",
        "                        random_state=None)\n",
        "model.fit(X_train, y_train)\n",
        "prediction = model.predict(X_test)\n",
        "score = accuracy_score(y_test, prediction)"
      ],
      "execution_count": 23,
      "outputs": [
        {
          "output_type": "stream",
          "text": [
            "[LibSVM]"
          ],
          "name": "stdout"
        }
      ]
    },
    {
      "cell_type": "code",
      "metadata": {
        "id": "lXUZ9tdyDU5d",
        "colab_type": "code",
        "colab": {}
      },
      "source": [
        "# model = sklearn.svm.SVC(C=1.0,\n",
        "#                         kernel='rbf',\n",
        "#                         degree=3,\n",
        "#                         gamma='scale',\n",
        "#                         coef0=0.0,\n",
        "#                         shrinking=True,\n",
        "#                         probability=False,\n",
        "#                         tol=0.001,\n",
        "#                         cache_size=200,\n",
        "#                         class_weight=None,\n",
        "#                         verbose=True,\n",
        "#                         max_iter=-1,\n",
        "#                         decision_function_shape='ovr',\n",
        "#                         break_ties=False,\n",
        "#                         random_state=None)\n",
        "# model.fit(X_train, y_train)\n",
        "# prediction = model.predict(X_test)\n",
        "# score = accuracy_score(y_test, prediction)"
      ],
      "execution_count": 0,
      "outputs": []
    },
    {
      "cell_type": "markdown",
      "metadata": {
        "id": "XivvP2ofXKUA",
        "colab_type": "text"
      },
      "source": [
        "### Applying the grid search"
      ]
    },
    {
      "cell_type": "code",
      "metadata": {
        "id": "ixwU1aA2VXJR",
        "colab_type": "code",
        "colab": {}
      },
      "source": [
        "# model = sklearn.model_selection.GridSearchCV(model, SVM_GRID_PARAMS, verbose=5, n_jobs=4)"
      ],
      "execution_count": 0,
      "outputs": []
    },
    {
      "cell_type": "markdown",
      "metadata": {
        "id": "QahhosxkXQ1I",
        "colab_type": "text"
      },
      "source": [
        "### Model fitting"
      ]
    },
    {
      "cell_type": "code",
      "metadata": {
        "id": "aGLk_ZB8VaSk",
        "colab_type": "code",
        "colab": {}
      },
      "source": [
        "# model.fit(X_train, y_train)"
      ],
      "execution_count": 0,
      "outputs": []
    },
    {
      "cell_type": "markdown",
      "metadata": {
        "id": "CxKVsQBLXU73",
        "colab_type": "text"
      },
      "source": [
        "### Best parameters"
      ]
    },
    {
      "cell_type": "code",
      "metadata": {
        "id": "9TXs6qVaV_If",
        "colab_type": "code",
        "colab": {}
      },
      "source": [
        "# print(\"SVM best parameters : {}\".format(model.best_params_))"
      ],
      "execution_count": 0,
      "outputs": []
    },
    {
      "cell_type": "markdown",
      "metadata": {
        "id": "dX4XDs7AXacp",
        "colab_type": "text"
      },
      "source": [
        "### Accuracy of training set"
      ]
    },
    {
      "cell_type": "code",
      "metadata": {
        "id": "2CR4njVzXrft",
        "colab_type": "code",
        "outputId": "2e318f43-2295-441b-8773-dc6e0b3bdc39",
        "colab": {
          "base_uri": "https://localhost:8080/",
          "height": 34
        }
      },
      "source": [
        "model.score(X_train, y_train)"
      ],
      "execution_count": 28,
      "outputs": [
        {
          "output_type": "execute_result",
          "data": {
            "text/plain": [
              "0.9399538106235565"
            ]
          },
          "metadata": {
            "tags": []
          },
          "execution_count": 28
        }
      ]
    },
    {
      "cell_type": "markdown",
      "metadata": {
        "id": "LKcmwXVUB_OD",
        "colab_type": "text"
      },
      "source": [
        "### Cross Validation using kfold"
      ]
    },
    {
      "cell_type": "code",
      "metadata": {
        "id": "Zk66tqwt-SnW",
        "colab_type": "code",
        "colab": {}
      },
      "source": [
        "# kfold = KFold(n_splits=2)"
      ],
      "execution_count": 0,
      "outputs": []
    },
    {
      "cell_type": "code",
      "metadata": {
        "id": "iHfmpGQ0_DFX",
        "colab_type": "code",
        "colab": {}
      },
      "source": [
        "# result = cross_val_score(model, X_test, y_test, cv=kfold, scoring='accuracy')"
      ],
      "execution_count": 0,
      "outputs": []
    },
    {
      "cell_type": "code",
      "metadata": {
        "id": "USRI3Isc_fcJ",
        "colab_type": "code",
        "colab": {}
      },
      "source": [
        "# result.mean()"
      ],
      "execution_count": 0,
      "outputs": []
    },
    {
      "cell_type": "markdown",
      "metadata": {
        "id": "l2mvRubfL__d",
        "colab_type": "text"
      },
      "source": [
        "### Accuracy of testing set"
      ]
    },
    {
      "cell_type": "code",
      "metadata": {
        "id": "mMrscZvR_yDP",
        "colab_type": "code",
        "colab": {}
      },
      "source": [
        "from sklearn.metrics import accuracy_score, f1_score, precision_score, recall_score, classification_report, confusion_matrix,cohen_kappa_score\n",
        "prediction = model.predict(X_test)"
      ],
      "execution_count": 0,
      "outputs": []
    },
    {
      "cell_type": "code",
      "metadata": {
        "id": "2tZd26mslcw5",
        "colab_type": "code",
        "outputId": "bbecb803-0b1b-42fb-c305-29020ae5c6ee",
        "colab": {
          "base_uri": "https://localhost:8080/",
          "height": 34
        }
      },
      "source": [
        "accuracy_score(y_test, prediction)"
      ],
      "execution_count": 33,
      "outputs": [
        {
          "output_type": "execute_result",
          "data": {
            "text/plain": [
              "0.9081580297588507"
            ]
          },
          "metadata": {
            "tags": []
          },
          "execution_count": 33
        }
      ]
    },
    {
      "cell_type": "code",
      "metadata": {
        "id": "r24pSq6VMVro",
        "colab_type": "code",
        "outputId": "bc16dfb9-7ad5-4ebc-9d17-a024455b0d63",
        "colab": {
          "base_uri": "https://localhost:8080/",
          "height": 34
        }
      },
      "source": [
        "precision_score(y_test, prediction, average=\"weighted\")"
      ],
      "execution_count": 34,
      "outputs": [
        {
          "output_type": "execute_result",
          "data": {
            "text/plain": [
              "0.9097701686855948"
            ]
          },
          "metadata": {
            "tags": []
          },
          "execution_count": 34
        }
      ]
    },
    {
      "cell_type": "code",
      "metadata": {
        "id": "7wNxqcMfMW-t",
        "colab_type": "code",
        "outputId": "621d0d99-4e03-47ca-b3ad-9fc0ef85c659",
        "colab": {
          "base_uri": "https://localhost:8080/",
          "height": 34
        }
      },
      "source": [
        "recall_score(y_test, prediction, average=\"weighted\")"
      ],
      "execution_count": 35,
      "outputs": [
        {
          "output_type": "execute_result",
          "data": {
            "text/plain": [
              "0.9081580297588507"
            ]
          },
          "metadata": {
            "tags": []
          },
          "execution_count": 35
        }
      ]
    },
    {
      "cell_type": "code",
      "metadata": {
        "id": "SRUpM6E-MUIv",
        "colab_type": "code",
        "outputId": "a778b254-482e-4f04-a0fb-dfd1996226ec",
        "colab": {
          "base_uri": "https://localhost:8080/",
          "height": 34
        }
      },
      "source": [
        "f1_score(y_test, prediction, average=\"weighted\")"
      ],
      "execution_count": 36,
      "outputs": [
        {
          "output_type": "execute_result",
          "data": {
            "text/plain": [
              "0.9082147537498777"
            ]
          },
          "metadata": {
            "tags": []
          },
          "execution_count": 36
        }
      ]
    },
    {
      "cell_type": "code",
      "metadata": {
        "id": "ZvlL64CePFUc",
        "colab_type": "code",
        "outputId": "19455650-a8b9-45b2-b4fe-a3bf322f4d5a",
        "colab": {
          "base_uri": "https://localhost:8080/",
          "height": 34
        }
      },
      "source": [
        "cohen_kappa_score(y_test, prediction, labels=list(x for x in range(1,17)), weights=None, sample_weight=None)"
      ],
      "execution_count": 37,
      "outputs": [
        {
          "output_type": "execute_result",
          "data": {
            "text/plain": [
              "0.9004786777312159"
            ]
          },
          "metadata": {
            "tags": []
          },
          "execution_count": 37
        }
      ]
    },
    {
      "cell_type": "code",
      "metadata": {
        "id": "IKt6JroFRSV3",
        "colab_type": "code",
        "colab": {}
      },
      "source": [
        "# print(classification_report(y_test, prediction, target_names=label_values))"
      ],
      "execution_count": 0,
      "outputs": []
    },
    {
      "cell_type": "code",
      "metadata": {
        "id": "vvgNU9E6p69S",
        "colab_type": "code",
        "outputId": "c1f9de29-d856-4a24-cbcd-0f0f95dd0596",
        "colab": {
          "base_uri": "https://localhost:8080/",
          "height": 51
        }
      },
      "source": [
        "!pip install spectral"
      ],
      "execution_count": 39,
      "outputs": [
        {
          "output_type": "stream",
          "text": [
            "Requirement already satisfied: spectral in /usr/local/lib/python3.6/dist-packages (0.21)\n",
            "Requirement already satisfied: numpy in /usr/local/lib/python3.6/dist-packages (from spectral) (1.18.5)\n"
          ],
          "name": "stdout"
        }
      ]
    },
    {
      "cell_type": "code",
      "metadata": {
        "id": "5vMdzGCb9K-6",
        "colab_type": "code",
        "outputId": "dcd05496-1e29-4416-fb7f-8481540212d0",
        "colab": {
          "base_uri": "https://localhost:8080/",
          "height": 34
        }
      },
      "source": [
        "145*145"
      ],
      "execution_count": 40,
      "outputs": [
        {
          "output_type": "execute_result",
          "data": {
            "text/plain": [
              "21025"
            ]
          },
          "metadata": {
            "tags": []
          },
          "execution_count": 40
        }
      ]
    },
    {
      "cell_type": "code",
      "metadata": {
        "id": "4qOfOftp-FV-",
        "colab_type": "code",
        "outputId": "3c6bac51-e7a5-4436-e200-178a5e12f7e3",
        "colab": {
          "base_uri": "https://localhost:8080/",
          "height": 51
        }
      },
      "source": [
        "!pip install spectral"
      ],
      "execution_count": 41,
      "outputs": [
        {
          "output_type": "stream",
          "text": [
            "Requirement already satisfied: spectral in /usr/local/lib/python3.6/dist-packages (0.21)\n",
            "Requirement already satisfied: numpy in /usr/local/lib/python3.6/dist-packages (from spectral) (1.18.5)\n"
          ],
          "name": "stdout"
        }
      ]
    },
    {
      "cell_type": "code",
      "metadata": {
        "id": "8x2kRgk4fODu",
        "colab_type": "code",
        "colab": {}
      },
      "source": [
        "import spectral as sp\n",
        "prediction = model.predict(X)\n",
        "\n",
        "if not len(prediction.shape) == 2:\n",
        "    y_test = [x + 1 for x in y_test]\n",
        "    y_train = [x + 1 for x in y_train]\n",
        "\n",
        "if len(prediction.shape) == 2:\n",
        "    predicted_gt_1 = np.argmax(prediction, axis=1)\n",
        "    predicted_gt_1_list = list(predicted_gt_1)\n",
        "    predicted_gt_1_list = [x + 1 for x in predicted_gt_1_list]\n",
        "else:\n",
        "    predicted_gt_1_list = list(prediction)\n",
        "\n",
        "for i in zero_data:\n",
        "    predicted_gt_1_list.insert(i, 0)\n",
        "\n",
        "predicted_gt_1_list = np.array(predicted_gt_1_list).reshape(image.shape[0], image.shape[1])\n",
        "sp.save_rgb('predicted_gt.jpg', predicted_gt_1_list, colors=sp.spy_colors)"
      ],
      "execution_count": 0,
      "outputs": []
    },
    {
      "cell_type": "code",
      "metadata": {
        "id": "iy52NhCS-Lov",
        "colab_type": "code",
        "colab": {}
      },
      "source": [
        ""
      ],
      "execution_count": 0,
      "outputs": []
    }
  ]
}