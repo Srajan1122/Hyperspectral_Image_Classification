{
  "nbformat": 4,
  "nbformat_minor": 0,
  "metadata": {
    "colab": {
      "name": "LSTM_PAVIA.ipynb",
      "provenance": [],
      "collapsed_sections": [],
      "include_colab_link": true
    },
    "kernelspec": {
      "name": "python3",
      "display_name": "Python 3"
    },
    "accelerator": "GPU"
  },
  "cells": [
    {
      "cell_type": "markdown",
      "metadata": {
        "id": "view-in-github",
        "colab_type": "text"
      },
      "source": [
        "<a href=\"https://colab.research.google.com/github/Srajan1122/Hyperspectral_Image_Classification/blob/srajan/LSTM.ipynb\" target=\"_parent\"><img src=\"https://colab.research.google.com/assets/colab-badge.svg\" alt=\"Open In Colab\"/></a>"
      ]
    },
    {
      "cell_type": "code",
      "metadata": {
        "id": "8Nc85IUnQUS-",
        "colab_type": "code",
        "outputId": "5173145f-7b0f-4f6e-c760-086215cd39dc",
        "colab": {
          "base_uri": "https://localhost:8080/",
          "height": 122
        }
      },
      "source": [
        "from google.colab import drive\n",
        "drive.mount('/content/drive')"
      ],
      "execution_count": 1,
      "outputs": [
        {
          "output_type": "stream",
          "text": [
            "Go to this URL in a browser: https://accounts.google.com/o/oauth2/auth?client_id=947318989803-6bn6qk8qdgf4n4g3pfee6491hc0brc4i.apps.googleusercontent.com&redirect_uri=urn%3aietf%3awg%3aoauth%3a2.0%3aoob&response_type=code&scope=email%20https%3a%2f%2fwww.googleapis.com%2fauth%2fdocs.test%20https%3a%2f%2fwww.googleapis.com%2fauth%2fdrive%20https%3a%2f%2fwww.googleapis.com%2fauth%2fdrive.photos.readonly%20https%3a%2f%2fwww.googleapis.com%2fauth%2fpeopleapi.readonly\n",
            "\n",
            "Enter your authorization code:\n",
            "··········\n",
            "Mounted at /content/drive\n"
          ],
          "name": "stdout"
        }
      ]
    },
    {
      "cell_type": "markdown",
      "metadata": {
        "id": "aXpp9_cwKqz1",
        "colab_type": "text"
      },
      "source": [
        "# Importing Libraries"
      ]
    },
    {
      "cell_type": "code",
      "metadata": {
        "id": "qVxnzfWvKN-K",
        "colab_type": "code",
        "colab": {}
      },
      "source": [
        "import pandas as pd\n",
        "import numpy as np\n",
        "from scipy import io\n",
        "from sklearn.model_selection import train_test_split\n",
        "from sklearn.preprocessing import OneHotEncoder \n",
        "from sklearn import preprocessing\n",
        "import tensorflow.keras\n",
        "from tensorflow.keras.models import Sequential\n",
        "from tensorflow.keras.layers import Dense,Flatten, Dropout, LSTM"
      ],
      "execution_count": 0,
      "outputs": []
    },
    {
      "cell_type": "code",
      "metadata": {
        "id": "erOp3hTTKuzQ",
        "colab_type": "code",
        "colab": {}
      },
      "source": [
        "loaded_dataset = io.loadmat('/content/drive/My Drive/Srajan/Internship/SEM4-LeadingindiaAI/Tasks/Datasets/Botswana/Botswana.mat')\n",
        "for key, value in loaded_dataset.items():\n",
        "  if isinstance(value, type(np.array([1]))):\n",
        "    image = loaded_dataset[key]"
      ],
      "execution_count": 0,
      "outputs": []
    },
    {
      "cell_type": "code",
      "metadata": {
        "id": "HjbphR_nK5O8",
        "colab_type": "code",
        "colab": {}
      },
      "source": [
        "ground_truth_1 = io.loadmat('/content/drive/My Drive/Srajan/Internship/SEM4-LeadingindiaAI/Tasks/Datasets/Botswana/Botswana_gt.mat')\n",
        "for key, value in ground_truth_1.items():\n",
        "  if isinstance(value, type(np.array([1]))):\n",
        "    ground_truth = ground_truth_1[key]"
      ],
      "execution_count": 0,
      "outputs": []
    },
    {
      "cell_type": "markdown",
      "metadata": {
        "id": "QYIFKIPmLCFV",
        "colab_type": "text"
      },
      "source": [
        "## Resizing the data"
      ]
    },
    {
      "cell_type": "code",
      "metadata": {
        "id": "UnRRsjn8K_zG",
        "colab_type": "code",
        "colab": {}
      },
      "source": [
        "image_with_gt = np.dstack((image, ground_truth))"
      ],
      "execution_count": 0,
      "outputs": []
    },
    {
      "cell_type": "code",
      "metadata": {
        "id": "P2hhElWJLF9V",
        "colab_type": "code",
        "colab": {}
      },
      "source": [
        "final_output = image_with_gt.reshape(ground_truth.size, image.shape[2]+1)"
      ],
      "execution_count": 0,
      "outputs": []
    },
    {
      "cell_type": "markdown",
      "metadata": {
        "id": "ZKGD0bRxLJff",
        "colab_type": "text"
      },
      "source": [
        "## Data Visualization in pandas"
      ]
    },
    {
      "cell_type": "code",
      "metadata": {
        "id": "4AWkTHdDLOwf",
        "colab_type": "code",
        "colab": {}
      },
      "source": [
        "data = pd.DataFrame(final_output)"
      ],
      "execution_count": 0,
      "outputs": []
    },
    {
      "cell_type": "code",
      "metadata": {
        "id": "9ctUP_zKLUpJ",
        "colab_type": "code",
        "outputId": "e4639341-aa33-4bf3-cf3f-2dea9b5d073d",
        "colab": {
          "base_uri": "https://localhost:8080/",
          "height": 253
        }
      },
      "source": [
        "data.head()"
      ],
      "execution_count": 8,
      "outputs": [
        {
          "output_type": "execute_result",
          "data": {
            "text/html": [
              "<div>\n",
              "<style scoped>\n",
              "    .dataframe tbody tr th:only-of-type {\n",
              "        vertical-align: middle;\n",
              "    }\n",
              "\n",
              "    .dataframe tbody tr th {\n",
              "        vertical-align: top;\n",
              "    }\n",
              "\n",
              "    .dataframe thead th {\n",
              "        text-align: right;\n",
              "    }\n",
              "</style>\n",
              "<table border=\"1\" class=\"dataframe\">\n",
              "  <thead>\n",
              "    <tr style=\"text-align: right;\">\n",
              "      <th></th>\n",
              "      <th>0</th>\n",
              "      <th>1</th>\n",
              "      <th>2</th>\n",
              "      <th>3</th>\n",
              "      <th>4</th>\n",
              "      <th>5</th>\n",
              "      <th>6</th>\n",
              "      <th>7</th>\n",
              "      <th>8</th>\n",
              "      <th>9</th>\n",
              "      <th>10</th>\n",
              "      <th>11</th>\n",
              "      <th>12</th>\n",
              "      <th>13</th>\n",
              "      <th>14</th>\n",
              "      <th>15</th>\n",
              "      <th>16</th>\n",
              "      <th>17</th>\n",
              "      <th>18</th>\n",
              "      <th>19</th>\n",
              "      <th>20</th>\n",
              "      <th>21</th>\n",
              "      <th>22</th>\n",
              "      <th>23</th>\n",
              "      <th>24</th>\n",
              "      <th>25</th>\n",
              "      <th>26</th>\n",
              "      <th>27</th>\n",
              "      <th>28</th>\n",
              "      <th>29</th>\n",
              "      <th>30</th>\n",
              "      <th>31</th>\n",
              "      <th>32</th>\n",
              "      <th>33</th>\n",
              "      <th>34</th>\n",
              "      <th>35</th>\n",
              "      <th>36</th>\n",
              "      <th>37</th>\n",
              "      <th>38</th>\n",
              "      <th>39</th>\n",
              "      <th>...</th>\n",
              "      <th>106</th>\n",
              "      <th>107</th>\n",
              "      <th>108</th>\n",
              "      <th>109</th>\n",
              "      <th>110</th>\n",
              "      <th>111</th>\n",
              "      <th>112</th>\n",
              "      <th>113</th>\n",
              "      <th>114</th>\n",
              "      <th>115</th>\n",
              "      <th>116</th>\n",
              "      <th>117</th>\n",
              "      <th>118</th>\n",
              "      <th>119</th>\n",
              "      <th>120</th>\n",
              "      <th>121</th>\n",
              "      <th>122</th>\n",
              "      <th>123</th>\n",
              "      <th>124</th>\n",
              "      <th>125</th>\n",
              "      <th>126</th>\n",
              "      <th>127</th>\n",
              "      <th>128</th>\n",
              "      <th>129</th>\n",
              "      <th>130</th>\n",
              "      <th>131</th>\n",
              "      <th>132</th>\n",
              "      <th>133</th>\n",
              "      <th>134</th>\n",
              "      <th>135</th>\n",
              "      <th>136</th>\n",
              "      <th>137</th>\n",
              "      <th>138</th>\n",
              "      <th>139</th>\n",
              "      <th>140</th>\n",
              "      <th>141</th>\n",
              "      <th>142</th>\n",
              "      <th>143</th>\n",
              "      <th>144</th>\n",
              "      <th>145</th>\n",
              "    </tr>\n",
              "  </thead>\n",
              "  <tbody>\n",
              "    <tr>\n",
              "      <th>0</th>\n",
              "      <td>3996</td>\n",
              "      <td>3952</td>\n",
              "      <td>3698</td>\n",
              "      <td>3457</td>\n",
              "      <td>3063</td>\n",
              "      <td>2914</td>\n",
              "      <td>2796</td>\n",
              "      <td>2538</td>\n",
              "      <td>2629</td>\n",
              "      <td>2613</td>\n",
              "      <td>2533</td>\n",
              "      <td>2517</td>\n",
              "      <td>2306</td>\n",
              "      <td>2149</td>\n",
              "      <td>2065</td>\n",
              "      <td>1994</td>\n",
              "      <td>1943</td>\n",
              "      <td>1840</td>\n",
              "      <td>1779</td>\n",
              "      <td>1726</td>\n",
              "      <td>1654</td>\n",
              "      <td>1519</td>\n",
              "      <td>1542</td>\n",
              "      <td>1478</td>\n",
              "      <td>1404</td>\n",
              "      <td>1600</td>\n",
              "      <td>2755</td>\n",
              "      <td>2806</td>\n",
              "      <td>3459</td>\n",
              "      <td>4137</td>\n",
              "      <td>4008</td>\n",
              "      <td>2741</td>\n",
              "      <td>4144</td>\n",
              "      <td>4268</td>\n",
              "      <td>4069</td>\n",
              "      <td>4020</td>\n",
              "      <td>3537</td>\n",
              "      <td>3335</td>\n",
              "      <td>3582</td>\n",
              "      <td>3868</td>\n",
              "      <td>...</td>\n",
              "      <td>450</td>\n",
              "      <td>385</td>\n",
              "      <td>316</td>\n",
              "      <td>240</td>\n",
              "      <td>157</td>\n",
              "      <td>98</td>\n",
              "      <td>149</td>\n",
              "      <td>142</td>\n",
              "      <td>106</td>\n",
              "      <td>91</td>\n",
              "      <td>107</td>\n",
              "      <td>158</td>\n",
              "      <td>164</td>\n",
              "      <td>163</td>\n",
              "      <td>166</td>\n",
              "      <td>184</td>\n",
              "      <td>196</td>\n",
              "      <td>181</td>\n",
              "      <td>169</td>\n",
              "      <td>156</td>\n",
              "      <td>159</td>\n",
              "      <td>134</td>\n",
              "      <td>135</td>\n",
              "      <td>144</td>\n",
              "      <td>159</td>\n",
              "      <td>142</td>\n",
              "      <td>138</td>\n",
              "      <td>145</td>\n",
              "      <td>138</td>\n",
              "      <td>110</td>\n",
              "      <td>104</td>\n",
              "      <td>114</td>\n",
              "      <td>89</td>\n",
              "      <td>89</td>\n",
              "      <td>77</td>\n",
              "      <td>73</td>\n",
              "      <td>60</td>\n",
              "      <td>53</td>\n",
              "      <td>54</td>\n",
              "      <td>0</td>\n",
              "    </tr>\n",
              "    <tr>\n",
              "      <th>1</th>\n",
              "      <td>3996</td>\n",
              "      <td>3952</td>\n",
              "      <td>3698</td>\n",
              "      <td>3457</td>\n",
              "      <td>3063</td>\n",
              "      <td>2914</td>\n",
              "      <td>2796</td>\n",
              "      <td>2538</td>\n",
              "      <td>2629</td>\n",
              "      <td>2613</td>\n",
              "      <td>2533</td>\n",
              "      <td>2517</td>\n",
              "      <td>2306</td>\n",
              "      <td>2149</td>\n",
              "      <td>2065</td>\n",
              "      <td>1994</td>\n",
              "      <td>1943</td>\n",
              "      <td>1840</td>\n",
              "      <td>1779</td>\n",
              "      <td>1726</td>\n",
              "      <td>1654</td>\n",
              "      <td>1519</td>\n",
              "      <td>1542</td>\n",
              "      <td>1478</td>\n",
              "      <td>1404</td>\n",
              "      <td>1600</td>\n",
              "      <td>2029</td>\n",
              "      <td>2172</td>\n",
              "      <td>2672</td>\n",
              "      <td>3195</td>\n",
              "      <td>3184</td>\n",
              "      <td>2182</td>\n",
              "      <td>3316</td>\n",
              "      <td>3402</td>\n",
              "      <td>3199</td>\n",
              "      <td>3147</td>\n",
              "      <td>2763</td>\n",
              "      <td>2517</td>\n",
              "      <td>2841</td>\n",
              "      <td>3098</td>\n",
              "      <td>...</td>\n",
              "      <td>427</td>\n",
              "      <td>371</td>\n",
              "      <td>301</td>\n",
              "      <td>226</td>\n",
              "      <td>145</td>\n",
              "      <td>92</td>\n",
              "      <td>128</td>\n",
              "      <td>134</td>\n",
              "      <td>92</td>\n",
              "      <td>85</td>\n",
              "      <td>114</td>\n",
              "      <td>140</td>\n",
              "      <td>149</td>\n",
              "      <td>158</td>\n",
              "      <td>159</td>\n",
              "      <td>166</td>\n",
              "      <td>175</td>\n",
              "      <td>160</td>\n",
              "      <td>151</td>\n",
              "      <td>137</td>\n",
              "      <td>141</td>\n",
              "      <td>133</td>\n",
              "      <td>135</td>\n",
              "      <td>132</td>\n",
              "      <td>143</td>\n",
              "      <td>134</td>\n",
              "      <td>123</td>\n",
              "      <td>133</td>\n",
              "      <td>122</td>\n",
              "      <td>117</td>\n",
              "      <td>109</td>\n",
              "      <td>103</td>\n",
              "      <td>83</td>\n",
              "      <td>93</td>\n",
              "      <td>80</td>\n",
              "      <td>69</td>\n",
              "      <td>59</td>\n",
              "      <td>54</td>\n",
              "      <td>57</td>\n",
              "      <td>0</td>\n",
              "    </tr>\n",
              "    <tr>\n",
              "      <th>2</th>\n",
              "      <td>4100</td>\n",
              "      <td>3923</td>\n",
              "      <td>3615</td>\n",
              "      <td>3451</td>\n",
              "      <td>2941</td>\n",
              "      <td>2886</td>\n",
              "      <td>2850</td>\n",
              "      <td>2581</td>\n",
              "      <td>2628</td>\n",
              "      <td>2616</td>\n",
              "      <td>2607</td>\n",
              "      <td>2479</td>\n",
              "      <td>2359</td>\n",
              "      <td>2118</td>\n",
              "      <td>2099</td>\n",
              "      <td>1946</td>\n",
              "      <td>1971</td>\n",
              "      <td>1885</td>\n",
              "      <td>1743</td>\n",
              "      <td>1774</td>\n",
              "      <td>1680</td>\n",
              "      <td>1566</td>\n",
              "      <td>1534</td>\n",
              "      <td>1494</td>\n",
              "      <td>1375</td>\n",
              "      <td>1603</td>\n",
              "      <td>2152</td>\n",
              "      <td>2277</td>\n",
              "      <td>2870</td>\n",
              "      <td>3474</td>\n",
              "      <td>3502</td>\n",
              "      <td>2441</td>\n",
              "      <td>3612</td>\n",
              "      <td>3677</td>\n",
              "      <td>3489</td>\n",
              "      <td>3410</td>\n",
              "      <td>2991</td>\n",
              "      <td>2866</td>\n",
              "      <td>3101</td>\n",
              "      <td>3280</td>\n",
              "      <td>...</td>\n",
              "      <td>365</td>\n",
              "      <td>324</td>\n",
              "      <td>270</td>\n",
              "      <td>199</td>\n",
              "      <td>131</td>\n",
              "      <td>70</td>\n",
              "      <td>95</td>\n",
              "      <td>101</td>\n",
              "      <td>76</td>\n",
              "      <td>75</td>\n",
              "      <td>98</td>\n",
              "      <td>105</td>\n",
              "      <td>124</td>\n",
              "      <td>134</td>\n",
              "      <td>138</td>\n",
              "      <td>135</td>\n",
              "      <td>140</td>\n",
              "      <td>123</td>\n",
              "      <td>118</td>\n",
              "      <td>111</td>\n",
              "      <td>112</td>\n",
              "      <td>123</td>\n",
              "      <td>119</td>\n",
              "      <td>110</td>\n",
              "      <td>114</td>\n",
              "      <td>103</td>\n",
              "      <td>95</td>\n",
              "      <td>107</td>\n",
              "      <td>98</td>\n",
              "      <td>113</td>\n",
              "      <td>102</td>\n",
              "      <td>85</td>\n",
              "      <td>67</td>\n",
              "      <td>89</td>\n",
              "      <td>79</td>\n",
              "      <td>55</td>\n",
              "      <td>52</td>\n",
              "      <td>51</td>\n",
              "      <td>56</td>\n",
              "      <td>0</td>\n",
              "    </tr>\n",
              "    <tr>\n",
              "      <th>3</th>\n",
              "      <td>3908</td>\n",
              "      <td>3889</td>\n",
              "      <td>3594</td>\n",
              "      <td>3343</td>\n",
              "      <td>2975</td>\n",
              "      <td>2813</td>\n",
              "      <td>2665</td>\n",
              "      <td>2445</td>\n",
              "      <td>2532</td>\n",
              "      <td>2489</td>\n",
              "      <td>2423</td>\n",
              "      <td>2328</td>\n",
              "      <td>2209</td>\n",
              "      <td>2039</td>\n",
              "      <td>1944</td>\n",
              "      <td>1871</td>\n",
              "      <td>1850</td>\n",
              "      <td>1700</td>\n",
              "      <td>1616</td>\n",
              "      <td>1564</td>\n",
              "      <td>1493</td>\n",
              "      <td>1398</td>\n",
              "      <td>1356</td>\n",
              "      <td>1345</td>\n",
              "      <td>1271</td>\n",
              "      <td>1463</td>\n",
              "      <td>2046</td>\n",
              "      <td>2243</td>\n",
              "      <td>2939</td>\n",
              "      <td>3522</td>\n",
              "      <td>3582</td>\n",
              "      <td>2506</td>\n",
              "      <td>3674</td>\n",
              "      <td>3793</td>\n",
              "      <td>3590</td>\n",
              "      <td>3536</td>\n",
              "      <td>3125</td>\n",
              "      <td>2942</td>\n",
              "      <td>3194</td>\n",
              "      <td>3397</td>\n",
              "      <td>...</td>\n",
              "      <td>370</td>\n",
              "      <td>324</td>\n",
              "      <td>263</td>\n",
              "      <td>200</td>\n",
              "      <td>143</td>\n",
              "      <td>68</td>\n",
              "      <td>100</td>\n",
              "      <td>103</td>\n",
              "      <td>85</td>\n",
              "      <td>74</td>\n",
              "      <td>86</td>\n",
              "      <td>111</td>\n",
              "      <td>126</td>\n",
              "      <td>139</td>\n",
              "      <td>147</td>\n",
              "      <td>125</td>\n",
              "      <td>121</td>\n",
              "      <td>125</td>\n",
              "      <td>120</td>\n",
              "      <td>106</td>\n",
              "      <td>116</td>\n",
              "      <td>117</td>\n",
              "      <td>106</td>\n",
              "      <td>110</td>\n",
              "      <td>118</td>\n",
              "      <td>109</td>\n",
              "      <td>107</td>\n",
              "      <td>106</td>\n",
              "      <td>108</td>\n",
              "      <td>103</td>\n",
              "      <td>94</td>\n",
              "      <td>75</td>\n",
              "      <td>61</td>\n",
              "      <td>73</td>\n",
              "      <td>64</td>\n",
              "      <td>50</td>\n",
              "      <td>57</td>\n",
              "      <td>48</td>\n",
              "      <td>45</td>\n",
              "      <td>0</td>\n",
              "    </tr>\n",
              "    <tr>\n",
              "      <th>4</th>\n",
              "      <td>4007</td>\n",
              "      <td>3926</td>\n",
              "      <td>3767</td>\n",
              "      <td>3445</td>\n",
              "      <td>3038</td>\n",
              "      <td>2945</td>\n",
              "      <td>2914</td>\n",
              "      <td>2588</td>\n",
              "      <td>2616</td>\n",
              "      <td>2624</td>\n",
              "      <td>2608</td>\n",
              "      <td>2509</td>\n",
              "      <td>2347</td>\n",
              "      <td>2176</td>\n",
              "      <td>2099</td>\n",
              "      <td>2002</td>\n",
              "      <td>1982</td>\n",
              "      <td>1889</td>\n",
              "      <td>1775</td>\n",
              "      <td>1687</td>\n",
              "      <td>1705</td>\n",
              "      <td>1531</td>\n",
              "      <td>1530</td>\n",
              "      <td>1454</td>\n",
              "      <td>1450</td>\n",
              "      <td>1631</td>\n",
              "      <td>2222</td>\n",
              "      <td>2426</td>\n",
              "      <td>3174</td>\n",
              "      <td>3859</td>\n",
              "      <td>3855</td>\n",
              "      <td>2711</td>\n",
              "      <td>4073</td>\n",
              "      <td>4139</td>\n",
              "      <td>3992</td>\n",
              "      <td>3948</td>\n",
              "      <td>3447</td>\n",
              "      <td>3264</td>\n",
              "      <td>3517</td>\n",
              "      <td>3747</td>\n",
              "      <td>...</td>\n",
              "      <td>380</td>\n",
              "      <td>327</td>\n",
              "      <td>259</td>\n",
              "      <td>198</td>\n",
              "      <td>142</td>\n",
              "      <td>67</td>\n",
              "      <td>102</td>\n",
              "      <td>116</td>\n",
              "      <td>94</td>\n",
              "      <td>68</td>\n",
              "      <td>82</td>\n",
              "      <td>116</td>\n",
              "      <td>127</td>\n",
              "      <td>147</td>\n",
              "      <td>154</td>\n",
              "      <td>118</td>\n",
              "      <td>106</td>\n",
              "      <td>122</td>\n",
              "      <td>120</td>\n",
              "      <td>106</td>\n",
              "      <td>119</td>\n",
              "      <td>106</td>\n",
              "      <td>97</td>\n",
              "      <td>112</td>\n",
              "      <td>119</td>\n",
              "      <td>122</td>\n",
              "      <td>119</td>\n",
              "      <td>113</td>\n",
              "      <td>111</td>\n",
              "      <td>94</td>\n",
              "      <td>88</td>\n",
              "      <td>63</td>\n",
              "      <td>57</td>\n",
              "      <td>62</td>\n",
              "      <td>51</td>\n",
              "      <td>49</td>\n",
              "      <td>56</td>\n",
              "      <td>42</td>\n",
              "      <td>41</td>\n",
              "      <td>0</td>\n",
              "    </tr>\n",
              "  </tbody>\n",
              "</table>\n",
              "<p>5 rows × 146 columns</p>\n",
              "</div>"
            ],
            "text/plain": [
              "    0     1     2     3     4     5     6    ...  139  140  141  142  143  144  145\n",
              "0  3996  3952  3698  3457  3063  2914  2796  ...   89   77   73   60   53   54    0\n",
              "1  3996  3952  3698  3457  3063  2914  2796  ...   93   80   69   59   54   57    0\n",
              "2  4100  3923  3615  3451  2941  2886  2850  ...   89   79   55   52   51   56    0\n",
              "3  3908  3889  3594  3343  2975  2813  2665  ...   73   64   50   57   48   45    0\n",
              "4  4007  3926  3767  3445  3038  2945  2914  ...   62   51   49   56   42   41    0\n",
              "\n",
              "[5 rows x 146 columns]"
            ]
          },
          "metadata": {
            "tags": []
          },
          "execution_count": 8
        }
      ]
    },
    {
      "cell_type": "markdown",
      "metadata": {
        "id": "OLWjsfqaLZs0",
        "colab_type": "text"
      },
      "source": [
        "## Droping the rows if ground truth value is zero"
      ]
    },
    {
      "cell_type": "code",
      "metadata": {
        "id": "OlyctDjwLYkb",
        "colab_type": "code",
        "outputId": "22d7b7bb-deaa-4378-d618-5f76248f42fa",
        "colab": {
          "base_uri": "https://localhost:8080/",
          "height": 34
        }
      },
      "source": [
        "print(\"Percentage of column which will be droped\",(data.size - data[data.iloc[:, -1] == 0].size)/data.size,\"%\")"
      ],
      "execution_count": 9,
      "outputs": [
        {
          "output_type": "stream",
          "text": [
            "Percentage of column which will be droped 0.008595867208672087 %\n"
          ],
          "name": "stdout"
        }
      ]
    },
    {
      "cell_type": "code",
      "metadata": {
        "id": "_tJ0vUTCLhZx",
        "colab_type": "code",
        "colab": {}
      },
      "source": [
        "zero_data = data.index[data.iloc[:, -1] == 0].tolist()\n",
        "data = data[data.iloc[:, -1] != 0]"
      ],
      "execution_count": 0,
      "outputs": []
    },
    {
      "cell_type": "markdown",
      "metadata": {
        "id": "kE5Gc8BTLiAN",
        "colab_type": "text"
      },
      "source": [
        "# Spliting the data into feature and target"
      ]
    },
    {
      "cell_type": "code",
      "metadata": {
        "id": "FJ4dCIbILrwg",
        "colab_type": "code",
        "colab": {}
      },
      "source": [
        "X = data.iloc[:, :-1]\n",
        "y = data.iloc[:,-1]"
      ],
      "execution_count": 0,
      "outputs": []
    },
    {
      "cell_type": "code",
      "metadata": {
        "id": "LsEdV9Hi6wfu",
        "colab_type": "code",
        "colab": {}
      },
      "source": [
        "number_of_classes = len(np.unique(y))"
      ],
      "execution_count": 0,
      "outputs": []
    },
    {
      "cell_type": "markdown",
      "metadata": {
        "id": "CHPv8SimL1Iu",
        "colab_type": "text"
      },
      "source": [
        "# Feature Selection"
      ]
    },
    {
      "cell_type": "code",
      "metadata": {
        "id": "6aMaE8k8L0VV",
        "colab_type": "code",
        "colab": {}
      },
      "source": [
        "# from sklearn.feature_selection import SelectKBest\n",
        "# from sklearn.feature_selection import chi2, f_classif, mutual_info_classif\n",
        "\n",
        "# X = SelectKBest(f_classif, k=int((image.shape[2]+1)*0.75)).fit_transform(X, y)"
      ],
      "execution_count": 0,
      "outputs": []
    },
    {
      "cell_type": "markdown",
      "metadata": {
        "id": "nCO0t_-J0G6J",
        "colab_type": "text"
      },
      "source": [
        "# Feature Extraction \n"
      ]
    },
    {
      "cell_type": "code",
      "metadata": {
        "id": "NIjIpV160KKZ",
        "colab_type": "code",
        "colab": {}
      },
      "source": [
        "from sklearn.decomposition import PCA \n",
        "\n",
        "pca = PCA(n_components = int((image.shape[2]+1)*0.80))\n",
        "X = pca.fit_transform(X)"
      ],
      "execution_count": 0,
      "outputs": []
    },
    {
      "cell_type": "markdown",
      "metadata": {
        "id": "fijfR_5DL9IK",
        "colab_type": "text"
      },
      "source": [
        "# OneHotEncoding in target column"
      ]
    },
    {
      "cell_type": "code",
      "metadata": {
        "id": "_QoUCdAwMBAD",
        "colab_type": "code",
        "colab": {}
      },
      "source": [
        "# onehotencoder = OneHotEncoder() \n",
        "# y = onehotencoder.fit_transform(np.array(y).reshape(-1,1)).toarray() "
      ],
      "execution_count": 0,
      "outputs": []
    },
    {
      "cell_type": "markdown",
      "metadata": {
        "id": "IlNWTtSVMEjl",
        "colab_type": "text"
      },
      "source": [
        "# Standardizing the feature columna"
      ]
    },
    {
      "cell_type": "code",
      "metadata": {
        "id": "PPshPrqEMJvm",
        "colab_type": "code",
        "colab": {}
      },
      "source": [
        "X = preprocessing.scale(X)"
      ],
      "execution_count": 0,
      "outputs": []
    },
    {
      "cell_type": "markdown",
      "metadata": {
        "id": "DRtV7aDDqr5a",
        "colab_type": "text"
      },
      "source": [
        "# Spliting the data into training and testing set "
      ]
    },
    {
      "cell_type": "code",
      "metadata": {
        "id": "DattLTVzqr5b",
        "colab_type": "code",
        "colab": {}
      },
      "source": [
        "X_train, X_test, y_train, y_test = train_test_split(X, y, test_size=0.60, random_state=1)#0.25 0.15"
      ],
      "execution_count": 0,
      "outputs": []
    },
    {
      "cell_type": "code",
      "metadata": {
        "id": "2OngDFGdDdPx",
        "colab_type": "code",
        "colab": {}
      },
      "source": [
        "number = int(X_test.shape[0]/2)\n",
        "\n",
        "xx_test = X_test[:number, :]\n",
        "xx_val = X_test[number:, :]\n",
        "\n",
        "if len(y_test.shape) > 1:\n",
        "  loss = tensorflow.keras.losses.categorical_crossentropy\n",
        "  metrics=['accuracy']\n",
        "  yy_test = y_test[:number, :]\n",
        "  yy_val = y_test[number:, :]\n",
        "else:\n",
        "  loss = tensorflow.keras.losses.sparse_categorical_crossentropy\n",
        "  metrics=['sparse_categorical_accuracy']\n",
        "  y_test = [x - 1 for x in y_test]\n",
        "  y_train = [x - 1 for x in y_train]\n",
        "  yy_test = y_test[:number]\n",
        "  yy_val = y_test[number:]"
      ],
      "execution_count": 0,
      "outputs": []
    },
    {
      "cell_type": "code",
      "metadata": {
        "id": "9M33_KnJNu7n",
        "colab_type": "code",
        "colab": {}
      },
      "source": [
        "from tensorflow.keras import backend as K\n",
        "feature = X.shape[1]\n",
        "\n",
        "# if K.image_data_format() == 'channels_first':\n",
        "#     X_train = X_train.reshape(X_train.shape[0], 1, feature)\n",
        "#     xx_test = xx_test.reshape(xx_test.shape[0], 1, feature)\n",
        "#     xx_val = xx_val.reshape(xx_val.shape[0], 1, feature)\n",
        "#     input_shape = (1, feature)\n",
        "# else:\n",
        "#     X_train = X_train.reshape(X_train.shape[0], feature, 1)\n",
        "#     xx_test = xx_test.reshape(xx_test.shape[0], feature, 1)\n",
        "#     xx_val = xx_val.reshape(xx_val.shape[0], feature, 1)\n",
        "#     input_shape = (feature, 1)\n",
        "\n",
        "X = X.reshape(X.shape[0], 1, feature)\n",
        "X_train = X_train.reshape(X_train.shape[0], 1, feature)\n",
        "xx_test = xx_test.reshape(xx_test.shape[0], 1, feature)\n",
        "xx_val = xx_val.reshape(xx_val.shape[0], 1, feature)\n",
        "input_shape = (1, feature)"
      ],
      "execution_count": 0,
      "outputs": []
    },
    {
      "cell_type": "markdown",
      "metadata": {
        "id": "MQLkUnZ_YsYO",
        "colab_type": "text"
      },
      "source": [
        "# Genetic Algorithm"
      ]
    },
    {
      "cell_type": "code",
      "metadata": {
        "id": "1-9MDtAugFbk",
        "colab_type": "code",
        "outputId": "ba7b88ad-c497-4721-b9ba-b9f10b1829b2",
        "colab": {
          "base_uri": "https://localhost:8080/",
          "height": 187
        }
      },
      "source": [
        "!pip install pyeasyga"
      ],
      "execution_count": 20,
      "outputs": [
        {
          "output_type": "stream",
          "text": [
            "Collecting pyeasyga\n",
            "  Downloading https://files.pythonhosted.org/packages/3f/1b/d2834ca8e108806734a59579fe38a9fa1329f2527d622c43894c1c85a233/pyeasyga-0.3.1.tar.gz\n",
            "Requirement already satisfied: six in /usr/local/lib/python3.6/dist-packages (from pyeasyga) (1.12.0)\n",
            "Building wheels for collected packages: pyeasyga\n",
            "  Building wheel for pyeasyga (setup.py) ... \u001b[?25l\u001b[?25hdone\n",
            "  Created wheel for pyeasyga: filename=pyeasyga-0.3.1-py2.py3-none-any.whl size=6774 sha256=6db7ae1ba331f0a8616a0694967027af2722e2fa05626dcce5dd09f8ea231e8a\n",
            "  Stored in directory: /root/.cache/pip/wheels/ef/cf/ef/7aff9fcd6c1e59dc276182f29a32e7c197665dd5eb547f30e6\n",
            "Successfully built pyeasyga\n",
            "Installing collected packages: pyeasyga\n",
            "Successfully installed pyeasyga-0.3.1\n"
          ],
          "name": "stdout"
        }
      ]
    },
    {
      "cell_type": "code",
      "metadata": {
        "id": "3bAr5dYIYrxF",
        "colab_type": "code",
        "colab": {}
      },
      "source": [
        "# from pyeasyga import pyeasyga\n",
        "# import random\n",
        "# import numpy as np\n",
        "# from sklearn.metrics import accuracy_score\n",
        "# import keras\n",
        "# import time\n",
        "\n",
        "# count = 1\n",
        "\n",
        "# def initilialize_population():\n",
        "#     filter_1 = list(x for x in range(70, 120, 5))\n",
        "#     filter_2 = list(x for x in range(70, 120, 5))\n",
        "\n",
        "#     population = [filter_1, filter_2]\n",
        "\n",
        "#     return list(population)\n",
        "\n",
        "# def create_individual(data):\n",
        "#   choice = []\n",
        "#   for i in range(len(data)):\n",
        "#     choice.append(random.choice(list(range(len(data[i])))))\n",
        "#   return choice\n",
        "\n",
        "# def fitness_function(individual, data):\n",
        "#   global count\n",
        "#   print('Individual no', count)\n",
        "#   count += 1\n",
        "\n",
        "#   model = Sequential()\n",
        "#   model.add(LSTM(data[0][individual[0]], input_shape=input_shape, return_sequences=False))\n",
        "#   model.add(Dropout(0.25))\n",
        "\n",
        "#   model.add(Dense(number_of_classes, activation='softmax'))\n",
        "\n",
        "#   model.compile(loss=loss,\n",
        "#                 optimizer='adam',\n",
        "#                 metrics=metrics)\n",
        "\n",
        "#   model.fit(X_train, np.array(y_train),\n",
        "#             batch_size=128,\n",
        "#             epochs=20,\n",
        "#             verbose=1,\n",
        "#             validation_data=(xx_val,np.array(yy_val)))\n",
        "\n",
        "\n",
        "#   score = model.evaluate(xx_test, np.array(yy_test), verbose=1)[1]\n",
        "#   # prediction = model.predict(X_test)\n",
        "#   # score = accuracy_score(y_test, prediction)\n",
        "#   print('Score is', score)\n",
        "#   return score\n",
        "  \n",
        "# data = initilialize_population()\n",
        "# ga = pyeasyga.GeneticAlgorithm(seed_data=data,\n",
        "#                                population_size=1,\n",
        "#                                generations=1,\n",
        "#                                crossover_probability=0.8,\n",
        "#                                mutation_probability=0.4,\n",
        "#                                elitism=True,\n",
        "#                                maximise_fitness=True)\n",
        "# ga.create_individual = create_individual\n",
        "# ga.fitness_function = fitness_function\n",
        "\n",
        "# start = time.time()\n",
        "# ga.run()\n",
        "# end = time.time()\n",
        "# print('Time taken ------>', end-start)"
      ],
      "execution_count": 0,
      "outputs": []
    },
    {
      "cell_type": "code",
      "metadata": {
        "id": "MU62XsCXnOj4",
        "colab_type": "code",
        "colab": {}
      },
      "source": [
        "# best_parameters = ga.best_individual()[1]\n",
        "# for index,i in enumerate(data):\n",
        "#   print(i[best_parameters[index]])\n",
        "\n",
        "# print(ga.best_individual()[0])"
      ],
      "execution_count": 0,
      "outputs": []
    },
    {
      "cell_type": "markdown",
      "metadata": {
        "id": "Q5feYcZI8Xqf",
        "colab_type": "text"
      },
      "source": [
        "# Building RNN Model"
      ]
    },
    {
      "cell_type": "code",
      "metadata": {
        "id": "7ZfW_PApTWrB",
        "colab_type": "code",
        "colab": {}
      },
      "source": [
        "# # design network\n",
        "# model = Sequential()\n",
        "# model.add(LSTM(data[0][best_parameters[0]], input_shape=input_shape, return_sequences=False))\n",
        "# model.add(Dropout(0.25))\n",
        "\n",
        "# model.add(Dense(number_of_classes, activation='softmax'))\n",
        "# model.compile(loss=loss, optimizer='adam', metrics=metrics)\n",
        "# model.summary()\n",
        "\n",
        "# # fit network\n",
        "# history = model.fit(X_train, np.array(y_train), validation_data=(xx_val, np.array(yy_val)), \n",
        "#                     epochs=25,verbose=1)"
      ],
      "execution_count": 0,
      "outputs": []
    },
    {
      "cell_type": "code",
      "metadata": {
        "id": "HX5CwBznD9yr",
        "colab_type": "code",
        "outputId": "f6a23a76-386b-4eb9-f61d-4153a19154f6",
        "colab": {
          "base_uri": "https://localhost:8080/",
          "height": 1000
        }
      },
      "source": [
        "model = Sequential()\n",
        "model.add(LSTM(150, input_shape=input_shape, return_sequences=False))\n",
        "model.add(Dropout(0.25))\n",
        "\n",
        "model.add(Dense(number_of_classes, activation='softmax'))\n",
        "model.compile(loss=loss, optimizer='adam', metrics=metrics)\n",
        "model.summary()\n",
        "\n",
        "# fit network\n",
        "history = model.fit(X_train, np.array(y_train), validation_data=(xx_val, np.array(yy_val)), \n",
        "                    epochs=25,verbose=1)"
      ],
      "execution_count": 24,
      "outputs": [
        {
          "output_type": "stream",
          "text": [
            "Model: \"sequential\"\n",
            "_________________________________________________________________\n",
            "Layer (type)                 Output Shape              Param #   \n",
            "=================================================================\n",
            "lstm (LSTM)                  (None, 150)               160200    \n",
            "_________________________________________________________________\n",
            "dropout (Dropout)            (None, 150)               0         \n",
            "_________________________________________________________________\n",
            "dense (Dense)                (None, 14)                2114      \n",
            "=================================================================\n",
            "Total params: 162,314\n",
            "Trainable params: 162,314\n",
            "Non-trainable params: 0\n",
            "_________________________________________________________________\n",
            "Epoch 1/25\n",
            "41/41 [==============================] - 1s 20ms/step - loss: 2.5281 - sparse_categorical_accuracy: 0.2140 - val_loss: 2.3794 - val_sparse_categorical_accuracy: 0.5128\n",
            "Epoch 2/25\n",
            "41/41 [==============================] - 0s 7ms/step - loss: 2.1372 - sparse_categorical_accuracy: 0.7090 - val_loss: 2.0579 - val_sparse_categorical_accuracy: 0.7569\n",
            "Epoch 3/25\n",
            "41/41 [==============================] - 0s 7ms/step - loss: 1.6953 - sparse_categorical_accuracy: 0.8868 - val_loss: 1.6598 - val_sparse_categorical_accuracy: 0.8051\n",
            "Epoch 4/25\n",
            "41/41 [==============================] - 0s 7ms/step - loss: 1.2172 - sparse_categorical_accuracy: 0.9176 - val_loss: 1.2561 - val_sparse_categorical_accuracy: 0.8482\n",
            "Epoch 5/25\n",
            "41/41 [==============================] - 0s 7ms/step - loss: 0.8164 - sparse_categorical_accuracy: 0.9484 - val_loss: 0.9393 - val_sparse_categorical_accuracy: 0.8738\n",
            "Epoch 6/25\n",
            "41/41 [==============================] - 0s 7ms/step - loss: 0.5442 - sparse_categorical_accuracy: 0.9669 - val_loss: 0.7240 - val_sparse_categorical_accuracy: 0.8923\n",
            "Epoch 7/25\n",
            "41/41 [==============================] - 0s 7ms/step - loss: 0.3654 - sparse_categorical_accuracy: 0.9792 - val_loss: 0.5843 - val_sparse_categorical_accuracy: 0.9005\n",
            "Epoch 8/25\n",
            "41/41 [==============================] - 0s 7ms/step - loss: 0.2673 - sparse_categorical_accuracy: 0.9838 - val_loss: 0.4939 - val_sparse_categorical_accuracy: 0.9108\n",
            "Epoch 9/25\n",
            "41/41 [==============================] - 0s 7ms/step - loss: 0.1961 - sparse_categorical_accuracy: 0.9923 - val_loss: 0.4323 - val_sparse_categorical_accuracy: 0.9190\n",
            "Epoch 10/25\n",
            "41/41 [==============================] - 0s 7ms/step - loss: 0.1523 - sparse_categorical_accuracy: 0.9938 - val_loss: 0.3903 - val_sparse_categorical_accuracy: 0.9210\n",
            "Epoch 11/25\n",
            "41/41 [==============================] - 0s 7ms/step - loss: 0.1169 - sparse_categorical_accuracy: 0.9969 - val_loss: 0.3575 - val_sparse_categorical_accuracy: 0.9210\n",
            "Epoch 12/25\n",
            "41/41 [==============================] - 0s 7ms/step - loss: 0.0958 - sparse_categorical_accuracy: 0.9962 - val_loss: 0.3334 - val_sparse_categorical_accuracy: 0.9231\n",
            "Epoch 13/25\n",
            "41/41 [==============================] - 0s 7ms/step - loss: 0.0772 - sparse_categorical_accuracy: 0.9992 - val_loss: 0.3142 - val_sparse_categorical_accuracy: 0.9231\n",
            "Epoch 14/25\n",
            "41/41 [==============================] - 0s 7ms/step - loss: 0.0644 - sparse_categorical_accuracy: 1.0000 - val_loss: 0.2982 - val_sparse_categorical_accuracy: 0.9200\n",
            "Epoch 15/25\n",
            "41/41 [==============================] - 0s 7ms/step - loss: 0.0548 - sparse_categorical_accuracy: 1.0000 - val_loss: 0.2853 - val_sparse_categorical_accuracy: 0.9221\n",
            "Epoch 16/25\n",
            "41/41 [==============================] - 0s 7ms/step - loss: 0.0475 - sparse_categorical_accuracy: 1.0000 - val_loss: 0.2757 - val_sparse_categorical_accuracy: 0.9200\n",
            "Epoch 17/25\n",
            "41/41 [==============================] - 0s 7ms/step - loss: 0.0430 - sparse_categorical_accuracy: 1.0000 - val_loss: 0.2672 - val_sparse_categorical_accuracy: 0.9210\n",
            "Epoch 18/25\n",
            "41/41 [==============================] - 0s 7ms/step - loss: 0.0345 - sparse_categorical_accuracy: 1.0000 - val_loss: 0.2592 - val_sparse_categorical_accuracy: 0.9221\n",
            "Epoch 19/25\n",
            "41/41 [==============================] - 0s 7ms/step - loss: 0.0305 - sparse_categorical_accuracy: 1.0000 - val_loss: 0.2537 - val_sparse_categorical_accuracy: 0.9221\n",
            "Epoch 20/25\n",
            "41/41 [==============================] - 0s 7ms/step - loss: 0.0274 - sparse_categorical_accuracy: 1.0000 - val_loss: 0.2481 - val_sparse_categorical_accuracy: 0.9231\n",
            "Epoch 21/25\n",
            "41/41 [==============================] - 0s 7ms/step - loss: 0.0251 - sparse_categorical_accuracy: 1.0000 - val_loss: 0.2426 - val_sparse_categorical_accuracy: 0.9241\n",
            "Epoch 22/25\n",
            "41/41 [==============================] - 0s 7ms/step - loss: 0.0229 - sparse_categorical_accuracy: 1.0000 - val_loss: 0.2382 - val_sparse_categorical_accuracy: 0.9231\n",
            "Epoch 23/25\n",
            "41/41 [==============================] - 0s 7ms/step - loss: 0.0201 - sparse_categorical_accuracy: 1.0000 - val_loss: 0.2345 - val_sparse_categorical_accuracy: 0.9272\n",
            "Epoch 24/25\n",
            "41/41 [==============================] - 0s 7ms/step - loss: 0.0180 - sparse_categorical_accuracy: 1.0000 - val_loss: 0.2317 - val_sparse_categorical_accuracy: 0.9262\n",
            "Epoch 25/25\n",
            "41/41 [==============================] - 0s 7ms/step - loss: 0.0166 - sparse_categorical_accuracy: 1.0000 - val_loss: 0.2291 - val_sparse_categorical_accuracy: 0.9282\n"
          ],
          "name": "stdout"
        }
      ]
    },
    {
      "cell_type": "code",
      "metadata": {
        "id": "OhNCqRoLyP_W",
        "colab_type": "code",
        "outputId": "eaada3b4-2faa-4cde-9c2a-036ad6e04a26",
        "colab": {
          "base_uri": "https://localhost:8080/",
          "height": 68
        }
      },
      "source": [
        "score = model.evaluate(xx_test, np.array(yy_test), verbose=1)\n",
        "print('Test loss:', score[0])\n",
        "print('Test accuracy:', score[1])"
      ],
      "execution_count": 25,
      "outputs": [
        {
          "output_type": "stream",
          "text": [
            "31/31 [==============================] - 0s 3ms/step - loss: 0.2248 - sparse_categorical_accuracy: 0.9374\n",
            "Test loss: 0.22478052973747253\n",
            "Test accuracy: 0.9373716711997986\n"
          ],
          "name": "stdout"
        }
      ]
    },
    {
      "cell_type": "code",
      "metadata": {
        "id": "jRjH7zIgyqZZ",
        "colab_type": "code",
        "colab": {}
      },
      "source": [
        "if len(np.array(y_test).shape) == 1:\n",
        "  y_test = [x+1 for x in y_test]\n",
        "  y_train = [x+1 for x in y_train]"
      ],
      "execution_count": 0,
      "outputs": []
    },
    {
      "cell_type": "code",
      "metadata": {
        "id": "lLzZL5wJTZg1",
        "colab_type": "code",
        "colab": {}
      },
      "source": [
        "# pred = X.reshape((X.shape[0], 1, X.shape[1]))\n",
        "\n",
        "\n",
        "\n",
        "# Y_pred_test = model.predict(pred)\n",
        "# y_pred_test = np.argmax(Y_pred_test, axis=1)\n",
        "\n",
        "# from sklearn.metrics import accuracy_score\n",
        "# from sklearn.metrics import classification_report\n",
        "# import matplotlib.pyplot as plt\n",
        "# print(accuracy_score(y, y_pred_test)*100)\n",
        "\n",
        "# #= summarize history for accuracy\n",
        "# plt.plot(history.history['sparse_categorical_accuracy'])\n",
        "# plt.plot(history.history['val_sparse_categorical_accuracy'])\n",
        "# plt.title('model accuracy')\n",
        "# plt.ylabel('accuracy')\n",
        "# plt.xlabel('epoch')\n",
        "# plt.legend(['train', 'test'], loc='upper left')\n",
        "# plt.show()\n",
        "# # summarize history for loss\n",
        "# plt.plot(history.history['loss'])\n",
        "# plt.plot(history.history['val_loss'])\n",
        "# plt.title('model loss')\n",
        "# plt.ylabel('loss')\n",
        "# plt.xlabel('epoch')\n",
        "# plt.legend(['train', 'test'], loc='upper left')\n",
        "# plt.show()"
      ],
      "execution_count": 0,
      "outputs": []
    },
    {
      "cell_type": "code",
      "metadata": {
        "id": "4myjUXfloeHt",
        "colab_type": "code",
        "outputId": "08f7e7a9-0b3a-43b3-8f80-cec1b0ccf540",
        "colab": {
          "base_uri": "https://localhost:8080/",
          "height": 119
        }
      },
      "source": [
        "!pip install spectral"
      ],
      "execution_count": 28,
      "outputs": [
        {
          "output_type": "stream",
          "text": [
            "Collecting spectral\n",
            "\u001b[?25l  Downloading https://files.pythonhosted.org/packages/f5/ff/f6e238a941ed55079526996fee315fbee5167aaa64de3e64980637ac8f38/spectral-0.21-py3-none-any.whl (187kB)\n",
            "\u001b[K     |████████████████████████████████| 194kB 2.8MB/s \n",
            "\u001b[?25hRequirement already satisfied: numpy in /usr/local/lib/python3.6/dist-packages (from spectral) (1.18.5)\n",
            "Installing collected packages: spectral\n",
            "Successfully installed spectral-0.21\n"
          ],
          "name": "stdout"
        }
      ]
    },
    {
      "cell_type": "code",
      "metadata": {
        "id": "wSbfsGcrYMnK",
        "colab_type": "code",
        "colab": {}
      },
      "source": [
        "import spectral as sp\n",
        "prediction = model.predict(X)\n",
        "\n",
        "if not len(prediction.shape) == 2:\n",
        "    y_test = [x + 1 for x in y_test]\n",
        "    y_train = [x + 1 for x in y_train]\n",
        "\n",
        "if len(prediction.shape) == 2:\n",
        "    predicted_gt_1 = np.argmax(prediction, axis=1)\n",
        "    predicted_gt_1_list = list(predicted_gt_1)\n",
        "    predicted_gt_1_list = [x + 1 for x in predicted_gt_1_list]\n",
        "else:\n",
        "    predicted_gt_1_list = prediction\n",
        "\n",
        "for i in zero_data:\n",
        "    predicted_gt_1_list.insert(i, 0)\n",
        "\n",
        "predicted_gt_1_list = np.array(predicted_gt_1_list).reshape(image.shape[0], image.shape[1])\n",
        "sp.save_rgb('predicted_gt.jpg', predicted_gt_1_list, colors=sp.spy_colors)\n"
      ],
      "execution_count": 0,
      "outputs": []
    }
  ]
}