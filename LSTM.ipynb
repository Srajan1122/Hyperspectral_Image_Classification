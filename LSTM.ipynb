{
  "nbformat": 4,
  "nbformat_minor": 0,
  "metadata": {
    "colab": {
      "name": "LSTM_PAVIA.ipynb",
      "provenance": [],
      "collapsed_sections": [],
      "include_colab_link": true
    },
    "kernelspec": {
      "name": "python3",
      "display_name": "Python 3"
    },
    "accelerator": "GPU"
  },
  "cells": [
    {
      "cell_type": "markdown",
      "metadata": {
        "id": "view-in-github",
        "colab_type": "text"
      },
      "source": [
        "<a href=\"https://colab.research.google.com/github/Srajan1122/Hyperspectral_Image_Classification/blob/srajan/LSTM.ipynb\" target=\"_parent\"><img src=\"https://colab.research.google.com/assets/colab-badge.svg\" alt=\"Open In Colab\"/></a>"
      ]
    },
    {
      "cell_type": "code",
      "metadata": {
        "id": "8Nc85IUnQUS-",
        "colab_type": "code",
        "outputId": "a9ee7c3f-8231-40be-8499-49f78e6b925a",
        "colab": {
          "base_uri": "https://localhost:8080/",
          "height": 34
        }
      },
      "source": [
        "from google.colab import drive\n",
        "drive.mount('/content/drive')"
      ],
      "execution_count": 1,
      "outputs": [
        {
          "output_type": "stream",
          "text": [
            "Drive already mounted at /content/drive; to attempt to forcibly remount, call drive.mount(\"/content/drive\", force_remount=True).\n"
          ],
          "name": "stdout"
        }
      ]
    },
    {
      "cell_type": "markdown",
      "metadata": {
        "id": "aXpp9_cwKqz1",
        "colab_type": "text"
      },
      "source": [
        "# Importing Libraries"
      ]
    },
    {
      "cell_type": "code",
      "metadata": {
        "id": "qVxnzfWvKN-K",
        "colab_type": "code",
        "colab": {}
      },
      "source": [
        "import pandas as pd\n",
        "import numpy as np\n",
        "from scipy import io\n",
        "from sklearn.model_selection import train_test_split\n",
        "from sklearn.preprocessing import OneHotEncoder \n",
        "from sklearn import preprocessing\n",
        "import tensorflow.keras\n",
        "from tensorflow.keras.models import Sequential\n",
        "from tensorflow.keras.layers import Dense,Flatten, Dropout, LSTM"
      ],
      "execution_count": 0,
      "outputs": []
    },
    {
      "cell_type": "code",
      "metadata": {
        "id": "erOp3hTTKuzQ",
        "colab_type": "code",
        "colab": {}
      },
      "source": [
        "loaded_dataset = io.loadmat('/content/drive/My Drive/Srajan/Internship/SEM4-LeadingindiaAI/Tasks/Datasets/PaviaC/Pavia.mat')\n",
        "for key, value in loaded_dataset.items():\n",
        "  if isinstance(value, type(np.array([1]))):\n",
        "    image = loaded_dataset[key]"
      ],
      "execution_count": 0,
      "outputs": []
    },
    {
      "cell_type": "code",
      "metadata": {
        "id": "HjbphR_nK5O8",
        "colab_type": "code",
        "colab": {}
      },
      "source": [
        "ground_truth_1 = io.loadmat('/content/drive/My Drive/Srajan/Internship/SEM4-LeadingindiaAI/Tasks/Datasets/PaviaC/Pavia_gt.mat')\n",
        "for key, value in ground_truth_1.items():\n",
        "  if isinstance(value, type(np.array([1]))):\n",
        "    ground_truth = ground_truth_1[key]"
      ],
      "execution_count": 0,
      "outputs": []
    },
    {
      "cell_type": "markdown",
      "metadata": {
        "id": "QYIFKIPmLCFV",
        "colab_type": "text"
      },
      "source": [
        "## Resizing the data"
      ]
    },
    {
      "cell_type": "code",
      "metadata": {
        "id": "UnRRsjn8K_zG",
        "colab_type": "code",
        "colab": {}
      },
      "source": [
        "image_with_gt = np.dstack((image, ground_truth))"
      ],
      "execution_count": 0,
      "outputs": []
    },
    {
      "cell_type": "code",
      "metadata": {
        "id": "P2hhElWJLF9V",
        "colab_type": "code",
        "colab": {}
      },
      "source": [
        "final_output = image_with_gt.reshape(ground_truth.size, image.shape[2]+1)"
      ],
      "execution_count": 0,
      "outputs": []
    },
    {
      "cell_type": "markdown",
      "metadata": {
        "id": "ZKGD0bRxLJff",
        "colab_type": "text"
      },
      "source": [
        "## Data Visualization in pandas"
      ]
    },
    {
      "cell_type": "code",
      "metadata": {
        "id": "4AWkTHdDLOwf",
        "colab_type": "code",
        "colab": {}
      },
      "source": [
        "data = pd.DataFrame(final_output)"
      ],
      "execution_count": 0,
      "outputs": []
    },
    {
      "cell_type": "code",
      "metadata": {
        "id": "9ctUP_zKLUpJ",
        "colab_type": "code",
        "outputId": "1a09f79f-eb52-4eb4-b409-f7ca8b9e7b41",
        "colab": {
          "base_uri": "https://localhost:8080/",
          "height": 253
        }
      },
      "source": [
        "data.head()"
      ],
      "execution_count": 8,
      "outputs": [
        {
          "output_type": "execute_result",
          "data": {
            "text/html": [
              "<div>\n",
              "<style scoped>\n",
              "    .dataframe tbody tr th:only-of-type {\n",
              "        vertical-align: middle;\n",
              "    }\n",
              "\n",
              "    .dataframe tbody tr th {\n",
              "        vertical-align: top;\n",
              "    }\n",
              "\n",
              "    .dataframe thead th {\n",
              "        text-align: right;\n",
              "    }\n",
              "</style>\n",
              "<table border=\"1\" class=\"dataframe\">\n",
              "  <thead>\n",
              "    <tr style=\"text-align: right;\">\n",
              "      <th></th>\n",
              "      <th>0</th>\n",
              "      <th>1</th>\n",
              "      <th>2</th>\n",
              "      <th>3</th>\n",
              "      <th>4</th>\n",
              "      <th>5</th>\n",
              "      <th>6</th>\n",
              "      <th>7</th>\n",
              "      <th>8</th>\n",
              "      <th>9</th>\n",
              "      <th>10</th>\n",
              "      <th>11</th>\n",
              "      <th>12</th>\n",
              "      <th>13</th>\n",
              "      <th>14</th>\n",
              "      <th>15</th>\n",
              "      <th>16</th>\n",
              "      <th>17</th>\n",
              "      <th>18</th>\n",
              "      <th>19</th>\n",
              "      <th>20</th>\n",
              "      <th>21</th>\n",
              "      <th>22</th>\n",
              "      <th>23</th>\n",
              "      <th>24</th>\n",
              "      <th>25</th>\n",
              "      <th>26</th>\n",
              "      <th>27</th>\n",
              "      <th>28</th>\n",
              "      <th>29</th>\n",
              "      <th>30</th>\n",
              "      <th>31</th>\n",
              "      <th>32</th>\n",
              "      <th>33</th>\n",
              "      <th>34</th>\n",
              "      <th>35</th>\n",
              "      <th>36</th>\n",
              "      <th>37</th>\n",
              "      <th>38</th>\n",
              "      <th>39</th>\n",
              "      <th>...</th>\n",
              "      <th>63</th>\n",
              "      <th>64</th>\n",
              "      <th>65</th>\n",
              "      <th>66</th>\n",
              "      <th>67</th>\n",
              "      <th>68</th>\n",
              "      <th>69</th>\n",
              "      <th>70</th>\n",
              "      <th>71</th>\n",
              "      <th>72</th>\n",
              "      <th>73</th>\n",
              "      <th>74</th>\n",
              "      <th>75</th>\n",
              "      <th>76</th>\n",
              "      <th>77</th>\n",
              "      <th>78</th>\n",
              "      <th>79</th>\n",
              "      <th>80</th>\n",
              "      <th>81</th>\n",
              "      <th>82</th>\n",
              "      <th>83</th>\n",
              "      <th>84</th>\n",
              "      <th>85</th>\n",
              "      <th>86</th>\n",
              "      <th>87</th>\n",
              "      <th>88</th>\n",
              "      <th>89</th>\n",
              "      <th>90</th>\n",
              "      <th>91</th>\n",
              "      <th>92</th>\n",
              "      <th>93</th>\n",
              "      <th>94</th>\n",
              "      <th>95</th>\n",
              "      <th>96</th>\n",
              "      <th>97</th>\n",
              "      <th>98</th>\n",
              "      <th>99</th>\n",
              "      <th>100</th>\n",
              "      <th>101</th>\n",
              "      <th>102</th>\n",
              "    </tr>\n",
              "  </thead>\n",
              "  <tbody>\n",
              "    <tr>\n",
              "      <th>0</th>\n",
              "      <td>854</td>\n",
              "      <td>601</td>\n",
              "      <td>350</td>\n",
              "      <td>266</td>\n",
              "      <td>138</td>\n",
              "      <td>118</td>\n",
              "      <td>178</td>\n",
              "      <td>194</td>\n",
              "      <td>257</td>\n",
              "      <td>269</td>\n",
              "      <td>239</td>\n",
              "      <td>243</td>\n",
              "      <td>220</td>\n",
              "      <td>191</td>\n",
              "      <td>173</td>\n",
              "      <td>150</td>\n",
              "      <td>125</td>\n",
              "      <td>131</td>\n",
              "      <td>137</td>\n",
              "      <td>172</td>\n",
              "      <td>195</td>\n",
              "      <td>218</td>\n",
              "      <td>255</td>\n",
              "      <td>291</td>\n",
              "      <td>320</td>\n",
              "      <td>346</td>\n",
              "      <td>347</td>\n",
              "      <td>368</td>\n",
              "      <td>404</td>\n",
              "      <td>428</td>\n",
              "      <td>429</td>\n",
              "      <td>416</td>\n",
              "      <td>394</td>\n",
              "      <td>368</td>\n",
              "      <td>357</td>\n",
              "      <td>361</td>\n",
              "      <td>369</td>\n",
              "      <td>368</td>\n",
              "      <td>351</td>\n",
              "      <td>328</td>\n",
              "      <td>...</td>\n",
              "      <td>219</td>\n",
              "      <td>239</td>\n",
              "      <td>289</td>\n",
              "      <td>366</td>\n",
              "      <td>482</td>\n",
              "      <td>632</td>\n",
              "      <td>814</td>\n",
              "      <td>1005</td>\n",
              "      <td>1225</td>\n",
              "      <td>1464</td>\n",
              "      <td>1732</td>\n",
              "      <td>2044</td>\n",
              "      <td>2383</td>\n",
              "      <td>2716</td>\n",
              "      <td>2985</td>\n",
              "      <td>3203</td>\n",
              "      <td>3385</td>\n",
              "      <td>3538</td>\n",
              "      <td>3667</td>\n",
              "      <td>3696</td>\n",
              "      <td>3548</td>\n",
              "      <td>3608</td>\n",
              "      <td>3744</td>\n",
              "      <td>3792</td>\n",
              "      <td>3802</td>\n",
              "      <td>3815</td>\n",
              "      <td>3836</td>\n",
              "      <td>3827</td>\n",
              "      <td>3765</td>\n",
              "      <td>3752</td>\n",
              "      <td>3759</td>\n",
              "      <td>3773</td>\n",
              "      <td>3779</td>\n",
              "      <td>3752</td>\n",
              "      <td>3690</td>\n",
              "      <td>3671</td>\n",
              "      <td>3664</td>\n",
              "      <td>3636</td>\n",
              "      <td>3643</td>\n",
              "      <td>0</td>\n",
              "    </tr>\n",
              "    <tr>\n",
              "      <th>1</th>\n",
              "      <td>527</td>\n",
              "      <td>642</td>\n",
              "      <td>575</td>\n",
              "      <td>294</td>\n",
              "      <td>123</td>\n",
              "      <td>168</td>\n",
              "      <td>207</td>\n",
              "      <td>154</td>\n",
              "      <td>209</td>\n",
              "      <td>299</td>\n",
              "      <td>299</td>\n",
              "      <td>278</td>\n",
              "      <td>235</td>\n",
              "      <td>181</td>\n",
              "      <td>181</td>\n",
              "      <td>236</td>\n",
              "      <td>256</td>\n",
              "      <td>253</td>\n",
              "      <td>225</td>\n",
              "      <td>202</td>\n",
              "      <td>221</td>\n",
              "      <td>256</td>\n",
              "      <td>321</td>\n",
              "      <td>358</td>\n",
              "      <td>385</td>\n",
              "      <td>429</td>\n",
              "      <td>492</td>\n",
              "      <td>533</td>\n",
              "      <td>554</td>\n",
              "      <td>553</td>\n",
              "      <td>557</td>\n",
              "      <td>580</td>\n",
              "      <td>561</td>\n",
              "      <td>522</td>\n",
              "      <td>525</td>\n",
              "      <td>513</td>\n",
              "      <td>474</td>\n",
              "      <td>435</td>\n",
              "      <td>412</td>\n",
              "      <td>401</td>\n",
              "      <td>...</td>\n",
              "      <td>254</td>\n",
              "      <td>305</td>\n",
              "      <td>349</td>\n",
              "      <td>401</td>\n",
              "      <td>508</td>\n",
              "      <td>681</td>\n",
              "      <td>888</td>\n",
              "      <td>1076</td>\n",
              "      <td>1297</td>\n",
              "      <td>1577</td>\n",
              "      <td>1855</td>\n",
              "      <td>2117</td>\n",
              "      <td>2456</td>\n",
              "      <td>2772</td>\n",
              "      <td>3002</td>\n",
              "      <td>3205</td>\n",
              "      <td>3388</td>\n",
              "      <td>3526</td>\n",
              "      <td>3629</td>\n",
              "      <td>3665</td>\n",
              "      <td>3586</td>\n",
              "      <td>3653</td>\n",
              "      <td>3747</td>\n",
              "      <td>3813</td>\n",
              "      <td>3831</td>\n",
              "      <td>3829</td>\n",
              "      <td>3841</td>\n",
              "      <td>3885</td>\n",
              "      <td>3916</td>\n",
              "      <td>3907</td>\n",
              "      <td>3873</td>\n",
              "      <td>3902</td>\n",
              "      <td>3921</td>\n",
              "      <td>3861</td>\n",
              "      <td>3854</td>\n",
              "      <td>3882</td>\n",
              "      <td>3834</td>\n",
              "      <td>3725</td>\n",
              "      <td>3768</td>\n",
              "      <td>0</td>\n",
              "    </tr>\n",
              "    <tr>\n",
              "      <th>2</th>\n",
              "      <td>374</td>\n",
              "      <td>322</td>\n",
              "      <td>179</td>\n",
              "      <td>87</td>\n",
              "      <td>169</td>\n",
              "      <td>268</td>\n",
              "      <td>360</td>\n",
              "      <td>339</td>\n",
              "      <td>286</td>\n",
              "      <td>309</td>\n",
              "      <td>340</td>\n",
              "      <td>305</td>\n",
              "      <td>206</td>\n",
              "      <td>202</td>\n",
              "      <td>269</td>\n",
              "      <td>256</td>\n",
              "      <td>246</td>\n",
              "      <td>226</td>\n",
              "      <td>218</td>\n",
              "      <td>275</td>\n",
              "      <td>318</td>\n",
              "      <td>356</td>\n",
              "      <td>395</td>\n",
              "      <td>425</td>\n",
              "      <td>461</td>\n",
              "      <td>520</td>\n",
              "      <td>587</td>\n",
              "      <td>623</td>\n",
              "      <td>621</td>\n",
              "      <td>617</td>\n",
              "      <td>636</td>\n",
              "      <td>657</td>\n",
              "      <td>665</td>\n",
              "      <td>670</td>\n",
              "      <td>645</td>\n",
              "      <td>610</td>\n",
              "      <td>576</td>\n",
              "      <td>547</td>\n",
              "      <td>532</td>\n",
              "      <td>523</td>\n",
              "      <td>...</td>\n",
              "      <td>369</td>\n",
              "      <td>418</td>\n",
              "      <td>484</td>\n",
              "      <td>590</td>\n",
              "      <td>754</td>\n",
              "      <td>969</td>\n",
              "      <td>1201</td>\n",
              "      <td>1460</td>\n",
              "      <td>1716</td>\n",
              "      <td>2002</td>\n",
              "      <td>2319</td>\n",
              "      <td>2690</td>\n",
              "      <td>3055</td>\n",
              "      <td>3368</td>\n",
              "      <td>3666</td>\n",
              "      <td>3901</td>\n",
              "      <td>4082</td>\n",
              "      <td>4258</td>\n",
              "      <td>4372</td>\n",
              "      <td>4392</td>\n",
              "      <td>4231</td>\n",
              "      <td>4256</td>\n",
              "      <td>4419</td>\n",
              "      <td>4495</td>\n",
              "      <td>4501</td>\n",
              "      <td>4472</td>\n",
              "      <td>4486</td>\n",
              "      <td>4499</td>\n",
              "      <td>4453</td>\n",
              "      <td>4404</td>\n",
              "      <td>4443</td>\n",
              "      <td>4472</td>\n",
              "      <td>4428</td>\n",
              "      <td>4353</td>\n",
              "      <td>4306</td>\n",
              "      <td>4284</td>\n",
              "      <td>4318</td>\n",
              "      <td>4311</td>\n",
              "      <td>4321</td>\n",
              "      <td>0</td>\n",
              "    </tr>\n",
              "    <tr>\n",
              "      <th>3</th>\n",
              "      <td>706</td>\n",
              "      <td>520</td>\n",
              "      <td>560</td>\n",
              "      <td>572</td>\n",
              "      <td>425</td>\n",
              "      <td>243</td>\n",
              "      <td>271</td>\n",
              "      <td>272</td>\n",
              "      <td>258</td>\n",
              "      <td>276</td>\n",
              "      <td>299</td>\n",
              "      <td>313</td>\n",
              "      <td>320</td>\n",
              "      <td>336</td>\n",
              "      <td>299</td>\n",
              "      <td>274</td>\n",
              "      <td>322</td>\n",
              "      <td>361</td>\n",
              "      <td>358</td>\n",
              "      <td>377</td>\n",
              "      <td>387</td>\n",
              "      <td>396</td>\n",
              "      <td>415</td>\n",
              "      <td>486</td>\n",
              "      <td>564</td>\n",
              "      <td>624</td>\n",
              "      <td>668</td>\n",
              "      <td>680</td>\n",
              "      <td>696</td>\n",
              "      <td>728</td>\n",
              "      <td>753</td>\n",
              "      <td>721</td>\n",
              "      <td>700</td>\n",
              "      <td>713</td>\n",
              "      <td>690</td>\n",
              "      <td>642</td>\n",
              "      <td>592</td>\n",
              "      <td>560</td>\n",
              "      <td>542</td>\n",
              "      <td>547</td>\n",
              "      <td>...</td>\n",
              "      <td>384</td>\n",
              "      <td>418</td>\n",
              "      <td>481</td>\n",
              "      <td>568</td>\n",
              "      <td>693</td>\n",
              "      <td>865</td>\n",
              "      <td>1057</td>\n",
              "      <td>1259</td>\n",
              "      <td>1478</td>\n",
              "      <td>1714</td>\n",
              "      <td>1971</td>\n",
              "      <td>2261</td>\n",
              "      <td>2548</td>\n",
              "      <td>2818</td>\n",
              "      <td>3135</td>\n",
              "      <td>3377</td>\n",
              "      <td>3564</td>\n",
              "      <td>3731</td>\n",
              "      <td>3820</td>\n",
              "      <td>3814</td>\n",
              "      <td>3710</td>\n",
              "      <td>3770</td>\n",
              "      <td>3904</td>\n",
              "      <td>3976</td>\n",
              "      <td>3967</td>\n",
              "      <td>3973</td>\n",
              "      <td>4032</td>\n",
              "      <td>4078</td>\n",
              "      <td>4040</td>\n",
              "      <td>3992</td>\n",
              "      <td>3972</td>\n",
              "      <td>4006</td>\n",
              "      <td>4032</td>\n",
              "      <td>3975</td>\n",
              "      <td>3946</td>\n",
              "      <td>3954</td>\n",
              "      <td>3944</td>\n",
              "      <td>3936</td>\n",
              "      <td>3939</td>\n",
              "      <td>0</td>\n",
              "    </tr>\n",
              "    <tr>\n",
              "      <th>4</th>\n",
              "      <td>1120</td>\n",
              "      <td>1027</td>\n",
              "      <td>592</td>\n",
              "      <td>414</td>\n",
              "      <td>407</td>\n",
              "      <td>463</td>\n",
              "      <td>417</td>\n",
              "      <td>365</td>\n",
              "      <td>332</td>\n",
              "      <td>334</td>\n",
              "      <td>356</td>\n",
              "      <td>327</td>\n",
              "      <td>296</td>\n",
              "      <td>325</td>\n",
              "      <td>346</td>\n",
              "      <td>308</td>\n",
              "      <td>262</td>\n",
              "      <td>262</td>\n",
              "      <td>292</td>\n",
              "      <td>312</td>\n",
              "      <td>335</td>\n",
              "      <td>394</td>\n",
              "      <td>430</td>\n",
              "      <td>450</td>\n",
              "      <td>491</td>\n",
              "      <td>570</td>\n",
              "      <td>611</td>\n",
              "      <td>616</td>\n",
              "      <td>631</td>\n",
              "      <td>659</td>\n",
              "      <td>686</td>\n",
              "      <td>705</td>\n",
              "      <td>691</td>\n",
              "      <td>667</td>\n",
              "      <td>624</td>\n",
              "      <td>584</td>\n",
              "      <td>570</td>\n",
              "      <td>549</td>\n",
              "      <td>530</td>\n",
              "      <td>517</td>\n",
              "      <td>...</td>\n",
              "      <td>349</td>\n",
              "      <td>365</td>\n",
              "      <td>398</td>\n",
              "      <td>505</td>\n",
              "      <td>677</td>\n",
              "      <td>877</td>\n",
              "      <td>1116</td>\n",
              "      <td>1410</td>\n",
              "      <td>1717</td>\n",
              "      <td>2015</td>\n",
              "      <td>2339</td>\n",
              "      <td>2670</td>\n",
              "      <td>3028</td>\n",
              "      <td>3415</td>\n",
              "      <td>3713</td>\n",
              "      <td>3928</td>\n",
              "      <td>4131</td>\n",
              "      <td>4296</td>\n",
              "      <td>4445</td>\n",
              "      <td>4508</td>\n",
              "      <td>4305</td>\n",
              "      <td>4232</td>\n",
              "      <td>4422</td>\n",
              "      <td>4554</td>\n",
              "      <td>4550</td>\n",
              "      <td>4524</td>\n",
              "      <td>4532</td>\n",
              "      <td>4578</td>\n",
              "      <td>4584</td>\n",
              "      <td>4555</td>\n",
              "      <td>4502</td>\n",
              "      <td>4485</td>\n",
              "      <td>4479</td>\n",
              "      <td>4445</td>\n",
              "      <td>4364</td>\n",
              "      <td>4290</td>\n",
              "      <td>4268</td>\n",
              "      <td>4235</td>\n",
              "      <td>4272</td>\n",
              "      <td>0</td>\n",
              "    </tr>\n",
              "  </tbody>\n",
              "</table>\n",
              "<p>5 rows × 103 columns</p>\n",
              "</div>"
            ],
            "text/plain": [
              "    0     1    2    3    4    5    6    ...   96    97    98    99    100   101  102\n",
              "0   854   601  350  266  138  118  178  ...  3752  3690  3671  3664  3636  3643    0\n",
              "1   527   642  575  294  123  168  207  ...  3861  3854  3882  3834  3725  3768    0\n",
              "2   374   322  179   87  169  268  360  ...  4353  4306  4284  4318  4311  4321    0\n",
              "3   706   520  560  572  425  243  271  ...  3975  3946  3954  3944  3936  3939    0\n",
              "4  1120  1027  592  414  407  463  417  ...  4445  4364  4290  4268  4235  4272    0\n",
              "\n",
              "[5 rows x 103 columns]"
            ]
          },
          "metadata": {
            "tags": []
          },
          "execution_count": 8
        }
      ]
    },
    {
      "cell_type": "markdown",
      "metadata": {
        "id": "OLWjsfqaLZs0",
        "colab_type": "text"
      },
      "source": [
        "## Droping the rows if ground truth value is zero"
      ]
    },
    {
      "cell_type": "code",
      "metadata": {
        "id": "OlyctDjwLYkb",
        "colab_type": "code",
        "outputId": "05f01bca-ba3c-43c7-dfdf-6054833478c1",
        "colab": {
          "base_uri": "https://localhost:8080/",
          "height": 34
        }
      },
      "source": [
        "print(\"Percentage of column which will be droped\",(data.size - data[data.iloc[:, -1] == 0].size)/data.size,\"%\")"
      ],
      "execution_count": 9,
      "outputs": [
        {
          "output_type": "stream",
          "text": [
            "Percentage of column which will be droped 0.1890561992751774 %\n"
          ],
          "name": "stdout"
        }
      ]
    },
    {
      "cell_type": "code",
      "metadata": {
        "id": "_tJ0vUTCLhZx",
        "colab_type": "code",
        "colab": {}
      },
      "source": [
        "data = data[data.iloc[:, -1] != 0]"
      ],
      "execution_count": 0,
      "outputs": []
    },
    {
      "cell_type": "markdown",
      "metadata": {
        "id": "kE5Gc8BTLiAN",
        "colab_type": "text"
      },
      "source": [
        "# Spliting the data into feature and target"
      ]
    },
    {
      "cell_type": "code",
      "metadata": {
        "id": "FJ4dCIbILrwg",
        "colab_type": "code",
        "colab": {}
      },
      "source": [
        "X = data.iloc[:, :-1]\n",
        "y = data.iloc[:,-1]"
      ],
      "execution_count": 0,
      "outputs": []
    },
    {
      "cell_type": "markdown",
      "metadata": {
        "id": "CHPv8SimL1Iu",
        "colab_type": "text"
      },
      "source": [
        "# Feature Selection"
      ]
    },
    {
      "cell_type": "code",
      "metadata": {
        "id": "6aMaE8k8L0VV",
        "colab_type": "code",
        "colab": {}
      },
      "source": [
        "# from sklearn.feature_selection import SelectKBest\n",
        "# from sklearn.feature_selection import chi2, f_classif, mutual_info_classif\n",
        "\n",
        "# X = SelectKBest(f_classif, k=int((image.shape[2]+1)*0.75)).fit_transform(X, y)"
      ],
      "execution_count": 0,
      "outputs": []
    },
    {
      "cell_type": "markdown",
      "metadata": {
        "id": "nCO0t_-J0G6J",
        "colab_type": "text"
      },
      "source": [
        "# Feature Extraction \n"
      ]
    },
    {
      "cell_type": "code",
      "metadata": {
        "id": "NIjIpV160KKZ",
        "colab_type": "code",
        "colab": {}
      },
      "source": [
        "from sklearn.decomposition import PCA \n",
        "\n",
        "pca = PCA(n_components = int((image.shape[2]+1)*0.80))\n",
        "X = pca.fit_transform(X)"
      ],
      "execution_count": 0,
      "outputs": []
    },
    {
      "cell_type": "markdown",
      "metadata": {
        "id": "fijfR_5DL9IK",
        "colab_type": "text"
      },
      "source": [
        "# OneHotEncoding in target column"
      ]
    },
    {
      "cell_type": "code",
      "metadata": {
        "id": "_QoUCdAwMBAD",
        "colab_type": "code",
        "colab": {}
      },
      "source": [
        "# onehotencoder = OneHotEncoder() \n",
        "# y = onehotencoder.fit_transform(np.array(y).reshape(-1,1)).toarray() "
      ],
      "execution_count": 0,
      "outputs": []
    },
    {
      "cell_type": "markdown",
      "metadata": {
        "id": "IlNWTtSVMEjl",
        "colab_type": "text"
      },
      "source": [
        "# Standardizing the feature columna"
      ]
    },
    {
      "cell_type": "code",
      "metadata": {
        "id": "PPshPrqEMJvm",
        "colab_type": "code",
        "colab": {}
      },
      "source": [
        "X = preprocessing.scale(X)"
      ],
      "execution_count": 0,
      "outputs": []
    },
    {
      "cell_type": "markdown",
      "metadata": {
        "id": "DRtV7aDDqr5a",
        "colab_type": "text"
      },
      "source": [
        "# Spliting the data into training and testing set "
      ]
    },
    {
      "cell_type": "code",
      "metadata": {
        "id": "DattLTVzqr5b",
        "colab_type": "code",
        "colab": {}
      },
      "source": [
        "X_train, X_test, y_train, y_test = train_test_split(X, y, test_size=0.90, random_state=1)#0.25 0.15"
      ],
      "execution_count": 0,
      "outputs": []
    },
    {
      "cell_type": "code",
      "metadata": {
        "id": "2OngDFGdDdPx",
        "colab_type": "code",
        "colab": {}
      },
      "source": [
        "number = int(X_test.shape[0]/2)\n",
        "\n",
        "xx_test = X_test[:number, :]\n",
        "xx_val = X_test[number:, :]\n",
        "\n",
        "if len(y_test.shape) > 1:\n",
        "  loss = tensorflow.keras.losses.categorical_crossentropy\n",
        "  metrics=['accuracy']\n",
        "  yy_test = y_test[:number, :]\n",
        "  yy_val = y_test[number:, :]\n",
        "else:\n",
        "  loss = tensorflow.keras.losses.sparse_categorical_crossentropy\n",
        "  metrics=['sparse_categorical_accuracy']\n",
        "  y_test = [x - 1 for x in y_test]\n",
        "  y_train = [x - 1 for x in y_train]\n",
        "  yy_test = y_test[:number]\n",
        "  yy_val = y_test[number:]"
      ],
      "execution_count": 0,
      "outputs": []
    },
    {
      "cell_type": "code",
      "metadata": {
        "id": "9M33_KnJNu7n",
        "colab_type": "code",
        "colab": {}
      },
      "source": [
        "from tensorflow.keras import backend as K\n",
        "feature = X.shape[1]\n",
        "\n",
        "# if K.image_data_format() == 'channels_first':\n",
        "#     X_train = X_train.reshape(X_train.shape[0], 1, feature)\n",
        "#     xx_test = xx_test.reshape(xx_test.shape[0], 1, feature)\n",
        "#     xx_val = xx_val.reshape(xx_val.shape[0], 1, feature)\n",
        "#     input_shape = (1, feature)\n",
        "# else:\n",
        "#     X_train = X_train.reshape(X_train.shape[0], feature, 1)\n",
        "#     xx_test = xx_test.reshape(xx_test.shape[0], feature, 1)\n",
        "#     xx_val = xx_val.reshape(xx_val.shape[0], feature, 1)\n",
        "#     input_shape = (feature, 1)\n",
        "\n",
        "X_train = X_train.reshape(X_train.shape[0], 1, feature)\n",
        "xx_test = xx_test.reshape(xx_test.shape[0], 1, feature)\n",
        "xx_val = xx_val.reshape(xx_val.shape[0], 1, feature)\n",
        "input_shape = (1, feature)"
      ],
      "execution_count": 0,
      "outputs": []
    },
    {
      "cell_type": "markdown",
      "metadata": {
        "id": "MQLkUnZ_YsYO",
        "colab_type": "text"
      },
      "source": [
        "# Genetic Algorithm"
      ]
    },
    {
      "cell_type": "code",
      "metadata": {
        "id": "1-9MDtAugFbk",
        "colab_type": "code",
        "outputId": "b4d4c246-e87c-4ebb-cc51-034a28d07715",
        "colab": {
          "base_uri": "https://localhost:8080/",
          "height": 51
        }
      },
      "source": [
        "!pip install pyeasyga"
      ],
      "execution_count": 19,
      "outputs": [
        {
          "output_type": "stream",
          "text": [
            "Requirement already satisfied: pyeasyga in /usr/local/lib/python3.6/dist-packages (0.3.1)\n",
            "Requirement already satisfied: six in /usr/local/lib/python3.6/dist-packages (from pyeasyga) (1.12.0)\n"
          ],
          "name": "stdout"
        }
      ]
    },
    {
      "cell_type": "code",
      "metadata": {
        "id": "3bAr5dYIYrxF",
        "colab_type": "code",
        "outputId": "9de89314-2f48-4457-9ea6-c3562ae92dcf",
        "colab": {
          "base_uri": "https://localhost:8080/",
          "height": 1000
        }
      },
      "source": [
        "from pyeasyga import pyeasyga\n",
        "import random\n",
        "import numpy as np\n",
        "from sklearn.metrics import accuracy_score\n",
        "import keras\n",
        "import time\n",
        "\n",
        "count = 1\n",
        "\n",
        "def initilialize_population():\n",
        "    filter_1 = list(x for x in range(70, 120, 5))\n",
        "\n",
        "    population = [filter_1]\n",
        "\n",
        "    return list(population)\n",
        "\n",
        "def create_individual(data):\n",
        "  choice = []\n",
        "  for i in range(len(data)):\n",
        "    choice.append(random.choice(list(range(len(data[i])))))\n",
        "  return choice\n",
        "\n",
        "def fitness_function(individual, data):\n",
        "  global count\n",
        "  print('Individual no', count)\n",
        "  count += 1\n",
        "\n",
        "  model = Sequential()\n",
        "  model.add(LSTM(data[0][individual[0]], input_shape=input_shape, return_sequences=False))\n",
        "  model.add(Dropout(0.25))\n",
        "\n",
        "  model.add(Dense(9, activation='softmax'))\n",
        "\n",
        "  model.compile(loss=loss,\n",
        "                optimizer='adam',\n",
        "                metrics=metrics)\n",
        "\n",
        "  model.fit(X_train, np.array(y_train),\n",
        "            batch_size=128,\n",
        "            epochs=20,\n",
        "            verbose=1,\n",
        "            validation_data=(xx_val,np.array(yy_val)))\n",
        "\n",
        "\n",
        "  score = model.evaluate(xx_test, np.array(yy_test), verbose=1)[1]\n",
        "  # prediction = model.predict(X_test)\n",
        "  # score = accuracy_score(y_test, prediction)\n",
        "  print('Score is', score)\n",
        "  return score\n",
        "  \n",
        "data = initilialize_population()\n",
        "ga = pyeasyga.GeneticAlgorithm(seed_data=data,\n",
        "                               population_size=2,\n",
        "                               generations=2,\n",
        "                               crossover_probability=0.8,\n",
        "                               mutation_probability=0.4,\n",
        "                               elitism=True,\n",
        "                               maximise_fitness=True)\n",
        "ga.create_individual = create_individual\n",
        "ga.fitness_function = fitness_function\n",
        "\n",
        "start = time.time()\n",
        "ga.run()\n",
        "end = time.time()\n",
        "print('Time taken ------>', end-start)"
      ],
      "execution_count": 20,
      "outputs": [
        {
          "output_type": "stream",
          "text": [
            "Using TensorFlow backend.\n"
          ],
          "name": "stderr"
        },
        {
          "output_type": "stream",
          "text": [
            "Individual no 1\n",
            "Epoch 1/20\n",
            "116/116 [==============================] - 2s 21ms/step - loss: 1.7654 - sparse_categorical_accuracy: 0.5797 - val_loss: 1.1822 - val_sparse_categorical_accuracy: 0.8303\n",
            "Epoch 2/20\n",
            "116/116 [==============================] - 2s 17ms/step - loss: 0.7377 - sparse_categorical_accuracy: 0.8880 - val_loss: 0.4132 - val_sparse_categorical_accuracy: 0.9348\n",
            "Epoch 3/20\n",
            "116/116 [==============================] - 2s 17ms/step - loss: 0.2918 - sparse_categorical_accuracy: 0.9524 - val_loss: 0.1958 - val_sparse_categorical_accuracy: 0.9659\n",
            "Epoch 4/20\n",
            "116/116 [==============================] - 2s 18ms/step - loss: 0.1588 - sparse_categorical_accuracy: 0.9721 - val_loss: 0.1250 - val_sparse_categorical_accuracy: 0.9738\n",
            "Epoch 5/20\n",
            "116/116 [==============================] - 2s 17ms/step - loss: 0.1066 - sparse_categorical_accuracy: 0.9801 - val_loss: 0.0954 - val_sparse_categorical_accuracy: 0.9768\n",
            "Epoch 6/20\n",
            "116/116 [==============================] - 2s 17ms/step - loss: 0.0811 - sparse_categorical_accuracy: 0.9843 - val_loss: 0.0801 - val_sparse_categorical_accuracy: 0.9790\n",
            "Epoch 7/20\n",
            "116/116 [==============================] - 2s 17ms/step - loss: 0.0666 - sparse_categorical_accuracy: 0.9853 - val_loss: 0.0710 - val_sparse_categorical_accuracy: 0.9804\n",
            "Epoch 8/20\n",
            "116/116 [==============================] - 2s 17ms/step - loss: 0.0561 - sparse_categorical_accuracy: 0.9880 - val_loss: 0.0656 - val_sparse_categorical_accuracy: 0.9806\n",
            "Epoch 9/20\n",
            "116/116 [==============================] - 2s 17ms/step - loss: 0.0486 - sparse_categorical_accuracy: 0.9894 - val_loss: 0.0617 - val_sparse_categorical_accuracy: 0.9812\n",
            "Epoch 10/20\n",
            "116/116 [==============================] - 2s 17ms/step - loss: 0.0424 - sparse_categorical_accuracy: 0.9902 - val_loss: 0.0589 - val_sparse_categorical_accuracy: 0.9817\n",
            "Epoch 11/20\n",
            "116/116 [==============================] - 2s 17ms/step - loss: 0.0378 - sparse_categorical_accuracy: 0.9916 - val_loss: 0.0566 - val_sparse_categorical_accuracy: 0.9820\n",
            "Epoch 12/20\n",
            "116/116 [==============================] - 2s 17ms/step - loss: 0.0339 - sparse_categorical_accuracy: 0.9933 - val_loss: 0.0552 - val_sparse_categorical_accuracy: 0.9823\n",
            "Epoch 13/20\n",
            "116/116 [==============================] - 2s 17ms/step - loss: 0.0308 - sparse_categorical_accuracy: 0.9935 - val_loss: 0.0536 - val_sparse_categorical_accuracy: 0.9829\n",
            "Epoch 14/20\n",
            "116/116 [==============================] - 2s 17ms/step - loss: 0.0273 - sparse_categorical_accuracy: 0.9945 - val_loss: 0.0529 - val_sparse_categorical_accuracy: 0.9828\n",
            "Epoch 15/20\n",
            "116/116 [==============================] - 2s 17ms/step - loss: 0.0249 - sparse_categorical_accuracy: 0.9944 - val_loss: 0.0519 - val_sparse_categorical_accuracy: 0.9832\n",
            "Epoch 16/20\n",
            "116/116 [==============================] - 2s 17ms/step - loss: 0.0226 - sparse_categorical_accuracy: 0.9956 - val_loss: 0.0516 - val_sparse_categorical_accuracy: 0.9831\n",
            "Epoch 17/20\n",
            "116/116 [==============================] - 2s 17ms/step - loss: 0.0194 - sparse_categorical_accuracy: 0.9968 - val_loss: 0.0511 - val_sparse_categorical_accuracy: 0.9837\n",
            "Epoch 18/20\n",
            "116/116 [==============================] - 2s 17ms/step - loss: 0.0185 - sparse_categorical_accuracy: 0.9962 - val_loss: 0.0509 - val_sparse_categorical_accuracy: 0.9834\n",
            "Epoch 19/20\n",
            "116/116 [==============================] - 2s 17ms/step - loss: 0.0168 - sparse_categorical_accuracy: 0.9972 - val_loss: 0.0507 - val_sparse_categorical_accuracy: 0.9837\n",
            "Epoch 20/20\n",
            "116/116 [==============================] - 2s 17ms/step - loss: 0.0151 - sparse_categorical_accuracy: 0.9974 - val_loss: 0.0503 - val_sparse_categorical_accuracy: 0.9837\n",
            "2084/2084 [==============================] - 6s 3ms/step - loss: 0.0489 - sparse_categorical_accuracy: 0.9842\n",
            "Score is 0.9842352867126465\n",
            "Individual no 2\n",
            "Epoch 1/20\n",
            "116/116 [==============================] - 2s 20ms/step - loss: 1.5897 - sparse_categorical_accuracy: 0.6761 - val_loss: 0.8876 - val_sparse_categorical_accuracy: 0.8819\n",
            "Epoch 2/20\n",
            "116/116 [==============================] - 2s 17ms/step - loss: 0.5063 - sparse_categorical_accuracy: 0.9264 - val_loss: 0.2735 - val_sparse_categorical_accuracy: 0.9522\n",
            "Epoch 3/20\n",
            "116/116 [==============================] - 2s 16ms/step - loss: 0.1962 - sparse_categorical_accuracy: 0.9654 - val_loss: 0.1445 - val_sparse_categorical_accuracy: 0.9710\n",
            "Epoch 4/20\n",
            "116/116 [==============================] - 2s 17ms/step - loss: 0.1155 - sparse_categorical_accuracy: 0.9775 - val_loss: 0.1020 - val_sparse_categorical_accuracy: 0.9759\n",
            "Epoch 5/20\n",
            "116/116 [==============================] - 2s 17ms/step - loss: 0.0822 - sparse_categorical_accuracy: 0.9828 - val_loss: 0.0827 - val_sparse_categorical_accuracy: 0.9786\n",
            "Epoch 6/20\n",
            "116/116 [==============================] - 2s 17ms/step - loss: 0.0646 - sparse_categorical_accuracy: 0.9860 - val_loss: 0.0717 - val_sparse_categorical_accuracy: 0.9800\n",
            "Epoch 7/20\n",
            "116/116 [==============================] - 2s 17ms/step - loss: 0.0526 - sparse_categorical_accuracy: 0.9891 - val_loss: 0.0652 - val_sparse_categorical_accuracy: 0.9813\n",
            "Epoch 8/20\n",
            "116/116 [==============================] - 2s 17ms/step - loss: 0.0448 - sparse_categorical_accuracy: 0.9909 - val_loss: 0.0609 - val_sparse_categorical_accuracy: 0.9817\n",
            "Epoch 9/20\n",
            "116/116 [==============================] - 2s 17ms/step - loss: 0.0371 - sparse_categorical_accuracy: 0.9928 - val_loss: 0.0579 - val_sparse_categorical_accuracy: 0.9824\n",
            "Epoch 10/20\n",
            "116/116 [==============================] - 2s 17ms/step - loss: 0.0338 - sparse_categorical_accuracy: 0.9929 - val_loss: 0.0557 - val_sparse_categorical_accuracy: 0.9827\n",
            "Epoch 11/20\n",
            "116/116 [==============================] - 2s 17ms/step - loss: 0.0288 - sparse_categorical_accuracy: 0.9940 - val_loss: 0.0544 - val_sparse_categorical_accuracy: 0.9830\n",
            "Epoch 12/20\n",
            "116/116 [==============================] - 2s 17ms/step - loss: 0.0254 - sparse_categorical_accuracy: 0.9948 - val_loss: 0.0533 - val_sparse_categorical_accuracy: 0.9831\n",
            "Epoch 13/20\n",
            "116/116 [==============================] - 2s 17ms/step - loss: 0.0219 - sparse_categorical_accuracy: 0.9960 - val_loss: 0.0526 - val_sparse_categorical_accuracy: 0.9833\n",
            "Epoch 14/20\n",
            "116/116 [==============================] - 2s 17ms/step - loss: 0.0192 - sparse_categorical_accuracy: 0.9964 - val_loss: 0.0520 - val_sparse_categorical_accuracy: 0.9834\n",
            "Epoch 15/20\n",
            "116/116 [==============================] - 2s 16ms/step - loss: 0.0166 - sparse_categorical_accuracy: 0.9972 - val_loss: 0.0518 - val_sparse_categorical_accuracy: 0.9835\n",
            "Epoch 16/20\n",
            "116/116 [==============================] - 2s 17ms/step - loss: 0.0148 - sparse_categorical_accuracy: 0.9976 - val_loss: 0.0514 - val_sparse_categorical_accuracy: 0.9838\n",
            "Epoch 17/20\n",
            "116/116 [==============================] - 2s 17ms/step - loss: 0.0134 - sparse_categorical_accuracy: 0.9980 - val_loss: 0.0509 - val_sparse_categorical_accuracy: 0.9840\n",
            "Epoch 18/20\n",
            "116/116 [==============================] - 2s 17ms/step - loss: 0.0117 - sparse_categorical_accuracy: 0.9988 - val_loss: 0.0515 - val_sparse_categorical_accuracy: 0.9837\n",
            "Epoch 19/20\n",
            "116/116 [==============================] - 2s 17ms/step - loss: 0.0099 - sparse_categorical_accuracy: 0.9993 - val_loss: 0.0511 - val_sparse_categorical_accuracy: 0.9840\n",
            "Epoch 20/20\n",
            "116/116 [==============================] - 2s 17ms/step - loss: 0.0087 - sparse_categorical_accuracy: 0.9991 - val_loss: 0.0510 - val_sparse_categorical_accuracy: 0.9842\n",
            "2084/2084 [==============================] - 6s 3ms/step - loss: 0.0507 - sparse_categorical_accuracy: 0.9840\n",
            "Score is 0.9839802980422974\n",
            "Individual no 3\n",
            "Epoch 1/20\n",
            "116/116 [==============================] - 3s 23ms/step - loss: 1.7530 - sparse_categorical_accuracy: 0.5843 - val_loss: 1.1696 - val_sparse_categorical_accuracy: 0.8220\n",
            "Epoch 2/20\n",
            "116/116 [==============================] - 2s 19ms/step - loss: 0.7291 - sparse_categorical_accuracy: 0.8803 - val_loss: 0.4054 - val_sparse_categorical_accuracy: 0.9355\n",
            "Epoch 3/20\n",
            "116/116 [==============================] - 2s 19ms/step - loss: 0.2845 - sparse_categorical_accuracy: 0.9541 - val_loss: 0.1935 - val_sparse_categorical_accuracy: 0.9650\n",
            "Epoch 4/20\n",
            "116/116 [==============================] - 2s 19ms/step - loss: 0.1557 - sparse_categorical_accuracy: 0.9731 - val_loss: 0.1248 - val_sparse_categorical_accuracy: 0.9738\n",
            "Epoch 5/20\n",
            "116/116 [==============================] - 2s 18ms/step - loss: 0.1067 - sparse_categorical_accuracy: 0.9793 - val_loss: 0.0956 - val_sparse_categorical_accuracy: 0.9775\n",
            "Epoch 6/20\n",
            "116/116 [==============================] - 2s 17ms/step - loss: 0.0826 - sparse_categorical_accuracy: 0.9835 - val_loss: 0.0803 - val_sparse_categorical_accuracy: 0.9794\n",
            "Epoch 7/20\n",
            "116/116 [==============================] - 2s 17ms/step - loss: 0.0677 - sparse_categorical_accuracy: 0.9854 - val_loss: 0.0709 - val_sparse_categorical_accuracy: 0.9810\n",
            "Epoch 8/20\n",
            "116/116 [==============================] - 2s 17ms/step - loss: 0.0577 - sparse_categorical_accuracy: 0.9868 - val_loss: 0.0650 - val_sparse_categorical_accuracy: 0.9817\n",
            "Epoch 9/20\n",
            "116/116 [==============================] - 2s 17ms/step - loss: 0.0491 - sparse_categorical_accuracy: 0.9895 - val_loss: 0.0611 - val_sparse_categorical_accuracy: 0.9824\n",
            "Epoch 10/20\n",
            "116/116 [==============================] - 2s 17ms/step - loss: 0.0432 - sparse_categorical_accuracy: 0.9910 - val_loss: 0.0580 - val_sparse_categorical_accuracy: 0.9828\n",
            "Epoch 11/20\n",
            "116/116 [==============================] - 2s 17ms/step - loss: 0.0376 - sparse_categorical_accuracy: 0.9922 - val_loss: 0.0558 - val_sparse_categorical_accuracy: 0.9832\n",
            "Epoch 12/20\n",
            "116/116 [==============================] - 2s 17ms/step - loss: 0.0340 - sparse_categorical_accuracy: 0.9932 - val_loss: 0.0543 - val_sparse_categorical_accuracy: 0.9835\n",
            "Epoch 13/20\n",
            "116/116 [==============================] - 2s 17ms/step - loss: 0.0306 - sparse_categorical_accuracy: 0.9934 - val_loss: 0.0529 - val_sparse_categorical_accuracy: 0.9836\n",
            "Epoch 14/20\n",
            "116/116 [==============================] - 2s 17ms/step - loss: 0.0272 - sparse_categorical_accuracy: 0.9933 - val_loss: 0.0518 - val_sparse_categorical_accuracy: 0.9839\n",
            "Epoch 15/20\n",
            "116/116 [==============================] - 2s 17ms/step - loss: 0.0242 - sparse_categorical_accuracy: 0.9946 - val_loss: 0.0515 - val_sparse_categorical_accuracy: 0.9837\n",
            "Epoch 16/20\n",
            "116/116 [==============================] - 2s 17ms/step - loss: 0.0221 - sparse_categorical_accuracy: 0.9962 - val_loss: 0.0510 - val_sparse_categorical_accuracy: 0.9839\n",
            "Epoch 17/20\n",
            "116/116 [==============================] - 2s 17ms/step - loss: 0.0209 - sparse_categorical_accuracy: 0.9955 - val_loss: 0.0506 - val_sparse_categorical_accuracy: 0.9840\n",
            "Epoch 18/20\n",
            "116/116 [==============================] - 2s 17ms/step - loss: 0.0181 - sparse_categorical_accuracy: 0.9968 - val_loss: 0.0505 - val_sparse_categorical_accuracy: 0.9841\n",
            "Epoch 19/20\n",
            "116/116 [==============================] - 2s 16ms/step - loss: 0.0172 - sparse_categorical_accuracy: 0.9970 - val_loss: 0.0500 - val_sparse_categorical_accuracy: 0.9841\n",
            "Epoch 20/20\n",
            "116/116 [==============================] - 2s 19ms/step - loss: 0.0149 - sparse_categorical_accuracy: 0.9976 - val_loss: 0.0499 - val_sparse_categorical_accuracy: 0.9843\n",
            "2084/2084 [==============================] - 6s 3ms/step - loss: 0.0486 - sparse_categorical_accuracy: 0.9840\n",
            "Score is 0.9839653372764587\n",
            "Individual no 4\n",
            "Epoch 1/20\n",
            "116/116 [==============================] - 2s 21ms/step - loss: 1.7459 - sparse_categorical_accuracy: 0.6055 - val_loss: 1.1536 - val_sparse_categorical_accuracy: 0.8304\n",
            "Epoch 2/20\n",
            "116/116 [==============================] - 2s 17ms/step - loss: 0.7232 - sparse_categorical_accuracy: 0.8727 - val_loss: 0.4196 - val_sparse_categorical_accuracy: 0.9223\n",
            "Epoch 3/20\n",
            "116/116 [==============================] - 2s 17ms/step - loss: 0.3008 - sparse_categorical_accuracy: 0.9444 - val_loss: 0.2071 - val_sparse_categorical_accuracy: 0.9597\n",
            "Epoch 4/20\n",
            "116/116 [==============================] - 2s 17ms/step - loss: 0.1666 - sparse_categorical_accuracy: 0.9703 - val_loss: 0.1323 - val_sparse_categorical_accuracy: 0.9741\n",
            "Epoch 5/20\n",
            "116/116 [==============================] - 2s 17ms/step - loss: 0.1129 - sparse_categorical_accuracy: 0.9779 - val_loss: 0.1002 - val_sparse_categorical_accuracy: 0.9773\n",
            "Epoch 6/20\n",
            "116/116 [==============================] - 2s 17ms/step - loss: 0.0856 - sparse_categorical_accuracy: 0.9818 - val_loss: 0.0834 - val_sparse_categorical_accuracy: 0.9792\n",
            "Epoch 7/20\n",
            "116/116 [==============================] - 2s 17ms/step - loss: 0.0698 - sparse_categorical_accuracy: 0.9847 - val_loss: 0.0737 - val_sparse_categorical_accuracy: 0.9805\n",
            "Epoch 8/20\n",
            "116/116 [==============================] - 2s 17ms/step - loss: 0.0583 - sparse_categorical_accuracy: 0.9878 - val_loss: 0.0675 - val_sparse_categorical_accuracy: 0.9810\n",
            "Epoch 9/20\n",
            "116/116 [==============================] - 2s 17ms/step - loss: 0.0504 - sparse_categorical_accuracy: 0.9878 - val_loss: 0.0629 - val_sparse_categorical_accuracy: 0.9819\n",
            "Epoch 10/20\n",
            "116/116 [==============================] - 2s 17ms/step - loss: 0.0442 - sparse_categorical_accuracy: 0.9906 - val_loss: 0.0597 - val_sparse_categorical_accuracy: 0.9824\n",
            "Epoch 11/20\n",
            "116/116 [==============================] - 2s 16ms/step - loss: 0.0386 - sparse_categorical_accuracy: 0.9910 - val_loss: 0.0572 - val_sparse_categorical_accuracy: 0.9829\n",
            "Epoch 12/20\n",
            "116/116 [==============================] - 2s 17ms/step - loss: 0.0351 - sparse_categorical_accuracy: 0.9924 - val_loss: 0.0552 - val_sparse_categorical_accuracy: 0.9832\n",
            "Epoch 13/20\n",
            "116/116 [==============================] - 2s 17ms/step - loss: 0.0319 - sparse_categorical_accuracy: 0.9926 - val_loss: 0.0540 - val_sparse_categorical_accuracy: 0.9834\n",
            "Epoch 14/20\n",
            "116/116 [==============================] - 2s 17ms/step - loss: 0.0285 - sparse_categorical_accuracy: 0.9935 - val_loss: 0.0531 - val_sparse_categorical_accuracy: 0.9835\n",
            "Epoch 15/20\n",
            "116/116 [==============================] - 2s 17ms/step - loss: 0.0249 - sparse_categorical_accuracy: 0.9955 - val_loss: 0.0520 - val_sparse_categorical_accuracy: 0.9837\n",
            "Epoch 16/20\n",
            "116/116 [==============================] - 2s 17ms/step - loss: 0.0223 - sparse_categorical_accuracy: 0.9960 - val_loss: 0.0519 - val_sparse_categorical_accuracy: 0.9835\n",
            "Epoch 17/20\n",
            "116/116 [==============================] - 2s 17ms/step - loss: 0.0210 - sparse_categorical_accuracy: 0.9959 - val_loss: 0.0510 - val_sparse_categorical_accuracy: 0.9839\n",
            "Epoch 18/20\n",
            "116/116 [==============================] - 2s 17ms/step - loss: 0.0188 - sparse_categorical_accuracy: 0.9968 - val_loss: 0.0507 - val_sparse_categorical_accuracy: 0.9838\n",
            "Epoch 19/20\n",
            "116/116 [==============================] - 2s 16ms/step - loss: 0.0169 - sparse_categorical_accuracy: 0.9975 - val_loss: 0.0505 - val_sparse_categorical_accuracy: 0.9839\n",
            "Epoch 20/20\n",
            "116/116 [==============================] - 2s 19ms/step - loss: 0.0154 - sparse_categorical_accuracy: 0.9972 - val_loss: 0.0502 - val_sparse_categorical_accuracy: 0.9841\n",
            "2084/2084 [==============================] - 7s 3ms/step - loss: 0.0488 - sparse_categorical_accuracy: 0.9843\n",
            "Score is 0.9843403100967407\n",
            "Time taken ------> 196.32330417633057\n"
          ],
          "name": "stdout"
        }
      ]
    },
    {
      "cell_type": "code",
      "metadata": {
        "id": "MU62XsCXnOj4",
        "colab_type": "code",
        "outputId": "aadcea26-6abf-4b20-b94c-1a5aa3d680ed",
        "colab": {
          "base_uri": "https://localhost:8080/",
          "height": 51
        }
      },
      "source": [
        "best_parameters = ga.best_individual()[1]\n",
        "for index,i in enumerate(data):\n",
        "  print(i[best_parameters[index]])\n",
        "\n",
        "print(ga.best_individual()[0])"
      ],
      "execution_count": 21,
      "outputs": [
        {
          "output_type": "stream",
          "text": [
            "70\n",
            "0.9843403100967407\n"
          ],
          "name": "stdout"
        }
      ]
    },
    {
      "cell_type": "markdown",
      "metadata": {
        "id": "Q5feYcZI8Xqf",
        "colab_type": "text"
      },
      "source": [
        "# Building RNN Model"
      ]
    },
    {
      "cell_type": "code",
      "metadata": {
        "id": "7ZfW_PApTWrB",
        "colab_type": "code",
        "outputId": "64ca3ccf-bd26-4329-abdd-4a6fd7570658",
        "colab": {
          "base_uri": "https://localhost:8080/",
          "height": 1000
        }
      },
      "source": [
        "# design network\n",
        "model = Sequential()\n",
        "model.add(LSTM(data[0][best_parameters[0]], input_shape=input_shape, return_sequences=False))\n",
        "model.add(Dropout(0.25))\n",
        "\n",
        "model.add(Dense(9, activation='softmax'))\n",
        "model.compile(loss=loss, optimizer='adam', metrics=metrics)\n",
        "model.summary()\n",
        "\n",
        "# fit network\n",
        "history = model.fit(X_train, np.array(y_train), validation_data=(xx_val, np.array(yy_val)), \n",
        "                    epochs=25,verbose=1)"
      ],
      "execution_count": 22,
      "outputs": [
        {
          "output_type": "stream",
          "text": [
            "Model: \"sequential_4\"\n",
            "_________________________________________________________________\n",
            "Layer (type)                 Output Shape              Param #   \n",
            "=================================================================\n",
            "lstm_4 (LSTM)                (None, 70)                42840     \n",
            "_________________________________________________________________\n",
            "dropout_4 (Dropout)          (None, 70)                0         \n",
            "_________________________________________________________________\n",
            "dense_4 (Dense)              (None, 9)                 639       \n",
            "=================================================================\n",
            "Total params: 43,479\n",
            "Trainable params: 43,479\n",
            "Non-trainable params: 0\n",
            "_________________________________________________________________\n",
            "Epoch 1/25\n",
            "463/463 [==============================] - 8s 17ms/step - loss: 0.9780 - sparse_categorical_accuracy: 0.7897 - val_loss: 0.2136 - val_sparse_categorical_accuracy: 0.9616\n",
            "Epoch 2/25\n",
            "463/463 [==============================] - 8s 16ms/step - loss: 0.1339 - sparse_categorical_accuracy: 0.9717 - val_loss: 0.0863 - val_sparse_categorical_accuracy: 0.9781\n",
            "Epoch 3/25\n",
            "463/463 [==============================] - 8s 16ms/step - loss: 0.0707 - sparse_categorical_accuracy: 0.9832 - val_loss: 0.0644 - val_sparse_categorical_accuracy: 0.9817\n",
            "Epoch 4/25\n",
            "463/463 [==============================] - 8s 16ms/step - loss: 0.0501 - sparse_categorical_accuracy: 0.9871 - val_loss: 0.0563 - val_sparse_categorical_accuracy: 0.9828\n",
            "Epoch 5/25\n",
            "463/463 [==============================] - 8s 16ms/step - loss: 0.0394 - sparse_categorical_accuracy: 0.9897 - val_loss: 0.0525 - val_sparse_categorical_accuracy: 0.9833\n",
            "Epoch 6/25\n",
            "463/463 [==============================] - 8s 16ms/step - loss: 0.0313 - sparse_categorical_accuracy: 0.9925 - val_loss: 0.0500 - val_sparse_categorical_accuracy: 0.9838\n",
            "Epoch 7/25\n",
            "463/463 [==============================] - 8s 16ms/step - loss: 0.0243 - sparse_categorical_accuracy: 0.9945 - val_loss: 0.0486 - val_sparse_categorical_accuracy: 0.9841\n",
            "Epoch 8/25\n",
            "463/463 [==============================] - 8s 16ms/step - loss: 0.0189 - sparse_categorical_accuracy: 0.9953 - val_loss: 0.0489 - val_sparse_categorical_accuracy: 0.9841\n",
            "Epoch 9/25\n",
            "463/463 [==============================] - 8s 16ms/step - loss: 0.0161 - sparse_categorical_accuracy: 0.9965 - val_loss: 0.0491 - val_sparse_categorical_accuracy: 0.9841\n",
            "Epoch 10/25\n",
            "463/463 [==============================] - 8s 16ms/step - loss: 0.0123 - sparse_categorical_accuracy: 0.9974 - val_loss: 0.0488 - val_sparse_categorical_accuracy: 0.9841\n",
            "Epoch 11/25\n",
            "463/463 [==============================] - 8s 16ms/step - loss: 0.0121 - sparse_categorical_accuracy: 0.9975 - val_loss: 0.0496 - val_sparse_categorical_accuracy: 0.9842\n",
            "Epoch 12/25\n",
            "463/463 [==============================] - 8s 16ms/step - loss: 0.0092 - sparse_categorical_accuracy: 0.9986 - val_loss: 0.0507 - val_sparse_categorical_accuracy: 0.9843\n",
            "Epoch 13/25\n",
            "463/463 [==============================] - 8s 16ms/step - loss: 0.0075 - sparse_categorical_accuracy: 0.9987 - val_loss: 0.0501 - val_sparse_categorical_accuracy: 0.9846\n",
            "Epoch 14/25\n",
            "463/463 [==============================] - 8s 16ms/step - loss: 0.0074 - sparse_categorical_accuracy: 0.9987 - val_loss: 0.0515 - val_sparse_categorical_accuracy: 0.9846\n",
            "Epoch 15/25\n",
            "463/463 [==============================] - 8s 16ms/step - loss: 0.0051 - sparse_categorical_accuracy: 0.9996 - val_loss: 0.0517 - val_sparse_categorical_accuracy: 0.9851\n",
            "Epoch 16/25\n",
            "463/463 [==============================] - 8s 16ms/step - loss: 0.0049 - sparse_categorical_accuracy: 0.9993 - val_loss: 0.0527 - val_sparse_categorical_accuracy: 0.9851\n",
            "Epoch 17/25\n",
            "463/463 [==============================] - 8s 16ms/step - loss: 0.0044 - sparse_categorical_accuracy: 0.9993 - val_loss: 0.0546 - val_sparse_categorical_accuracy: 0.9847\n",
            "Epoch 18/25\n",
            "463/463 [==============================] - 8s 16ms/step - loss: 0.0035 - sparse_categorical_accuracy: 0.9994 - val_loss: 0.0548 - val_sparse_categorical_accuracy: 0.9848\n",
            "Epoch 19/25\n",
            "463/463 [==============================] - 8s 16ms/step - loss: 0.0037 - sparse_categorical_accuracy: 0.9995 - val_loss: 0.0567 - val_sparse_categorical_accuracy: 0.9844\n",
            "Epoch 20/25\n",
            "463/463 [==============================] - 8s 16ms/step - loss: 0.0028 - sparse_categorical_accuracy: 0.9995 - val_loss: 0.0572 - val_sparse_categorical_accuracy: 0.9844\n",
            "Epoch 21/25\n",
            "463/463 [==============================] - 8s 16ms/step - loss: 0.0028 - sparse_categorical_accuracy: 0.9998 - val_loss: 0.0578 - val_sparse_categorical_accuracy: 0.9844\n",
            "Epoch 22/25\n",
            "463/463 [==============================] - 8s 16ms/step - loss: 0.0026 - sparse_categorical_accuracy: 0.9998 - val_loss: 0.0575 - val_sparse_categorical_accuracy: 0.9845\n",
            "Epoch 23/25\n",
            "463/463 [==============================] - 8s 16ms/step - loss: 0.0021 - sparse_categorical_accuracy: 0.9998 - val_loss: 0.0592 - val_sparse_categorical_accuracy: 0.9847\n",
            "Epoch 24/25\n",
            "463/463 [==============================] - 8s 16ms/step - loss: 0.0018 - sparse_categorical_accuracy: 0.9998 - val_loss: 0.0607 - val_sparse_categorical_accuracy: 0.9847\n",
            "Epoch 25/25\n",
            "463/463 [==============================] - 8s 16ms/step - loss: 0.0015 - sparse_categorical_accuracy: 0.9999 - val_loss: 0.0608 - val_sparse_categorical_accuracy: 0.9846\n"
          ],
          "name": "stdout"
        }
      ]
    },
    {
      "cell_type": "code",
      "metadata": {
        "id": "OhNCqRoLyP_W",
        "colab_type": "code",
        "colab": {
          "base_uri": "https://localhost:8080/",
          "height": 68
        },
        "outputId": "cf6bd8e8-0b38-4267-8a37-89937ad9eef3"
      },
      "source": [
        "score = model.evaluate(xx_test, np.array(yy_test), verbose=1)\n",
        "print('Test loss:', score[0])\n",
        "print('Test accuracy:', score[1])"
      ],
      "execution_count": 23,
      "outputs": [
        {
          "output_type": "stream",
          "text": [
            "2084/2084 [==============================] - 6s 3ms/step - loss: 0.0602 - sparse_categorical_accuracy: 0.9847\n",
            "Test loss: 0.06022864952683449\n",
            "Test accuracy: 0.9846853017807007\n"
          ],
          "name": "stdout"
        }
      ]
    },
    {
      "cell_type": "code",
      "metadata": {
        "id": "jRjH7zIgyqZZ",
        "colab_type": "code",
        "colab": {}
      },
      "source": [
        "if len(np.array(y_test).shape) == 1:\n",
        "  y_test = [x+1 for x in y_test]\n",
        "  y_train = [x+1 for x in y_train]"
      ],
      "execution_count": 0,
      "outputs": []
    },
    {
      "cell_type": "code",
      "metadata": {
        "id": "lLzZL5wJTZg1",
        "colab_type": "code",
        "outputId": "b07b471f-7fd8-4b30-c999-2f54be16af7c",
        "colab": {
          "base_uri": "https://localhost:8080/",
          "height": 590
        }
      },
      "source": [
        "pred = X.reshape((X.shape[0], 1, X.shape[1]))\n",
        "\n",
        "\n",
        "\n",
        "Y_pred_test = model.predict(pred)\n",
        "y_pred_test = np.argmax(Y_pred_test, axis=1)\n",
        "\n",
        "from sklearn.metrics import accuracy_score\n",
        "from sklearn.metrics import classification_report\n",
        "import matplotlib.pyplot as plt\n",
        "print(accuracy_score(y, y_pred_test)*100)\n",
        "\n",
        "#= summarize history for accuracy\n",
        "plt.plot(history.history['sparse_categorical_accuracy'])\n",
        "plt.plot(history.history['val_sparse_categorical_accuracy'])\n",
        "plt.title('model accuracy')\n",
        "plt.ylabel('accuracy')\n",
        "plt.xlabel('epoch')\n",
        "plt.legend(['train', 'test'], loc='upper left')\n",
        "plt.show()\n",
        "# summarize history for loss\n",
        "plt.plot(history.history['loss'])\n",
        "plt.plot(history.history['val_loss'])\n",
        "plt.title('model loss')\n",
        "plt.ylabel('loss')\n",
        "plt.xlabel('epoch')\n",
        "plt.legend(['train', 'test'], loc='upper left')\n",
        "plt.show()"
      ],
      "execution_count": 28,
      "outputs": [
        {
          "output_type": "stream",
          "text": [
            "0.4279388735892867\n"
          ],
          "name": "stdout"
        },
        {
          "output_type": "display_data",
          "data": {
            "image/png": "[encoded data removed]",
            "text/plain": [
              "<Figure size 432x288 with 1 Axes>"
            ]
          },
          "metadata": {
            "tags": [],
            "needs_background": "light"
          }
        },
        {
          "output_type": "display_data",
          "data": {
            "image/png": "[encoded data removed]",
            "text/plain": [
              "<Figure size 432x288 with 1 Axes>"
            ]
          },
          "metadata": {
            "tags": [],
            "needs_background": "light"
          }
        }
      ]
    },
    {
      "cell_type": "code",
      "metadata": {
        "id": "wSbfsGcrYMnK",
        "colab_type": "code",
        "colab": {}
      },
      "source": [
        ""
      ],
      "execution_count": 0,
      "outputs": []
    }
  ]
}